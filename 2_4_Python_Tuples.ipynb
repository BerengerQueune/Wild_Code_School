{
  "nbformat": 4,
  "nbformat_minor": 0,
  "metadata": {
    "colab": {
      "name": "2.4 Python - Tuples.ipynb",
      "provenance": [],
      "collapsed_sections": [],
      "include_colab_link": true
    },
    "kernelspec": {
      "name": "python3",
      "display_name": "Python 3"
    }
  },
  "cells": [
    {
      "cell_type": "markdown",
      "metadata": {
        "id": "view-in-github",
        "colab_type": "text"
      },
      "source": [
        "<a href=\"https://colab.research.google.com/github/BerengerQueune/wild_notebooks/blob/main/2_4_Python_Tuples.ipynb\" target=\"_parent\"><img src=\"https://colab.research.google.com/assets/colab-badge.svg\" alt=\"Open In Colab\"/></a>"
      ]
    },
    {
      "cell_type": "markdown",
      "metadata": {
        "id": "LoJw-LlCTnWF"
      },
      "source": [
        "# Mission 1\n",
        "\n",
        "Create a tuple of your choice containing 10 elements in this order:\n",
        "- 3 integers\n",
        "- 3 strings\n",
        "- 2 lists containing 3 items each\n",
        "- 2 dictionaries containing 3 items (3 key/value pairs) each\n",
        "\n",
        "Now, access the second-to-last item in the second list."
      ]
    },
    {
      "cell_type": "code",
      "metadata": {
        "id": "C2Lk113KSPUO",
        "colab": {
          "base_uri": "https://localhost:8080/"
        },
        "outputId": "ba56a40e-b8fa-4cfb-beea-70a34f49aed8"
      },
      "source": [
        "iHateThis = (1, 2, 3, \"lol\", \"relol\", \"rerelol\", [4, 5, 6], [7, 8, 9], {\"Sangoku\": 10, \"Billy\": 11, \"Jimmy\": 12}, {\"Vegeta\": 13, \"Freezer\": 14, \"Yamcha\": 15})\n",
        "print (iHateThis[7][1])"
      ],
      "execution_count": null,
      "outputs": [
        {
          "output_type": "stream",
          "name": "stdout",
          "text": [
            "8\n"
          ]
        }
      ]
    },
    {
      "cell_type": "markdown",
      "metadata": {
        "id": "HGoGFI9qxuzW"
      },
      "source": [
        "# Mission 2\n",
        "\n",
        "In the same tuple, access the last 4 elements using slicing"
      ]
    },
    {
      "cell_type": "code",
      "metadata": {
        "id": "qk097m4Zx4mR",
        "colab": {
          "base_uri": "https://localhost:8080/"
        },
        "outputId": "40c79609-c050-4b42-88b2-94c91ed19792"
      },
      "source": [
        "print (iHateThis[-1: -5: -1])"
      ],
      "execution_count": null,
      "outputs": [
        {
          "output_type": "stream",
          "name": "stdout",
          "text": [
            "({'Vegeta': 13, 'Freezer': 14, 'Yamcha': 15}, {'Sangoku': 10, 'Billy': 11, 'Jimmy': 12}, [7, 8, 9], [4, 5, 6])\n"
          ]
        }
      ]
    },
    {
      "cell_type": "markdown",
      "metadata": {
        "id": "iVHJFx3Px8mY"
      },
      "source": [
        "# Mission 3\n",
        "\n",
        "Change the value of the 4th element (the 1st string) of your tuple (oh yes it's possible!)"
      ]
    },
    {
      "cell_type": "code",
      "metadata": {
        "colab": {
          "base_uri": "https://localhost:8080/"
        },
        "id": "KXxvLpP8fZxR",
        "outputId": "9ab07b7c-2148-422c-90f1-9fdf2d9b07c4"
      },
      "source": [
        "iHateThisReally = list(iHateThis)\n",
        "iHateThisReally[3] = \"Hahahahahaha\"\n",
        "print (iHateThisReally)"
      ],
      "execution_count": null,
      "outputs": [
        {
          "output_type": "stream",
          "name": "stdout",
          "text": [
            "[1, 2, 3, 'Hahahahahaha', 'relol', 'rerelol', [4, 5, 6], [7, 8, 9], {'Sangoku': 10, 'Billy': 11, 'Jimmy': 12}, {'Vegeta': 13, 'Freezer': 14, 'Yamcha': 15}]\n"
          ]
        }
      ]
    },
    {
      "cell_type": "markdown",
      "metadata": {
        "id": "Wp3_jhWS2Foi"
      },
      "source": [
        "# Mission 4\n",
        "\n",
        "Create 2 tuples that contain only integers.\n",
        "Create a script that compares them to each other and indicates which one of the tuples returns the highest total value after adding all their values together. "
      ]
    },
    {
      "cell_type": "code",
      "metadata": {
        "id": "dGMYxaMWx8RO",
        "colab": {
          "base_uri": "https://localhost:8080/"
        },
        "outputId": "5dbe9bd2-ed50-42bb-de34-3c7519234f7a"
      },
      "source": [
        "Tuple1 = (1, 2)\n",
        "tuple2 = (3, 4)\n",
        "countTuple1 = 0\n",
        "countTuple2 = 0\n",
        "\n",
        "for i in range (len(Tuple1)):\n",
        "  countTuple1 += Tuple1[i]\n",
        "\n",
        "for i in range (len(tuple2)):\n",
        "  countTuple2 += tuple2[i]\n",
        "\n",
        "if countTuple1 > countTuple2:\n",
        "  print (\"The first tuple return the highest value\")\n",
        "else:\n",
        "  print (\"The second tuple return the highest value\")"
      ],
      "execution_count": null,
      "outputs": [
        {
          "output_type": "stream",
          "name": "stdout",
          "text": [
            "The second tuple return the highest value\n"
          ]
        }
      ]
    },
    {
      "cell_type": "markdown",
      "metadata": {
        "id": "Zmk8uviVzPBZ"
      },
      "source": [
        "# Mission 5\n",
        "\n",
        "Here's a tuple:\n",
        "\n",
        "my_tuple = (\"data analyst\", \"data scientist\", \"data engineer\", \"data architect\")\n",
        "\n",
        "Create a script that allows you to change one of the values of \"my_tuple\" by indicating the position of the value you want to change, as well as the new value."
      ]
    },
    {
      "cell_type": "code",
      "metadata": {
        "id": "0o-MuRyZ1_7u",
        "colab": {
          "base_uri": "https://localhost:8080/"
        },
        "outputId": "fef2aa5a-c390-413d-ffb0-12fd7e435ae1"
      },
      "source": [
        "my_tuple = (\"data analyst\", \"data scientist\", \"data engineer\", \"data architect\")\n",
        "my_list_tuple = list(my_tuple)\n",
        "indexList = (int(input('Choose the position of the value you want to change ')))\n",
        "if indexList > len(my_tuple):\n",
        "  while indexList > len(my_tuple):\n",
        "    print(\"This position is out of range, 3 is the maximum here!\")\n",
        "    indexList = (int(input('Choose the position of the value you want to change ')))\n",
        "my_list_tuple[indexList] = input('Choose the value ')\n",
        "print (my_list_tuple)"
      ],
      "execution_count": null,
      "outputs": [
        {
          "output_type": "stream",
          "name": "stdout",
          "text": [
            "Choose the position of the value you want to change 10\n",
            "This position is out of range, 3 is the maximum here!\n",
            "Choose the position of the value you want to change 10\n",
            "This position is out of range, 3 is the maximum here!\n",
            "Choose the position of the value you want to change 3\n",
            "Choose the value 1\n",
            "['data analyst', 'data scientist', 'data engineer', '1']\n"
          ]
        }
      ]
    }
  ]
}