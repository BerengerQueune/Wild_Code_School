{
  "cells": [
    {
      "cell_type": "markdown",
      "metadata": {
        "id": "HdEYWh631-Pk"
      },
      "source": [
        "##### Pour valider ce challenge, tu dois répondre aux questions ci-dessous en trouvant la Regex qui te permet d'obtenir le résultat attendu."
      ]
    },
    {
      "cell_type": "markdown",
      "metadata": {
        "id": "-hK3f5OA934q"
      },
      "source": [
        "Texte à utiliser pour ce challenge :\n",
        "\n",
        "\"Matrix (31/03/1999) - 130 minutes. IMDB note 9/10 (https://www.imdb.com/title/tt0133093). Thomas A. Anderson (Keanu Reeves), un jeune informaticien connu dans le monde du hacking sous le pseudonyme de Neo, est contacté via son ordinateur par ce qu’il pense être un groupe de hackers. Ils lui font découvrir que le monde dans lequel il vit n’est qu’un monde virtuel, la matrice, dans lequel les êtres humains sont gardés sous contrôle. Morpheus (Laurence Fishburne), le capitaine du Nebuchadnezzar, contacte Neo et pense que celui-ci est l’Élu qui peut libérer les êtres humains du joug des machines et prendre le contrôle de la matrice\""
      ]
    },
    {
      "cell_type": "markdown",
      "metadata": {
        "id": "7ypmXLUO9_3u"
      },
      "source": [
        "Copie le texte ci-dessus affecte le à une variable appelée 'texte'. Tu as vu quelques fonctions du module re dans la quête, et pour répondre aux questions ci-dessous, tu utiliseras la fonctions findall()"
      ]
    },
    {
      "cell_type": "code",
      "execution_count": null,
      "metadata": {
        "id": "aEshEWo_AlGo"
      },
      "outputs": [],
      "source": [
        "texte = \"Matrix (31/03/1999) - 130 minutes. IMDB note 9/10 (https://www.imdb.com/title/tt0133093). Thomas A. Anderson (Keanu Reeves), un jeune informaticien connu dans le monde du hacking sous le pseudonyme de Neo, est contacté via son ordinateur par ce qu’il pense être un groupe de hackers. Ils lui font découvrir que le monde dans lequel il vit n’est qu’un monde virtuel, la matrice, dans lequel les êtres humains sont gardés sous contrôle. Morpheus (Laurence Fishburne), le capitaine du Nebuchadnezzar, contacte Neo et pense que celui-ci est l’Élu qui peut libérer les êtres humains du joug des machines et prendre le contrôle de la matrice\"\n"
      ]
    },
    {
      "cell_type": "code",
      "execution_count": null,
      "metadata": {
        "colab": {
          "base_uri": "https://localhost:8080/"
        },
        "id": "46a6Cna87K5R",
        "outputId": "6abdb02a-0738-407e-88cd-7d8dfb6a0a7e"
      },
      "outputs": [
        {
          "data": {
            "text/plain": [
              "['31', '03', '1999', '130', '9', '10', '0133093']"
            ]
          },
          "execution_count": 3,
          "metadata": {},
          "output_type": "execute_result"
        }
      ],
      "source": [
        "# Exemple : je recherche toutes les suites de chiffres ('31', '03', '1999', '130', '9', '10', '0133093') contenues dans le texte\n",
        "\n",
        "import re\n",
        "re.findall('\\d+', texte)"
      ]
    },
    {
      "cell_type": "markdown",
      "metadata": {
        "id": "Y29t2o8G05fl"
      },
      "source": [
        "1. Trouve l'expression régulière qui cherche la seule occurrence du deuxième prénom de Néo (soit le A. de \"Thomas A. Anderson)."
      ]
    },
    {
      "cell_type": "code",
      "execution_count": null,
      "metadata": {
        "colab": {
          "base_uri": "https://localhost:8080/"
        },
        "id": "NP2M31zXILjD",
        "outputId": "695f686d-985d-4848-dba5-c0c68bd47d00"
      },
      "outputs": [
        {
          "data": {
            "text/plain": [
              "['A.']"
            ]
          },
          "execution_count": 4,
          "metadata": {},
          "output_type": "execute_result"
        }
      ],
      "source": [
        "re.findall(\"A\\.\", texte)"
      ]
    },
    {
      "cell_type": "markdown",
      "metadata": {
        "id": "u3WCnUokAjKH"
      },
      "source": [
        "2. Trouve l'expression régulière qui cherche la date contenue dans le document."
      ]
    },
    {
      "cell_type": "code",
      "execution_count": null,
      "metadata": {
        "colab": {
          "base_uri": "https://localhost:8080/"
        },
        "id": "JMB8jDUqIM7-",
        "outputId": "e50f4507-ede1-4552-eda3-b1885ef76c66"
      },
      "outputs": [
        {
          "data": {
            "text/plain": [
              "['31/03/1999']"
            ]
          },
          "execution_count": 5,
          "metadata": {},
          "output_type": "execute_result"
        }
      ],
      "source": [
        "re.findall(\"(\\d+/\\d+/\\d+)\", texte)"
      ]
    },
    {
      "cell_type": "markdown",
      "metadata": {
        "id": "SrLTfLE-BTLG"
      },
      "source": [
        "3. Trouve l'expression qui cherche la note contenue dans le texte, sans pour autant sélectionner une partie de la date (tu peux t'aider du caractère espace avant la note)"
      ]
    },
    {
      "cell_type": "code",
      "execution_count": null,
      "metadata": {
        "colab": {
          "base_uri": "https://localhost:8080/"
        },
        "id": "B45gxTdpIOEp",
        "outputId": "a793b5aa-67ba-4348-bbe3-143d22db41b5"
      },
      "outputs": [
        {
          "data": {
            "text/plain": [
              "[' 9/10']"
            ]
          },
          "execution_count": 6,
          "metadata": {},
          "output_type": "execute_result"
        }
      ],
      "source": [
        "re.findall(\"( \\d+/\\d+)\", texte)"
      ]
    },
    {
      "cell_type": "markdown",
      "metadata": {
        "id": "_aOfPMjhDtfe"
      },
      "source": [
        "4. Trouve l'expression régulière qui renvoie les mots ayant au moins 14 caractères (tu devrais trouver l'age du capitaine, à moins que ça ne soit son vaisseau !)"
      ]
    },
    {
      "cell_type": "code",
      "execution_count": null,
      "metadata": {
        "colab": {
          "base_uri": "https://localhost:8080/"
        },
        "id": "iTl4CVwkIPEE",
        "outputId": "454bb5fa-87e8-4307-f1ba-a69f05222575"
      },
      "outputs": [
        {
          "data": {
            "text/plain": [
              "['Nebuchadnezzar']"
            ]
          },
          "execution_count": 7,
          "metadata": {},
          "output_type": "execute_result"
        }
      ],
      "source": [
        "re.findall(r\"\\b[a-zA-Z]{14}\\b\", texte)"
      ]
    },
    {
      "cell_type": "markdown",
      "metadata": {
        "id": "UhC4JFKFEHig"
      },
      "source": [
        "5. Trouve l'expression régulière qui correspond à l'url de la fiche du film sur IMDB https://www.imdb.com/title/tt0133093 (attention à ne pas sélectionner les parenthèses)"
      ]
    },
    {
      "cell_type": "code",
      "execution_count": null,
      "metadata": {
        "colab": {
          "base_uri": "https://localhost:8080/",
          "height": 35
        },
        "id": "MrmyRNCbIQuM",
        "outputId": "1ba6b1b8-286a-4b16-da14-5ca6e9069bc5"
      },
      "outputs": [
        {
          "data": {
            "application/vnd.google.colaboratory.intrinsic+json": {
              "type": "string"
            },
            "text/plain": [
              "'https://www.imdb.com/title/tt0133093'"
            ]
          },
          "execution_count": 9,
          "metadata": {},
          "output_type": "execute_result"
        }
      ],
      "source": [
        "re.search(r\"(?i)\\b((?:https?://|www\\d{0,3}[.]|[a-z0-9.\\-]+[.][a-z]{2,4}/)(?:[^\\s()<>]+|\\(([^\\s()<>]+|(\\([^\\s()<>]+\\)))*\\))+(?:\\(([^\\s()<>]+|(\\([^\\s()<>]+\\)))*\\)|[^\\s`!()\\[\\]{};:'\\\".,<>?«»“”‘’]))\", texte)[0]"
      ]
    }
  ],
  "metadata": {
    "colab": {
      "collapsed_sections": [],
      "name": "Regex python - Challenge - Berenger.ipynb",
      "provenance": []
    },
    "kernelspec": {
      "display_name": "Python 3",
      "name": "python3"
    },
    "language_info": {
      "name": "python"
    }
  },
  "nbformat": 4,
  "nbformat_minor": 0
}
