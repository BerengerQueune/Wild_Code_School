{
  "nbformat": 4,
  "nbformat_minor": 0,
  "metadata": {
    "colab": {
      "name": "SQL and Python - Berenger.ipynb",
      "provenance": [],
      "collapsed_sections": []
    },
    "kernelspec": {
      "name": "python3",
      "display_name": "Python 3"
    }
  },
  "cells": [
    {
      "cell_type": "markdown",
      "metadata": {
        "id": "8issOq94JffF"
      },
      "source": [
        "# Introduction\n",
        "\n",
        "SQL is based on a client-server architecture. \n",
        "\n",
        "\n",
        "Python can connect with every SQL databases (Oracle MySQL, Microsoft, etc...). SQLite is a little bit particular : it is a little file, who can play the server role, without username and password. It will be helpful for this quest. But keep in mind that you could connect your Python script with other databases, following the same steps."
      ]
    },
    {
      "cell_type": "code",
      "metadata": {
        "id": "0O5FRHymZMWb",
        "colab": {
          "base_uri": "https://localhost:8080/"
        },
        "outputId": "018e17e8-8f8f-49bf-8636-0e884fd8cd9f"
      },
      "source": [
        "# Here we just import the SQLite file. This part is specific for SQLite.\n",
        "import requests\n",
        "r = requests.get('https://raw.githubusercontent.com/murpi/wilddata/master/quests/toys_and_models.sqlite')\n",
        "open('toys_and_models.sqlite', 'wb').write(r.content)"
      ],
      "execution_count": null,
      "outputs": [
        {
          "output_type": "execute_result",
          "data": {
            "text/plain": [
              "307200"
            ]
          },
          "metadata": {},
          "execution_count": 1
        }
      ]
    },
    {
      "cell_type": "code",
      "metadata": {
        "id": "gkcJBWOPU10l"
      },
      "source": [
        "# This part is common : we have to initiate a connection between Python and the SQL Database\n",
        "import sqlite3\n",
        "\n",
        "# This is the \"connector\". For secured database, it will be here that  you indicate your username and password.\n",
        "conn = sqlite3.connect('toys_and_models.sqlite')\n",
        "\n",
        "# This is the \"cursor\". A cursor is an object that can execute a query and retrieve the content of the result.\n",
        "cursor = conn.cursor()\n"
      ],
      "execution_count": null,
      "outputs": []
    },
    {
      "cell_type": "code",
      "metadata": {
        "id": "yWk2u9vtVASQ",
        "colab": {
          "base_uri": "https://localhost:8080/"
        },
        "outputId": "4e146a16-1076-4495-ff90-07d18a06b549"
      },
      "source": [
        "# You can execute a query.\n",
        "# The result is returned line by line. You can \"fetch all\" lines.\n",
        "cursor.execute(\"select * from productlines\").fetchall()"
      ],
      "execution_count": null,
      "outputs": [
        {
          "output_type": "execute_result",
          "data": {
            "text/plain": [
              "[('Classic Cars',\n",
              "  'Attention car enthusiasts: Make your wildest car ownership dreams come true. Whether you are looking for classic muscle cars, dream sports cars or movie-inspired miniatures, you will find great choices in this category. These replicas feature superb attention to detail and craftsmanship and offer features such as working steering system, opening forward compartment, opening rear trunk with removable spare wheel, 4-wheel independent spring suspension, and so on. The models range in size from 1:10 to 1:24 scale and include numerous limited edition and several out-of-production vehicles. All models include a certificate of authenticity from their manufacturers and come fully assembled and ready for display in the home or office.',\n",
              "  None,\n",
              "  None),\n",
              " ('Motorcycles',\n",
              "  'Our motorcycles are state of the art replicas of classic as well as contemporary motorcycle legends such as Harley Davidson, Ducati and Vespa. Models contain stunning details such as official logos, rotating wheels, working kickstand, front suspension, gear-shift lever, footbrake lever, and drive chain. Materials used include diecast and plastic. The models range in size from 1:10 to 1:50 scale and include numerous limited edition and several out-of-production vehicles. All models come fully assembled and ready for display in the home or office. Most include a certificate of authenticity.',\n",
              "  None,\n",
              "  None),\n",
              " ('Planes',\n",
              "  'Unique, diecast airplane and helicopter replicas suitable for collections, as well as home, office or classroom decorations. Models contain stunning details such as official logos and insignias, rotating jet engines and propellers, retractable wheels, and so on. Most come fully assembled and with a certificate of authenticity from their manufacturers.',\n",
              "  None,\n",
              "  None),\n",
              " ('Ships',\n",
              "  'The perfect holiday or anniversary gift for executives, clients, friends, and family. These handcrafted model ships are unique, stunning works of art that will be treasured for generations! They come fully assembled and ready for display in the home or office. We guarantee the highest quality, and best value.',\n",
              "  None,\n",
              "  None),\n",
              " ('Trains',\n",
              "  'Model trains are a rewarding hobby for enthusiasts of all ages. Whether youre looking for collectible wooden trains, electric streetcars or locomotives, youll find a number of great choices for any budget within this category. The interactive aspect of trains makes toy trains perfect for young children. The wooden train sets are ideal for children under the age of 5.',\n",
              "  None,\n",
              "  None),\n",
              " ('Trucks and Buses',\n",
              "  'The Truck and Bus models are realistic replicas of buses and specialized trucks produced from the early 1920s to present. The models range in size from 1:12 to 1:50 scale and include numerous limited edition and several out-of-production vehicles. Materials used include tin, diecast and plastic. All models include a certificate of authenticity from their manufacturers and are a perfect ornament for the home and office.',\n",
              "  None,\n",
              "  None),\n",
              " ('Vintage Cars',\n",
              "  'Our Vintage Car models realistically portray automobiles produced from the early 1900s through the 1940s. Materials used include Bakelite, diecast, plastic and wood. Most of the replicas are in the 1:18 and 1:24 scale sizes, which provide the optimum in detail and accuracy. Prices range from $30.00 up to $180.00 for some special limited edition replicas. All models include a certificate of authenticity from their manufacturers and come fully assembled and ready for display in the home or office.',\n",
              "  None,\n",
              "  None)]"
            ]
          },
          "metadata": {},
          "execution_count": 3
        }
      ]
    },
    {
      "cell_type": "code",
      "metadata": {
        "id": "m2IQIeQtVJo2",
        "colab": {
          "base_uri": "https://localhost:8080/",
          "height": 269
        },
        "outputId": "83be6640-668f-420e-cc35-f697074db862"
      },
      "source": [
        "# Pandas can import the result of a query\n",
        "import pandas as pd\n",
        "pd.DataFrame(cursor.execute(\"select * from productlines\").fetchall())"
      ],
      "execution_count": null,
      "outputs": [
        {
          "output_type": "execute_result",
          "data": {
            "text/html": [
              "<div>\n",
              "<style scoped>\n",
              "    .dataframe tbody tr th:only-of-type {\n",
              "        vertical-align: middle;\n",
              "    }\n",
              "\n",
              "    .dataframe tbody tr th {\n",
              "        vertical-align: top;\n",
              "    }\n",
              "\n",
              "    .dataframe thead th {\n",
              "        text-align: right;\n",
              "    }\n",
              "</style>\n",
              "<table border=\"1\" class=\"dataframe\">\n",
              "  <thead>\n",
              "    <tr style=\"text-align: right;\">\n",
              "      <th></th>\n",
              "      <th>0</th>\n",
              "      <th>1</th>\n",
              "      <th>2</th>\n",
              "      <th>3</th>\n",
              "    </tr>\n",
              "  </thead>\n",
              "  <tbody>\n",
              "    <tr>\n",
              "      <th>0</th>\n",
              "      <td>Classic Cars</td>\n",
              "      <td>Attention car enthusiasts: Make your wildest c...</td>\n",
              "      <td>None</td>\n",
              "      <td>None</td>\n",
              "    </tr>\n",
              "    <tr>\n",
              "      <th>1</th>\n",
              "      <td>Motorcycles</td>\n",
              "      <td>Our motorcycles are state of the art replicas ...</td>\n",
              "      <td>None</td>\n",
              "      <td>None</td>\n",
              "    </tr>\n",
              "    <tr>\n",
              "      <th>2</th>\n",
              "      <td>Planes</td>\n",
              "      <td>Unique, diecast airplane and helicopter replic...</td>\n",
              "      <td>None</td>\n",
              "      <td>None</td>\n",
              "    </tr>\n",
              "    <tr>\n",
              "      <th>3</th>\n",
              "      <td>Ships</td>\n",
              "      <td>The perfect holiday or anniversary gift for ex...</td>\n",
              "      <td>None</td>\n",
              "      <td>None</td>\n",
              "    </tr>\n",
              "    <tr>\n",
              "      <th>4</th>\n",
              "      <td>Trains</td>\n",
              "      <td>Model trains are a rewarding hobby for enthusi...</td>\n",
              "      <td>None</td>\n",
              "      <td>None</td>\n",
              "    </tr>\n",
              "    <tr>\n",
              "      <th>5</th>\n",
              "      <td>Trucks and Buses</td>\n",
              "      <td>The Truck and Bus models are realistic replica...</td>\n",
              "      <td>None</td>\n",
              "      <td>None</td>\n",
              "    </tr>\n",
              "    <tr>\n",
              "      <th>6</th>\n",
              "      <td>Vintage Cars</td>\n",
              "      <td>Our Vintage Car models realistically portray a...</td>\n",
              "      <td>None</td>\n",
              "      <td>None</td>\n",
              "    </tr>\n",
              "  </tbody>\n",
              "</table>\n",
              "</div>"
            ],
            "text/plain": [
              "                  0  ...     3\n",
              "0      Classic Cars  ...  None\n",
              "1       Motorcycles  ...  None\n",
              "2            Planes  ...  None\n",
              "3             Ships  ...  None\n",
              "4            Trains  ...  None\n",
              "5  Trucks and Buses  ...  None\n",
              "6      Vintage Cars  ...  None\n",
              "\n",
              "[7 rows x 4 columns]"
            ]
          },
          "metadata": {},
          "execution_count": 4
        }
      ]
    },
    {
      "cell_type": "code",
      "metadata": {
        "id": "rB6VwtNWJVEC",
        "colab": {
          "base_uri": "https://localhost:8080/",
          "height": 269
        },
        "outputId": "18e8bc1c-60ab-4e76-d1b4-c5bcf8d32860"
      },
      "source": [
        "# But it could be easier : you can use the pandas read_sql function.\n",
        "pd.read_sql(\"select * from productlines\", conn)"
      ],
      "execution_count": null,
      "outputs": [
        {
          "output_type": "execute_result",
          "data": {
            "text/html": [
              "<div>\n",
              "<style scoped>\n",
              "    .dataframe tbody tr th:only-of-type {\n",
              "        vertical-align: middle;\n",
              "    }\n",
              "\n",
              "    .dataframe tbody tr th {\n",
              "        vertical-align: top;\n",
              "    }\n",
              "\n",
              "    .dataframe thead th {\n",
              "        text-align: right;\n",
              "    }\n",
              "</style>\n",
              "<table border=\"1\" class=\"dataframe\">\n",
              "  <thead>\n",
              "    <tr style=\"text-align: right;\">\n",
              "      <th></th>\n",
              "      <th>productLine</th>\n",
              "      <th>textDescription</th>\n",
              "      <th>htmlDescription</th>\n",
              "      <th>image</th>\n",
              "    </tr>\n",
              "  </thead>\n",
              "  <tbody>\n",
              "    <tr>\n",
              "      <th>0</th>\n",
              "      <td>Classic Cars</td>\n",
              "      <td>Attention car enthusiasts: Make your wildest c...</td>\n",
              "      <td>None</td>\n",
              "      <td>None</td>\n",
              "    </tr>\n",
              "    <tr>\n",
              "      <th>1</th>\n",
              "      <td>Motorcycles</td>\n",
              "      <td>Our motorcycles are state of the art replicas ...</td>\n",
              "      <td>None</td>\n",
              "      <td>None</td>\n",
              "    </tr>\n",
              "    <tr>\n",
              "      <th>2</th>\n",
              "      <td>Planes</td>\n",
              "      <td>Unique, diecast airplane and helicopter replic...</td>\n",
              "      <td>None</td>\n",
              "      <td>None</td>\n",
              "    </tr>\n",
              "    <tr>\n",
              "      <th>3</th>\n",
              "      <td>Ships</td>\n",
              "      <td>The perfect holiday or anniversary gift for ex...</td>\n",
              "      <td>None</td>\n",
              "      <td>None</td>\n",
              "    </tr>\n",
              "    <tr>\n",
              "      <th>4</th>\n",
              "      <td>Trains</td>\n",
              "      <td>Model trains are a rewarding hobby for enthusi...</td>\n",
              "      <td>None</td>\n",
              "      <td>None</td>\n",
              "    </tr>\n",
              "    <tr>\n",
              "      <th>5</th>\n",
              "      <td>Trucks and Buses</td>\n",
              "      <td>The Truck and Bus models are realistic replica...</td>\n",
              "      <td>None</td>\n",
              "      <td>None</td>\n",
              "    </tr>\n",
              "    <tr>\n",
              "      <th>6</th>\n",
              "      <td>Vintage Cars</td>\n",
              "      <td>Our Vintage Car models realistically portray a...</td>\n",
              "      <td>None</td>\n",
              "      <td>None</td>\n",
              "    </tr>\n",
              "  </tbody>\n",
              "</table>\n",
              "</div>"
            ],
            "text/plain": [
              "        productLine  ... image\n",
              "0      Classic Cars  ...  None\n",
              "1       Motorcycles  ...  None\n",
              "2            Planes  ...  None\n",
              "3             Ships  ...  None\n",
              "4            Trains  ...  None\n",
              "5  Trucks and Buses  ...  None\n",
              "6      Vintage Cars  ...  None\n",
              "\n",
              "[7 rows x 4 columns]"
            ]
          },
          "metadata": {},
          "execution_count": 5
        }
      ]
    },
    {
      "cell_type": "code",
      "metadata": {
        "id": "42eFSkYpXyeH",
        "colab": {
          "base_uri": "https://localhost:8080/",
          "height": 300
        },
        "outputId": "9170cc75-e371-4e57-eb04-71e0be1d404e"
      },
      "source": [
        "# Here is the schema of the database\n",
        "pd.read_sql(\"SELECT * FROM sqlite_master where type = 'table'\", conn)"
      ],
      "execution_count": null,
      "outputs": [
        {
          "output_type": "execute_result",
          "data": {
            "text/html": [
              "<div>\n",
              "<style scoped>\n",
              "    .dataframe tbody tr th:only-of-type {\n",
              "        vertical-align: middle;\n",
              "    }\n",
              "\n",
              "    .dataframe tbody tr th {\n",
              "        vertical-align: top;\n",
              "    }\n",
              "\n",
              "    .dataframe thead th {\n",
              "        text-align: right;\n",
              "    }\n",
              "</style>\n",
              "<table border=\"1\" class=\"dataframe\">\n",
              "  <thead>\n",
              "    <tr style=\"text-align: right;\">\n",
              "      <th></th>\n",
              "      <th>type</th>\n",
              "      <th>name</th>\n",
              "      <th>tbl_name</th>\n",
              "      <th>rootpage</th>\n",
              "      <th>sql</th>\n",
              "    </tr>\n",
              "  </thead>\n",
              "  <tbody>\n",
              "    <tr>\n",
              "      <th>0</th>\n",
              "      <td>table</td>\n",
              "      <td>customers</td>\n",
              "      <td>customers</td>\n",
              "      <td>2</td>\n",
              "      <td>CREATE TABLE `customers` (\\n  `customerNumber`...</td>\n",
              "    </tr>\n",
              "    <tr>\n",
              "      <th>1</th>\n",
              "      <td>table</td>\n",
              "      <td>employees</td>\n",
              "      <td>employees</td>\n",
              "      <td>8</td>\n",
              "      <td>CREATE TABLE `employees` (\\n  `employeeNumber`...</td>\n",
              "    </tr>\n",
              "    <tr>\n",
              "      <th>2</th>\n",
              "      <td>table</td>\n",
              "      <td>offices</td>\n",
              "      <td>offices</td>\n",
              "      <td>10</td>\n",
              "      <td>CREATE TABLE `offices` (\\n  `officeCode` varch...</td>\n",
              "    </tr>\n",
              "    <tr>\n",
              "      <th>3</th>\n",
              "      <td>table</td>\n",
              "      <td>orderdetails</td>\n",
              "      <td>orderdetails</td>\n",
              "      <td>12</td>\n",
              "      <td>CREATE TABLE `orderdetails` (\\n  `orderNumber`...</td>\n",
              "    </tr>\n",
              "    <tr>\n",
              "      <th>4</th>\n",
              "      <td>table</td>\n",
              "      <td>orders</td>\n",
              "      <td>orders</td>\n",
              "      <td>49</td>\n",
              "      <td>CREATE TABLE `orders` (\\n  `orderNumber` int(1...</td>\n",
              "    </tr>\n",
              "    <tr>\n",
              "      <th>5</th>\n",
              "      <td>table</td>\n",
              "      <td>payments</td>\n",
              "      <td>payments</td>\n",
              "      <td>57</td>\n",
              "      <td>CREATE TABLE `payments` (\\n  `customerNumber` ...</td>\n",
              "    </tr>\n",
              "    <tr>\n",
              "      <th>6</th>\n",
              "      <td>table</td>\n",
              "      <td>productlines</td>\n",
              "      <td>productlines</td>\n",
              "      <td>64</td>\n",
              "      <td>CREATE TABLE `productlines` (\\n  `productLine`...</td>\n",
              "    </tr>\n",
              "    <tr>\n",
              "      <th>7</th>\n",
              "      <td>table</td>\n",
              "      <td>products</td>\n",
              "      <td>products</td>\n",
              "      <td>66</td>\n",
              "      <td>CREATE TABLE `products` (\\n  `productCode` var...</td>\n",
              "    </tr>\n",
              "  </tbody>\n",
              "</table>\n",
              "</div>"
            ],
            "text/plain": [
              "    type  ...                                                sql\n",
              "0  table  ...  CREATE TABLE `customers` (\\n  `customerNumber`...\n",
              "1  table  ...  CREATE TABLE `employees` (\\n  `employeeNumber`...\n",
              "2  table  ...  CREATE TABLE `offices` (\\n  `officeCode` varch...\n",
              "3  table  ...  CREATE TABLE `orderdetails` (\\n  `orderNumber`...\n",
              "4  table  ...  CREATE TABLE `orders` (\\n  `orderNumber` int(1...\n",
              "5  table  ...  CREATE TABLE `payments` (\\n  `customerNumber` ...\n",
              "6  table  ...  CREATE TABLE `productlines` (\\n  `productLine`...\n",
              "7  table  ...  CREATE TABLE `products` (\\n  `productCode` var...\n",
              "\n",
              "[8 rows x 5 columns]"
            ]
          },
          "metadata": {},
          "execution_count": 6
        }
      ]
    },
    {
      "cell_type": "markdown",
      "metadata": {
        "id": "Bo7f0F72OeIQ"
      },
      "source": [
        "![Texte alternatif…](https://sp.mysqltutorial.org/wp-content/uploads/2009/12/MySQL-Sample-Database-Schema.png)"
      ]
    },
    {
      "cell_type": "markdown",
      "metadata": {
        "id": "bo0X_LdZRWnI"
      },
      "source": [
        "# It's your turn\n",
        "\n",
        "- First you have to create a DataFrame with the 5 most ordered productcodes\n",
        "- Then you have to create a second DataFrame with stocks by products\n",
        "- Finally, you will make a merge (with Pandas) between both DataFrame to display the stocks of the 5 most ordered products "
      ]
    },
    {
      "cell_type": "code",
      "metadata": {
        "id": "wESXZ3N8YngK",
        "colab": {
          "base_uri": "https://localhost:8080/",
          "height": 238
        },
        "outputId": "7f8ff350-cbe8-45dc-e96d-63f9e4f7376e"
      },
      "source": [
        "# Your code here :\n",
        "\n",
        "df_most_ordered_product = pd.read_sql(\"select productCode, SUM(quantityOrdered) AS quantityOrdered from orderdetails GROUP BY productCode ORDER BY quantityOrdered DESC\", conn).set_index(\"productCode\").head()\n",
        "df_stock = pd.read_sql(\"select productCode, quantityInStock from products\", conn).set_index(\"productCode\")\n",
        "df_final = pd.merge(df_most_ordered_product, df_stock, how='inner', left_index=True, right_index=True)\n",
        "df_final"
      ],
      "execution_count": null,
      "outputs": [
        {
          "output_type": "execute_result",
          "data": {
            "text/html": [
              "<div>\n",
              "<style scoped>\n",
              "    .dataframe tbody tr th:only-of-type {\n",
              "        vertical-align: middle;\n",
              "    }\n",
              "\n",
              "    .dataframe tbody tr th {\n",
              "        vertical-align: top;\n",
              "    }\n",
              "\n",
              "    .dataframe thead th {\n",
              "        text-align: right;\n",
              "    }\n",
              "</style>\n",
              "<table border=\"1\" class=\"dataframe\">\n",
              "  <thead>\n",
              "    <tr style=\"text-align: right;\">\n",
              "      <th></th>\n",
              "      <th>quantityOrdered</th>\n",
              "      <th>quantityInStock</th>\n",
              "    </tr>\n",
              "    <tr>\n",
              "      <th>productCode</th>\n",
              "      <th></th>\n",
              "      <th></th>\n",
              "    </tr>\n",
              "  </thead>\n",
              "  <tbody>\n",
              "    <tr>\n",
              "      <th>S18_3232</th>\n",
              "      <td>1561</td>\n",
              "      <td>8347</td>\n",
              "    </tr>\n",
              "    <tr>\n",
              "      <th>S18_1342</th>\n",
              "      <td>960</td>\n",
              "      <td>8693</td>\n",
              "    </tr>\n",
              "    <tr>\n",
              "      <th>S12_1108</th>\n",
              "      <td>950</td>\n",
              "      <td>3619</td>\n",
              "    </tr>\n",
              "    <tr>\n",
              "      <th>S18_2949</th>\n",
              "      <td>949</td>\n",
              "      <td>4189</td>\n",
              "    </tr>\n",
              "    <tr>\n",
              "      <th>S18_4600</th>\n",
              "      <td>947</td>\n",
              "      <td>3128</td>\n",
              "    </tr>\n",
              "  </tbody>\n",
              "</table>\n",
              "</div>"
            ],
            "text/plain": [
              "             quantityOrdered  quantityInStock\n",
              "productCode                                  \n",
              "S18_3232                1561             8347\n",
              "S18_1342                 960             8693\n",
              "S12_1108                 950             3619\n",
              "S18_2949                 949             4189\n",
              "S18_4600                 947             3128"
            ]
          },
          "metadata": {},
          "execution_count": 73
        }
      ]
    },
    {
      "cell_type": "markdown",
      "metadata": {
        "id": "0yB3On40Yppo"
      },
      "source": [
        "Good, but not optimized. Your \"merge\" with pandas is pretty the same as the \"join\" in SQL. Moreover, your script has to download the whole product stocks table. \n",
        "\n",
        "So, now, you have to write a SQL query to have directly the stocks of the 5 most ordered products. (So, you have to \"join\" both tables in the SQL Query)"
      ]
    },
    {
      "cell_type": "code",
      "metadata": {
        "id": "2O3fMSleZTq5",
        "colab": {
          "base_uri": "https://localhost:8080/",
          "height": 206
        },
        "outputId": "d159a2f2-1464-4b75-e3f4-347f57c268fe"
      },
      "source": [
        "# Your code here :\n",
        "\n",
        "pd.read_sql(\"select products.productCode, SUM(quantityOrdered) AS quantityOrdered, quantityInStock from orderdetails JOIN products ON products.productCode = orderdetails.productCode GROUP BY products.productCode ORDER BY quantityOrdered DESC LIMIT 5\", conn)"
      ],
      "execution_count": null,
      "outputs": [
        {
          "output_type": "execute_result",
          "data": {
            "text/html": [
              "<div>\n",
              "<style scoped>\n",
              "    .dataframe tbody tr th:only-of-type {\n",
              "        vertical-align: middle;\n",
              "    }\n",
              "\n",
              "    .dataframe tbody tr th {\n",
              "        vertical-align: top;\n",
              "    }\n",
              "\n",
              "    .dataframe thead th {\n",
              "        text-align: right;\n",
              "    }\n",
              "</style>\n",
              "<table border=\"1\" class=\"dataframe\">\n",
              "  <thead>\n",
              "    <tr style=\"text-align: right;\">\n",
              "      <th></th>\n",
              "      <th>productCode</th>\n",
              "      <th>quantityOrdered</th>\n",
              "      <th>quantityInStock</th>\n",
              "    </tr>\n",
              "  </thead>\n",
              "  <tbody>\n",
              "    <tr>\n",
              "      <th>0</th>\n",
              "      <td>S18_3232</td>\n",
              "      <td>1561</td>\n",
              "      <td>8347</td>\n",
              "    </tr>\n",
              "    <tr>\n",
              "      <th>1</th>\n",
              "      <td>S18_1342</td>\n",
              "      <td>960</td>\n",
              "      <td>8693</td>\n",
              "    </tr>\n",
              "    <tr>\n",
              "      <th>2</th>\n",
              "      <td>S12_1108</td>\n",
              "      <td>950</td>\n",
              "      <td>3619</td>\n",
              "    </tr>\n",
              "    <tr>\n",
              "      <th>3</th>\n",
              "      <td>S18_2949</td>\n",
              "      <td>949</td>\n",
              "      <td>4189</td>\n",
              "    </tr>\n",
              "    <tr>\n",
              "      <th>4</th>\n",
              "      <td>S18_4600</td>\n",
              "      <td>947</td>\n",
              "      <td>3128</td>\n",
              "    </tr>\n",
              "  </tbody>\n",
              "</table>\n",
              "</div>"
            ],
            "text/plain": [
              "  productCode  quantityOrdered  quantityInStock\n",
              "0    S18_3232             1561             8347\n",
              "1    S18_1342              960             8693\n",
              "2    S12_1108              950             3619\n",
              "3    S18_2949              949             4189\n",
              "4    S18_4600              947             3128"
            ]
          },
          "metadata": {},
          "execution_count": 94
        }
      ]
    },
    {
      "cell_type": "markdown",
      "metadata": {
        "id": "G1ctfvgPZWRw"
      },
      "source": [
        "Both methods have same results ? Congrats ! "
      ]
    },
    {
      "cell_type": "markdown",
      "metadata": {
        "id": "sib7wKtwxVbc"
      },
      "source": [
        "# Go forward\n",
        "\n",
        "If you want, you can try to connect to the MySQL Server with your computer. To do this, you need to have MySQL Server on your computer, and to execute your python script from your computer too (so on Jupyterlab or on Spyder, **but not on google colab**).\n",
        "Below, script to connect to your MySQL Server.\n",
        "And here, [the SQL script to execute](https://drive.google.com/file/d/1wXu5t7bahLhbGXOT6uCTOVLjPH-2oQ_d/view?usp=sharing) in the workbench if you don't have the database."
      ]
    },
    {
      "cell_type": "code",
      "metadata": {
        "id": "ozcNAdjygJw3",
        "colab": {
          "base_uri": "https://localhost:8080/"
        },
        "outputId": "da1111ad-433a-45d1-b7a3-093036c18adc"
      },
      "source": [
        "!pip install mysql-connector-python"
      ],
      "execution_count": null,
      "outputs": [
        {
          "output_type": "stream",
          "name": "stdout",
          "text": [
            "Collecting mysql-connector-python\n",
            "  Downloading mysql_connector_python-8.0.27-cp37-cp37m-manylinux1_x86_64.whl (38.0 MB)\n",
            "\u001b[K     |████████████████████████████████| 38.0 MB 1.3 MB/s \n",
            "\u001b[?25hRequirement already satisfied: protobuf>=3.0.0 in /usr/local/lib/python3.7/dist-packages (from mysql-connector-python) (3.17.3)\n",
            "Requirement already satisfied: six>=1.9 in /usr/local/lib/python3.7/dist-packages (from protobuf>=3.0.0->mysql-connector-python) (1.15.0)\n",
            "Installing collected packages: mysql-connector-python\n",
            "Successfully installed mysql-connector-python-8.0.27\n"
          ]
        }
      ]
    },
    {
      "cell_type": "code",
      "metadata": {
        "id": "xz8ozY2b0KEi",
        "colab": {
          "base_uri": "https://localhost:8080/",
          "height": 433
        },
        "outputId": "3128ba82-eaf3-47f9-f92f-859b373eb13a"
      },
      "source": [
        "import mysql.connector\n",
        "import pandas as pd\n",
        "\n",
        "# Please replace by your user and your password\n",
        "conn = mysql.connector.connect(user='YOUR_USERNAME', password='YOUR_PASSWORD',\n",
        "                              host='localhost',\n",
        "                              database='toys_and_models')\n",
        "\n",
        "pd.read_sql('select * from orders', conn)"
      ],
      "execution_count": null,
      "outputs": [
        {
          "output_type": "error",
          "ename": "DatabaseError",
          "evalue": "ignored",
          "traceback": [
            "\u001b[0;31m---------------------------------------------------------------------------\u001b[0m",
            "\u001b[0;31mMySQLInterfaceError\u001b[0m                       Traceback (most recent call last)",
            "\u001b[0;32m/usr/local/lib/python3.7/dist-packages/mysql/connector/connection_cext.py\u001b[0m in \u001b[0;36m_open_connection\u001b[0;34m(self)\u001b[0m\n\u001b[1;32m    235\u001b[0m         \u001b[0;32mtry\u001b[0m\u001b[0;34m:\u001b[0m\u001b[0;34m\u001b[0m\u001b[0;34m\u001b[0m\u001b[0m\n\u001b[0;32m--> 236\u001b[0;31m             \u001b[0mself\u001b[0m\u001b[0;34m.\u001b[0m\u001b[0m_cmysql\u001b[0m\u001b[0;34m.\u001b[0m\u001b[0mconnect\u001b[0m\u001b[0;34m(\u001b[0m\u001b[0;34m**\u001b[0m\u001b[0mcnx_kwargs\u001b[0m\u001b[0;34m)\u001b[0m\u001b[0;34m\u001b[0m\u001b[0;34m\u001b[0m\u001b[0m\n\u001b[0m\u001b[1;32m    237\u001b[0m             \u001b[0mself\u001b[0m\u001b[0;34m.\u001b[0m\u001b[0m_cmysql\u001b[0m\u001b[0;34m.\u001b[0m\u001b[0mconverter_str_fallback\u001b[0m \u001b[0;34m=\u001b[0m \u001b[0mself\u001b[0m\u001b[0;34m.\u001b[0m\u001b[0m_converter_str_fallback\u001b[0m\u001b[0;34m\u001b[0m\u001b[0;34m\u001b[0m\u001b[0m\n",
            "\u001b[0;31mMySQLInterfaceError\u001b[0m: Can't connect to MySQL server on 'localhost:3306' (99)",
            "\nDuring handling of the above exception, another exception occurred:\n",
            "\u001b[0;31mDatabaseError\u001b[0m                             Traceback (most recent call last)",
            "\u001b[0;32m<ipython-input-10-a24f89b47f5e>\u001b[0m in \u001b[0;36m<module>\u001b[0;34m()\u001b[0m\n\u001b[1;32m      5\u001b[0m conn = mysql.connector.connect(user='YOUR_USERNAME', password='YOUR_PASSWORD',\n\u001b[1;32m      6\u001b[0m                               \u001b[0mhost\u001b[0m\u001b[0;34m=\u001b[0m\u001b[0;34m'localhost'\u001b[0m\u001b[0;34m,\u001b[0m\u001b[0;34m\u001b[0m\u001b[0;34m\u001b[0m\u001b[0m\n\u001b[0;32m----> 7\u001b[0;31m                               database='toys_and_models')\n\u001b[0m\u001b[1;32m      8\u001b[0m \u001b[0;34m\u001b[0m\u001b[0m\n\u001b[1;32m      9\u001b[0m \u001b[0mpd\u001b[0m\u001b[0;34m.\u001b[0m\u001b[0mread_sql\u001b[0m\u001b[0;34m(\u001b[0m\u001b[0;34m'select * from orders'\u001b[0m\u001b[0;34m,\u001b[0m \u001b[0mconn\u001b[0m\u001b[0;34m)\u001b[0m\u001b[0;34m\u001b[0m\u001b[0;34m\u001b[0m\u001b[0m\n",
            "\u001b[0;32m/usr/local/lib/python3.7/dist-packages/mysql/connector/__init__.py\u001b[0m in \u001b[0;36mconnect\u001b[0;34m(*args, **kwargs)\u001b[0m\n\u001b[1;32m    270\u001b[0m \u001b[0;34m\u001b[0m\u001b[0m\n\u001b[1;32m    271\u001b[0m     \u001b[0;32mif\u001b[0m \u001b[0mHAVE_CEXT\u001b[0m \u001b[0;32mand\u001b[0m \u001b[0;32mnot\u001b[0m \u001b[0muse_pure\u001b[0m\u001b[0;34m:\u001b[0m\u001b[0;34m\u001b[0m\u001b[0;34m\u001b[0m\u001b[0m\n\u001b[0;32m--> 272\u001b[0;31m         \u001b[0;32mreturn\u001b[0m \u001b[0mCMySQLConnection\u001b[0m\u001b[0;34m(\u001b[0m\u001b[0;34m*\u001b[0m\u001b[0margs\u001b[0m\u001b[0;34m,\u001b[0m \u001b[0;34m**\u001b[0m\u001b[0mkwargs\u001b[0m\u001b[0;34m)\u001b[0m\u001b[0;34m\u001b[0m\u001b[0;34m\u001b[0m\u001b[0m\n\u001b[0m\u001b[1;32m    273\u001b[0m     \u001b[0;32mreturn\u001b[0m \u001b[0mMySQLConnection\u001b[0m\u001b[0;34m(\u001b[0m\u001b[0;34m*\u001b[0m\u001b[0margs\u001b[0m\u001b[0;34m,\u001b[0m \u001b[0;34m**\u001b[0m\u001b[0mkwargs\u001b[0m\u001b[0;34m)\u001b[0m\u001b[0;34m\u001b[0m\u001b[0;34m\u001b[0m\u001b[0m\n\u001b[1;32m    274\u001b[0m \u001b[0mConnect\u001b[0m \u001b[0;34m=\u001b[0m \u001b[0mconnect\u001b[0m  \u001b[0;31m# pylint: disable=C0103\u001b[0m\u001b[0;34m\u001b[0m\u001b[0;34m\u001b[0m\u001b[0m\n",
            "\u001b[0;32m/usr/local/lib/python3.7/dist-packages/mysql/connector/connection_cext.py\u001b[0m in \u001b[0;36m__init__\u001b[0;34m(self, **kwargs)\u001b[0m\n\u001b[1;32m     83\u001b[0m \u001b[0;34m\u001b[0m\u001b[0m\n\u001b[1;32m     84\u001b[0m         \u001b[0;32mif\u001b[0m \u001b[0mkwargs\u001b[0m\u001b[0;34m:\u001b[0m\u001b[0;34m\u001b[0m\u001b[0;34m\u001b[0m\u001b[0m\n\u001b[0;32m---> 85\u001b[0;31m             \u001b[0mself\u001b[0m\u001b[0;34m.\u001b[0m\u001b[0mconnect\u001b[0m\u001b[0;34m(\u001b[0m\u001b[0;34m**\u001b[0m\u001b[0mkwargs\u001b[0m\u001b[0;34m)\u001b[0m\u001b[0;34m\u001b[0m\u001b[0;34m\u001b[0m\u001b[0m\n\u001b[0m\u001b[1;32m     86\u001b[0m \u001b[0;34m\u001b[0m\u001b[0m\n\u001b[1;32m     87\u001b[0m     \u001b[0;32mdef\u001b[0m \u001b[0m_add_default_conn_attrs\u001b[0m\u001b[0;34m(\u001b[0m\u001b[0mself\u001b[0m\u001b[0;34m)\u001b[0m\u001b[0;34m:\u001b[0m\u001b[0;34m\u001b[0m\u001b[0;34m\u001b[0m\u001b[0m\n",
            "\u001b[0;32m/usr/local/lib/python3.7/dist-packages/mysql/connector/abstracts.py\u001b[0m in \u001b[0;36mconnect\u001b[0;34m(self, **kwargs)\u001b[0m\n\u001b[1;32m   1012\u001b[0m \u001b[0;34m\u001b[0m\u001b[0m\n\u001b[1;32m   1013\u001b[0m         \u001b[0mself\u001b[0m\u001b[0;34m.\u001b[0m\u001b[0mdisconnect\u001b[0m\u001b[0;34m(\u001b[0m\u001b[0;34m)\u001b[0m\u001b[0;34m\u001b[0m\u001b[0;34m\u001b[0m\u001b[0m\n\u001b[0;32m-> 1014\u001b[0;31m         \u001b[0mself\u001b[0m\u001b[0;34m.\u001b[0m\u001b[0m_open_connection\u001b[0m\u001b[0;34m(\u001b[0m\u001b[0;34m)\u001b[0m\u001b[0;34m\u001b[0m\u001b[0;34m\u001b[0m\u001b[0m\n\u001b[0m\u001b[1;32m   1015\u001b[0m         \u001b[0;31m# Server does not allow to run any other statement different from ALTER\u001b[0m\u001b[0;34m\u001b[0m\u001b[0;34m\u001b[0m\u001b[0;34m\u001b[0m\u001b[0m\n\u001b[1;32m   1016\u001b[0m         \u001b[0;31m# when user's password has been expired.\u001b[0m\u001b[0;34m\u001b[0m\u001b[0;34m\u001b[0m\u001b[0;34m\u001b[0m\u001b[0m\n",
            "\u001b[0;32m/usr/local/lib/python3.7/dist-packages/mysql/connector/connection_cext.py\u001b[0m in \u001b[0;36m_open_connection\u001b[0;34m(self)\u001b[0m\n\u001b[1;32m    240\u001b[0m         \u001b[0;32mexcept\u001b[0m \u001b[0mMySQLInterfaceError\u001b[0m \u001b[0;32mas\u001b[0m \u001b[0mexc\u001b[0m\u001b[0;34m:\u001b[0m\u001b[0;34m\u001b[0m\u001b[0;34m\u001b[0m\u001b[0m\n\u001b[1;32m    241\u001b[0m             raise errors.get_mysql_exception(msg=exc.msg, errno=exc.errno,\n\u001b[0;32m--> 242\u001b[0;31m                                              sqlstate=exc.sqlstate)\n\u001b[0m\u001b[1;32m    243\u001b[0m \u001b[0;34m\u001b[0m\u001b[0m\n\u001b[1;32m    244\u001b[0m         \u001b[0mself\u001b[0m\u001b[0;34m.\u001b[0m\u001b[0m_do_handshake\u001b[0m\u001b[0;34m(\u001b[0m\u001b[0;34m)\u001b[0m\u001b[0;34m\u001b[0m\u001b[0;34m\u001b[0m\u001b[0m\n",
            "\u001b[0;31mDatabaseError\u001b[0m: 2003 (HY000): Can't connect to MySQL server on 'localhost:3306' (99)"
          ]
        }
      ]
    },
    {
      "cell_type": "markdown",
      "metadata": {
        "id": "lQg23n59gEkF"
      },
      "source": [
        "Or you can test with this online server:"
      ]
    },
    {
      "cell_type": "code",
      "metadata": {
        "id": "y6IM7ZbFgD_9",
        "colab": {
          "base_uri": "https://localhost:8080/",
          "height": 424
        },
        "outputId": "218fafd8-db19-45af-e5e5-49b2a9e59a29"
      },
      "source": [
        "import mysql.connector\n",
        "import pandas as pd\n",
        "\n",
        "# Please replace by your user and your password\n",
        "conn = mysql.connector.connect(user='toyscie', password='WILD4Rdata!',\n",
        "                              host='51.68.18.102',port = '23456',\n",
        "                              database='toys_and_models')\n",
        "\n",
        "pd.read_sql('select * from orders', conn)"
      ],
      "execution_count": null,
      "outputs": [
        {
          "output_type": "execute_result",
          "data": {
            "text/html": [
              "<div>\n",
              "<style scoped>\n",
              "    .dataframe tbody tr th:only-of-type {\n",
              "        vertical-align: middle;\n",
              "    }\n",
              "\n",
              "    .dataframe tbody tr th {\n",
              "        vertical-align: top;\n",
              "    }\n",
              "\n",
              "    .dataframe thead th {\n",
              "        text-align: right;\n",
              "    }\n",
              "</style>\n",
              "<table border=\"1\" class=\"dataframe\">\n",
              "  <thead>\n",
              "    <tr style=\"text-align: right;\">\n",
              "      <th></th>\n",
              "      <th>orderNumber</th>\n",
              "      <th>orderDate</th>\n",
              "      <th>requiredDate</th>\n",
              "      <th>shippedDate</th>\n",
              "      <th>status</th>\n",
              "      <th>comments</th>\n",
              "      <th>customerNumber</th>\n",
              "    </tr>\n",
              "  </thead>\n",
              "  <tbody>\n",
              "    <tr>\n",
              "      <th>0</th>\n",
              "      <td>10100</td>\n",
              "      <td>2019-09-21</td>\n",
              "      <td>2019-09-28</td>\n",
              "      <td>2019-09-25</td>\n",
              "      <td>Shipped</td>\n",
              "      <td>None</td>\n",
              "      <td>363</td>\n",
              "    </tr>\n",
              "    <tr>\n",
              "      <th>1</th>\n",
              "      <td>10101</td>\n",
              "      <td>2019-09-24</td>\n",
              "      <td>2019-10-03</td>\n",
              "      <td>2019-09-26</td>\n",
              "      <td>Shipped</td>\n",
              "      <td>Check on availability.</td>\n",
              "      <td>128</td>\n",
              "    </tr>\n",
              "    <tr>\n",
              "      <th>2</th>\n",
              "      <td>10102</td>\n",
              "      <td>2019-09-25</td>\n",
              "      <td>2019-10-03</td>\n",
              "      <td>2019-09-29</td>\n",
              "      <td>Shipped</td>\n",
              "      <td>None</td>\n",
              "      <td>181</td>\n",
              "    </tr>\n",
              "    <tr>\n",
              "      <th>3</th>\n",
              "      <td>10103</td>\n",
              "      <td>2019-10-14</td>\n",
              "      <td>2019-10-23</td>\n",
              "      <td>2019-10-18</td>\n",
              "      <td>Shipped</td>\n",
              "      <td>None</td>\n",
              "      <td>121</td>\n",
              "    </tr>\n",
              "    <tr>\n",
              "      <th>4</th>\n",
              "      <td>10104</td>\n",
              "      <td>2019-10-16</td>\n",
              "      <td>2019-10-25</td>\n",
              "      <td>2019-10-17</td>\n",
              "      <td>Shipped</td>\n",
              "      <td>None</td>\n",
              "      <td>141</td>\n",
              "    </tr>\n",
              "    <tr>\n",
              "      <th>...</th>\n",
              "      <td>...</td>\n",
              "      <td>...</td>\n",
              "      <td>...</td>\n",
              "      <td>...</td>\n",
              "      <td>...</td>\n",
              "      <td>...</td>\n",
              "      <td>...</td>\n",
              "    </tr>\n",
              "    <tr>\n",
              "      <th>278</th>\n",
              "      <td>10378</td>\n",
              "      <td>2021-10-26</td>\n",
              "      <td>2021-11-03</td>\n",
              "      <td>2021-10-27</td>\n",
              "      <td>Shipped</td>\n",
              "      <td>None</td>\n",
              "      <td>141</td>\n",
              "    </tr>\n",
              "    <tr>\n",
              "      <th>279</th>\n",
              "      <td>10379</td>\n",
              "      <td>2021-10-26</td>\n",
              "      <td>2021-11-03</td>\n",
              "      <td>2021-10-27</td>\n",
              "      <td>Shipped</td>\n",
              "      <td>None</td>\n",
              "      <td>141</td>\n",
              "    </tr>\n",
              "    <tr>\n",
              "      <th>280</th>\n",
              "      <td>10380</td>\n",
              "      <td>2021-11-01</td>\n",
              "      <td>2021-11-09</td>\n",
              "      <td>2021-11-03</td>\n",
              "      <td>Shipped</td>\n",
              "      <td>None</td>\n",
              "      <td>141</td>\n",
              "    </tr>\n",
              "    <tr>\n",
              "      <th>281</th>\n",
              "      <td>10381</td>\n",
              "      <td>2021-11-02</td>\n",
              "      <td>2021-11-10</td>\n",
              "      <td>2021-11-03</td>\n",
              "      <td>Shipped</td>\n",
              "      <td>None</td>\n",
              "      <td>321</td>\n",
              "    </tr>\n",
              "    <tr>\n",
              "      <th>282</th>\n",
              "      <td>10382</td>\n",
              "      <td>2021-11-02</td>\n",
              "      <td>2021-11-08</td>\n",
              "      <td>2021-11-03</td>\n",
              "      <td>Shipped</td>\n",
              "      <td>Custom shipping instructions sent to warehouse</td>\n",
              "      <td>124</td>\n",
              "    </tr>\n",
              "  </tbody>\n",
              "</table>\n",
              "<p>283 rows × 7 columns</p>\n",
              "</div>"
            ],
            "text/plain": [
              "     orderNumber  ... customerNumber\n",
              "0          10100  ...            363\n",
              "1          10101  ...            128\n",
              "2          10102  ...            181\n",
              "3          10103  ...            121\n",
              "4          10104  ...            141\n",
              "..           ...  ...            ...\n",
              "278        10378  ...            141\n",
              "279        10379  ...            141\n",
              "280        10380  ...            141\n",
              "281        10381  ...            321\n",
              "282        10382  ...            124\n",
              "\n",
              "[283 rows x 7 columns]"
            ]
          },
          "metadata": {},
          "execution_count": 95
        }
      ]
    }
  ]
}