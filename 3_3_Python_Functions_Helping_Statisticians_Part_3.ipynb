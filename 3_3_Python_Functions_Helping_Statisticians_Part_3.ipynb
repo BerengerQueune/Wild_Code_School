{
  "nbformat": 4,
  "nbformat_minor": 0,
  "metadata": {
    "colab": {
      "name": "3.3 Python - Functions - Helping Statisticians - Part 3.ipynb",
      "provenance": [],
      "collapsed_sections": [],
      "include_colab_link": true
    },
    "kernelspec": {
      "name": "python3",
      "display_name": "Python 3"
    }
  },
  "cells": [
    {
      "cell_type": "markdown",
      "metadata": {
        "id": "view-in-github",
        "colab_type": "text"
      },
      "source": [
        "<a href=\"https://colab.research.google.com/github/BerengerQueune/wild_notebooks/blob/main/3_3_Python_Functions_Helping_Statisticians_Part_3.ipynb\" target=\"_parent\"><img src=\"https://colab.research.google.com/assets/colab-badge.svg\" alt=\"Open In Colab\"/></a>"
      ]
    },
    {
      "cell_type": "markdown",
      "metadata": {
        "id": "zsHobPhC3ffd"
      },
      "source": [
        "\n",
        "## Mathematical functions that need coding\n",
        "![Find x](https://www.mathwarehouse.com/jokes/images/find-x-funny-math-image-joke.webp)\n",
        "\n",
        "**Now the statisticians are begging you to code ready-made math functions for them. Below are the functions they use most often. Code the function in the cells below ;-) :**\n",
        "\n",
        "\n",
        "\n",
        "\n",
        "- Square of a number: Create a function that returns the square of a number.\n",
        "- Cube of a number: Create a function that returns the cube of a number.\n",
        "- Absolute value: Create a function that returns the absolute value of a number.\n",
        "- Factorial of a number: Create a function that returns the factorial of a number.\n",
        "- Mode of a list of numbers: Create a function that returns the mode of a list of numbers.\n",
        "- Average of a list of numbers: Create a function that returns the average of a list of numbers.\n",
        "- Minimum of a list of numbers: Create a function that returns the minimum from within a list of numbers.\n",
        "- Maximum of a list of numbers: Create a function that returns the maximum from within a list of numbers.\n",
        "\n",
        "**Yes, all those functions already exist in dedicated modules, and you may not reuse them, unfortunately: you may only use loops, conditionals, addition, subtraction, multiplication, division and powers.**\n",
        "\n",
        "**Don't forget to test your functions with at least two possible cases!**"
      ]
    },
    {
      "cell_type": "markdown",
      "metadata": {
        "id": "9nS54ls70StV"
      },
      "source": [
        "- Square of a number: Create a function that returns the square of a number."
      ]
    },
    {
      "cell_type": "code",
      "metadata": {
        "colab": {
          "base_uri": "https://localhost:8080/"
        },
        "id": "5e2nN1CV0TEh",
        "outputId": "04d55458-0549-4eea-982d-280af3b115fa"
      },
      "source": [
        "def square(number):\n",
        "  numberSquared = number**2\n",
        "  return numberSquared\n",
        "\n",
        "square(5)"
      ],
      "execution_count": null,
      "outputs": [
        {
          "output_type": "execute_result",
          "data": {
            "text/plain": [
              "25"
            ]
          },
          "metadata": {},
          "execution_count": 69
        }
      ]
    },
    {
      "cell_type": "markdown",
      "metadata": {
        "id": "MRQm8HvZ0Tll"
      },
      "source": [
        "- Cube of a number: Create a function that returns the cube of a number."
      ]
    },
    {
      "cell_type": "code",
      "metadata": {
        "colab": {
          "base_uri": "https://localhost:8080/"
        },
        "id": "Efm9mdaJ0ilx",
        "outputId": "7564420d-521b-4914-bed8-2587e4badf33"
      },
      "source": [
        "def cube(number):\n",
        "  numberSquared = number * number * number\n",
        "  return numberSquared\n",
        "\n",
        "cube(5)"
      ],
      "execution_count": null,
      "outputs": [
        {
          "output_type": "execute_result",
          "data": {
            "text/plain": [
              "125"
            ]
          },
          "metadata": {},
          "execution_count": 70
        }
      ]
    },
    {
      "cell_type": "markdown",
      "metadata": {
        "id": "EUV7nMu90URz"
      },
      "source": [
        "- Absolute value: Create a function that returns the absolute value of a number.\n"
      ]
    },
    {
      "cell_type": "code",
      "metadata": {
        "colab": {
          "base_uri": "https://localhost:8080/"
        },
        "id": "ZrJTLpZc0l3L",
        "outputId": "8676b32c-b59f-4fc1-8e9f-b104e6a71fec"
      },
      "source": [
        "def absoluteValue(number):\n",
        "  if number < 0:\n",
        "    number -= number * 2\n",
        "  return number\n",
        "\n",
        "absoluteValue(-30)"
      ],
      "execution_count": null,
      "outputs": [
        {
          "output_type": "execute_result",
          "data": {
            "text/plain": [
              "30"
            ]
          },
          "metadata": {},
          "execution_count": 71
        }
      ]
    },
    {
      "cell_type": "markdown",
      "metadata": {
        "id": "-nq8epi10Uun"
      },
      "source": [
        "- Factorial of a number: Create a function that returns the factorial of a number."
      ]
    },
    {
      "cell_type": "code",
      "metadata": {
        "colab": {
          "base_uri": "https://localhost:8080/"
        },
        "id": "LXQu6duk0vg6",
        "outputId": "bdbb2759-b2d4-46ad-c084-6893d107d6f8"
      },
      "source": [
        "def factorialValue(number):\n",
        "  newNumber = 0\n",
        "  if number <0 : \n",
        "\t  return \"Il n'y pas de factorielle en utilisant un chiffre négatif\"\n",
        "  \n",
        "  elif number == 0 or number == 1: \n",
        "\t  return \"1\"\n",
        "\n",
        "  else : \n",
        "\t  for i in range (1, number):\n",
        "\t\t  number *= i\n",
        "  return number\n",
        "\n",
        "factorialValue(6)"
      ],
      "execution_count": null,
      "outputs": [
        {
          "output_type": "execute_result",
          "data": {
            "text/plain": [
              "720"
            ]
          },
          "metadata": {},
          "execution_count": 72
        }
      ]
    },
    {
      "cell_type": "markdown",
      "metadata": {
        "id": "sB_2DAZZ0VEc"
      },
      "source": [
        "- Mode of a list of numbers: Create a function that returns the mode of a list of numbers."
      ]
    },
    {
      "cell_type": "code",
      "metadata": {
        "colab": {
          "base_uri": "https://localhost:8080/"
        },
        "id": "q0jh0a6M0VOl",
        "outputId": "f54ff167-b219-413a-f20c-519ea4f7a273"
      },
      "source": [
        "liste = [1, 2, 3, 4, 4, 4, 4, 5, 5, 5, 5, 5, 5, 5, 5, 5, 5, 5, 5, 5, 5, 6, 7, 7, 7, 8]\n",
        "\n",
        "def findMode(listName):\n",
        "  currentCount = 0\n",
        "  for i in listName:\n",
        "    if listName.count(i) > currentCount:\n",
        "      currentCount = i  \n",
        "  return currentCount\n",
        "\n",
        "findMode(liste)"
      ],
      "execution_count": null,
      "outputs": [
        {
          "output_type": "execute_result",
          "data": {
            "text/plain": [
              "5"
            ]
          },
          "metadata": {},
          "execution_count": 14
        }
      ]
    },
    {
      "cell_type": "markdown",
      "metadata": {
        "id": "kbvaeMR-0VZX"
      },
      "source": [
        "- Average of a list of numbers: Create a function that returns the average of a list of numbers."
      ]
    },
    {
      "cell_type": "code",
      "metadata": {
        "colab": {
          "base_uri": "https://localhost:8080/"
        },
        "id": "LT7yXfLY0VjB",
        "outputId": "2f19ea65-9cdd-46af-9ae8-9fd3e2783086"
      },
      "source": [
        "liste = [50, 60, 70]\n",
        "\n",
        "def findAverage(listName):\n",
        "  total = 0\n",
        "  for i in listName:\n",
        "    total += i\n",
        "  total = total/len(listName)\n",
        "  return total\n",
        "\n",
        "findAverage(liste)"
      ],
      "execution_count": null,
      "outputs": [
        {
          "output_type": "execute_result",
          "data": {
            "text/plain": [
              "60.0"
            ]
          },
          "metadata": {},
          "execution_count": 4
        }
      ]
    },
    {
      "cell_type": "markdown",
      "metadata": {
        "id": "6hgHNqrz0Vte"
      },
      "source": [
        "- Minimum of a list of numbers: Create a function that returns the minimum from within a list of numbers."
      ]
    },
    {
      "cell_type": "code",
      "metadata": {
        "colab": {
          "base_uri": "https://localhost:8080/"
        },
        "id": "epfcMywV0V2f",
        "outputId": "ba80b8ea-c3a2-4fdd-ce78-c8aceff730d1"
      },
      "source": [
        "list = [1, 2, 3, 4, 4, 4, 4, 5, 6, 7, 7, 7, 8]\n",
        "\n",
        "def findMinimum(listName):\n",
        "  minimum = list[0]\n",
        "  for i in listName:\n",
        "    if i < minimum:\n",
        "      minimum = i\n",
        "  return minimum\n",
        "\n",
        "findMinimum(list)"
      ],
      "execution_count": null,
      "outputs": [
        {
          "output_type": "execute_result",
          "data": {
            "text/plain": [
              "1"
            ]
          },
          "metadata": {},
          "execution_count": 3
        }
      ]
    },
    {
      "cell_type": "markdown",
      "metadata": {
        "id": "rfkknUcT0V_T"
      },
      "source": [
        "- Maximum of a list of numbers: Create a function that returns the maximum from within a list of numbers."
      ]
    },
    {
      "cell_type": "code",
      "metadata": {
        "colab": {
          "base_uri": "https://localhost:8080/"
        },
        "id": "9v1DYBvB0WHz",
        "outputId": "d881658f-3eee-47c5-9ae0-d80a28924594"
      },
      "source": [
        "liste = [1, 2, 3, 4, 4, 4, 4, 5, 6, 7, 7, 7, 8]\n",
        "\n",
        "def findMaximum(listName):\n",
        "  maximum = listName[0]\n",
        "  for i in listName:\n",
        "    if i > maximum:\n",
        "      maximum = i\n",
        "  return maximum\n",
        "\n",
        "findMaximum(liste)"
      ],
      "execution_count": null,
      "outputs": [
        {
          "output_type": "execute_result",
          "data": {
            "text/plain": [
              "8"
            ]
          },
          "metadata": {},
          "execution_count": 4
        }
      ]
    }
  ]
}