{
  "nbformat": 4,
  "nbformat_minor": 0,
  "metadata": {
    "colab": {
      "name": "Introduction to JSON - Berenger.ipynb",
      "provenance": [],
      "collapsed_sections": []
    },
    "kernelspec": {
      "name": "python3",
      "display_name": "Python 3"
    }
  },
  "cells": [
    {
      "cell_type": "markdown",
      "metadata": {
        "id": "3gy55VJcTu_4"
      },
      "source": [
        "# Reading a JSON\n",
        "\n",
        "Execute the code below :"
      ]
    },
    {
      "cell_type": "code",
      "metadata": {
        "id": "RlpIEaOvTuV2",
        "colab": {
          "base_uri": "https://localhost:8080/"
        },
        "outputId": "5227667d-4c7b-40b0-b3b6-349577d1b1a4"
      },
      "source": [
        "import json\n",
        "import requests\n",
        "\n",
        "link = \"https://raw.githubusercontent.com/murpi/wilddata/master/quests/monthlySalesbyCategoryMultiple.json\"\n",
        "\n",
        "# This function gets the file content from the URL\n",
        "r = requests.get(link)\n",
        "\n",
        "\n",
        "# You can access to the text content with this function\n",
        "r.text"
      ],
      "execution_count": null,
      "outputs": [
        {
          "output_type": "execute_result",
          "data": {
            "application/vnd.google.colaboratory.intrinsic+json": {
              "type": "string"
            },
            "text/plain": [
              "'{ \"contents\": [\\n  {\\n    \"category\": \"Furniture\",\\n    \"region\": \"West\",\\n    \"monthlySales\":\\n\\n      [{\\n        \"month\":20130101,\\n        \"sales\":38\\n      },\\n      {\\n        \"month\":20130201,\\n        \"sales\":35\\n      },\\n      {\\n        \"month\":20130301,\\n        \"sales\":41\\n      },\\n      {\\n        \"month\":20130401,\\n        \"sales\":55\\n      },\\n      {\\n        \"month\":20130501,\\n        \"sales\":58\\n      },\\n      {\\n        \"month\":20130601,\\n        \"sales\":66\\n      },\\n      {\\n        \"month\":20130701,\\n        \"sales\":74\\n      },\\n      {\\n        \"month\":20130801,\\n        \"sales\":78\\n      },\\n      {\\n        \"month\":20130901,\\n        \"sales\":38\\n      },\\n      {\\n        \"month\":20131001,\\n        \"sales\":30\\n      },\\n      {\\n        \"month\":20131101,\\n        \"sales\":26\\n      },\\n      {\\n        \"month\":20131201,\\n        \"sales\":29\\n      }\\n    ]\\n  },\\n  {\\n    \"category\": \"Technology\",\\n    \"region\": \"West\",\\n    \"monthlySales\":\\n\\n      [{\\n        \"month\":20130101,\\n        \"sales\":54\\n      },\\n      {\\n        \"month\":20130201,\\n        \"sales\":66\\n      },\\n      {\\n        \"month\":20130301,\\n        \"sales\":77\\n      },\\n      {\\n        \"month\":20130401,\\n        \"sales\":70\\n      },\\n      {\\n        \"month\":20130501,\\n        \"sales\":60\\n      },\\n      {\\n        \"month\":20130601,\\n        \"sales\":63\\n      },\\n      {\\n        \"month\":20130701,\\n        \"sales\":55\\n      },\\n      {\\n        \"month\":20130801,\\n        \"sales\":47\\n      },\\n      {\\n        \"month\":20130901,\\n        \"sales\":55\\n      },\\n      {\\n        \"month\":20131001,\\n        \"sales\":30\\n      },\\n      {\\n        \"month\":20131101,\\n        \"sales\":22\\n      },\\n      {\\n        \"month\":20131201,\\n        \"sales\":77\\n      }\\n    ]\\n  }\\n]} \\n'"
            ]
          },
          "metadata": {},
          "execution_count": 2
        }
      ]
    },
    {
      "cell_type": "code",
      "metadata": {
        "id": "q9YwmpYMTr1n",
        "colab": {
          "base_uri": "https://localhost:8080/"
        },
        "outputId": "b1826884-c106-4410-9205-d210edc33e2f"
      },
      "source": [
        "# Try this\n",
        "import json\n",
        "\n",
        "data = json.loads( r.text)\n",
        "data"
      ],
      "execution_count": null,
      "outputs": [
        {
          "output_type": "execute_result",
          "data": {
            "text/plain": [
              "{'contents': [{'category': 'Furniture',\n",
              "   'monthlySales': [{'month': 20130101, 'sales': 38},\n",
              "    {'month': 20130201, 'sales': 35},\n",
              "    {'month': 20130301, 'sales': 41},\n",
              "    {'month': 20130401, 'sales': 55},\n",
              "    {'month': 20130501, 'sales': 58},\n",
              "    {'month': 20130601, 'sales': 66},\n",
              "    {'month': 20130701, 'sales': 74},\n",
              "    {'month': 20130801, 'sales': 78},\n",
              "    {'month': 20130901, 'sales': 38},\n",
              "    {'month': 20131001, 'sales': 30},\n",
              "    {'month': 20131101, 'sales': 26},\n",
              "    {'month': 20131201, 'sales': 29}],\n",
              "   'region': 'West'},\n",
              "  {'category': 'Technology',\n",
              "   'monthlySales': [{'month': 20130101, 'sales': 54},\n",
              "    {'month': 20130201, 'sales': 66},\n",
              "    {'month': 20130301, 'sales': 77},\n",
              "    {'month': 20130401, 'sales': 70},\n",
              "    {'month': 20130501, 'sales': 60},\n",
              "    {'month': 20130601, 'sales': 63},\n",
              "    {'month': 20130701, 'sales': 55},\n",
              "    {'month': 20130801, 'sales': 47},\n",
              "    {'month': 20130901, 'sales': 55},\n",
              "    {'month': 20131001, 'sales': 30},\n",
              "    {'month': 20131101, 'sales': 22},\n",
              "    {'month': 20131201, 'sales': 77}],\n",
              "   'region': 'West'}]}"
            ]
          },
          "metadata": {},
          "execution_count": 3
        }
      ]
    },
    {
      "cell_type": "markdown",
      "metadata": {
        "id": "uogPKCrpZe1s"
      },
      "source": [
        "# Manipulate the data"
      ]
    },
    {
      "cell_type": "markdown",
      "metadata": {
        "id": "r1hWtHV3Yj0r"
      },
      "source": [
        "Now print for each category their total number of sales (without using a dataframe, just manipulating the dictionaries and lists).\n",
        "\n",
        "Expected result:\n",
        "- Furniture 568\n",
        "- Technology 676\n",
        "\n"
      ]
    },
    {
      "cell_type": "code",
      "metadata": {
        "id": "SI-uCLddYWpk",
        "colab": {
          "base_uri": "https://localhost:8080/"
        },
        "outputId": "4481f94f-8e90-4ac6-a8df-cd12f6cad84f"
      },
      "source": [
        "Furniture = 0\n",
        "Technology = 0\n",
        "\n",
        "for i in data['contents'][0]['monthlySales']:\n",
        "  Furniture += i[\"sales\"]\n",
        "\n",
        "for i in data['contents'][1]['monthlySales']:\n",
        "  Technology += i[\"sales\"]\n",
        "\n",
        "print (f\"• Furniture {Furniture}\")\n",
        "print (f\"• Technology {Technology}\")"
      ],
      "execution_count": null,
      "outputs": [
        {
          "output_type": "stream",
          "name": "stdout",
          "text": [
            "• Furniture 568\n",
            "• Technology 676\n"
          ]
        }
      ]
    },
    {
      "cell_type": "code",
      "source": [
        "for i in range (2):\n",
        "  result = sum(x['sales'] for x in data['contents'][i]['monthlySales'])\n",
        "  print(f\"• {data['contents'][i]['category']} {result}\")\n"
      ],
      "metadata": {
        "colab": {
          "base_uri": "https://localhost:8080/"
        },
        "id": "_5X5wN_XKZZ7",
        "outputId": "3cb5b4c6-3064-472e-8ead-74111cb08991"
      },
      "execution_count": null,
      "outputs": [
        {
          "output_type": "stream",
          "name": "stdout",
          "text": [
            "• Furniture 568\n",
            "• Technology 676\n"
          ]
        }
      ]
    }
  ]
}