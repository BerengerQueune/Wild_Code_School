{
  "nbformat": 4,
  "nbformat_minor": 0,
  "metadata": {
    "colab": {
      "name": "Parse a JSON file with Pandas - Berenger.ipynb",
      "provenance": []
    },
    "kernelspec": {
      "name": "python3",
      "display_name": "Python 3"
    },
    "language_info": {
      "name": "python"
    }
  },
  "cells": [
    {
      "cell_type": "code",
      "execution_count": null,
      "metadata": {
        "id": "So6omwqHa1rn"
      },
      "outputs": [],
      "source": [
        "import json\n",
        "import requests\n",
        "import pandas as pd\n",
        "\n",
        "link = \"https://raw.githubusercontent.com/WildCodeSchool/java-jsonparse/master/weather.json\"\n",
        "\n",
        "# This function gets the file content from the URL\n",
        "r = requests.get(link)\n",
        "\n",
        "# You can access to the text content with this function\n",
        "r.text\n",
        "\n",
        "data = json.loads( r.text)"
      ]
    },
    {
      "cell_type": "markdown",
      "source": [
        "## Display the value of the \"name\" attribute"
      ],
      "metadata": {
        "id": "7LijhXIgbBnl"
      }
    },
    {
      "cell_type": "code",
      "source": [
        "data['name']"
      ],
      "metadata": {
        "colab": {
          "base_uri": "https://localhost:8080/",
          "height": 35
        },
        "id": "j8yh4Pyfa9nJ",
        "outputId": "54903236-bf3f-455b-ccaf-fcdde1998987"
      },
      "execution_count": null,
      "outputs": [
        {
          "output_type": "execute_result",
          "data": {
            "application/vnd.google.colaboratory.intrinsic+json": {
              "type": "string"
            },
            "text/plain": [
              "'London'"
            ]
          },
          "metadata": {},
          "execution_count": 2
        }
      ]
    },
    {
      "cell_type": "markdown",
      "source": [
        "## Display the values of the \"lat\" and \"lon\" attributes of the \"coord\" element contained in the root"
      ],
      "metadata": {
        "id": "8kdQjGXnbD87"
      }
    },
    {
      "cell_type": "code",
      "source": [
        "lat = data[\"coord\"][\"lat\"]\n",
        "lon = data[\"coord\"][\"lon\"]\n",
        "\n",
        "print (f\"Value of lat is: {lat}\")\n",
        "print (f\"Value of lon is: {lon}\")"
      ],
      "metadata": {
        "colab": {
          "base_uri": "https://localhost:8080/"
        },
        "id": "8QNjpDkUb8Jx",
        "outputId": "9691b1d1-27e2-456d-8332-80d6f1a0714e"
      },
      "execution_count": null,
      "outputs": [
        {
          "output_type": "stream",
          "name": "stdout",
          "text": [
            "Value of lat is: 51.51\n",
            "Value of lon is: -0.13\n"
          ]
        }
      ]
    },
    {
      "cell_type": "markdown",
      "source": [
        "## Browse all items in \"weather\" and display the contents of \"main\" (maybe with a loop ?)"
      ],
      "metadata": {
        "id": "FK9lVk71bD5W"
      }
    },
    {
      "cell_type": "code",
      "source": [
        "for i in data[\"weather\"]:\n",
        "  for k, v in i.items():\n",
        "    if k == \"main\":\n",
        "      print (v)"
      ],
      "metadata": {
        "colab": {
          "base_uri": "https://localhost:8080/"
        },
        "id": "KW4VhQSIchGJ",
        "outputId": "9333cc5b-cddd-4f3e-9749-48f0a3293cae"
      },
      "execution_count": null,
      "outputs": [
        {
          "output_type": "stream",
          "name": "stdout",
          "text": [
            "Drizzle\n",
            "Clear\n"
          ]
        }
      ]
    },
    {
      "cell_type": "markdown",
      "source": [
        "## Now try to import your json file in pandas"
      ],
      "metadata": {
        "id": "zBEsiQ7ibD0_"
      }
    },
    {
      "cell_type": "code",
      "source": [
        "# You can directly read JSON from your request object\n",
        "print(r.json())\n",
        "\n",
        "# And you can import JSON object to pandas\n",
        "pd.json_normalize(r.json())\n",
        "\n",
        "# You can scroll with the record_path argument\n",
        "# and keep some information with meta argument\n",
        "pd.json_normalize(r.json(),  record_path= \"weather\",meta = 'dt')"
      ],
      "metadata": {
        "colab": {
          "base_uri": "https://localhost:8080/",
          "height": 149
        },
        "id": "RBhVLpv5eSQi",
        "outputId": "27b3640f-0b6d-440f-b3d3-c1745051e5b9"
      },
      "execution_count": null,
      "outputs": [
        {
          "output_type": "stream",
          "name": "stdout",
          "text": [
            "{'coord': {'lon': -0.13, 'lat': 51.51}, 'weather': [{'id': 300, 'main': 'Drizzle', 'description': 'light intensity drizzle', 'icon': '09d'}, {'id': 800, 'main': 'Clear', 'description': 'clear sky', 'icon': '01n'}], 'base': 'stations', 'main': {'temp': 280.32, 'pressure': 1012, 'humidity': 81, 'temp_min': 279.15, 'temp_max': 281.15}, 'visibility': 10000, 'wind': {'speed': 4.1, 'deg': 80}, 'clouds': {'all': 90}, 'dt': 1485789600, 'sys': {'type': 1, 'id': 5091, 'message': 0.0103, 'country': 'GB', 'sunrise': 1485762037, 'sunset': 1485794875}, 'id': 2643743, 'name': 'London', 'cod': 200}\n"
          ]
        },
        {
          "output_type": "execute_result",
          "data": {
            "text/html": [
              "<div>\n",
              "<style scoped>\n",
              "    .dataframe tbody tr th:only-of-type {\n",
              "        vertical-align: middle;\n",
              "    }\n",
              "\n",
              "    .dataframe tbody tr th {\n",
              "        vertical-align: top;\n",
              "    }\n",
              "\n",
              "    .dataframe thead th {\n",
              "        text-align: right;\n",
              "    }\n",
              "</style>\n",
              "<table border=\"1\" class=\"dataframe\">\n",
              "  <thead>\n",
              "    <tr style=\"text-align: right;\">\n",
              "      <th></th>\n",
              "      <th>id</th>\n",
              "      <th>main</th>\n",
              "      <th>description</th>\n",
              "      <th>icon</th>\n",
              "      <th>dt</th>\n",
              "    </tr>\n",
              "  </thead>\n",
              "  <tbody>\n",
              "    <tr>\n",
              "      <th>0</th>\n",
              "      <td>300</td>\n",
              "      <td>Drizzle</td>\n",
              "      <td>light intensity drizzle</td>\n",
              "      <td>09d</td>\n",
              "      <td>1485789600</td>\n",
              "    </tr>\n",
              "    <tr>\n",
              "      <th>1</th>\n",
              "      <td>800</td>\n",
              "      <td>Clear</td>\n",
              "      <td>clear sky</td>\n",
              "      <td>01n</td>\n",
              "      <td>1485789600</td>\n",
              "    </tr>\n",
              "  </tbody>\n",
              "</table>\n",
              "</div>"
            ],
            "text/plain": [
              "    id     main              description icon          dt\n",
              "0  300  Drizzle  light intensity drizzle  09d  1485789600\n",
              "1  800    Clear                clear sky  01n  1485789600"
            ]
          },
          "metadata": {},
          "execution_count": 5
        }
      ]
    },
    {
      "cell_type": "markdown",
      "source": [
        "## Now filter your DataFrame with Pandas to display only the following columns : main (inside weather), name, and visibility."
      ],
      "metadata": {
        "id": "31yb6-Y3bDwl"
      }
    },
    {
      "cell_type": "code",
      "source": [
        "my_data_frame = pd.json_normalize(r.json(),  record_path= [\"weather\"][0],meta = [['name'], ['visibility']])[[\"main\", \"name\", \"visibility\"]]\n",
        "my_data_frame"
      ],
      "metadata": {
        "colab": {
          "base_uri": "https://localhost:8080/",
          "height": 112
        },
        "id": "gtn_uTxsnb22",
        "outputId": "7f27bdeb-9c3a-4350-9ebb-b0d4855eecaf"
      },
      "execution_count": null,
      "outputs": [
        {
          "output_type": "execute_result",
          "data": {
            "text/html": [
              "<div>\n",
              "<style scoped>\n",
              "    .dataframe tbody tr th:only-of-type {\n",
              "        vertical-align: middle;\n",
              "    }\n",
              "\n",
              "    .dataframe tbody tr th {\n",
              "        vertical-align: top;\n",
              "    }\n",
              "\n",
              "    .dataframe thead th {\n",
              "        text-align: right;\n",
              "    }\n",
              "</style>\n",
              "<table border=\"1\" class=\"dataframe\">\n",
              "  <thead>\n",
              "    <tr style=\"text-align: right;\">\n",
              "      <th></th>\n",
              "      <th>main</th>\n",
              "      <th>name</th>\n",
              "      <th>visibility</th>\n",
              "    </tr>\n",
              "  </thead>\n",
              "  <tbody>\n",
              "    <tr>\n",
              "      <th>0</th>\n",
              "      <td>Drizzle</td>\n",
              "      <td>London</td>\n",
              "      <td>10000</td>\n",
              "    </tr>\n",
              "    <tr>\n",
              "      <th>1</th>\n",
              "      <td>Clear</td>\n",
              "      <td>London</td>\n",
              "      <td>10000</td>\n",
              "    </tr>\n",
              "  </tbody>\n",
              "</table>\n",
              "</div>"
            ],
            "text/plain": [
              "      main    name visibility\n",
              "0  Drizzle  London      10000\n",
              "1    Clear  London      10000"
            ]
          },
          "metadata": {},
          "execution_count": 6
        }
      ]
    }
  ]
}