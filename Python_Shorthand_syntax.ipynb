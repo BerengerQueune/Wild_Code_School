{
  "nbformat": 4,
  "nbformat_minor": 0,
  "metadata": {
    "colab": {
      "name": "Python - Shorthand syntax.ipynb",
      "provenance": [],
      "collapsed_sections": [],
      "authorship_tag": "ABX9TyNHrXqaCGs7VeFzkrAw31cu",
      "include_colab_link": true
    },
    "kernelspec": {
      "name": "python3",
      "display_name": "Python 3"
    },
    "language_info": {
      "name": "python"
    }
  },
  "cells": [
    {
      "cell_type": "markdown",
      "metadata": {
        "id": "view-in-github",
        "colab_type": "text"
      },
      "source": [
        "<a href=\"https://colab.research.google.com/github/BerengerQueune/wild_notebooks/blob/main/Python_Shorthand_syntax.ipynb\" target=\"_parent\"><img src=\"https://colab.research.google.com/assets/colab-badge.svg\" alt=\"Open In Colab\"/></a>"
      ]
    },
    {
      "cell_type": "code",
      "metadata": {
        "id": "VzfYGQh0GZns"
      },
      "source": [
        "test_list = [0, 3, -6, 9, 12, -15, 18, -21, 24, 27]"
      ],
      "execution_count": null,
      "outputs": []
    },
    {
      "cell_type": "markdown",
      "metadata": {
        "id": "nxDAvA5nGcxK"
      },
      "source": [
        "A function that converts amounts in dollars to amounts in euros (take the euro/dollar rate of the day you do the quest).\n"
      ]
    },
    {
      "cell_type": "code",
      "metadata": {
        "colab": {
          "base_uri": "https://localhost:8080/"
        },
        "id": "oT_AD-cVGkQi",
        "outputId": "bfbf4ceb-fefc-4df7-d882-1f44559783e6"
      },
      "source": [
        "# Standard syntax\n",
        "\n",
        "def dollars_to_euros(dollarse):\n",
        "  return dollarse * 0.86\n",
        "\n",
        "dollars_to_euros(100)"
      ],
      "execution_count": null,
      "outputs": [
        {
          "output_type": "execute_result",
          "data": {
            "text/plain": [
              "86.0"
            ]
          },
          "metadata": {},
          "execution_count": 86
        }
      ]
    },
    {
      "cell_type": "code",
      "metadata": {
        "colab": {
          "base_uri": "https://localhost:8080/"
        },
        "id": "y0qY2FjHGkYB",
        "outputId": "49cc7eec-feb3-4098-9d7e-085ff58af0b4"
      },
      "source": [
        "# Short syntax\n",
        "(lambda dollars: dollars*0.86)(100)"
      ],
      "execution_count": null,
      "outputs": [
        {
          "output_type": "execute_result",
          "data": {
            "text/plain": [
              "86.0"
            ]
          },
          "metadata": {},
          "execution_count": 87
        }
      ]
    },
    {
      "cell_type": "markdown",
      "metadata": {
        "id": "_EZpvTldGdMn"
      },
      "source": [
        "A function that returns the sum of the even numbers in a list containing integers."
      ]
    },
    {
      "cell_type": "code",
      "metadata": {
        "colab": {
          "base_uri": "https://localhost:8080/"
        },
        "id": "9CoJuUPzGkyT",
        "outputId": "51d7efce-47b8-4059-baae-e7f939f838de"
      },
      "source": [
        "# Standard syntax\n",
        "def even_number(liste):\n",
        "  sum_of_even_number = 0\n",
        "  for i in liste:\n",
        "    if i%2 == 0:\n",
        "      sum_of_even_number +=i\n",
        "  return sum_of_even_number\n",
        "\n",
        "even_number(test_list)"
      ],
      "execution_count": null,
      "outputs": [
        {
          "output_type": "execute_result",
          "data": {
            "text/plain": [
              "48"
            ]
          },
          "metadata": {},
          "execution_count": 88
        }
      ]
    },
    {
      "cell_type": "code",
      "metadata": {
        "colab": {
          "base_uri": "https://localhost:8080/"
        },
        "id": "a5HD9pU9Gk1e",
        "outputId": "e802ed60-041a-4e48-ce8f-4c98bade038e"
      },
      "source": [
        "# Short syntax\n",
        "sum_of_even_number2 = sum(list(filter(lambda x: (x%2 == 0) , test_list)))\n",
        "sum_of_even_number2"
      ],
      "execution_count": null,
      "outputs": [
        {
          "output_type": "execute_result",
          "data": {
            "text/plain": [
              "48"
            ]
          },
          "metadata": {},
          "execution_count": 123
        }
      ]
    },
    {
      "cell_type": "markdown",
      "metadata": {
        "id": "pS23sIfsGdPl"
      },
      "source": [
        "A script that converts a list of positive or negative integers into a new list containing absolute values."
      ]
    },
    {
      "cell_type": "code",
      "metadata": {
        "id": "pAaMAIm7GlQ6",
        "colab": {
          "base_uri": "https://localhost:8080/"
        },
        "outputId": "4f73bfac-de5a-471b-d0b6-455809cb4ac9"
      },
      "source": [
        "# Standard syntax\n",
        "\n",
        "def converts_number(test_list):\n",
        "  new_list = []\n",
        "  for i in test_list:\n",
        "    if i < 0:\n",
        "      i -= i*2\n",
        "    new_list.append(i)\n",
        "  return new_list\n",
        "\n",
        "converts_number(test_list)"
      ],
      "execution_count": null,
      "outputs": [
        {
          "output_type": "execute_result",
          "data": {
            "text/plain": [
              "[0, 3, 6, 9, 12, 15, 18, 21, 24, 27]"
            ]
          },
          "metadata": {},
          "execution_count": 90
        }
      ]
    },
    {
      "cell_type": "code",
      "metadata": {
        "id": "lu-4QJpYGlTd",
        "colab": {
          "base_uri": "https://localhost:8080/"
        },
        "outputId": "88ba063f-6bb6-4c2a-a0c6-3381fd0f583c"
      },
      "source": [
        "# Short syntax\n",
        "\n",
        "sum_of_even_number3 = lambda x: [abs(x) for x in test_list]\n",
        "sum_of_even_number3(test_list)"
      ],
      "execution_count": null,
      "outputs": [
        {
          "output_type": "execute_result",
          "data": {
            "text/plain": [
              "[0, 3, 6, 9, 12, 15, 18, 21, 24, 27]"
            ]
          },
          "metadata": {},
          "execution_count": 120
        }
      ]
    },
    {
      "cell_type": "code",
      "metadata": {
        "colab": {
          "base_uri": "https://localhost:8080/"
        },
        "id": "wwimIcJ-iF6E",
        "outputId": "0ba4cd69-71eb-4eba-dc43-c824ad1a3579"
      },
      "source": [
        " [abs(x) for x in test_list]"
      ],
      "execution_count": null,
      "outputs": [
        {
          "output_type": "execute_result",
          "data": {
            "text/plain": [
              "[0, 3, 6, 9, 12, 15, 18, 21, 24, 27]"
            ]
          },
          "metadata": {},
          "execution_count": 121
        }
      ]
    },
    {
      "cell_type": "code",
      "metadata": {
        "id": "AhL6dwQGhrEy",
        "colab": {
          "base_uri": "https://localhost:8080/"
        },
        "outputId": "566740aa-4565-4437-bd20-b218fbc20915"
      },
      "source": [
        "# testing purpose\n",
        "\n",
        "sum_of_even_number4 = list([-x if x <0 else x for x in test_list ])\n",
        "sum_of_even_number4"
      ],
      "execution_count": null,
      "outputs": [
        {
          "output_type": "execute_result",
          "data": {
            "text/plain": [
              "[0, 3, 6, 9, 12, 15, 18, 21, 24, 27]"
            ]
          },
          "metadata": {},
          "execution_count": 122
        }
      ]
    }
  ]
}