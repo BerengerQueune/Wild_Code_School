{
  "nbformat": 4,
  "nbformat_minor": 0,
  "metadata": {
    "colab": {
      "name": "3.1 Python - Functions - Helping Statisticians - Part 1.ipynb",
      "provenance": [],
      "collapsed_sections": [],
      "include_colab_link": true
    },
    "kernelspec": {
      "name": "python3",
      "display_name": "Python 3"
    }
  },
  "cells": [
    {
      "cell_type": "markdown",
      "metadata": {
        "id": "view-in-github",
        "colab_type": "text"
      },
      "source": [
        "<a href=\"https://colab.research.google.com/github/BerengerQueune/wild_notebooks/blob/main/3_1_Python_Functions_Helping_Statisticians_Part_1.ipynb\" target=\"_parent\"><img src=\"https://colab.research.google.com/assets/colab-badge.svg\" alt=\"Open In Colab\"/></a>"
      ]
    },
    {
      "cell_type": "markdown",
      "metadata": {
        "id": "co2X9cGIieV0"
      },
      "source": [
        "# Help for statisticians!\n",
        "\n",
        "Your fellow statisticians need you. They want to learn how to program in Python and have tons of calculations to do.\n",
        "\n",
        "Very kindly, you agree to help them. Complete the missions below."
      ]
    },
    {
      "cell_type": "markdown",
      "metadata": {
        "id": "rvnKhKV7CVoS"
      },
      "source": [
        "![Einstien le génie](https://wallup.net/wp-content/uploads/2018/09/30/201016-funny-albert-einstein-748x468.jpg)"
      ]
    },
    {
      "cell_type": "code",
      "metadata": {
        "id": "S4jmbgw-kWcj",
        "colab": {
          "base_uri": "https://localhost:8080/"
        },
        "outputId": "716dd0ec-a2b6-4cac-b48b-f02ab9b95d52"
      },
      "source": [
        "# Mission 1: Create a function that display the message \"Hello Python\".\n",
        "def message ():\n",
        "  return \"Hello Python\"\n",
        "\n",
        "message()"
      ],
      "execution_count": null,
      "outputs": [
        {
          "output_type": "stream",
          "name": "stdout",
          "text": [
            "Hello Python\n"
          ]
        }
      ]
    },
    {
      "cell_type": "code",
      "metadata": {
        "id": "4rJVUEkNk5Oo",
        "colab": {
          "base_uri": "https://localhost:8080/",
          "height": 35
        },
        "outputId": "2bb34a32-a7d2-4c84-a5c9-832762b14fec"
      },
      "source": [
        "# Mission 2: Create a function that takes in 2 numbers as parameters, and indicates whether or not they are equal.\n",
        "\n",
        "def compare (number1, number2):\n",
        "  if number1 == number2:\n",
        "    return \"they are equal!\"\n",
        "  else:\n",
        "    return \"they are not equal!\"\n",
        "\n",
        "compare(2, 2)"
      ],
      "execution_count": null,
      "outputs": [
        {
          "output_type": "execute_result",
          "data": {
            "application/vnd.google.colaboratory.intrinsic+json": {
              "type": "string"
            },
            "text/plain": [
              "'they are equal!'"
            ]
          },
          "metadata": {},
          "execution_count": 46
        }
      ]
    },
    {
      "cell_type": "code",
      "metadata": {
        "id": "Q9X4m3D4h-xu",
        "colab": {
          "base_uri": "https://localhost:8080/",
          "height": 35
        },
        "outputId": "439a5cd3-8ddc-451e-b6ff-a9bd45725cdb"
      },
      "source": [
        "# Mission 3: Create a function that uses a while or for loop to display the \n",
        "# first 10 multiples of the given number.\n",
        "# For example if your input is 2 it will look like this: \n",
        "# 2, 4, 6, 8, 10, 12, 14, 16, 18, 20\n",
        "\n",
        "def multiples(multiply):\n",
        "\tmultiplicator = 1\n",
        "\tresult = ''\n",
        "\tfor loop in range (10):\n",
        "\t\tresult = str(result) + str(multiply * multiplicator) + ' '\n",
        "\t\tmultiplicator +=1\n",
        "\treturn result.rstrip()\n",
        "        \n",
        "multiples(3)"
      ],
      "execution_count": null,
      "outputs": [
        {
          "output_type": "execute_result",
          "data": {
            "application/vnd.google.colaboratory.intrinsic+json": {
              "type": "string"
            },
            "text/plain": [
              "'3 6 9 12 15 18 21 24 27 30'"
            ]
          },
          "metadata": {},
          "execution_count": 57
        }
      ]
    },
    {
      "cell_type": "code",
      "metadata": {
        "id": "Fe9kZrvklI0b",
        "colab": {
          "base_uri": "https://localhost:8080/"
        },
        "outputId": "74ef24f1-4be5-447f-baa9-b3bc8d9eb7cd"
      },
      "source": [
        "# Mission 4: Create a while loop that displays the vowels of the longest word in English one after the other (i.e. horizontally, not one above \n",
        "# the other, i.e. vertically). The longest word in English is: \"antidisestablishmentarianism\"\n",
        "\n",
        "\n",
        "\n",
        "\n",
        "Luftballons99 = 0\n",
        "\n",
        "while Luftballons99 < 1000:\n",
        "\tif Luftballons99 < 100:\n",
        "\t\tprint (\"a\", end = ' ')\n",
        "\t\tLuftballons99 += 100\n",
        "\telif Luftballons99 < 110:\n",
        "\t\tprint (\"i\", end = ' ')\n",
        "\t\tLuftballons99 += 100\n",
        "\telif Luftballons99 < 210:\n",
        "\t\tprint (\"i\", end = ' ')\n",
        "\t\tLuftballons99 += 100\n",
        "\telif Luftballons99 < 310:\n",
        "\t\tprint (\"e\", end = ' ')\n",
        "\t\tLuftballons99 += 100\n",
        "\telif Luftballons99 < 410:\n",
        "\t\tprint (\"a\", end = ' ')\n",
        "\t\tLuftballons99 += 100\n",
        "\telif Luftballons99 < 510:\n",
        "\t\tprint (\"i\", end = ' ')\n",
        "\t\tLuftballons99 += 100\n",
        "\telif Luftballons99 < 610:\n",
        "\t\tprint (\"e\", end = ' ')\n",
        "\t\tLuftballons99 += 100\n",
        "\telif Luftballons99 < 710:\n",
        "\t\tprint (\"a\", end = ' ')\n",
        "\t\tLuftballons99 += 100\n",
        "\telif Luftballons99 < 810:\n",
        "\t\tprint (\"i\", end = ' ')\n",
        "\t\tLuftballons99 += 100\n",
        "\telif Luftballons99 < 910:\n",
        "\t\tprint (\"a\", end = ' ')\n",
        "\t\tLuftballons99 += 12\n",
        "\telif Luftballons99 < 915:\n",
        "\t\tprint (\"i\", end = ' ')\n",
        "\t\tLuftballons99 += 100\n",
        "\n"
      ],
      "execution_count": null,
      "outputs": [
        {
          "output_type": "stream",
          "name": "stdout",
          "text": [
            "a i i e a i e a i a i "
          ]
        }
      ]
    },
    {
      "cell_type": "code",
      "metadata": {
        "id": "6hjrrDyUlN8o",
        "colab": {
          "base_uri": "https://localhost:8080/",
          "height": 35
        },
        "outputId": "f65f7436-da2f-495a-f2c0-2c371bbeb46f"
      },
      "source": [
        "# Mission 5: Create a function that takes in 3 numbers as parameters, and carries out two mathematical operations (such as +, -, *, or /),\n",
        "# as in the examples below.\n",
        "# Then return the result of the applied operations. You will have to take into account a situation where division by zero is attempted.\n",
        "# Display a message that indicates whether the result is positive, negative or zero.\n",
        "# Example operations: \n",
        "# 0*32+2 = 2 \n",
        "# 21/0+3 > \"Error, you're trying to divide by zero\"\n",
        "\n",
        "\n",
        "\n",
        "def myFunk(number1, number2, number3):\n",
        "\ttry:\n",
        "\t\tnumber5 = number1 + number3 / number2\t\n",
        "\t\tif number5 == 0:\n",
        "\t\t\treturn f\"{number5} - The result is zero\"\n",
        "\t\telif number5 > 0:\n",
        "\t\t\treturn f\"{number5} - The result is positive\"\n",
        "\t\telse:\n",
        "\t\t\treturn f\"{number5} - The result is negative\"\n",
        "\texcept ZeroDivisionError:\n",
        "\t\treturn \"Error, you're trying to divide by zero\"\n",
        "\n",
        "\t\n",
        "\n",
        "\n",
        "myFunk(21, 0, 3)\n"
      ],
      "execution_count": null,
      "outputs": [
        {
          "output_type": "execute_result",
          "data": {
            "application/vnd.google.colaboratory.intrinsic+json": {
              "type": "string"
            },
            "text/plain": [
              "\"Error, you're trying to divide by zero\""
            ]
          },
          "metadata": {},
          "execution_count": 58
        }
      ]
    },
    {
      "cell_type": "code",
      "metadata": {
        "id": "7b3JtuNClm4a",
        "colab": {
          "base_uri": "https://localhost:8080/",
          "height": 35
        },
        "outputId": "d19e9394-2cb7-4a89-f3fc-819718feba65"
      },
      "source": [
        "# Mission 6: Create a function that takes 2 numbers as parameters, and returns the result of a division operation. \n",
        "# Test if the denominator is equal to 0 and if so, display a message that says: \"You can't divide by zero\".\n",
        "def divisision(number1, number2):\n",
        "\tif number2 == 0:\n",
        "\t\treturn (\"You can't devide by zero\")\n",
        "\telse:\n",
        "\t\tnumber3 = number1 / number2\n",
        "\t\treturn number3\n",
        "  \n",
        "divisision(2, 0)"
      ],
      "execution_count": null,
      "outputs": [
        {
          "output_type": "execute_result",
          "data": {
            "application/vnd.google.colaboratory.intrinsic+json": {
              "type": "string"
            },
            "text/plain": [
              "\"You can't devide by zero\""
            ]
          },
          "metadata": {},
          "execution_count": 28
        }
      ]
    },
    {
      "cell_type": "code",
      "metadata": {
        "id": "r6DP6oTDmqfs",
        "colab": {
          "base_uri": "https://localhost:8080/"
        },
        "outputId": "c7b173e6-01bd-440b-f410-61ad428e6a83"
      },
      "source": [
        "# Mission 7: Create a function that takes a number as a parameter that corresponds to gross salary and returns the net salary for executives.\n",
        "# You can specify any amount of deductions, or base them on your country's example\n",
        "\n",
        "\n",
        "def netSalary(grossSalary):\n",
        "  grossSalary = grossSalary - (19.9/100*grossSalary)\n",
        "  return grossSalary\n",
        "\n",
        "print (netSalary(1000))"
      ],
      "execution_count": null,
      "outputs": [
        {
          "output_type": "stream",
          "name": "stdout",
          "text": [
            "801.0\n"
          ]
        }
      ]
    },
    {
      "cell_type": "code",
      "metadata": {
        "id": "MyF5hG_hm1np",
        "colab": {
          "base_uri": "https://localhost:8080/"
        },
        "outputId": "3ea06344-83d7-4df2-8ba5-38403af07627"
      },
      "source": [
        "# Mission 8: Create a function that can swap the values of any 2 variables, such as if variable A = 1 and variable B = 2, \n",
        "# after applying the function, variable A = 2 and variable B = 1\n",
        "def swapValue(a, b):\n",
        "\tc = a\n",
        "\ta = b\n",
        "\tb = c\n",
        "\treturn a, b\n",
        "  \n",
        "print (swapValue(2, 5))"
      ],
      "execution_count": null,
      "outputs": [
        {
          "output_type": "stream",
          "name": "stdout",
          "text": [
            "(5, 2)\n"
          ]
        }
      ]
    }
  ]
}