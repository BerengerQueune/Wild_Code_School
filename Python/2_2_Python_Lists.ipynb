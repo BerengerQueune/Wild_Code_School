{
  "cells": [
    {
      "cell_type": "markdown",
      "metadata": {
        "colab_type": "text",
        "id": "view-in-github"
      },
      "source": [
        "<a href=\"https://colab.research.google.com/github/BerengerQueune/wild_notebooks/blob/main/2_2_Python_Lists.ipynb\" target=\"_parent\"><img src=\"https://colab.research.google.com/assets/colab-badge.svg\" alt=\"Open In Colab\"/></a>"
      ]
    },
    {
      "cell_type": "markdown",
      "metadata": {
        "id": "LoJw-LlCTnWF"
      },
      "source": [
        "# Mission 1\n",
        "\n",
        "Create a script that takes a list and displays only the elements (and their position) that have positions that are even (0, 2, 4, 6...).\n",
        "\n",
        "Example list = [\"a\", \"b\", \"c\", \"d\", \"e\"], the script should return : \n",
        "- a position 0\n",
        "- c position 2\n",
        "- e position 4"
      ]
    },
    {
      "cell_type": "code",
      "execution_count": null,
      "metadata": {
        "colab": {
          "base_uri": "https://localhost:8080/"
        },
        "id": "C2Lk113KSPUO",
        "outputId": "f9f6d3e1-6b85-4e95-9e1e-a86f4a116a81"
      },
      "outputs": [
        {
          "name": "stdout",
          "output_type": "stream",
          "text": [
            "a position 0\n",
            "c position 2\n",
            "e position 4\n"
          ]
        }
      ],
      "source": [
        " list = [\"a\", \"b\", \"c\", \"d\", \"e\"]\n",
        "\n",
        " for i in range (0, len(list), 2):\n",
        "   print (list[i] + ' position ' + str(i))"
      ]
    },
    {
      "cell_type": "markdown",
      "metadata": {
        "id": "J3bsGIvAT049"
      },
      "source": [
        "# Mission 2\n",
        "\n",
        "We have a list. Create a script to replace the value of an element with another simply by indicating its position.\n",
        "\n",
        "For example, we want to change the value of the third element of the list below:"
      ]
    },
    {
      "cell_type": "code",
      "execution_count": null,
      "metadata": {
        "colab": {
          "base_uri": "https://localhost:8080/"
        },
        "id": "Fy1OmPSUXNaP",
        "outputId": "4c544d13-b514-4796-f142-c8c72ccdc85e"
      },
      "outputs": [
        {
          "name": "stdout",
          "output_type": "stream",
          "text": [
            "['hello', 'good morning', 'yes', 'have a good day']\n"
          ]
        }
      ],
      "source": [
        "example = ['hello', 'good morning', 'bye bye', 'have a good day']\n",
        "\n",
        "example[2] = 'yes'\n",
        "\n",
        "print (example)"
      ]
    },
    {
      "cell_type": "markdown",
      "metadata": {
        "id": "dVl36lvlWLdV"
      },
      "source": [
        "# Mission 3\n",
        "\n",
        "Create a list, then add an element to the end of a list and remove the first element so that the list stays the same size."
      ]
    },
    {
      "cell_type": "code",
      "execution_count": null,
      "metadata": {
        "colab": {
          "base_uri": "https://localhost:8080/"
        },
        "id": "pN3_mD4YSPfb",
        "outputId": "8cb1c6ef-2482-4e45-ab7f-3c22663373f0"
      },
      "outputs": [
        {
          "name": "stdout",
          "output_type": "stream",
          "text": [
            "['good morning', 'bye bye', 'have a good day', 'Dark Vador']\n"
          ]
        }
      ],
      "source": [
        "example = ['hello', 'good morning', 'bye bye', 'have a good day']\n",
        "\n",
        "example.append('Dark Vador')\n",
        "example.remove(example[0])\n",
        "\n",
        "print (example)"
      ]
    },
    {
      "cell_type": "markdown",
      "metadata": {
        "id": "GCvpkWzXXPTf"
      },
      "source": [
        "# Mission 4\n",
        "\n",
        "Create a script that does the same thing as the insert method, but at a random position."
      ]
    },
    {
      "cell_type": "code",
      "execution_count": null,
      "metadata": {
        "colab": {
          "base_uri": "https://localhost:8080/"
        },
        "id": "QjLMjogySPk_",
        "outputId": "3b9bff56-d160-40e6-8a83-eaaeefd758e2"
      },
      "outputs": [
        {
          "name": "stdout",
          "output_type": "stream",
          "text": [
            "['hello', 'good morning', 'bye bye', 'Dark Vador', 'have a good day']\n"
          ]
        }
      ],
      "source": [
        "from random import randrange\n",
        "\n",
        "example = ['hello', 'good morning', 'bye bye', 'have a good day']\n",
        "\n",
        "example.insert (randrange(len(example)), 'Dark Vador')\n",
        "\n",
        "print (example)\n",
        "\n"
      ]
    },
    {
      "cell_type": "markdown",
      "metadata": {
        "id": "V8ZS3aECXvuZ"
      },
      "source": [
        "# Mission 5\n",
        "\n",
        "Create a script that does the same thing as the pop method for a list containing only characters. The difference is that this function displays a message indicating the number of characters that are identical to the deleted character and still remain in the list. In other words, if there were 3 \"b\" in the list, and one has just been deleted by your function, the script will display \"there are still 2 letters b\"."
      ]
    },
    {
      "cell_type": "code",
      "execution_count": null,
      "metadata": {
        "colab": {
          "base_uri": "https://localhost:8080/"
        },
        "id": "ph_j97PoSPmU",
        "outputId": "b9768a20-37df-4dac-ade3-2d130811193f"
      },
      "outputs": [
        {
          "name": "stdout",
          "output_type": "stream",
          "text": [
            "there are still 2 letters b\n"
          ]
        }
      ],
      "source": [
        "list = [\"a\", \"a\", \"b\", \"b\", \"b\"]\n",
        "\n",
        "deleted_character = list.pop(2)\n",
        "remaining_character = 0\n",
        "\n",
        "for i in list:\n",
        "  if i == deleted_character:\n",
        "    remaining_character +=1\n",
        "    \n",
        "print (\"there are still \" + str(remaining_character) + \" letters \" + deleted_character)"
      ]
    },
    {
      "cell_type": "markdown",
      "metadata": {
        "id": "geMLdrvAYHKx"
      },
      "source": [
        "# Mission 6\n",
        "\n",
        "Create a script with 3 lists, and indicates the two that are \"closest\". That is to say, the two that have the most elements in common."
      ]
    },
    {
      "cell_type": "code",
      "execution_count": null,
      "metadata": {
        "colab": {
          "base_uri": "https://localhost:8080/"
        },
        "id": "1-cenx3RSPpq",
        "outputId": "5734284e-b65d-48cb-b745-1352ea929ff2"
      },
      "outputs": [
        {
          "name": "stdout",
          "output_type": "stream",
          "text": [
            "List 1 and list 2 are closest\n"
          ]
        }
      ],
      "source": [
        "def Intersection(list1, list2):\n",
        "    return set(list1).intersection(list2)\n",
        "     \n",
        "list1 = [\"a\", \"a\", \"b\", \"b\", \"b\", \"C\"]\n",
        "list2 = [\"a\", \"a\", \"b\", \"b\", \"b\", \"C\"]\n",
        "list3 = [\"a\", \"a\", \"b\", \"b\", \"b\", \"Z\"]\n",
        "\n",
        "comparison_List1_List2 = len(Intersection(list1, list2))\n",
        "comparison_List1_List3 = len(Intersection(list1, list3))\n",
        "comparison_List2_List3 = len(Intersection(list2, list3))\n",
        "\n",
        "\n",
        "if comparison_List1_List2 > comparison_List1_List3 and comparison_List1_List2 > comparison_List2_List3:\n",
        "  print ('List 1 and list 2 are closest')\n",
        "\n",
        "elif comparison_List1_List3 > comparison_List2_List3 and comparison_List1_List3 > comparison_List1_List2:\n",
        "\tprint ('List 1 and list 3 are closest')\n",
        "    \n",
        "elif comparison_List1_List3 == comparison_List2_List3 and comparison_List1_List3 == comparison_List1_List2:\n",
        "  print ('All list have the same amount of occurences')\n",
        "    \n",
        "else:\n",
        "  print ('List 2 and list 3 are closest')\n",
        "\n"
      ]
    },
    {
      "cell_type": "markdown",
      "metadata": {
        "id": "Ygonr8C4pEgg"
      },
      "source": [
        "# Mission 7\n",
        "\n",
        "Create a script that displays all the items in a list of int from smallest to the largest. In other words, a script that sorts the list from smallest to largest."
      ]
    },
    {
      "cell_type": "code",
      "execution_count": null,
      "metadata": {
        "colab": {
          "base_uri": "https://localhost:8080/"
        },
        "id": "dlRdqxco5r8U",
        "outputId": "03beac14-e83e-4d41-c8d3-3fb0518aaf7c"
      },
      "outputs": [
        {
          "name": "stdout",
          "output_type": "stream",
          "text": [
            "[1, 2, 3, 4, 5]\n"
          ]
        }
      ],
      "source": [
        "list = [1, 3, 2, 5, 4]\n",
        "\n",
        "list.sort()\n",
        "\n",
        "print (list)"
      ]
    }
  ],
  "metadata": {
    "colab": {
      "collapsed_sections": [],
      "include_colab_link": true,
      "name": "2.2 Python - Lists.ipynb",
      "provenance": []
    },
    "kernelspec": {
      "display_name": "Python 3",
      "name": "python3"
    }
  },
  "nbformat": 4,
  "nbformat_minor": 0
}
