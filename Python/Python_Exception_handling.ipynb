{
  "nbformat": 4,
  "nbformat_minor": 0,
  "metadata": {
    "colab": {
      "name": "Python - Exception handling.ipynb",
      "provenance": [],
      "collapsed_sections": [],
      "include_colab_link": true
    },
    "kernelspec": {
      "name": "python3",
      "display_name": "Python 3"
    },
    "language_info": {
      "name": "python"
    }
  },
  "cells": [
    {
      "cell_type": "markdown",
      "metadata": {
        "id": "view-in-github",
        "colab_type": "text"
      },
      "source": [
        "<a href=\"https://colab.research.google.com/github/BerengerQueune/wild_notebooks/blob/main/Python_Exception_handling.ipynb\" target=\"_parent\"><img src=\"https://colab.research.google.com/assets/colab-badge.svg\" alt=\"Open In Colab\"/></a>"
      ]
    },
    {
      "cell_type": "markdown",
      "metadata": {
        "id": "ZU6qSUveywPs"
      },
      "source": [
        "You must correct each of the scripts below **using exception handling** and **without modifying lists**."
      ]
    },
    {
      "cell_type": "markdown",
      "metadata": {
        "id": "PcSLELHnzb-X"
      },
      "source": [
        "Script number 1"
      ]
    },
    {
      "cell_type": "code",
      "metadata": {
        "id": "IAZK21ekypZP",
        "colab": {
          "base_uri": "https://localhost:8080/"
        },
        "outputId": "cb91aab7-d831-475f-c3fb-54e19698d82b"
      },
      "source": [
        "\n",
        "list_integers = [1, 12, -45, 6, 27, 0, 24]\n",
        "for i in list_integers:\n",
        "  try:\n",
        "    print(1/x)\n",
        "  except NameError:\n",
        "    try:\n",
        "      print(1/i)\n",
        "    except ZeroDivisionError:\n",
        "      print (\"warning, division by zero\")\n",
        "\n",
        "\n"
      ],
      "execution_count": null,
      "outputs": [
        {
          "output_type": "stream",
          "name": "stdout",
          "text": [
            "1.0\n",
            "0.08333333333333333\n",
            "-0.022222222222222223\n",
            "0.16666666666666666\n",
            "0.037037037037037035\n",
            "warning, division by zero\n",
            "0.041666666666666664\n"
          ]
        }
      ]
    },
    {
      "cell_type": "markdown",
      "metadata": {
        "id": "LeIVc9eqzezV"
      },
      "source": [
        "Script number 2"
      ]
    },
    {
      "cell_type": "code",
      "metadata": {
        "id": "L6DRkiD6zgy_",
        "colab": {
          "base_uri": "https://localhost:8080/"
        },
        "outputId": "b25871bf-42f4-4cad-91f8-1d6072fe1009"
      },
      "source": [
        "list_integers = [1, 12, -45, 6, 27, 24]\n",
        "for i in range(10):\n",
        "  try:\n",
        "    print(1/list_integers[i])\n",
        "  except IndexError:\n",
        "    print (\"Out of range\")"
      ],
      "execution_count": null,
      "outputs": [
        {
          "output_type": "stream",
          "name": "stdout",
          "text": [
            "1.0\n",
            "0.08333333333333333\n",
            "-0.022222222222222223\n",
            "0.16666666666666666\n",
            "0.037037037037037035\n",
            "0.041666666666666664\n",
            "Out of range\n",
            "Out of range\n",
            "Out of range\n",
            "Out of range\n"
          ]
        }
      ]
    },
    {
      "cell_type": "markdown",
      "metadata": {
        "id": "afAY9AmOzx9r"
      },
      "source": [
        "Script number 3"
      ]
    },
    {
      "cell_type": "code",
      "metadata": {
        "id": "wV3ALP3yzzcc",
        "colab": {
          "base_uri": "https://localhost:8080/"
        },
        "outputId": "30609f7c-3d49-4b03-886d-893956f507f7"
      },
      "source": [
        "list_integers = [1, 12, -45, 6, 27, 0, 24]\n",
        "for i in range(10):\n",
        "  try:\n",
        "    print(1/list_integers[i])\n",
        "  except ZeroDivisionError:\n",
        "    print (\"warning, division by zero\")\n",
        "  except IndexError:\n",
        "    print (\"Out of range\")"
      ],
      "execution_count": null,
      "outputs": [
        {
          "output_type": "stream",
          "name": "stdout",
          "text": [
            "1.0\n",
            "0.08333333333333333\n",
            "-0.022222222222222223\n",
            "0.16666666666666666\n",
            "0.037037037037037035\n",
            "warning, division by zero\n",
            "0.041666666666666664\n",
            "Out of range\n",
            "Out of range\n",
            "Out of range\n"
          ]
        }
      ]
    },
    {
      "cell_type": "markdown",
      "metadata": {
        "id": "8eX8Pj7Wz4rn"
      },
      "source": [
        "Script number 4"
      ]
    },
    {
      "cell_type": "code",
      "metadata": {
        "id": "miobIaTyz62H",
        "colab": {
          "base_uri": "https://localhost:8080/"
        },
        "outputId": "1e467da7-935e-4183-e276-d585939520cd"
      },
      "source": [
        "list_words = ['hello', 'good morning', 'GOOD Evening', 34, 'Bye' ]\n",
        "\n",
        "for word in list_words:\n",
        "  try:\n",
        "    print(word.upper())\n",
        "  except AttributeError:\n",
        "    print (\"Integer cannot use the attribute upper\")"
      ],
      "execution_count": null,
      "outputs": [
        {
          "output_type": "stream",
          "name": "stdout",
          "text": [
            "HELLO\n",
            "GOOD MORNING\n",
            "GOOD EVENING\n",
            "Integer cannot use the attribute upper\n",
            "BYE\n"
          ]
        }
      ]
    }
  ]
}