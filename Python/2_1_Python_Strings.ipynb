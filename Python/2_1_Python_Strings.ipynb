{
  "nbformat": 4,
  "nbformat_minor": 0,
  "metadata": {
    "colab": {
      "name": "2.1 Python - Strings.ipynb",
      "provenance": [],
      "collapsed_sections": [],
      "include_colab_link": true
    },
    "kernelspec": {
      "name": "python3",
      "display_name": "Python 3"
    }
  },
  "cells": [
    {
      "cell_type": "markdown",
      "metadata": {
        "id": "view-in-github",
        "colab_type": "text"
      },
      "source": [
        "<a href=\"https://colab.research.google.com/github/BerengerQueune/wild_notebooks/blob/main/2_1_Python_Strings.ipynb\" target=\"_parent\"><img src=\"https://colab.research.google.com/assets/colab-badge.svg\" alt=\"Open In Colab\"/></a>"
      ]
    },
    {
      "cell_type": "markdown",
      "metadata": {
        "id": "LoJw-LlCTnWF"
      },
      "source": [
        "# Mission 1\n",
        "\n",
        "Create a script that uses the len method to display the length of the string named: \"string\" below.\n",
        "\n",
        "We want to count only characters, so ignore the number of spaces\n",
        ".\n",
        "\n",
        "string = \"Taumata whakatangihanga koauau o tamatea turi pukaka piki maungah oronuku pokai whenuaki tanatahu \""
      ]
    },
    {
      "cell_type": "code",
      "metadata": {
        "id": "oweHYwlm1EVo",
        "colab": {
          "base_uri": "https://localhost:8080/"
        },
        "outputId": "7b4439d8-cd90-477c-a95f-e7527283810c"
      },
      "source": [
        "string = \"Taumata whakatangihanga koauau o tamatea turi pukaka piki maungah oronuku pokai whenuaki tanatahu \"\n",
        "print (len(string.replace(' ', '')))"
      ],
      "execution_count": null,
      "outputs": [
        {
          "output_type": "stream",
          "name": "stdout",
          "text": [
            "85\n"
          ]
        }
      ]
    },
    {
      "cell_type": "markdown",
      "metadata": {
        "id": "J3bsGIvAT049"
      },
      "source": [
        "\n",
        "# Mission 2\n",
        "\n",
        "Create a script that takes a string as one parameter and a character as another parameter. Your script should return the position (starting with 1 and not 0) of all occurrences of the character within the string.\n",
        "\n",
        "For example, for the word \"hello\" and for the character \"o\", the script will return :\n",
        "- \"position : 5\""
      ]
    },
    {
      "cell_type": "code",
      "metadata": {
        "id": "Fy1OmPSUXNaP",
        "colab": {
          "base_uri": "https://localhost:8080/"
        },
        "outputId": "81f6e008-e53c-4ef5-90f6-cb8d7e04606e"
      },
      "source": [
        "word = 'Dark Vador'\n",
        "character = 'a'\n",
        "\n",
        "for i in range (0, len(word)):\n",
        "  if word[i] == character:\n",
        "    print (\"Position : \" + str(i+1))"
      ],
      "execution_count": null,
      "outputs": [
        {
          "output_type": "stream",
          "name": "stdout",
          "text": [
            "Position : 2\n",
            "Position : 7\n"
          ]
        }
      ]
    },
    {
      "cell_type": "markdown",
      "metadata": {
        "id": "dVl36lvlWLdV"
      },
      "source": [
        "# Mission 3\n",
        "\n",
        "Create a script that only displays a particular part of a string it receives. In other words, make it so that you are able to decide the exact character range (e.g. 2nd to 5th character) to be displayed."
      ]
    },
    {
      "cell_type": "code",
      "metadata": {
        "id": "pN3_mD4YSPfb",
        "colab": {
          "base_uri": "https://localhost:8080/"
        },
        "outputId": "b31c7886-ab6d-4927-cbdf-a2e7a2d65ede"
      },
      "source": [
        "word = 'Dark Vador'\n",
        "\n",
        "print (word[5:10])"
      ],
      "execution_count": null,
      "outputs": [
        {
          "output_type": "stream",
          "name": "stdout",
          "text": [
            "Vador\n"
          ]
        }
      ]
    },
    {
      "cell_type": "markdown",
      "metadata": {
        "id": "GCvpkWzXXPTf"
      },
      "source": [
        "# Mission 4\n",
        "\n",
        "Find 3 ways to return the following string without including the spaces at the beginning and the end: \" Data Analyst \"."
      ]
    },
    {
      "cell_type": "code",
      "metadata": {
        "id": "QjLMjogySPk_",
        "colab": {
          "base_uri": "https://localhost:8080/"
        },
        "outputId": "aff4d54d-ef45-49bb-b018-afeb26e1fccf"
      },
      "source": [
        "string = ' Data Analyst '\n",
        "\n",
        "print (string[1:-1])\n",
        "print (string.replace(' D', 'D').replace ('t ', 't'))\n",
        "print (string.lstrip(\" \").rstrip(\" \"))\n"
      ],
      "execution_count": null,
      "outputs": [
        {
          "output_type": "stream",
          "name": "stdout",
          "text": [
            "Data Analyst\n",
            "Data Analyst\n",
            "Data Analyst\n"
          ]
        }
      ]
    },
    {
      "cell_type": "markdown",
      "metadata": {
        "id": "V8ZS3aECXvuZ"
      },
      "source": [
        "# Mission 5\n",
        "\n",
        "Create a script that converts all vowels to uppercase and all consonants to lowercase."
      ]
    },
    {
      "cell_type": "code",
      "metadata": {
        "id": "ph_j97PoSPmU",
        "colab": {
          "base_uri": "https://localhost:8080/"
        },
        "outputId": "deba7ed5-a3ed-474f-b3af-37f4191d9cbd"
      },
      "source": [
        "word = (input('Choisissez votre mot '))\n",
        "\n",
        "for i in word:\n",
        "\tif i == 'a' or i == 'e' or i == 'i' or i == 'o' or i == 'u' or i == 'A' or i == 'E' or i == 'I' or i == 'O' or i == 'U':\n",
        "\t\ti = i.upper()  \n",
        "\t\tprint (i, end = '')\n",
        "\telse:\n",
        "\t\tprint (i.lower(), end = '')"
      ],
      "execution_count": null,
      "outputs": [
        {
          "output_type": "stream",
          "name": "stdout",
          "text": [
            "Choisissez votre mot DARK VADOR\n",
            "dArk vAdOr"
          ]
        }
      ]
    },
    {
      "cell_type": "markdown",
      "metadata": {
        "id": "geMLdrvAYHKx"
      },
      "source": [
        "# Mission 6\n",
        "\n",
        "Create a script that replaces one character with another and redisplays the modified string."
      ]
    },
    {
      "cell_type": "code",
      "metadata": {
        "id": "1-cenx3RSPpq",
        "colab": {
          "base_uri": "https://localhost:8080/"
        },
        "outputId": "6ed5f87e-c289-4dc3-e8fc-5cf80c03f2ca"
      },
      "source": [
        "word = 'Dark Vador'\n",
        "\n",
        "print (word.replace('o', 'u'))"
      ],
      "execution_count": null,
      "outputs": [
        {
          "output_type": "stream",
          "name": "stdout",
          "text": [
            "Dark Vadur\n"
          ]
        }
      ]
    }
  ]
}