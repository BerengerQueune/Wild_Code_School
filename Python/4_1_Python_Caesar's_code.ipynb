{
  "nbformat": 4,
  "nbformat_minor": 0,
  "metadata": {
    "colab": {
      "name": "4.1 Python - Caesar's code.ipynb",
      "provenance": [],
      "collapsed_sections": [],
      "authorship_tag": "ABX9TyNKu0+JVZo8t88haBxjt4Q4",
      "include_colab_link": true
    },
    "kernelspec": {
      "name": "python3",
      "display_name": "Python 3"
    },
    "language_info": {
      "name": "python"
    }
  },
  "cells": [
    {
      "cell_type": "markdown",
      "metadata": {
        "id": "view-in-github",
        "colab_type": "text"
      },
      "source": [
        "<a href=\"https://colab.research.google.com/github/BerengerQueune/wild_notebooks/blob/main/4_1_Python_Caesar's_code.ipynb\" target=\"_parent\"><img src=\"https://colab.research.google.com/assets/colab-badge.svg\" alt=\"Open In Colab\"/></a>"
      ]
    },
    {
      "cell_type": "code",
      "metadata": {
        "colab": {
          "base_uri": "https://localhost:8080/",
          "height": 35
        },
        "id": "4L3iRKkMe7xR",
        "outputId": "08f724a8-b130-44c2-e886-b882a914adf6"
      },
      "source": [
        "\n",
        "alphabet = [\"a\", \"b\", \"c\", \"d\", \"e\", \"f\", \"g\", \"h\", \"i\", \"j\", \"k\", \"l\", \"m\", \"n\", \"o\", \"p\", \"q\", \"r\", \"s\", \"t\", \"u\", \"v\", \"w\", \"x\", \"y\", \"z\"]\n",
        "\n",
        "def decrypt(message):\n",
        "  newMessage = ''\n",
        "  for i in message:\n",
        "    if i == \" \":\n",
        "      newMessage = newMessage + i\n",
        "    elif i in alphabet:\n",
        "      newMessage = newMessage + alphabet[alphabet.index(i)-7]\n",
        "  return newMessage\n",
        "\n",
        "decrypt(\"dlzo iyv fvbyl wyvnyhttpun pu wfaovu uvd\")"
      ],
      "execution_count": null,
      "outputs": [
        {
          "output_type": "execute_result",
          "data": {
            "application/vnd.google.colaboratory.intrinsic+json": {
              "type": "string"
            },
            "text/plain": [
              "'wesh bro youre programming in python now'"
            ]
          },
          "metadata": {},
          "execution_count": 5
        }
      ]
    }
  ]
}