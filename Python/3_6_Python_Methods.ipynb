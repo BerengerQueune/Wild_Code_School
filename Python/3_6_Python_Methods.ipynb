{
  "nbformat": 4,
  "nbformat_minor": 0,
  "metadata": {
    "colab": {
      "name": "3.6 Python - Methods.ipynb",
      "provenance": [],
      "collapsed_sections": [],
      "authorship_tag": "ABX9TyPMRjVC8kU/rg+OTjy17Kpu",
      "include_colab_link": true
    },
    "kernelspec": {
      "name": "python3",
      "display_name": "Python 3"
    },
    "language_info": {
      "name": "python"
    }
  },
  "cells": [
    {
      "cell_type": "markdown",
      "metadata": {
        "id": "view-in-github",
        "colab_type": "text"
      },
      "source": [
        "<a href=\"https://colab.research.google.com/github/BerengerQueune/wild_notebooks/blob/main/3_6_Python_Methods.ipynb\" target=\"_parent\"><img src=\"https://colab.research.google.com/assets/colab-badge.svg\" alt=\"Open In Colab\"/></a>"
      ]
    },
    {
      "cell_type": "code",
      "metadata": {
        "colab": {
          "base_uri": "https://localhost:8080/"
        },
        "id": "k6Mcbucau6nC",
        "outputId": "b45c2fa0-931d-4200-8efd-70b920191add"
      },
      "source": [
        "#\tDeletes the specified attribute (property or method) from the specified object\n",
        "help(delattr)"
      ],
      "execution_count": null,
      "outputs": [
        {
          "output_type": "stream",
          "name": "stdout",
          "text": [
            "Help on built-in function delattr in module builtins:\n",
            "\n",
            "delattr(obj, name, /)\n",
            "    Deletes the named attribute from the given object.\n",
            "    \n",
            "    delattr(x, 'y') is equivalent to ``del x.y''\n",
            "\n"
          ]
        }
      ]
    },
    {
      "cell_type": "code",
      "metadata": {
        "id": "dlgJL6iBv0ha"
      },
      "source": [
        "#\tReturns a copy of the list\n",
        "# copy()"
      ],
      "execution_count": null,
      "outputs": []
    },
    {
      "cell_type": "code",
      "metadata": {
        "id": "yJOMLbN7u8U9"
      },
      "source": [
        "#\tReturns the number of elements with the specified value\n",
        "# count()"
      ],
      "execution_count": null,
      "outputs": []
    },
    {
      "cell_type": "code",
      "metadata": {
        "id": "TQT75neHu8ef"
      },
      "source": [
        "#\tAdd the elements of a list (or any iterable), to the end of the current list\n",
        "# extend()"
      ],
      "execution_count": null,
      "outputs": []
    },
    {
      "cell_type": "code",
      "metadata": {
        "id": "yDCo8nBqu801"
      },
      "source": [
        "#\tConverts the first character to upper case\n",
        "# capitalize()"
      ],
      "execution_count": null,
      "outputs": []
    },
    {
      "cell_type": "code",
      "metadata": {
        "colab": {
          "base_uri": "https://localhost:8080/"
        },
        "id": "0dlKwwbru88W",
        "outputId": "a16d4b64-a537-4b03-9961-c372cefb91bc"
      },
      "source": [
        "#\tTakes a collection (e.g. a tuple) and returns it as an enumerate object\n",
        "help(enumerate)"
      ],
      "execution_count": null,
      "outputs": [
        {
          "output_type": "stream",
          "name": "stdout",
          "text": [
            "Help on class enumerate in module builtins:\n",
            "\n",
            "class enumerate(object)\n",
            " |  enumerate(iterable, start=0)\n",
            " |  \n",
            " |  Return an enumerate object.\n",
            " |  \n",
            " |    iterable\n",
            " |      an object supporting iteration\n",
            " |  \n",
            " |  The enumerate object yields pairs containing a count (from start, which\n",
            " |  defaults to zero) and a value yielded by the iterable argument.\n",
            " |  \n",
            " |  enumerate is useful for obtaining an indexed list:\n",
            " |      (0, seq[0]), (1, seq[1]), (2, seq[2]), ...\n",
            " |  \n",
            " |  Methods defined here:\n",
            " |  \n",
            " |  __getattribute__(self, name, /)\n",
            " |      Return getattr(self, name).\n",
            " |  \n",
            " |  __iter__(self, /)\n",
            " |      Implement iter(self).\n",
            " |  \n",
            " |  __next__(self, /)\n",
            " |      Implement next(self).\n",
            " |  \n",
            " |  __reduce__(...)\n",
            " |      Return state information for pickling.\n",
            " |  \n",
            " |  ----------------------------------------------------------------------\n",
            " |  Static methods defined here:\n",
            " |  \n",
            " |  __new__(*args, **kwargs) from builtins.type\n",
            " |      Create and return a new object.  See help(type) for accurate signature.\n",
            "\n"
          ]
        }
      ]
    },
    {
      "cell_type": "code",
      "metadata": {
        "colab": {
          "base_uri": "https://localhost:8080/"
        },
        "id": "qxAFBtA0u9FT",
        "outputId": "0303a71d-cccf-4a45-e354-3d2640857b45"
      },
      "source": [
        "#\tUse a filter function to exclude items in an iterable object\n",
        "help(filter)"
      ],
      "execution_count": null,
      "outputs": [
        {
          "output_type": "stream",
          "name": "stdout",
          "text": [
            "Help on class filter in module builtins:\n",
            "\n",
            "class filter(object)\n",
            " |  filter(function or None, iterable) --> filter object\n",
            " |  \n",
            " |  Return an iterator yielding those items of iterable for which function(item)\n",
            " |  is true. If function is None, return the items that are true.\n",
            " |  \n",
            " |  Methods defined here:\n",
            " |  \n",
            " |  __getattribute__(self, name, /)\n",
            " |      Return getattr(self, name).\n",
            " |  \n",
            " |  __iter__(self, /)\n",
            " |      Implement iter(self).\n",
            " |  \n",
            " |  __next__(self, /)\n",
            " |      Implement next(self).\n",
            " |  \n",
            " |  __reduce__(...)\n",
            " |      Return state information for pickling.\n",
            " |  \n",
            " |  ----------------------------------------------------------------------\n",
            " |  Static methods defined here:\n",
            " |  \n",
            " |  __new__(*args, **kwargs) from builtins.type\n",
            " |      Create and return a new object.  See help(type) for accurate signature.\n",
            "\n"
          ]
        }
      ]
    },
    {
      "cell_type": "code",
      "metadata": {
        "colab": {
          "base_uri": "https://localhost:8080/"
        },
        "id": "gWCaKY7Tu9Nl",
        "outputId": "8e745b6a-6bf3-40b2-8ce3-d3515715d825"
      },
      "source": [
        "#\tReturns the value of the specified attribute (property or method)\n",
        "help(getattr)"
      ],
      "execution_count": null,
      "outputs": [
        {
          "output_type": "stream",
          "name": "stdout",
          "text": [
            "Help on built-in function getattr in module builtins:\n",
            "\n",
            "getattr(...)\n",
            "    getattr(object, name[, default]) -> value\n",
            "    \n",
            "    Get a named attribute from an object; getattr(x, 'y') is equivalent to x.y.\n",
            "    When a default argument is given, it is returned when the attribute doesn't\n",
            "    exist; without it, an exception is raised in that case.\n",
            "\n"
          ]
        }
      ]
    },
    {
      "cell_type": "code",
      "metadata": {
        "colab": {
          "base_uri": "https://localhost:8080/"
        },
        "id": "LKTb24vMu9VZ",
        "outputId": "9e4ec8aa-fbba-47c4-fed7-06f234a540cc"
      },
      "source": [
        "#\tReturns True if the specified object has the specified attribute (property/method)\n",
        "help(hasattr)"
      ],
      "execution_count": null,
      "outputs": [
        {
          "output_type": "stream",
          "name": "stdout",
          "text": [
            "Help on built-in function hasattr in module builtins:\n",
            "\n",
            "hasattr(obj, name, /)\n",
            "    Return whether the object has an attribute with the given name.\n",
            "    \n",
            "    This is done by calling getattr(obj, name) and catching AttributeError.\n",
            "\n"
          ]
        }
      ]
    },
    {
      "cell_type": "code",
      "metadata": {
        "colab": {
          "base_uri": "https://localhost:8080/"
        },
        "id": "lUN5Q5alu9dM",
        "outputId": "424f7d07-d9a0-4358-ebd6-9901272d3a72"
      },
      "source": [
        "#\tAllowing user input\n",
        "help(input)"
      ],
      "execution_count": null,
      "outputs": [
        {
          "output_type": "stream",
          "name": "stdout",
          "text": [
            "Help on method raw_input in module ipykernel.kernelbase:\n",
            "\n",
            "raw_input(prompt='') method of google.colab._kernel.Kernel instance\n",
            "    Forward raw_input to frontends\n",
            "    \n",
            "    Raises\n",
            "    ------\n",
            "    StdinNotImplentedError if active frontend doesn't support stdin.\n",
            "\n"
          ]
        }
      ]
    }
  ]
}