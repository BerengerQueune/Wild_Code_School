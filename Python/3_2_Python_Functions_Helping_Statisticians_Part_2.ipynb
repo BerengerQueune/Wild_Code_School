{
  "nbformat": 4,
  "nbformat_minor": 0,
  "metadata": {
    "colab": {
      "name": "3.2 Python - Functions - Helping Statisticians - Part 2.ipynb",
      "provenance": [],
      "collapsed_sections": [],
      "include_colab_link": true
    },
    "kernelspec": {
      "name": "python3",
      "display_name": "Python 3"
    }
  },
  "cells": [
    {
      "cell_type": "markdown",
      "metadata": {
        "id": "view-in-github",
        "colab_type": "text"
      },
      "source": [
        "<a href=\"https://colab.research.google.com/github/BerengerQueune/wild_notebooks/blob/main/3_2_Python_Functions_Helping_Statisticians_Part_2.ipynb\" target=\"_parent\"><img src=\"https://colab.research.google.com/assets/colab-badge.svg\" alt=\"Open In Colab\"/></a>"
      ]
    },
    {
      "cell_type": "markdown",
      "metadata": {
        "id": "co2X9cGIieV0"
      },
      "source": [
        "# Help for statisticians!\n",
        "\n",
        "Your fellow statisticians need you. They want to learn how to program in Python and have tons of calculations to do.\n",
        "\n",
        "Very kindly, you agree to help them. Complete the missions below."
      ]
    },
    {
      "cell_type": "markdown",
      "metadata": {
        "id": "rvnKhKV7CVoS"
      },
      "source": [
        "![Einstien le génie](https://wallup.net/wp-content/uploads/2018/09/30/201016-funny-albert-einstein-748x468.jpg)"
      ]
    },
    {
      "cell_type": "markdown",
      "metadata": {
        "id": "CLFkEk_Fm9d4"
      },
      "source": [
        "## Your colleagues are impressed. So they show you some more exercises that they're stuck on. Code your heart out, you go for it ^^"
      ]
    },
    {
      "cell_type": "code",
      "metadata": {
        "id": "pIoUqiKynBbe"
      },
      "source": [
        "# Mission 9: Create a function that takes a day as a parameter and returns the next day (i.e. for Sunday it would return Monday). \n",
        "# You can use lists or dictionaries to solve this.\n"
      ],
      "execution_count": null,
      "outputs": []
    },
    {
      "cell_type": "code",
      "metadata": {
        "colab": {
          "base_uri": "https://localhost:8080/",
          "height": 35
        },
        "id": "OxpkGGIia09y",
        "outputId": "29fc747e-fe38-44a4-b250-aa3f2601fc2e"
      },
      "source": [
        "days = [\"monday\", \"tuesday\", \"wednesday\", \"thursday\", \"friday\", \"saturday\", \"sunday\"]\n",
        "\n",
        "def nextday(day):\n",
        "  if day == \"sunday\":\n",
        "    return days[0]\n",
        "  elif day not in days:\n",
        "    return \"please use day's name as written inside the list, check the spelling, no uppercase!!!!! Thanks\"\n",
        "  else:\n",
        "    newkey = days[days.index(day) + 1]\n",
        "    return newkey\n",
        "\n",
        "nextday(\"teesday\")"
      ],
      "execution_count": null,
      "outputs": [
        {
          "output_type": "execute_result",
          "data": {
            "application/vnd.google.colaboratory.intrinsic+json": {
              "type": "string"
            },
            "text/plain": [
              "\"please use day's name as written inside the list, check the spelling, no uppercase!!!!! Thanks\""
            ]
          },
          "metadata": {},
          "execution_count": 3
        }
      ]
    },
    {
      "cell_type": "code",
      "metadata": {
        "id": "68rX-Y0AnGiR"
      },
      "source": [
        "# Mission 10: Create a function that fills an empty list with values (words) from the following string : \n",
        "# \"After twelve soft showers are the arch-duchess' socks dry, arch-dry?\""
      ],
      "execution_count": null,
      "outputs": []
    },
    {
      "cell_type": "code",
      "metadata": {
        "colab": {
          "base_uri": "https://localhost:8080/"
        },
        "id": "Tu_kA_l6a2Y8",
        "outputId": "cae34d1d-a87f-4eb9-8daf-4677092d6ae0"
      },
      "source": [
        "sentence = \"After twelve soft showers are the arch-duchess' socks dry, arch-dry?\"\n",
        "\n",
        "def fillList (word):\n",
        "  newList = ''.join(word).split()\n",
        "  return newList\n",
        "  \n",
        "  \n",
        "  \n",
        "fillList(sentence)"
      ],
      "execution_count": null,
      "outputs": [
        {
          "output_type": "execute_result",
          "data": {
            "text/plain": [
              "['After',\n",
              " 'twelve',\n",
              " 'soft',\n",
              " 'showers',\n",
              " 'are',\n",
              " 'the',\n",
              " \"arch-duchess'\",\n",
              " 'socks',\n",
              " 'dry,',\n",
              " 'arch-dry?']"
            ]
          },
          "metadata": {},
          "execution_count": 74
        }
      ]
    },
    {
      "cell_type": "code",
      "metadata": {
        "id": "YGNoBYBEnLAx",
        "colab": {
          "base_uri": "https://localhost:8080/",
          "height": 35
        },
        "outputId": "1c303f30-225d-4b76-9894-9be1e7ac5147"
      },
      "source": [
        "# Mission 11: Create a function that takes a str as a parameter, and returns the same string, where every other letter\n",
        "# is written in uppercase, unless it's a consonant.\n",
        "def convertVowels(sentence):\n",
        "  newSentence = ''\n",
        "  index = 0\n",
        "  for i in sentence:\n",
        "    if i == ' ':\n",
        "      newSentence = newSentence + i\n",
        "    elif (i == 'a' or i == 'e' or i == 'i' or i == 'o' or i == 'u' or i == \"y\") and index%2==0:\n",
        "      newSentence = newSentence + i.upper()\n",
        "      index = index + 1\n",
        "    else:\n",
        "      newSentence = newSentence + i\n",
        "      index = index + 1\n",
        "  return newSentence\n",
        "    \n",
        "\n",
        "convertVowels(\"J'aime manger des pommes\")\n"
      ],
      "execution_count": null,
      "outputs": [
        {
          "output_type": "execute_result",
          "data": {
            "application/vnd.google.colaboratory.intrinsic+json": {
              "type": "string"
            },
            "text/plain": [
              "\"J'Aime mangEr des pOmmes\""
            ]
          },
          "metadata": {},
          "execution_count": 120
        }
      ]
    },
    {
      "cell_type": "code",
      "metadata": {
        "id": "dlj8Ri35a3Qu"
      },
      "source": [
        ""
      ],
      "execution_count": null,
      "outputs": []
    },
    {
      "cell_type": "code",
      "metadata": {
        "id": "IJCr_jvwnOCh"
      },
      "source": [
        "# Mission 12: Create a function that fills an empty list with string values of each letter of the following string: \n",
        "# \"Python fan\", and then displays the filled list"
      ],
      "execution_count": null,
      "outputs": []
    },
    {
      "cell_type": "code",
      "metadata": {
        "colab": {
          "base_uri": "https://localhost:8080/"
        },
        "id": "zzasyRBBa3_s",
        "outputId": "76e164ed-1bf9-4c41-f360-a8795e38ea1c"
      },
      "source": [
        "mission12 = \"Python fan\"\n",
        "\n",
        "def fillList (word):\n",
        "  newList = ' '.join(word).split()\n",
        "  return newList\n",
        "  \n",
        "  \n",
        "  \n",
        "fillList(mission12)"
      ],
      "execution_count": null,
      "outputs": [
        {
          "output_type": "execute_result",
          "data": {
            "text/plain": [
              "['P', 'y', 't', 'h', 'o', 'n', 'f', 'a', 'n']"
            ]
          },
          "metadata": {},
          "execution_count": 75
        }
      ]
    },
    {
      "cell_type": "code",
      "metadata": {
        "id": "xjYGsODEnSb2"
      },
      "source": [
        "# Mission 13: Create a function that take 2 inputs from the user, their date of birth and first name.\n",
        "# Convert the date of birth into an int and subtract it from the current year (you can do it using a certain module :-P).\n",
        "# Then display the message: Hello [first name], today you are [age] years old.\n"
      ],
      "execution_count": null,
      "outputs": []
    },
    {
      "cell_type": "code",
      "metadata": {
        "colab": {
          "base_uri": "https://localhost:8080/",
          "height": 70
        },
        "id": "0TR88FG2a4oZ",
        "outputId": "402d6b81-ac12-4e40-e0a2-b663acf99c14"
      },
      "source": [
        "from datetime import datetime, date\n",
        "#Get today's date\n",
        "today = date.today()\n",
        "  \n",
        "\n",
        "def mission13(born, firstname):\n",
        "#Identify given date as date month and year\n",
        "\tborn = datetime.strptime(born, \"%d/%m/%Y\").date()\n",
        "\tage = today.year - born.year - ((today.month, today.day) < (born.month, born.day))\n",
        "\treturn f\"Hello {firstname}, today you are {age} years old.\"\n",
        "  \n",
        "mission13(input(\"Select a birthdate format DD/MM/YYYY \"), input(\"Select a firstname \"))"
      ],
      "execution_count": null,
      "outputs": [
        {
          "name": "stdout",
          "output_type": "stream",
          "text": [
            "Select a birthdate format DD/MM/YYYY 29/10/4321\n",
            "Select a firstname Dark Vador\n"
          ]
        },
        {
          "output_type": "execute_result",
          "data": {
            "application/vnd.google.colaboratory.intrinsic+json": {
              "type": "string"
            },
            "text/plain": [
              "'Hello Dark Vador, today you are -2301 years old.'"
            ]
          },
          "metadata": {},
          "execution_count": 98
        }
      ]
    }
  ]
}