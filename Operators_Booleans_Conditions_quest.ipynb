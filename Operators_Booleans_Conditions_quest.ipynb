{
  "nbformat": 4,
  "nbformat_minor": 0,
  "metadata": {
    "colab": {
      "name": "Operators Booleans Conditions quest.ipynb",
      "provenance": [],
      "authorship_tag": "ABX9TyMsKqtAMVmjm7ODxT67vSA0",
      "include_colab_link": true
    },
    "kernelspec": {
      "name": "python3",
      "display_name": "Python 3"
    },
    "language_info": {
      "name": "python"
    }
  },
  "cells": [
    {
      "cell_type": "markdown",
      "metadata": {
        "id": "view-in-github",
        "colab_type": "text"
      },
      "source": [
        "<a href=\"https://colab.research.google.com/github/BerengerQueune/wild_notebooks/blob/main/Operators_Booleans_Conditions_quest.ipynb\" target=\"_parent\"><img src=\"https://colab.research.google.com/assets/colab-badge.svg\" alt=\"Open In Colab\"/></a>"
      ]
    },
    {
      "cell_type": "code",
      "metadata": {
        "id": "WOg2SQ0D2TXU"
      },
      "source": [
        "minimum = int(input(\"Enter the minimum value: \"))\n",
        "maximum = int(input(\"Enter the maximum value: \"))\n",
        "anyNumber = int(input(\"Enter any number: \"))\n",
        "\n",
        "if anyNumber > maximum:\n",
        "\tprint (\"You have entered\", anyNumber, \"which is greater than\", maximum, \"which is the maximum\")\n",
        "\tprint (\"Resulting integer:\", maximum)\n",
        "elif anyNumber < minimum:\n",
        "\tprint (\"You have entered\", anyNumber, \"which is lower than\", minimum, \"which is the minimum\")\n",
        "\tprint (\"Resulting integer:\", minimum)\n",
        "else:\n",
        "  print (\"This number is either equal or between the minimum and the maximum!\")\n",
        "  "
      ],
      "execution_count": null,
      "outputs": []
    }
  ]
}