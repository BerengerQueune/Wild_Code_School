{
  "nbformat": 4,
  "nbformat_minor": 0,
  "metadata": {
    "colab": {
      "name": "1.1 Pandas - Introduction to DataFrames - Bérenger.ipynb",
      "provenance": [],
      "collapsed_sections": []
    },
    "kernelspec": {
      "name": "python3",
      "display_name": "Python 3"
    }
  },
  "cells": [
    {
      "cell_type": "markdown",
      "metadata": {
        "id": "iGmmrwi0cC08"
      },
      "source": [
        "# Mission 1\n",
        "\n",
        "![](https://i.imgur.com/Ax3pp2A.png)\n",
        "\n",
        "\n",
        "Create a \"fruit\" dataframe that reflects the above example **using a list** data structure\n",
        "\n",
        "[This resource could help you](https://www.geeksforgeeks.org/create-a-pandas-dataframe-from-lists/), or [this resource](https://datatofish.com/list-to-dataframe/)."
      ]
    },
    {
      "cell_type": "code",
      "metadata": {
        "id": "qaxzkL8aaM3O",
        "colab": {
          "base_uri": "https://localhost:8080/",
          "height": 80
        },
        "outputId": "cd862d0f-be83-47a3-ad0e-fd442ff8709f"
      },
      "source": [
        "import pandas as pd\n",
        "\n",
        "lst = [['30', '21']]\n",
        "\n",
        "df = pd.DataFrame(lst, columns = ['Apples', 'Bananas'])\n",
        "df"
      ],
      "execution_count": null,
      "outputs": [
        {
          "output_type": "execute_result",
          "data": {
            "text/html": [
              "<div>\n",
              "<style scoped>\n",
              "    .dataframe tbody tr th:only-of-type {\n",
              "        vertical-align: middle;\n",
              "    }\n",
              "\n",
              "    .dataframe tbody tr th {\n",
              "        vertical-align: top;\n",
              "    }\n",
              "\n",
              "    .dataframe thead th {\n",
              "        text-align: right;\n",
              "    }\n",
              "</style>\n",
              "<table border=\"1\" class=\"dataframe\">\n",
              "  <thead>\n",
              "    <tr style=\"text-align: right;\">\n",
              "      <th></th>\n",
              "      <th>Apples</th>\n",
              "      <th>Bananas</th>\n",
              "    </tr>\n",
              "  </thead>\n",
              "  <tbody>\n",
              "    <tr>\n",
              "      <th>0</th>\n",
              "      <td>30</td>\n",
              "      <td>21</td>\n",
              "    </tr>\n",
              "  </tbody>\n",
              "</table>\n",
              "</div>"
            ],
            "text/plain": [
              "  Apples Bananas\n",
              "0     30      21"
            ]
          },
          "metadata": {},
          "execution_count": 5
        }
      ]
    },
    {
      "cell_type": "markdown",
      "metadata": {
        "id": "SyGDBMkkcQ9W"
      },
      "source": [
        "# Mission 2\n",
        "\n",
        "Create a \"fruit_vendors\" dataframe that reflects the below example **using a dictionary** data structure\n",
        "\n",
        "![](https://i.imgur.com/CHPn7ZF.png)\n",
        "\n",
        "[This resource could help you.](https://pandas.pydata.org/pandas-docs/stable/reference/api/pandas.DataFrame.from_dict.html)"
      ]
    },
    {
      "cell_type": "code",
      "metadata": {
        "id": "K-giWZ5hcdRv",
        "colab": {
          "base_uri": "https://localhost:8080/",
          "height": 111
        },
        "outputId": "6de696cd-eb4d-4d81-f3b3-a055f32dc5e1"
      },
      "source": [
        "lst2 = {'2017 Sales': [35, 21], '2018 Sales': [41, 34,]}\n",
        "lst3 = pd.DataFrame.from_dict(lst2, columns = ['Apples', 'Bananas'], orient='index')\n",
        "lst3"
      ],
      "execution_count": null,
      "outputs": [
        {
          "output_type": "execute_result",
          "data": {
            "text/html": [
              "<div>\n",
              "<style scoped>\n",
              "    .dataframe tbody tr th:only-of-type {\n",
              "        vertical-align: middle;\n",
              "    }\n",
              "\n",
              "    .dataframe tbody tr th {\n",
              "        vertical-align: top;\n",
              "    }\n",
              "\n",
              "    .dataframe thead th {\n",
              "        text-align: right;\n",
              "    }\n",
              "</style>\n",
              "<table border=\"1\" class=\"dataframe\">\n",
              "  <thead>\n",
              "    <tr style=\"text-align: right;\">\n",
              "      <th></th>\n",
              "      <th>Apples</th>\n",
              "      <th>Bananas</th>\n",
              "    </tr>\n",
              "  </thead>\n",
              "  <tbody>\n",
              "    <tr>\n",
              "      <th>2017 Sales</th>\n",
              "      <td>35</td>\n",
              "      <td>21</td>\n",
              "    </tr>\n",
              "    <tr>\n",
              "      <th>2018 Sales</th>\n",
              "      <td>41</td>\n",
              "      <td>34</td>\n",
              "    </tr>\n",
              "  </tbody>\n",
              "</table>\n",
              "</div>"
            ],
            "text/plain": [
              "            Apples  Bananas\n",
              "2017 Sales      35       21\n",
              "2018 Sales      41       34"
            ]
          },
          "metadata": {},
          "execution_count": 31
        }
      ]
    },
    {
      "cell_type": "markdown",
      "metadata": {
        "id": "XXBoq2QQeaWV"
      },
      "source": [
        "# Mission 3\n",
        "\n",
        "Use a loop to display the values from each column in the dataframe from mission 2.\n"
      ]
    },
    {
      "cell_type": "code",
      "metadata": {
        "id": "0Gjh7zAwejGv",
        "colab": {
          "base_uri": "https://localhost:8080/"
        },
        "outputId": "2c014730-de48-43d9-da04-f11b793c1d80"
      },
      "source": [
        "for index, row in lst3.iterrows():\n",
        "    print (row[\"Apples\"], row[\"Bananas\"])"
      ],
      "execution_count": null,
      "outputs": [
        {
          "output_type": "stream",
          "name": "stdout",
          "text": [
            "35 21\n",
            "41 34\n"
          ]
        }
      ]
    },
    {
      "cell_type": "markdown",
      "metadata": {
        "id": "FJsldb56eCZ0"
      },
      "source": [
        "# Mission 4\n",
        "\n",
        "Delete the first row of the dataframe from mission 2\n",
        "\n",
        "[This resource could help you.](https://pandas.pydata.org/pandas-docs/stable/reference/api/pandas.DataFrame.drop.html)"
      ]
    },
    {
      "cell_type": "code",
      "metadata": {
        "id": "8NvM_j35gJTZ",
        "colab": {
          "base_uri": "https://localhost:8080/",
          "height": 80
        },
        "outputId": "bfc5c0c8-b479-4f7d-c573-e702148b905f"
      },
      "source": [
        "lst3 = lst3.drop(\"2017 Sales\", axis = 0)\n",
        "lst3"
      ],
      "execution_count": null,
      "outputs": [
        {
          "output_type": "execute_result",
          "data": {
            "text/html": [
              "<div>\n",
              "<style scoped>\n",
              "    .dataframe tbody tr th:only-of-type {\n",
              "        vertical-align: middle;\n",
              "    }\n",
              "\n",
              "    .dataframe tbody tr th {\n",
              "        vertical-align: top;\n",
              "    }\n",
              "\n",
              "    .dataframe thead th {\n",
              "        text-align: right;\n",
              "    }\n",
              "</style>\n",
              "<table border=\"1\" class=\"dataframe\">\n",
              "  <thead>\n",
              "    <tr style=\"text-align: right;\">\n",
              "      <th></th>\n",
              "      <th>Apples</th>\n",
              "      <th>Bananas</th>\n",
              "    </tr>\n",
              "  </thead>\n",
              "  <tbody>\n",
              "    <tr>\n",
              "      <th>2018 Sales</th>\n",
              "      <td>41</td>\n",
              "      <td>34</td>\n",
              "    </tr>\n",
              "  </tbody>\n",
              "</table>\n",
              "</div>"
            ],
            "text/plain": [
              "            Apples  Bananas\n",
              "2018 Sales      41       34"
            ]
          },
          "metadata": {},
          "execution_count": 54
        }
      ]
    },
    {
      "cell_type": "markdown",
      "metadata": {
        "id": "-XdmcyLqe66p"
      },
      "source": [
        "# Mission 5\n",
        "\n",
        "Delete the first column from the dataframe from mission 2.\n"
      ]
    },
    {
      "cell_type": "code",
      "metadata": {
        "id": "g9l_0VqghJn9",
        "colab": {
          "base_uri": "https://localhost:8080/",
          "height": 80
        },
        "outputId": "f4de3fc5-387d-437b-ecc2-824ef7a465e5"
      },
      "source": [
        "lst3 = lst3.drop(columns=\"Apples\")\n",
        "lst3"
      ],
      "execution_count": null,
      "outputs": [
        {
          "output_type": "execute_result",
          "data": {
            "text/html": [
              "<div>\n",
              "<style scoped>\n",
              "    .dataframe tbody tr th:only-of-type {\n",
              "        vertical-align: middle;\n",
              "    }\n",
              "\n",
              "    .dataframe tbody tr th {\n",
              "        vertical-align: top;\n",
              "    }\n",
              "\n",
              "    .dataframe thead th {\n",
              "        text-align: right;\n",
              "    }\n",
              "</style>\n",
              "<table border=\"1\" class=\"dataframe\">\n",
              "  <thead>\n",
              "    <tr style=\"text-align: right;\">\n",
              "      <th></th>\n",
              "      <th>Bananas</th>\n",
              "    </tr>\n",
              "  </thead>\n",
              "  <tbody>\n",
              "    <tr>\n",
              "      <th>2018 Sales</th>\n",
              "      <td>34</td>\n",
              "    </tr>\n",
              "  </tbody>\n",
              "</table>\n",
              "</div>"
            ],
            "text/plain": [
              "            Bananas\n",
              "2018 Sales       34"
            ]
          },
          "metadata": {},
          "execution_count": 55
        }
      ]
    }
  ]
}