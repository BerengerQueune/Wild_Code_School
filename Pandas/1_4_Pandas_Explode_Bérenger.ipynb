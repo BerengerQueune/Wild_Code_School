{
  "nbformat": 4,
  "nbformat_minor": 0,
  "metadata": {
    "colab": {
      "name": "1.4 Pandas - Explode - Bérenger.ipynb",
      "provenance": [],
      "collapsed_sections": []
    },
    "kernelspec": {
      "name": "python3",
      "display_name": "Python 3"
    }
  },
  "cells": [
    {
      "cell_type": "markdown",
      "metadata": {
        "id": "WM01RkUbNtb4"
      },
      "source": [
        "# Mission\n",
        "\n",
        "Still using this dataset: http://bit.ly/imdbratings\n",
        "- Which actor is mentioned the most often?\n"
      ]
    },
    {
      "cell_type": "code",
      "metadata": {
        "id": "lsqs7rXWNrRv"
      },
      "source": [
        "import pandas as pd\n",
        "\n",
        "link = 'https://raw.githubusercontent.com/justmarkham/pandas-videos/master/data/imdb_1000.csv'\n",
        "df = pd.read_csv(link)\n"
      ],
      "execution_count": null,
      "outputs": []
    },
    {
      "cell_type": "code",
      "metadata": {
        "colab": {
          "base_uri": "https://localhost:8080/",
          "height": 202
        },
        "id": "jaLA4-dtdWqV",
        "outputId": "32e5a0fb-17e3-4687-990f-f49ea41b2b58"
      },
      "source": [
        "df[\"actors_list\"] = df[\"actors_list\"].apply(eval)\n",
        "df.head()"
      ],
      "execution_count": null,
      "outputs": [
        {
          "output_type": "execute_result",
          "data": {
            "text/html": [
              "<div>\n",
              "<style scoped>\n",
              "    .dataframe tbody tr th:only-of-type {\n",
              "        vertical-align: middle;\n",
              "    }\n",
              "\n",
              "    .dataframe tbody tr th {\n",
              "        vertical-align: top;\n",
              "    }\n",
              "\n",
              "    .dataframe thead th {\n",
              "        text-align: right;\n",
              "    }\n",
              "</style>\n",
              "<table border=\"1\" class=\"dataframe\">\n",
              "  <thead>\n",
              "    <tr style=\"text-align: right;\">\n",
              "      <th></th>\n",
              "      <th>star_rating</th>\n",
              "      <th>title</th>\n",
              "      <th>content_rating</th>\n",
              "      <th>genre</th>\n",
              "      <th>duration</th>\n",
              "      <th>actors_list</th>\n",
              "    </tr>\n",
              "  </thead>\n",
              "  <tbody>\n",
              "    <tr>\n",
              "      <th>0</th>\n",
              "      <td>9.3</td>\n",
              "      <td>The Shawshank Redemption</td>\n",
              "      <td>R</td>\n",
              "      <td>Crime</td>\n",
              "      <td>142</td>\n",
              "      <td>[Tim Robbins, Morgan Freeman, Bob Gunton]</td>\n",
              "    </tr>\n",
              "    <tr>\n",
              "      <th>1</th>\n",
              "      <td>9.2</td>\n",
              "      <td>The Godfather</td>\n",
              "      <td>R</td>\n",
              "      <td>Crime</td>\n",
              "      <td>175</td>\n",
              "      <td>[Marlon Brando, Al Pacino, James Caan]</td>\n",
              "    </tr>\n",
              "    <tr>\n",
              "      <th>2</th>\n",
              "      <td>9.1</td>\n",
              "      <td>The Godfather: Part II</td>\n",
              "      <td>R</td>\n",
              "      <td>Crime</td>\n",
              "      <td>200</td>\n",
              "      <td>[Al Pacino, Robert De Niro, Robert Duvall]</td>\n",
              "    </tr>\n",
              "    <tr>\n",
              "      <th>3</th>\n",
              "      <td>9.0</td>\n",
              "      <td>The Dark Knight</td>\n",
              "      <td>PG-13</td>\n",
              "      <td>Action</td>\n",
              "      <td>152</td>\n",
              "      <td>[Christian Bale, Heath Ledger, Aaron Eckhart]</td>\n",
              "    </tr>\n",
              "    <tr>\n",
              "      <th>4</th>\n",
              "      <td>8.9</td>\n",
              "      <td>Pulp Fiction</td>\n",
              "      <td>R</td>\n",
              "      <td>Crime</td>\n",
              "      <td>154</td>\n",
              "      <td>[John Travolta, Uma Thurman, Samuel L. Jackson]</td>\n",
              "    </tr>\n",
              "  </tbody>\n",
              "</table>\n",
              "</div>"
            ],
            "text/plain": [
              "   star_rating  ...                                      actors_list\n",
              "0          9.3  ...        [Tim Robbins, Morgan Freeman, Bob Gunton]\n",
              "1          9.2  ...           [Marlon Brando, Al Pacino, James Caan]\n",
              "2          9.1  ...       [Al Pacino, Robert De Niro, Robert Duvall]\n",
              "3          9.0  ...    [Christian Bale, Heath Ledger, Aaron Eckhart]\n",
              "4          8.9  ...  [John Travolta, Uma Thurman, Samuel L. Jackson]\n",
              "\n",
              "[5 rows x 6 columns]"
            ]
          },
          "metadata": {},
          "execution_count": 36
        }
      ]
    },
    {
      "cell_type": "code",
      "metadata": {
        "id": "GO1Tw-CeeVVx"
      },
      "source": [
        "def to_1D(series):\n",
        " return pd.Series([x for _list in series for x in _list])"
      ],
      "execution_count": null,
      "outputs": []
    },
    {
      "cell_type": "code",
      "metadata": {
        "colab": {
          "base_uri": "https://localhost:8080/"
        },
        "id": "k7TJMjYjeHGo",
        "outputId": "8f565562-3cc1-40ce-964b-b4702b4fd038"
      },
      "source": [
        "to_1D(df[\"actors_list\"]).value_counts().head()"
      ],
      "execution_count": null,
      "outputs": [
        {
          "output_type": "execute_result",
          "data": {
            "text/plain": [
              "Robert De Niro    18\n",
              "Tom Hanks         14\n",
              "Clint Eastwood    14\n",
              "Brad Pitt         14\n",
              "Al Pacino         13\n",
              "dtype: int64"
            ]
          },
          "metadata": {},
          "execution_count": 40
        }
      ]
    },
    {
      "cell_type": "markdown",
      "metadata": {
        "id": "l6YqLTOhfGjP"
      },
      "source": [
        "The actor mentioned the most is Robert De Niro"
      ]
    }
  ]
}