{
  "nbformat": 4,
  "nbformat_minor": 0,
  "metadata": {
    "colab": {
      "name": "4.2 Python - OOP.ipynb",
      "provenance": [],
      "collapsed_sections": [],
      "authorship_tag": "ABX9TyNxEWliLwskYwdMB4AHYKXt",
      "include_colab_link": true
    },
    "kernelspec": {
      "name": "python3",
      "display_name": "Python 3"
    },
    "language_info": {
      "name": "python"
    }
  },
  "cells": [
    {
      "cell_type": "markdown",
      "metadata": {
        "id": "view-in-github",
        "colab_type": "text"
      },
      "source": [
        "<a href=\"https://colab.research.google.com/github/BerengerQueune/wild_notebooks/blob/main/4_2_Python_OOP.ipynb\" target=\"_parent\"><img src=\"https://colab.research.google.com/assets/colab-badge.svg\" alt=\"Open In Colab\"/></a>"
      ]
    },
    {
      "cell_type": "code",
      "metadata": {
        "id": "WcJ94Df6-Tm1"
      },
      "source": [
        "#import the random module\n",
        "import random\n",
        "\n",
        "#Making a class\n",
        "class dataAnalyst:\n",
        "\n",
        "  #Choosing attributes\n",
        "  def __init__(self, name, firstname, age, gender, trainingPrevious, motivation=100, progression=0):\n",
        "    self.name = name\n",
        "    self.firstname = firstname\n",
        "    self.age = age\n",
        "    self.gender = gender\n",
        "    self.trainingPrevious = trainingPrevious\n",
        "    self.motivation = motivation\n",
        "    self.progression = progression\n",
        "\n",
        "  #Creation of the methods\n",
        "  def train(self):\n",
        "    self.motivation = self.motivation - random.randrange(5, 26)\n",
        "    self.progression = self.progression + random.randrange(20, 31)\n",
        "    return self.motivation, self.progression\n",
        "\n",
        "  def promotion(self):\n",
        "    self.motivation = self.motivation + random.randrange(10, 31)\n",
        "    self.progression = self.progression + random.randrange(10, 31)\n",
        "    return self.motivation, self.progression\n",
        "\n",
        "  def fail(self):\n",
        "    self.motivation = self.motivation - random.randrange(20, 41)\n",
        "    self.progression = self.progression + random.randrange(20, 41)\n",
        "    return self.motivation, self.progression\n",
        "\n",
        "  def success(self):\n",
        "    self.motivation = self.motivation + random.randrange(20, 41)\n",
        "    self.progression = self.progression + random.randrange(10, 21)\n",
        "    return self.motivation, self.progression"
      ],
      "execution_count": null,
      "outputs": []
    },
    {
      "cell_type": "code",
      "metadata": {
        "id": "2ghiVZ34Esgl"
      },
      "source": [
        "#Instantiation of a new dataAnalyst object\n",
        "DarkVador = dataAnalyst(\"Vador\", \"Dark\", 24, \"Man\", \"Jedi\")"
      ],
      "execution_count": null,
      "outputs": []
    },
    {
      "cell_type": "code",
      "metadata": {
        "colab": {
          "base_uri": "https://localhost:8080/"
        },
        "id": "_xLwR_h5EsqN",
        "outputId": "9d09a94c-015d-45e4-c0f3-9c1689c6f366"
      },
      "source": [
        "#Creation of a list to use for randomizing purpose\n",
        "liste = [5, 6, 7, 8]\n",
        "\n",
        "#Function using a random number from previous list to activate a method within the class\n",
        "def randomFunction():\n",
        "  \n",
        "  if random.choice(liste) == 8:\n",
        "    return DarkVador.success()\n",
        "  elif random.choice(liste) == 7:\n",
        "    return DarkVador.fail()\n",
        "  elif random.choice(liste) == 6:\n",
        "    return DarkVador.promotion()\n",
        "  else:\n",
        "    return DarkVador.train()\n",
        "# While loop running until winning or learning conditions are met\n",
        "while DarkVador.motivation > 0 and DarkVador.progression < 100:\n",
        "  randomFunction()\n",
        "  if DarkVador.motivation <= 0:\n",
        "    print (\"BRAVO YOU WON!!!\")\n",
        "  elif DarkVador.progression >= 100:\n",
        "    print (\"BRAVO YOU LEARNED!!!\")"
      ],
      "execution_count": null,
      "outputs": [
        {
          "output_type": "stream",
          "name": "stdout",
          "text": [
            "BRAVO YOU LEARNED!!!\n"
          ]
        }
      ]
    }
  ]
}