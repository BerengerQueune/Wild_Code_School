{
  "nbformat": 4,
  "nbformat_minor": 0,
  "metadata": {
    "colab": {
      "name": "2.15 ML Classification - KNN distances with Pokemons Bérenger.ipynb",
      "provenance": [],
      "collapsed_sections": []
    },
    "kernelspec": {
      "name": "python3",
      "display_name": "Python 3"
    },
    "language_info": {
      "name": "python"
    }
  },
  "cells": [
    {
      "cell_type": "code",
      "metadata": {
        "id": "bYIWVsk8P2BY"
      },
      "source": [
        "import numpy as np\n",
        "import pandas as pd\n",
        "from sklearn.neighbors import NearestNeighbors\n",
        "\n",
        "pokemon_attrapez_les_tous = pd.read_csv('https://raw.githubusercontent.com/murpi/wilddata/master/pokemon.csv')"
      ],
      "execution_count": null,
      "outputs": []
    },
    {
      "cell_type": "code",
      "metadata": {
        "id": "w2W-UuCFAwkt"
      },
      "source": [
        "pokemon_attrapez_pas_les_miens = ['Mewtwo', 'Lugia', 'Rayquaza', 'Giratina Origin Forme', 'Dialga', 'Palkia']\n",
        "\n",
        "pokemon_attrapez_pas_les_miens2 = pokemon_attrapez_les_tous[pokemon_attrapez_les_tous['Name'].isin(pokemon_attrapez_pas_les_miens)]\n",
        "\n",
        "pokemon_attrapez_pas_les_miens3 = pokemon_attrapez_pas_les_miens2[[\"HP\", \"Attack\", \"Defense\", 'Sp. Atk', 'Sp. Def', 'Speed']]\n",
        "pokemon_attrapez_les_tous_sauf_les_legendaires = pokemon_attrapez_les_tous[pokemon_attrapez_les_tous['Legendary'] == False]"
      ],
      "execution_count": null,
      "outputs": []
    },
    {
      "cell_type": "code",
      "metadata": {
        "id": "kaXGIGh-Qe4M"
      },
      "source": [
        "X = pokemon_attrapez_les_tous_sauf_les_legendaires[['HP', 'Attack', 'Defense', 'Sp. Atk', 'Sp. Def', 'Speed']]\n",
        "\n",
        "distanceKNN = NearestNeighbors(n_neighbors=1).fit(X)\n",
        "\n",
        "mewtwo = distanceKNN.kneighbors(pokemon_attrapez_pas_les_miens3)"
      ],
      "execution_count": null,
      "outputs": []
    },
    {
      "cell_type": "code",
      "metadata": {
        "id": "M_SDvmsLG8aX",
        "colab": {
          "base_uri": "https://localhost:8080/"
        },
        "outputId": "238e23c5-cb8f-489d-fcfa-494d3b25c4e9"
      },
      "source": [
        "mewtwo"
      ],
      "execution_count": null,
      "outputs": [
        {
          "output_type": "execute_result",
          "data": {
            "text/plain": [
              "(array([[42.21374184],\n",
              "        [46.06517123],\n",
              "        [36.74234614],\n",
              "        [36.3868108 ],\n",
              "        [31.46426545],\n",
              "        [58.30951895]]), array([[242],\n",
              "        [508],\n",
              "        [268],\n",
              "        [ 12],\n",
              "        [  8],\n",
              "        [159]]))"
            ]
          },
          "metadata": {},
          "execution_count": 4
        }
      ]
    },
    {
      "cell_type": "code",
      "metadata": {
        "id": "LxNgZ754YbYr"
      },
      "source": [
        "mewtwo = mewtwo[1].reshape(1,6)[0]\n",
        "liste_finale = pokemon_attrapez_les_tous_sauf_les_legendaires.iloc[mewtwo]"
      ],
      "execution_count": null,
      "outputs": []
    },
    {
      "cell_type": "code",
      "metadata": {
        "id": "25D25pXbelx2",
        "colab": {
          "base_uri": "https://localhost:8080/"
        },
        "outputId": "a5ba1711-5e66-451a-e37e-3f6aeaa4feac"
      },
      "source": [
        "for i in range(len(pokemon_attrapez_pas_les_miens)):\n",
        "  liste_base = pokemon_attrapez_pas_les_miens[i]\n",
        "  newlist = liste_finale[\"Name\"].iloc[i]\n",
        "  print (f\"En remplacement du pokemon {liste_base} je propose {newlist}.\")\n"
      ],
      "execution_count": null,
      "outputs": [
        {
          "output_type": "stream",
          "name": "stdout",
          "text": [
            "En remplacement du pokemon Mewtwo je propose Mega Houndoom.\n",
            "En remplacement du pokemon Lugia je propose Cresselia.\n",
            "En remplacement du pokemon Rayquaza je propose Mega Blaziken.\n",
            "En remplacement du pokemon Giratina Origin Forme je propose Mega Blastoise.\n",
            "En remplacement du pokemon Dialga je propose Mega Charizard Y.\n",
            "En remplacement du pokemon Palkia je propose Mew.\n"
          ]
        }
      ]
    }
  ]
}