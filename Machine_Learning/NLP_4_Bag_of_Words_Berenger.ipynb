{
  "nbformat": 4,
  "nbformat_minor": 0,
  "metadata": {
    "colab": {
      "name": "NLP 4 : Bag of Words - Berenger.ipynb",
      "provenance": [],
      "collapsed_sections": []
    },
    "kernelspec": {
      "name": "python3",
      "display_name": "Python 3"
    },
    "language_info": {
      "name": "python"
    }
  },
  "cells": [
    {
      "cell_type": "code",
      "metadata": {
        "id": "4nNLeCn7R0b7"
      },
      "source": [
        "import numpy as np\n",
        "import pandas as pd\n",
        "import matplotlib.pyplot as plt\n",
        "import seaborn as sns\n",
        "import plotly.express as px\n",
        "from sklearn.model_selection import train_test_split\n",
        "from sklearn.feature_extraction.text import CountVectorizer\n"
      ],
      "execution_count": null,
      "outputs": []
    },
    {
      "cell_type": "code",
      "metadata": {
        "colab": {
          "base_uri": "https://localhost:8080/"
        },
        "id": "NH2nz3uOSLqr",
        "outputId": "aaa50023-ec98-4823-af9f-bb4aa40758f1"
      },
      "source": [
        "df = pd.read_csv(\"https://raw.githubusercontent.com/BerengerQueune/wild_notebooks/main/Dataset/train.csv\")\n",
        "df.shape"
      ],
      "execution_count": null,
      "outputs": [
        {
          "output_type": "execute_result",
          "data": {
            "text/plain": [
              "(27481, 4)"
            ]
          },
          "metadata": {},
          "execution_count": 3
        }
      ]
    },
    {
      "cell_type": "markdown",
      "metadata": {
        "id": "Xc3epbzTSV25"
      },
      "source": [
        "Keep only positive and negative tweets (so you exclude neutral). What is the percentage of positive/negative tweets?"
      ]
    },
    {
      "cell_type": "code",
      "metadata": {
        "colab": {
          "base_uri": "https://localhost:8080/"
        },
        "id": "d1Q6rm1bSXqL",
        "outputId": "15d07acd-54fa-4975-be75-b5c9971d791f"
      },
      "source": [
        "df_positive_negative = df.loc[df[\"sentiment\"].isin([\"negative\", \"positive\"])]\n",
        "\n",
        "df_positive_negative[\"sentiment\"].value_counts(normalize=True)*100"
      ],
      "execution_count": null,
      "outputs": [
        {
          "output_type": "execute_result",
          "data": {
            "text/plain": [
              "positive    52.447595\n",
              "negative    47.552405\n",
              "Name: sentiment, dtype: float64"
            ]
          },
          "metadata": {},
          "execution_count": 4
        }
      ]
    },
    {
      "cell_type": "markdown",
      "metadata": {
        "id": "hVTHVQ9kTbeX"
      },
      "source": [
        "<b><font color='orange'>The percentage of positive tweets is 52,44% and negative tweets is 47,55%.</font></b>"
      ]
    },
    {
      "cell_type": "code",
      "metadata": {
        "id": "_RkPjaBRcXgn"
      },
      "source": [
        "df_positive_negative.reset_index(drop=True,inplace=True)"
      ],
      "execution_count": null,
      "outputs": []
    },
    {
      "cell_type": "markdown",
      "metadata": {
        "id": "SrKKDy0XTx9e"
      },
      "source": [
        "Copy the text column into a Series X, and the sentiment column into a Series y. Apply a train test split with the random_state = 32."
      ]
    },
    {
      "cell_type": "code",
      "metadata": {
        "id": "LWCwz_qvSwgC"
      },
      "source": [
        "X = df_positive_negative[\"text\"]\n",
        "y = df_positive_negative['sentiment']\n",
        "\n",
        "X_train, X_test, y_train, y_test = train_test_split(X, y, random_state = 32, train_size = 0.75)"
      ],
      "execution_count": null,
      "outputs": []
    },
    {
      "cell_type": "markdown",
      "metadata": {
        "id": "XMwRt1L6UYpc"
      },
      "source": [
        "Create a vectorizer model with scikit-learn using the Countvectorizer method. Train your model on X_train, then create a matrix of features X_train_CV. Create the X_test_CV matrix without re-training the model. The format of the X_test_CV matrix should be 4091x15806 with 44633 stored elements."
      ]
    },
    {
      "cell_type": "code",
      "metadata": {
        "colab": {
          "base_uri": "https://localhost:8080/"
        },
        "id": "_lEvnN6GUZLA",
        "outputId": "15fa5adb-cf31-4369-86d2-58fc01b1ab21"
      },
      "source": [
        "vectorizer = CountVectorizer()\n",
        "vectorizer.fit(X_train)"
      ],
      "execution_count": null,
      "outputs": [
        {
          "output_type": "execute_result",
          "data": {
            "text/plain": [
              "CountVectorizer()"
            ]
          },
          "metadata": {},
          "execution_count": 7
        }
      ]
    },
    {
      "cell_type": "code",
      "metadata": {
        "id": "kSXwxqqxUpdj"
      },
      "source": [
        "X_train_CV = vectorizer.transform(X_train)"
      ],
      "execution_count": null,
      "outputs": []
    },
    {
      "cell_type": "code",
      "metadata": {
        "id": "DAop0kbTU6EB"
      },
      "source": [
        "X_test_CV = vectorizer.transform(X_test)"
      ],
      "execution_count": null,
      "outputs": []
    },
    {
      "cell_type": "code",
      "metadata": {
        "colab": {
          "base_uri": "https://localhost:8080/"
        },
        "id": "h4C099rUVCAe",
        "outputId": "073c043b-5a91-420b-866f-17b1e574f022"
      },
      "source": [
        "X_test_CV"
      ],
      "execution_count": null,
      "outputs": [
        {
          "output_type": "execute_result",
          "data": {
            "text/plain": [
              "<4091x15806 sparse matrix of type '<class 'numpy.int64'>'\n",
              "\twith 44633 stored elements in Compressed Sparse Row format>"
            ]
          },
          "metadata": {},
          "execution_count": 10
        }
      ]
    },
    {
      "cell_type": "markdown",
      "metadata": {
        "id": "ExrACJghVFwX"
      },
      "source": [
        "Now train a logistic regression with default parameters. You should get these scores: 0.966 for the train test, and 0.877 for the test set."
      ]
    },
    {
      "cell_type": "code",
      "metadata": {
        "colab": {
          "base_uri": "https://localhost:8080/"
        },
        "id": "5cqOF8WBVJCC",
        "outputId": "3979f1af-197b-40f3-aec1-5cf42d3a5f1d"
      },
      "source": [
        "from sklearn.linear_model import LogisticRegression\n",
        "\n",
        "model = LogisticRegression().fit(X_train_CV,y_train)\n",
        "\n",
        "print(\"accuracy score on train set:\",model.score(X_train_CV, y_train))\n",
        "print(\"accuracy score on test set:\",model.score(X_test_CV, y_test))"
      ],
      "execution_count": null,
      "outputs": [
        {
          "output_type": "stream",
          "name": "stdout",
          "text": [
            "accuracy score on train set: 0.9663461538461539\n",
            "accuracy score on test set: 0.8772916157418724\n"
          ]
        },
        {
          "output_type": "stream",
          "name": "stderr",
          "text": [
            "/usr/local/lib/python3.7/dist-packages/sklearn/linear_model/_logistic.py:818: ConvergenceWarning:\n",
            "\n",
            "lbfgs failed to converge (status=1):\n",
            "STOP: TOTAL NO. of ITERATIONS REACHED LIMIT.\n",
            "\n",
            "Increase the number of iterations (max_iter) or scale the data as shown in:\n",
            "    https://scikit-learn.org/stable/modules/preprocessing.html\n",
            "Please also refer to the documentation for alternative solver options:\n",
            "    https://scikit-learn.org/stable/modules/linear_model.html#logistic-regression\n",
            "\n"
          ]
        }
      ]
    },
    {
      "cell_type": "markdown",
      "metadata": {
        "id": "qvL2opMeX9MU"
      },
      "source": [
        "Bonus step: try to display 10 tweets that were badly predicted (false positive or false negative). Would you have done better than the algorithm?"
      ]
    },
    {
      "cell_type": "code",
      "metadata": {
        "colab": {
          "base_uri": "https://localhost:8080/",
          "height": 112
        },
        "id": "i0sk7Bz8W0tG",
        "outputId": "d940b870-f1fd-46e3-c56f-3e15c5d772c6"
      },
      "source": [
        "from sklearn.metrics import confusion_matrix\n",
        "\n",
        "pd.DataFrame(data = confusion_matrix(y_true = y_test, y_pred = model.predict(X_test_CV)),\n",
        "             index = model.classes_ + \" actual\",\n",
        "             columns = model.classes_ + \" predicted\")"
      ],
      "execution_count": null,
      "outputs": [
        {
          "output_type": "execute_result",
          "data": {
            "text/html": [
              "<div>\n",
              "<style scoped>\n",
              "    .dataframe tbody tr th:only-of-type {\n",
              "        vertical-align: middle;\n",
              "    }\n",
              "\n",
              "    .dataframe tbody tr th {\n",
              "        vertical-align: top;\n",
              "    }\n",
              "\n",
              "    .dataframe thead th {\n",
              "        text-align: right;\n",
              "    }\n",
              "</style>\n",
              "<table border=\"1\" class=\"dataframe\">\n",
              "  <thead>\n",
              "    <tr style=\"text-align: right;\">\n",
              "      <th></th>\n",
              "      <th>negative predicted</th>\n",
              "      <th>positive predicted</th>\n",
              "    </tr>\n",
              "  </thead>\n",
              "  <tbody>\n",
              "    <tr>\n",
              "      <th>negative actual</th>\n",
              "      <td>1700</td>\n",
              "      <td>235</td>\n",
              "    </tr>\n",
              "    <tr>\n",
              "      <th>positive actual</th>\n",
              "      <td>267</td>\n",
              "      <td>1889</td>\n",
              "    </tr>\n",
              "  </tbody>\n",
              "</table>\n",
              "</div>"
            ],
            "text/plain": [
              "                 negative predicted  positive predicted\n",
              "negative actual                1700                 235\n",
              "positive actual                 267                1889"
            ]
          },
          "metadata": {},
          "execution_count": 12
        }
      ]
    },
    {
      "cell_type": "code",
      "metadata": {
        "id": "UWhWWt7jbvan"
      },
      "source": [
        "X_test2 = pd.DataFrame(X_test).copy()"
      ],
      "execution_count": null,
      "outputs": []
    },
    {
      "cell_type": "code",
      "metadata": {
        "colab": {
          "base_uri": "https://localhost:8080/",
          "height": 206
        },
        "id": "coxphzK6b0UG",
        "outputId": "c2649592-335b-4118-a8f1-10f5bea4d150"
      },
      "source": [
        "X_test2.head()"
      ],
      "execution_count": null,
      "outputs": [
        {
          "output_type": "execute_result",
          "data": {
            "text/html": [
              "<div>\n",
              "<style scoped>\n",
              "    .dataframe tbody tr th:only-of-type {\n",
              "        vertical-align: middle;\n",
              "    }\n",
              "\n",
              "    .dataframe tbody tr th {\n",
              "        vertical-align: top;\n",
              "    }\n",
              "\n",
              "    .dataframe thead th {\n",
              "        text-align: right;\n",
              "    }\n",
              "</style>\n",
              "<table border=\"1\" class=\"dataframe\">\n",
              "  <thead>\n",
              "    <tr style=\"text-align: right;\">\n",
              "      <th></th>\n",
              "      <th>text</th>\n",
              "    </tr>\n",
              "  </thead>\n",
              "  <tbody>\n",
              "    <tr>\n",
              "      <th>3386</th>\n",
              "      <td>- no,  is buttfuck stupid. I`m just silly and...</td>\n",
              "    </tr>\n",
              "    <tr>\n",
              "      <th>4559</th>\n",
              "      <td>get better omg i still dont believe that i di...</td>\n",
              "    </tr>\n",
              "    <tr>\n",
              "      <th>1616</th>\n",
              "      <td>HollowbabesHere comes the utter shite #bgt &lt;I ...</td>\n",
              "    </tr>\n",
              "    <tr>\n",
              "      <th>2985</th>\n",
              "      <td>Thank You Clayton. Going to my favorite Greek...</td>\n",
              "    </tr>\n",
              "    <tr>\n",
              "      <th>16069</th>\n",
              "      <td>I`m watching it at the moment  -sighs- and st...</td>\n",
              "    </tr>\n",
              "  </tbody>\n",
              "</table>\n",
              "</div>"
            ],
            "text/plain": [
              "                                                    text\n",
              "3386    - no,  is buttfuck stupid. I`m just silly and...\n",
              "4559    get better omg i still dont believe that i di...\n",
              "1616   HollowbabesHere comes the utter shite #bgt <I ...\n",
              "2985    Thank You Clayton. Going to my favorite Greek...\n",
              "16069   I`m watching it at the moment  -sighs- and st..."
            ]
          },
          "metadata": {},
          "execution_count": 14
        }
      ]
    },
    {
      "cell_type": "code",
      "metadata": {
        "id": "JBaRadonYv-t"
      },
      "source": [
        "prediction = model.predict(X_test_CV)\n",
        "\n",
        "X_test2[\"predict\"] = prediction"
      ],
      "execution_count": null,
      "outputs": []
    },
    {
      "cell_type": "code",
      "metadata": {
        "colab": {
          "base_uri": "https://localhost:8080/",
          "height": 206
        },
        "id": "D4N6iJklb7nM",
        "outputId": "e3f89f24-1495-406b-cdaa-12e880606c80"
      },
      "source": [
        "X_test2.head()"
      ],
      "execution_count": null,
      "outputs": [
        {
          "output_type": "execute_result",
          "data": {
            "text/html": [
              "<div>\n",
              "<style scoped>\n",
              "    .dataframe tbody tr th:only-of-type {\n",
              "        vertical-align: middle;\n",
              "    }\n",
              "\n",
              "    .dataframe tbody tr th {\n",
              "        vertical-align: top;\n",
              "    }\n",
              "\n",
              "    .dataframe thead th {\n",
              "        text-align: right;\n",
              "    }\n",
              "</style>\n",
              "<table border=\"1\" class=\"dataframe\">\n",
              "  <thead>\n",
              "    <tr style=\"text-align: right;\">\n",
              "      <th></th>\n",
              "      <th>text</th>\n",
              "      <th>predict</th>\n",
              "    </tr>\n",
              "  </thead>\n",
              "  <tbody>\n",
              "    <tr>\n",
              "      <th>3386</th>\n",
              "      <td>- no,  is buttfuck stupid. I`m just silly and...</td>\n",
              "      <td>negative</td>\n",
              "    </tr>\n",
              "    <tr>\n",
              "      <th>4559</th>\n",
              "      <td>get better omg i still dont believe that i di...</td>\n",
              "      <td>negative</td>\n",
              "    </tr>\n",
              "    <tr>\n",
              "      <th>1616</th>\n",
              "      <td>HollowbabesHere comes the utter shite #bgt &lt;I ...</td>\n",
              "      <td>positive</td>\n",
              "    </tr>\n",
              "    <tr>\n",
              "      <th>2985</th>\n",
              "      <td>Thank You Clayton. Going to my favorite Greek...</td>\n",
              "      <td>positive</td>\n",
              "    </tr>\n",
              "    <tr>\n",
              "      <th>16069</th>\n",
              "      <td>I`m watching it at the moment  -sighs- and st...</td>\n",
              "      <td>negative</td>\n",
              "    </tr>\n",
              "  </tbody>\n",
              "</table>\n",
              "</div>"
            ],
            "text/plain": [
              "                                                    text   predict\n",
              "3386    - no,  is buttfuck stupid. I`m just silly and...  negative\n",
              "4559    get better omg i still dont believe that i di...  negative\n",
              "1616   HollowbabesHere comes the utter shite #bgt <I ...  positive\n",
              "2985    Thank You Clayton. Going to my favorite Greek...  positive\n",
              "16069   I`m watching it at the moment  -sighs- and st...  negative"
            ]
          },
          "metadata": {},
          "execution_count": 16
        }
      ]
    },
    {
      "cell_type": "code",
      "metadata": {
        "id": "SN6TsYj5ct73"
      },
      "source": [
        "X_test2[\"sentiment\"] = df_positive_negative[\"sentiment\"].iloc[X_test2.index]"
      ],
      "execution_count": null,
      "outputs": []
    },
    {
      "cell_type": "code",
      "metadata": {
        "colab": {
          "base_uri": "https://localhost:8080/",
          "height": 206
        },
        "id": "aGgOrVMJdO9l",
        "outputId": "122b5810-b724-4797-a3e2-1428697651cf"
      },
      "source": [
        "X_test2.head()"
      ],
      "execution_count": null,
      "outputs": [
        {
          "output_type": "execute_result",
          "data": {
            "text/html": [
              "<div>\n",
              "<style scoped>\n",
              "    .dataframe tbody tr th:only-of-type {\n",
              "        vertical-align: middle;\n",
              "    }\n",
              "\n",
              "    .dataframe tbody tr th {\n",
              "        vertical-align: top;\n",
              "    }\n",
              "\n",
              "    .dataframe thead th {\n",
              "        text-align: right;\n",
              "    }\n",
              "</style>\n",
              "<table border=\"1\" class=\"dataframe\">\n",
              "  <thead>\n",
              "    <tr style=\"text-align: right;\">\n",
              "      <th></th>\n",
              "      <th>text</th>\n",
              "      <th>predict</th>\n",
              "      <th>sentiment</th>\n",
              "    </tr>\n",
              "  </thead>\n",
              "  <tbody>\n",
              "    <tr>\n",
              "      <th>3386</th>\n",
              "      <td>- no,  is buttfuck stupid. I`m just silly and...</td>\n",
              "      <td>negative</td>\n",
              "      <td>negative</td>\n",
              "    </tr>\n",
              "    <tr>\n",
              "      <th>4559</th>\n",
              "      <td>get better omg i still dont believe that i di...</td>\n",
              "      <td>negative</td>\n",
              "      <td>negative</td>\n",
              "    </tr>\n",
              "    <tr>\n",
              "      <th>1616</th>\n",
              "      <td>HollowbabesHere comes the utter shite #bgt &lt;I ...</td>\n",
              "      <td>positive</td>\n",
              "      <td>negative</td>\n",
              "    </tr>\n",
              "    <tr>\n",
              "      <th>2985</th>\n",
              "      <td>Thank You Clayton. Going to my favorite Greek...</td>\n",
              "      <td>positive</td>\n",
              "      <td>positive</td>\n",
              "    </tr>\n",
              "    <tr>\n",
              "      <th>16069</th>\n",
              "      <td>I`m watching it at the moment  -sighs- and st...</td>\n",
              "      <td>negative</td>\n",
              "      <td>negative</td>\n",
              "    </tr>\n",
              "  </tbody>\n",
              "</table>\n",
              "</div>"
            ],
            "text/plain": [
              "                                                    text   predict sentiment\n",
              "3386    - no,  is buttfuck stupid. I`m just silly and...  negative  negative\n",
              "4559    get better omg i still dont believe that i di...  negative  negative\n",
              "1616   HollowbabesHere comes the utter shite #bgt <I ...  positive  negative\n",
              "2985    Thank You Clayton. Going to my favorite Greek...  positive  positive\n",
              "16069   I`m watching it at the moment  -sighs- and st...  negative  negative"
            ]
          },
          "metadata": {},
          "execution_count": 18
        }
      ]
    },
    {
      "cell_type": "code",
      "metadata": {
        "id": "JAGko9NseDQG"
      },
      "source": [
        "X_test2[\"prediction_result\"] = np.where( X_test2['predict'] == X_test2['sentiment'], 'accurate', \"inaccurate\")\n",
        "bonus_question = X_test2.loc[X_test2[\"prediction_result\"] == 'inaccurate']"
      ],
      "execution_count": null,
      "outputs": []
    },
    {
      "cell_type": "code",
      "metadata": {
        "id": "P0PCUDvQhBue",
        "colab": {
          "base_uri": "https://localhost:8080/",
          "height": 424
        },
        "outputId": "538aff38-9383-45aa-e130-2a08bdd2374f"
      },
      "source": [
        "X_test2"
      ],
      "execution_count": null,
      "outputs": [
        {
          "output_type": "execute_result",
          "data": {
            "text/html": [
              "<div>\n",
              "<style scoped>\n",
              "    .dataframe tbody tr th:only-of-type {\n",
              "        vertical-align: middle;\n",
              "    }\n",
              "\n",
              "    .dataframe tbody tr th {\n",
              "        vertical-align: top;\n",
              "    }\n",
              "\n",
              "    .dataframe thead th {\n",
              "        text-align: right;\n",
              "    }\n",
              "</style>\n",
              "<table border=\"1\" class=\"dataframe\">\n",
              "  <thead>\n",
              "    <tr style=\"text-align: right;\">\n",
              "      <th></th>\n",
              "      <th>text</th>\n",
              "      <th>predict</th>\n",
              "      <th>sentiment</th>\n",
              "      <th>prediction_result</th>\n",
              "    </tr>\n",
              "  </thead>\n",
              "  <tbody>\n",
              "    <tr>\n",
              "      <th>3386</th>\n",
              "      <td>- no,  is buttfuck stupid. I`m just silly and...</td>\n",
              "      <td>negative</td>\n",
              "      <td>negative</td>\n",
              "      <td>accurate</td>\n",
              "    </tr>\n",
              "    <tr>\n",
              "      <th>4559</th>\n",
              "      <td>get better omg i still dont believe that i di...</td>\n",
              "      <td>negative</td>\n",
              "      <td>negative</td>\n",
              "      <td>accurate</td>\n",
              "    </tr>\n",
              "    <tr>\n",
              "      <th>1616</th>\n",
              "      <td>HollowbabesHere comes the utter shite #bgt &lt;I ...</td>\n",
              "      <td>positive</td>\n",
              "      <td>negative</td>\n",
              "      <td>inaccurate</td>\n",
              "    </tr>\n",
              "    <tr>\n",
              "      <th>2985</th>\n",
              "      <td>Thank You Clayton. Going to my favorite Greek...</td>\n",
              "      <td>positive</td>\n",
              "      <td>positive</td>\n",
              "      <td>accurate</td>\n",
              "    </tr>\n",
              "    <tr>\n",
              "      <th>16069</th>\n",
              "      <td>I`m watching it at the moment  -sighs- and st...</td>\n",
              "      <td>negative</td>\n",
              "      <td>negative</td>\n",
              "      <td>accurate</td>\n",
              "    </tr>\n",
              "    <tr>\n",
              "      <th>...</th>\n",
              "      <td>...</td>\n",
              "      <td>...</td>\n",
              "      <td>...</td>\n",
              "      <td>...</td>\n",
              "    </tr>\n",
              "    <tr>\n",
              "      <th>2442</th>\n",
              "      <td>I can`t take it</td>\n",
              "      <td>negative</td>\n",
              "      <td>negative</td>\n",
              "      <td>accurate</td>\n",
              "    </tr>\n",
              "    <tr>\n",
              "      <th>2757</th>\n",
              "      <td>so where r u spinning now that the Hookah is ...</td>\n",
              "      <td>negative</td>\n",
              "      <td>negative</td>\n",
              "      <td>accurate</td>\n",
              "    </tr>\n",
              "    <tr>\n",
              "      <th>10898</th>\n",
              "      <td>WHAT?! i was wanting to see that show!!</td>\n",
              "      <td>negative</td>\n",
              "      <td>negative</td>\n",
              "      <td>accurate</td>\n",
              "    </tr>\n",
              "    <tr>\n",
              "      <th>9863</th>\n",
              "      <td>Har vondt i ryggen My back hurts</td>\n",
              "      <td>negative</td>\n",
              "      <td>negative</td>\n",
              "      <td>accurate</td>\n",
              "    </tr>\n",
              "    <tr>\n",
              "      <th>3114</th>\n",
              "      <td>Laying in bed with a book &amp; some beautiful mus...</td>\n",
              "      <td>positive</td>\n",
              "      <td>positive</td>\n",
              "      <td>accurate</td>\n",
              "    </tr>\n",
              "  </tbody>\n",
              "</table>\n",
              "<p>4091 rows × 4 columns</p>\n",
              "</div>"
            ],
            "text/plain": [
              "                                                    text  ... prediction_result\n",
              "3386    - no,  is buttfuck stupid. I`m just silly and...  ...          accurate\n",
              "4559    get better omg i still dont believe that i di...  ...          accurate\n",
              "1616   HollowbabesHere comes the utter shite #bgt <I ...  ...        inaccurate\n",
              "2985    Thank You Clayton. Going to my favorite Greek...  ...          accurate\n",
              "16069   I`m watching it at the moment  -sighs- and st...  ...          accurate\n",
              "...                                                  ...  ...               ...\n",
              "2442                                     I can`t take it  ...          accurate\n",
              "2757    so where r u spinning now that the Hookah is ...  ...          accurate\n",
              "10898            WHAT?! i was wanting to see that show!!  ...          accurate\n",
              "9863                    Har vondt i ryggen My back hurts  ...          accurate\n",
              "3114   Laying in bed with a book & some beautiful mus...  ...          accurate\n",
              "\n",
              "[4091 rows x 4 columns]"
            ]
          },
          "metadata": {},
          "execution_count": 20
        }
      ]
    },
    {
      "cell_type": "code",
      "metadata": {
        "colab": {
          "base_uri": "https://localhost:8080/",
          "height": 363
        },
        "id": "FLxhYKsNg9SD",
        "outputId": "21700f98-6e88-43d6-ac4a-ef84d99ac7e8"
      },
      "source": [
        "pd.set_option('display.max_colwidth', None)\n",
        "bonus_question.head(10)"
      ],
      "execution_count": null,
      "outputs": [
        {
          "output_type": "execute_result",
          "data": {
            "text/html": [
              "<div>\n",
              "<style scoped>\n",
              "    .dataframe tbody tr th:only-of-type {\n",
              "        vertical-align: middle;\n",
              "    }\n",
              "\n",
              "    .dataframe tbody tr th {\n",
              "        vertical-align: top;\n",
              "    }\n",
              "\n",
              "    .dataframe thead th {\n",
              "        text-align: right;\n",
              "    }\n",
              "</style>\n",
              "<table border=\"1\" class=\"dataframe\">\n",
              "  <thead>\n",
              "    <tr style=\"text-align: right;\">\n",
              "      <th></th>\n",
              "      <th>text</th>\n",
              "      <th>predict</th>\n",
              "      <th>sentiment</th>\n",
              "      <th>prediction_result</th>\n",
              "    </tr>\n",
              "  </thead>\n",
              "  <tbody>\n",
              "    <tr>\n",
              "      <th>1616</th>\n",
              "      <td>HollowbabesHere comes the utter shite #bgt &lt;I completely agree</td>\n",
              "      <td>positive</td>\n",
              "      <td>negative</td>\n",
              "      <td>inaccurate</td>\n",
              "    </tr>\n",
              "    <tr>\n",
              "      <th>11177</th>\n",
              "      <td>SUFFICATION NO BREATHING. It`s okay. There`ll be more. You`re invited to mine, but I can`t promise fun times.  *Jinx</td>\n",
              "      <td>positive</td>\n",
              "      <td>negative</td>\n",
              "      <td>inaccurate</td>\n",
              "    </tr>\n",
              "    <tr>\n",
              "      <th>7203</th>\n",
              "      <td>i wanna vote for Miley Cyrus for the mtv movie awards..but i don`t know where i could  somebody could send me a link? thaank you &lt;3</td>\n",
              "      <td>negative</td>\n",
              "      <td>positive</td>\n",
              "      <td>inaccurate</td>\n",
              "    </tr>\n",
              "    <tr>\n",
              "      <th>13034</th>\n",
              "      <td>I love music so much that i`ve gone through pain to play :S my sides of my fingers now are peeling and have blisters from playing so much</td>\n",
              "      <td>positive</td>\n",
              "      <td>negative</td>\n",
              "      <td>inaccurate</td>\n",
              "    </tr>\n",
              "    <tr>\n",
              "      <th>11012</th>\n",
              "      <td>I can only message those who message me, if we`re fwends...so those that want replies..follow me.  hmm..that sounds funny..</td>\n",
              "      <td>negative</td>\n",
              "      <td>positive</td>\n",
              "      <td>inaccurate</td>\n",
              "    </tr>\n",
              "    <tr>\n",
              "      <th>1803</th>\n",
              "      <td>wish I could feel no pain (8)  but it`s ok, at least they like Brazil!</td>\n",
              "      <td>negative</td>\n",
              "      <td>positive</td>\n",
              "      <td>inaccurate</td>\n",
              "    </tr>\n",
              "    <tr>\n",
              "      <th>2355</th>\n",
              "      <td>so glad i`m not at uni anymore</td>\n",
              "      <td>negative</td>\n",
              "      <td>positive</td>\n",
              "      <td>inaccurate</td>\n",
              "    </tr>\n",
              "    <tr>\n",
              "      <th>3100</th>\n",
              "      <td>You`re not here. I hope you`re still resting.  I don`t want you to be stressed.</td>\n",
              "      <td>negative</td>\n",
              "      <td>positive</td>\n",
              "      <td>inaccurate</td>\n",
              "    </tr>\n",
              "    <tr>\n",
              "      <th>277</th>\n",
              "      <td>you`re missing out, bb! i`m such a cereal nut, i think i like every kind available.</td>\n",
              "      <td>negative</td>\n",
              "      <td>positive</td>\n",
              "      <td>inaccurate</td>\n",
              "    </tr>\n",
              "    <tr>\n",
              "      <th>9047</th>\n",
              "      <td>have an amazing time with your mommas tomorrow! Show them how much they mean to you  Whatever you do they will love it</td>\n",
              "      <td>positive</td>\n",
              "      <td>negative</td>\n",
              "      <td>inaccurate</td>\n",
              "    </tr>\n",
              "  </tbody>\n",
              "</table>\n",
              "</div>"
            ],
            "text/plain": [
              "                                                                                                                                            text  ... prediction_result\n",
              "1616                                                                              HollowbabesHere comes the utter shite #bgt <I completely agree  ...        inaccurate\n",
              "11177                       SUFFICATION NO BREATHING. It`s okay. There`ll be more. You`re invited to mine, but I can`t promise fun times.  *Jinx  ...        inaccurate\n",
              "7203         i wanna vote for Miley Cyrus for the mtv movie awards..but i don`t know where i could  somebody could send me a link? thaank you <3  ...        inaccurate\n",
              "13034  I love music so much that i`ve gone through pain to play :S my sides of my fingers now are peeling and have blisters from playing so much  ...        inaccurate\n",
              "11012                I can only message those who message me, if we`re fwends...so those that want replies..follow me.  hmm..that sounds funny..  ...        inaccurate\n",
              "1803                                                                      wish I could feel no pain (8)  but it`s ok, at least they like Brazil!  ...        inaccurate\n",
              "2355                                                                                                              so glad i`m not at uni anymore  ...        inaccurate\n",
              "3100                                                             You`re not here. I hope you`re still resting.  I don`t want you to be stressed.  ...        inaccurate\n",
              "277                                                          you`re missing out, bb! i`m such a cereal nut, i think i like every kind available.  ...        inaccurate\n",
              "9047                      have an amazing time with your mommas tomorrow! Show them how much they mean to you  Whatever you do they will love it  ...        inaccurate\n",
              "\n",
              "[10 rows x 4 columns]"
            ]
          },
          "metadata": {},
          "execution_count": 21
        }
      ]
    },
    {
      "cell_type": "markdown",
      "metadata": {
        "id": "quuqEfK8jKOh"
      },
      "source": [
        "<b><font color='orange'>I am not sure I could have done better overall. Some tweets are not so clear. The one on index 9047 also looks very positive so I would have predict it as positive. Why is the sentiment negative? Seems like a mistake in the dataset to me.</font></b>"
      ]
    }
  ]
}