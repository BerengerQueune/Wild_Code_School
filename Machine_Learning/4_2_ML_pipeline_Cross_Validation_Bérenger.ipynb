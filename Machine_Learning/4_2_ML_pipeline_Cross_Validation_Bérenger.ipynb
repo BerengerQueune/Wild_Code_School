{
  "nbformat": 4,
  "nbformat_minor": 0,
  "metadata": {
    "colab": {
      "name": "4.2 ML pipeline - Cross Validation Bérenger.ipynb",
      "provenance": [],
      "collapsed_sections": []
    },
    "kernelspec": {
      "name": "python3",
      "display_name": "Python 3"
    },
    "language_info": {
      "name": "python"
    }
  },
  "cells": [
    {
      "cell_type": "code",
      "metadata": {
        "colab": {
          "base_uri": "https://localhost:8080/",
          "height": 206
        },
        "id": "I3MBClmg7Jj1",
        "outputId": "337d8a1e-1d36-40a8-9826-d69ae906262d"
      },
      "source": [
        "import numpy as np\n",
        "import pandas as pd\n",
        "from sklearn.linear_model import LogisticRegression\n",
        "from sklearn.model_selection import train_test_split\n",
        "from sklearn.model_selection import cross_val_score\n",
        "from sklearn.tree import DecisionTreeRegressor\n",
        "\n",
        "df_titanic = pd.read_csv('https://raw.githubusercontent.com/BerengerQueune/Various/main/Dataset/titanic.csv?token=AU6BUZU3RS2RDI5PDZNQNRDBUSNLM')\n",
        "df_titanic.head()"
      ],
      "execution_count": null,
      "outputs": [
        {
          "output_type": "execute_result",
          "data": {
            "text/html": [
              "<div>\n",
              "<style scoped>\n",
              "    .dataframe tbody tr th:only-of-type {\n",
              "        vertical-align: middle;\n",
              "    }\n",
              "\n",
              "    .dataframe tbody tr th {\n",
              "        vertical-align: top;\n",
              "    }\n",
              "\n",
              "    .dataframe thead th {\n",
              "        text-align: right;\n",
              "    }\n",
              "</style>\n",
              "<table border=\"1\" class=\"dataframe\">\n",
              "  <thead>\n",
              "    <tr style=\"text-align: right;\">\n",
              "      <th></th>\n",
              "      <th>Survived</th>\n",
              "      <th>Pclass</th>\n",
              "      <th>Name</th>\n",
              "      <th>Sex</th>\n",
              "      <th>Age</th>\n",
              "      <th>Siblings/Spouses Aboard</th>\n",
              "      <th>Parents/Children Aboard</th>\n",
              "      <th>Fare</th>\n",
              "    </tr>\n",
              "  </thead>\n",
              "  <tbody>\n",
              "    <tr>\n",
              "      <th>0</th>\n",
              "      <td>0</td>\n",
              "      <td>3</td>\n",
              "      <td>Mr. Owen Harris Braund</td>\n",
              "      <td>male</td>\n",
              "      <td>22.0</td>\n",
              "      <td>1</td>\n",
              "      <td>0</td>\n",
              "      <td>7.2500</td>\n",
              "    </tr>\n",
              "    <tr>\n",
              "      <th>1</th>\n",
              "      <td>1</td>\n",
              "      <td>1</td>\n",
              "      <td>Mrs. John Bradley (Florence Briggs Thayer) Cum...</td>\n",
              "      <td>female</td>\n",
              "      <td>38.0</td>\n",
              "      <td>1</td>\n",
              "      <td>0</td>\n",
              "      <td>71.2833</td>\n",
              "    </tr>\n",
              "    <tr>\n",
              "      <th>2</th>\n",
              "      <td>1</td>\n",
              "      <td>3</td>\n",
              "      <td>Miss. Laina Heikkinen</td>\n",
              "      <td>female</td>\n",
              "      <td>26.0</td>\n",
              "      <td>0</td>\n",
              "      <td>0</td>\n",
              "      <td>7.9250</td>\n",
              "    </tr>\n",
              "    <tr>\n",
              "      <th>3</th>\n",
              "      <td>1</td>\n",
              "      <td>1</td>\n",
              "      <td>Mrs. Jacques Heath (Lily May Peel) Futrelle</td>\n",
              "      <td>female</td>\n",
              "      <td>35.0</td>\n",
              "      <td>1</td>\n",
              "      <td>0</td>\n",
              "      <td>53.1000</td>\n",
              "    </tr>\n",
              "    <tr>\n",
              "      <th>4</th>\n",
              "      <td>0</td>\n",
              "      <td>3</td>\n",
              "      <td>Mr. William Henry Allen</td>\n",
              "      <td>male</td>\n",
              "      <td>35.0</td>\n",
              "      <td>0</td>\n",
              "      <td>0</td>\n",
              "      <td>8.0500</td>\n",
              "    </tr>\n",
              "  </tbody>\n",
              "</table>\n",
              "</div>"
            ],
            "text/plain": [
              "   Survived  Pclass  ... Parents/Children Aboard     Fare\n",
              "0         0       3  ...                       0   7.2500\n",
              "1         1       1  ...                       0  71.2833\n",
              "2         1       3  ...                       0   7.9250\n",
              "3         1       1  ...                       0  53.1000\n",
              "4         0       3  ...                       0   8.0500\n",
              "\n",
              "[5 rows x 8 columns]"
            ]
          },
          "metadata": {},
          "execution_count": 1
        }
      ]
    },
    {
      "cell_type": "markdown",
      "metadata": {
        "id": "F1eD2DEY8tpW"
      },
      "source": [
        "You will perform a supervised classification on the survived column, by performing a traintestsplit (without fixing the random_state), then a classifier of your choice (knn, decision tree, logistic regression, etc...). You have to clearly show the accuracy score of the training game and the accuracy score of the test game."
      ]
    },
    {
      "cell_type": "code",
      "metadata": {
        "colab": {
          "base_uri": "https://localhost:8080/"
        },
        "id": "c2aVdjFR-HzP",
        "outputId": "e18a969e-53fd-43d8-f26f-02b4ac3dd6c8"
      },
      "source": [
        "#Factorization\n",
        "df_titanic['Sex'] = df_titanic['Sex'].factorize()[0]\n",
        "\n",
        "X = df_titanic[['Pclass', 'Sex', 'Age', 'Siblings/Spouses Aboard',\n",
        "       'Parents/Children Aboard', 'Fare']]\n",
        "y = df_titanic['Survived']\n",
        "\n",
        "X_train, X_test, y_train, y_test = train_test_split(X, y, train_size = 0.75)\n",
        "\n",
        "# We train the model with a Decision Tree Regressor\n",
        "modelDTR = DecisionTreeRegressor()\n",
        "modelDTR.fit(X_train, y_train)\n",
        "\n",
        "print(\"accuracy score on Decision Tree Regressor train set:\",modelDTR.score(X_train, y_train))\n",
        "print(\"accuracy score on Decision Tree Regressor test set:\",modelDTR.score(X_test, y_test))"
      ],
      "execution_count": null,
      "outputs": [
        {
          "output_type": "stream",
          "name": "stdout",
          "text": [
            "accuracy score on Decision Tree Regressor train set: 0.9690200803212852\n",
            "accuracy score on Decision Tree Regressor test set: 0.07448439241917504\n"
          ]
        }
      ]
    },
    {
      "cell_type": "code",
      "metadata": {
        "colab": {
          "base_uri": "https://localhost:8080/"
        },
        "id": "RMQiTLu9-RYR",
        "outputId": "ea5efd98-8d52-425b-ae65-a943ec840577"
      },
      "source": [
        "# We train the model with a Logistic Regression\n",
        "model = LogisticRegression().fit(X_train,y_train)\n",
        "\n",
        "print(\"accuracy score on Logistic Regression train set:\",model.score(X_train, y_train))\n",
        "print(\"accuracy score on Logistic Regression test set:\",model.score(X_test, y_test))"
      ],
      "execution_count": null,
      "outputs": [
        {
          "output_type": "stream",
          "name": "stdout",
          "text": [
            "accuracy score on Logistic Regression train set: 0.8045112781954887\n",
            "accuracy score on Logistic Regression test set: 0.8153153153153153\n"
          ]
        }
      ]
    },
    {
      "cell_type": "markdown",
      "metadata": {
        "id": "Guqe2yRtC9XQ"
      },
      "source": [
        "In a new block of code, you will perform exactly the same step as before. As you have not set the random_state, the score should be different."
      ]
    },
    {
      "cell_type": "code",
      "metadata": {
        "colab": {
          "base_uri": "https://localhost:8080/"
        },
        "id": "LwyqgfseDCoV",
        "outputId": "3d4b131c-1e38-4222-8841-64ad170160cf"
      },
      "source": [
        "X_train, X_test, y_train, y_test = train_test_split(X, y, train_size = 0.75)\n",
        "\n",
        "# We train the model with a Decision Tree Regressor\n",
        "modelDTR = DecisionTreeRegressor()\n",
        "modelDTR.fit(X_train, y_train)\n",
        "\n",
        "print(\"accuracy score on Decision Tree Regressor train set:\",modelDTR.score(X_train, y_train))\n",
        "print(\"accuracy score on Decision Tree Regressor test set:\",modelDTR.score(X_test, y_test))"
      ],
      "execution_count": null,
      "outputs": [
        {
          "output_type": "stream",
          "name": "stdout",
          "text": [
            "accuracy score on Decision Tree Regressor train set: 0.9632111199625709\n",
            "accuracy score on Decision Tree Regressor test set: 0.11449668738872842\n"
          ]
        }
      ]
    },
    {
      "cell_type": "code",
      "metadata": {
        "colab": {
          "base_uri": "https://localhost:8080/"
        },
        "id": "R_2wK5fvC-RZ",
        "outputId": "fb5ccea6-83c7-4f8e-cfd8-5fdb0a2669af"
      },
      "source": [
        "# We train the model with a Logistic Regression\n",
        "model = LogisticRegression().fit(X_train,y_train)\n",
        "\n",
        "print(\"accuracy score on Logistic Regression train set:\",model.score(X_train, y_train))\n",
        "print(\"accuracy score on Logistic Regression test set:\",model.score(X_test, y_test))"
      ],
      "execution_count": null,
      "outputs": [
        {
          "output_type": "stream",
          "name": "stdout",
          "text": [
            "accuracy score on Logistic Regression train set: 0.7894736842105263\n",
            "accuracy score on Logistic Regression test set: 0.8288288288288288\n"
          ]
        }
      ]
    },
    {
      "cell_type": "markdown",
      "metadata": {
        "id": "sReTmsX8DoQV"
      },
      "source": [
        "With the same classifier, you will run a cross-validation with a split in 6 parts. Does the CrossValidation strengthen your confidence in this prediction?"
      ]
    },
    {
      "cell_type": "code",
      "metadata": {
        "colab": {
          "base_uri": "https://localhost:8080/"
        },
        "id": "0Jg254V1DpFt",
        "outputId": "866f4ae0-7e8f-470d-fe36-c8a150c2963b"
      },
      "source": [
        "# Given the previous results I decide to use the Logistic Regression\n",
        "cross_val_score(LogisticRegression(), X, y, cv = 6)"
      ],
      "execution_count": null,
      "outputs": [
        {
          "output_type": "execute_result",
          "data": {
            "text/plain": [
              "array([0.77702703, 0.80405405, 0.79054054, 0.78378378, 0.7972973 ,\n",
              "       0.81632653])"
            ]
          },
          "metadata": {},
          "execution_count": 6
        }
      ]
    },
    {
      "cell_type": "code",
      "metadata": {
        "id": "LHxD03v8D8jw"
      },
      "source": [
        "# Yes the CrossValidation strengthen my confidence because the 6 results are close to each other"
      ],
      "execution_count": null,
      "outputs": []
    },
    {
      "cell_type": "markdown",
      "metadata": {
        "id": "1Hs89mTVFpSv"
      },
      "source": [
        "You will calculate the mean and standard deviation of the 6 scores obtained."
      ]
    },
    {
      "cell_type": "code",
      "metadata": {
        "colab": {
          "base_uri": "https://localhost:8080/"
        },
        "id": "PWu06IawFpt1",
        "outputId": "d9e59b2b-3c09-4fbd-fe24-3054a5a6ad50"
      },
      "source": [
        "cross_mean = np.mean(cross_val_score(LogisticRegression(), X, y, cv = 6))\n",
        "cross_mean"
      ],
      "execution_count": null,
      "outputs": [
        {
          "output_type": "execute_result",
          "data": {
            "text/plain": [
              "0.7948382055524913"
            ]
          },
          "metadata": {},
          "execution_count": 8
        }
      ]
    },
    {
      "cell_type": "code",
      "metadata": {
        "colab": {
          "base_uri": "https://localhost:8080/"
        },
        "id": "lp6WwQPPF-NA",
        "outputId": "c198822f-3d91-43c0-8924-e455aef2b383"
      },
      "source": [
        "cross_standard_deviation = np.std(cross_val_score(LogisticRegression(), X, y, cv = 6))\n",
        "cross_standard_deviation"
      ],
      "execution_count": null,
      "outputs": [
        {
          "output_type": "execute_result",
          "data": {
            "text/plain": [
              "0.01297841384343086"
            ]
          },
          "metadata": {},
          "execution_count": 9
        }
      ]
    }
  ]
}