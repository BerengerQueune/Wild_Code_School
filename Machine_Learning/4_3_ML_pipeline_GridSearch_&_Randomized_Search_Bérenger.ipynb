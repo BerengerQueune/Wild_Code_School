{
  "cells": [
    {
      "cell_type": "code",
      "execution_count": 1,
      "metadata": {
        "colab": {
          "base_uri": "https://localhost:8080/",
          "height": 206
        },
        "id": "I3MBClmg7Jj1",
        "outputId": "936b760d-8eec-42db-d23f-5fbf741fa30f"
      },
      "outputs": [
        {
          "data": {
            "text/html": [
              "<div>\n",
              "<style scoped>\n",
              "    .dataframe tbody tr th:only-of-type {\n",
              "        vertical-align: middle;\n",
              "    }\n",
              "\n",
              "    .dataframe tbody tr th {\n",
              "        vertical-align: top;\n",
              "    }\n",
              "\n",
              "    .dataframe thead th {\n",
              "        text-align: right;\n",
              "    }\n",
              "</style>\n",
              "<table border=\"1\" class=\"dataframe\">\n",
              "  <thead>\n",
              "    <tr style=\"text-align: right;\">\n",
              "      <th></th>\n",
              "      <th>Survived</th>\n",
              "      <th>Pclass</th>\n",
              "      <th>Name</th>\n",
              "      <th>Sex</th>\n",
              "      <th>Age</th>\n",
              "      <th>Siblings/Spouses Aboard</th>\n",
              "      <th>Parents/Children Aboard</th>\n",
              "      <th>Fare</th>\n",
              "    </tr>\n",
              "  </thead>\n",
              "  <tbody>\n",
              "    <tr>\n",
              "      <th>0</th>\n",
              "      <td>0</td>\n",
              "      <td>3</td>\n",
              "      <td>Mr. Owen Harris Braund</td>\n",
              "      <td>male</td>\n",
              "      <td>22.0</td>\n",
              "      <td>1</td>\n",
              "      <td>0</td>\n",
              "      <td>7.2500</td>\n",
              "    </tr>\n",
              "    <tr>\n",
              "      <th>1</th>\n",
              "      <td>1</td>\n",
              "      <td>1</td>\n",
              "      <td>Mrs. John Bradley (Florence Briggs Thayer) Cum...</td>\n",
              "      <td>female</td>\n",
              "      <td>38.0</td>\n",
              "      <td>1</td>\n",
              "      <td>0</td>\n",
              "      <td>71.2833</td>\n",
              "    </tr>\n",
              "    <tr>\n",
              "      <th>2</th>\n",
              "      <td>1</td>\n",
              "      <td>3</td>\n",
              "      <td>Miss. Laina Heikkinen</td>\n",
              "      <td>female</td>\n",
              "      <td>26.0</td>\n",
              "      <td>0</td>\n",
              "      <td>0</td>\n",
              "      <td>7.9250</td>\n",
              "    </tr>\n",
              "    <tr>\n",
              "      <th>3</th>\n",
              "      <td>1</td>\n",
              "      <td>1</td>\n",
              "      <td>Mrs. Jacques Heath (Lily May Peel) Futrelle</td>\n",
              "      <td>female</td>\n",
              "      <td>35.0</td>\n",
              "      <td>1</td>\n",
              "      <td>0</td>\n",
              "      <td>53.1000</td>\n",
              "    </tr>\n",
              "    <tr>\n",
              "      <th>4</th>\n",
              "      <td>0</td>\n",
              "      <td>3</td>\n",
              "      <td>Mr. William Henry Allen</td>\n",
              "      <td>male</td>\n",
              "      <td>35.0</td>\n",
              "      <td>0</td>\n",
              "      <td>0</td>\n",
              "      <td>8.0500</td>\n",
              "    </tr>\n",
              "  </tbody>\n",
              "</table>\n",
              "</div>"
            ],
            "text/plain": [
              "   Survived  Pclass                                               Name  \\\n",
              "0         0       3                             Mr. Owen Harris Braund   \n",
              "1         1       1  Mrs. John Bradley (Florence Briggs Thayer) Cum...   \n",
              "2         1       3                              Miss. Laina Heikkinen   \n",
              "3         1       1        Mrs. Jacques Heath (Lily May Peel) Futrelle   \n",
              "4         0       3                            Mr. William Henry Allen   \n",
              "\n",
              "      Sex   Age  Siblings/Spouses Aboard  Parents/Children Aboard     Fare  \n",
              "0    male  22.0                        1                        0   7.2500  \n",
              "1  female  38.0                        1                        0  71.2833  \n",
              "2  female  26.0                        0                        0   7.9250  \n",
              "3  female  35.0                        1                        0  53.1000  \n",
              "4    male  35.0                        0                        0   8.0500  "
            ]
          },
          "execution_count": 1,
          "metadata": {},
          "output_type": "execute_result"
        }
      ],
      "source": [
        "import numpy as np\n",
        "import pandas as pd\n",
        "from sklearn.model_selection import train_test_split\n",
        "from sklearn.model_selection import cross_val_score\n",
        "from sklearn.tree import DecisionTreeClassifier\n",
        "from sklearn.model_selection import RandomizedSearchCV\n",
        "from sklearn.model_selection import GridSearchCV\n",
        "\n",
        "df_titanic = pd.read_csv('https://raw.githubusercontent.com/BerengerQueune/Various/main/Dataset/titanic.csv?token=AU6BUZU3RS2RDI5PDZNQNRDBUSNLM')\n",
        "df_titanic.head()"
      ]
    },
    {
      "cell_type": "markdown",
      "metadata": {
        "id": "F1eD2DEY8tpW"
      },
      "source": [
        "You will perform a supervised classification on the column \"survived\", using the decision tree classifier. You must clearly show the accuracy score of the test set."
      ]
    },
    {
      "cell_type": "code",
      "execution_count": 2,
      "metadata": {
        "colab": {
          "base_uri": "https://localhost:8080/"
        },
        "id": "c2aVdjFR-HzP",
        "outputId": "a095132a-ba35-4294-9412-8053a376a5bc"
      },
      "outputs": [
        {
          "name": "stdout",
          "output_type": "stream",
          "text": [
            "accuracy score on Decision Tree Classifier train set: 0.9864661654135338\n",
            "accuracy score on Decision Tree Classifier test set: 0.7792792792792793\n"
          ]
        }
      ],
      "source": [
        "#Factorization\n",
        "df_titanic['Sex'] = df_titanic['Sex'].factorize()[0]\n",
        "\n",
        "X = df_titanic[['Pclass', 'Sex', 'Age', 'Siblings/Spouses Aboard',\n",
        "       'Parents/Children Aboard', 'Fare']]\n",
        "y = df_titanic['Survived']\n",
        "\n",
        "X_train, X_test, y_train, y_test = train_test_split(X, y, train_size = 0.75, random_state=35)\n",
        "\n",
        "# We train the model with a Decision Tree Classifier\n",
        "modelDTR = DecisionTreeClassifier()\n",
        "modelDTR.fit(X_train, y_train)\n",
        "\n",
        "print(\"accuracy score on Decision Tree Classifier train set:\",modelDTR.score(X_train, y_train))\n",
        "print(\"accuracy score on Decision Tree Classifier test set:\",modelDTR.score(X_test, y_test))"
      ]
    },
    {
      "cell_type": "markdown",
      "metadata": {
        "id": "vOJjCpe7zl-8"
      },
      "source": [
        "With this same classifier, you will run a GridSearch with the values :\n",
        "*   all integers from 1 to 50 of the parameter max_depth\n",
        "*   all integers from 1 and 15 of the parameter min_samples_leaf\n",
        "*   (2, 5, 7, 10, 15, 30) of the min_samples_split parameter"
      ]
    },
    {
      "cell_type": "code",
      "execution_count": 3,
      "metadata": {
        "colab": {
          "base_uri": "https://localhost:8080/"
        },
        "id": "7TGsgvu9zsfo",
        "outputId": "685c8309-2b00-4934-87a3-42b0783ae86c"
      },
      "outputs": [
        {
          "name": "stdout",
          "output_type": "stream",
          "text": [
            "best score: 0.830895702405891\n",
            "best parameters: {'max_depth': 5, 'min_samples_leaf': 1, 'min_samples_split': 5}\n"
          ]
        }
      ],
      "source": [
        "dico = {'max_depth': range(1,51),\n",
        "        'min_samples_leaf': range(1,16),\n",
        "        'min_samples_split' : (2, 5, 7, 10, 15, 30)}\n",
        "\n",
        "grid = GridSearchCV(DecisionTreeClassifier(), dico)\n",
        "grid.fit(X,y)\n",
        "\n",
        "print(\"best score:\",grid.best_score_)\n",
        "print(\"best parameters:\",grid.best_params_)"
      ]
    },
    {
      "cell_type": "markdown",
      "metadata": {
        "id": "u3s5OHsv1KcO"
      },
      "source": [
        "With this search via GridSearch, what are the best values of the hyperparameters if we want to maximize the accuracy score ?"
      ]
    },
    {
      "cell_type": "code",
      "execution_count": 4,
      "metadata": {
        "id": "vU7Os6aP1LE9"
      },
      "outputs": [],
      "source": [
        "#Best parameters are 'max_depth': 5, 'min_samples_leaf': 1, 'min_samples_split': 5"
      ]
    },
    {
      "cell_type": "markdown",
      "metadata": {
        "id": "8_hh29o8154U"
      },
      "source": [
        "With this same classifier, you will run a RandomSearch on the same parameter values limiting to 200 iterations."
      ]
    },
    {
      "cell_type": "code",
      "execution_count": 5,
      "metadata": {
        "colab": {
          "base_uri": "https://localhost:8080/"
        },
        "id": "L5hModFZ16pe",
        "outputId": "240a2c1e-184b-4d06-fc52-15671857a03b"
      },
      "outputs": [
        {
          "name": "stdout",
          "output_type": "stream",
          "text": [
            "best score: 0.8241668253665969\n",
            "best parameters: {'min_samples_split': 10, 'min_samples_leaf': 5, 'max_depth': 8}\n"
          ]
        }
      ],
      "source": [
        "dico = {'max_depth': range(1,51),\n",
        "        'min_samples_leaf': range(1,16),\n",
        "        'min_samples_split' : (2, 5, 7, 10, 15, 30)}\n",
        "\n",
        "rando = RandomizedSearchCV(DecisionTreeClassifier(), dico, n_iter=200)\n",
        "rando.fit(X,y)\n",
        "\n",
        "print(\"best score:\",rando.best_score_)\n",
        "print(\"best parameters:\",rando.best_params_)"
      ]
    },
    {
      "cell_type": "markdown",
      "metadata": {
        "id": "xfGnInvo4B-T"
      },
      "source": [
        "With this search via RandomSearch, what are the best values of the hyperparameters if we want to maximize the accuracy score?"
      ]
    },
    {
      "cell_type": "code",
      "execution_count": 6,
      "metadata": {
        "id": "JRtg_Lq_4BI-"
      },
      "outputs": [],
      "source": [
        "#Best parameters are 'min_samples_split': 5, 'min_samples_leaf': 1, 'max_depth': 4"
      ]
    }
  ],
  "metadata": {
    "colab": {
      "collapsed_sections": [],
      "name": "4.3 ML pipeline - GridSearch & Randomized Search Bérenger.ipynb",
      "provenance": []
    },
    "kernelspec": {
      "display_name": "Python 3",
      "name": "python3"
    },
    "language_info": {
      "codemirror_mode": {
        "name": "ipython",
        "version": 3
      },
      "file_extension": ".py",
      "mimetype": "text/x-python",
      "name": "python",
      "nbconvert_exporter": "python",
      "pygments_lexer": "ipython3",
      "version": "3.8.12"
    }
  },
  "nbformat": 4,
  "nbformat_minor": 0
}
