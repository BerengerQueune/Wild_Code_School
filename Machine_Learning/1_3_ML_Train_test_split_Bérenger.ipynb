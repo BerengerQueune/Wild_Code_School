{
  "nbformat": 4,
  "nbformat_minor": 0,
  "metadata": {
    "colab": {
      "name": "1.3 ML - Train test split Bérenger.ipynb",
      "provenance": [],
      "collapsed_sections": [
        "7RZbCjBZBNKL"
      ]
    },
    "kernelspec": {
      "name": "python3",
      "display_name": "Python 3"
    }
  },
  "cells": [
    {
      "cell_type": "markdown",
      "metadata": {
        "id": "7RZbCjBZBNKL"
      },
      "source": [
        "# Execute the code below"
      ]
    },
    {
      "cell_type": "code",
      "metadata": {
        "id": "ih5VsCSsAGWK"
      },
      "source": [
        "import matplotlib.pyplot as plt\n",
        "import pandas as pd\n",
        "import numpy as np\n",
        "import seaborn as sns\n",
        "import plotly.express as px\n",
        "from sklearn.linear_model import LinearRegression\n",
        "link = \"https://raw.githubusercontent.com/murpi/wilddata/master/quests/weather2019.csv\"\n",
        "df_weather = pd.read_csv(link)"
      ],
      "execution_count": null,
      "outputs": []
    },
    {
      "cell_type": "markdown",
      "metadata": {
        "id": "HDfmi_gNBRd3"
      },
      "source": [
        "# Scoring and metrics\n",
        "Last time, you did a multivariate linear regression. But how can you be sure this multivariate linear regression is better than an univariate ? You have to measure it !\n"
      ]
    },
    {
      "cell_type": "markdown",
      "metadata": {
        "id": "gs0tr5sYgvwI"
      },
      "source": [
        "## First regression\n",
        "Let's begin with a first linear regression : create a new column `'predict_from_sun'` whith the prediction of MAX temperature from the SUNHOUR variable."
      ]
    },
    {
      "cell_type": "code",
      "metadata": {
        "id": "h0u82y2paa75"
      },
      "source": [
        "# Your code here :\n",
        "X = df_weather[['SUNHOUR']] \n",
        "y = df_weather['MAX_TEMPERATURE_C'] \n",
        "model_from_sun = LinearRegression().fit(X, y)\n",
        "\n",
        "df_weather[\"predict_from_sun\"] = model_from_sun.predict(df_weather[['SUNHOUR']])\n"
      ],
      "execution_count": null,
      "outputs": []
    },
    {
      "cell_type": "markdown",
      "metadata": {
        "id": "vaSRoaFdgu23"
      },
      "source": [
        "## R2 score\n",
        "The best possible R2 score is '1', when our prediction predicts perfectly the reality. Let's see what is our R2 score :"
      ]
    },
    {
      "cell_type": "code",
      "metadata": {
        "id": "bhI2x_Z-g-lM",
        "colab": {
          "base_uri": "https://localhost:8080/"
        },
        "outputId": "5b289363-66ec-4d1c-c50f-73fb327bc06e"
      },
      "source": [
        "# Change the name of the model if it's necessary\n",
        "model_from_sun.score(X, y)"
      ],
      "execution_count": null,
      "outputs": [
        {
          "output_type": "execute_result",
          "data": {
            "text/plain": [
              "0.47654554059087306"
            ]
          },
          "metadata": {},
          "execution_count": 3
        }
      ]
    },
    {
      "cell_type": "markdown",
      "metadata": {
        "id": "OPYPIs6kgWq2"
      },
      "source": [
        "## Let's continue with 2 others regressions\n",
        "- Second regression : create a new column 'predict_from_min' whith the prediction of MAX temperature from the MIN temperature variable\n",
        "- Third regression : create a new column 'predict_from_both' whith the prediction of MAX temperature from the both variables (MIN temperature and Sunhours)"
      ]
    },
    {
      "cell_type": "code",
      "metadata": {
        "id": "0uWGISfxiGN_"
      },
      "source": [
        "# Your code here :\n",
        "X = df_weather[['MIN_TEMPERATURE_C']] \n",
        "y = df_weather['MAX_TEMPERATURE_C'] \n",
        "\n",
        "model_from_min = LinearRegression().fit(X, y)\n",
        "\n",
        "df_weather[\"predict_from_min\"] = model_from_min.predict(df_weather[['MIN_TEMPERATURE_C']])\n",
        "\n",
        "\n",
        "X2 = df_weather[[\"MIN_TEMPERATURE_C\", 'SUNHOUR']]\n",
        "y2 = df_weather['MAX_TEMPERATURE_C'] \n",
        "\n",
        "model_from_both = LinearRegression().fit(X2, y2)\n",
        "\n",
        "df_weather[\"predict_from_both\"] = model_from_both.predict(X2)"
      ],
      "execution_count": null,
      "outputs": []
    },
    {
      "cell_type": "markdown",
      "metadata": {
        "id": "eYVUuG97h0HO"
      },
      "source": [
        "## Calculate the R2 score of the 2 new predictions\n",
        "Be careful : if you still use the same \"X\" name, you will overwrite it.\n",
        "\n",
        "Which model has the best score ? Do you think it's logic ?"
      ]
    },
    {
      "cell_type": "code",
      "metadata": {
        "id": "7lQObVxpe6uh",
        "colab": {
          "base_uri": "https://localhost:8080/"
        },
        "outputId": "3bcded40-2968-4179-df60-006afc49aa46"
      },
      "source": [
        "# Your code here :\n",
        "print (f\"Score of model from min {model_from_min.score(X, y)}\")\n",
        "print (f\"Score of model from both {model_from_both.score(X2, y2)}\")\n",
        "\n",
        "if model_from_both.score(X2, y2) > model_from_min.score(X, y):\n",
        "  print (\"model from both has the best score and I think it's logic because more variables, if chosen wisely, will help to have a stronger result\")\n",
        "else:\n",
        "  print (\"model from min has the best score\")"
      ],
      "execution_count": null,
      "outputs": [
        {
          "output_type": "stream",
          "name": "stdout",
          "text": [
            "Score of model from min 0.7689396999057355\n",
            "Score of model from both 0.867478798077497\n",
            "model from both has the best score and I think it's logic because more variables, if chosen wisely, will help to have a stronger result\n"
          ]
        }
      ]
    },
    {
      "cell_type": "markdown",
      "metadata": {
        "id": "1frFHshijXUK"
      },
      "source": [
        "# Train Test Split\n",
        "One of biggest problems of Machine learning is : **overfitting**.\n",
        "\n"
      ]
    },
    {
      "cell_type": "markdown",
      "metadata": {
        "id": "4UCz7M7vknsY"
      },
      "source": [
        "To be sure that machine didn't memorize the result, we use the Train Test Split methodology. We keep some data separate (often 25% of our initial dataset). Then we train our model on the 75% (the \"Train set\"). \n",
        "After, we can calculate a score on the \"Test set\".\n",
        "\n",
        "Let's do that !"
      ]
    },
    {
      "cell_type": "code",
      "metadata": {
        "id": "EKIttez3pFou",
        "colab": {
          "base_uri": "https://localhost:8080/"
        },
        "outputId": "1b42379a-c768-4c04-f858-a95faefd02b6"
      },
      "source": [
        "# Juste read and execute the code below\n",
        "from sklearn.model_selection import train_test_split\n",
        "\n",
        "X = df_weather[['SUNHOUR']]\n",
        "y = df_weather['MAX_TEMPERATURE_C']\n",
        "\n",
        "# Here, we split our 2 datasets (the variables \"X\" and the target \"y\") into 4 datasets X and y for the train set and X and y for the test set.\n",
        "# We set the size of the train set to 75%. And the rest is for the test set.\n",
        "X_train, X_test, y_train, y_test = train_test_split(X, y, random_state=42, train_size = 0.75)\n",
        "print(\"The length of the initial dataset is :\", len(X))\n",
        "print(\"The length of the train dataset is   :\", len(X_train))\n",
        "print(\"The length of the test dataset is    :\", len(X_test))\n",
        "\n",
        "# Here we train the model only on the train dataset.\n",
        "newmodel = LinearRegression().fit(X_train, y_train)\n",
        "\n",
        "# And now we compare both scores :\n",
        "print(\"\\nScore for the Train dataset :\", newmodel.score(X_train, y_train))\n",
        "print(\"Score for the Test dataset :\", newmodel.score(X_test, y_test))\n"
      ],
      "execution_count": null,
      "outputs": [
        {
          "output_type": "stream",
          "name": "stdout",
          "text": [
            "The length of the initial dataset is : 365\n",
            "The length of the train dataset is   : 273\n",
            "The length of the test dataset is    : 92\n",
            "\n",
            "Score for the Train dataset : 0.47243569075679914\n",
            "Score for the Test dataset : 0.4749360350733982\n"
          ]
        }
      ]
    },
    {
      "cell_type": "markdown",
      "metadata": {
        "id": "xwetw4TfsHEJ"
      },
      "source": [
        "## Both scores are very close, there is no overfitting, well done !\n",
        "\n",
        "What happens if we don't randomize our dataset. Here, the model learns only on the 9 first months."
      ]
    },
    {
      "cell_type": "code",
      "metadata": {
        "id": "xsusD6mEuE36",
        "colab": {
          "base_uri": "https://localhost:8080/"
        },
        "outputId": "a5dc19de-777f-47b7-f654-a4aef4d293b9"
      },
      "source": [
        "# Juste read and execute the code below\n",
        "from sklearn.model_selection import train_test_split\n",
        "\n",
        "X = df_weather[['MIN_TEMPERATURE_C']]\n",
        "y = df_weather['MAX_TEMPERATURE_C']\n",
        "\n",
        "# We set the size of the train set to 75%. And the rest is for the test set.\n",
        "# We set the split NOT in random.\n",
        "X_train, X_test, y_train, y_test = train_test_split(X, y, train_size = 0.75, shuffle = False)\n",
        "\n",
        "\n",
        "# Here we train the model only on the train dataset.\n",
        "newmodel = LinearRegression().fit(X_train, y_train)\n",
        "\n",
        "# And now we compare both scores :\n",
        "print(\"\\nScore for the Train dataset :\", newmodel.score(X_train, y_train))\n",
        "print(\"Score for the Test dataset :\", newmodel.score(X_test, y_test))"
      ],
      "execution_count": null,
      "outputs": [
        {
          "output_type": "stream",
          "name": "stdout",
          "text": [
            "\n",
            "Score for the Train dataset : 0.7875765302008688\n",
            "Score for the Test dataset : 0.03610833322378593\n"
          ]
        }
      ]
    },
    {
      "cell_type": "markdown",
      "metadata": {
        "id": "2vrIsw55vNM6"
      },
      "source": [
        "## There is an overfitting ! \n",
        "Indeed, the model get a good score on the Train dataset, because he learned in winter / spring / summer datas. But he get a bad score in Falls..."
      ]
    },
    {
      "cell_type": "markdown",
      "metadata": {
        "id": "652oRHFcwI0H"
      },
      "source": [
        "# Let's play !\n",
        "Train a new model with all numeric variables (without your target of course) and try to have a better score than previously.\n",
        "\n",
        "Remember to split randomly your dataset before training your model.\n",
        "\n",
        "Display the Test score."
      ]
    },
    {
      "cell_type": "code",
      "metadata": {
        "id": "nR-dmy-LxNtZ",
        "colab": {
          "base_uri": "https://localhost:8080/"
        },
        "outputId": "cc1feba6-c4ab-4010-c179-1d4e62006e4f"
      },
      "source": [
        "# Your code here :\n",
        "\n",
        "X = df_weather[[\"MIN_TEMPERATURE_C\", 'SUNHOUR', 'WINDSPEED_MAX_KMH', 'TEMPERATURE_MORNING_C', 'TEMPERATURE_NOON_C', 'TEMPERATURE_EVENING_C', 'PRECIP_TOTAL_DAY_MM', 'HUMIDITY_MAX_PERCENT', 'VISIBILITY_AVG_KM',\n",
        "                'PRESSURE_MAX_MB', 'CLOUDCOVER_AVG_PERCENT', 'HEATINDEX_MAX_C', 'DEWPOINT_MAX_C', \n",
        "                'WINDTEMP_MAX_C', 'WEATHER_CODE_MORNING', 'WEATHER_CODE_NOON', 'WEATHER_CODE_EVENING', 'TOTAL_SNOW_MM', 'UV_INDEX']]\n",
        "y = df_weather['MAX_TEMPERATURE_C']\n",
        "\n",
        "# We set the size of the train set to 75%. And the rest is for the test set.\n",
        "# We set the split NOT in random.\n",
        "X_train, X_test, y_train, y_test = train_test_split(X, y, train_size = 0.75)\n",
        "\n",
        "\n",
        "# Here we train the model only on the train dataset.\n",
        "newmodel = LinearRegression().fit(X_train, y_train)\n",
        "\n",
        "# And now we compare both scores :\n",
        "print(\"\\nScore for the Train dataset :\", newmodel.score(X_train, y_train))\n",
        "print(\"Score for the Test dataset :\", newmodel.score(X_test, y_test))"
      ],
      "execution_count": null,
      "outputs": [
        {
          "output_type": "stream",
          "name": "stdout",
          "text": [
            "\n",
            "Score for the Train dataset : 0.9940177784553654\n",
            "Score for the Test dataset : 0.9932371050698675\n"
          ]
        }
      ]
    }
  ]
}