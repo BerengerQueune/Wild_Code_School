{
  "cells": [
    {
      "cell_type": "code",
      "execution_count": 1,
      "metadata": {
        "colab": {
          "base_uri": "https://localhost:8080/"
        },
        "id": "4nNLeCn7R0b7",
        "outputId": "3ffb3b3e-c8a5-4061-c7fe-f4bb0c09f0f5"
      },
      "outputs": [
        {
          "name": "stderr",
          "output_type": "stream",
          "text": [
            "[nltk_data] Downloading collection 'popular'\n",
            "[nltk_data]    | \n",
            "[nltk_data]    | Downloading package cmudict to\n",
            "[nltk_data]    |     C:\\Users\\Berenger\\AppData\\Roaming\\nltk_data...\n",
            "[nltk_data]    |   Package cmudict is already up-to-date!\n",
            "[nltk_data]    | Downloading package gazetteers to\n",
            "[nltk_data]    |     C:\\Users\\Berenger\\AppData\\Roaming\\nltk_data...\n",
            "[nltk_data]    |   Package gazetteers is already up-to-date!\n",
            "[nltk_data]    | Downloading package genesis to\n",
            "[nltk_data]    |     C:\\Users\\Berenger\\AppData\\Roaming\\nltk_data...\n",
            "[nltk_data]    |   Package genesis is already up-to-date!\n",
            "[nltk_data]    | Downloading package gutenberg to\n",
            "[nltk_data]    |     C:\\Users\\Berenger\\AppData\\Roaming\\nltk_data...\n",
            "[nltk_data]    |   Package gutenberg is already up-to-date!\n",
            "[nltk_data]    | Downloading package inaugural to\n",
            "[nltk_data]    |     C:\\Users\\Berenger\\AppData\\Roaming\\nltk_data...\n",
            "[nltk_data]    |   Package inaugural is already up-to-date!\n",
            "[nltk_data]    | Downloading package movie_reviews to\n",
            "[nltk_data]    |     C:\\Users\\Berenger\\AppData\\Roaming\\nltk_data...\n",
            "[nltk_data]    |   Package movie_reviews is already up-to-date!\n",
            "[nltk_data]    | Downloading package names to\n",
            "[nltk_data]    |     C:\\Users\\Berenger\\AppData\\Roaming\\nltk_data...\n",
            "[nltk_data]    |   Package names is already up-to-date!\n",
            "[nltk_data]    | Downloading package shakespeare to\n",
            "[nltk_data]    |     C:\\Users\\Berenger\\AppData\\Roaming\\nltk_data...\n",
            "[nltk_data]    |   Package shakespeare is already up-to-date!\n",
            "[nltk_data]    | Downloading package stopwords to\n",
            "[nltk_data]    |     C:\\Users\\Berenger\\AppData\\Roaming\\nltk_data...\n",
            "[nltk_data]    |   Package stopwords is already up-to-date!\n",
            "[nltk_data]    | Downloading package treebank to\n",
            "[nltk_data]    |     C:\\Users\\Berenger\\AppData\\Roaming\\nltk_data...\n",
            "[nltk_data]    |   Package treebank is already up-to-date!\n",
            "[nltk_data]    | Downloading package twitter_samples to\n",
            "[nltk_data]    |     C:\\Users\\Berenger\\AppData\\Roaming\\nltk_data...\n",
            "[nltk_data]    |   Package twitter_samples is already up-to-date!\n",
            "[nltk_data]    | Downloading package omw to\n",
            "[nltk_data]    |     C:\\Users\\Berenger\\AppData\\Roaming\\nltk_data...\n",
            "[nltk_data]    |   Package omw is already up-to-date!\n",
            "[nltk_data]    | Downloading package wordnet to\n",
            "[nltk_data]    |     C:\\Users\\Berenger\\AppData\\Roaming\\nltk_data...\n",
            "[nltk_data]    |   Package wordnet is already up-to-date!\n",
            "[nltk_data]    | Downloading package wordnet31 to\n",
            "[nltk_data]    |     C:\\Users\\Berenger\\AppData\\Roaming\\nltk_data...\n",
            "[nltk_data]    |   Package wordnet31 is already up-to-date!\n",
            "[nltk_data]    | Downloading package wordnet_ic to\n",
            "[nltk_data]    |     C:\\Users\\Berenger\\AppData\\Roaming\\nltk_data...\n",
            "[nltk_data]    |   Package wordnet_ic is already up-to-date!\n",
            "[nltk_data]    | Downloading package words to\n",
            "[nltk_data]    |     C:\\Users\\Berenger\\AppData\\Roaming\\nltk_data...\n",
            "[nltk_data]    |   Package words is already up-to-date!\n",
            "[nltk_data]    | Downloading package maxent_ne_chunker to\n",
            "[nltk_data]    |     C:\\Users\\Berenger\\AppData\\Roaming\\nltk_data...\n",
            "[nltk_data]    |   Package maxent_ne_chunker is already up-to-date!\n",
            "[nltk_data]    | Downloading package punkt to\n",
            "[nltk_data]    |     C:\\Users\\Berenger\\AppData\\Roaming\\nltk_data...\n",
            "[nltk_data]    |   Package punkt is already up-to-date!\n",
            "[nltk_data]    | Downloading package snowball_data to\n",
            "[nltk_data]    |     C:\\Users\\Berenger\\AppData\\Roaming\\nltk_data...\n",
            "[nltk_data]    |   Package snowball_data is already up-to-date!\n",
            "[nltk_data]    | Downloading package averaged_perceptron_tagger to\n",
            "[nltk_data]    |     C:\\Users\\Berenger\\AppData\\Roaming\\nltk_data...\n",
            "[nltk_data]    |   Package averaged_perceptron_tagger is already up-\n",
            "[nltk_data]    |       to-date!\n",
            "[nltk_data]    | \n",
            "[nltk_data]  Done downloading collection popular\n"
          ]
        },
        {
          "data": {
            "text/plain": [
              "True"
            ]
          },
          "execution_count": 1,
          "metadata": {},
          "output_type": "execute_result"
        }
      ],
      "source": [
        "import numpy as np\n",
        "import pandas as pd\n",
        "import matplotlib.pyplot as plt\n",
        "import seaborn as sns\n",
        "import plotly.express as px\n",
        "from sklearn.model_selection import train_test_split\n",
        "from sklearn.feature_extraction.text import CountVectorizer\n",
        "from sklearn.feature_extraction.text import TfidfVectorizer\n",
        "from sklearn.linear_model import LogisticRegression\n",
        "from nltk.stem import SnowballStemmer\n",
        "import spacy\n",
        "import nltk\n",
        "import re\n",
        "nltk.download('popular')"
      ]
    },
    {
      "cell_type": "code",
      "execution_count": 2,
      "metadata": {
        "colab": {
          "base_uri": "https://localhost:8080/"
        },
        "id": "NH2nz3uOSLqr",
        "outputId": "e7f15be0-e1c0-47bf-b041-f10386814a50"
      },
      "outputs": [
        {
          "data": {
            "text/plain": [
              "(27481, 4)"
            ]
          },
          "execution_count": 2,
          "metadata": {},
          "output_type": "execute_result"
        }
      ],
      "source": [
        "df = pd.read_csv(\"https://raw.githubusercontent.com/BerengerQueune/wild_notebooks/main/Dataset/train.csv\")\n",
        "df.shape"
      ]
    },
    {
      "cell_type": "markdown",
      "metadata": {
        "id": "Xc3epbzTSV25"
      },
      "source": [
        "Keep only positive and negative tweets (so you exclude neutral). What is the percentage of positive/negative tweets?"
      ]
    },
    {
      "cell_type": "code",
      "execution_count": 3,
      "metadata": {
        "colab": {
          "base_uri": "https://localhost:8080/"
        },
        "id": "d1Q6rm1bSXqL",
        "outputId": "c9b41a4c-1701-4841-c58a-4d8c55a4923d"
      },
      "outputs": [
        {
          "data": {
            "text/plain": [
              "positive    52.447595\n",
              "negative    47.552405\n",
              "Name: sentiment, dtype: float64"
            ]
          },
          "execution_count": 3,
          "metadata": {},
          "output_type": "execute_result"
        }
      ],
      "source": [
        "df_positive_negative = df.loc[df[\"sentiment\"].isin([\"negative\", \"positive\"])]\n",
        "\n",
        "df_positive_negative[\"sentiment\"].value_counts(normalize=True)*100"
      ]
    },
    {
      "cell_type": "markdown",
      "metadata": {
        "id": "hVTHVQ9kTbeX"
      },
      "source": [
        "<b><font color='orange'>The percentage of positive tweets is 52,44% and negative tweets is 47,55%.</font></b>"
      ]
    },
    {
      "cell_type": "code",
      "execution_count": 4,
      "metadata": {
        "id": "_RkPjaBRcXgn"
      },
      "outputs": [],
      "source": [
        "# df_positive_negative.reset_index(drop=True,inplace=True)"
      ]
    },
    {
      "cell_type": "markdown",
      "metadata": {
        "id": "vFhz5oMvyQHj"
      },
      "source": [
        "Create a function you call clean that takes a sentence as parameter (so a str text) and returns a text (str) of tokens after applying a stemmer or a lemmatizer, separated by spaces."
      ]
    },
    {
      "cell_type": "code",
      "execution_count": 5,
      "metadata": {
        "colab": {
          "base_uri": "https://localhost:8080/"
        },
        "id": "-DeYbB1uyQdp",
        "outputId": "79e0353b-c2c9-4192-ea92-f1ad744eb937"
      },
      "outputs": [
        {
          "name": "stdout",
          "output_type": "stream",
          "text": [
            " you be well when I be well .\n"
          ]
        }
      ],
      "source": [
        "def clean(sentence):\n",
        "  newsentence = \"\"\n",
        "  nlp = spacy.load('en_core_web_sm')\n",
        "  sent_tokens = nlp(sentence)\n",
        "  for token in sent_tokens:   \n",
        "    newsentence = newsentence + \" \" + (token.lemma_)\n",
        "  print(newsentence)\n",
        "\n",
        "clean(\"You are better when I am well.\")"
      ]
    },
    {
      "cell_type": "markdown",
      "metadata": {
        "id": "53nboqSoyUYb"
      },
      "source": [
        "Get the list of English stopwords from NLTK, and copy it into a stopwordsenglish list. Complete your clean function so that it removes punctuation and stopwords."
      ]
    },
    {
      "cell_type": "code",
      "execution_count": 6,
      "metadata": {
        "colab": {
          "base_uri": "https://localhost:8080/",
          "height": 35
        },
        "id": "hOxfbxHf6-4O",
        "outputId": "3276a748-b2d3-4d0c-b966-f4b46631254e"
      },
      "outputs": [
        {
          "data": {
            "text/plain": [
              "' well well'"
            ]
          },
          "execution_count": 6,
          "metadata": {},
          "output_type": "execute_result"
        }
      ],
      "source": [
        "stopwordsenglish = nltk.corpus.stopwords.words(\"english\")\n",
        "nlp = spacy.load('en_core_web_sm')\n",
        "\n",
        "def clean(sentence):\n",
        "  sentence = re.sub(r'[^\\w\\s]','',str(sentence))\n",
        "  sentence = nltk.word_tokenize(sentence.lower())\n",
        "  newsentence = \"\"\n",
        "  tokens_clean = []\n",
        "  for words in sentence:\n",
        "    if words not in stopwordsenglish:\n",
        "      tokens_clean.append(words)\n",
        "  tokens_clean2 = ' '.join([str(item) for item in tokens_clean])\n",
        "  sent_tokens = nlp(tokens_clean2)\n",
        "  for token in sent_tokens:\n",
        "    newsentence = newsentence + \" \" + (token.lemma_)\n",
        "  return newsentence\n",
        "\n",
        "clean(\"You are better when I am well.\")"
      ]
    },
    {
      "cell_type": "markdown",
      "metadata": {
        "id": "k6TviI75yU2A"
      },
      "source": [
        "Apply this clean function to the text column of your DataFrame. Store the result in a new clean column in the DataFrame. (The processing may take 2 or 3 minutes)\n",
        "You should now have a DataFrame that looks like this:"
      ]
    },
    {
      "cell_type": "code",
      "execution_count": 7,
      "metadata": {
        "colab": {
          "base_uri": "https://localhost:8080/"
        },
        "id": "S9D7w4N29WKt",
        "outputId": "e82addc9-8455-4341-e13c-fb124e7e1413"
      },
      "outputs": [
        {
          "name": "stderr",
          "output_type": "stream",
          "text": [
            "C:\\Users\\Berenger\\AppData\\Local\\Temp/ipykernel_13012/3272873584.py:1: SettingWithCopyWarning: \n",
            "A value is trying to be set on a copy of a slice from a DataFrame.\n",
            "Try using .loc[row_indexer,col_indexer] = value instead\n",
            "\n",
            "See the caveats in the documentation: https://pandas.pydata.org/pandas-docs/stable/user_guide/indexing.html#returning-a-view-versus-a-copy\n",
            "  df_positive_negative[\"clean\"] = df_positive_negative[\"text\"].apply(clean)\n"
          ]
        }
      ],
      "source": [
        "df_positive_negative[\"clean\"] = df_positive_negative[\"text\"].apply(clean)"
      ]
    },
    {
      "cell_type": "code",
      "execution_count": 8,
      "metadata": {
        "colab": {
          "base_uri": "https://localhost:8080/",
          "height": 424
        },
        "id": "Fv2uwAvtFzFO",
        "outputId": "bf29b875-0bb5-4d34-ae8b-6f82fa754fd1"
      },
      "outputs": [
        {
          "data": {
            "text/html": [
              "<div>\n",
              "<style scoped>\n",
              "    .dataframe tbody tr th:only-of-type {\n",
              "        vertical-align: middle;\n",
              "    }\n",
              "\n",
              "    .dataframe tbody tr th {\n",
              "        vertical-align: top;\n",
              "    }\n",
              "\n",
              "    .dataframe thead th {\n",
              "        text-align: right;\n",
              "    }\n",
              "</style>\n",
              "<table border=\"1\" class=\"dataframe\">\n",
              "  <thead>\n",
              "    <tr style=\"text-align: right;\">\n",
              "      <th></th>\n",
              "      <th>textID</th>\n",
              "      <th>text</th>\n",
              "      <th>selected_text</th>\n",
              "      <th>sentiment</th>\n",
              "      <th>clean</th>\n",
              "    </tr>\n",
              "  </thead>\n",
              "  <tbody>\n",
              "    <tr>\n",
              "      <th>1</th>\n",
              "      <td>549e992a42</td>\n",
              "      <td>Sooo SAD I will miss you here in San Diego!!!</td>\n",
              "      <td>Sooo SAD</td>\n",
              "      <td>negative</td>\n",
              "      <td>sooo sad miss san diego</td>\n",
              "    </tr>\n",
              "    <tr>\n",
              "      <th>2</th>\n",
              "      <td>088c60f138</td>\n",
              "      <td>my boss is bullying me...</td>\n",
              "      <td>bullying me</td>\n",
              "      <td>negative</td>\n",
              "      <td>boss bully</td>\n",
              "    </tr>\n",
              "    <tr>\n",
              "      <th>3</th>\n",
              "      <td>9642c003ef</td>\n",
              "      <td>what interview! leave me alone</td>\n",
              "      <td>leave me alone</td>\n",
              "      <td>negative</td>\n",
              "      <td>interview leave alone</td>\n",
              "    </tr>\n",
              "    <tr>\n",
              "      <th>4</th>\n",
              "      <td>358bd9e861</td>\n",
              "      <td>Sons of ****, why couldn`t they put them on t...</td>\n",
              "      <td>Sons of ****,</td>\n",
              "      <td>negative</td>\n",
              "      <td>son could not put release already buy</td>\n",
              "    </tr>\n",
              "    <tr>\n",
              "      <th>6</th>\n",
              "      <td>6e0c6d75b1</td>\n",
              "      <td>2am feedings for the baby are fun when he is a...</td>\n",
              "      <td>fun</td>\n",
              "      <td>positive</td>\n",
              "      <td>2 am feeding baby fun smile coo</td>\n",
              "    </tr>\n",
              "    <tr>\n",
              "      <th>...</th>\n",
              "      <td>...</td>\n",
              "      <td>...</td>\n",
              "      <td>...</td>\n",
              "      <td>...</td>\n",
              "      <td>...</td>\n",
              "    </tr>\n",
              "    <tr>\n",
              "      <th>27475</th>\n",
              "      <td>b78ec00df5</td>\n",
              "      <td>enjoy ur night</td>\n",
              "      <td>enjoy</td>\n",
              "      <td>positive</td>\n",
              "      <td>enjoy ur night</td>\n",
              "    </tr>\n",
              "    <tr>\n",
              "      <th>27476</th>\n",
              "      <td>4eac33d1c0</td>\n",
              "      <td>wish we could come see u on Denver  husband l...</td>\n",
              "      <td>d lost</td>\n",
              "      <td>negative</td>\n",
              "      <td>wish could come see u denver husband lose job...</td>\n",
              "    </tr>\n",
              "    <tr>\n",
              "      <th>27477</th>\n",
              "      <td>4f4c4fc327</td>\n",
              "      <td>I`ve wondered about rake to.  The client has ...</td>\n",
              "      <td>, don`t force</td>\n",
              "      <td>negative</td>\n",
              "      <td>I ve wonder rake client make clear net do nt ...</td>\n",
              "    </tr>\n",
              "    <tr>\n",
              "      <th>27478</th>\n",
              "      <td>f67aae2310</td>\n",
              "      <td>Yay good for both of you. Enjoy the break - y...</td>\n",
              "      <td>Yay good for both of you.</td>\n",
              "      <td>positive</td>\n",
              "      <td>yay good enjoy break probably need hectic wee...</td>\n",
              "    </tr>\n",
              "    <tr>\n",
              "      <th>27479</th>\n",
              "      <td>ed167662a5</td>\n",
              "      <td>But it was worth it  ****.</td>\n",
              "      <td>But it was worth it  ****.</td>\n",
              "      <td>positive</td>\n",
              "      <td>worth</td>\n",
              "    </tr>\n",
              "  </tbody>\n",
              "</table>\n",
              "<p>16363 rows × 5 columns</p>\n",
              "</div>"
            ],
            "text/plain": [
              "           textID                                               text  \\\n",
              "1      549e992a42      Sooo SAD I will miss you here in San Diego!!!   \n",
              "2      088c60f138                          my boss is bullying me...   \n",
              "3      9642c003ef                     what interview! leave me alone   \n",
              "4      358bd9e861   Sons of ****, why couldn`t they put them on t...   \n",
              "6      6e0c6d75b1  2am feedings for the baby are fun when he is a...   \n",
              "...           ...                                                ...   \n",
              "27475  b78ec00df5                                     enjoy ur night   \n",
              "27476  4eac33d1c0   wish we could come see u on Denver  husband l...   \n",
              "27477  4f4c4fc327   I`ve wondered about rake to.  The client has ...   \n",
              "27478  f67aae2310   Yay good for both of you. Enjoy the break - y...   \n",
              "27479  ed167662a5                         But it was worth it  ****.   \n",
              "\n",
              "                    selected_text sentiment  \\\n",
              "1                        Sooo SAD  negative   \n",
              "2                     bullying me  negative   \n",
              "3                  leave me alone  negative   \n",
              "4                   Sons of ****,  negative   \n",
              "6                             fun  positive   \n",
              "...                           ...       ...   \n",
              "27475                       enjoy  positive   \n",
              "27476                      d lost  negative   \n",
              "27477               , don`t force  negative   \n",
              "27478   Yay good for both of you.  positive   \n",
              "27479  But it was worth it  ****.  positive   \n",
              "\n",
              "                                                   clean  \n",
              "1                                sooo sad miss san diego  \n",
              "2                                             boss bully  \n",
              "3                                  interview leave alone  \n",
              "4                  son could not put release already buy  \n",
              "6                        2 am feeding baby fun smile coo  \n",
              "...                                                  ...  \n",
              "27475                                     enjoy ur night  \n",
              "27476   wish could come see u denver husband lose job...  \n",
              "27477   I ve wonder rake client make clear net do nt ...  \n",
              "27478   yay good enjoy break probably need hectic wee...  \n",
              "27479                                              worth  \n",
              "\n",
              "[16363 rows x 5 columns]"
            ]
          },
          "execution_count": 8,
          "metadata": {},
          "output_type": "execute_result"
        }
      ],
      "source": [
        "df_positive_negative"
      ]
    },
    {
      "cell_type": "markdown",
      "metadata": {
        "id": "MIb2FxHnyYvk"
      },
      "source": [
        "Copy the clean column into a Series X, and the sentiment column into a Series y. Apply a split test-train with the training set size at 0.75 with random_state = 32."
      ]
    },
    {
      "cell_type": "code",
      "execution_count": 9,
      "metadata": {
        "id": "6JSHON-VI6oo"
      },
      "outputs": [],
      "source": [
        "X = df_positive_negative[\"clean\"]\n",
        "y = df_positive_negative['sentiment']\n",
        "\n",
        "X_train, X_test, y_train, y_test = train_test_split(X, y, random_state = 32, train_size = 0.75)\n",
        "\n",
        "def classification_models(train, test):\n",
        "  \n",
        "    from sklearn.neighbors import KNeighborsClassifier\n",
        "    model = KNeighborsClassifier(n_neighbors=2)\n",
        "    model.fit(X_train_CV, y_train)\n",
        "    print(\"Score for the KNN Train dataset :\", model.score(train, y_train))\n",
        "    print(\"Score for the KNN Test dataset :\", model.score(test, y_test))\n",
        "\n",
        "    from sklearn.linear_model import LogisticRegression\n",
        "    modelLR = LogisticRegression()\n",
        "    modelLR.fit(X_train_CV, y_train)\n",
        "    print(\"Score for the Logistic Regression Train dataset :\", modelLR.score(train, y_train))\n",
        "    print(\"Score for the Logistic Regression Test dataset :\", modelLR.score(test, y_test))\n",
        "\n",
        "    from sklearn.tree import DecisionTreeClassifier\n",
        "    modelDTC = DecisionTreeClassifier()\n",
        "    modelDTC.fit(X_train_CV, y_train)\n",
        "    print(\"Score for the Decision Tree Classifier Train dataset :\", modelDTC.score(train, y_train))\n",
        "    print(\"Score for the Decision Tree Classifier Test dataset :\", modelDTC.score(test, y_test))"
      ]
    },
    {
      "cell_type": "markdown",
      "metadata": {
        "id": "B7tQAKMuyYog"
      },
      "source": [
        "Apply a CountVectorizer and train classification models."
      ]
    },
    {
      "cell_type": "code",
      "execution_count": 10,
      "metadata": {
        "colab": {
          "base_uri": "https://localhost:8080/"
        },
        "id": "3qh6aPRXKJxJ",
        "outputId": "571b6c97-75bb-4668-ecd9-0739d5c92e1e"
      },
      "outputs": [
        {
          "name": "stdout",
          "output_type": "stream",
          "text": [
            "Score for the KNN Train dataset : 0.8497392438070405\n",
            "Score for the KNN Test dataset : 0.7350281104864337\n",
            "Score for the Logistic Regression Train dataset : 0.9551010430247718\n",
            "Score for the Logistic Regression Test dataset : 0.8623808359814227\n",
            "Score for the Decision Tree Classifier Train dataset : 0.9995110821382008\n",
            "Score for the Decision Tree Classifier Test dataset : 0.8078709362014177\n"
          ]
        }
      ],
      "source": [
        "vectorizer = CountVectorizer()\n",
        "vectorizer.fit(X_train)\n",
        "\n",
        "X_train_CV = vectorizer.transform(X_train)\n",
        "\n",
        "X_test_CV = vectorizer.transform(X_test)\n",
        "\n",
        "classification_models(X_train_CV, X_test_CV)"
      ]
    },
    {
      "cell_type": "markdown",
      "metadata": {
        "id": "QrA6YY4ByYU3"
      },
      "source": [
        "Apply a TfidfVectorizer and train classification models."
      ]
    },
    {
      "cell_type": "code",
      "execution_count": 11,
      "metadata": {
        "colab": {
          "base_uri": "https://localhost:8080/"
        },
        "id": "6fsq_J0CKVIN",
        "outputId": "6e58a0ee-3ce3-4ecc-c54b-8f2e5c5ec5ee"
      },
      "outputs": [
        {
          "name": "stdout",
          "output_type": "stream",
          "text": [
            "Score for the KNN Train dataset : 0.5957464146023468\n",
            "Score for the KNN Test dataset : 0.5702762160840871\n",
            "Score for the Logistic Regression Train dataset : 0.9283735332464146\n",
            "Score for the Logistic Regression Test dataset : 0.8636030310437546\n",
            "Score for the Decision Tree Classifier Train dataset : 0.9995110821382008\n",
            "Score for the Decision Tree Classifier Test dataset : 0.8098264483011489\n"
          ]
        }
      ],
      "source": [
        "tfidf = TfidfVectorizer()\n",
        "tfidf.fit(X_train)\n",
        "\n",
        "X_train_CV = tfidf.transform(X_train)\n",
        "\n",
        "X_test_CV = tfidf.transform(X_test)\n",
        "\n",
        "classification_models(X_train_CV, X_test_CV)"
      ]
    },
    {
      "cell_type": "markdown",
      "metadata": {
        "id": "4poRJqVfydZ4"
      },
      "source": [
        "Compare the scores, which parameters give the best scores?"
      ]
    },
    {
      "cell_type": "markdown",
      "metadata": {
        "id": "2PTZuHsYNcBQ"
      },
      "source": [
        "<b><font color='orange'>I think the Logistic Regression with a CountVectorizer is giving the best score.</font></b>"
      ]
    },
    {
      "cell_type": "code",
      "execution_count": 22,
      "metadata": {},
      "outputs": [
        {
          "name": "stdout",
          "output_type": "stream",
          "text": [
            "      classifier_model  train_score  test_score\n",
            "0  Logistic Regression     0.928374    0.863603\n",
            "1  K Nearest Neighbors     0.595746    0.570276\n",
            "2        Decision Tree     0.999511    0.812760\n",
            "3        Random Forest     0.997474    0.836959\n"
          ]
        },
        {
          "data": {
            "application/vnd.plotly.v1+json": {
              "config": {
                "plotlyServerURL": "https://plot.ly"
              },
              "data": [
                {
                  "line": {
                    "color": "blue",
                    "shape": "spline"
                  },
                  "name": "Train",
                  "type": "scatter",
                  "x": [
                    "Logistic Regression",
                    "K Nearest Neighbors",
                    "Decision Tree",
                    "Random Forest"
                  ],
                  "y": [
                    0.9283735332464146,
                    0.5957464146023468,
                    0.9995110821382008,
                    0.997473924380704
                  ]
                },
                {
                  "line": {
                    "color": "darkorange",
                    "shape": "spline"
                  },
                  "name": "Test",
                  "type": "scatter",
                  "x": [
                    "Logistic Regression",
                    "K Nearest Neighbors",
                    "Decision Tree",
                    "Random Forest"
                  ],
                  "y": [
                    0.8636030310437546,
                    0.5702762160840871,
                    0.8127597164507455,
                    0.8369591786849181
                  ]
                }
              ],
              "layout": {
                "height": 700,
                "template": {
                  "data": {
                    "bar": [
                      {
                        "error_x": {
                          "color": "#f2f5fa"
                        },
                        "error_y": {
                          "color": "#f2f5fa"
                        },
                        "marker": {
                          "line": {
                            "color": "rgb(17,17,17)",
                            "width": 0.5
                          },
                          "pattern": {
                            "fillmode": "overlay",
                            "size": 10,
                            "solidity": 0.2
                          }
                        },
                        "type": "bar"
                      }
                    ],
                    "barpolar": [
                      {
                        "marker": {
                          "line": {
                            "color": "rgb(17,17,17)",
                            "width": 0.5
                          },
                          "pattern": {
                            "fillmode": "overlay",
                            "size": 10,
                            "solidity": 0.2
                          }
                        },
                        "type": "barpolar"
                      }
                    ],
                    "carpet": [
                      {
                        "aaxis": {
                          "endlinecolor": "#A2B1C6",
                          "gridcolor": "#506784",
                          "linecolor": "#506784",
                          "minorgridcolor": "#506784",
                          "startlinecolor": "#A2B1C6"
                        },
                        "baxis": {
                          "endlinecolor": "#A2B1C6",
                          "gridcolor": "#506784",
                          "linecolor": "#506784",
                          "minorgridcolor": "#506784",
                          "startlinecolor": "#A2B1C6"
                        },
                        "type": "carpet"
                      }
                    ],
                    "choropleth": [
                      {
                        "colorbar": {
                          "outlinewidth": 0,
                          "ticks": ""
                        },
                        "type": "choropleth"
                      }
                    ],
                    "contour": [
                      {
                        "colorbar": {
                          "outlinewidth": 0,
                          "ticks": ""
                        },
                        "colorscale": [
                          [
                            0,
                            "#0d0887"
                          ],
                          [
                            0.1111111111111111,
                            "#46039f"
                          ],
                          [
                            0.2222222222222222,
                            "#7201a8"
                          ],
                          [
                            0.3333333333333333,
                            "#9c179e"
                          ],
                          [
                            0.4444444444444444,
                            "#bd3786"
                          ],
                          [
                            0.5555555555555556,
                            "#d8576b"
                          ],
                          [
                            0.6666666666666666,
                            "#ed7953"
                          ],
                          [
                            0.7777777777777778,
                            "#fb9f3a"
                          ],
                          [
                            0.8888888888888888,
                            "#fdca26"
                          ],
                          [
                            1,
                            "#f0f921"
                          ]
                        ],
                        "type": "contour"
                      }
                    ],
                    "contourcarpet": [
                      {
                        "colorbar": {
                          "outlinewidth": 0,
                          "ticks": ""
                        },
                        "type": "contourcarpet"
                      }
                    ],
                    "heatmap": [
                      {
                        "colorbar": {
                          "outlinewidth": 0,
                          "ticks": ""
                        },
                        "colorscale": [
                          [
                            0,
                            "#0d0887"
                          ],
                          [
                            0.1111111111111111,
                            "#46039f"
                          ],
                          [
                            0.2222222222222222,
                            "#7201a8"
                          ],
                          [
                            0.3333333333333333,
                            "#9c179e"
                          ],
                          [
                            0.4444444444444444,
                            "#bd3786"
                          ],
                          [
                            0.5555555555555556,
                            "#d8576b"
                          ],
                          [
                            0.6666666666666666,
                            "#ed7953"
                          ],
                          [
                            0.7777777777777778,
                            "#fb9f3a"
                          ],
                          [
                            0.8888888888888888,
                            "#fdca26"
                          ],
                          [
                            1,
                            "#f0f921"
                          ]
                        ],
                        "type": "heatmap"
                      }
                    ],
                    "heatmapgl": [
                      {
                        "colorbar": {
                          "outlinewidth": 0,
                          "ticks": ""
                        },
                        "colorscale": [
                          [
                            0,
                            "#0d0887"
                          ],
                          [
                            0.1111111111111111,
                            "#46039f"
                          ],
                          [
                            0.2222222222222222,
                            "#7201a8"
                          ],
                          [
                            0.3333333333333333,
                            "#9c179e"
                          ],
                          [
                            0.4444444444444444,
                            "#bd3786"
                          ],
                          [
                            0.5555555555555556,
                            "#d8576b"
                          ],
                          [
                            0.6666666666666666,
                            "#ed7953"
                          ],
                          [
                            0.7777777777777778,
                            "#fb9f3a"
                          ],
                          [
                            0.8888888888888888,
                            "#fdca26"
                          ],
                          [
                            1,
                            "#f0f921"
                          ]
                        ],
                        "type": "heatmapgl"
                      }
                    ],
                    "histogram": [
                      {
                        "marker": {
                          "pattern": {
                            "fillmode": "overlay",
                            "size": 10,
                            "solidity": 0.2
                          }
                        },
                        "type": "histogram"
                      }
                    ],
                    "histogram2d": [
                      {
                        "colorbar": {
                          "outlinewidth": 0,
                          "ticks": ""
                        },
                        "colorscale": [
                          [
                            0,
                            "#0d0887"
                          ],
                          [
                            0.1111111111111111,
                            "#46039f"
                          ],
                          [
                            0.2222222222222222,
                            "#7201a8"
                          ],
                          [
                            0.3333333333333333,
                            "#9c179e"
                          ],
                          [
                            0.4444444444444444,
                            "#bd3786"
                          ],
                          [
                            0.5555555555555556,
                            "#d8576b"
                          ],
                          [
                            0.6666666666666666,
                            "#ed7953"
                          ],
                          [
                            0.7777777777777778,
                            "#fb9f3a"
                          ],
                          [
                            0.8888888888888888,
                            "#fdca26"
                          ],
                          [
                            1,
                            "#f0f921"
                          ]
                        ],
                        "type": "histogram2d"
                      }
                    ],
                    "histogram2dcontour": [
                      {
                        "colorbar": {
                          "outlinewidth": 0,
                          "ticks": ""
                        },
                        "colorscale": [
                          [
                            0,
                            "#0d0887"
                          ],
                          [
                            0.1111111111111111,
                            "#46039f"
                          ],
                          [
                            0.2222222222222222,
                            "#7201a8"
                          ],
                          [
                            0.3333333333333333,
                            "#9c179e"
                          ],
                          [
                            0.4444444444444444,
                            "#bd3786"
                          ],
                          [
                            0.5555555555555556,
                            "#d8576b"
                          ],
                          [
                            0.6666666666666666,
                            "#ed7953"
                          ],
                          [
                            0.7777777777777778,
                            "#fb9f3a"
                          ],
                          [
                            0.8888888888888888,
                            "#fdca26"
                          ],
                          [
                            1,
                            "#f0f921"
                          ]
                        ],
                        "type": "histogram2dcontour"
                      }
                    ],
                    "mesh3d": [
                      {
                        "colorbar": {
                          "outlinewidth": 0,
                          "ticks": ""
                        },
                        "type": "mesh3d"
                      }
                    ],
                    "parcoords": [
                      {
                        "line": {
                          "colorbar": {
                            "outlinewidth": 0,
                            "ticks": ""
                          }
                        },
                        "type": "parcoords"
                      }
                    ],
                    "pie": [
                      {
                        "automargin": true,
                        "type": "pie"
                      }
                    ],
                    "scatter": [
                      {
                        "marker": {
                          "line": {
                            "color": "#283442"
                          }
                        },
                        "type": "scatter"
                      }
                    ],
                    "scatter3d": [
                      {
                        "line": {
                          "colorbar": {
                            "outlinewidth": 0,
                            "ticks": ""
                          }
                        },
                        "marker": {
                          "colorbar": {
                            "outlinewidth": 0,
                            "ticks": ""
                          }
                        },
                        "type": "scatter3d"
                      }
                    ],
                    "scattercarpet": [
                      {
                        "marker": {
                          "colorbar": {
                            "outlinewidth": 0,
                            "ticks": ""
                          }
                        },
                        "type": "scattercarpet"
                      }
                    ],
                    "scattergeo": [
                      {
                        "marker": {
                          "colorbar": {
                            "outlinewidth": 0,
                            "ticks": ""
                          }
                        },
                        "type": "scattergeo"
                      }
                    ],
                    "scattergl": [
                      {
                        "marker": {
                          "line": {
                            "color": "#283442"
                          }
                        },
                        "type": "scattergl"
                      }
                    ],
                    "scattermapbox": [
                      {
                        "marker": {
                          "colorbar": {
                            "outlinewidth": 0,
                            "ticks": ""
                          }
                        },
                        "type": "scattermapbox"
                      }
                    ],
                    "scatterpolar": [
                      {
                        "marker": {
                          "colorbar": {
                            "outlinewidth": 0,
                            "ticks": ""
                          }
                        },
                        "type": "scatterpolar"
                      }
                    ],
                    "scatterpolargl": [
                      {
                        "marker": {
                          "colorbar": {
                            "outlinewidth": 0,
                            "ticks": ""
                          }
                        },
                        "type": "scatterpolargl"
                      }
                    ],
                    "scatterternary": [
                      {
                        "marker": {
                          "colorbar": {
                            "outlinewidth": 0,
                            "ticks": ""
                          }
                        },
                        "type": "scatterternary"
                      }
                    ],
                    "surface": [
                      {
                        "colorbar": {
                          "outlinewidth": 0,
                          "ticks": ""
                        },
                        "colorscale": [
                          [
                            0,
                            "#0d0887"
                          ],
                          [
                            0.1111111111111111,
                            "#46039f"
                          ],
                          [
                            0.2222222222222222,
                            "#7201a8"
                          ],
                          [
                            0.3333333333333333,
                            "#9c179e"
                          ],
                          [
                            0.4444444444444444,
                            "#bd3786"
                          ],
                          [
                            0.5555555555555556,
                            "#d8576b"
                          ],
                          [
                            0.6666666666666666,
                            "#ed7953"
                          ],
                          [
                            0.7777777777777778,
                            "#fb9f3a"
                          ],
                          [
                            0.8888888888888888,
                            "#fdca26"
                          ],
                          [
                            1,
                            "#f0f921"
                          ]
                        ],
                        "type": "surface"
                      }
                    ],
                    "table": [
                      {
                        "cells": {
                          "fill": {
                            "color": "#506784"
                          },
                          "line": {
                            "color": "rgb(17,17,17)"
                          }
                        },
                        "header": {
                          "fill": {
                            "color": "#2a3f5f"
                          },
                          "line": {
                            "color": "rgb(17,17,17)"
                          }
                        },
                        "type": "table"
                      }
                    ]
                  },
                  "layout": {
                    "annotationdefaults": {
                      "arrowcolor": "#f2f5fa",
                      "arrowhead": 0,
                      "arrowwidth": 1
                    },
                    "autotypenumbers": "strict",
                    "coloraxis": {
                      "colorbar": {
                        "outlinewidth": 0,
                        "ticks": ""
                      }
                    },
                    "colorscale": {
                      "diverging": [
                        [
                          0,
                          "#8e0152"
                        ],
                        [
                          0.1,
                          "#c51b7d"
                        ],
                        [
                          0.2,
                          "#de77ae"
                        ],
                        [
                          0.3,
                          "#f1b6da"
                        ],
                        [
                          0.4,
                          "#fde0ef"
                        ],
                        [
                          0.5,
                          "#f7f7f7"
                        ],
                        [
                          0.6,
                          "#e6f5d0"
                        ],
                        [
                          0.7,
                          "#b8e186"
                        ],
                        [
                          0.8,
                          "#7fbc41"
                        ],
                        [
                          0.9,
                          "#4d9221"
                        ],
                        [
                          1,
                          "#276419"
                        ]
                      ],
                      "sequential": [
                        [
                          0,
                          "#0d0887"
                        ],
                        [
                          0.1111111111111111,
                          "#46039f"
                        ],
                        [
                          0.2222222222222222,
                          "#7201a8"
                        ],
                        [
                          0.3333333333333333,
                          "#9c179e"
                        ],
                        [
                          0.4444444444444444,
                          "#bd3786"
                        ],
                        [
                          0.5555555555555556,
                          "#d8576b"
                        ],
                        [
                          0.6666666666666666,
                          "#ed7953"
                        ],
                        [
                          0.7777777777777778,
                          "#fb9f3a"
                        ],
                        [
                          0.8888888888888888,
                          "#fdca26"
                        ],
                        [
                          1,
                          "#f0f921"
                        ]
                      ],
                      "sequentialminus": [
                        [
                          0,
                          "#0d0887"
                        ],
                        [
                          0.1111111111111111,
                          "#46039f"
                        ],
                        [
                          0.2222222222222222,
                          "#7201a8"
                        ],
                        [
                          0.3333333333333333,
                          "#9c179e"
                        ],
                        [
                          0.4444444444444444,
                          "#bd3786"
                        ],
                        [
                          0.5555555555555556,
                          "#d8576b"
                        ],
                        [
                          0.6666666666666666,
                          "#ed7953"
                        ],
                        [
                          0.7777777777777778,
                          "#fb9f3a"
                        ],
                        [
                          0.8888888888888888,
                          "#fdca26"
                        ],
                        [
                          1,
                          "#f0f921"
                        ]
                      ]
                    },
                    "colorway": [
                      "#636efa",
                      "#EF553B",
                      "#00cc96",
                      "#ab63fa",
                      "#FFA15A",
                      "#19d3f3",
                      "#FF6692",
                      "#B6E880",
                      "#FF97FF",
                      "#FECB52"
                    ],
                    "font": {
                      "color": "#f2f5fa"
                    },
                    "geo": {
                      "bgcolor": "rgb(17,17,17)",
                      "lakecolor": "rgb(17,17,17)",
                      "landcolor": "rgb(17,17,17)",
                      "showlakes": true,
                      "showland": true,
                      "subunitcolor": "#506784"
                    },
                    "hoverlabel": {
                      "align": "left"
                    },
                    "hovermode": "closest",
                    "mapbox": {
                      "style": "dark"
                    },
                    "paper_bgcolor": "rgb(17,17,17)",
                    "plot_bgcolor": "rgb(17,17,17)",
                    "polar": {
                      "angularaxis": {
                        "gridcolor": "#506784",
                        "linecolor": "#506784",
                        "ticks": ""
                      },
                      "bgcolor": "rgb(17,17,17)",
                      "radialaxis": {
                        "gridcolor": "#506784",
                        "linecolor": "#506784",
                        "ticks": ""
                      }
                    },
                    "scene": {
                      "xaxis": {
                        "backgroundcolor": "rgb(17,17,17)",
                        "gridcolor": "#506784",
                        "gridwidth": 2,
                        "linecolor": "#506784",
                        "showbackground": true,
                        "ticks": "",
                        "zerolinecolor": "#C8D4E3"
                      },
                      "yaxis": {
                        "backgroundcolor": "rgb(17,17,17)",
                        "gridcolor": "#506784",
                        "gridwidth": 2,
                        "linecolor": "#506784",
                        "showbackground": true,
                        "ticks": "",
                        "zerolinecolor": "#C8D4E3"
                      },
                      "zaxis": {
                        "backgroundcolor": "rgb(17,17,17)",
                        "gridcolor": "#506784",
                        "gridwidth": 2,
                        "linecolor": "#506784",
                        "showbackground": true,
                        "ticks": "",
                        "zerolinecolor": "#C8D4E3"
                      }
                    },
                    "shapedefaults": {
                      "line": {
                        "color": "#f2f5fa"
                      }
                    },
                    "sliderdefaults": {
                      "bgcolor": "#C8D4E3",
                      "bordercolor": "rgb(17,17,17)",
                      "borderwidth": 1,
                      "tickwidth": 0
                    },
                    "ternary": {
                      "aaxis": {
                        "gridcolor": "#506784",
                        "linecolor": "#506784",
                        "ticks": ""
                      },
                      "baxis": {
                        "gridcolor": "#506784",
                        "linecolor": "#506784",
                        "ticks": ""
                      },
                      "bgcolor": "rgb(17,17,17)",
                      "caxis": {
                        "gridcolor": "#506784",
                        "linecolor": "#506784",
                        "ticks": ""
                      }
                    },
                    "title": {
                      "x": 0.05
                    },
                    "updatemenudefaults": {
                      "bgcolor": "#506784",
                      "borderwidth": 0
                    },
                    "xaxis": {
                      "automargin": true,
                      "gridcolor": "#283442",
                      "linecolor": "#506784",
                      "ticks": "",
                      "title": {
                        "standoff": 15
                      },
                      "zerolinecolor": "#283442",
                      "zerolinewidth": 2
                    },
                    "yaxis": {
                      "automargin": true,
                      "gridcolor": "#283442",
                      "linecolor": "#506784",
                      "ticks": "",
                      "title": {
                        "standoff": 15
                      },
                      "zerolinecolor": "#283442",
                      "zerolinewidth": 2
                    }
                  }
                },
                "title": {
                  "text": "Accuracy Score per Model and vectorizer"
                },
                "width": 900,
                "xaxis": {
                  "title": {
                    "text": "Classifier Model"
                  }
                },
                "yaxis": {
                  "title": {
                    "text": "Accuracy Score"
                  }
                }
              }
            }
          },
          "metadata": {},
          "output_type": "display_data"
        }
      ],
      "source": [
        "X = df_positive_negative[\"clean\"]\n",
        "y = df_positive_negative['sentiment']\n",
        "\n",
        "X_train, X_test, y_train, y_test = train_test_split(X, y, random_state = 32, train_size = 0.75)\n",
        "\n",
        "def classification_models(train, test):\n",
        "  \n",
        "    from sklearn.neighbors import KNeighborsClassifier\n",
        "    model = KNeighborsClassifier(n_neighbors=2)\n",
        "    model.fit(train, y_train)\n",
        "    # print(\"Score for the KNN Train dataset :\", model.score(train, y_train))\n",
        "    # print(\"Score for the KNN Test dataset :\", model.score(test, y_test))\n",
        "\n",
        "    from sklearn.linear_model import LogisticRegression\n",
        "    modelLR = LogisticRegression()\n",
        "    modelLR.fit(train, y_train)\n",
        "    # print(\"Score for the Logistic Regression Train dataset :\", modelLR.score(train, y_train))\n",
        "    # print(\"Score for the Logistic Regression Test dataset :\", modelLR.score(test, y_test))\n",
        "\n",
        "    from sklearn.tree import DecisionTreeClassifier\n",
        "    modelDTC = DecisionTreeClassifier()\n",
        "    modelDTC.fit(train, y_train)\n",
        "    # print(\"Score for the Decision Tree Classifier Train dataset :\", modelDTC.score(train, y_train))\n",
        "    # print(\"Score for the Decision Tree Classifier Test dataset :\", modelDTC.score(test, y_test))\n",
        "\n",
        "    from sklearn.ensemble import RandomForestClassifier\n",
        "    modelRFC = RandomForestClassifier(n_estimators=20).fit(train, y_train)\n",
        "    # print(\"Score for the Decision Tree Classifier Train dataset:\", modelRFC.score(train, y_train))\n",
        "    # print(\"Score for the Decision Tree Classifier Test dataset:\", modelRFC.score(test, y_test))\n",
        "\n",
        "\n",
        "\n",
        "    dico = {'classifier_model': ['Logistic Regression', 'K Nearest Neighbors', 'Decision Tree', 'Random Forest'],\n",
        "        'train_score': [0, 0, 0, 0],\n",
        "        'test_score': [0, 0, 0, 0],}\n",
        "\n",
        "    results = pd.DataFrame.from_dict(dico)\n",
        "    results.iloc[0, 1:] = [modelLR.score(train, y_train), modelLR.score(test, y_test)]\n",
        "    results.iloc[1, 1:] = [model.score(train, y_train), model.score(test, y_test)]\n",
        "    results.iloc[2, 1:] = [modelDTC.score(train, y_train), modelDTC.score(test, y_test)]\n",
        "    results.iloc[3, 1:] = [modelRFC.score(train, y_train), modelRFC.score(test, y_test)]\n",
        "\n",
        "    print (results)\n",
        "\n",
        "    import plotly.graph_objects as go\n",
        "    fig = go.Figure()\n",
        "    fig.add_trace(go.Scatter(x=results.classifier_model, y=results.train_score, name='Train', line_shape='spline', line_color='blue'))\n",
        "    fig.add_trace(go.Scatter(x=results.classifier_model, y=results.test_score, name='Test', line_shape='spline', line_color='darkorange'))\n",
        "    fig.update_layout(title='Accuracy Score per Model', xaxis_title='Classifier Model', yaxis_title='Accuracy Score', template='plotly_dark', height=700, width=900)\n",
        "    fig.show()\n",
        "\n",
        "classification_models(X_train_CV, X_test_CV)"
      ]
    }
  ],
  "metadata": {
    "colab": {
      "collapsed_sections": [],
      "name": "NLP 6: Sentiment analysis - Berenger.ipynb",
      "provenance": []
    },
    "kernelspec": {
      "display_name": "Python 3",
      "name": "python3"
    },
    "language_info": {
      "codemirror_mode": {
        "name": "ipython",
        "version": 3
      },
      "file_extension": ".py",
      "mimetype": "text/x-python",
      "name": "python",
      "nbconvert_exporter": "python",
      "pygments_lexer": "ipython3",
      "version": "3.8.12"
    }
  },
  "nbformat": 4,
  "nbformat_minor": 0
}
