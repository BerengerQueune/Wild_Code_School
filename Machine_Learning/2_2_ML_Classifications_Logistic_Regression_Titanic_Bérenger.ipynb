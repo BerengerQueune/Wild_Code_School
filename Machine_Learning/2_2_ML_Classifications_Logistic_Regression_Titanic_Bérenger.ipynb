{
  "nbformat": 4,
  "nbformat_minor": 0,
  "metadata": {
    "colab": {
      "name": "2.2 ML Classifications - Logistic Regression - Titanic Bérenger",
      "provenance": [],
      "collapsed_sections": [],
      "include_colab_link": true
    },
    "kernelspec": {
      "name": "python3",
      "display_name": "Python 3"
    }
  },
  "cells": [
    {
      "cell_type": "markdown",
      "metadata": {
        "id": "view-in-github",
        "colab_type": "text"
      },
      "source": [
        "<a href=\"https://colab.research.google.com/github/BerengerQueune/wild_notebooks/blob/main/2_2_ML_Classifications_Logistic_Regression_Titanic_B%C3%A9renger.ipynb\" target=\"_parent\"><img src=\"https://colab.research.google.com/assets/colab-badge.svg\" alt=\"Open In Colab\"/></a>"
      ]
    },
    {
      "cell_type": "markdown",
      "metadata": {
        "id": "1Ap1mtkdiXwS"
      },
      "source": [
        "# Execute the code below\n",
        "You will get a passenger list of the titanic."
      ]
    },
    {
      "cell_type": "code",
      "metadata": {
        "id": "53zP-4uyicEu",
        "colab": {
          "base_uri": "https://localhost:8080/",
          "height": 202
        },
        "outputId": "d5bed88e-0926-43bd-9f2d-1e65b2fa4de7"
      },
      "source": [
        "import matplotlib.pyplot as plt\n",
        "import pandas as pd\n",
        "import numpy as np\n",
        "import seaborn as sns\n",
        "import plotly.express as px\n",
        "import plotly.graph_objects as go\n",
        "from plotly.subplots import make_subplots\n",
        "link = \"https://raw.githubusercontent.com/murpi/wilddata/master/quests/titanic.csv\"\n",
        "df_titanic = pd.read_csv(link)\n",
        "df_titanic['Survived'] = df_titanic['Survived'].apply(lambda x: \"Survived\" if x == 1 else \"Dead\")\n",
        "df_titanic.head()"
      ],
      "execution_count": null,
      "outputs": [
        {
          "output_type": "execute_result",
          "data": {
            "text/html": [
              "<div>\n",
              "<style scoped>\n",
              "    .dataframe tbody tr th:only-of-type {\n",
              "        vertical-align: middle;\n",
              "    }\n",
              "\n",
              "    .dataframe tbody tr th {\n",
              "        vertical-align: top;\n",
              "    }\n",
              "\n",
              "    .dataframe thead th {\n",
              "        text-align: right;\n",
              "    }\n",
              "</style>\n",
              "<table border=\"1\" class=\"dataframe\">\n",
              "  <thead>\n",
              "    <tr style=\"text-align: right;\">\n",
              "      <th></th>\n",
              "      <th>Survived</th>\n",
              "      <th>Pclass</th>\n",
              "      <th>Name</th>\n",
              "      <th>Sex</th>\n",
              "      <th>Age</th>\n",
              "      <th>Siblings/Spouses Aboard</th>\n",
              "      <th>Parents/Children Aboard</th>\n",
              "      <th>Fare</th>\n",
              "    </tr>\n",
              "  </thead>\n",
              "  <tbody>\n",
              "    <tr>\n",
              "      <th>0</th>\n",
              "      <td>Dead</td>\n",
              "      <td>3</td>\n",
              "      <td>Mr. Owen Harris Braund</td>\n",
              "      <td>male</td>\n",
              "      <td>22.0</td>\n",
              "      <td>1</td>\n",
              "      <td>0</td>\n",
              "      <td>7.2500</td>\n",
              "    </tr>\n",
              "    <tr>\n",
              "      <th>1</th>\n",
              "      <td>Survived</td>\n",
              "      <td>1</td>\n",
              "      <td>Mrs. John Bradley (Florence Briggs Thayer) Cum...</td>\n",
              "      <td>female</td>\n",
              "      <td>38.0</td>\n",
              "      <td>1</td>\n",
              "      <td>0</td>\n",
              "      <td>71.2833</td>\n",
              "    </tr>\n",
              "    <tr>\n",
              "      <th>2</th>\n",
              "      <td>Survived</td>\n",
              "      <td>3</td>\n",
              "      <td>Miss. Laina Heikkinen</td>\n",
              "      <td>female</td>\n",
              "      <td>26.0</td>\n",
              "      <td>0</td>\n",
              "      <td>0</td>\n",
              "      <td>7.9250</td>\n",
              "    </tr>\n",
              "    <tr>\n",
              "      <th>3</th>\n",
              "      <td>Survived</td>\n",
              "      <td>1</td>\n",
              "      <td>Mrs. Jacques Heath (Lily May Peel) Futrelle</td>\n",
              "      <td>female</td>\n",
              "      <td>35.0</td>\n",
              "      <td>1</td>\n",
              "      <td>0</td>\n",
              "      <td>53.1000</td>\n",
              "    </tr>\n",
              "    <tr>\n",
              "      <th>4</th>\n",
              "      <td>Dead</td>\n",
              "      <td>3</td>\n",
              "      <td>Mr. William Henry Allen</td>\n",
              "      <td>male</td>\n",
              "      <td>35.0</td>\n",
              "      <td>0</td>\n",
              "      <td>0</td>\n",
              "      <td>8.0500</td>\n",
              "    </tr>\n",
              "  </tbody>\n",
              "</table>\n",
              "</div>"
            ],
            "text/plain": [
              "   Survived  Pclass  ... Parents/Children Aboard     Fare\n",
              "0      Dead       3  ...                       0   7.2500\n",
              "1  Survived       1  ...                       0  71.2833\n",
              "2  Survived       3  ...                       0   7.9250\n",
              "3  Survived       1  ...                       0  53.1000\n",
              "4      Dead       3  ...                       0   8.0500\n",
              "\n",
              "[5 rows x 8 columns]"
            ]
          },
          "metadata": {},
          "execution_count": 1
        }
      ]
    },
    {
      "cell_type": "markdown",
      "metadata": {
        "id": "wPKc4UTfjM7t"
      },
      "source": [
        "# Data preparation"
      ]
    },
    {
      "cell_type": "markdown",
      "metadata": {
        "id": "ew_BixpIjRl1"
      },
      "source": [
        "What are the \"type\" of each column? Are there non-numeric columns? "
      ]
    },
    {
      "cell_type": "code",
      "metadata": {
        "id": "0LCDhqijixTR",
        "colab": {
          "base_uri": "https://localhost:8080/"
        },
        "outputId": "8b905e3b-7fb0-4893-a987-d553ece92a25"
      },
      "source": [
        "# What are the \"type\" of each column? \n",
        "df_titanic.info()"
      ],
      "execution_count": null,
      "outputs": [
        {
          "output_type": "stream",
          "name": "stdout",
          "text": [
            "<class 'pandas.core.frame.DataFrame'>\n",
            "RangeIndex: 887 entries, 0 to 886\n",
            "Data columns (total 8 columns):\n",
            " #   Column                   Non-Null Count  Dtype  \n",
            "---  ------                   --------------  -----  \n",
            " 0   Survived                 887 non-null    object \n",
            " 1   Pclass                   887 non-null    int64  \n",
            " 2   Name                     887 non-null    object \n",
            " 3   Sex                      887 non-null    object \n",
            " 4   Age                      887 non-null    float64\n",
            " 5   Siblings/Spouses Aboard  887 non-null    int64  \n",
            " 6   Parents/Children Aboard  887 non-null    int64  \n",
            " 7   Fare                     887 non-null    float64\n",
            "dtypes: float64(2), int64(3), object(3)\n",
            "memory usage: 55.6+ KB\n"
          ]
        }
      ]
    },
    {
      "cell_type": "code",
      "metadata": {
        "id": "r7pH50FT5ZVm"
      },
      "source": [
        "# As we can see the columns are made of 3 types: float64, int64 (numeric values) and object (non-numeric values)"
      ],
      "execution_count": null,
      "outputs": []
    },
    {
      "cell_type": "markdown",
      "metadata": {
        "id": "bHR5fxjtmcWN"
      },
      "source": [
        "Then, make a first exploration (pairplots, correlation heatmaps, etc...) of the dataset"
      ]
    },
    {
      "cell_type": "code",
      "metadata": {
        "id": "0hyLZ_pYnJYs",
        "colab": {
          "base_uri": "https://localhost:8080/",
          "height": 1000
        },
        "outputId": "67f6438c-4ad6-4992-a291-5408b6b439a0"
      },
      "source": [
        "# First exploration:\n",
        "fig = px.scatter_matrix(df_titanic, width=1500, height=1500)\n",
        "fig.show()"
      ],
      "execution_count": null,
      "outputs": [
        {
          "output_type": "display_data",
          "data": {
            "text/html": [
              "<html>\n",
              "<head><meta charset=\"utf-8\" /></head>\n",
              "<body>\n",
              "    <div>\n",
              "            <script src=\"https://cdnjs.cloudflare.com/ajax/libs/mathjax/2.7.5/MathJax.js?config=TeX-AMS-MML_SVG\"></script><script type=\"text/javascript\">if (window.MathJax) {MathJax.Hub.Config({SVG: {font: \"STIX-Web\"}});}</script>\n",
              "                <script type=\"text/javascript\">window.PlotlyConfig = {MathJaxConfig: 'local'};</script>\n",
              "        <script src=\"https://cdn.plot.ly/plotly-latest.min.js\"></script>    \n",
              "            <div id=\"e354dda4-ca48-484f-a3db-ed5e365294a7\" class=\"plotly-graph-div\" style=\"height:1500px; width:1500px;\"></div>\n",
              "            <script type=\"text/javascript\">\n",
              "                \n",
              "                    window.PLOTLYENV=window.PLOTLYENV || {};\n",
              "                    \n",
              "                if (document.getElementById(\"e354dda4-ca48-484f-a3db-ed5e365294a7\")) {\n",
              "                    Plotly.newPlot(\n",
              "                        'e354dda4-ca48-484f-a3db-ed5e365294a7',\n",
              "                        [{\"dimensions\": [{\"axis\": {\"matches\": true}, \"label\": \"Survived\", \"values\": [\"Dead\", \"Survived\", \"Survived\", \"Survived\", \"Dead\", \"Dead\", \"Dead\", \"Dead\", \"Survived\", \"Survived\", \"Survived\", \"Survived\", \"Dead\", \"Dead\", \"Dead\", \"Survived\", \"Dead\", \"Survived\", \"Dead\", \"Survived\", \"Dead\", \"Survived\", \"Survived\", \"Survived\", \"Dead\", \"Survived\", \"Dead\", \"Dead\", \"Survived\", \"Dead\", \"Dead\", \"Survived\", \"Survived\", \"Dead\", \"Dead\", \"Dead\", \"Survived\", \"Dead\", \"Dead\", \"Survived\", \"Dead\", \"Dead\", \"Survived\", \"Survived\", \"Dead\", \"Dead\", \"Survived\", \"Dead\", \"Dead\", \"Dead\", \"Dead\", \"Survived\", \"Survived\", \"Dead\", \"Survived\", \"Survived\", \"Dead\", \"Survived\", \"Dead\", \"Dead\", \"Survived\", \"Dead\", \"Dead\", \"Dead\", \"Survived\", \"Survived\", \"Dead\", \"Survived\", \"Dead\", \"Dead\", \"Dead\", \"Dead\", \"Dead\", \"Survived\", \"Dead\", \"Dead\", \"Dead\", \"Survived\", \"Survived\", \"Dead\", \"Survived\", \"Survived\", \"Dead\", \"Survived\", \"Survived\", \"Dead\", \"Dead\", \"Survived\", \"Dead\", \"Dead\", \"Dead\", \"Dead\", \"Dead\", \"Dead\", \"Dead\", \"Dead\", \"Survived\", \"Survived\", \"Dead\", \"Dead\", \"Dead\", \"Dead\", \"Dead\", \"Dead\", \"Dead\", \"Survived\", \"Survived\", \"Dead\", \"Survived\", \"Dead\", \"Dead\", \"Dead\", \"Dead\", \"Dead\", \"Dead\", \"Dead\", \"Dead\", \"Dead\", \"Dead\", \"Dead\", \"Dead\", \"Dead\", \"Survived\", \"Dead\", \"Survived\", \"Dead\", \"Survived\", \"Survived\", \"Dead\", \"Dead\", \"Dead\", \"Dead\", \"Survived\", \"Dead\", \"Dead\", \"Survived\", \"Dead\", \"Dead\", \"Dead\", \"Dead\", \"Survived\", \"Survived\", \"Dead\", \"Dead\", \"Dead\", \"Survived\", \"Dead\", \"Dead\", \"Dead\", \"Dead\", \"Survived\", \"Dead\", \"Dead\", \"Dead\", \"Dead\", \"Survived\", \"Dead\", \"Dead\", \"Dead\", \"Dead\", \"Survived\", \"Dead\", \"Dead\", \"Dead\", \"Survived\", \"Survived\", \"Dead\", \"Dead\", \"Dead\", \"Dead\", \"Dead\", \"Survived\", \"Dead\", \"Dead\", \"Dead\", \"Dead\", \"Dead\", \"Dead\", \"Dead\", \"Dead\", \"Dead\", \"Dead\", \"Survived\", \"Survived\", \"Dead\", \"Survived\", \"Survived\", \"Dead\", \"Dead\", \"Survived\", \"Dead\", \"Survived\", \"Survived\", \"Survived\", \"Survived\", \"Dead\", \"Dead\", \"Survived\", \"Dead\", \"Dead\", \"Dead\", \"Dead\", \"Dead\", \"Survived\", \"Dead\", \"Dead\", \"Survived\", \"Survived\", \"Survived\", \"Dead\", \"Survived\", \"Dead\", \"Dead\", \"Dead\", \"Survived\", \"Survived\", \"Dead\", \"Survived\", \"Dead\", \"Survived\", \"Dead\", \"Dead\", \"Dead\", \"Survived\", \"Dead\", \"Survived\", \"Dead\", \"Dead\", \"Dead\", \"Survived\", \"Dead\", \"Dead\", \"Survived\", \"Dead\", \"Dead\", \"Dead\", \"Survived\", \"Dead\", \"Dead\", \"Dead\", \"Survived\", \"Dead\", \"Dead\", \"Dead\", \"Dead\", \"Dead\", \"Survived\", \"Survived\", \"Dead\", \"Dead\", \"Dead\", \"Dead\", \"Dead\", \"Dead\", \"Survived\", \"Survived\", \"Survived\", \"Survived\", \"Survived\", \"Survived\", \"Dead\", \"Dead\", \"Dead\", \"Dead\", \"Dead\", \"Survived\", \"Survived\", \"Survived\", \"Dead\", \"Survived\", \"Survived\", \"Dead\", \"Survived\", \"Survived\", \"Dead\", \"Dead\", \"Dead\", \"Survived\", \"Dead\", \"Dead\", \"Dead\", \"Survived\", \"Dead\", \"Dead\", \"Survived\", \"Dead\", \"Survived\", \"Survived\", \"Survived\", \"Survived\", \"Dead\", \"Dead\", \"Dead\", \"Dead\", \"Dead\", \"Dead\", \"Survived\", \"Survived\", \"Survived\", \"Survived\", \"Dead\", \"Survived\", \"Dead\", \"Survived\", \"Survived\", \"Survived\", \"Dead\", \"Survived\", \"Survived\", \"Survived\", \"Dead\", \"Dead\", \"Dead\", \"Survived\", \"Survived\", \"Dead\", \"Survived\", \"Survived\", \"Dead\", \"Dead\", \"Survived\", \"Survived\", \"Dead\", \"Survived\", \"Dead\", \"Survived\", \"Survived\", \"Survived\", \"Survived\", \"Dead\", \"Dead\", \"Dead\", \"Survived\", \"Dead\", \"Dead\", \"Survived\", \"Survived\", \"Dead\", \"Survived\", \"Survived\", \"Dead\", \"Dead\", \"Dead\", \"Survived\", \"Survived\", \"Survived\", \"Survived\", \"Dead\", \"Dead\", \"Dead\", \"Dead\", \"Dead\", \"Dead\", \"Dead\", \"Survived\", \"Dead\", \"Survived\", \"Survived\", \"Dead\", \"Dead\", \"Dead\", \"Dead\", \"Dead\", \"Dead\", \"Survived\", \"Survived\", \"Survived\", \"Survived\", \"Survived\", \"Dead\", \"Dead\", \"Dead\", \"Dead\", \"Survived\", \"Survived\", \"Dead\", \"Dead\", \"Dead\", \"Survived\", \"Survived\", \"Dead\", \"Survived\", \"Dead\", \"Dead\", \"Dead\", \"Survived\", \"Dead\", \"Survived\", \"Survived\", \"Survived\", \"Dead\", \"Survived\", \"Survived\", \"Dead\", \"Dead\", \"Dead\", \"Dead\", \"Survived\", \"Survived\", \"Dead\", \"Dead\", \"Dead\", \"Dead\", \"Dead\", \"Dead\", \"Survived\", \"Dead\", \"Dead\", \"Dead\", \"Dead\", \"Survived\", \"Dead\", \"Survived\", \"Dead\", \"Survived\", \"Survived\", \"Dead\", \"Dead\", \"Dead\", \"Dead\", \"Dead\", \"Dead\", \"Dead\", \"Survived\", \"Survived\", \"Dead\", \"Survived\", \"Survived\", \"Survived\", \"Survived\", \"Dead\", \"Dead\", \"Survived\", \"Dead\", \"Survived\", \"Dead\", \"Dead\", \"Survived\", \"Dead\", \"Dead\", \"Survived\", \"Survived\", \"Survived\", \"Survived\", \"Survived\", \"Survived\", \"Survived\", \"Dead\", \"Dead\", \"Dead\", \"Survived\", \"Dead\", \"Survived\", \"Dead\", \"Survived\", \"Survived\", \"Dead\", \"Survived\", \"Dead\", \"Dead\", \"Dead\", \"Dead\", \"Dead\", \"Dead\", \"Dead\", \"Dead\", \"Survived\", \"Dead\", \"Dead\", \"Survived\", \"Survived\", \"Dead\", \"Dead\", \"Dead\", \"Dead\", \"Dead\", \"Survived\", \"Dead\", \"Dead\", \"Dead\", \"Survived\", \"Survived\", \"Dead\", \"Survived\", \"Dead\", \"Dead\", \"Survived\", \"Dead\", \"Dead\", \"Dead\", \"Dead\", \"Dead\", \"Dead\", \"Survived\", \"Dead\", \"Dead\", \"Dead\", \"Dead\", \"Dead\", \"Dead\", \"Dead\", \"Survived\", \"Dead\", \"Survived\", \"Survived\", \"Dead\", \"Survived\", \"Survived\", \"Dead\", \"Survived\", \"Survived\", \"Dead\", \"Dead\", \"Survived\", \"Dead\", \"Survived\", \"Dead\", \"Survived\", \"Dead\", \"Dead\", \"Survived\", \"Dead\", \"Dead\", \"Survived\", \"Dead\", \"Dead\", \"Dead\", \"Survived\", \"Dead\", \"Dead\", \"Survived\", \"Dead\", \"Survived\", \"Dead\", \"Survived\", \"Dead\", \"Survived\", \"Survived\", \"Dead\", \"Dead\", \"Survived\", \"Dead\", \"Dead\", \"Survived\", \"Survived\", \"Dead\", \"Survived\", \"Survived\", \"Dead\", \"Dead\", \"Survived\", \"Survived\", \"Dead\", \"Survived\", \"Dead\", \"Survived\", \"Survived\", \"Dead\", \"Dead\", \"Dead\", \"Dead\", \"Dead\", \"Dead\", \"Dead\", \"Dead\", \"Dead\", \"Survived\", \"Survived\", \"Survived\", \"Survived\", \"Survived\", \"Dead\", \"Dead\", \"Survived\", \"Survived\", \"Dead\", \"Survived\", \"Survived\", \"Survived\", \"Dead\", \"Dead\", \"Dead\", \"Survived\", \"Dead\", \"Survived\", \"Dead\", \"Dead\", \"Dead\", \"Survived\", \"Dead\", \"Dead\", \"Dead\", \"Dead\", \"Survived\", \"Dead\", \"Dead\", \"Survived\", \"Survived\", \"Dead\", \"Dead\", \"Dead\", \"Survived\", \"Dead\", \"Dead\", \"Survived\", \"Survived\", \"Survived\", \"Dead\", \"Dead\", \"Survived\", \"Dead\", \"Dead\", \"Survived\", \"Dead\", \"Dead\", \"Survived\", \"Dead\", \"Dead\", \"Survived\", \"Survived\", \"Dead\", \"Dead\", \"Dead\", \"Dead\", \"Survived\", \"Dead\", \"Dead\", \"Survived\", \"Dead\", \"Survived\", \"Dead\", \"Dead\", \"Survived\", \"Dead\", \"Dead\", \"Dead\", \"Dead\", \"Dead\", \"Survived\", \"Dead\", \"Survived\", \"Survived\", \"Survived\", \"Dead\", \"Survived\", \"Dead\", \"Survived\", \"Dead\", \"Survived\", \"Dead\", \"Survived\", \"Dead\", \"Dead\", \"Dead\", \"Dead\", \"Dead\", \"Dead\", \"Survived\", \"Dead\", \"Dead\", \"Dead\", \"Survived\", \"Dead\", \"Dead\", \"Dead\", \"Dead\", \"Survived\", \"Survived\", \"Dead\", \"Dead\", \"Survived\", \"Dead\", \"Dead\", \"Dead\", \"Survived\", \"Dead\", \"Survived\", \"Dead\", \"Survived\", \"Dead\", \"Dead\", \"Dead\", \"Dead\", \"Dead\", \"Dead\", \"Dead\", \"Survived\", \"Survived\", \"Survived\", \"Survived\", \"Dead\", \"Dead\", \"Dead\", \"Dead\", \"Survived\", \"Dead\", \"Dead\", \"Survived\", \"Survived\", \"Dead\", \"Dead\", \"Dead\", \"Dead\", \"Survived\", \"Survived\", \"Survived\", \"Survived\", \"Survived\", \"Dead\", \"Survived\", \"Dead\", \"Dead\", \"Dead\", \"Survived\", \"Survived\", \"Dead\", \"Survived\", \"Dead\", \"Dead\", \"Dead\", \"Survived\", \"Dead\", \"Survived\", \"Survived\", \"Dead\", \"Dead\", \"Survived\", \"Dead\", \"Dead\", \"Dead\", \"Dead\", \"Dead\", \"Dead\", \"Survived\", \"Dead\", \"Dead\", \"Survived\", \"Dead\", \"Survived\", \"Dead\", \"Survived\", \"Dead\", \"Dead\", \"Survived\", \"Dead\", \"Dead\", \"Survived\", \"Survived\", \"Dead\", \"Dead\", \"Survived\", \"Survived\", \"Dead\", \"Dead\", \"Dead\", \"Survived\", \"Dead\", \"Dead\", \"Survived\", \"Survived\", \"Dead\", \"Survived\", \"Dead\", \"Dead\", \"Dead\", \"Dead\", \"Dead\", \"Dead\", \"Dead\", \"Dead\", \"Survived\", \"Dead\", \"Dead\", \"Survived\", \"Dead\", \"Survived\", \"Survived\", \"Survived\", \"Dead\", \"Dead\", \"Dead\", \"Dead\", \"Survived\", \"Dead\", \"Survived\", \"Dead\", \"Dead\", \"Dead\", \"Dead\", \"Dead\", \"Dead\", \"Dead\", \"Survived\", \"Survived\", \"Dead\", \"Dead\", \"Dead\", \"Survived\", \"Survived\", \"Survived\", \"Survived\", \"Dead\", \"Dead\", \"Dead\", \"Dead\", \"Survived\", \"Dead\", \"Dead\", \"Dead\", \"Dead\", \"Dead\", \"Dead\", \"Dead\", \"Dead\", \"Dead\", \"Dead\", \"Survived\", \"Survived\", \"Dead\", \"Survived\", \"Dead\", \"Dead\", \"Dead\", \"Survived\", \"Survived\", \"Survived\", \"Survived\", \"Survived\", \"Dead\", \"Dead\", \"Dead\", \"Survived\", \"Dead\", \"Dead\", \"Survived\", \"Survived\", \"Dead\", \"Dead\", \"Survived\", \"Dead\", \"Dead\", \"Dead\", \"Dead\", \"Dead\", \"Dead\", \"Survived\", \"Dead\", \"Dead\", \"Dead\", \"Survived\", \"Dead\", \"Survived\", \"Survived\", \"Survived\", \"Survived\", \"Dead\", \"Dead\", \"Dead\", \"Survived\", \"Dead\", \"Dead\", \"Survived\", \"Survived\", \"Dead\", \"Dead\", \"Survived\", \"Dead\", \"Survived\", \"Dead\", \"Dead\", \"Survived\", \"Survived\", \"Dead\", \"Dead\", \"Dead\", \"Survived\", \"Survived\", \"Dead\", \"Dead\", \"Dead\", \"Dead\", \"Dead\", \"Dead\", \"Survived\", \"Dead\", \"Survived\", \"Dead\"]}, {\"axis\": {\"matches\": true}, \"label\": \"Pclass\", \"values\": [3, 1, 3, 1, 3, 3, 1, 3, 3, 2, 3, 1, 3, 3, 3, 2, 3, 2, 3, 3, 2, 2, 3, 1, 3, 3, 3, 1, 3, 3, 1, 1, 3, 2, 1, 1, 3, 3, 3, 3, 3, 2, 2, 3, 3, 3, 3, 3, 3, 3, 3, 1, 2, 1, 1, 2, 3, 2, 3, 3, 1, 1, 3, 1, 3, 2, 3, 3, 3, 2, 3, 2, 3, 3, 3, 3, 3, 2, 3, 3, 3, 3, 1, 2, 3, 3, 3, 1, 3, 3, 3, 1, 3, 3, 3, 1, 1, 2, 2, 3, 3, 1, 3, 3, 3, 3, 3, 3, 3, 1, 3, 3, 3, 3, 3, 3, 2, 1, 3, 2, 3, 2, 2, 1, 3, 3, 3, 3, 3, 3, 3, 3, 2, 2, 2, 1, 1, 3, 1, 3, 3, 3, 3, 2, 2, 3, 3, 2, 2, 2, 1, 3, 3, 3, 1, 3, 3, 3, 3, 3, 2, 3, 3, 3, 3, 1, 3, 1, 3, 1, 3, 3, 3, 1, 3, 3, 1, 2, 3, 3, 2, 3, 2, 3, 1, 3, 1, 3, 3, 2, 2, 3, 2, 1, 1, 3, 3, 3, 2, 3, 3, 3, 3, 3, 3, 3, 3, 3, 1, 3, 2, 3, 2, 3, 1, 3, 2, 1, 2, 3, 2, 3, 3, 1, 3, 2, 3, 2, 3, 1, 3, 2, 3, 2, 3, 2, 2, 2, 2, 3, 3, 2, 3, 3, 1, 3, 2, 1, 2, 3, 3, 1, 3, 3, 3, 1, 1, 1, 2, 3, 1, 1, 3, 2, 3, 3, 1, 1, 1, 3, 2, 1, 3, 1, 3, 2, 3, 3, 3, 3, 3, 3, 1, 3, 3, 3, 2, 3, 1, 1, 2, 3, 3, 1, 3, 1, 1, 1, 3, 3, 3, 2, 3, 1, 1, 1, 2, 1, 1, 1, 2, 3, 2, 3, 2, 2, 1, 1, 3, 3, 2, 2, 3, 1, 3, 2, 3, 1, 3, 1, 1, 3, 1, 3, 1, 1, 3, 1, 2, 1, 2, 2, 2, 2, 2, 3, 3, 3, 3, 1, 3, 3, 3, 3, 1, 2, 3, 3, 3, 2, 3, 3, 3, 3, 1, 3, 3, 1, 1, 3, 3, 1, 3, 1, 3, 1, 3, 3, 1, 3, 3, 1, 3, 2, 3, 2, 3, 2, 1, 3, 3, 1, 3, 3, 3, 2, 2, 2, 3, 3, 3, 3, 3, 2, 3, 2, 3, 3, 3, 3, 1, 2, 3, 3, 2, 2, 2, 3, 3, 3, 3, 3, 3, 2, 2, 3, 3, 1, 3, 2, 3, 1, 1, 3, 2, 1, 2, 2, 3, 3, 2, 3, 1, 2, 1, 3, 1, 2, 3, 1, 1, 3, 3, 1, 1, 2, 3, 1, 3, 1, 2, 3, 3, 2, 1, 3, 3, 3, 3, 2, 2, 3, 1, 2, 3, 3, 3, 3, 2, 3, 3, 1, 3, 1, 1, 3, 3, 3, 3, 1, 1, 3, 3, 1, 3, 1, 3, 3, 3, 3, 3, 1, 1, 2, 1, 3, 3, 3, 3, 1, 1, 3, 1, 2, 3, 2, 3, 1, 3, 3, 1, 3, 3, 2, 1, 3, 2, 2, 3, 3, 3, 3, 2, 1, 1, 3, 1, 1, 3, 3, 2, 1, 1, 2, 2, 3, 2, 1, 2, 3, 3, 3, 1, 1, 1, 1, 3, 3, 3, 2, 3, 3, 3, 3, 3, 3, 3, 2, 1, 1, 3, 3, 3, 2, 1, 3, 3, 2, 1, 2, 1, 3, 1, 2, 1, 3, 3, 3, 1, 3, 3, 2, 3, 2, 3, 3, 1, 2, 3, 1, 3, 1, 3, 3, 1, 2, 1, 3, 3, 3, 3, 3, 2, 3, 3, 2, 2, 3, 1, 3, 3, 3, 1, 2, 1, 3, 3, 1, 3, 1, 1, 3, 2, 3, 2, 3, 3, 3, 1, 3, 3, 3, 1, 3, 1, 3, 3, 3, 2, 3, 3, 3, 2, 3, 3, 2, 1, 1, 3, 1, 3, 3, 2, 2, 3, 3, 1, 2, 1, 2, 2, 2, 3, 3, 3, 3, 1, 3, 1, 3, 3, 2, 2, 3, 3, 3, 1, 1, 3, 3, 3, 1, 2, 3, 3, 1, 3, 1, 1, 3, 3, 3, 2, 2, 1, 1, 3, 1, 1, 1, 3, 2, 3, 1, 2, 3, 2, 3, 2, 2, 1, 3, 2, 3, 2, 3, 1, 3, 2, 2, 2, 3, 3, 1, 3, 3, 1, 1, 1, 3, 3, 1, 3, 2, 1, 3, 2, 3, 3, 3, 2, 2, 3, 2, 3, 1, 3, 3, 3, 1, 3, 1, 1, 3, 3, 3, 3, 3, 2, 3, 2, 3, 3, 3, 3, 1, 3, 1, 1, 3, 3, 3, 3, 3, 3, 1, 3, 2, 3, 1, 3, 2, 1, 3, 3, 3, 2, 2, 1, 3, 3, 3, 1, 3, 2, 1, 3, 3, 2, 3, 3, 1, 3, 2, 3, 3, 1, 3, 1, 3, 3, 3, 3, 2, 3, 1, 3, 2, 3, 3, 3, 1, 3, 3, 3, 1, 3, 2, 1, 3, 3, 3, 3, 3, 2, 1, 3, 3, 3, 1, 2, 3, 1, 1, 3, 3, 3, 2, 1, 3, 2, 2, 2, 1, 3, 3, 3, 1, 1, 3, 2, 3, 3, 3, 3, 1, 2, 3, 3, 2, 3, 3, 2, 1, 3, 1, 3]}, {\"axis\": {\"matches\": true}, \"label\": \"Name\", \"values\": [\"Mr. Owen Harris Braund\", \"Mrs. John Bradley (Florence Briggs Thayer) Cumings\", \"Miss. Laina Heikkinen\", \"Mrs. Jacques Heath (Lily May Peel) Futrelle\", \"Mr. William Henry Allen\", \"Mr. James Moran\", \"Mr. Timothy J McCarthy\", \"Master. Gosta Leonard Palsson\", \"Mrs. Oscar W (Elisabeth Vilhelmina Berg) Johnson\", \"Mrs. Nicholas (Adele Achem) Nasser\", \"Miss. Marguerite Rut Sandstrom\", \"Miss. Elizabeth Bonnell\", \"Mr. William Henry Saundercock\", \"Mr. Anders Johan Andersson\", \"Miss. Hulda Amanda Adolfina Vestrom\", \"Mrs. (Mary D Kingcome) Hewlett\", \"Master. Eugene Rice\", \"Mr. Charles Eugene Williams\", \"Mrs. Julius (Emelia Maria Vandemoortele) Vander Planke\", \"Mrs. Fatima Masselmani\", \"Mr. Joseph J Fynney\", \"Mr. Lawrence Beesley\", \"Miss. Anna McGowan\", \"Mr. William Thompson Sloper\", \"Miss. Torborg Danira Palsson\", \"Mrs. Carl Oscar (Selma Augusta Emilia Johansson) Asplund\", \"Mr. Farred Chehab Emir\", \"Mr. Charles Alexander Fortune\", \"Miss. Ellen O'Dwyer\", \"Mr. Lalio Todoroff\", \"Don. Manuel E Uruchurtu\", \"Mrs. William Augustus (Marie Eugenie) Spencer\", \"Miss. Mary Agatha Glynn\", \"Mr. Edward H Wheadon\", \"Mr. Edgar Joseph Meyer\", \"Mr. Alexander Oskar Holverson\", \"Mr. Hanna Mamee\", \"Mr. Ernest Charles Cann\", \"Miss. Augusta Maria Vander Planke\", \"Miss. Jamila Nicola-Yarred\", \"Mrs. Johan (Johanna Persdotter Larsson) Ahlin\", \"Mrs. William John Robert (Dorothy Ann Wonnacott) Turpin\", \"Miss. Simonne Marie Anne Andree Laroche\", \"Miss. Margaret Delia Devaney\", \"Mr. William John Rogers\", \"Mr. Denis Lennon\", \"Miss. Bridget O'Driscoll\", \"Mr. Youssef Samaan\", \"Mrs. Josef (Josefine Franchi) Arnold-Franchi\", \"Master. Juha Niilo Panula\", \"Mr. Richard Cater Nosworthy\", \"Mrs. Henry Sleeper (Myna Haxtun) Harper\", \"Mrs. Lizzie (Elizabeth Anne Wilkinson) Faunthorpe\", \"Mr. Engelhart Cornelius Ostby\", \"Mr. Hugh Woolner\", \"Miss. Emily Rugg\", \"Mr. Mansouer Novel\", \"Miss. Constance Mirium West\", \"Master. William Frederick Goodwin\", \"Mr. Orsen Sirayanian\", \"Miss. Amelie Icard\", \"Mr. Henry Birkhardt Harris\", \"Master. Harald Skoog\", \"Mr. Albert A Stewart\", \"Master. Gerios Moubarek\", \"Mrs. (Elizabeth Ramell) Nye\", \"Mr. Ernest James Crease\", \"Miss. Erna Alexandra Andersson\", \"Mr. Vincenz Kink\", \"Mr. Stephen Curnow Jenkin\", \"Miss. Lillian Amy Goodwin\", \"Mr. Ambrose Jr Hood\", \"Mr. Apostolos Chronopoulos\", \"Mr. Lee Bing\", \"Mr. Sigurd Hansen Moen\", \"Mr. Ivan Staneff\", \"Mr. Rahamin Haim Moutal\", \"Master. Alden Gates Caldwell\", \"Miss. Elizabeth Dowdell\", \"Mr. Achille Waelens\", \"Mr. Jan Baptist Sheerlinck\", \"Miss. Brigdet Delia McDermott\", \"Mr. Francisco M Carrau\", \"Miss. Bertha Ilett\", \"Mrs. Karl Alfred (Maria Mathilda Gustafsson) Backstrom\", \"Mr. William Neal Ford\", \"Mr. Selman Francis Slocovski\", \"Miss. Mabel Helen Fortune\", \"Mr. Francesco Celotti\", \"Mr. Emil Christmann\", \"Mr. Paul Edvin Andreasson\", \"Mr. Herbert Fuller Chaffee\", \"Mr. Bertram Frank Dean\", \"Mr. Daniel Coxon\", \"Mr. Charles Joseph Shorney\", \"Mr. George B Goldschmidt\", \"Mr. William Bertram Greenfield\", \"Mrs. John T (Ada Julia Bone) Doling\", \"Mr. Sinai Kantor\", \"Miss. Matilda Petranec\", \"Mr. Pastcho Petroff\", \"Mr. Richard Frasar White\", \"Mr. Gustaf Joel Johansson\", \"Mr. Anders Vilhelm Gustafsson\", \"Mr. Stoytcho Mionoff\", \"Miss. Anna Kristine Salkjelsvik\", \"Mr. Albert Johan Moss\", \"Mr. Tido Rekic\", \"Miss. Bertha Moran\", \"Mr. Walter Chamberlain Porter\", \"Miss. Hileni Zabour\", \"Mr. David John Barton\", \"Miss. Katriina Jussila\", \"Miss. Malake Attalah\", \"Mr. Edvard Pekoniemi\", \"Mr. Patrick Connors\", \"Mr. William John Robert Turpin\", \"Mr. Quigg Edmond Baxter\", \"Miss. Ellis Anna Maria Andersson\", \"Mr. Stanley George Hickman\", \"Mr. Leonard Charles Moore\", \"Mr. Nicholas Nasser\", \"Miss. Susan Webber\", \"Mr. Percival Wayland White\", \"Master. Elias Nicola-Yarred\", \"Mr. Martin McMahon\", \"Mr. Fridtjof Arne Madsen\", \"Miss. Anna Peter\", \"Mr. Johan Ekstrom\", \"Mr. Jozef Drazenoic\", \"Mr. Domingos Fernandeo Coelho\", \"Mrs. Alexander A (Grace Charity Laury) Robins\", \"Mrs. Leopold (Mathilde Francoise Pede) Weisz\", \"Mr. Samuel James Hayden Sobey\", \"Mr. Emile Richard\", \"Miss. Helen Monypeny Newsom\", \"Mr. Jacques Heath Futrelle\", \"Mr. Olaf Elon Osen\", \"Mr. Victor Giglio\", \"Mrs. Joseph (Sultana) Boulos\", \"Miss. Anna Sofia Nysten\", \"Mrs. Pekka Pietari (Elin Matilda Dolck) Hakkarainen\", \"Mr. Jeremiah Burke\", \"Mr. Edgardo Samuel Andrew\", \"Mr. Joseph Charles Nicholls\", \"Mr. August Edvard Andersson\", \"Miss. Robina Maggie Ford\", \"Mr. Michel Navratil\", \"Rev. Thomas Roussel Davids Byles\", \"Rev. Robert James Bateman\", \"Mrs. Thomas (Edith Wearne) Pears\", \"Mr. Alfonzo Meo\", \"Mr. Austin Blyler van Billiard\", \"Mr. Ole Martin Olsen\", \"Mr. Charles Duane Williams\", \"Miss. Katherine Gilnagh\", \"Mr. Harry Corn\", \"Mr. Mile Smiljanic\", \"Master. Thomas Henry Sage\", \"Mr. John Hatfield Cribb\", \"Mrs. James (Elizabeth Inglis Milne) Watt\", \"Mr. John Viktor Bengtsson\", \"Mr. Jovo Calic\", \"Master. Eino Viljami Panula\", \"Master. Frank John William Goldsmith\", \"Mrs. (Edith Martha Bowerman) Chibnall\", \"Mrs. William (Anna Bernhardina Karlsson) Skoog\", \"Mr. John D Baumann\", \"Mr. Lee Ling\", \"Mr. Wyckoff Van der hoef\", \"Master. Arthur Rice\", \"Miss. Eleanor Ileen Johnson\", \"Mr. Antti Wilhelm Sivola\", \"Mr. James Clinch Smith\", \"Mr. Klas Albin Klasen\", \"Master. Henry Forbes Lefebre\", \"Miss. Ann Elizabeth Isham\", \"Mr. Reginald Hale\", \"Mr. Lionel Leonard\", \"Miss. Constance Gladys Sage\", \"Mr. Rene Pernot\", \"Master. Clarence Gustaf Hugo Asplund\", \"Master. Richard F Becker\", \"Miss. Luise Gretchen Kink-Heilmann\", \"Mr. Hugh Roscoe Rood\", \"Mrs. Thomas (Johanna Godfrey) O'Brien\", \"Mr. Charles Hallace Romaine\", \"Mr. John Bourke\", \"Mr. Stjepan Turcin\", \"Mrs. (Rosa) Pinsky\", \"Mr. William Carbines\", \"Miss. Carla Christine Nielsine Andersen-Jensen\", \"Master. Michel M Navratil\", \"Mrs. James Joseph (Margaret Tobin) Brown\", \"Miss. Elise Lurette\", \"Mr. Robert Mernagh\", \"Mr. Karl Siegwart Andreas Olsen\", \"Miss. Margaret Madigan\", \"Miss. Henriette Yrois\", \"Mr. Nestor Cyriel Vande Walle\", \"Mr. Frederick Sage\", \"Mr. Jakob Alfred Johanson\", \"Mr. Gerious Youseff\", \"Mr. Gurshon Cohen\", \"Miss. Telma Matilda Strom\", \"Mr. Karl Alfred Backstrom\", \"Mr. Nassef Cassem Albimona\", \"Miss. Helen Carr\", \"Mr. Henry Blank\", \"Mr. Ahmed Ali\", \"Miss. Clear Annie Cameron\", \"Mr. John Henry Perkin\", \"Mr. Hans Kristensen Givard\", \"Mr. Philip Kiernan\", \"Miss. Madeleine Newell\", \"Miss. Eliina Honkanen\", \"Mr. Sidney Samuel Jacobsohn\", \"Miss. Albina Bazzani\", \"Mr. Walter Harris\", \"Mr. Victor Francis Sunderland\", \"Mr. James H Bracken\", \"Mr. George Henry Green\", \"Mr. Christo Nenkoff\", \"Mr. Frederick Maxfield Hoyt\", \"Mr. Karl Ivar Sven Berglund\", \"Mr. William John Mellors\", \"Mr. John Hall Lovell\", \"Mr. Arne Jonas Fahlstrom\", \"Miss. Mathilde Lefebre\", \"Mrs. Henry Birkhardt (Irene Wallach) Harris\", \"Mr. Bengt Edvin Larsson\", \"Mr. Ernst Adolf Sjostedt\", \"Miss. Lillian Gertrud Asplund\", \"Mr. Robert William Norman Leyson\", \"Miss. Alice Phoebe Harknett\", \"Mr. Stephen Hold\", \"Miss. Marjorie Collyer\", \"Mr. Frederick William Pengelly\", \"Mr. George Henry Hunt\", \"Miss. Thamine Zabour\", \"Miss. Katherine Murphy\", \"Mr. Reginald Charles Coleridge\", \"Mr. Matti Alexanteri Maenpaa\", \"Mr. Sleiman Attalah\", \"Dr. William Edward Minahan\", \"Miss. Agda Thorilda Viktoria Lindahl\", \"Mrs. William (Anna) Hamalainen\", \"Mr. Richard Leonard Beckwith\", \"Rev. Ernest Courtenay Carter\", \"Mr. James George Reed\", \"Mrs. Wilhelm (Elna Matilda Persson) Strom\", \"Mr. William Thomas Stead\", \"Mr. William Arthur Lobb\", \"Mrs. Viktor (Helena Wilhelmina) Rosblom\", \"Mrs. Darwis (Hanne Youssef Razi) Touma\", \"Mrs. Gertrude Maybelle Thorne\", \"Miss. Gladys Cherry\", \"Miss. Anna Ward\", \"Mrs. (Lutie Davis) Parrish\", \"Master. Edvin Rojj Felix Asplund\", \"Mr. Emil Taussig\", \"Mr. William Harrison\", \"Miss. Delia Henry\", \"Mr. David Reeves\", \"Mr. Ernesti Arvid Panula\", \"Mr. Ernst Ulrik Persson\", \"Mrs. William Thompson (Edith Junkins) Graham\", \"Miss. Amelia Bissette\", \"Mr. Alexander Cairns\", \"Mr. William Henry Tornquist\", \"Mrs. (Elizabeth Anne Maidment) Mellinger\", \"Mr. Charles H Natsch\", \"Miss. Hanora Healy\", \"Miss. Kornelia Theodosia Andrews\", \"Miss. Augusta Charlotta Lindblom\", \"Mr. Francis Parkes\", \"Master. Eric Rice\", \"Mrs. Stanton (Rosa Hunt) Abbott\", \"Mr. Frank Duane\", \"Mr. Nils Johan Goransson Olsson\", \"Mr. Alfons de Pelsmaeker\", \"Mr. Edward Arthur Dorking\", \"Mr. Richard William Smith\", \"Mr. Ivan Stankovic\", \"Mr. Theodore de Mulder\", \"Mr. Penko Naidenoff\", \"Mr. Masabumi Hosono\", \"Miss. Kate Connolly\", \"Miss. Ellen Barber\", \"Mrs. Dickinson H (Helen Walton) Bishop\", \"Mr. Rene Jacques Levy\", \"Miss. Aloisia Haas\", \"Mr. Ivan Mineff\", \"Mr. Ervin G Lewy\", \"Mr. Mansour Hanna\", \"Miss. Helen Loraine Allison\", \"Mr. Adolphe Saalfeld\", \"Mrs. James (Helene DeLaudeniere Chaput) Baxter\", \"Miss. Anna Katherine Kelly\", \"Mr. Bernard McCoy\", \"Mr. William Cahoone Jr Johnson\", \"Miss. Nora A Keane\", \"Mr. Howard Hugh Williams\", \"Master. Hudson Trevor Allison\", \"Miss. Margaret Fleming\", \"Mrs. Victor de Satode (Maria Josefa Perez de Soto y Vallejo) Penasco y Castellana\", \"Mr. Samuel Abelson\", \"Miss. Laura Mabel Francatelli\", \"Miss. Margaret Bechstein Hays\", \"Miss. Emily Borie Ryerson\", \"Mrs. William (Anna Sylfven) Lahtinen\", \"Mr. Ignjac Hendekovic\", \"Mr. Benjamin Hart\", \"Miss. Helmina Josefina Nilsson\", \"Mrs. Sinai (Miriam Sternin) Kantor\", \"Dr. Ernest Moraweck\", \"Miss. Mary Natalie Wick\", \"Mrs. Frederic Oakley (Margaretta Corning Stone) Spedden\", \"Mr. Samuel Dennis\", \"Mr. Yoto Danoff\", \"Miss. Hilda Mary Slayter\", \"Mrs. Albert Francis (Sylvia Mae Harbaugh) Caldwell\", \"Mr. George John Jr Sage\", \"Miss. Marie Grice Young\", \"Mr. Johan Hansen Nysveen\", \"Mrs. (Ada E Hall) Ball\", \"Mrs. Frank John (Emily Alice Brown) Goldsmith\", \"Miss. Jean Gertrude Hippach\", \"Miss. Agnes McCoy\", \"Mr. Austen Partner\", \"Mr. George Edward Graham\", \"Mr. Leo Edmondus Vander Planke\", \"Mrs. Henry William (Clara Heinsheimer) Frauenthal\", \"Mr. Mitto Denkoff\", \"Mr. Thomas Clinton Pears\", \"Miss. Elizabeth Margaret Burns\", \"Mr. Karl Edwart Dahl\", \"Mr. Stephen Weart Blackwell\", \"Master. Edmond Roger Navratil\", \"Miss. Alice Elizabeth Fortune\", \"Mr. Erik Gustaf Collander\", \"Mr. Charles Frederick Waddington Sedgwick\", \"Mr. Stanley Hubert Fox\", \"Miss. Amelia Brown\", \"Miss. Marion Elsie Smith\", \"Mrs. Thomas Henry (Mary E Finck) Davison\", \"Master. William Loch Coutts\", \"Mr. Jovan Dimic\", \"Mr. Nils Martin Odahl\", \"Mr. Fletcher Fellows Williams-Lambert\", \"Mr. Tannous Elias\", \"Mr. Josef Arnold-Franchi\", \"Mr. Wazli Yousif\", \"Mr. Leo Peter Vanden Steen\", \"Miss. Elsie Edith Bowerman\", \"Miss. Annie Clemmer Funk\", \"Miss. Mary McGovern\", \"Miss. Helen Mary Mockler\", \"Mr. Wilhelm Skoog\", \"Mr. Sebastiano del Carlo\", \"Mrs. (Catherine David) Barbara\", \"Mr. Adola Asim\", \"Mr. Thomas O'Brien\", \"Mr. Mauritz Nils Martin Adahl\", \"Mrs. Frank Manley (Anna Sophia Atkinson) Warren\", \"Mrs. (Mantoura Boulos) Moussa\", \"Miss. Annie Jermyn\", \"Mme. Leontine Pauline Aubart\", \"Mr. George Achilles Harder\", \"Mr. Jakob Alfred Wiklund\", \"Mr. William Thomas Beavan\", \"Mr. Sante Ringhini\", \"Miss. Stina Viola Palsson\", \"Mrs. Edgar Joseph (Leila Saks) Meyer\", \"Miss. Aurora Adelia Landergren\", \"Mr. Harry Elkins Widener\", \"Mr. Tannous Betros\", \"Mr. Karl Gideon Gustafsson\", \"Miss. Rosalie Bidois\", \"Miss. Maria Nakid\", \"Mr. Juho Tikkanen\", \"Mrs. Alexander Oskar (Mary Aline Towner) Holverson\", \"Mr. Vasil Plotcharsky\", \"Mr. Charles Henry Davies\", \"Master. Sidney Leonard Goodwin\", \"Miss. Kate Buss\", \"Mr. Matthew Sadlier\", \"Miss. Bertha Lehmann\", \"Mr. William Ernest Carter\", \"Mr. Carl Olof Jansson\", \"Mr. Johan Birger Gustafsson\", \"Miss. Marjorie Newell\", \"Mrs. Hjalmar (Agnes Charlotta Bengtsson) Sandstrom\", \"Mr. Erik Johansson\", \"Miss. Elina Olsson\", \"Mr. Peter David McKane\", \"Dr. Alfred Pain\", \"Mrs. William H (Jessie L) Trout\", \"Mr. Juha Niskanen\", \"Mr. John Adams\", \"Miss. Mari Aina Jussila\", \"Mr. Pekka Pietari Hakkarainen\", \"Miss. Marija Oreskovic\", \"Mr. Shadrach Gale\", \"Mr. Carl/Charles Peter Widegren\", \"Master. William Rowe Richards\", \"Mr. Hans Martin Monsen Birkeland\", \"Miss. Ida Lefebre\", \"Mr. Todor Sdycoff\", \"Mr. Henry Hart\", \"Miss. Daisy E Minahan\", \"Mr. Alfred Fleming Cunningham\", \"Mr. Johan Julian Sundman\", \"Mrs. Thomas (Annie Louise Rowley) Meek\", \"Mrs. James Vivian (Lulu Thorne Christian) Drew\", \"Miss. Lyyli Karoliina Silven\", \"Mr. William John Matthews\", \"Miss. Catharina Van Impe\", \"Mr. David Charters\", \"Mr. Leo Zimmerman\", \"Mrs. Ernst Gilbert (Anna Sigrid Maria Brogren) Danbom\", \"Mr. Viktor Richard Rosblom\", \"Mr. Phillippe Wiseman\", \"Mrs. Charles V (Ada Maria Winfield) Clarke\", \"Miss. Kate Florence Phillips\", \"Mr. James Flynn\", \"Mr. Berk (Berk Trembisky) Pickard\", \"Mr. Mauritz Hakan Bjornstrom-Steffansson\", \"Mrs. Percival (Florence Kate White) Thorneycroft\", \"Mrs. Charles Alexander (Alice Adelaide Slow) Louch\", \"Mr. Nikolai Erland Kallio\", \"Mr. William Baird Silvey\", \"Miss. Lucile Polk Carter\", \"Miss. Doolina Margaret Ford\", \"Mrs. Sidney (Emily Hocking) Richards\", \"Mr. Mark Fortune\", \"Mr. Johan Henrik Johannesson Kvillner\", \"Mrs. Benjamin (Esther Ada Bloomfield) Hart\", \"Mr. Leon Hampe\", \"Mr. Johan Emil Petterson\", \"Ms. Encarnacion Reynaldo\", \"Mr. Bernt Johannesen-Bratthammer\", \"Master. Washington Dodge\", \"Miss. Madeleine Violet Mellinger\", \"Mr. Frederic Kimber Seward\", \"Miss. Marie Catherine Baclini\", \"Major. Arthur Godfrey Peuchen\", \"Mr. Edwy Arthur West\", \"Mr. Ingvald Olai Olsen Hagland\", \"Mr. Benjamin Laventall Foreman\", \"Mr. Samuel L Goldenberg\", \"Mr. Joseph Peduzzi\", \"Mr. Ivan Jalsevac\", \"Mr. Francis Davis Millet\", \"Mrs. Frederick R (Marion) Kenyon\", \"Miss. Ellen Toomey\", \"Mr. Maurice O'Connor\", \"Mr. Harry Anderson\", \"Mr. William Morley\", \"Mr. Arthur H Gee\", \"Mr. Jacob Christian Milling\", \"Mr. Simon Maisner\", \"Mr. Manuel Estanslas Goncalves\", \"Mr. William Campbell\", \"Mr. John Montgomery Smart\", \"Mr. James Scanlan\", \"Miss. Helene Barbara Baclini\", \"Mr. Arthur Keefe\", \"Mr. Luka Cacic\", \"Mrs. Edwy Arthur (Ada Mary Worth) West\", \"Mrs. Amin S (Marie Marthe Thuillard) Jerwan\", \"Miss. Ida Sofia Strandberg\", \"Mr. George Quincy Clifford\", \"Mr. Peter Henry Renouf\", \"Mr. Lewis Richard Braund\", \"Mr. Nils August Karlsson\", \"Miss. Hildur E Hirvonen\", \"Master. Harold Victor Goodwin\", \"Mr. Anthony Wood Frost\", \"Mr. Richard Henry Rouse\", \"Mrs. (Hedwig) Turkula\", \"Mr. Dickinson H Bishop\", \"Miss. Jeannie Lefebre\", \"Mrs. Frederick Maxfield (Jane Anne Forby) Hoyt\", \"Mr. Edward Austin Kent\", \"Mr. Francis William Somerton\", \"Master. Eden Leslie Coutts\", \"Mr. Konrad Mathias Reiersen Hagland\", \"Mr. Einar Windelov\", \"Mr. Harry Markland Molson\", \"Mr. Ramon Artagaveytia\", \"Mr. Edward Roland Stanley\", \"Mr. Gerious Yousseff\", \"Miss. Elizabeth Mussey Eustis\", \"Mr. Frederick William Shellard\", \"Mrs. Hudson J C (Bessie Waldo Daniels) Allison\", \"Mr. Olof Svensson\", \"Mr. Petar Calic\", \"Miss. Mary Canavan\", \"Miss. Bridget Mary O'Sullivan\", \"Miss. Kristina Sofia Laitinen\", \"Miss. Roberta Maioni\", \"Mr. Victor de Satode Penasco y Castellana\", \"Mrs. Frederick Charles (Jane Richards) Quick\", \"Mr. George Bradley\", \"Mr. Henry Margido Olsen\", \"Mr. Fang Lang\", \"Mr. Eugene Patrick Daly\", \"Mr. James Webber\", \"Mr. James Robert McGough\", \"Mrs. Martin (Elizabeth L. Barrett) Rothschild\", \"Mr. Satio Coleff\", \"Mr. William Anderson Walker\", \"Mrs. (Amelia Milley) Lemore\", \"Mr. Patrick Ryan\", \"Mrs. William A (Florence Agnes Hughes) Angle\", \"Mr. Stefo Pavlovic\", \"Miss. Anne Perreault\", \"Mr. Janko Vovk\", \"Mr. Sarkis Lahoud\", \"Mrs. Louis Albert (Ida Sophia Fischer) Hippach\", \"Mr. Fared Kassem\", \"Mr. James Farrell\", \"Miss. Lucy Ridsdale\", \"Mr. John Farthing\", \"Mr. Johan Werner Salonen\", \"Mr. Richard George Hocking\", \"Miss. Phyllis May Quick\", \"Mr. Nakli Toufik\", \"Mr. Joseph Jr Elias\", \"Mrs. Catherine (Catherine Rizk) Peter\", \"Miss. Marija Cacic\", \"Miss. Eva Miriam Hart\", \"Major. Archibald Willingham Butt\", \"Miss. Bertha LeRoy\", \"Mr. Samuel Beard Risien\", \"Miss. Hedwig Margaritha Frolicher\", \"Miss. Harriet R Crosby\", \"Miss. Ingeborg Constanzia Andersson\", \"Miss. Sigrid Elisabeth Andersson\", \"Mr. Edward Beane\", \"Mr. Walter Donald Douglas\", \"Mr. Arthur Ernest Nicholson\", \"Mrs. Edward (Ethel Clarke) Beane\", \"Mr. Julian Padro y Manent\", \"Mr. Frank John Goldsmith\", \"Master. John Morgan Jr Davies\", \"Mr. John Borland Jr Thayer\", \"Mr. Percival James R Sharp\", \"Mr. Timothy O'Brien\", \"Mr. Fahim Leeni\", \"Miss. Velin Ohman\", \"Mr. George Wright\", \"Lady. (Lucille Christiana Sutherland)Duff Gordon\", \"Mr. Victor Robbins\", \"Mrs. Emil (Tillie Mandelbaum) Taussig\", \"Mrs. Guillaume Joseph (Emma) de Messemaeker\", \"Mr. Thomas Rowan Morrow\", \"Mr. Husein Sivic\", \"Mr. Robert Douglas Norman\", \"Mr. John Simmons\", \"Miss. (Marion Ogden) Meanwell\", \"Mr. Alfred J Davies\", \"Mr. Ilia Stoytcheff\", \"Mrs. Nils (Alma Cornelia Berglund) Palsson\", \"Mr. Tannous Doharr\", \"Mr. Carl Jonsson\", \"Mr. George Harris\", \"Mrs. Edward Dale (Charlotte Lamson) Appleton\", \"Mr. John Irwin Flynn\", \"Miss. Mary Kelly\", \"Mr. Alfred George John Rush\", \"Mr. George Patchett\", \"Miss. Ethel Garside\", \"Mrs. William Baird (Alice Munger) Silvey\", \"Mrs. Joseph (Maria Elias) Caram\", \"Mr. Eiriik Jussila\", \"Miss. Julie Rachel Christy\", \"Mrs. John Borland (Marian Longstreth Morris) Thayer\", \"Mr. William James Downton\", \"Mr. John Hugo Ross\", \"Mr. Uscher Paulner\", \"Miss. Ruth Taussig\", \"Mr. John Denzil Jarvis\", \"Mr. Maxmillian Frolicher-Stehli\", \"Mr. Eliezer Gilinski\", \"Mr. Joseph Murdlin\", \"Mr. Matti Rintamaki\", \"Mrs. Walter Bertram (Martha Eustis) Stephenson\", \"Mr. William James Elsbury\", \"Miss. Mary Bourke\", \"Mr. John Henry Chapman\", \"Mr. Jean Baptiste Van Impe\", \"Miss. Jessie Wills Leitch\", \"Mr. Alfred Johnson\", \"Mr. Hanna Boulos\", \"Sir. Cosmo Edmund Duff Gordon\", \"Mrs. Sidney Samuel (Amy Frances Christy) Jacobsohn\", \"Mr. Petco Slabenoff\", \"Mr. Charles H Harrington\", \"Mr. Ernst William Torber\", \"Mr. Harry Homer\", \"Mr. Edvard Bengtsson Lindell\", \"Mr. Milan Karaic\", \"Mr. Robert Williams Daniel\", \"Mrs. Joseph (Juliette Marie Louise Lafargue) Laroche\", \"Miss. Elizabeth W Shutes\", \"Mrs. Anders Johan (Alfrida Konstantia Brogren) Andersson\", \"Mr. Jose Neto Jardin\", \"Miss. Margaret Jane Murphy\", \"Mr. John Horgan\", \"Mr. William Alfred Brocklebank\", \"Miss. Alice Herman\", \"Mr. Ernst Gilbert Danbom\", \"Mrs. William Arthur (Cordelia K Stanlick) Lobb\", \"Miss. Marion Louise Becker\", \"Mr. Lawrence Gavey\", \"Mr. Antoni Yasbeck\", \"Mr. Edwin Nelson Jr Kimball\", \"Mr. Sahid Nakid\", \"Mr. Henry Damsgaard Hansen\", \"Mr. David John Bowen\", \"Mr. Frederick Sutton\", \"Rev. Charles Leonard Kirkland\", \"Miss. Gretchen Fiske Longley\", \"Mr. Guentcho Bostandyeff\", \"Mr. Patrick D O'Connell\", \"Mr. Algernon Henry Wilson Barkworth\", \"Mr. Johan Svensson Lundahl\", \"Dr. Max Stahelin-Maeglin\", \"Mr. William Henry Marsh Parr\", \"Miss. Mabel Skoog\", \"Miss. Mary Davis\", \"Mr. Antti Gustaf Leinonen\", \"Mr. Harvey Collyer\", \"Mrs. Juha (Maria Emilia Ojala) Panula\", \"Mr. Percival Thorneycroft\", \"Mr. Hans Peder Jensen\", \"Mlle. Emma Sagesser\", \"Miss. Margit Elizabeth Skoog\", \"Mr. Choong Foo\", \"Miss. Eugenie Baclini\", \"Mr. Henry Sleeper Harper\", \"Mr. Liudevit Cor\", \"Col. Oberst Alfons Simonius-Blumer\", \"Mr. Edward Willey\", \"Miss. Amy Zillah Elsie Stanley\", \"Mr. Mito Mitkoff\", \"Miss. Elsie Doling\", \"Mr. Johannes Halvorsen Kalvik\", \"Miss. Hanora O'Leary\", \"Miss. Hanora Hegarty\", \"Mr. Leonard Mark Hickman\", \"Mr. Alexander Radeff\", \"Mrs. John (Catherine) Bourke\", \"Mr. George Floyd Eitemiller\", \"Mr. Arthur Webster Newell\", \"Dr. Henry William Frauenthal\", \"Mr. Mohamed Badt\", \"Mr. Edward Pomeroy Colley\", \"Mr. Peju Coleff\", \"Mr. Eino William Lindqvist\", \"Mr. Lewis Hickman\", \"Mr. Reginald Fenton Butler\", \"Mr. Knud Paust Rommetvedt\", \"Mr. Jacob Cook\", \"Mrs. Elmer Zebley (Juliet Cummins Wright) Taylor\", \"Mrs. Thomas William Solomon (Elizabeth Catherine Ford) Brown\", \"Mr. Thornton Davidson\", \"Mr. Henry Michael Mitchell\", \"Mr. Charles Wilhelms\", \"Mr. Ennis Hastings Watson\", \"Mr. Gustaf Hjalmar Edvardsson\", \"Mr. Frederick Charles Sawyer\", \"Miss. Anna Sofia Turja\", \"Mrs. Frederick (Augusta Tyler) Goodwin\", \"Mr. Thomas Drake Martinez Cardeza\", \"Miss. Katie Peters\", \"Mr. Hammad Hassab\", \"Mr. Thor Anderson Olsvigen\", \"Mr. Charles Edward Goodwin\", \"Mr. Thomas William Solomon Brown\", \"Mr. Joseph Philippe Lemercier Laroche\", \"Mr. Jaako Arnold Panula\", \"Mr. Branko Dakic\", \"Mr. Eberhard Thelander Fischer\", \"Miss. Georgette Alexandra Madill\", \"Mr. Albert Adrian Dick\", \"Miss. Manca Karun\", \"Mr. Ali Lam\", \"Mr. Khalil Saad\", \"Col. John Weir\", \"Mr. Charles Henry Chapman\", \"Mr. James Kelly\", \"Miss. Katherine Mullens\", \"Mr. John Borland Thayer\", \"Mr. Adolf Mathias Nicolai Olsen Humblen\", \"Mrs. John Jacob (Madeleine Talmadge Force) Astor\", \"Mr. Spencer Victor Silverthorne\", \"Miss. Saiide Barbara\", \"Mr. Martin Gallagher\", \"Mr. Henrik Juul Hansen\", \"Mr. Henry Samuel Morley\", \"Mrs. Florence Kelly\", \"Mr. Edward Pennington Calderhead\", \"Miss. Alice Cleaver\", \"Master. Halim Gonios Moubarek\", \"Mlle. Berthe Antonine Mayne\", \"Mr. Herman Klaber\", \"Mr. Elmer Zebley Taylor\", \"Mr. August Viktor Larsson\", \"Mr. Samuel Greenberg\", \"Mr. Peter Andreas Lauritz Andersen Soholt\", \"Miss. Caroline Louise Endres\", \"Miss. Edwina Celia Troutt\", \"Mr. Malkolm Joackim Johnson\", \"Miss. Annie Jessie Harper\", \"Mr. Svend Lauritz Jensen\", \"Mr. William Henry Gillespie\", \"Mr. Henry Price Hodges\", \"Mr. Norman Campbell Chambers\", \"Mr. Luka Oreskovic\", \"Mrs. Peter Henry (Lillian Jefferys) Renouf\", \"Miss. Margareth Mannion\", \"Mr. Kurt Arnold Gottfrid Bryhl\", \"Miss. Pieta Sofia Ilmakangas\", \"Miss. Elisabeth Walton Allen\", \"Mr. Houssein G N Hassan\", \"Mr. Robert J Knight\", \"Mr. William John Berriman\", \"Mr. Moses Aaron Troupiansky\", \"Mr. Leslie Williams\", \"Mrs. Edward (Margaret Ann Watson) Ford\", \"Mr. Gustave J Lesurer\", \"Mr. Kanio Ivanoff\", \"Mr. Minko Nankoff\", \"Mr. Walter James Hawksford\", \"Mr. Tyrell William Cavendish\", \"Miss. Susan Parker Ryerson\", \"Mr. Neal McNamee\", \"Mr. Juho Stranden\", \"Capt. Edward Gifford Crosby\", \"Mr. Rossmore Edward Abbott\", \"Miss. Anna Sinkkonen\", \"Mr. Daniel Warner Marvin\", \"Mr. Michael Connaghton\", \"Miss. Joan Wells\", \"Master. Meier Moor\", \"Mr. Johannes Joseph Vande Velde\", \"Mr. Lalio Jonkoff\", \"Mrs. Samuel (Jane Laver) Herman\", \"Master. Viljo Hamalainen\", \"Mr. August Sigfrid Carlsson\", \"Mr. Percy Andrew Bailey\", \"Mr. Thomas Leonard Theobald\", \"the Countess. of (Lucy Noel Martha Dyer-Edwards) Rothes\", \"Mr. John Garfirth\", \"Mr. Iisakki Antino Aijo Nirva\", \"Mr. Hanna Assi Barah\", \"Mrs. William Ernest (Lucile Polk) Carter\", \"Mr. Hans Linus Eklund\", \"Mrs. John C (Anna Andrews) Hogeboom\", \"Dr. Arthur Jackson Brewe\", \"Miss. Mary Mangan\", \"Mr. Daniel J Moran\", \"Mr. Daniel Danielsen Gronnestad\", \"Mr. Rene Aime Lievens\", \"Mr. Niels Peder Jensen\", \"Mrs. (Mary) Mack\", \"Mr. Dibo Elias\", \"Mrs. Elizabeth (Eliza Needs) Hocking\", \"Mr. Pehr Fabian Oliver Malkolm Myhrman\", \"Mr. Roger Tobin\", \"Miss. Virginia Ethel Emanuel\", \"Mr. Thomas J Kilgannon\", \"Mrs. Edward Scott (Elisabeth Walton McMillan) Robert\", \"Miss. Banoura Ayoub\", \"Mrs. Albert Adrian (Vera Gillespie) Dick\", \"Mr. Milton Clyde Long\", \"Mr. Andrew G Johnston\", \"Mr. William Ali\", \"Mr. Abraham (David Lishin) Harmer\", \"Miss. Anna Sofia Sjoblom\", \"Master. George Hugh Rice\", \"Master. Bertram Vere Dean\", \"Mr. Benjamin Guggenheim\", \"Mr. Andrew Keane\", \"Mr. Alfred Gaskell\", \"Miss. Stella Anna Sage\", \"Mr. William Fisher Hoyt\", \"Mr. Ristiu Dantcheff\", \"Mr. Richard Otter\", \"Dr. Alice (Farnham) Leader\", \"Mrs. Mara Osman\", \"Mr. Yousseff Ibrahim Shawah\", \"Mrs. Jean Baptiste (Rosalie Paula Govaert) Van Impe\", \"Mr. Martin Ponesell\", \"Mrs. Harvey (Charlotte Annie Tate) Collyer\", \"Master. William Thornton II Carter\", \"Master. Assad Alexander Thomas\", \"Mr. Oskar Arvid Hedman\", \"Mr. Karl Johan Johansson\", \"Mr. Thomas Jr Andrews\", \"Miss. Ellen Natalia Pettersson\", \"Mr. August Meyer\", \"Mrs. Norman Campbell (Bertha Griggs) Chambers\", \"Mr. William Alexander\", \"Mr. James Lester\", \"Mr. Richard James Slemen\", \"Miss. Ebba Iris Alfrida Andersson\", \"Mr. Ernest Portage Tomlin\", \"Mr. Richard Fry\", \"Miss. Wendla Maria Heininen\", \"Mr. Albert Mallet\", \"Mr. John Fredrik Alexander Holm\", \"Master. Karl Thorsten Skoog\", \"Mrs. Charles Melville (Clara Jennings Gregg) Hays\", \"Mr. Nikola Lulic\", \"Jonkheer. John George Reuchlin\", \"Mrs. (Beila) Moor\", \"Master. Urho Abraham Panula\", \"Mr. John Flynn\", \"Mr. Len Lam\", \"Master. Andre Mallet\", \"Mr. Thomas Joseph McCormack\", \"Mrs. George Nelson (Martha Evelyn) Stone\", \"Mrs. Antoni (Selini Alexander) Yasbeck\", \"Master. George Sibley Richards\", \"Mr. Amin Saad\", \"Mr. Albert Augustsson\", \"Mr. Owen George Allum\", \"Miss. Sara Rebecca Compton\", \"Mr. Jakob Pasic\", \"Mr. Maurice Sirota\", \"Mr. Chang Chip\", \"Mr. Pierre Marechal\", \"Mr. Ilmari Rudolf Alhomaki\", \"Mr. Thomas Charles Mudd\", \"Miss. Augusta Serepeca\", \"Mr. Peter L Lemberopolous\", \"Mr. Jeso Culumovic\", \"Mr. Anthony Abbing\", \"Mr. Douglas Bullen Sage\", \"Mr. Marin Markoff\", \"Rev. John Harper\", \"Mrs. Samuel L (Edwiga Grabowska) Goldenberg\", \"Master. Sigvard Harald Elias Andersson\", \"Mr. Johan Svensson\", \"Miss. Nourelain Boulos\", \"Miss. Mary Conover Lines\", \"Mrs. Ernest Courtenay (Lilian Hughes) Carter\", \"Mrs. Sam (Leah Rosen) Aks\", \"Mrs. George Dennick (Mary Hitchcock) Wick\", \"Mr. Peter Denis Daly\", \"Mrs. Solomon (Latifa Qurban) Baclini\", \"Mr. Raihed Razi\", \"Mr. Claus Peter Hansen\", \"Mr. Frederick Edward Giles\", \"Mrs. Frederick Joel (Margaret Welles Barron) Swift\", \"Miss. Dorothy Edith Sage\", \"Mr. John William Gill\", \"Mrs. (Karolina) Bystrom\", \"Miss. Asuncion Duran y More\", \"Mr. Washington Augustus II Roebling\", \"Mr. Philemon van Melkebeke\", \"Master. Harold Theodor Johnson\", \"Mr. Cerin Balkic\", \"Mrs. Richard Leonard (Sallie Monypeny) Beckwith\", \"Mr. Frans Olof Carlsson\", \"Mr. Victor Vander Cruyssen\", \"Mrs. Samuel (Hannah Wizosky) Abelson\", \"Miss. Adele Kiamie Najib\", \"Mr. Alfred Ossian Gustafsson\", \"Mr. Nedelio Petroff\", \"Mr. Kristo Laleff\", \"Mrs. Thomas Jr (Lily Alexenia Wilson) Potter\", \"Mrs. William (Imanita Parrish Hall) Shelley\", \"Mr. Johann Markun\", \"Miss. Gerda Ulrika Dahlberg\", \"Mr. Frederick James Banfield\", \"Mr. Henry Jr Sutehall\", \"Mrs. William (Margaret Norton) Rice\", \"Rev. Juozas Montvila\", \"Miss. Margaret Edith Graham\", \"Miss. Catherine Helen Johnston\", \"Mr. Karl Howell Behr\", \"Mr. Patrick Dooley\"]}, {\"axis\": {\"matches\": true}, \"label\": \"Sex\", \"values\": [\"male\", \"female\", \"female\", \"female\", \"male\", \"male\", \"male\", \"male\", \"female\", \"female\", \"female\", \"female\", \"male\", \"male\", \"female\", \"female\", \"male\", \"male\", \"female\", \"female\", \"male\", \"male\", \"female\", \"male\", \"female\", \"female\", \"male\", \"male\", \"female\", \"male\", \"male\", \"female\", \"female\", \"male\", \"male\", \"male\", \"male\", \"male\", \"female\", \"female\", \"female\", \"female\", \"female\", \"female\", \"male\", \"male\", \"female\", \"male\", \"female\", \"male\", \"male\", \"female\", \"female\", \"male\", \"male\", \"female\", \"male\", \"female\", \"male\", \"male\", \"female\", \"male\", \"male\", \"male\", \"male\", \"female\", \"male\", \"female\", \"male\", \"male\", \"female\", \"male\", \"male\", \"male\", \"male\", \"male\", \"male\", \"male\", \"female\", \"male\", \"male\", \"female\", \"male\", \"female\", \"female\", \"male\", \"male\", \"female\", \"male\", \"male\", \"male\", \"male\", \"male\", \"male\", \"male\", \"male\", \"male\", \"female\", \"male\", \"female\", \"male\", \"male\", \"male\", \"male\", \"male\", \"female\", \"male\", \"male\", \"female\", \"male\", \"female\", \"male\", \"female\", \"female\", \"male\", \"male\", \"male\", \"male\", \"female\", \"male\", \"male\", \"male\", \"female\", \"male\", \"male\", \"male\", \"male\", \"female\", \"male\", \"male\", \"male\", \"female\", \"female\", \"male\", \"male\", \"female\", \"male\", \"male\", \"male\", \"female\", \"female\", \"female\", \"male\", \"male\", \"male\", \"male\", \"female\", \"male\", \"male\", \"male\", \"female\", \"male\", \"male\", \"male\", \"male\", \"female\", \"male\", \"male\", \"male\", \"male\", \"female\", \"male\", \"male\", \"male\", \"male\", \"female\", \"female\", \"male\", \"male\", \"male\", \"male\", \"female\", \"male\", \"male\", \"male\", \"male\", \"female\", \"male\", \"male\", \"female\", \"male\", \"male\", \"male\", \"female\", \"male\", \"female\", \"male\", \"male\", \"male\", \"female\", \"male\", \"female\", \"male\", \"female\", \"female\", \"male\", \"male\", \"female\", \"female\", \"male\", \"male\", \"male\", \"male\", \"male\", \"female\", \"male\", \"male\", \"female\", \"male\", \"male\", \"female\", \"male\", \"male\", \"male\", \"female\", \"female\", \"male\", \"female\", \"male\", \"male\", \"male\", \"male\", \"male\", \"male\", \"male\", \"male\", \"male\", \"male\", \"female\", \"female\", \"male\", \"male\", \"female\", \"male\", \"female\", \"male\", \"female\", \"male\", \"male\", \"female\", \"female\", \"male\", \"male\", \"male\", \"male\", \"female\", \"female\", \"male\", \"male\", \"male\", \"female\", \"male\", \"male\", \"female\", \"female\", \"female\", \"female\", \"female\", \"female\", \"male\", \"male\", \"male\", \"female\", \"male\", \"male\", \"male\", \"female\", \"female\", \"male\", \"male\", \"female\", \"male\", \"female\", \"female\", \"female\", \"male\", \"male\", \"female\", \"male\", \"male\", \"male\", \"male\", \"male\", \"male\", \"male\", \"male\", \"male\", \"female\", \"female\", \"female\", \"male\", \"female\", \"male\", \"male\", \"male\", \"female\", \"male\", \"female\", \"female\", \"male\", \"male\", \"female\", \"male\", \"male\", \"female\", \"female\", \"male\", \"female\", \"female\", \"female\", \"female\", \"male\", \"male\", \"female\", \"female\", \"male\", \"female\", \"female\", \"male\", \"male\", \"female\", \"female\", \"male\", \"female\", \"male\", \"female\", \"female\", \"female\", \"female\", \"male\", \"male\", \"male\", \"female\", \"male\", \"male\", \"female\", \"male\", \"male\", \"male\", \"female\", \"male\", \"male\", \"male\", \"female\", \"female\", \"female\", \"male\", \"male\", \"male\", \"male\", \"male\", \"male\", \"male\", \"male\", \"female\", \"female\", \"female\", \"female\", \"male\", \"male\", \"female\", \"male\", \"male\", \"male\", \"female\", \"female\", \"female\", \"female\", \"male\", \"male\", \"male\", \"male\", \"female\", \"female\", \"female\", \"male\", \"male\", \"male\", \"female\", \"female\", \"male\", \"female\", \"male\", \"male\", \"male\", \"female\", \"male\", \"female\", \"male\", \"male\", \"male\", \"female\", \"female\", \"male\", \"female\", \"male\", \"male\", \"female\", \"male\", \"male\", \"female\", \"male\", \"female\", \"male\", \"male\", \"male\", \"male\", \"female\", \"male\", \"male\", \"female\", \"male\", \"male\", \"female\", \"female\", \"female\", \"male\", \"female\", \"male\", \"male\", \"female\", \"male\", \"male\", \"female\", \"female\", \"male\", \"male\", \"male\", \"female\", \"female\", \"male\", \"male\", \"female\", \"female\", \"female\", \"male\", \"male\", \"female\", \"male\", \"male\", \"female\", \"male\", \"male\", \"female\", \"male\", \"female\", \"male\", \"male\", \"male\", \"male\", \"male\", \"male\", \"male\", \"male\", \"female\", \"female\", \"male\", \"male\", \"male\", \"male\", \"male\", \"male\", \"male\", \"male\", \"male\", \"male\", \"female\", \"male\", \"male\", \"female\", \"female\", \"female\", \"male\", \"male\", \"male\", \"male\", \"female\", \"male\", \"male\", \"male\", \"female\", \"male\", \"female\", \"female\", \"male\", \"male\", \"male\", \"male\", \"male\", \"male\", \"male\", \"male\", \"male\", \"female\", \"male\", \"female\", \"male\", \"male\", \"female\", \"female\", \"female\", \"female\", \"male\", \"female\", \"male\", \"male\", \"male\", \"male\", \"male\", \"male\", \"female\", \"male\", \"male\", \"female\", \"male\", \"female\", \"male\", \"female\", \"male\", \"male\", \"female\", \"male\", \"male\", \"female\", \"male\", \"male\", \"male\", \"female\", \"male\", \"male\", \"female\", \"female\", \"female\", \"male\", \"female\", \"male\", \"female\", \"female\", \"female\", \"female\", \"male\", \"male\", \"male\", \"female\", \"male\", \"male\", \"male\", \"male\", \"male\", \"male\", \"male\", \"female\", \"male\", \"female\", \"male\", \"female\", \"female\", \"male\", \"male\", \"male\", \"male\", \"female\", \"male\", \"male\", \"female\", \"male\", \"male\", \"male\", \"female\", \"male\", \"female\", \"male\", \"male\", \"female\", \"female\", \"female\", \"male\", \"female\", \"female\", \"male\", \"male\", \"male\", \"female\", \"male\", \"male\", \"male\", \"male\", \"male\", \"female\", \"male\", \"female\", \"male\", \"male\", \"female\", \"male\", \"male\", \"male\", \"female\", \"male\", \"male\", \"male\", \"male\", \"male\", \"male\", \"male\", \"female\", \"female\", \"female\", \"male\", \"female\", \"male\", \"male\", \"female\", \"male\", \"female\", \"female\", \"male\", \"male\", \"male\", \"male\", \"male\", \"male\", \"male\", \"male\", \"female\", \"male\", \"male\", \"male\", \"male\", \"male\", \"male\", \"female\", \"female\", \"male\", \"male\", \"female\", \"male\", \"male\", \"female\", \"female\", \"male\", \"female\", \"male\", \"male\", \"male\", \"male\", \"female\", \"male\", \"female\", \"male\", \"female\", \"female\", \"male\", \"male\", \"female\", \"male\", \"male\", \"male\", \"male\", \"male\", \"male\", \"male\", \"male\", \"male\", \"male\", \"male\", \"female\", \"female\", \"male\", \"male\", \"male\", \"male\", \"male\", \"male\", \"female\", \"female\", \"male\", \"female\", \"male\", \"male\", \"male\", \"male\", \"male\", \"male\", \"male\", \"male\", \"female\", \"male\", \"female\", \"male\", \"male\", \"male\", \"male\", \"male\", \"female\", \"male\", \"male\", \"female\", \"male\", \"female\", \"male\", \"male\", \"male\", \"female\", \"male\", \"female\", \"male\", \"female\", \"male\", \"male\", \"male\", \"male\", \"male\", \"female\", \"female\", \"male\", \"female\", \"male\", \"male\", \"male\", \"male\", \"male\", \"female\", \"female\", \"male\", \"female\", \"female\", \"male\", \"male\", \"male\", \"male\", \"male\", \"female\", \"male\", \"male\", \"male\", \"male\", \"male\", \"female\", \"male\", \"male\", \"male\", \"male\", \"female\", \"male\", \"male\", \"female\", \"male\", \"male\", \"male\", \"female\", \"male\", \"male\", \"male\", \"male\", \"female\", \"male\", \"male\", \"male\", \"female\", \"male\", \"female\", \"male\", \"female\", \"male\", \"male\", \"male\", \"male\", \"female\", \"male\", \"female\", \"male\", \"male\", \"female\", \"male\", \"female\", \"female\", \"female\", \"male\", \"male\", \"male\", \"male\", \"female\", \"male\", \"male\", \"male\", \"male\", \"male\", \"female\", \"male\", \"male\", \"male\", \"female\", \"female\", \"male\", \"female\", \"male\", \"female\", \"male\", \"male\", \"male\", \"male\", \"male\", \"female\", \"male\", \"female\", \"male\", \"male\", \"male\", \"female\", \"male\", \"male\", \"female\", \"male\", \"male\", \"male\", \"female\", \"male\", \"male\", \"female\", \"male\", \"male\", \"male\", \"male\", \"male\", \"female\", \"female\", \"male\", \"male\", \"male\", \"male\", \"female\", \"male\", \"male\", \"male\", \"male\", \"male\", \"male\", \"female\", \"male\", \"male\", \"male\", \"male\", \"male\", \"male\", \"female\", \"male\", \"male\", \"female\", \"female\", \"female\", \"female\", \"female\", \"male\", \"female\", \"male\", \"male\", \"male\", \"female\", \"female\", \"male\", \"female\", \"female\", \"male\", \"male\", \"male\", \"male\", \"female\", \"male\", \"male\", \"female\", \"female\", \"male\", \"male\", \"male\", \"female\", \"female\", \"male\", \"female\", \"male\", \"male\", \"female\", \"male\", \"female\", \"female\", \"male\", \"male\"]}, {\"axis\": {\"matches\": true}, \"label\": \"Age\", \"values\": [22.0, 38.0, 26.0, 35.0, 35.0, 27.0, 54.0, 2.0, 27.0, 14.0, 4.0, 58.0, 20.0, 39.0, 14.0, 55.0, 2.0, 23.0, 31.0, 22.0, 35.0, 34.0, 15.0, 28.0, 8.0, 38.0, 26.0, 19.0, 24.0, 23.0, 40.0, 48.0, 18.0, 66.0, 28.0, 42.0, 18.0, 21.0, 18.0, 14.0, 40.0, 27.0, 3.0, 19.0, 30.0, 20.0, 27.0, 16.0, 18.0, 7.0, 21.0, 49.0, 29.0, 65.0, 46.0, 21.0, 28.5, 5.0, 11.0, 22.0, 38.0, 45.0, 4.0, 64.0, 7.0, 29.0, 19.0, 17.0, 26.0, 32.0, 16.0, 21.0, 26.0, 32.0, 25.0, 23.0, 28.0, 0.83, 30.0, 22.0, 29.0, 31.0, 28.0, 17.0, 33.0, 16.0, 20.0, 23.0, 24.0, 29.0, 20.0, 46.0, 26.0, 59.0, 22.0, 71.0, 23.0, 34.0, 34.0, 28.0, 29.0, 21.0, 33.0, 37.0, 28.0, 21.0, 29.0, 38.0, 28.0, 47.0, 14.5, 22.0, 20.0, 17.0, 21.0, 70.5, 29.0, 24.0, 2.0, 21.0, 19.0, 32.5, 32.5, 54.0, 12.0, 19.0, 24.0, 2.0, 45.0, 33.0, 20.0, 47.0, 29.0, 25.0, 23.0, 19.0, 37.0, 16.0, 24.0, 40.0, 22.0, 24.0, 19.0, 18.0, 19.0, 27.0, 9.0, 36.5, 42.0, 51.0, 22.0, 55.5, 40.5, 27.0, 51.0, 16.0, 30.0, 37.0, 5.0, 44.0, 40.0, 26.0, 17.0, 1.0, 9.0, 48.0, 45.0, 60.0, 28.0, 61.0, 4.0, 1.0, 21.0, 56.0, 18.0, 5.0, 50.0, 30.0, 36.0, 8.0, 39.0, 9.0, 1.0, 4.0, 39.0, 26.0, 45.0, 40.0, 36.0, 32.0, 19.0, 19.0, 3.0, 44.0, 58.0, 28.0, 42.0, 21.0, 24.0, 28.0, 17.0, 34.0, 45.5, 18.0, 2.0, 32.0, 26.0, 16.0, 40.0, 24.0, 35.0, 22.0, 30.0, 22.0, 31.0, 27.0, 42.0, 32.0, 30.0, 16.0, 27.0, 51.0, 22.0, 38.0, 22.0, 19.0, 20.5, 18.0, 12.0, 35.0, 29.0, 59.0, 5.0, 24.0, 21.0, 44.0, 8.0, 19.0, 33.0, 19.0, 18.0, 29.0, 22.0, 30.0, 44.0, 25.0, 24.0, 37.0, 54.0, 18.0, 29.0, 62.0, 30.0, 41.0, 29.0, 38.0, 30.0, 35.0, 50.0, 3.0, 52.0, 40.0, 21.0, 36.0, 16.0, 25.0, 58.0, 35.0, 28.0, 25.0, 41.0, 37.0, 33.0, 63.0, 45.0, 21.0, 7.0, 35.0, 65.0, 28.0, 16.0, 19.0, 57.0, 33.0, 30.0, 22.0, 42.0, 22.0, 26.0, 19.0, 36.0, 24.0, 24.0, 30.0, 23.5, 2.0, 47.0, 50.0, 20.0, 24.0, 19.0, 46.0, 28.0, 0.92, 42.0, 17.0, 30.0, 30.0, 24.0, 18.0, 26.0, 28.0, 43.0, 26.0, 24.0, 54.0, 31.0, 40.0, 22.0, 27.0, 30.0, 22.0, 20.0, 36.0, 61.0, 36.0, 31.0, 16.0, 28.0, 45.5, 38.0, 16.0, 42.0, 30.0, 29.0, 41.0, 45.0, 45.0, 2.0, 24.0, 28.0, 25.0, 36.0, 24.0, 40.0, 34.0, 3.0, 42.0, 23.0, 43.0, 15.0, 25.0, 23.0, 28.0, 22.0, 38.0, 22.0, 23.0, 40.0, 29.0, 45.0, 35.0, 27.0, 30.0, 60.0, 35.0, 22.0, 24.0, 25.0, 18.0, 19.0, 22.0, 3.0, 25.0, 22.0, 27.0, 20.0, 19.0, 42.0, 1.0, 32.0, 35.0, 27.0, 18.0, 1.0, 36.0, 19.0, 17.0, 36.0, 21.0, 28.0, 23.0, 24.0, 22.0, 31.0, 46.0, 23.0, 28.0, 39.0, 26.0, 21.0, 28.0, 20.0, 34.0, 51.0, 3.0, 21.0, 3.0, 42.0, 27.0, 33.0, 22.0, 44.0, 32.0, 34.0, 18.0, 30.0, 10.0, 21.0, 29.0, 28.0, 18.0, 54.0, 28.0, 19.0, 28.0, 32.0, 28.0, 33.0, 42.0, 17.0, 50.0, 14.0, 21.0, 24.0, 64.0, 31.0, 45.0, 20.0, 25.0, 28.0, 29.0, 4.0, 13.0, 34.0, 5.0, 52.0, 36.0, 28.0, 30.0, 49.0, 24.0, 29.0, 65.0, 41.0, 50.0, 17.0, 48.0, 34.0, 47.0, 48.0, 34.0, 38.0, 21.0, 56.0, 22.0, 0.75, 39.0, 38.0, 33.0, 23.0, 22.0, 40.0, 34.0, 29.0, 22.0, 2.0, 9.0, 37.0, 50.0, 63.0, 25.0, 8.0, 35.0, 58.0, 30.0, 9.0, 19.0, 21.0, 55.0, 71.0, 21.0, 26.0, 54.0, 55.0, 25.0, 24.0, 17.0, 21.0, 21.0, 37.0, 16.0, 18.0, 33.0, 37.0, 28.0, 26.0, 29.0, 66.0, 36.0, 54.0, 24.0, 47.0, 34.0, 30.0, 36.0, 32.0, 30.0, 22.0, 35.0, 44.0, 18.0, 40.5, 50.0, 49.0, 39.0, 23.0, 2.0, 17.0, 17.0, 24.0, 30.0, 7.0, 45.0, 30.0, 69.0, 22.0, 36.0, 9.0, 11.0, 32.0, 50.0, 64.0, 19.0, 27.0, 33.0, 8.0, 17.0, 27.0, 21.0, 22.0, 22.0, 62.0, 48.0, 45.0, 39.0, 36.0, 30.0, 40.0, 28.0, 40.0, 62.0, 24.0, 19.0, 29.0, 28.0, 32.0, 62.0, 53.0, 36.0, 22.0, 16.0, 19.0, 34.0, 39.0, 18.0, 32.0, 25.0, 39.0, 54.0, 36.0, 16.0, 18.0, 47.0, 60.0, 22.0, 22.0, 35.0, 52.0, 47.0, 40.0, 37.0, 36.0, 31.0, 49.0, 18.0, 49.0, 24.0, 42.0, 37.0, 44.0, 35.0, 36.0, 30.0, 27.0, 22.0, 40.0, 39.0, 21.0, 18.0, 22.0, 35.0, 24.0, 34.0, 26.0, 4.0, 26.0, 27.0, 42.0, 20.0, 21.0, 21.0, 61.0, 57.0, 21.0, 26.0, 18.0, 80.0, 51.0, 32.0, 30.0, 9.0, 28.0, 32.0, 31.0, 41.0, 37.0, 20.0, 24.0, 2.0, 32.0, 0.75, 48.0, 19.0, 56.0, 21.0, 23.0, 23.0, 18.0, 21.0, 16.0, 18.0, 24.0, 27.0, 32.0, 23.0, 58.0, 50.0, 40.0, 47.0, 36.0, 20.0, 32.0, 25.0, 49.0, 43.0, 48.0, 40.0, 31.0, 70.0, 31.0, 19.0, 18.0, 24.5, 18.0, 43.0, 36.0, 28.0, 27.0, 20.0, 14.0, 60.0, 25.0, 14.0, 19.0, 18.0, 15.0, 31.0, 4.0, 37.0, 25.0, 60.0, 52.0, 44.0, 19.0, 49.0, 42.0, 18.0, 35.0, 18.0, 25.0, 26.0, 39.0, 45.0, 42.0, 22.0, 4.0, 24.0, 41.0, 48.0, 29.0, 52.0, 19.0, 38.0, 27.0, 33.0, 6.0, 17.0, 34.0, 50.0, 27.0, 20.0, 30.0, 28.0, 25.0, 25.0, 29.0, 11.0, 41.0, 23.0, 23.0, 28.5, 48.0, 35.0, 20.0, 32.0, 45.0, 36.0, 21.0, 24.0, 31.0, 70.0, 16.0, 30.0, 19.0, 31.0, 4.0, 6.0, 33.0, 23.0, 48.0, 0.67, 28.0, 18.0, 34.0, 33.0, 23.0, 41.0, 20.0, 36.0, 16.0, 51.0, 46.0, 30.5, 28.0, 32.0, 24.0, 48.0, 57.0, 29.0, 54.0, 18.0, 20.0, 5.0, 22.0, 43.0, 13.0, 17.0, 29.0, 35.0, 25.0, 25.0, 18.0, 8.0, 1.0, 46.0, 20.0, 16.0, 21.0, 43.0, 25.0, 39.0, 49.0, 31.0, 30.0, 30.0, 34.0, 31.0, 11.0, 0.42, 27.0, 31.0, 39.0, 18.0, 39.0, 33.0, 26.0, 39.0, 35.0, 6.0, 30.5, 39.0, 23.0, 31.0, 43.0, 10.0, 52.0, 27.0, 38.0, 27.0, 2.0, 36.0, 23.0, 1.0, 19.0, 62.0, 15.0, 0.83, 30.0, 23.0, 18.0, 39.0, 21.0, 20.0, 32.0, 29.0, 20.0, 16.0, 30.0, 34.5, 17.0, 42.0, 18.0, 35.0, 28.0, 40.0, 4.0, 74.0, 9.0, 16.0, 44.0, 18.0, 45.0, 51.0, 24.0, 30.0, 41.0, 21.0, 48.0, 14.0, 24.0, 42.0, 27.0, 31.0, 23.0, 4.0, 26.0, 47.0, 33.0, 47.0, 28.0, 15.0, 20.0, 19.0, 23.0, 56.0, 25.0, 33.0, 22.0, 28.0, 25.0, 39.0, 27.0, 19.0, 7.0, 26.0, 32.0]}, {\"axis\": {\"matches\": true}, \"label\": \"Siblings/Spouses Aboard\", \"values\": [1, 1, 0, 1, 0, 0, 0, 3, 0, 1, 1, 0, 0, 1, 0, 0, 4, 0, 1, 0, 0, 0, 0, 0, 3, 1, 0, 3, 0, 0, 0, 1, 0, 0, 1, 1, 0, 0, 2, 1, 1, 1, 1, 0, 0, 1, 0, 2, 1, 4, 0, 1, 1, 0, 0, 0, 0, 1, 5, 0, 0, 1, 3, 0, 1, 0, 0, 4, 2, 0, 5, 0, 1, 0, 0, 0, 0, 0, 0, 0, 0, 0, 0, 0, 3, 1, 0, 3, 0, 0, 0, 1, 1, 0, 0, 0, 0, 0, 1, 0, 0, 0, 0, 2, 0, 0, 0, 0, 1, 0, 1, 0, 1, 0, 0, 0, 1, 0, 4, 2, 0, 1, 0, 0, 1, 0, 0, 1, 0, 0, 0, 1, 1, 0, 0, 0, 1, 0, 0, 0, 0, 1, 0, 0, 1, 0, 2, 0, 0, 0, 1, 0, 0, 0, 0, 0, 0, 0, 8, 0, 0, 0, 0, 4, 0, 0, 1, 0, 0, 0, 4, 1, 0, 0, 1, 3, 0, 0, 0, 8, 0, 4, 2, 0, 0, 1, 0, 1, 0, 0, 0, 1, 1, 0, 0, 0, 0, 0, 0, 0, 8, 0, 0, 0, 0, 1, 0, 0, 0, 0, 0, 0, 0, 1, 1, 0, 1, 0, 0, 0, 0, 0, 0, 1, 0, 0, 0, 0, 3, 1, 0, 0, 4, 0, 0, 1, 0, 0, 0, 1, 1, 0, 0, 0, 2, 0, 0, 1, 1, 0, 1, 0, 1, 0, 0, 0, 0, 0, 0, 4, 1, 0, 0, 0, 4, 1, 0, 0, 0, 0, 0, 0, 0, 1, 0, 0, 4, 1, 0, 0, 0, 0, 0, 0, 0, 0, 0, 0, 0, 1, 0, 0, 0, 0, 0, 1, 0, 0, 0, 2, 0, 0, 0, 1, 0, 1, 1, 0, 0, 2, 1, 0, 1, 0, 1, 0, 0, 1, 0, 0, 0, 1, 8, 0, 0, 0, 1, 0, 2, 0, 0, 2, 1, 0, 1, 0, 0, 0, 1, 3, 0, 0, 0, 0, 0, 1, 1, 0, 0, 0, 1, 1, 0, 0, 0, 0, 0, 0, 1, 1, 0, 0, 1, 0, 1, 0, 0, 0, 1, 1, 0, 0, 3, 1, 0, 0, 0, 0, 0, 0, 0, 1, 0, 0, 5, 0, 0, 0, 1, 0, 2, 1, 0, 0, 0, 0, 0, 0, 0, 0, 1, 1, 0, 1, 0, 1, 0, 3, 0, 0, 1, 0, 0, 0, 1, 0, 0, 0, 0, 0, 1, 1, 0, 1, 0, 0, 0, 0, 1, 1, 0, 1, 1, 2, 2, 1, 0, 1, 0, 1, 0, 0, 0, 0, 0, 2, 0, 1, 1, 0, 1, 0, 0, 0, 1, 0, 0, 0, 0, 0, 0, 0, 0, 0, 0, 0, 2, 0, 0, 1, 0, 0, 0, 1, 1, 0, 0, 5, 0, 0, 0, 1, 3, 1, 0, 0, 1, 1, 0, 0, 0, 0, 0, 1, 0, 1, 0, 0, 0, 0, 0, 0, 1, 0, 0, 0, 0, 0, 0, 0, 1, 0, 0, 0, 0, 1, 0, 0, 0, 0, 0, 0, 0, 0, 0, 0, 2, 1, 0, 1, 0, 0, 0, 0, 0, 0, 0, 0, 4, 4, 1, 1, 0, 1, 0, 1, 1, 0, 0, 0, 0, 0, 0, 1, 0, 1, 1, 0, 0, 0, 0, 0, 2, 0, 0, 0, 0, 0, 2, 0, 0, 0, 0, 0, 1, 1, 0, 1, 1, 0, 0, 0, 0, 0, 1, 0, 0, 0, 1, 0, 0, 1, 1, 0, 0, 0, 1, 2, 0, 0, 0, 0, 1, 0, 0, 1, 0, 1, 0, 1, 0, 0, 1, 1, 1, 2, 0, 1, 1, 1, 0, 0, 0, 0, 0, 0, 0, 0, 0, 0, 0, 3, 0, 0, 1, 0, 1, 0, 0, 3, 0, 2, 1, 0, 0, 0, 0, 0, 0, 0, 0, 0, 2, 0, 1, 0, 0, 2, 0, 0, 0, 1, 2, 0, 0, 0, 1, 1, 1, 0, 0, 0, 0, 0, 0, 1, 0, 0, 0, 0, 5, 1, 1, 4, 0, 0, 0, 1, 0, 0, 0, 0, 0, 0, 0, 1, 0, 1, 0, 0, 0, 1, 0, 0, 0, 0, 1, 0, 0, 1, 0, 0, 0, 0, 0, 0, 0, 1, 0, 0, 1, 0, 3, 0, 1, 1, 0, 0, 0, 0, 0, 0, 1, 0, 0, 0, 0, 1, 2, 1, 0, 1, 1, 0, 1, 0, 1, 0, 0, 0, 1, 1, 0, 0, 0, 0, 0, 0, 0, 1, 0, 1, 0, 0, 1, 0, 0, 0, 0, 0, 1, 0, 0, 0, 0, 0, 0, 1, 0, 1, 0, 0, 0, 4, 1, 0, 0, 0, 8, 0, 0, 0, 0, 0, 0, 1, 0, 1, 1, 0, 0, 0, 0, 0, 0, 1, 0, 0, 0, 4, 0, 0, 0, 1, 0, 3, 1, 0, 0, 0, 4, 0, 0, 0, 0, 0, 1, 1, 0, 0, 0, 1, 0, 0, 0, 0, 0, 0, 0, 0, 0, 0, 8, 0, 0, 1, 4, 0, 1, 0, 1, 0, 1, 0, 0, 0, 2, 1, 0, 8, 0, 0, 1, 0, 0, 1, 0, 1, 0, 0, 1, 0, 0, 0, 0, 0, 0, 0, 0, 0, 0, 0, 0, 0, 1, 0, 0]}, {\"axis\": {\"matches\": true}, \"label\": \"Parents/Children Aboard\", \"values\": [0, 0, 0, 0, 0, 0, 0, 1, 2, 0, 1, 0, 0, 5, 0, 0, 1, 0, 0, 0, 0, 0, 0, 0, 1, 5, 0, 2, 0, 0, 0, 0, 0, 0, 0, 0, 0, 0, 0, 0, 0, 0, 2, 0, 0, 0, 0, 0, 0, 1, 0, 0, 0, 1, 0, 0, 0, 2, 2, 0, 0, 0, 2, 0, 1, 0, 0, 2, 0, 0, 2, 0, 0, 0, 0, 0, 0, 2, 0, 0, 0, 0, 0, 0, 0, 3, 0, 2, 0, 0, 0, 0, 2, 0, 0, 0, 1, 1, 0, 0, 0, 1, 0, 0, 0, 0, 0, 0, 0, 0, 0, 0, 0, 0, 0, 0, 0, 1, 2, 0, 0, 0, 0, 1, 0, 0, 0, 1, 0, 0, 0, 0, 0, 0, 0, 2, 0, 0, 0, 2, 0, 0, 0, 0, 1, 0, 2, 2, 0, 0, 0, 0, 2, 0, 1, 0, 0, 0, 2, 1, 0, 0, 0, 1, 2, 1, 4, 0, 0, 0, 1, 1, 0, 0, 1, 1, 0, 0, 0, 2, 0, 2, 1, 2, 0, 0, 0, 1, 0, 0, 0, 0, 1, 0, 0, 0, 1, 0, 0, 0, 2, 0, 0, 0, 1, 0, 0, 0, 0, 0, 0, 0, 0, 0, 0, 0, 0, 0, 0, 0, 0, 0, 0, 0, 0, 0, 0, 0, 1, 0, 0, 0, 2, 0, 0, 0, 2, 0, 0, 0, 0, 0, 0, 0, 0, 0, 2, 1, 0, 0, 1, 0, 0, 2, 2, 0, 0, 0, 1, 2, 1, 0, 0, 0, 1, 0, 1, 0, 0, 0, 1, 1, 0, 0, 0, 0, 1, 1, 0, 0, 0, 0, 0, 0, 0, 0, 0, 0, 0, 0, 0, 0, 0, 0, 0, 2, 0, 1, 0, 0, 0, 0, 0, 2, 0, 0, 0, 0, 0, 2, 1, 0, 1, 0, 0, 0, 2, 1, 0, 0, 0, 1, 2, 0, 0, 0, 1, 1, 0, 0, 1, 0, 0, 0, 0, 0, 0, 0, 1, 2, 0, 0, 0, 0, 0, 0, 1, 0, 0, 0, 1, 0, 0, 0, 1, 0, 0, 0, 4, 0, 1, 0, 0, 0, 0, 0, 0, 0, 0, 0, 0, 0, 1, 0, 0, 2, 0, 0, 0, 2, 0, 0, 0, 0, 2, 0, 0, 0, 2, 0, 0, 0, 2, 0, 0, 0, 0, 0, 0, 0, 0, 0, 0, 0, 0, 1, 0, 1, 0, 0, 0, 0, 0, 0, 1, 2, 0, 2, 0, 0, 1, 1, 0, 0, 0, 0, 0, 0, 0, 0, 0, 0, 2, 2, 3, 4, 0, 1, 0, 0, 0, 0, 2, 1, 0, 1, 0, 2, 0, 0, 0, 0, 0, 0, 0, 0, 0, 0, 0, 0, 0, 0, 0, 0, 0, 0, 1, 0, 0, 2, 0, 0, 0, 0, 0, 0, 1, 2, 0, 0, 0, 0, 1, 0, 0, 0, 1, 0, 0, 0, 0, 0, 0, 0, 0, 2, 0, 0, 0, 0, 0, 0, 0, 2, 0, 0, 0, 0, 0, 0, 0, 0, 0, 0, 0, 0, 0, 0, 0, 0, 1, 0, 0, 0, 0, 0, 1, 1, 0, 1, 2, 0, 2, 0, 0, 0, 2, 2, 2, 2, 0, 0, 0, 0, 0, 1, 1, 2, 0, 0, 0, 0, 0, 0, 0, 1, 0, 0, 0, 0, 0, 0, 0, 0, 4, 0, 0, 0, 0, 0, 0, 0, 0, 0, 0, 0, 0, 1, 1, 0, 0, 0, 2, 0, 1, 0, 0, 0, 0, 0, 2, 0, 1, 0, 0, 0, 0, 1, 0, 0, 0, 0, 0, 0, 0, 2, 0, 5, 0, 0, 0, 0, 2, 1, 0, 1, 0, 0, 0, 1, 0, 0, 0, 0, 0, 0, 0, 0, 0, 0, 0, 2, 0, 0, 1, 5, 0, 0, 0, 2, 0, 1, 0, 0, 0, 0, 0, 0, 1, 0, 0, 0, 0, 0, 1, 0, 2, 0, 0, 0, 0, 0, 0, 0, 0, 0, 0, 1, 0, 0, 0, 0, 0, 0, 0, 6, 1, 0, 0, 0, 2, 1, 2, 1, 0, 0, 1, 0, 1, 0, 0, 0, 0, 0, 0, 1, 0, 0, 0, 1, 0, 0, 0, 0, 0, 0, 1, 0, 0, 0, 0, 0, 0, 0, 0, 0, 1, 0, 0, 0, 0, 0, 0, 0, 0, 0, 0, 0, 0, 0, 0, 0, 3, 0, 0, 0, 0, 0, 2, 0, 0, 1, 1, 0, 0, 0, 1, 1, 0, 0, 2, 1, 0, 0, 0, 0, 0, 0, 0, 2, 0, 0, 0, 0, 0, 0, 0, 0, 0, 0, 3, 0, 0, 0, 0, 1, 0, 0, 0, 2, 0, 0, 0, 1, 2, 0, 0, 0, 2, 0, 0, 0, 0, 0, 0, 1, 0, 1, 2, 1, 0, 0, 0, 0, 0, 0, 0, 0, 0, 2, 0, 0, 0, 1, 0, 2, 1, 0, 0, 1, 1, 0, 0, 2, 0, 0, 0, 1, 0, 0, 0, 1, 0, 0, 0, 0, 0, 0, 0, 0, 0, 0, 2, 0, 1, 0, 2, 0, 1, 1, 0, 1, 1, 0, 3, 0, 0, 0, 0, 2, 0, 0, 0, 0, 0, 1, 0, 1, 0, 0, 0, 0, 0, 0, 0, 1, 1, 0, 0, 0, 0, 5, 0, 0, 2, 0, 0]}, {\"axis\": {\"matches\": true}, \"label\": \"Fare\", \"values\": [7.25, 71.2833, 7.925, 53.1, 8.05, 8.4583, 51.8625, 21.075, 11.1333, 30.0708, 16.7, 26.55, 8.05, 31.275, 7.8542, 16.0, 29.125, 13.0, 18.0, 7.225, 26.0, 13.0, 8.0292, 35.5, 21.075, 31.3875, 7.225, 263.0, 7.8792, 7.8958, 27.7208, 146.5208, 7.75, 10.5, 82.1708, 52.0, 7.2292, 8.05, 18.0, 11.2417, 9.475, 21.0, 41.5792, 7.8792, 8.05, 15.5, 7.75, 21.6792, 17.8, 39.6875, 7.8, 76.7292, 26.0, 61.9792, 35.5, 10.5, 7.2292, 27.75, 46.9, 7.2292, 80.0, 83.475, 27.9, 27.7208, 15.2458, 10.5, 8.1583, 7.925, 8.6625, 10.5, 46.9, 73.5, 14.4542, 56.4958, 7.65, 7.8958, 8.05, 29.0, 12.475, 9.0, 9.5, 7.7875, 47.1, 10.5, 15.85, 34.375, 8.05, 263.0, 8.05, 8.05, 7.8542, 61.175, 20.575, 7.25, 8.05, 34.6542, 63.3583, 23.0, 26.0, 7.8958, 7.8958, 77.2875, 8.6542, 7.925, 7.8958, 7.65, 7.775, 7.8958, 24.15, 52.0, 14.4542, 8.05, 9.825, 14.4583, 7.925, 7.75, 21.0, 247.5208, 31.275, 73.5, 8.05, 30.0708, 13.0, 77.2875, 11.2417, 7.75, 7.1417, 22.3583, 6.975, 7.8958, 7.05, 14.5, 26.0, 13.0, 15.0458, 26.2833, 53.1, 9.2167, 79.2, 15.2458, 7.75, 15.85, 6.75, 11.5, 36.75, 7.7958, 34.375, 26.0, 13.0, 12.525, 66.6, 8.05, 14.5, 7.3125, 61.3792, 7.7333, 8.05, 8.6625, 69.55, 16.1, 15.75, 7.775, 8.6625, 39.6875, 20.525, 55.0, 27.9, 25.925, 56.4958, 33.5, 29.125, 11.1333, 7.925, 30.6958, 7.8542, 25.4667, 28.7125, 13.0, 0.0, 69.55, 15.05, 31.3875, 39.0, 22.025, 50.0, 15.5, 26.55, 15.5, 7.8958, 13.0, 13.0, 7.8542, 26.0, 27.7208, 146.5208, 7.75, 8.4042, 7.75, 13.0, 9.5, 69.55, 6.4958, 7.225, 8.05, 10.4625, 15.85, 18.7875, 7.75, 31.0, 7.05, 21.0, 7.25, 13.0, 7.75, 113.275, 7.925, 27.0, 76.2917, 10.5, 8.05, 13.0, 8.05, 7.8958, 90.0, 9.35, 10.5, 7.25, 13.0, 25.4667, 83.475, 7.775, 13.5, 31.3875, 10.5, 7.55, 26.0, 26.25, 10.5, 12.275, 14.4542, 15.5, 10.5, 7.125, 7.225, 90.0, 7.775, 14.5, 52.5542, 26.0, 7.25, 10.4625, 26.55, 16.1, 20.2125, 15.2458, 79.2, 86.5, 512.3292, 26.0, 31.3875, 79.65, 0.0, 7.75, 10.5, 39.6875, 7.775, 153.4625, 135.6333, 31.0, 0.0, 19.5, 29.7, 7.75, 77.9583, 7.75, 0.0, 29.125, 20.25, 7.75, 7.8542, 9.5, 8.05, 26.0, 8.6625, 9.5, 7.8958, 13.0, 7.75, 78.85, 91.0792, 12.875, 8.85, 7.8958, 27.7208, 7.2292, 151.55, 30.5, 247.5208, 7.75, 23.25, 0.0, 12.35, 8.05, 151.55, 110.8833, 108.9, 24.0, 56.9292, 83.1583, 262.375, 26.0, 7.8958, 26.25, 7.8542, 26.0, 14.0, 164.8667, 134.5, 7.25, 7.8958, 12.35, 29.0, 69.55, 135.6333, 6.2375, 13.0, 20.525, 57.9792, 23.25, 28.5, 153.4625, 18.0, 133.65, 7.8958, 66.6, 134.5, 8.05, 35.5, 26.0, 263.0, 13.0, 13.0, 13.0, 13.0, 13.0, 16.1, 15.9, 8.6625, 9.225, 35.0, 7.2292, 17.8, 7.225, 9.5, 55.0, 13.0, 7.8792, 7.8792, 27.9, 27.7208, 14.4542, 7.05, 15.5, 7.25, 75.25, 7.2292, 7.75, 69.3, 55.4417, 6.4958, 8.05, 135.6333, 21.075, 82.1708, 7.25, 211.5, 4.0125, 7.775, 227.525, 15.7417, 7.925, 52.0, 7.8958, 73.5, 46.9, 13.0, 7.7292, 12.0, 120.0, 7.7958, 7.925, 113.275, 16.7, 7.7958, 7.8542, 26.0, 10.5, 12.65, 7.925, 8.05, 9.825, 15.85, 8.6625, 21.0, 7.75, 18.75, 7.775, 25.4667, 7.8958, 6.8583, 90.0, 0.0, 7.925, 8.05, 32.5, 13.0, 13.0, 24.15, 7.7333, 7.875, 14.4, 20.2125, 7.25, 26.0, 26.0, 7.75, 8.05, 26.55, 16.1, 26.0, 7.125, 55.9, 120.0, 34.375, 18.75, 263.0, 10.5, 26.25, 9.5, 7.775, 13.0, 8.1125, 81.8583, 19.5, 26.55, 19.2583, 30.5, 27.75, 19.9667, 27.75, 89.1042, 8.05, 7.8958, 26.55, 51.8625, 10.5, 7.75, 26.55, 8.05, 38.5, 13.0, 8.05, 7.05, 0.0, 26.55, 7.725, 19.2583, 7.25, 8.6625, 27.75, 13.7917, 9.8375, 52.0, 21.0, 7.0458, 7.5208, 12.2875, 46.9, 0.0, 8.05, 9.5875, 91.0792, 25.4667, 90.0, 29.7, 8.05, 15.9, 19.9667, 7.25, 30.5, 49.5042, 8.05, 14.4583, 78.2667, 15.1, 151.55, 7.7958, 8.6625, 7.75, 7.6292, 9.5875, 86.5, 108.9, 26.0, 26.55, 22.525, 56.4958, 7.75, 8.05, 26.2875, 59.4, 7.4958, 34.0208, 10.5, 24.15, 26.0, 7.8958, 93.5, 7.8958, 7.225, 57.9792, 7.2292, 7.75, 10.5, 221.7792, 7.925, 11.5, 26.0, 7.2292, 7.2292, 22.3583, 8.6625, 26.25, 26.55, 106.425, 14.5, 49.5, 71.0, 31.275, 31.275, 26.0, 106.425, 26.0, 26.0, 13.8625, 20.525, 36.75, 110.8833, 26.0, 7.8292, 7.225, 7.775, 26.55, 39.6, 227.525, 79.65, 17.4, 7.75, 7.8958, 13.5, 8.05, 8.05, 24.15, 7.8958, 21.075, 7.2292, 7.8542, 10.5, 51.4792, 26.3875, 7.75, 8.05, 14.5, 13.0, 55.9, 14.4583, 7.925, 30.0, 110.8833, 26.0, 40.125, 8.7125, 79.65, 15.0, 79.2, 8.05, 8.05, 7.125, 78.2667, 7.25, 7.75, 26.0, 24.15, 33.0, 0.0, 7.225, 56.9292, 27.0, 7.8958, 42.4, 8.05, 26.55, 15.55, 7.8958, 30.5, 41.5792, 153.4625, 31.275, 7.05, 15.5, 7.75, 8.05, 65.0, 14.4, 16.1, 39.0, 10.5, 14.4542, 52.5542, 15.7417, 7.8542, 16.1, 32.3208, 12.35, 77.9583, 7.8958, 7.7333, 30.0, 7.0542, 30.5, 0.0, 27.9, 13.0, 7.925, 26.25, 39.6875, 16.1, 7.8542, 69.3, 27.9, 56.4958, 19.2583, 76.7292, 7.8958, 35.5, 7.55, 7.55, 7.8958, 23.0, 8.4333, 7.8292, 6.75, 73.5, 7.8958, 15.5, 13.0, 113.275, 133.65, 7.225, 25.5875, 7.4958, 7.925, 73.5, 13.0, 7.775, 8.05, 52.0, 39.0, 52.0, 10.5, 13.0, 0.0, 7.775, 8.05, 9.8417, 46.9, 512.3292, 8.1375, 76.7292, 9.225, 46.9, 39.0, 41.5792, 39.6875, 10.1708, 7.7958, 211.3375, 57.0, 13.4167, 56.4958, 7.225, 26.55, 13.5, 8.05, 7.7333, 110.8833, 7.65, 227.525, 26.2875, 14.4542, 7.7417, 7.8542, 26.0, 13.5, 26.2875, 151.55, 15.2458, 49.5042, 26.55, 52.0, 9.4833, 13.0, 7.65, 227.525, 10.5, 7.775, 33.0, 7.0542, 13.0, 13.0, 53.1, 8.6625, 21.0, 7.7375, 26.0, 7.925, 211.3375, 18.7875, 0.0, 13.0, 13.0, 16.1, 34.375, 512.3292, 7.8958, 7.8958, 30.0, 78.85, 262.375, 16.1, 7.925, 71.0, 20.25, 13.0, 53.1, 7.75, 23.0, 12.475, 9.5, 7.8958, 65.0, 14.5, 7.7958, 11.5, 8.05, 86.5, 14.5, 7.125, 7.2292, 120.0, 7.775, 77.9583, 39.6, 7.75, 24.15, 8.3625, 9.5, 7.8542, 10.5, 7.225, 23.0, 7.75, 7.75, 12.475, 7.7375, 211.3375, 7.2292, 57.0, 30.0, 23.45, 7.05, 7.25, 7.4958, 29.125, 20.575, 79.2, 7.75, 26.0, 69.55, 30.6958, 7.8958, 13.0, 25.9292, 8.6833, 7.2292, 24.15, 13.0, 26.25, 120.0, 8.5167, 6.975, 7.775, 0.0, 7.775, 13.0, 53.1, 7.8875, 24.15, 10.5, 31.275, 8.05, 0.0, 7.925, 37.0042, 6.45, 27.9, 93.5, 8.6625, 0.0, 12.475, 39.6875, 6.95, 56.4958, 37.0042, 7.75, 80.0, 14.4542, 18.75, 7.2292, 7.8542, 8.3, 83.1583, 8.6625, 8.05, 56.4958, 29.7, 7.925, 10.5, 31.0, 6.4375, 8.6625, 7.55, 69.55, 7.8958, 33.0, 89.1042, 31.275, 7.775, 15.2458, 39.4, 26.0, 9.35, 164.8667, 26.55, 19.2583, 7.2292, 14.1083, 11.5, 25.9292, 69.55, 13.0, 13.0, 13.8583, 50.4958, 9.5, 11.1333, 7.8958, 52.5542, 5.0, 9.0, 24.0, 7.225, 9.8458, 7.8958, 7.8958, 83.1583, 26.0, 7.8958, 10.5167, 10.5, 7.05, 29.125, 13.0, 30.0, 23.45, 30.0, 7.75]}], \"hoverlabel\": {\"namelength\": 0}, \"hovertemplate\": \"%{xaxis.title.text}=%{x}<br>%{yaxis.title.text}=%{y}\", \"legendgroup\": \"\", \"marker\": {\"color\": \"#636efa\", \"symbol\": \"circle\"}, \"name\": \"\", \"showlegend\": false, \"type\": \"splom\"}],\n",
              "                        {\"dragmode\": \"select\", \"height\": 1500, \"legend\": {\"tracegroupgap\": 0}, \"margin\": {\"t\": 60}, \"template\": {\"data\": {\"bar\": [{\"error_x\": {\"color\": \"#2a3f5f\"}, \"error_y\": {\"color\": \"#2a3f5f\"}, \"marker\": {\"line\": {\"color\": \"#E5ECF6\", \"width\": 0.5}}, \"type\": \"bar\"}], \"barpolar\": [{\"marker\": {\"line\": {\"color\": \"#E5ECF6\", \"width\": 0.5}}, \"type\": \"barpolar\"}], \"carpet\": [{\"aaxis\": {\"endlinecolor\": \"#2a3f5f\", \"gridcolor\": \"white\", \"linecolor\": \"white\", \"minorgridcolor\": \"white\", \"startlinecolor\": \"#2a3f5f\"}, \"baxis\": {\"endlinecolor\": \"#2a3f5f\", \"gridcolor\": \"white\", \"linecolor\": \"white\", \"minorgridcolor\": \"white\", \"startlinecolor\": \"#2a3f5f\"}, \"type\": \"carpet\"}], \"choropleth\": [{\"colorbar\": {\"outlinewidth\": 0, \"ticks\": \"\"}, \"type\": \"choropleth\"}], \"contour\": [{\"colorbar\": {\"outlinewidth\": 0, \"ticks\": \"\"}, \"colorscale\": [[0.0, \"#0d0887\"], [0.1111111111111111, \"#46039f\"], [0.2222222222222222, \"#7201a8\"], [0.3333333333333333, \"#9c179e\"], [0.4444444444444444, \"#bd3786\"], [0.5555555555555556, \"#d8576b\"], [0.6666666666666666, \"#ed7953\"], [0.7777777777777778, \"#fb9f3a\"], [0.8888888888888888, \"#fdca26\"], [1.0, \"#f0f921\"]], \"type\": \"contour\"}], \"contourcarpet\": [{\"colorbar\": {\"outlinewidth\": 0, \"ticks\": \"\"}, \"type\": \"contourcarpet\"}], \"heatmap\": [{\"colorbar\": {\"outlinewidth\": 0, \"ticks\": \"\"}, \"colorscale\": [[0.0, \"#0d0887\"], [0.1111111111111111, \"#46039f\"], [0.2222222222222222, \"#7201a8\"], [0.3333333333333333, \"#9c179e\"], [0.4444444444444444, \"#bd3786\"], [0.5555555555555556, \"#d8576b\"], [0.6666666666666666, \"#ed7953\"], [0.7777777777777778, \"#fb9f3a\"], [0.8888888888888888, \"#fdca26\"], [1.0, \"#f0f921\"]], \"type\": \"heatmap\"}], \"heatmapgl\": [{\"colorbar\": {\"outlinewidth\": 0, \"ticks\": \"\"}, \"colorscale\": [[0.0, \"#0d0887\"], [0.1111111111111111, \"#46039f\"], [0.2222222222222222, \"#7201a8\"], [0.3333333333333333, \"#9c179e\"], [0.4444444444444444, \"#bd3786\"], [0.5555555555555556, \"#d8576b\"], [0.6666666666666666, \"#ed7953\"], [0.7777777777777778, \"#fb9f3a\"], [0.8888888888888888, \"#fdca26\"], [1.0, \"#f0f921\"]], \"type\": \"heatmapgl\"}], \"histogram\": [{\"marker\": {\"colorbar\": {\"outlinewidth\": 0, \"ticks\": \"\"}}, \"type\": \"histogram\"}], \"histogram2d\": [{\"colorbar\": {\"outlinewidth\": 0, \"ticks\": \"\"}, \"colorscale\": [[0.0, \"#0d0887\"], [0.1111111111111111, \"#46039f\"], [0.2222222222222222, \"#7201a8\"], [0.3333333333333333, \"#9c179e\"], [0.4444444444444444, \"#bd3786\"], [0.5555555555555556, \"#d8576b\"], [0.6666666666666666, \"#ed7953\"], [0.7777777777777778, \"#fb9f3a\"], [0.8888888888888888, \"#fdca26\"], [1.0, \"#f0f921\"]], \"type\": \"histogram2d\"}], \"histogram2dcontour\": [{\"colorbar\": {\"outlinewidth\": 0, \"ticks\": \"\"}, \"colorscale\": [[0.0, \"#0d0887\"], [0.1111111111111111, \"#46039f\"], [0.2222222222222222, \"#7201a8\"], [0.3333333333333333, \"#9c179e\"], [0.4444444444444444, \"#bd3786\"], [0.5555555555555556, \"#d8576b\"], [0.6666666666666666, \"#ed7953\"], [0.7777777777777778, \"#fb9f3a\"], [0.8888888888888888, \"#fdca26\"], [1.0, \"#f0f921\"]], \"type\": \"histogram2dcontour\"}], \"mesh3d\": [{\"colorbar\": {\"outlinewidth\": 0, \"ticks\": \"\"}, \"type\": \"mesh3d\"}], \"parcoords\": [{\"line\": {\"colorbar\": {\"outlinewidth\": 0, \"ticks\": \"\"}}, \"type\": \"parcoords\"}], \"pie\": [{\"automargin\": true, \"type\": \"pie\"}], \"scatter\": [{\"marker\": {\"colorbar\": {\"outlinewidth\": 0, \"ticks\": \"\"}}, \"type\": \"scatter\"}], \"scatter3d\": [{\"line\": {\"colorbar\": {\"outlinewidth\": 0, \"ticks\": \"\"}}, \"marker\": {\"colorbar\": {\"outlinewidth\": 0, \"ticks\": \"\"}}, \"type\": \"scatter3d\"}], \"scattercarpet\": [{\"marker\": {\"colorbar\": {\"outlinewidth\": 0, \"ticks\": \"\"}}, \"type\": \"scattercarpet\"}], \"scattergeo\": [{\"marker\": {\"colorbar\": {\"outlinewidth\": 0, \"ticks\": \"\"}}, \"type\": \"scattergeo\"}], \"scattergl\": [{\"marker\": {\"colorbar\": {\"outlinewidth\": 0, \"ticks\": \"\"}}, \"type\": \"scattergl\"}], \"scattermapbox\": [{\"marker\": {\"colorbar\": {\"outlinewidth\": 0, \"ticks\": \"\"}}, \"type\": \"scattermapbox\"}], \"scatterpolar\": [{\"marker\": {\"colorbar\": {\"outlinewidth\": 0, \"ticks\": \"\"}}, \"type\": \"scatterpolar\"}], \"scatterpolargl\": [{\"marker\": {\"colorbar\": {\"outlinewidth\": 0, \"ticks\": \"\"}}, \"type\": \"scatterpolargl\"}], \"scatterternary\": [{\"marker\": {\"colorbar\": {\"outlinewidth\": 0, \"ticks\": \"\"}}, \"type\": \"scatterternary\"}], \"surface\": [{\"colorbar\": {\"outlinewidth\": 0, \"ticks\": \"\"}, \"colorscale\": [[0.0, \"#0d0887\"], [0.1111111111111111, \"#46039f\"], [0.2222222222222222, \"#7201a8\"], [0.3333333333333333, \"#9c179e\"], [0.4444444444444444, \"#bd3786\"], [0.5555555555555556, \"#d8576b\"], [0.6666666666666666, \"#ed7953\"], [0.7777777777777778, \"#fb9f3a\"], [0.8888888888888888, \"#fdca26\"], [1.0, \"#f0f921\"]], \"type\": \"surface\"}], \"table\": [{\"cells\": {\"fill\": {\"color\": \"#EBF0F8\"}, \"line\": {\"color\": \"white\"}}, \"header\": {\"fill\": {\"color\": \"#C8D4E3\"}, \"line\": {\"color\": \"white\"}}, \"type\": \"table\"}]}, \"layout\": {\"annotationdefaults\": {\"arrowcolor\": \"#2a3f5f\", \"arrowhead\": 0, \"arrowwidth\": 1}, \"coloraxis\": {\"colorbar\": {\"outlinewidth\": 0, \"ticks\": \"\"}}, \"colorscale\": {\"diverging\": [[0, \"#8e0152\"], [0.1, \"#c51b7d\"], [0.2, \"#de77ae\"], [0.3, \"#f1b6da\"], [0.4, \"#fde0ef\"], [0.5, \"#f7f7f7\"], [0.6, \"#e6f5d0\"], [0.7, \"#b8e186\"], [0.8, \"#7fbc41\"], [0.9, \"#4d9221\"], [1, \"#276419\"]], \"sequential\": [[0.0, \"#0d0887\"], [0.1111111111111111, \"#46039f\"], [0.2222222222222222, \"#7201a8\"], [0.3333333333333333, \"#9c179e\"], [0.4444444444444444, \"#bd3786\"], [0.5555555555555556, \"#d8576b\"], [0.6666666666666666, \"#ed7953\"], [0.7777777777777778, \"#fb9f3a\"], [0.8888888888888888, \"#fdca26\"], [1.0, \"#f0f921\"]], \"sequentialminus\": [[0.0, \"#0d0887\"], [0.1111111111111111, \"#46039f\"], [0.2222222222222222, \"#7201a8\"], [0.3333333333333333, \"#9c179e\"], [0.4444444444444444, \"#bd3786\"], [0.5555555555555556, \"#d8576b\"], [0.6666666666666666, \"#ed7953\"], [0.7777777777777778, \"#fb9f3a\"], [0.8888888888888888, \"#fdca26\"], [1.0, \"#f0f921\"]]}, \"colorway\": [\"#636efa\", \"#EF553B\", \"#00cc96\", \"#ab63fa\", \"#FFA15A\", \"#19d3f3\", \"#FF6692\", \"#B6E880\", \"#FF97FF\", \"#FECB52\"], \"font\": {\"color\": \"#2a3f5f\"}, \"geo\": {\"bgcolor\": \"white\", \"lakecolor\": \"white\", \"landcolor\": \"#E5ECF6\", \"showlakes\": true, \"showland\": true, \"subunitcolor\": \"white\"}, \"hoverlabel\": {\"align\": \"left\"}, \"hovermode\": \"closest\", \"mapbox\": {\"style\": \"light\"}, \"paper_bgcolor\": \"white\", \"plot_bgcolor\": \"#E5ECF6\", \"polar\": {\"angularaxis\": {\"gridcolor\": \"white\", \"linecolor\": \"white\", \"ticks\": \"\"}, \"bgcolor\": \"#E5ECF6\", \"radialaxis\": {\"gridcolor\": \"white\", \"linecolor\": \"white\", \"ticks\": \"\"}}, \"scene\": {\"xaxis\": {\"backgroundcolor\": \"#E5ECF6\", \"gridcolor\": \"white\", \"gridwidth\": 2, \"linecolor\": \"white\", \"showbackground\": true, \"ticks\": \"\", \"zerolinecolor\": \"white\"}, \"yaxis\": {\"backgroundcolor\": \"#E5ECF6\", \"gridcolor\": \"white\", \"gridwidth\": 2, \"linecolor\": \"white\", \"showbackground\": true, \"ticks\": \"\", \"zerolinecolor\": \"white\"}, \"zaxis\": {\"backgroundcolor\": \"#E5ECF6\", \"gridcolor\": \"white\", \"gridwidth\": 2, \"linecolor\": \"white\", \"showbackground\": true, \"ticks\": \"\", \"zerolinecolor\": \"white\"}}, \"shapedefaults\": {\"line\": {\"color\": \"#2a3f5f\"}}, \"ternary\": {\"aaxis\": {\"gridcolor\": \"white\", \"linecolor\": \"white\", \"ticks\": \"\"}, \"baxis\": {\"gridcolor\": \"white\", \"linecolor\": \"white\", \"ticks\": \"\"}, \"bgcolor\": \"#E5ECF6\", \"caxis\": {\"gridcolor\": \"white\", \"linecolor\": \"white\", \"ticks\": \"\"}}, \"title\": {\"x\": 0.05}, \"xaxis\": {\"automargin\": true, \"gridcolor\": \"white\", \"linecolor\": \"white\", \"ticks\": \"\", \"title\": {\"standoff\": 15}, \"zerolinecolor\": \"white\", \"zerolinewidth\": 2}, \"yaxis\": {\"automargin\": true, \"gridcolor\": \"white\", \"linecolor\": \"white\", \"ticks\": \"\", \"title\": {\"standoff\": 15}, \"zerolinecolor\": \"white\", \"zerolinewidth\": 2}}}, \"width\": 1500},\n",
              "                        {\"responsive\": true}\n",
              "                    ).then(function(){\n",
              "                            \n",
              "var gd = document.getElementById('e354dda4-ca48-484f-a3db-ed5e365294a7');\n",
              "var x = new MutationObserver(function (mutations, observer) {{\n",
              "        var display = window.getComputedStyle(gd).display;\n",
              "        if (!display || display === 'none') {{\n",
              "            console.log([gd, 'removed!']);\n",
              "            Plotly.purge(gd);\n",
              "            observer.disconnect();\n",
              "        }}\n",
              "}});\n",
              "\n",
              "// Listen for the removal of the full notebook cells\n",
              "var notebookContainer = gd.closest('#notebook-container');\n",
              "if (notebookContainer) {{\n",
              "    x.observe(notebookContainer, {childList: true});\n",
              "}}\n",
              "\n",
              "// Listen for the clearing of the current output cell\n",
              "var outputEl = gd.closest('.output');\n",
              "if (outputEl) {{\n",
              "    x.observe(outputEl, {childList: true});\n",
              "}}\n",
              "\n",
              "                        })\n",
              "                };\n",
              "                \n",
              "            </script>\n",
              "        </div>\n",
              "</body>\n",
              "</html>"
            ]
          },
          "metadata": {}
        }
      ]
    },
    {
      "cell_type": "code",
      "metadata": {
        "colab": {
          "base_uri": "https://localhost:8080/",
          "height": 916
        },
        "id": "tSTUgFph--Mc",
        "outputId": "9bcc155b-7229-4dc3-f5ff-938406501099"
      },
      "source": [
        "corr = df_titanic.corr()\n",
        "\n",
        "fig = go.Figure()\n",
        "\n",
        "fig.add_trace(go.Heatmap(\n",
        "    z = corr,\n",
        "    x = corr.columns.values,\n",
        "    y = corr.columns.values,\n",
        "    colorscale = px.colors.diverging.RdBu,\n",
        "    zmid=0\n",
        "))\n",
        "\n",
        "fig.update_layout(width=1000, height=900)\n",
        "fig.show()"
      ],
      "execution_count": null,
      "outputs": [
        {
          "output_type": "display_data",
          "data": {
            "text/html": [
              "<html>\n",
              "<head><meta charset=\"utf-8\" /></head>\n",
              "<body>\n",
              "    <div>\n",
              "            <script src=\"https://cdnjs.cloudflare.com/ajax/libs/mathjax/2.7.5/MathJax.js?config=TeX-AMS-MML_SVG\"></script><script type=\"text/javascript\">if (window.MathJax) {MathJax.Hub.Config({SVG: {font: \"STIX-Web\"}});}</script>\n",
              "                <script type=\"text/javascript\">window.PlotlyConfig = {MathJaxConfig: 'local'};</script>\n",
              "        <script src=\"https://cdn.plot.ly/plotly-latest.min.js\"></script>    \n",
              "            <div id=\"1f087a44-be16-42a7-aa97-8e03596fae07\" class=\"plotly-graph-div\" style=\"height:900px; width:1000px;\"></div>\n",
              "            <script type=\"text/javascript\">\n",
              "                \n",
              "                    window.PLOTLYENV=window.PLOTLYENV || {};\n",
              "                    \n",
              "                if (document.getElementById(\"1f087a44-be16-42a7-aa97-8e03596fae07\")) {\n",
              "                    Plotly.newPlot(\n",
              "                        '1f087a44-be16-42a7-aa97-8e03596fae07',\n",
              "                        [{\"colorscale\": [[0.0, \"rgb(103,0,31)\"], [0.1, \"rgb(178,24,43)\"], [0.2, \"rgb(214,96,77)\"], [0.3, \"rgb(244,165,130)\"], [0.4, \"rgb(253,219,199)\"], [0.5, \"rgb(247,247,247)\"], [0.6, \"rgb(209,229,240)\"], [0.7, \"rgb(146,197,222)\"], [0.8, \"rgb(67,147,195)\"], [0.9, \"rgb(33,102,172)\"], [1.0, \"rgb(5,48,97)\"]], \"type\": \"heatmap\", \"x\": [\"Pclass\", \"Age\", \"Siblings/Spouses Aboard\", \"Parents/Children Aboard\", \"Fare\"], \"y\": [\"Pclass\", \"Age\", \"Siblings/Spouses Aboard\", \"Parents/Children Aboard\", \"Fare\"], \"z\": [[1.0, -0.39149161273824185, 0.08502641024038968, 0.020251522235368788, -0.548919355485447], [-0.39149161273824185, 1.0, -0.2976692313857079, -0.19374110105650635, 0.11232863699941621], [0.08502641024038968, -0.2976692313857079, 1.0, 0.4142439407051789, 0.15883935829132342], [0.020251522235368788, -0.19374110105650635, 0.4142439407051789, 1.0, 0.21547003157589198], [-0.548919355485447, 0.11232863699941621, 0.15883935829132342, 0.21547003157589198, 1.0]], \"zmid\": 0}],\n",
              "                        {\"height\": 900, \"template\": {\"data\": {\"bar\": [{\"error_x\": {\"color\": \"#2a3f5f\"}, \"error_y\": {\"color\": \"#2a3f5f\"}, \"marker\": {\"line\": {\"color\": \"#E5ECF6\", \"width\": 0.5}}, \"type\": \"bar\"}], \"barpolar\": [{\"marker\": {\"line\": {\"color\": \"#E5ECF6\", \"width\": 0.5}}, \"type\": \"barpolar\"}], \"carpet\": [{\"aaxis\": {\"endlinecolor\": \"#2a3f5f\", \"gridcolor\": \"white\", \"linecolor\": \"white\", \"minorgridcolor\": \"white\", \"startlinecolor\": \"#2a3f5f\"}, \"baxis\": {\"endlinecolor\": \"#2a3f5f\", \"gridcolor\": \"white\", \"linecolor\": \"white\", \"minorgridcolor\": \"white\", \"startlinecolor\": \"#2a3f5f\"}, \"type\": \"carpet\"}], \"choropleth\": [{\"colorbar\": {\"outlinewidth\": 0, \"ticks\": \"\"}, \"type\": \"choropleth\"}], \"contour\": [{\"colorbar\": {\"outlinewidth\": 0, \"ticks\": \"\"}, \"colorscale\": [[0.0, \"#0d0887\"], [0.1111111111111111, \"#46039f\"], [0.2222222222222222, \"#7201a8\"], [0.3333333333333333, \"#9c179e\"], [0.4444444444444444, \"#bd3786\"], [0.5555555555555556, \"#d8576b\"], [0.6666666666666666, \"#ed7953\"], [0.7777777777777778, \"#fb9f3a\"], [0.8888888888888888, \"#fdca26\"], [1.0, \"#f0f921\"]], \"type\": \"contour\"}], \"contourcarpet\": [{\"colorbar\": {\"outlinewidth\": 0, \"ticks\": \"\"}, \"type\": \"contourcarpet\"}], \"heatmap\": [{\"colorbar\": {\"outlinewidth\": 0, \"ticks\": \"\"}, \"colorscale\": [[0.0, \"#0d0887\"], [0.1111111111111111, \"#46039f\"], [0.2222222222222222, \"#7201a8\"], [0.3333333333333333, \"#9c179e\"], [0.4444444444444444, \"#bd3786\"], [0.5555555555555556, \"#d8576b\"], [0.6666666666666666, \"#ed7953\"], [0.7777777777777778, \"#fb9f3a\"], [0.8888888888888888, \"#fdca26\"], [1.0, \"#f0f921\"]], \"type\": \"heatmap\"}], \"heatmapgl\": [{\"colorbar\": {\"outlinewidth\": 0, \"ticks\": \"\"}, \"colorscale\": [[0.0, \"#0d0887\"], [0.1111111111111111, \"#46039f\"], [0.2222222222222222, \"#7201a8\"], [0.3333333333333333, \"#9c179e\"], [0.4444444444444444, \"#bd3786\"], [0.5555555555555556, \"#d8576b\"], [0.6666666666666666, \"#ed7953\"], [0.7777777777777778, \"#fb9f3a\"], [0.8888888888888888, \"#fdca26\"], [1.0, \"#f0f921\"]], \"type\": \"heatmapgl\"}], \"histogram\": [{\"marker\": {\"colorbar\": {\"outlinewidth\": 0, \"ticks\": \"\"}}, \"type\": \"histogram\"}], \"histogram2d\": [{\"colorbar\": {\"outlinewidth\": 0, \"ticks\": \"\"}, \"colorscale\": [[0.0, \"#0d0887\"], [0.1111111111111111, \"#46039f\"], [0.2222222222222222, \"#7201a8\"], [0.3333333333333333, \"#9c179e\"], [0.4444444444444444, \"#bd3786\"], [0.5555555555555556, \"#d8576b\"], [0.6666666666666666, \"#ed7953\"], [0.7777777777777778, \"#fb9f3a\"], [0.8888888888888888, \"#fdca26\"], [1.0, \"#f0f921\"]], \"type\": \"histogram2d\"}], \"histogram2dcontour\": [{\"colorbar\": {\"outlinewidth\": 0, \"ticks\": \"\"}, \"colorscale\": [[0.0, \"#0d0887\"], [0.1111111111111111, \"#46039f\"], [0.2222222222222222, \"#7201a8\"], [0.3333333333333333, \"#9c179e\"], [0.4444444444444444, \"#bd3786\"], [0.5555555555555556, \"#d8576b\"], [0.6666666666666666, \"#ed7953\"], [0.7777777777777778, \"#fb9f3a\"], [0.8888888888888888, \"#fdca26\"], [1.0, \"#f0f921\"]], \"type\": \"histogram2dcontour\"}], \"mesh3d\": [{\"colorbar\": {\"outlinewidth\": 0, \"ticks\": \"\"}, \"type\": \"mesh3d\"}], \"parcoords\": [{\"line\": {\"colorbar\": {\"outlinewidth\": 0, \"ticks\": \"\"}}, \"type\": \"parcoords\"}], \"pie\": [{\"automargin\": true, \"type\": \"pie\"}], \"scatter\": [{\"marker\": {\"colorbar\": {\"outlinewidth\": 0, \"ticks\": \"\"}}, \"type\": \"scatter\"}], \"scatter3d\": [{\"line\": {\"colorbar\": {\"outlinewidth\": 0, \"ticks\": \"\"}}, \"marker\": {\"colorbar\": {\"outlinewidth\": 0, \"ticks\": \"\"}}, \"type\": \"scatter3d\"}], \"scattercarpet\": [{\"marker\": {\"colorbar\": {\"outlinewidth\": 0, \"ticks\": \"\"}}, \"type\": \"scattercarpet\"}], \"scattergeo\": [{\"marker\": {\"colorbar\": {\"outlinewidth\": 0, \"ticks\": \"\"}}, \"type\": \"scattergeo\"}], \"scattergl\": [{\"marker\": {\"colorbar\": {\"outlinewidth\": 0, \"ticks\": \"\"}}, \"type\": \"scattergl\"}], \"scattermapbox\": [{\"marker\": {\"colorbar\": {\"outlinewidth\": 0, \"ticks\": \"\"}}, \"type\": \"scattermapbox\"}], \"scatterpolar\": [{\"marker\": {\"colorbar\": {\"outlinewidth\": 0, \"ticks\": \"\"}}, \"type\": \"scatterpolar\"}], \"scatterpolargl\": [{\"marker\": {\"colorbar\": {\"outlinewidth\": 0, \"ticks\": \"\"}}, \"type\": \"scatterpolargl\"}], \"scatterternary\": [{\"marker\": {\"colorbar\": {\"outlinewidth\": 0, \"ticks\": \"\"}}, \"type\": \"scatterternary\"}], \"surface\": [{\"colorbar\": {\"outlinewidth\": 0, \"ticks\": \"\"}, \"colorscale\": [[0.0, \"#0d0887\"], [0.1111111111111111, \"#46039f\"], [0.2222222222222222, \"#7201a8\"], [0.3333333333333333, \"#9c179e\"], [0.4444444444444444, \"#bd3786\"], [0.5555555555555556, \"#d8576b\"], [0.6666666666666666, \"#ed7953\"], [0.7777777777777778, \"#fb9f3a\"], [0.8888888888888888, \"#fdca26\"], [1.0, \"#f0f921\"]], \"type\": \"surface\"}], \"table\": [{\"cells\": {\"fill\": {\"color\": \"#EBF0F8\"}, \"line\": {\"color\": \"white\"}}, \"header\": {\"fill\": {\"color\": \"#C8D4E3\"}, \"line\": {\"color\": \"white\"}}, \"type\": \"table\"}]}, \"layout\": {\"annotationdefaults\": {\"arrowcolor\": \"#2a3f5f\", \"arrowhead\": 0, \"arrowwidth\": 1}, \"coloraxis\": {\"colorbar\": {\"outlinewidth\": 0, \"ticks\": \"\"}}, \"colorscale\": {\"diverging\": [[0, \"#8e0152\"], [0.1, \"#c51b7d\"], [0.2, \"#de77ae\"], [0.3, \"#f1b6da\"], [0.4, \"#fde0ef\"], [0.5, \"#f7f7f7\"], [0.6, \"#e6f5d0\"], [0.7, \"#b8e186\"], [0.8, \"#7fbc41\"], [0.9, \"#4d9221\"], [1, \"#276419\"]], \"sequential\": [[0.0, \"#0d0887\"], [0.1111111111111111, \"#46039f\"], [0.2222222222222222, \"#7201a8\"], [0.3333333333333333, \"#9c179e\"], [0.4444444444444444, \"#bd3786\"], [0.5555555555555556, \"#d8576b\"], [0.6666666666666666, \"#ed7953\"], [0.7777777777777778, \"#fb9f3a\"], [0.8888888888888888, \"#fdca26\"], [1.0, \"#f0f921\"]], \"sequentialminus\": [[0.0, \"#0d0887\"], [0.1111111111111111, \"#46039f\"], [0.2222222222222222, \"#7201a8\"], [0.3333333333333333, \"#9c179e\"], [0.4444444444444444, \"#bd3786\"], [0.5555555555555556, \"#d8576b\"], [0.6666666666666666, \"#ed7953\"], [0.7777777777777778, \"#fb9f3a\"], [0.8888888888888888, \"#fdca26\"], [1.0, \"#f0f921\"]]}, \"colorway\": [\"#636efa\", \"#EF553B\", \"#00cc96\", \"#ab63fa\", \"#FFA15A\", \"#19d3f3\", \"#FF6692\", \"#B6E880\", \"#FF97FF\", \"#FECB52\"], \"font\": {\"color\": \"#2a3f5f\"}, \"geo\": {\"bgcolor\": \"white\", \"lakecolor\": \"white\", \"landcolor\": \"#E5ECF6\", \"showlakes\": true, \"showland\": true, \"subunitcolor\": \"white\"}, \"hoverlabel\": {\"align\": \"left\"}, \"hovermode\": \"closest\", \"mapbox\": {\"style\": \"light\"}, \"paper_bgcolor\": \"white\", \"plot_bgcolor\": \"#E5ECF6\", \"polar\": {\"angularaxis\": {\"gridcolor\": \"white\", \"linecolor\": \"white\", \"ticks\": \"\"}, \"bgcolor\": \"#E5ECF6\", \"radialaxis\": {\"gridcolor\": \"white\", \"linecolor\": \"white\", \"ticks\": \"\"}}, \"scene\": {\"xaxis\": {\"backgroundcolor\": \"#E5ECF6\", \"gridcolor\": \"white\", \"gridwidth\": 2, \"linecolor\": \"white\", \"showbackground\": true, \"ticks\": \"\", \"zerolinecolor\": \"white\"}, \"yaxis\": {\"backgroundcolor\": \"#E5ECF6\", \"gridcolor\": \"white\", \"gridwidth\": 2, \"linecolor\": \"white\", \"showbackground\": true, \"ticks\": \"\", \"zerolinecolor\": \"white\"}, \"zaxis\": {\"backgroundcolor\": \"#E5ECF6\", \"gridcolor\": \"white\", \"gridwidth\": 2, \"linecolor\": \"white\", \"showbackground\": true, \"ticks\": \"\", \"zerolinecolor\": \"white\"}}, \"shapedefaults\": {\"line\": {\"color\": \"#2a3f5f\"}}, \"ternary\": {\"aaxis\": {\"gridcolor\": \"white\", \"linecolor\": \"white\", \"ticks\": \"\"}, \"baxis\": {\"gridcolor\": \"white\", \"linecolor\": \"white\", \"ticks\": \"\"}, \"bgcolor\": \"#E5ECF6\", \"caxis\": {\"gridcolor\": \"white\", \"linecolor\": \"white\", \"ticks\": \"\"}}, \"title\": {\"x\": 0.05}, \"xaxis\": {\"automargin\": true, \"gridcolor\": \"white\", \"linecolor\": \"white\", \"ticks\": \"\", \"title\": {\"standoff\": 15}, \"zerolinecolor\": \"white\", \"zerolinewidth\": 2}, \"yaxis\": {\"automargin\": true, \"gridcolor\": \"white\", \"linecolor\": \"white\", \"ticks\": \"\", \"title\": {\"standoff\": 15}, \"zerolinecolor\": \"white\", \"zerolinewidth\": 2}}}, \"width\": 1000},\n",
              "                        {\"responsive\": true}\n",
              "                    ).then(function(){\n",
              "                            \n",
              "var gd = document.getElementById('1f087a44-be16-42a7-aa97-8e03596fae07');\n",
              "var x = new MutationObserver(function (mutations, observer) {{\n",
              "        var display = window.getComputedStyle(gd).display;\n",
              "        if (!display || display === 'none') {{\n",
              "            console.log([gd, 'removed!']);\n",
              "            Plotly.purge(gd);\n",
              "            observer.disconnect();\n",
              "        }}\n",
              "}});\n",
              "\n",
              "// Listen for the removal of the full notebook cells\n",
              "var notebookContainer = gd.closest('#notebook-container');\n",
              "if (notebookContainer) {{\n",
              "    x.observe(notebookContainer, {childList: true});\n",
              "}}\n",
              "\n",
              "// Listen for the clearing of the current output cell\n",
              "var outputEl = gd.closest('.output');\n",
              "if (outputEl) {{\n",
              "    x.observe(outputEl, {childList: true});\n",
              "}}\n",
              "\n",
              "                        })\n",
              "                };\n",
              "                \n",
              "            </script>\n",
              "        </div>\n",
              "</body>\n",
              "</html>"
            ]
          },
          "metadata": {}
        }
      ]
    },
    {
      "cell_type": "code",
      "metadata": {
        "colab": {
          "base_uri": "https://localhost:8080/",
          "height": 716
        },
        "id": "Lz7eisCA_OX_",
        "outputId": "d3f4a216-bd46-4b82-f28b-dd828a1804f1"
      },
      "source": [
        "fig = make_subplots(rows=1, cols=2, subplot_titles=(\"Fare versus Pclass\", \"Fare versus Age\"))\n",
        "\n",
        "fig.add_trace(go.Box(x = df_titanic[\"Pclass\"], y=df_titanic[\"Fare\"]),\n",
        "              row=1, col=1)\n",
        "\n",
        "fig.add_trace(go.Box(x = df_titanic[\"Age\"], y=df_titanic[\"Fare\"]),\n",
        "              row=1, col=2)\n",
        "\n",
        "fig.update_layout(autosize=False, template='plotly_dark', width = 1500, height = 700, showlegend=False)\n",
        "\n",
        "fig.update_xaxes(title_text=\"Pclass\", row=1, col=1)\n",
        "fig.update_yaxes(title_text=\"Fare\", row=1, col=1)\n",
        "\n",
        "fig.update_xaxes(title_text=\"Age\", row=1, col=2)\n",
        "fig.update_yaxes(title_text=\"Fare\", row=1, col=2)\n",
        "\n",
        "fig.show()"
      ],
      "execution_count": null,
      "outputs": [
        {
          "output_type": "display_data",
          "data": {
            "text/html": [
              "<html>\n",
              "<head><meta charset=\"utf-8\" /></head>\n",
              "<body>\n",
              "    <div>\n",
              "            <script src=\"https://cdnjs.cloudflare.com/ajax/libs/mathjax/2.7.5/MathJax.js?config=TeX-AMS-MML_SVG\"></script><script type=\"text/javascript\">if (window.MathJax) {MathJax.Hub.Config({SVG: {font: \"STIX-Web\"}});}</script>\n",
              "                <script type=\"text/javascript\">window.PlotlyConfig = {MathJaxConfig: 'local'};</script>\n",
              "        <script src=\"https://cdn.plot.ly/plotly-latest.min.js\"></script>    \n",
              "            <div id=\"273089be-57d1-4650-8452-04f496b7e3a0\" class=\"plotly-graph-div\" style=\"height:700px; width:1500px;\"></div>\n",
              "            <script type=\"text/javascript\">\n",
              "                \n",
              "                    window.PLOTLYENV=window.PLOTLYENV || {};\n",
              "                    \n",
              "                if (document.getElementById(\"273089be-57d1-4650-8452-04f496b7e3a0\")) {\n",
              "                    Plotly.newPlot(\n",
              "                        '273089be-57d1-4650-8452-04f496b7e3a0',\n",
              "                        [{\"type\": \"box\", \"x\": [3, 1, 3, 1, 3, 3, 1, 3, 3, 2, 3, 1, 3, 3, 3, 2, 3, 2, 3, 3, 2, 2, 3, 1, 3, 3, 3, 1, 3, 3, 1, 1, 3, 2, 1, 1, 3, 3, 3, 3, 3, 2, 2, 3, 3, 3, 3, 3, 3, 3, 3, 1, 2, 1, 1, 2, 3, 2, 3, 3, 1, 1, 3, 1, 3, 2, 3, 3, 3, 2, 3, 2, 3, 3, 3, 3, 3, 2, 3, 3, 3, 3, 1, 2, 3, 3, 3, 1, 3, 3, 3, 1, 3, 3, 3, 1, 1, 2, 2, 3, 3, 1, 3, 3, 3, 3, 3, 3, 3, 1, 3, 3, 3, 3, 3, 3, 2, 1, 3, 2, 3, 2, 2, 1, 3, 3, 3, 3, 3, 3, 3, 3, 2, 2, 2, 1, 1, 3, 1, 3, 3, 3, 3, 2, 2, 3, 3, 2, 2, 2, 1, 3, 3, 3, 1, 3, 3, 3, 3, 3, 2, 3, 3, 3, 3, 1, 3, 1, 3, 1, 3, 3, 3, 1, 3, 3, 1, 2, 3, 3, 2, 3, 2, 3, 1, 3, 1, 3, 3, 2, 2, 3, 2, 1, 1, 3, 3, 3, 2, 3, 3, 3, 3, 3, 3, 3, 3, 3, 1, 3, 2, 3, 2, 3, 1, 3, 2, 1, 2, 3, 2, 3, 3, 1, 3, 2, 3, 2, 3, 1, 3, 2, 3, 2, 3, 2, 2, 2, 2, 3, 3, 2, 3, 3, 1, 3, 2, 1, 2, 3, 3, 1, 3, 3, 3, 1, 1, 1, 2, 3, 1, 1, 3, 2, 3, 3, 1, 1, 1, 3, 2, 1, 3, 1, 3, 2, 3, 3, 3, 3, 3, 3, 1, 3, 3, 3, 2, 3, 1, 1, 2, 3, 3, 1, 3, 1, 1, 1, 3, 3, 3, 2, 3, 1, 1, 1, 2, 1, 1, 1, 2, 3, 2, 3, 2, 2, 1, 1, 3, 3, 2, 2, 3, 1, 3, 2, 3, 1, 3, 1, 1, 3, 1, 3, 1, 1, 3, 1, 2, 1, 2, 2, 2, 2, 2, 3, 3, 3, 3, 1, 3, 3, 3, 3, 1, 2, 3, 3, 3, 2, 3, 3, 3, 3, 1, 3, 3, 1, 1, 3, 3, 1, 3, 1, 3, 1, 3, 3, 1, 3, 3, 1, 3, 2, 3, 2, 3, 2, 1, 3, 3, 1, 3, 3, 3, 2, 2, 2, 3, 3, 3, 3, 3, 2, 3, 2, 3, 3, 3, 3, 1, 2, 3, 3, 2, 2, 2, 3, 3, 3, 3, 3, 3, 2, 2, 3, 3, 1, 3, 2, 3, 1, 1, 3, 2, 1, 2, 2, 3, 3, 2, 3, 1, 2, 1, 3, 1, 2, 3, 1, 1, 3, 3, 1, 1, 2, 3, 1, 3, 1, 2, 3, 3, 2, 1, 3, 3, 3, 3, 2, 2, 3, 1, 2, 3, 3, 3, 3, 2, 3, 3, 1, 3, 1, 1, 3, 3, 3, 3, 1, 1, 3, 3, 1, 3, 1, 3, 3, 3, 3, 3, 1, 1, 2, 1, 3, 3, 3, 3, 1, 1, 3, 1, 2, 3, 2, 3, 1, 3, 3, 1, 3, 3, 2, 1, 3, 2, 2, 3, 3, 3, 3, 2, 1, 1, 3, 1, 1, 3, 3, 2, 1, 1, 2, 2, 3, 2, 1, 2, 3, 3, 3, 1, 1, 1, 1, 3, 3, 3, 2, 3, 3, 3, 3, 3, 3, 3, 2, 1, 1, 3, 3, 3, 2, 1, 3, 3, 2, 1, 2, 1, 3, 1, 2, 1, 3, 3, 3, 1, 3, 3, 2, 3, 2, 3, 3, 1, 2, 3, 1, 3, 1, 3, 3, 1, 2, 1, 3, 3, 3, 3, 3, 2, 3, 3, 2, 2, 3, 1, 3, 3, 3, 1, 2, 1, 3, 3, 1, 3, 1, 1, 3, 2, 3, 2, 3, 3, 3, 1, 3, 3, 3, 1, 3, 1, 3, 3, 3, 2, 3, 3, 3, 2, 3, 3, 2, 1, 1, 3, 1, 3, 3, 2, 2, 3, 3, 1, 2, 1, 2, 2, 2, 3, 3, 3, 3, 1, 3, 1, 3, 3, 2, 2, 3, 3, 3, 1, 1, 3, 3, 3, 1, 2, 3, 3, 1, 3, 1, 1, 3, 3, 3, 2, 2, 1, 1, 3, 1, 1, 1, 3, 2, 3, 1, 2, 3, 2, 3, 2, 2, 1, 3, 2, 3, 2, 3, 1, 3, 2, 2, 2, 3, 3, 1, 3, 3, 1, 1, 1, 3, 3, 1, 3, 2, 1, 3, 2, 3, 3, 3, 2, 2, 3, 2, 3, 1, 3, 3, 3, 1, 3, 1, 1, 3, 3, 3, 3, 3, 2, 3, 2, 3, 3, 3, 3, 1, 3, 1, 1, 3, 3, 3, 3, 3, 3, 1, 3, 2, 3, 1, 3, 2, 1, 3, 3, 3, 2, 2, 1, 3, 3, 3, 1, 3, 2, 1, 3, 3, 2, 3, 3, 1, 3, 2, 3, 3, 1, 3, 1, 3, 3, 3, 3, 2, 3, 1, 3, 2, 3, 3, 3, 1, 3, 3, 3, 1, 3, 2, 1, 3, 3, 3, 3, 3, 2, 1, 3, 3, 3, 1, 2, 3, 1, 1, 3, 3, 3, 2, 1, 3, 2, 2, 2, 1, 3, 3, 3, 1, 1, 3, 2, 3, 3, 3, 3, 1, 2, 3, 3, 2, 3, 3, 2, 1, 3, 1, 3], \"xaxis\": \"x\", \"y\": [7.25, 71.2833, 7.925, 53.1, 8.05, 8.4583, 51.8625, 21.075, 11.1333, 30.0708, 16.7, 26.55, 8.05, 31.275, 7.8542, 16.0, 29.125, 13.0, 18.0, 7.225, 26.0, 13.0, 8.0292, 35.5, 21.075, 31.3875, 7.225, 263.0, 7.8792, 7.8958, 27.7208, 146.5208, 7.75, 10.5, 82.1708, 52.0, 7.2292, 8.05, 18.0, 11.2417, 9.475, 21.0, 41.5792, 7.8792, 8.05, 15.5, 7.75, 21.6792, 17.8, 39.6875, 7.8, 76.7292, 26.0, 61.9792, 35.5, 10.5, 7.2292, 27.75, 46.9, 7.2292, 80.0, 83.475, 27.9, 27.7208, 15.2458, 10.5, 8.1583, 7.925, 8.6625, 10.5, 46.9, 73.5, 14.4542, 56.4958, 7.65, 7.8958, 8.05, 29.0, 12.475, 9.0, 9.5, 7.7875, 47.1, 10.5, 15.85, 34.375, 8.05, 263.0, 8.05, 8.05, 7.8542, 61.175, 20.575, 7.25, 8.05, 34.6542, 63.3583, 23.0, 26.0, 7.8958, 7.8958, 77.2875, 8.6542, 7.925, 7.8958, 7.65, 7.775, 7.8958, 24.15, 52.0, 14.4542, 8.05, 9.825, 14.4583, 7.925, 7.75, 21.0, 247.5208, 31.275, 73.5, 8.05, 30.0708, 13.0, 77.2875, 11.2417, 7.75, 7.1417, 22.3583, 6.975, 7.8958, 7.05, 14.5, 26.0, 13.0, 15.0458, 26.2833, 53.1, 9.2167, 79.2, 15.2458, 7.75, 15.85, 6.75, 11.5, 36.75, 7.7958, 34.375, 26.0, 13.0, 12.525, 66.6, 8.05, 14.5, 7.3125, 61.3792, 7.7333, 8.05, 8.6625, 69.55, 16.1, 15.75, 7.775, 8.6625, 39.6875, 20.525, 55.0, 27.9, 25.925, 56.4958, 33.5, 29.125, 11.1333, 7.925, 30.6958, 7.8542, 25.4667, 28.7125, 13.0, 0.0, 69.55, 15.05, 31.3875, 39.0, 22.025, 50.0, 15.5, 26.55, 15.5, 7.8958, 13.0, 13.0, 7.8542, 26.0, 27.7208, 146.5208, 7.75, 8.4042, 7.75, 13.0, 9.5, 69.55, 6.4958, 7.225, 8.05, 10.4625, 15.85, 18.7875, 7.75, 31.0, 7.05, 21.0, 7.25, 13.0, 7.75, 113.275, 7.925, 27.0, 76.2917, 10.5, 8.05, 13.0, 8.05, 7.8958, 90.0, 9.35, 10.5, 7.25, 13.0, 25.4667, 83.475, 7.775, 13.5, 31.3875, 10.5, 7.55, 26.0, 26.25, 10.5, 12.275, 14.4542, 15.5, 10.5, 7.125, 7.225, 90.0, 7.775, 14.5, 52.5542, 26.0, 7.25, 10.4625, 26.55, 16.1, 20.2125, 15.2458, 79.2, 86.5, 512.3292, 26.0, 31.3875, 79.65, 0.0, 7.75, 10.5, 39.6875, 7.775, 153.4625, 135.6333, 31.0, 0.0, 19.5, 29.7, 7.75, 77.9583, 7.75, 0.0, 29.125, 20.25, 7.75, 7.8542, 9.5, 8.05, 26.0, 8.6625, 9.5, 7.8958, 13.0, 7.75, 78.85, 91.0792, 12.875, 8.85, 7.8958, 27.7208, 7.2292, 151.55, 30.5, 247.5208, 7.75, 23.25, 0.0, 12.35, 8.05, 151.55, 110.8833, 108.9, 24.0, 56.9292, 83.1583, 262.375, 26.0, 7.8958, 26.25, 7.8542, 26.0, 14.0, 164.8667, 134.5, 7.25, 7.8958, 12.35, 29.0, 69.55, 135.6333, 6.2375, 13.0, 20.525, 57.9792, 23.25, 28.5, 153.4625, 18.0, 133.65, 7.8958, 66.6, 134.5, 8.05, 35.5, 26.0, 263.0, 13.0, 13.0, 13.0, 13.0, 13.0, 16.1, 15.9, 8.6625, 9.225, 35.0, 7.2292, 17.8, 7.225, 9.5, 55.0, 13.0, 7.8792, 7.8792, 27.9, 27.7208, 14.4542, 7.05, 15.5, 7.25, 75.25, 7.2292, 7.75, 69.3, 55.4417, 6.4958, 8.05, 135.6333, 21.075, 82.1708, 7.25, 211.5, 4.0125, 7.775, 227.525, 15.7417, 7.925, 52.0, 7.8958, 73.5, 46.9, 13.0, 7.7292, 12.0, 120.0, 7.7958, 7.925, 113.275, 16.7, 7.7958, 7.8542, 26.0, 10.5, 12.65, 7.925, 8.05, 9.825, 15.85, 8.6625, 21.0, 7.75, 18.75, 7.775, 25.4667, 7.8958, 6.8583, 90.0, 0.0, 7.925, 8.05, 32.5, 13.0, 13.0, 24.15, 7.7333, 7.875, 14.4, 20.2125, 7.25, 26.0, 26.0, 7.75, 8.05, 26.55, 16.1, 26.0, 7.125, 55.9, 120.0, 34.375, 18.75, 263.0, 10.5, 26.25, 9.5, 7.775, 13.0, 8.1125, 81.8583, 19.5, 26.55, 19.2583, 30.5, 27.75, 19.9667, 27.75, 89.1042, 8.05, 7.8958, 26.55, 51.8625, 10.5, 7.75, 26.55, 8.05, 38.5, 13.0, 8.05, 7.05, 0.0, 26.55, 7.725, 19.2583, 7.25, 8.6625, 27.75, 13.7917, 9.8375, 52.0, 21.0, 7.0458, 7.5208, 12.2875, 46.9, 0.0, 8.05, 9.5875, 91.0792, 25.4667, 90.0, 29.7, 8.05, 15.9, 19.9667, 7.25, 30.5, 49.5042, 8.05, 14.4583, 78.2667, 15.1, 151.55, 7.7958, 8.6625, 7.75, 7.6292, 9.5875, 86.5, 108.9, 26.0, 26.55, 22.525, 56.4958, 7.75, 8.05, 26.2875, 59.4, 7.4958, 34.0208, 10.5, 24.15, 26.0, 7.8958, 93.5, 7.8958, 7.225, 57.9792, 7.2292, 7.75, 10.5, 221.7792, 7.925, 11.5, 26.0, 7.2292, 7.2292, 22.3583, 8.6625, 26.25, 26.55, 106.425, 14.5, 49.5, 71.0, 31.275, 31.275, 26.0, 106.425, 26.0, 26.0, 13.8625, 20.525, 36.75, 110.8833, 26.0, 7.8292, 7.225, 7.775, 26.55, 39.6, 227.525, 79.65, 17.4, 7.75, 7.8958, 13.5, 8.05, 8.05, 24.15, 7.8958, 21.075, 7.2292, 7.8542, 10.5, 51.4792, 26.3875, 7.75, 8.05, 14.5, 13.0, 55.9, 14.4583, 7.925, 30.0, 110.8833, 26.0, 40.125, 8.7125, 79.65, 15.0, 79.2, 8.05, 8.05, 7.125, 78.2667, 7.25, 7.75, 26.0, 24.15, 33.0, 0.0, 7.225, 56.9292, 27.0, 7.8958, 42.4, 8.05, 26.55, 15.55, 7.8958, 30.5, 41.5792, 153.4625, 31.275, 7.05, 15.5, 7.75, 8.05, 65.0, 14.4, 16.1, 39.0, 10.5, 14.4542, 52.5542, 15.7417, 7.8542, 16.1, 32.3208, 12.35, 77.9583, 7.8958, 7.7333, 30.0, 7.0542, 30.5, 0.0, 27.9, 13.0, 7.925, 26.25, 39.6875, 16.1, 7.8542, 69.3, 27.9, 56.4958, 19.2583, 76.7292, 7.8958, 35.5, 7.55, 7.55, 7.8958, 23.0, 8.4333, 7.8292, 6.75, 73.5, 7.8958, 15.5, 13.0, 113.275, 133.65, 7.225, 25.5875, 7.4958, 7.925, 73.5, 13.0, 7.775, 8.05, 52.0, 39.0, 52.0, 10.5, 13.0, 0.0, 7.775, 8.05, 9.8417, 46.9, 512.3292, 8.1375, 76.7292, 9.225, 46.9, 39.0, 41.5792, 39.6875, 10.1708, 7.7958, 211.3375, 57.0, 13.4167, 56.4958, 7.225, 26.55, 13.5, 8.05, 7.7333, 110.8833, 7.65, 227.525, 26.2875, 14.4542, 7.7417, 7.8542, 26.0, 13.5, 26.2875, 151.55, 15.2458, 49.5042, 26.55, 52.0, 9.4833, 13.0, 7.65, 227.525, 10.5, 7.775, 33.0, 7.0542, 13.0, 13.0, 53.1, 8.6625, 21.0, 7.7375, 26.0, 7.925, 211.3375, 18.7875, 0.0, 13.0, 13.0, 16.1, 34.375, 512.3292, 7.8958, 7.8958, 30.0, 78.85, 262.375, 16.1, 7.925, 71.0, 20.25, 13.0, 53.1, 7.75, 23.0, 12.475, 9.5, 7.8958, 65.0, 14.5, 7.7958, 11.5, 8.05, 86.5, 14.5, 7.125, 7.2292, 120.0, 7.775, 77.9583, 39.6, 7.75, 24.15, 8.3625, 9.5, 7.8542, 10.5, 7.225, 23.0, 7.75, 7.75, 12.475, 7.7375, 211.3375, 7.2292, 57.0, 30.0, 23.45, 7.05, 7.25, 7.4958, 29.125, 20.575, 79.2, 7.75, 26.0, 69.55, 30.6958, 7.8958, 13.0, 25.9292, 8.6833, 7.2292, 24.15, 13.0, 26.25, 120.0, 8.5167, 6.975, 7.775, 0.0, 7.775, 13.0, 53.1, 7.8875, 24.15, 10.5, 31.275, 8.05, 0.0, 7.925, 37.0042, 6.45, 27.9, 93.5, 8.6625, 0.0, 12.475, 39.6875, 6.95, 56.4958, 37.0042, 7.75, 80.0, 14.4542, 18.75, 7.2292, 7.8542, 8.3, 83.1583, 8.6625, 8.05, 56.4958, 29.7, 7.925, 10.5, 31.0, 6.4375, 8.6625, 7.55, 69.55, 7.8958, 33.0, 89.1042, 31.275, 7.775, 15.2458, 39.4, 26.0, 9.35, 164.8667, 26.55, 19.2583, 7.2292, 14.1083, 11.5, 25.9292, 69.55, 13.0, 13.0, 13.8583, 50.4958, 9.5, 11.1333, 7.8958, 52.5542, 5.0, 9.0, 24.0, 7.225, 9.8458, 7.8958, 7.8958, 83.1583, 26.0, 7.8958, 10.5167, 10.5, 7.05, 29.125, 13.0, 30.0, 23.45, 30.0, 7.75], \"yaxis\": \"y\"}, {\"type\": \"box\", \"x\": [22.0, 38.0, 26.0, 35.0, 35.0, 27.0, 54.0, 2.0, 27.0, 14.0, 4.0, 58.0, 20.0, 39.0, 14.0, 55.0, 2.0, 23.0, 31.0, 22.0, 35.0, 34.0, 15.0, 28.0, 8.0, 38.0, 26.0, 19.0, 24.0, 23.0, 40.0, 48.0, 18.0, 66.0, 28.0, 42.0, 18.0, 21.0, 18.0, 14.0, 40.0, 27.0, 3.0, 19.0, 30.0, 20.0, 27.0, 16.0, 18.0, 7.0, 21.0, 49.0, 29.0, 65.0, 46.0, 21.0, 28.5, 5.0, 11.0, 22.0, 38.0, 45.0, 4.0, 64.0, 7.0, 29.0, 19.0, 17.0, 26.0, 32.0, 16.0, 21.0, 26.0, 32.0, 25.0, 23.0, 28.0, 0.83, 30.0, 22.0, 29.0, 31.0, 28.0, 17.0, 33.0, 16.0, 20.0, 23.0, 24.0, 29.0, 20.0, 46.0, 26.0, 59.0, 22.0, 71.0, 23.0, 34.0, 34.0, 28.0, 29.0, 21.0, 33.0, 37.0, 28.0, 21.0, 29.0, 38.0, 28.0, 47.0, 14.5, 22.0, 20.0, 17.0, 21.0, 70.5, 29.0, 24.0, 2.0, 21.0, 19.0, 32.5, 32.5, 54.0, 12.0, 19.0, 24.0, 2.0, 45.0, 33.0, 20.0, 47.0, 29.0, 25.0, 23.0, 19.0, 37.0, 16.0, 24.0, 40.0, 22.0, 24.0, 19.0, 18.0, 19.0, 27.0, 9.0, 36.5, 42.0, 51.0, 22.0, 55.5, 40.5, 27.0, 51.0, 16.0, 30.0, 37.0, 5.0, 44.0, 40.0, 26.0, 17.0, 1.0, 9.0, 48.0, 45.0, 60.0, 28.0, 61.0, 4.0, 1.0, 21.0, 56.0, 18.0, 5.0, 50.0, 30.0, 36.0, 8.0, 39.0, 9.0, 1.0, 4.0, 39.0, 26.0, 45.0, 40.0, 36.0, 32.0, 19.0, 19.0, 3.0, 44.0, 58.0, 28.0, 42.0, 21.0, 24.0, 28.0, 17.0, 34.0, 45.5, 18.0, 2.0, 32.0, 26.0, 16.0, 40.0, 24.0, 35.0, 22.0, 30.0, 22.0, 31.0, 27.0, 42.0, 32.0, 30.0, 16.0, 27.0, 51.0, 22.0, 38.0, 22.0, 19.0, 20.5, 18.0, 12.0, 35.0, 29.0, 59.0, 5.0, 24.0, 21.0, 44.0, 8.0, 19.0, 33.0, 19.0, 18.0, 29.0, 22.0, 30.0, 44.0, 25.0, 24.0, 37.0, 54.0, 18.0, 29.0, 62.0, 30.0, 41.0, 29.0, 38.0, 30.0, 35.0, 50.0, 3.0, 52.0, 40.0, 21.0, 36.0, 16.0, 25.0, 58.0, 35.0, 28.0, 25.0, 41.0, 37.0, 33.0, 63.0, 45.0, 21.0, 7.0, 35.0, 65.0, 28.0, 16.0, 19.0, 57.0, 33.0, 30.0, 22.0, 42.0, 22.0, 26.0, 19.0, 36.0, 24.0, 24.0, 30.0, 23.5, 2.0, 47.0, 50.0, 20.0, 24.0, 19.0, 46.0, 28.0, 0.92, 42.0, 17.0, 30.0, 30.0, 24.0, 18.0, 26.0, 28.0, 43.0, 26.0, 24.0, 54.0, 31.0, 40.0, 22.0, 27.0, 30.0, 22.0, 20.0, 36.0, 61.0, 36.0, 31.0, 16.0, 28.0, 45.5, 38.0, 16.0, 42.0, 30.0, 29.0, 41.0, 45.0, 45.0, 2.0, 24.0, 28.0, 25.0, 36.0, 24.0, 40.0, 34.0, 3.0, 42.0, 23.0, 43.0, 15.0, 25.0, 23.0, 28.0, 22.0, 38.0, 22.0, 23.0, 40.0, 29.0, 45.0, 35.0, 27.0, 30.0, 60.0, 35.0, 22.0, 24.0, 25.0, 18.0, 19.0, 22.0, 3.0, 25.0, 22.0, 27.0, 20.0, 19.0, 42.0, 1.0, 32.0, 35.0, 27.0, 18.0, 1.0, 36.0, 19.0, 17.0, 36.0, 21.0, 28.0, 23.0, 24.0, 22.0, 31.0, 46.0, 23.0, 28.0, 39.0, 26.0, 21.0, 28.0, 20.0, 34.0, 51.0, 3.0, 21.0, 3.0, 42.0, 27.0, 33.0, 22.0, 44.0, 32.0, 34.0, 18.0, 30.0, 10.0, 21.0, 29.0, 28.0, 18.0, 54.0, 28.0, 19.0, 28.0, 32.0, 28.0, 33.0, 42.0, 17.0, 50.0, 14.0, 21.0, 24.0, 64.0, 31.0, 45.0, 20.0, 25.0, 28.0, 29.0, 4.0, 13.0, 34.0, 5.0, 52.0, 36.0, 28.0, 30.0, 49.0, 24.0, 29.0, 65.0, 41.0, 50.0, 17.0, 48.0, 34.0, 47.0, 48.0, 34.0, 38.0, 21.0, 56.0, 22.0, 0.75, 39.0, 38.0, 33.0, 23.0, 22.0, 40.0, 34.0, 29.0, 22.0, 2.0, 9.0, 37.0, 50.0, 63.0, 25.0, 8.0, 35.0, 58.0, 30.0, 9.0, 19.0, 21.0, 55.0, 71.0, 21.0, 26.0, 54.0, 55.0, 25.0, 24.0, 17.0, 21.0, 21.0, 37.0, 16.0, 18.0, 33.0, 37.0, 28.0, 26.0, 29.0, 66.0, 36.0, 54.0, 24.0, 47.0, 34.0, 30.0, 36.0, 32.0, 30.0, 22.0, 35.0, 44.0, 18.0, 40.5, 50.0, 49.0, 39.0, 23.0, 2.0, 17.0, 17.0, 24.0, 30.0, 7.0, 45.0, 30.0, 69.0, 22.0, 36.0, 9.0, 11.0, 32.0, 50.0, 64.0, 19.0, 27.0, 33.0, 8.0, 17.0, 27.0, 21.0, 22.0, 22.0, 62.0, 48.0, 45.0, 39.0, 36.0, 30.0, 40.0, 28.0, 40.0, 62.0, 24.0, 19.0, 29.0, 28.0, 32.0, 62.0, 53.0, 36.0, 22.0, 16.0, 19.0, 34.0, 39.0, 18.0, 32.0, 25.0, 39.0, 54.0, 36.0, 16.0, 18.0, 47.0, 60.0, 22.0, 22.0, 35.0, 52.0, 47.0, 40.0, 37.0, 36.0, 31.0, 49.0, 18.0, 49.0, 24.0, 42.0, 37.0, 44.0, 35.0, 36.0, 30.0, 27.0, 22.0, 40.0, 39.0, 21.0, 18.0, 22.0, 35.0, 24.0, 34.0, 26.0, 4.0, 26.0, 27.0, 42.0, 20.0, 21.0, 21.0, 61.0, 57.0, 21.0, 26.0, 18.0, 80.0, 51.0, 32.0, 30.0, 9.0, 28.0, 32.0, 31.0, 41.0, 37.0, 20.0, 24.0, 2.0, 32.0, 0.75, 48.0, 19.0, 56.0, 21.0, 23.0, 23.0, 18.0, 21.0, 16.0, 18.0, 24.0, 27.0, 32.0, 23.0, 58.0, 50.0, 40.0, 47.0, 36.0, 20.0, 32.0, 25.0, 49.0, 43.0, 48.0, 40.0, 31.0, 70.0, 31.0, 19.0, 18.0, 24.5, 18.0, 43.0, 36.0, 28.0, 27.0, 20.0, 14.0, 60.0, 25.0, 14.0, 19.0, 18.0, 15.0, 31.0, 4.0, 37.0, 25.0, 60.0, 52.0, 44.0, 19.0, 49.0, 42.0, 18.0, 35.0, 18.0, 25.0, 26.0, 39.0, 45.0, 42.0, 22.0, 4.0, 24.0, 41.0, 48.0, 29.0, 52.0, 19.0, 38.0, 27.0, 33.0, 6.0, 17.0, 34.0, 50.0, 27.0, 20.0, 30.0, 28.0, 25.0, 25.0, 29.0, 11.0, 41.0, 23.0, 23.0, 28.5, 48.0, 35.0, 20.0, 32.0, 45.0, 36.0, 21.0, 24.0, 31.0, 70.0, 16.0, 30.0, 19.0, 31.0, 4.0, 6.0, 33.0, 23.0, 48.0, 0.67, 28.0, 18.0, 34.0, 33.0, 23.0, 41.0, 20.0, 36.0, 16.0, 51.0, 46.0, 30.5, 28.0, 32.0, 24.0, 48.0, 57.0, 29.0, 54.0, 18.0, 20.0, 5.0, 22.0, 43.0, 13.0, 17.0, 29.0, 35.0, 25.0, 25.0, 18.0, 8.0, 1.0, 46.0, 20.0, 16.0, 21.0, 43.0, 25.0, 39.0, 49.0, 31.0, 30.0, 30.0, 34.0, 31.0, 11.0, 0.42, 27.0, 31.0, 39.0, 18.0, 39.0, 33.0, 26.0, 39.0, 35.0, 6.0, 30.5, 39.0, 23.0, 31.0, 43.0, 10.0, 52.0, 27.0, 38.0, 27.0, 2.0, 36.0, 23.0, 1.0, 19.0, 62.0, 15.0, 0.83, 30.0, 23.0, 18.0, 39.0, 21.0, 20.0, 32.0, 29.0, 20.0, 16.0, 30.0, 34.5, 17.0, 42.0, 18.0, 35.0, 28.0, 40.0, 4.0, 74.0, 9.0, 16.0, 44.0, 18.0, 45.0, 51.0, 24.0, 30.0, 41.0, 21.0, 48.0, 14.0, 24.0, 42.0, 27.0, 31.0, 23.0, 4.0, 26.0, 47.0, 33.0, 47.0, 28.0, 15.0, 20.0, 19.0, 23.0, 56.0, 25.0, 33.0, 22.0, 28.0, 25.0, 39.0, 27.0, 19.0, 7.0, 26.0, 32.0], \"xaxis\": \"x2\", \"y\": [7.25, 71.2833, 7.925, 53.1, 8.05, 8.4583, 51.8625, 21.075, 11.1333, 30.0708, 16.7, 26.55, 8.05, 31.275, 7.8542, 16.0, 29.125, 13.0, 18.0, 7.225, 26.0, 13.0, 8.0292, 35.5, 21.075, 31.3875, 7.225, 263.0, 7.8792, 7.8958, 27.7208, 146.5208, 7.75, 10.5, 82.1708, 52.0, 7.2292, 8.05, 18.0, 11.2417, 9.475, 21.0, 41.5792, 7.8792, 8.05, 15.5, 7.75, 21.6792, 17.8, 39.6875, 7.8, 76.7292, 26.0, 61.9792, 35.5, 10.5, 7.2292, 27.75, 46.9, 7.2292, 80.0, 83.475, 27.9, 27.7208, 15.2458, 10.5, 8.1583, 7.925, 8.6625, 10.5, 46.9, 73.5, 14.4542, 56.4958, 7.65, 7.8958, 8.05, 29.0, 12.475, 9.0, 9.5, 7.7875, 47.1, 10.5, 15.85, 34.375, 8.05, 263.0, 8.05, 8.05, 7.8542, 61.175, 20.575, 7.25, 8.05, 34.6542, 63.3583, 23.0, 26.0, 7.8958, 7.8958, 77.2875, 8.6542, 7.925, 7.8958, 7.65, 7.775, 7.8958, 24.15, 52.0, 14.4542, 8.05, 9.825, 14.4583, 7.925, 7.75, 21.0, 247.5208, 31.275, 73.5, 8.05, 30.0708, 13.0, 77.2875, 11.2417, 7.75, 7.1417, 22.3583, 6.975, 7.8958, 7.05, 14.5, 26.0, 13.0, 15.0458, 26.2833, 53.1, 9.2167, 79.2, 15.2458, 7.75, 15.85, 6.75, 11.5, 36.75, 7.7958, 34.375, 26.0, 13.0, 12.525, 66.6, 8.05, 14.5, 7.3125, 61.3792, 7.7333, 8.05, 8.6625, 69.55, 16.1, 15.75, 7.775, 8.6625, 39.6875, 20.525, 55.0, 27.9, 25.925, 56.4958, 33.5, 29.125, 11.1333, 7.925, 30.6958, 7.8542, 25.4667, 28.7125, 13.0, 0.0, 69.55, 15.05, 31.3875, 39.0, 22.025, 50.0, 15.5, 26.55, 15.5, 7.8958, 13.0, 13.0, 7.8542, 26.0, 27.7208, 146.5208, 7.75, 8.4042, 7.75, 13.0, 9.5, 69.55, 6.4958, 7.225, 8.05, 10.4625, 15.85, 18.7875, 7.75, 31.0, 7.05, 21.0, 7.25, 13.0, 7.75, 113.275, 7.925, 27.0, 76.2917, 10.5, 8.05, 13.0, 8.05, 7.8958, 90.0, 9.35, 10.5, 7.25, 13.0, 25.4667, 83.475, 7.775, 13.5, 31.3875, 10.5, 7.55, 26.0, 26.25, 10.5, 12.275, 14.4542, 15.5, 10.5, 7.125, 7.225, 90.0, 7.775, 14.5, 52.5542, 26.0, 7.25, 10.4625, 26.55, 16.1, 20.2125, 15.2458, 79.2, 86.5, 512.3292, 26.0, 31.3875, 79.65, 0.0, 7.75, 10.5, 39.6875, 7.775, 153.4625, 135.6333, 31.0, 0.0, 19.5, 29.7, 7.75, 77.9583, 7.75, 0.0, 29.125, 20.25, 7.75, 7.8542, 9.5, 8.05, 26.0, 8.6625, 9.5, 7.8958, 13.0, 7.75, 78.85, 91.0792, 12.875, 8.85, 7.8958, 27.7208, 7.2292, 151.55, 30.5, 247.5208, 7.75, 23.25, 0.0, 12.35, 8.05, 151.55, 110.8833, 108.9, 24.0, 56.9292, 83.1583, 262.375, 26.0, 7.8958, 26.25, 7.8542, 26.0, 14.0, 164.8667, 134.5, 7.25, 7.8958, 12.35, 29.0, 69.55, 135.6333, 6.2375, 13.0, 20.525, 57.9792, 23.25, 28.5, 153.4625, 18.0, 133.65, 7.8958, 66.6, 134.5, 8.05, 35.5, 26.0, 263.0, 13.0, 13.0, 13.0, 13.0, 13.0, 16.1, 15.9, 8.6625, 9.225, 35.0, 7.2292, 17.8, 7.225, 9.5, 55.0, 13.0, 7.8792, 7.8792, 27.9, 27.7208, 14.4542, 7.05, 15.5, 7.25, 75.25, 7.2292, 7.75, 69.3, 55.4417, 6.4958, 8.05, 135.6333, 21.075, 82.1708, 7.25, 211.5, 4.0125, 7.775, 227.525, 15.7417, 7.925, 52.0, 7.8958, 73.5, 46.9, 13.0, 7.7292, 12.0, 120.0, 7.7958, 7.925, 113.275, 16.7, 7.7958, 7.8542, 26.0, 10.5, 12.65, 7.925, 8.05, 9.825, 15.85, 8.6625, 21.0, 7.75, 18.75, 7.775, 25.4667, 7.8958, 6.8583, 90.0, 0.0, 7.925, 8.05, 32.5, 13.0, 13.0, 24.15, 7.7333, 7.875, 14.4, 20.2125, 7.25, 26.0, 26.0, 7.75, 8.05, 26.55, 16.1, 26.0, 7.125, 55.9, 120.0, 34.375, 18.75, 263.0, 10.5, 26.25, 9.5, 7.775, 13.0, 8.1125, 81.8583, 19.5, 26.55, 19.2583, 30.5, 27.75, 19.9667, 27.75, 89.1042, 8.05, 7.8958, 26.55, 51.8625, 10.5, 7.75, 26.55, 8.05, 38.5, 13.0, 8.05, 7.05, 0.0, 26.55, 7.725, 19.2583, 7.25, 8.6625, 27.75, 13.7917, 9.8375, 52.0, 21.0, 7.0458, 7.5208, 12.2875, 46.9, 0.0, 8.05, 9.5875, 91.0792, 25.4667, 90.0, 29.7, 8.05, 15.9, 19.9667, 7.25, 30.5, 49.5042, 8.05, 14.4583, 78.2667, 15.1, 151.55, 7.7958, 8.6625, 7.75, 7.6292, 9.5875, 86.5, 108.9, 26.0, 26.55, 22.525, 56.4958, 7.75, 8.05, 26.2875, 59.4, 7.4958, 34.0208, 10.5, 24.15, 26.0, 7.8958, 93.5, 7.8958, 7.225, 57.9792, 7.2292, 7.75, 10.5, 221.7792, 7.925, 11.5, 26.0, 7.2292, 7.2292, 22.3583, 8.6625, 26.25, 26.55, 106.425, 14.5, 49.5, 71.0, 31.275, 31.275, 26.0, 106.425, 26.0, 26.0, 13.8625, 20.525, 36.75, 110.8833, 26.0, 7.8292, 7.225, 7.775, 26.55, 39.6, 227.525, 79.65, 17.4, 7.75, 7.8958, 13.5, 8.05, 8.05, 24.15, 7.8958, 21.075, 7.2292, 7.8542, 10.5, 51.4792, 26.3875, 7.75, 8.05, 14.5, 13.0, 55.9, 14.4583, 7.925, 30.0, 110.8833, 26.0, 40.125, 8.7125, 79.65, 15.0, 79.2, 8.05, 8.05, 7.125, 78.2667, 7.25, 7.75, 26.0, 24.15, 33.0, 0.0, 7.225, 56.9292, 27.0, 7.8958, 42.4, 8.05, 26.55, 15.55, 7.8958, 30.5, 41.5792, 153.4625, 31.275, 7.05, 15.5, 7.75, 8.05, 65.0, 14.4, 16.1, 39.0, 10.5, 14.4542, 52.5542, 15.7417, 7.8542, 16.1, 32.3208, 12.35, 77.9583, 7.8958, 7.7333, 30.0, 7.0542, 30.5, 0.0, 27.9, 13.0, 7.925, 26.25, 39.6875, 16.1, 7.8542, 69.3, 27.9, 56.4958, 19.2583, 76.7292, 7.8958, 35.5, 7.55, 7.55, 7.8958, 23.0, 8.4333, 7.8292, 6.75, 73.5, 7.8958, 15.5, 13.0, 113.275, 133.65, 7.225, 25.5875, 7.4958, 7.925, 73.5, 13.0, 7.775, 8.05, 52.0, 39.0, 52.0, 10.5, 13.0, 0.0, 7.775, 8.05, 9.8417, 46.9, 512.3292, 8.1375, 76.7292, 9.225, 46.9, 39.0, 41.5792, 39.6875, 10.1708, 7.7958, 211.3375, 57.0, 13.4167, 56.4958, 7.225, 26.55, 13.5, 8.05, 7.7333, 110.8833, 7.65, 227.525, 26.2875, 14.4542, 7.7417, 7.8542, 26.0, 13.5, 26.2875, 151.55, 15.2458, 49.5042, 26.55, 52.0, 9.4833, 13.0, 7.65, 227.525, 10.5, 7.775, 33.0, 7.0542, 13.0, 13.0, 53.1, 8.6625, 21.0, 7.7375, 26.0, 7.925, 211.3375, 18.7875, 0.0, 13.0, 13.0, 16.1, 34.375, 512.3292, 7.8958, 7.8958, 30.0, 78.85, 262.375, 16.1, 7.925, 71.0, 20.25, 13.0, 53.1, 7.75, 23.0, 12.475, 9.5, 7.8958, 65.0, 14.5, 7.7958, 11.5, 8.05, 86.5, 14.5, 7.125, 7.2292, 120.0, 7.775, 77.9583, 39.6, 7.75, 24.15, 8.3625, 9.5, 7.8542, 10.5, 7.225, 23.0, 7.75, 7.75, 12.475, 7.7375, 211.3375, 7.2292, 57.0, 30.0, 23.45, 7.05, 7.25, 7.4958, 29.125, 20.575, 79.2, 7.75, 26.0, 69.55, 30.6958, 7.8958, 13.0, 25.9292, 8.6833, 7.2292, 24.15, 13.0, 26.25, 120.0, 8.5167, 6.975, 7.775, 0.0, 7.775, 13.0, 53.1, 7.8875, 24.15, 10.5, 31.275, 8.05, 0.0, 7.925, 37.0042, 6.45, 27.9, 93.5, 8.6625, 0.0, 12.475, 39.6875, 6.95, 56.4958, 37.0042, 7.75, 80.0, 14.4542, 18.75, 7.2292, 7.8542, 8.3, 83.1583, 8.6625, 8.05, 56.4958, 29.7, 7.925, 10.5, 31.0, 6.4375, 8.6625, 7.55, 69.55, 7.8958, 33.0, 89.1042, 31.275, 7.775, 15.2458, 39.4, 26.0, 9.35, 164.8667, 26.55, 19.2583, 7.2292, 14.1083, 11.5, 25.9292, 69.55, 13.0, 13.0, 13.8583, 50.4958, 9.5, 11.1333, 7.8958, 52.5542, 5.0, 9.0, 24.0, 7.225, 9.8458, 7.8958, 7.8958, 83.1583, 26.0, 7.8958, 10.5167, 10.5, 7.05, 29.125, 13.0, 30.0, 23.45, 30.0, 7.75], \"yaxis\": \"y2\"}],\n",
              "                        {\"annotations\": [{\"font\": {\"size\": 16}, \"showarrow\": false, \"text\": \"Fare versus Pclass\", \"x\": 0.225, \"xanchor\": \"center\", \"xref\": \"paper\", \"y\": 1.0, \"yanchor\": \"bottom\", \"yref\": \"paper\"}, {\"font\": {\"size\": 16}, \"showarrow\": false, \"text\": \"Fare versus Age\", \"x\": 0.775, \"xanchor\": \"center\", \"xref\": \"paper\", \"y\": 1.0, \"yanchor\": \"bottom\", \"yref\": \"paper\"}], \"autosize\": false, \"height\": 700, \"showlegend\": false, \"template\": {\"data\": {\"bar\": [{\"error_x\": {\"color\": \"#f2f5fa\"}, \"error_y\": {\"color\": \"#f2f5fa\"}, \"marker\": {\"line\": {\"color\": \"rgb(17,17,17)\", \"width\": 0.5}}, \"type\": \"bar\"}], \"barpolar\": [{\"marker\": {\"line\": {\"color\": \"rgb(17,17,17)\", \"width\": 0.5}}, \"type\": \"barpolar\"}], \"carpet\": [{\"aaxis\": {\"endlinecolor\": \"#A2B1C6\", \"gridcolor\": \"#506784\", \"linecolor\": \"#506784\", \"minorgridcolor\": \"#506784\", \"startlinecolor\": \"#A2B1C6\"}, \"baxis\": {\"endlinecolor\": \"#A2B1C6\", \"gridcolor\": \"#506784\", \"linecolor\": \"#506784\", \"minorgridcolor\": \"#506784\", \"startlinecolor\": \"#A2B1C6\"}, \"type\": \"carpet\"}], \"choropleth\": [{\"colorbar\": {\"outlinewidth\": 0, \"ticks\": \"\"}, \"type\": \"choropleth\"}], \"contour\": [{\"colorbar\": {\"outlinewidth\": 0, \"ticks\": \"\"}, \"colorscale\": [[0.0, \"#0d0887\"], [0.1111111111111111, \"#46039f\"], [0.2222222222222222, \"#7201a8\"], [0.3333333333333333, \"#9c179e\"], [0.4444444444444444, \"#bd3786\"], [0.5555555555555556, \"#d8576b\"], [0.6666666666666666, \"#ed7953\"], [0.7777777777777778, \"#fb9f3a\"], [0.8888888888888888, \"#fdca26\"], [1.0, \"#f0f921\"]], \"type\": \"contour\"}], \"contourcarpet\": [{\"colorbar\": {\"outlinewidth\": 0, \"ticks\": \"\"}, \"type\": \"contourcarpet\"}], \"heatmap\": [{\"colorbar\": {\"outlinewidth\": 0, \"ticks\": \"\"}, \"colorscale\": [[0.0, \"#0d0887\"], [0.1111111111111111, \"#46039f\"], [0.2222222222222222, \"#7201a8\"], [0.3333333333333333, \"#9c179e\"], [0.4444444444444444, \"#bd3786\"], [0.5555555555555556, \"#d8576b\"], [0.6666666666666666, \"#ed7953\"], [0.7777777777777778, \"#fb9f3a\"], [0.8888888888888888, \"#fdca26\"], [1.0, \"#f0f921\"]], \"type\": \"heatmap\"}], \"heatmapgl\": [{\"colorbar\": {\"outlinewidth\": 0, \"ticks\": \"\"}, \"colorscale\": [[0.0, \"#0d0887\"], [0.1111111111111111, \"#46039f\"], [0.2222222222222222, \"#7201a8\"], [0.3333333333333333, \"#9c179e\"], [0.4444444444444444, \"#bd3786\"], [0.5555555555555556, \"#d8576b\"], [0.6666666666666666, \"#ed7953\"], [0.7777777777777778, \"#fb9f3a\"], [0.8888888888888888, \"#fdca26\"], [1.0, \"#f0f921\"]], \"type\": \"heatmapgl\"}], \"histogram\": [{\"marker\": {\"colorbar\": {\"outlinewidth\": 0, \"ticks\": \"\"}}, \"type\": \"histogram\"}], \"histogram2d\": [{\"colorbar\": {\"outlinewidth\": 0, \"ticks\": \"\"}, \"colorscale\": [[0.0, \"#0d0887\"], [0.1111111111111111, \"#46039f\"], [0.2222222222222222, \"#7201a8\"], [0.3333333333333333, \"#9c179e\"], [0.4444444444444444, \"#bd3786\"], [0.5555555555555556, \"#d8576b\"], [0.6666666666666666, \"#ed7953\"], [0.7777777777777778, \"#fb9f3a\"], [0.8888888888888888, \"#fdca26\"], [1.0, \"#f0f921\"]], \"type\": \"histogram2d\"}], \"histogram2dcontour\": [{\"colorbar\": {\"outlinewidth\": 0, \"ticks\": \"\"}, \"colorscale\": [[0.0, \"#0d0887\"], [0.1111111111111111, \"#46039f\"], [0.2222222222222222, \"#7201a8\"], [0.3333333333333333, \"#9c179e\"], [0.4444444444444444, \"#bd3786\"], [0.5555555555555556, \"#d8576b\"], [0.6666666666666666, \"#ed7953\"], [0.7777777777777778, \"#fb9f3a\"], [0.8888888888888888, \"#fdca26\"], [1.0, \"#f0f921\"]], \"type\": \"histogram2dcontour\"}], \"mesh3d\": [{\"colorbar\": {\"outlinewidth\": 0, \"ticks\": \"\"}, \"type\": \"mesh3d\"}], \"parcoords\": [{\"line\": {\"colorbar\": {\"outlinewidth\": 0, \"ticks\": \"\"}}, \"type\": \"parcoords\"}], \"pie\": [{\"automargin\": true, \"type\": \"pie\"}], \"scatter\": [{\"marker\": {\"line\": {\"color\": \"#283442\"}}, \"type\": \"scatter\"}], \"scatter3d\": [{\"line\": {\"colorbar\": {\"outlinewidth\": 0, \"ticks\": \"\"}}, \"marker\": {\"colorbar\": {\"outlinewidth\": 0, \"ticks\": \"\"}}, \"type\": \"scatter3d\"}], \"scattercarpet\": [{\"marker\": {\"colorbar\": {\"outlinewidth\": 0, \"ticks\": \"\"}}, \"type\": \"scattercarpet\"}], \"scattergeo\": [{\"marker\": {\"colorbar\": {\"outlinewidth\": 0, \"ticks\": \"\"}}, \"type\": \"scattergeo\"}], \"scattergl\": [{\"marker\": {\"line\": {\"color\": \"#283442\"}}, \"type\": \"scattergl\"}], \"scattermapbox\": [{\"marker\": {\"colorbar\": {\"outlinewidth\": 0, \"ticks\": \"\"}}, \"type\": \"scattermapbox\"}], \"scatterpolar\": [{\"marker\": {\"colorbar\": {\"outlinewidth\": 0, \"ticks\": \"\"}}, \"type\": \"scatterpolar\"}], \"scatterpolargl\": [{\"marker\": {\"colorbar\": {\"outlinewidth\": 0, \"ticks\": \"\"}}, \"type\": \"scatterpolargl\"}], \"scatterternary\": [{\"marker\": {\"colorbar\": {\"outlinewidth\": 0, \"ticks\": \"\"}}, \"type\": \"scatterternary\"}], \"surface\": [{\"colorbar\": {\"outlinewidth\": 0, \"ticks\": \"\"}, \"colorscale\": [[0.0, \"#0d0887\"], [0.1111111111111111, \"#46039f\"], [0.2222222222222222, \"#7201a8\"], [0.3333333333333333, \"#9c179e\"], [0.4444444444444444, \"#bd3786\"], [0.5555555555555556, \"#d8576b\"], [0.6666666666666666, \"#ed7953\"], [0.7777777777777778, \"#fb9f3a\"], [0.8888888888888888, \"#fdca26\"], [1.0, \"#f0f921\"]], \"type\": \"surface\"}], \"table\": [{\"cells\": {\"fill\": {\"color\": \"#506784\"}, \"line\": {\"color\": \"rgb(17,17,17)\"}}, \"header\": {\"fill\": {\"color\": \"#2a3f5f\"}, \"line\": {\"color\": \"rgb(17,17,17)\"}}, \"type\": \"table\"}]}, \"layout\": {\"annotationdefaults\": {\"arrowcolor\": \"#f2f5fa\", \"arrowhead\": 0, \"arrowwidth\": 1}, \"coloraxis\": {\"colorbar\": {\"outlinewidth\": 0, \"ticks\": \"\"}}, \"colorscale\": {\"diverging\": [[0, \"#8e0152\"], [0.1, \"#c51b7d\"], [0.2, \"#de77ae\"], [0.3, \"#f1b6da\"], [0.4, \"#fde0ef\"], [0.5, \"#f7f7f7\"], [0.6, \"#e6f5d0\"], [0.7, \"#b8e186\"], [0.8, \"#7fbc41\"], [0.9, \"#4d9221\"], [1, \"#276419\"]], \"sequential\": [[0.0, \"#0d0887\"], [0.1111111111111111, \"#46039f\"], [0.2222222222222222, \"#7201a8\"], [0.3333333333333333, \"#9c179e\"], [0.4444444444444444, \"#bd3786\"], [0.5555555555555556, \"#d8576b\"], [0.6666666666666666, \"#ed7953\"], [0.7777777777777778, \"#fb9f3a\"], [0.8888888888888888, \"#fdca26\"], [1.0, \"#f0f921\"]], \"sequentialminus\": [[0.0, \"#0d0887\"], [0.1111111111111111, \"#46039f\"], [0.2222222222222222, \"#7201a8\"], [0.3333333333333333, \"#9c179e\"], [0.4444444444444444, \"#bd3786\"], [0.5555555555555556, \"#d8576b\"], [0.6666666666666666, \"#ed7953\"], [0.7777777777777778, \"#fb9f3a\"], [0.8888888888888888, \"#fdca26\"], [1.0, \"#f0f921\"]]}, \"colorway\": [\"#636efa\", \"#EF553B\", \"#00cc96\", \"#ab63fa\", \"#FFA15A\", \"#19d3f3\", \"#FF6692\", \"#B6E880\", \"#FF97FF\", \"#FECB52\"], \"font\": {\"color\": \"#f2f5fa\"}, \"geo\": {\"bgcolor\": \"rgb(17,17,17)\", \"lakecolor\": \"rgb(17,17,17)\", \"landcolor\": \"rgb(17,17,17)\", \"showlakes\": true, \"showland\": true, \"subunitcolor\": \"#506784\"}, \"hoverlabel\": {\"align\": \"left\"}, \"hovermode\": \"closest\", \"mapbox\": {\"style\": \"dark\"}, \"paper_bgcolor\": \"rgb(17,17,17)\", \"plot_bgcolor\": \"rgb(17,17,17)\", \"polar\": {\"angularaxis\": {\"gridcolor\": \"#506784\", \"linecolor\": \"#506784\", \"ticks\": \"\"}, \"bgcolor\": \"rgb(17,17,17)\", \"radialaxis\": {\"gridcolor\": \"#506784\", \"linecolor\": \"#506784\", \"ticks\": \"\"}}, \"scene\": {\"xaxis\": {\"backgroundcolor\": \"rgb(17,17,17)\", \"gridcolor\": \"#506784\", \"gridwidth\": 2, \"linecolor\": \"#506784\", \"showbackground\": true, \"ticks\": \"\", \"zerolinecolor\": \"#C8D4E3\"}, \"yaxis\": {\"backgroundcolor\": \"rgb(17,17,17)\", \"gridcolor\": \"#506784\", \"gridwidth\": 2, \"linecolor\": \"#506784\", \"showbackground\": true, \"ticks\": \"\", \"zerolinecolor\": \"#C8D4E3\"}, \"zaxis\": {\"backgroundcolor\": \"rgb(17,17,17)\", \"gridcolor\": \"#506784\", \"gridwidth\": 2, \"linecolor\": \"#506784\", \"showbackground\": true, \"ticks\": \"\", \"zerolinecolor\": \"#C8D4E3\"}}, \"shapedefaults\": {\"line\": {\"color\": \"#f2f5fa\"}}, \"sliderdefaults\": {\"bgcolor\": \"#C8D4E3\", \"bordercolor\": \"rgb(17,17,17)\", \"borderwidth\": 1, \"tickwidth\": 0}, \"ternary\": {\"aaxis\": {\"gridcolor\": \"#506784\", \"linecolor\": \"#506784\", \"ticks\": \"\"}, \"baxis\": {\"gridcolor\": \"#506784\", \"linecolor\": \"#506784\", \"ticks\": \"\"}, \"bgcolor\": \"rgb(17,17,17)\", \"caxis\": {\"gridcolor\": \"#506784\", \"linecolor\": \"#506784\", \"ticks\": \"\"}}, \"title\": {\"x\": 0.05}, \"updatemenudefaults\": {\"bgcolor\": \"#506784\", \"borderwidth\": 0}, \"xaxis\": {\"automargin\": true, \"gridcolor\": \"#283442\", \"linecolor\": \"#506784\", \"ticks\": \"\", \"title\": {\"standoff\": 15}, \"zerolinecolor\": \"#283442\", \"zerolinewidth\": 2}, \"yaxis\": {\"automargin\": true, \"gridcolor\": \"#283442\", \"linecolor\": \"#506784\", \"ticks\": \"\", \"title\": {\"standoff\": 15}, \"zerolinecolor\": \"#283442\", \"zerolinewidth\": 2}}}, \"width\": 1500, \"xaxis\": {\"anchor\": \"y\", \"domain\": [0.0, 0.45], \"title\": {\"text\": \"Pclass\"}}, \"xaxis2\": {\"anchor\": \"y2\", \"domain\": [0.55, 1.0], \"title\": {\"text\": \"Age\"}}, \"yaxis\": {\"anchor\": \"x\", \"domain\": [0.0, 1.0], \"title\": {\"text\": \"Fare\"}}, \"yaxis2\": {\"anchor\": \"x2\", \"domain\": [0.0, 1.0], \"title\": {\"text\": \"Fare\"}}},\n",
              "                        {\"responsive\": true}\n",
              "                    ).then(function(){\n",
              "                            \n",
              "var gd = document.getElementById('273089be-57d1-4650-8452-04f496b7e3a0');\n",
              "var x = new MutationObserver(function (mutations, observer) {{\n",
              "        var display = window.getComputedStyle(gd).display;\n",
              "        if (!display || display === 'none') {{\n",
              "            console.log([gd, 'removed!']);\n",
              "            Plotly.purge(gd);\n",
              "            observer.disconnect();\n",
              "        }}\n",
              "}});\n",
              "\n",
              "// Listen for the removal of the full notebook cells\n",
              "var notebookContainer = gd.closest('#notebook-container');\n",
              "if (notebookContainer) {{\n",
              "    x.observe(notebookContainer, {childList: true});\n",
              "}}\n",
              "\n",
              "// Listen for the clearing of the current output cell\n",
              "var outputEl = gd.closest('.output');\n",
              "if (outputEl) {{\n",
              "    x.observe(outputEl, {childList: true});\n",
              "}}\n",
              "\n",
              "                        })\n",
              "                };\n",
              "                \n",
              "            </script>\n",
              "        </div>\n",
              "</body>\n",
              "</html>"
            ]
          },
          "metadata": {}
        }
      ]
    },
    {
      "cell_type": "markdown",
      "metadata": {
        "id": "Sdzi-h3un-XT"
      },
      "source": [
        "You are looking for Jack. How many people named Jack on board?"
      ]
    },
    {
      "cell_type": "code",
      "metadata": {
        "id": "UDGn6qWIn7Ql",
        "colab": {
          "base_uri": "https://localhost:8080/",
          "height": 78
        },
        "outputId": "d958e560-d837-4005-e970-ac640eb57ada"
      },
      "source": [
        "# How many people named Jack on board?\n",
        "df_titanic[df_titanic['Name'].str.contains('Jack')]"
      ],
      "execution_count": null,
      "outputs": [
        {
          "output_type": "execute_result",
          "data": {
            "text/html": [
              "<div>\n",
              "<style scoped>\n",
              "    .dataframe tbody tr th:only-of-type {\n",
              "        vertical-align: middle;\n",
              "    }\n",
              "\n",
              "    .dataframe tbody tr th {\n",
              "        vertical-align: top;\n",
              "    }\n",
              "\n",
              "    .dataframe thead th {\n",
              "        text-align: right;\n",
              "    }\n",
              "</style>\n",
              "<table border=\"1\" class=\"dataframe\">\n",
              "  <thead>\n",
              "    <tr style=\"text-align: right;\">\n",
              "      <th></th>\n",
              "      <th>Survived</th>\n",
              "      <th>Pclass</th>\n",
              "      <th>Name</th>\n",
              "      <th>Sex</th>\n",
              "      <th>Age</th>\n",
              "      <th>Siblings/Spouses Aboard</th>\n",
              "      <th>Parents/Children Aboard</th>\n",
              "      <th>Fare</th>\n",
              "    </tr>\n",
              "  </thead>\n",
              "  <tbody>\n",
              "    <tr>\n",
              "      <th>762</th>\n",
              "      <td>Dead</td>\n",
              "      <td>1</td>\n",
              "      <td>Dr. Arthur Jackson Brewe</td>\n",
              "      <td>male</td>\n",
              "      <td>46.0</td>\n",
              "      <td>0</td>\n",
              "      <td>0</td>\n",
              "      <td>39.6</td>\n",
              "    </tr>\n",
              "  </tbody>\n",
              "</table>\n",
              "</div>"
            ],
            "text/plain": [
              "    Survived  Pclass  ... Parents/Children Aboard  Fare\n",
              "762     Dead       1  ...                       0  39.6\n",
              "\n",
              "[1 rows x 8 columns]"
            ]
          },
          "metadata": {},
          "execution_count": 7
        }
      ]
    },
    {
      "cell_type": "code",
      "metadata": {
        "id": "8lje8CipD5Es"
      },
      "source": [
        "#No one is named Jack"
      ],
      "execution_count": null,
      "outputs": []
    },
    {
      "cell_type": "markdown",
      "metadata": {
        "id": "vpruBrCOnOw8"
      },
      "source": [
        "# Logistic regression\n",
        "\n",
        "Today, in this quest, you have an extraordinary power: you can travel in time to try to save some passengers. \n",
        "You obviously wanted to save Jack. But you didn't find his name on the list. He probably travels under a false name...\n",
        "Too bad, thanks to this trip, you will still try to save as many people as possible. To do this, you have to identify the people who are most probably going to die. \n",
        "\n",
        "- Select features (X) with only numeric values, and without \"Survived\" column\n",
        "- Select \"Survived\" column as target (y)\n",
        "- Split your data with **random_state = 36**\n",
        "- Train a logistic regression\n",
        "- Print the accuracy score on the train set and on the test set. Is there overfitting?\n",
        "- Print the Confusion Matrix on the test set\n",
        "- How many iterations were needed to train this model?"
      ]
    },
    {
      "cell_type": "code",
      "metadata": {
        "id": "UpXqf6uNq3b6",
        "colab": {
          "base_uri": "https://localhost:8080/"
        },
        "outputId": "9a09e629-e55a-45c2-f79b-c4288d8f2902"
      },
      "source": [
        "# It's up to you:\n",
        "\n",
        "df_titanic['Sex'] = df_titanic['Sex'].factorize()[0]\n",
        "\n",
        "from sklearn.linear_model import LogisticRegression\n",
        "from sklearn.model_selection import train_test_split\n",
        "\n",
        "X = df_titanic[[\"Pclass\", 'Sex', 'Age', \"Siblings/Spouses Aboard\",'Parents/Children Aboard', 'Fare']]\n",
        "y = df_titanic['Survived']\n",
        "\n",
        "X_train, X_test, y_train, y_test = train_test_split(X, y, random_state = 36, train_size = 0.75)\n",
        "\n",
        "model = LogisticRegression().fit(X_train,y_train)\n",
        "\n",
        "print(\"accuracy score on train set:\",model.score(X_train, y_train))\n",
        "print(\"accuracy score on test set:\",model.score(X_test, y_test))"
      ],
      "execution_count": null,
      "outputs": [
        {
          "output_type": "stream",
          "name": "stdout",
          "text": [
            "accuracy score on train set: 0.8165413533834587\n",
            "accuracy score on test set: 0.7882882882882883\n"
          ]
        }
      ]
    },
    {
      "cell_type": "code",
      "metadata": {
        "id": "C7WPkcXRExEv"
      },
      "source": [
        "# There is no overfitting"
      ],
      "execution_count": null,
      "outputs": []
    },
    {
      "cell_type": "code",
      "metadata": {
        "colab": {
          "base_uri": "https://localhost:8080/",
          "height": 110
        },
        "id": "xj2ofAV2Ezpd",
        "outputId": "aaf44ffc-bc05-4337-b2da-84aa1a499de9"
      },
      "source": [
        "from sklearn.metrics import confusion_matrix\n",
        "\n",
        "pd.DataFrame(data = confusion_matrix(y_true = y_test, y_pred = model.predict(X_test)),\n",
        "             index = model.classes_ + \" actual\",\n",
        "             columns = model.classes_ + \" predicted\")"
      ],
      "execution_count": null,
      "outputs": [
        {
          "output_type": "execute_result",
          "data": {
            "text/html": [
              "<div>\n",
              "<style scoped>\n",
              "    .dataframe tbody tr th:only-of-type {\n",
              "        vertical-align: middle;\n",
              "    }\n",
              "\n",
              "    .dataframe tbody tr th {\n",
              "        vertical-align: top;\n",
              "    }\n",
              "\n",
              "    .dataframe thead th {\n",
              "        text-align: right;\n",
              "    }\n",
              "</style>\n",
              "<table border=\"1\" class=\"dataframe\">\n",
              "  <thead>\n",
              "    <tr style=\"text-align: right;\">\n",
              "      <th></th>\n",
              "      <th>Dead predicted</th>\n",
              "      <th>Survived predicted</th>\n",
              "    </tr>\n",
              "  </thead>\n",
              "  <tbody>\n",
              "    <tr>\n",
              "      <th>Dead actual</th>\n",
              "      <td>110</td>\n",
              "      <td>19</td>\n",
              "    </tr>\n",
              "    <tr>\n",
              "      <th>Survived actual</th>\n",
              "      <td>28</td>\n",
              "      <td>65</td>\n",
              "    </tr>\n",
              "  </tbody>\n",
              "</table>\n",
              "</div>"
            ],
            "text/plain": [
              "                 Dead predicted  Survived predicted\n",
              "Dead actual                 110                  19\n",
              "Survived actual              28                  65"
            ]
          },
          "metadata": {},
          "execution_count": 11
        }
      ]
    },
    {
      "cell_type": "code",
      "metadata": {
        "colab": {
          "base_uri": "https://localhost:8080/"
        },
        "id": "18ILjptIJnxN",
        "outputId": "7fc805ff-72c1-4730-ce34-529d3b341efe"
      },
      "source": [
        "print (f\" The number of iterations was {model.n_iter_}.\")"
      ],
      "execution_count": null,
      "outputs": [
        {
          "output_type": "stream",
          "name": "stdout",
          "text": [
            " The number of iterations was [54].\n"
          ]
        }
      ]
    },
    {
      "cell_type": "markdown",
      "metadata": {
        "id": "SJ4z3yi9w5Ja"
      },
      "source": [
        "# Model improvement\n",
        "\n",
        "You can save all the people that the model will predict as dead. Change the weight of the classes to save all the people at risk.\n",
        "- Change the weight of the classes\n",
        "- Fit the model on train set\n",
        "- Print the accuracy score on the train set and on the test set\n",
        "- Print the Confusion Matrix on the test set, you must have no deaths that have been predicted as \"Survived\"."
      ]
    },
    {
      "cell_type": "code",
      "metadata": {
        "colab": {
          "base_uri": "https://localhost:8080/",
          "height": 202
        },
        "id": "Ej1dZLs1N4E1",
        "outputId": "e4d57a7f-1208-442b-9a30-0ebf2423c43f"
      },
      "source": [
        "df_titanic.tail()"
      ],
      "execution_count": null,
      "outputs": [
        {
          "output_type": "execute_result",
          "data": {
            "text/html": [
              "<div>\n",
              "<style scoped>\n",
              "    .dataframe tbody tr th:only-of-type {\n",
              "        vertical-align: middle;\n",
              "    }\n",
              "\n",
              "    .dataframe tbody tr th {\n",
              "        vertical-align: top;\n",
              "    }\n",
              "\n",
              "    .dataframe thead th {\n",
              "        text-align: right;\n",
              "    }\n",
              "</style>\n",
              "<table border=\"1\" class=\"dataframe\">\n",
              "  <thead>\n",
              "    <tr style=\"text-align: right;\">\n",
              "      <th></th>\n",
              "      <th>Survived</th>\n",
              "      <th>Pclass</th>\n",
              "      <th>Name</th>\n",
              "      <th>Sex</th>\n",
              "      <th>Age</th>\n",
              "      <th>Siblings/Spouses Aboard</th>\n",
              "      <th>Parents/Children Aboard</th>\n",
              "      <th>Fare</th>\n",
              "    </tr>\n",
              "  </thead>\n",
              "  <tbody>\n",
              "    <tr>\n",
              "      <th>882</th>\n",
              "      <td>Dead</td>\n",
              "      <td>2</td>\n",
              "      <td>Rev. Juozas Montvila</td>\n",
              "      <td>0</td>\n",
              "      <td>27.0</td>\n",
              "      <td>0</td>\n",
              "      <td>0</td>\n",
              "      <td>13.00</td>\n",
              "    </tr>\n",
              "    <tr>\n",
              "      <th>883</th>\n",
              "      <td>Survived</td>\n",
              "      <td>1</td>\n",
              "      <td>Miss. Margaret Edith Graham</td>\n",
              "      <td>1</td>\n",
              "      <td>19.0</td>\n",
              "      <td>0</td>\n",
              "      <td>0</td>\n",
              "      <td>30.00</td>\n",
              "    </tr>\n",
              "    <tr>\n",
              "      <th>884</th>\n",
              "      <td>Dead</td>\n",
              "      <td>3</td>\n",
              "      <td>Miss. Catherine Helen Johnston</td>\n",
              "      <td>1</td>\n",
              "      <td>7.0</td>\n",
              "      <td>1</td>\n",
              "      <td>2</td>\n",
              "      <td>23.45</td>\n",
              "    </tr>\n",
              "    <tr>\n",
              "      <th>885</th>\n",
              "      <td>Survived</td>\n",
              "      <td>1</td>\n",
              "      <td>Mr. Karl Howell Behr</td>\n",
              "      <td>0</td>\n",
              "      <td>26.0</td>\n",
              "      <td>0</td>\n",
              "      <td>0</td>\n",
              "      <td>30.00</td>\n",
              "    </tr>\n",
              "    <tr>\n",
              "      <th>886</th>\n",
              "      <td>Dead</td>\n",
              "      <td>3</td>\n",
              "      <td>Mr. Patrick Dooley</td>\n",
              "      <td>0</td>\n",
              "      <td>32.0</td>\n",
              "      <td>0</td>\n",
              "      <td>0</td>\n",
              "      <td>7.75</td>\n",
              "    </tr>\n",
              "  </tbody>\n",
              "</table>\n",
              "</div>"
            ],
            "text/plain": [
              "     Survived  Pclass  ... Parents/Children Aboard   Fare\n",
              "882      Dead       2  ...                       0  13.00\n",
              "883  Survived       1  ...                       0  30.00\n",
              "884      Dead       3  ...                       2  23.45\n",
              "885  Survived       1  ...                       0  30.00\n",
              "886      Dead       3  ...                       0   7.75\n",
              "\n",
              "[5 rows x 8 columns]"
            ]
          },
          "metadata": {},
          "execution_count": 13
        }
      ]
    },
    {
      "cell_type": "code",
      "metadata": {
        "id": "3UrojSLL8whJ",
        "colab": {
          "base_uri": "https://localhost:8080/",
          "height": 143
        },
        "outputId": "3504d962-5e03-4e01-f097-5805ef465d86"
      },
      "source": [
        "# It's up to you to save everybody:\n",
        "model = LogisticRegression()\n",
        "model.fit(X_train,y_train)\n",
        "\n",
        "print(\"accuracy score on train set:\",model.score(X_train, y_train))\n",
        "print(\"accuracy score on test set:\",model.score(X_test, y_test))\n",
        "\n",
        "pd.DataFrame(data = confusion_matrix(y_true = y_test, y_pred = model.predict(X_test)),\n",
        "             index = model.classes_ + \" actual\",\n",
        "             columns = model.classes_ + \" predicted\")"
      ],
      "execution_count": null,
      "outputs": [
        {
          "output_type": "stream",
          "name": "stdout",
          "text": [
            "accuracy score on train set: 0.8165413533834587\n",
            "accuracy score on test set: 0.7882882882882883\n"
          ]
        },
        {
          "output_type": "execute_result",
          "data": {
            "text/html": [
              "<div>\n",
              "<style scoped>\n",
              "    .dataframe tbody tr th:only-of-type {\n",
              "        vertical-align: middle;\n",
              "    }\n",
              "\n",
              "    .dataframe tbody tr th {\n",
              "        vertical-align: top;\n",
              "    }\n",
              "\n",
              "    .dataframe thead th {\n",
              "        text-align: right;\n",
              "    }\n",
              "</style>\n",
              "<table border=\"1\" class=\"dataframe\">\n",
              "  <thead>\n",
              "    <tr style=\"text-align: right;\">\n",
              "      <th></th>\n",
              "      <th>Dead predicted</th>\n",
              "      <th>Survived predicted</th>\n",
              "    </tr>\n",
              "  </thead>\n",
              "  <tbody>\n",
              "    <tr>\n",
              "      <th>Dead actual</th>\n",
              "      <td>110</td>\n",
              "      <td>19</td>\n",
              "    </tr>\n",
              "    <tr>\n",
              "      <th>Survived actual</th>\n",
              "      <td>28</td>\n",
              "      <td>65</td>\n",
              "    </tr>\n",
              "  </tbody>\n",
              "</table>\n",
              "</div>"
            ],
            "text/plain": [
              "                 Dead predicted  Survived predicted\n",
              "Dead actual                 110                  19\n",
              "Survived actual              28                  65"
            ]
          },
          "metadata": {},
          "execution_count": 14
        }
      ]
    },
    {
      "cell_type": "markdown",
      "metadata": {
        "id": "hZzv1nztzdbf"
      },
      "source": [
        "# People most at risk\n",
        "\n",
        "You are looking for people most at risk.\n",
        "- Compute the prediction probabilities **on your test set**\n",
        "- Which column is about \"survived\" probability?\n",
        "- Among the previous prediction probability array, select only the column corresponding to the \"Survived\" probability\n",
        "- Display the passengers by sorting  most likely to survive first (`sorted_values()` method?)"
      ]
    },
    {
      "cell_type": "code",
      "metadata": {
        "colab": {
          "base_uri": "https://localhost:8080/"
        },
        "id": "L3yHAnb49u_S",
        "outputId": "bcc74350-5a1d-44c9-dc25-68b37f4e0ba1"
      },
      "source": [
        "model.predict(X_test)"
      ],
      "execution_count": null,
      "outputs": [
        {
          "output_type": "execute_result",
          "data": {
            "text/plain": [
              "array(['Dead', 'Dead', 'Survived', 'Dead', 'Dead', 'Dead', 'Dead',\n",
              "       'Survived', 'Survived', 'Dead', 'Dead', 'Dead', 'Dead', 'Dead',\n",
              "       'Dead', 'Survived', 'Survived', 'Survived', 'Dead', 'Survived',\n",
              "       'Dead', 'Survived', 'Dead', 'Dead', 'Dead', 'Survived', 'Dead',\n",
              "       'Dead', 'Dead', 'Survived', 'Dead', 'Dead', 'Dead', 'Dead',\n",
              "       'Survived', 'Dead', 'Dead', 'Dead', 'Survived', 'Survived',\n",
              "       'Survived', 'Dead', 'Dead', 'Survived', 'Dead', 'Survived', 'Dead',\n",
              "       'Survived', 'Dead', 'Dead', 'Dead', 'Survived', 'Dead', 'Survived',\n",
              "       'Survived', 'Dead', 'Dead', 'Dead', 'Dead', 'Dead', 'Dead', 'Dead',\n",
              "       'Dead', 'Dead', 'Dead', 'Survived', 'Survived', 'Survived', 'Dead',\n",
              "       'Dead', 'Dead', 'Survived', 'Dead', 'Survived', 'Survived',\n",
              "       'Survived', 'Survived', 'Dead', 'Survived', 'Dead', 'Survived',\n",
              "       'Dead', 'Dead', 'Dead', 'Dead', 'Dead', 'Dead', 'Survived', 'Dead',\n",
              "       'Dead', 'Survived', 'Dead', 'Dead', 'Survived', 'Dead', 'Survived',\n",
              "       'Dead', 'Dead', 'Dead', 'Survived', 'Dead', 'Survived', 'Dead',\n",
              "       'Dead', 'Dead', 'Survived', 'Dead', 'Survived', 'Survived',\n",
              "       'Survived', 'Survived', 'Dead', 'Dead', 'Dead', 'Survived', 'Dead',\n",
              "       'Dead', 'Dead', 'Survived', 'Dead', 'Dead', 'Survived', 'Dead',\n",
              "       'Survived', 'Survived', 'Survived', 'Dead', 'Dead', 'Dead',\n",
              "       'Survived', 'Survived', 'Survived', 'Dead', 'Dead', 'Dead', 'Dead',\n",
              "       'Survived', 'Survived', 'Dead', 'Dead', 'Dead', 'Dead', 'Dead',\n",
              "       'Dead', 'Dead', 'Dead', 'Survived', 'Survived', 'Dead', 'Survived',\n",
              "       'Dead', 'Dead', 'Survived', 'Dead', 'Dead', 'Dead', 'Survived',\n",
              "       'Dead', 'Dead', 'Dead', 'Survived', 'Survived', 'Survived', 'Dead',\n",
              "       'Survived', 'Dead', 'Survived', 'Dead', 'Dead', 'Survived',\n",
              "       'Survived', 'Dead', 'Dead', 'Survived', 'Survived', 'Dead',\n",
              "       'Survived', 'Survived', 'Survived', 'Dead', 'Survived', 'Dead',\n",
              "       'Dead', 'Dead', 'Dead', 'Dead', 'Dead', 'Dead', 'Dead', 'Dead',\n",
              "       'Survived', 'Dead', 'Dead', 'Survived', 'Dead', 'Dead', 'Survived',\n",
              "       'Dead', 'Dead', 'Dead', 'Dead', 'Dead', 'Survived', 'Survived',\n",
              "       'Dead', 'Survived', 'Dead', 'Survived', 'Survived', 'Survived',\n",
              "       'Survived', 'Dead', 'Survived', 'Dead', 'Dead', 'Dead', 'Dead',\n",
              "       'Dead', 'Dead', 'Survived', 'Survived', 'Survived'], dtype=object)"
            ]
          },
          "metadata": {},
          "execution_count": 15
        }
      ]
    },
    {
      "cell_type": "code",
      "metadata": {
        "id": "FEj-ZIQp0WUn",
        "colab": {
          "base_uri": "https://localhost:8080/"
        },
        "outputId": "c40a2dde-f97a-44a0-f89f-c972529ee436"
      },
      "source": [
        "# It's up to you:\n",
        "model.fit(X_test,y_test)\n",
        "\n",
        "prediction = model.predict_proba(X_test.iloc[:,:])\n",
        "prediction[1]"
      ],
      "execution_count": null,
      "outputs": [
        {
          "output_type": "execute_result",
          "data": {
            "text/plain": [
              "array([0.85229328, 0.14770672])"
            ]
          },
          "metadata": {},
          "execution_count": 32
        }
      ]
    },
    {
      "cell_type": "code",
      "metadata": {
        "colab": {
          "base_uri": "https://localhost:8080/"
        },
        "id": "1eQ8XAR9QmQ2",
        "outputId": "69dec220-6ff3-4697-a973-4f9c525b4a27"
      },
      "source": [
        "model.classes_"
      ],
      "execution_count": null,
      "outputs": [
        {
          "output_type": "execute_result",
          "data": {
            "text/plain": [
              "array(['Dead', 'Survived'], dtype=object)"
            ]
          },
          "metadata": {},
          "execution_count": 17
        }
      ]
    },
    {
      "cell_type": "code",
      "metadata": {
        "id": "5OdVSTIhQ_ve"
      },
      "source": [
        "# Survived is the second column"
      ],
      "execution_count": null,
      "outputs": []
    },
    {
      "cell_type": "code",
      "metadata": {
        "id": "7jNLJEkdRHI8"
      },
      "source": [
        "prediction2 = prediction[:,1:]"
      ],
      "execution_count": null,
      "outputs": []
    },
    {
      "cell_type": "code",
      "metadata": {
        "colab": {
          "base_uri": "https://localhost:8080/",
          "height": 414
        },
        "id": "2YpBONCAWUbJ",
        "outputId": "7e6edaea-e93a-46de-86ad-d65ed5e66f37"
      },
      "source": [
        "X_test2 = X_test.copy()\n",
        "X_test2[\"prediction\"] = prediction2\n",
        "X_test2"
      ],
      "execution_count": null,
      "outputs": [
        {
          "output_type": "execute_result",
          "data": {
            "text/html": [
              "<div>\n",
              "<style scoped>\n",
              "    .dataframe tbody tr th:only-of-type {\n",
              "        vertical-align: middle;\n",
              "    }\n",
              "\n",
              "    .dataframe tbody tr th {\n",
              "        vertical-align: top;\n",
              "    }\n",
              "\n",
              "    .dataframe thead th {\n",
              "        text-align: right;\n",
              "    }\n",
              "</style>\n",
              "<table border=\"1\" class=\"dataframe\">\n",
              "  <thead>\n",
              "    <tr style=\"text-align: right;\">\n",
              "      <th></th>\n",
              "      <th>Pclass</th>\n",
              "      <th>Sex</th>\n",
              "      <th>Age</th>\n",
              "      <th>Siblings/Spouses Aboard</th>\n",
              "      <th>Parents/Children Aboard</th>\n",
              "      <th>Fare</th>\n",
              "      <th>prediction</th>\n",
              "    </tr>\n",
              "  </thead>\n",
              "  <tbody>\n",
              "    <tr>\n",
              "      <th>346</th>\n",
              "      <td>3</td>\n",
              "      <td>0</td>\n",
              "      <td>3.0</td>\n",
              "      <td>1</td>\n",
              "      <td>1</td>\n",
              "      <td>15.9000</td>\n",
              "      <td>0.145435</td>\n",
              "    </tr>\n",
              "    <tr>\n",
              "      <th>458</th>\n",
              "      <td>3</td>\n",
              "      <td>0</td>\n",
              "      <td>34.0</td>\n",
              "      <td>0</td>\n",
              "      <td>0</td>\n",
              "      <td>8.0500</td>\n",
              "      <td>0.147707</td>\n",
              "    </tr>\n",
              "    <tr>\n",
              "      <th>878</th>\n",
              "      <td>3</td>\n",
              "      <td>1</td>\n",
              "      <td>22.0</td>\n",
              "      <td>0</td>\n",
              "      <td>0</td>\n",
              "      <td>10.5167</td>\n",
              "      <td>0.709508</td>\n",
              "    </tr>\n",
              "    <tr>\n",
              "      <th>618</th>\n",
              "      <td>1</td>\n",
              "      <td>0</td>\n",
              "      <td>42.0</td>\n",
              "      <td>1</td>\n",
              "      <td>0</td>\n",
              "      <td>52.5542</td>\n",
              "      <td>0.382961</td>\n",
              "    </tr>\n",
              "    <tr>\n",
              "      <th>178</th>\n",
              "      <td>3</td>\n",
              "      <td>0</td>\n",
              "      <td>36.0</td>\n",
              "      <td>0</td>\n",
              "      <td>0</td>\n",
              "      <td>0.0000</td>\n",
              "      <td>0.138885</td>\n",
              "    </tr>\n",
              "    <tr>\n",
              "      <th>...</th>\n",
              "      <td>...</td>\n",
              "      <td>...</td>\n",
              "      <td>...</td>\n",
              "      <td>...</td>\n",
              "      <td>...</td>\n",
              "      <td>...</td>\n",
              "      <td>...</td>\n",
              "    </tr>\n",
              "    <tr>\n",
              "      <th>345</th>\n",
              "      <td>3</td>\n",
              "      <td>1</td>\n",
              "      <td>34.0</td>\n",
              "      <td>1</td>\n",
              "      <td>0</td>\n",
              "      <td>16.1000</td>\n",
              "      <td>0.628743</td>\n",
              "    </tr>\n",
              "    <tr>\n",
              "      <th>693</th>\n",
              "      <td>3</td>\n",
              "      <td>0</td>\n",
              "      <td>44.0</td>\n",
              "      <td>0</td>\n",
              "      <td>0</td>\n",
              "      <td>8.0500</td>\n",
              "      <td>0.132665</td>\n",
              "    </tr>\n",
              "    <tr>\n",
              "      <th>423</th>\n",
              "      <td>2</td>\n",
              "      <td>1</td>\n",
              "      <td>28.0</td>\n",
              "      <td>1</td>\n",
              "      <td>0</td>\n",
              "      <td>26.0000</td>\n",
              "      <td>0.792821</td>\n",
              "    </tr>\n",
              "    <tr>\n",
              "      <th>19</th>\n",
              "      <td>3</td>\n",
              "      <td>1</td>\n",
              "      <td>22.0</td>\n",
              "      <td>0</td>\n",
              "      <td>0</td>\n",
              "      <td>7.2250</td>\n",
              "      <td>0.705539</td>\n",
              "    </tr>\n",
              "    <tr>\n",
              "      <th>564</th>\n",
              "      <td>3</td>\n",
              "      <td>1</td>\n",
              "      <td>29.0</td>\n",
              "      <td>0</td>\n",
              "      <td>4</td>\n",
              "      <td>21.0750</td>\n",
              "      <td>0.514511</td>\n",
              "    </tr>\n",
              "  </tbody>\n",
              "</table>\n",
              "<p>222 rows × 7 columns</p>\n",
              "</div>"
            ],
            "text/plain": [
              "     Pclass  Sex   Age  ...  Parents/Children Aboard     Fare  prediction\n",
              "346       3    0   3.0  ...                        1  15.9000    0.145435\n",
              "458       3    0  34.0  ...                        0   8.0500    0.147707\n",
              "878       3    1  22.0  ...                        0  10.5167    0.709508\n",
              "618       1    0  42.0  ...                        0  52.5542    0.382961\n",
              "178       3    0  36.0  ...                        0   0.0000    0.138885\n",
              "..      ...  ...   ...  ...                      ...      ...         ...\n",
              "345       3    1  34.0  ...                        0  16.1000    0.628743\n",
              "693       3    0  44.0  ...                        0   8.0500    0.132665\n",
              "423       2    1  28.0  ...                        0  26.0000    0.792821\n",
              "19        3    1  22.0  ...                        0   7.2250    0.705539\n",
              "564       3    1  29.0  ...                        4  21.0750    0.514511\n",
              "\n",
              "[222 rows x 7 columns]"
            ]
          },
          "metadata": {},
          "execution_count": 20
        }
      ]
    },
    {
      "cell_type": "code",
      "metadata": {
        "colab": {
          "base_uri": "https://localhost:8080/"
        },
        "id": "6Ax6l9DHW9_B",
        "outputId": "41e52ef8-b3dd-43d5-c5c7-f33cd20e446b"
      },
      "source": [
        "isindex = X_test2.index\n",
        "isindex"
      ],
      "execution_count": null,
      "outputs": [
        {
          "output_type": "execute_result",
          "data": {
            "text/plain": [
              "Int64Index([346, 458, 878, 618, 178, 377, 781,  78, 883, 318,\n",
              "            ...\n",
              "            371, 579, 658, 166, 771, 345, 693, 423,  19, 564],\n",
              "           dtype='int64', length=222)"
            ]
          },
          "metadata": {},
          "execution_count": 21
        }
      ]
    },
    {
      "cell_type": "code",
      "metadata": {
        "colab": {
          "base_uri": "https://localhost:8080/",
          "height": 414
        },
        "id": "3ez6BsffUkkg",
        "outputId": "8a53423a-89e7-4b35-81d2-5ce69c57a617"
      },
      "source": [
        "X_test2[\"Name\"] = df_titanic[\"Name\"].iloc[isindex]\n",
        "X_test3 = X_test2.sort_values(by=['prediction'], ascending=False)\n",
        "X_test3"
      ],
      "execution_count": null,
      "outputs": [
        {
          "output_type": "execute_result",
          "data": {
            "text/html": [
              "<div>\n",
              "<style scoped>\n",
              "    .dataframe tbody tr th:only-of-type {\n",
              "        vertical-align: middle;\n",
              "    }\n",
              "\n",
              "    .dataframe tbody tr th {\n",
              "        vertical-align: top;\n",
              "    }\n",
              "\n",
              "    .dataframe thead th {\n",
              "        text-align: right;\n",
              "    }\n",
              "</style>\n",
              "<table border=\"1\" class=\"dataframe\">\n",
              "  <thead>\n",
              "    <tr style=\"text-align: right;\">\n",
              "      <th></th>\n",
              "      <th>Pclass</th>\n",
              "      <th>Sex</th>\n",
              "      <th>Age</th>\n",
              "      <th>Siblings/Spouses Aboard</th>\n",
              "      <th>Parents/Children Aboard</th>\n",
              "      <th>Fare</th>\n",
              "      <th>prediction</th>\n",
              "      <th>Name</th>\n",
              "    </tr>\n",
              "  </thead>\n",
              "  <tbody>\n",
              "    <tr>\n",
              "      <th>297</th>\n",
              "      <td>1</td>\n",
              "      <td>1</td>\n",
              "      <td>50.0</td>\n",
              "      <td>0</td>\n",
              "      <td>1</td>\n",
              "      <td>247.5208</td>\n",
              "      <td>0.956357</td>\n",
              "      <td>Mrs. James (Helene DeLaudeniere Chaput) Baxter</td>\n",
              "    </tr>\n",
              "    <tr>\n",
              "      <th>309</th>\n",
              "      <td>1</td>\n",
              "      <td>1</td>\n",
              "      <td>18.0</td>\n",
              "      <td>2</td>\n",
              "      <td>2</td>\n",
              "      <td>262.3750</td>\n",
              "      <td>0.946516</td>\n",
              "      <td>Miss. Emily Borie Ryerson</td>\n",
              "    </tr>\n",
              "    <tr>\n",
              "      <th>534</th>\n",
              "      <td>1</td>\n",
              "      <td>1</td>\n",
              "      <td>30.0</td>\n",
              "      <td>0</td>\n",
              "      <td>0</td>\n",
              "      <td>106.4250</td>\n",
              "      <td>0.938024</td>\n",
              "      <td>Miss. Bertha LeRoy</td>\n",
              "    </tr>\n",
              "    <tr>\n",
              "      <th>304</th>\n",
              "      <td>1</td>\n",
              "      <td>1</td>\n",
              "      <td>42.0</td>\n",
              "      <td>0</td>\n",
              "      <td>0</td>\n",
              "      <td>110.8833</td>\n",
              "      <td>0.930419</td>\n",
              "      <td>Miss. Margaret Fleming</td>\n",
              "    </tr>\n",
              "    <tr>\n",
              "      <th>755</th>\n",
              "      <td>1</td>\n",
              "      <td>1</td>\n",
              "      <td>33.0</td>\n",
              "      <td>0</td>\n",
              "      <td>0</td>\n",
              "      <td>86.5000</td>\n",
              "      <td>0.928473</td>\n",
              "      <td>the Countess. of (Lucy Noel Martha Dyer-Edward...</td>\n",
              "    </tr>\n",
              "    <tr>\n",
              "      <th>...</th>\n",
              "      <td>...</td>\n",
              "      <td>...</td>\n",
              "      <td>...</td>\n",
              "      <td>...</td>\n",
              "      <td>...</td>\n",
              "      <td>...</td>\n",
              "      <td>...</td>\n",
              "      <td>...</td>\n",
              "    </tr>\n",
              "    <tr>\n",
              "      <th>264</th>\n",
              "      <td>3</td>\n",
              "      <td>0</td>\n",
              "      <td>16.0</td>\n",
              "      <td>4</td>\n",
              "      <td>1</td>\n",
              "      <td>39.6875</td>\n",
              "      <td>0.073027</td>\n",
              "      <td>Mr. Ernesti Arvid Panula</td>\n",
              "    </tr>\n",
              "    <tr>\n",
              "      <th>259</th>\n",
              "      <td>3</td>\n",
              "      <td>0</td>\n",
              "      <td>3.0</td>\n",
              "      <td>4</td>\n",
              "      <td>2</td>\n",
              "      <td>31.3875</td>\n",
              "      <td>0.067273</td>\n",
              "      <td>Master. Edvin Rojj Felix Asplund</td>\n",
              "    </tr>\n",
              "    <tr>\n",
              "      <th>384</th>\n",
              "      <td>3</td>\n",
              "      <td>0</td>\n",
              "      <td>1.0</td>\n",
              "      <td>5</td>\n",
              "      <td>2</td>\n",
              "      <td>46.9000</td>\n",
              "      <td>0.059367</td>\n",
              "      <td>Master. Sidney Leonard Goodwin</td>\n",
              "    </tr>\n",
              "    <tr>\n",
              "      <th>13</th>\n",
              "      <td>3</td>\n",
              "      <td>0</td>\n",
              "      <td>39.0</td>\n",
              "      <td>1</td>\n",
              "      <td>5</td>\n",
              "      <td>31.2750</td>\n",
              "      <td>0.050214</td>\n",
              "      <td>Mr. Anders Johan Andersson</td>\n",
              "    </tr>\n",
              "    <tr>\n",
              "      <th>322</th>\n",
              "      <td>3</td>\n",
              "      <td>0</td>\n",
              "      <td>20.0</td>\n",
              "      <td>8</td>\n",
              "      <td>2</td>\n",
              "      <td>69.5500</td>\n",
              "      <td>0.026221</td>\n",
              "      <td>Mr. George John Jr Sage</td>\n",
              "    </tr>\n",
              "  </tbody>\n",
              "</table>\n",
              "<p>222 rows × 8 columns</p>\n",
              "</div>"
            ],
            "text/plain": [
              "     Pclass  Sex  ...  prediction                                               Name\n",
              "297       1    1  ...    0.956357     Mrs. James (Helene DeLaudeniere Chaput) Baxter\n",
              "309       1    1  ...    0.946516                          Miss. Emily Borie Ryerson\n",
              "534       1    1  ...    0.938024                                 Miss. Bertha LeRoy\n",
              "304       1    1  ...    0.930419                             Miss. Margaret Fleming\n",
              "755       1    1  ...    0.928473  the Countess. of (Lucy Noel Martha Dyer-Edward...\n",
              "..      ...  ...  ...         ...                                                ...\n",
              "264       3    0  ...    0.073027                           Mr. Ernesti Arvid Panula\n",
              "259       3    0  ...    0.067273                   Master. Edvin Rojj Felix Asplund\n",
              "384       3    0  ...    0.059367                     Master. Sidney Leonard Goodwin\n",
              "13        3    0  ...    0.050214                         Mr. Anders Johan Andersson\n",
              "322       3    0  ...    0.026221                            Mr. George John Jr Sage\n",
              "\n",
              "[222 rows x 8 columns]"
            ]
          },
          "metadata": {},
          "execution_count": 22
        }
      ]
    },
    {
      "cell_type": "markdown",
      "metadata": {
        "id": "4DeDfBz285C_"
      },
      "source": [
        "# Bonus - Model improvement, under constraint\n",
        "\n",
        "Your time travel boss tells you that there's a budget cut. You now can only save 120 people max. Not one more.\n",
        "\n",
        "If your model predicts as \"dead\" someone who would have survived in reality. You then \"save\" that person, who would have survived even without your time-traveling help. And you take the place of someone who could have been saved. That's not optimal.\n",
        "\n",
        "Select the 120 people with the highest probability of dying. Of these, how many actually survived?"
      ]
    },
    {
      "cell_type": "code",
      "metadata": {
        "colab": {
          "base_uri": "https://localhost:8080/",
          "height": 414
        },
        "id": "YOq5xTwzfGMv",
        "outputId": "a73890e5-e112-43f5-87ed-883ad4756434"
      },
      "source": [
        "X_test_121 = X_test3.sort_values(by=['prediction'], ascending=True)\n",
        "X_test_121"
      ],
      "execution_count": null,
      "outputs": [
        {
          "output_type": "execute_result",
          "data": {
            "text/html": [
              "<div>\n",
              "<style scoped>\n",
              "    .dataframe tbody tr th:only-of-type {\n",
              "        vertical-align: middle;\n",
              "    }\n",
              "\n",
              "    .dataframe tbody tr th {\n",
              "        vertical-align: top;\n",
              "    }\n",
              "\n",
              "    .dataframe thead th {\n",
              "        text-align: right;\n",
              "    }\n",
              "</style>\n",
              "<table border=\"1\" class=\"dataframe\">\n",
              "  <thead>\n",
              "    <tr style=\"text-align: right;\">\n",
              "      <th></th>\n",
              "      <th>Pclass</th>\n",
              "      <th>Sex</th>\n",
              "      <th>Age</th>\n",
              "      <th>Siblings/Spouses Aboard</th>\n",
              "      <th>Parents/Children Aboard</th>\n",
              "      <th>Fare</th>\n",
              "      <th>prediction</th>\n",
              "      <th>Name</th>\n",
              "    </tr>\n",
              "  </thead>\n",
              "  <tbody>\n",
              "    <tr>\n",
              "      <th>322</th>\n",
              "      <td>3</td>\n",
              "      <td>0</td>\n",
              "      <td>20.0</td>\n",
              "      <td>8</td>\n",
              "      <td>2</td>\n",
              "      <td>69.5500</td>\n",
              "      <td>0.026221</td>\n",
              "      <td>Mr. George John Jr Sage</td>\n",
              "    </tr>\n",
              "    <tr>\n",
              "      <th>13</th>\n",
              "      <td>3</td>\n",
              "      <td>0</td>\n",
              "      <td>39.0</td>\n",
              "      <td>1</td>\n",
              "      <td>5</td>\n",
              "      <td>31.2750</td>\n",
              "      <td>0.050214</td>\n",
              "      <td>Mr. Anders Johan Andersson</td>\n",
              "    </tr>\n",
              "    <tr>\n",
              "      <th>384</th>\n",
              "      <td>3</td>\n",
              "      <td>0</td>\n",
              "      <td>1.0</td>\n",
              "      <td>5</td>\n",
              "      <td>2</td>\n",
              "      <td>46.9000</td>\n",
              "      <td>0.059367</td>\n",
              "      <td>Master. Sidney Leonard Goodwin</td>\n",
              "    </tr>\n",
              "    <tr>\n",
              "      <th>259</th>\n",
              "      <td>3</td>\n",
              "      <td>0</td>\n",
              "      <td>3.0</td>\n",
              "      <td>4</td>\n",
              "      <td>2</td>\n",
              "      <td>31.3875</td>\n",
              "      <td>0.067273</td>\n",
              "      <td>Master. Edvin Rojj Felix Asplund</td>\n",
              "    </tr>\n",
              "    <tr>\n",
              "      <th>264</th>\n",
              "      <td>3</td>\n",
              "      <td>0</td>\n",
              "      <td>16.0</td>\n",
              "      <td>4</td>\n",
              "      <td>1</td>\n",
              "      <td>39.6875</td>\n",
              "      <td>0.073027</td>\n",
              "      <td>Mr. Ernesti Arvid Panula</td>\n",
              "    </tr>\n",
              "    <tr>\n",
              "      <th>...</th>\n",
              "      <td>...</td>\n",
              "      <td>...</td>\n",
              "      <td>...</td>\n",
              "      <td>...</td>\n",
              "      <td>...</td>\n",
              "      <td>...</td>\n",
              "      <td>...</td>\n",
              "      <td>...</td>\n",
              "    </tr>\n",
              "    <tr>\n",
              "      <th>755</th>\n",
              "      <td>1</td>\n",
              "      <td>1</td>\n",
              "      <td>33.0</td>\n",
              "      <td>0</td>\n",
              "      <td>0</td>\n",
              "      <td>86.5000</td>\n",
              "      <td>0.928473</td>\n",
              "      <td>the Countess. of (Lucy Noel Martha Dyer-Edward...</td>\n",
              "    </tr>\n",
              "    <tr>\n",
              "      <th>304</th>\n",
              "      <td>1</td>\n",
              "      <td>1</td>\n",
              "      <td>42.0</td>\n",
              "      <td>0</td>\n",
              "      <td>0</td>\n",
              "      <td>110.8833</td>\n",
              "      <td>0.930419</td>\n",
              "      <td>Miss. Margaret Fleming</td>\n",
              "    </tr>\n",
              "    <tr>\n",
              "      <th>534</th>\n",
              "      <td>1</td>\n",
              "      <td>1</td>\n",
              "      <td>30.0</td>\n",
              "      <td>0</td>\n",
              "      <td>0</td>\n",
              "      <td>106.4250</td>\n",
              "      <td>0.938024</td>\n",
              "      <td>Miss. Bertha LeRoy</td>\n",
              "    </tr>\n",
              "    <tr>\n",
              "      <th>309</th>\n",
              "      <td>1</td>\n",
              "      <td>1</td>\n",
              "      <td>18.0</td>\n",
              "      <td>2</td>\n",
              "      <td>2</td>\n",
              "      <td>262.3750</td>\n",
              "      <td>0.946516</td>\n",
              "      <td>Miss. Emily Borie Ryerson</td>\n",
              "    </tr>\n",
              "    <tr>\n",
              "      <th>297</th>\n",
              "      <td>1</td>\n",
              "      <td>1</td>\n",
              "      <td>50.0</td>\n",
              "      <td>0</td>\n",
              "      <td>1</td>\n",
              "      <td>247.5208</td>\n",
              "      <td>0.956357</td>\n",
              "      <td>Mrs. James (Helene DeLaudeniere Chaput) Baxter</td>\n",
              "    </tr>\n",
              "  </tbody>\n",
              "</table>\n",
              "<p>222 rows × 8 columns</p>\n",
              "</div>"
            ],
            "text/plain": [
              "     Pclass  Sex  ...  prediction                                               Name\n",
              "322       3    0  ...    0.026221                            Mr. George John Jr Sage\n",
              "13        3    0  ...    0.050214                         Mr. Anders Johan Andersson\n",
              "384       3    0  ...    0.059367                     Master. Sidney Leonard Goodwin\n",
              "259       3    0  ...    0.067273                   Master. Edvin Rojj Felix Asplund\n",
              "264       3    0  ...    0.073027                           Mr. Ernesti Arvid Panula\n",
              "..      ...  ...  ...         ...                                                ...\n",
              "755       1    1  ...    0.928473  the Countess. of (Lucy Noel Martha Dyer-Edward...\n",
              "304       1    1  ...    0.930419                             Miss. Margaret Fleming\n",
              "534       1    1  ...    0.938024                                 Miss. Bertha LeRoy\n",
              "309       1    1  ...    0.946516                          Miss. Emily Borie Ryerson\n",
              "297       1    1  ...    0.956357     Mrs. James (Helene DeLaudeniere Chaput) Baxter\n",
              "\n",
              "[222 rows x 8 columns]"
            ]
          },
          "metadata": {},
          "execution_count": 23
        }
      ]
    },
    {
      "cell_type": "code",
      "metadata": {
        "id": "CErxEfjQ-MUU",
        "colab": {
          "base_uri": "https://localhost:8080/",
          "height": 547
        },
        "outputId": "acd07dc4-9e18-440e-f4de-311f969b2aec"
      },
      "source": [
        "# It's up to you:\n",
        "X_test_120_index = X_test_121[:120:].index\n",
        "X_test_122 = X_test_121[:120:]\n",
        "X_test_122[\"Survived\"] = df_titanic[\"Survived\"].iloc[X_test_120_index]\n",
        "X_test_122"
      ],
      "execution_count": null,
      "outputs": [
        {
          "output_type": "stream",
          "name": "stderr",
          "text": [
            "/usr/local/lib/python3.7/dist-packages/ipykernel_launcher.py:4: SettingWithCopyWarning:\n",
            "\n",
            "\n",
            "A value is trying to be set on a copy of a slice from a DataFrame.\n",
            "Try using .loc[row_indexer,col_indexer] = value instead\n",
            "\n",
            "See the caveats in the documentation: https://pandas.pydata.org/pandas-docs/stable/user_guide/indexing.html#returning-a-view-versus-a-copy\n",
            "\n"
          ]
        },
        {
          "output_type": "execute_result",
          "data": {
            "text/html": [
              "<div>\n",
              "<style scoped>\n",
              "    .dataframe tbody tr th:only-of-type {\n",
              "        vertical-align: middle;\n",
              "    }\n",
              "\n",
              "    .dataframe tbody tr th {\n",
              "        vertical-align: top;\n",
              "    }\n",
              "\n",
              "    .dataframe thead th {\n",
              "        text-align: right;\n",
              "    }\n",
              "</style>\n",
              "<table border=\"1\" class=\"dataframe\">\n",
              "  <thead>\n",
              "    <tr style=\"text-align: right;\">\n",
              "      <th></th>\n",
              "      <th>Pclass</th>\n",
              "      <th>Sex</th>\n",
              "      <th>Age</th>\n",
              "      <th>Siblings/Spouses Aboard</th>\n",
              "      <th>Parents/Children Aboard</th>\n",
              "      <th>Fare</th>\n",
              "      <th>prediction</th>\n",
              "      <th>Name</th>\n",
              "      <th>Survived</th>\n",
              "    </tr>\n",
              "  </thead>\n",
              "  <tbody>\n",
              "    <tr>\n",
              "      <th>322</th>\n",
              "      <td>3</td>\n",
              "      <td>0</td>\n",
              "      <td>20.0</td>\n",
              "      <td>8</td>\n",
              "      <td>2</td>\n",
              "      <td>69.5500</td>\n",
              "      <td>0.026221</td>\n",
              "      <td>Mr. George John Jr Sage</td>\n",
              "      <td>Dead</td>\n",
              "    </tr>\n",
              "    <tr>\n",
              "      <th>13</th>\n",
              "      <td>3</td>\n",
              "      <td>0</td>\n",
              "      <td>39.0</td>\n",
              "      <td>1</td>\n",
              "      <td>5</td>\n",
              "      <td>31.2750</td>\n",
              "      <td>0.050214</td>\n",
              "      <td>Mr. Anders Johan Andersson</td>\n",
              "      <td>Dead</td>\n",
              "    </tr>\n",
              "    <tr>\n",
              "      <th>384</th>\n",
              "      <td>3</td>\n",
              "      <td>0</td>\n",
              "      <td>1.0</td>\n",
              "      <td>5</td>\n",
              "      <td>2</td>\n",
              "      <td>46.9000</td>\n",
              "      <td>0.059367</td>\n",
              "      <td>Master. Sidney Leonard Goodwin</td>\n",
              "      <td>Dead</td>\n",
              "    </tr>\n",
              "    <tr>\n",
              "      <th>259</th>\n",
              "      <td>3</td>\n",
              "      <td>0</td>\n",
              "      <td>3.0</td>\n",
              "      <td>4</td>\n",
              "      <td>2</td>\n",
              "      <td>31.3875</td>\n",
              "      <td>0.067273</td>\n",
              "      <td>Master. Edvin Rojj Felix Asplund</td>\n",
              "      <td>Survived</td>\n",
              "    </tr>\n",
              "    <tr>\n",
              "      <th>264</th>\n",
              "      <td>3</td>\n",
              "      <td>0</td>\n",
              "      <td>16.0</td>\n",
              "      <td>4</td>\n",
              "      <td>1</td>\n",
              "      <td>39.6875</td>\n",
              "      <td>0.073027</td>\n",
              "      <td>Mr. Ernesti Arvid Panula</td>\n",
              "      <td>Dead</td>\n",
              "    </tr>\n",
              "    <tr>\n",
              "      <th>...</th>\n",
              "      <td>...</td>\n",
              "      <td>...</td>\n",
              "      <td>...</td>\n",
              "      <td>...</td>\n",
              "      <td>...</td>\n",
              "      <td>...</td>\n",
              "      <td>...</td>\n",
              "      <td>...</td>\n",
              "      <td>...</td>\n",
              "    </tr>\n",
              "    <tr>\n",
              "      <th>489</th>\n",
              "      <td>1</td>\n",
              "      <td>0</td>\n",
              "      <td>55.0</td>\n",
              "      <td>0</td>\n",
              "      <td>0</td>\n",
              "      <td>30.5000</td>\n",
              "      <td>0.373076</td>\n",
              "      <td>Mr. Harry Markland Molson</td>\n",
              "      <td>Dead</td>\n",
              "    </tr>\n",
              "    <tr>\n",
              "      <th>261</th>\n",
              "      <td>1</td>\n",
              "      <td>0</td>\n",
              "      <td>40.0</td>\n",
              "      <td>0</td>\n",
              "      <td>0</td>\n",
              "      <td>0.0000</td>\n",
              "      <td>0.375332</td>\n",
              "      <td>Mr. William Harrison</td>\n",
              "      <td>Dead</td>\n",
              "    </tr>\n",
              "    <tr>\n",
              "      <th>383</th>\n",
              "      <td>2</td>\n",
              "      <td>0</td>\n",
              "      <td>18.0</td>\n",
              "      <td>0</td>\n",
              "      <td>0</td>\n",
              "      <td>73.5000</td>\n",
              "      <td>0.380142</td>\n",
              "      <td>Mr. Charles Henry Davies</td>\n",
              "      <td>Dead</td>\n",
              "    </tr>\n",
              "    <tr>\n",
              "      <th>818</th>\n",
              "      <td>1</td>\n",
              "      <td>0</td>\n",
              "      <td>38.0</td>\n",
              "      <td>0</td>\n",
              "      <td>0</td>\n",
              "      <td>0.0000</td>\n",
              "      <td>0.381206</td>\n",
              "      <td>Jonkheer. John George Reuchlin</td>\n",
              "      <td>Dead</td>\n",
              "    </tr>\n",
              "    <tr>\n",
              "      <th>446</th>\n",
              "      <td>1</td>\n",
              "      <td>0</td>\n",
              "      <td>52.0</td>\n",
              "      <td>0</td>\n",
              "      <td>0</td>\n",
              "      <td>30.5000</td>\n",
              "      <td>0.381880</td>\n",
              "      <td>Major. Arthur Godfrey Peuchen</td>\n",
              "      <td>Survived</td>\n",
              "    </tr>\n",
              "  </tbody>\n",
              "</table>\n",
              "<p>120 rows × 9 columns</p>\n",
              "</div>"
            ],
            "text/plain": [
              "     Pclass  Sex   Age  ...  prediction                              Name  Survived\n",
              "322       3    0  20.0  ...    0.026221           Mr. George John Jr Sage      Dead\n",
              "13        3    0  39.0  ...    0.050214        Mr. Anders Johan Andersson      Dead\n",
              "384       3    0   1.0  ...    0.059367    Master. Sidney Leonard Goodwin      Dead\n",
              "259       3    0   3.0  ...    0.067273  Master. Edvin Rojj Felix Asplund  Survived\n",
              "264       3    0  16.0  ...    0.073027          Mr. Ernesti Arvid Panula      Dead\n",
              "..      ...  ...   ...  ...         ...                               ...       ...\n",
              "489       1    0  55.0  ...    0.373076         Mr. Harry Markland Molson      Dead\n",
              "261       1    0  40.0  ...    0.375332              Mr. William Harrison      Dead\n",
              "383       2    0  18.0  ...    0.380142          Mr. Charles Henry Davies      Dead\n",
              "818       1    0  38.0  ...    0.381206    Jonkheer. John George Reuchlin      Dead\n",
              "446       1    0  52.0  ...    0.381880     Major. Arthur Godfrey Peuchen  Survived\n",
              "\n",
              "[120 rows x 9 columns]"
            ]
          },
          "metadata": {},
          "execution_count": 24
        }
      ]
    },
    {
      "cell_type": "code",
      "metadata": {
        "colab": {
          "base_uri": "https://localhost:8080/"
        },
        "id": "EsOB8lVKemjg",
        "outputId": "b4a5fa05-f941-4d95-dde5-bb956e30935f"
      },
      "source": [
        "X_test_122[\"Survived\"].value_counts()"
      ],
      "execution_count": null,
      "outputs": [
        {
          "output_type": "execute_result",
          "data": {
            "text/plain": [
              "Dead        102\n",
              "Survived     18\n",
              "Name: Survived, dtype: int64"
            ]
          },
          "metadata": {},
          "execution_count": 25
        }
      ]
    },
    {
      "cell_type": "markdown",
      "metadata": {
        "id": "5wg1tAdXXGpZ"
      },
      "source": [
        "# Bonus - More predictions\n",
        "\n",
        "Does the Reverend \"Rev. Juozas Montvila\" have a better chance of survival than \"Mrs. William (Margaret Norton) Rice\"?\n",
        "- Filter the initial DataFrame to get only the 2 rows with the 2 persons above, and only columns present in your variables (X)\n",
        "- Make a prediction with probability for this 2 people\n",
        "- Which one has a better chance to survive?\n"
      ]
    },
    {
      "cell_type": "code",
      "metadata": {
        "id": "NMoGFW8DioeP",
        "colab": {
          "base_uri": "https://localhost:8080/",
          "height": 110
        },
        "outputId": "f79134c9-d5c5-4d7b-a3a0-5d787309e197"
      },
      "source": [
        "new_df = df_titanic.loc[df_titanic[\"Name\"] == \"Rev. Juozas Montvila\"]\n",
        "new_df2 = df_titanic.loc[df_titanic[\"Name\"] == \"Mrs. William (Margaret Norton) Rice\"]\n",
        "frames = [new_df, new_df2]\n",
        "result = pd.concat(frames)\n",
        "result = result[[\"Pclass\", 'Sex', 'Age', \"Siblings/Spouses Aboard\",'Parents/Children Aboard', 'Fare']]\n",
        "result"
      ],
      "execution_count": null,
      "outputs": [
        {
          "output_type": "execute_result",
          "data": {
            "text/html": [
              "<div>\n",
              "<style scoped>\n",
              "    .dataframe tbody tr th:only-of-type {\n",
              "        vertical-align: middle;\n",
              "    }\n",
              "\n",
              "    .dataframe tbody tr th {\n",
              "        vertical-align: top;\n",
              "    }\n",
              "\n",
              "    .dataframe thead th {\n",
              "        text-align: right;\n",
              "    }\n",
              "</style>\n",
              "<table border=\"1\" class=\"dataframe\">\n",
              "  <thead>\n",
              "    <tr style=\"text-align: right;\">\n",
              "      <th></th>\n",
              "      <th>Pclass</th>\n",
              "      <th>Sex</th>\n",
              "      <th>Age</th>\n",
              "      <th>Siblings/Spouses Aboard</th>\n",
              "      <th>Parents/Children Aboard</th>\n",
              "      <th>Fare</th>\n",
              "    </tr>\n",
              "  </thead>\n",
              "  <tbody>\n",
              "    <tr>\n",
              "      <th>882</th>\n",
              "      <td>2</td>\n",
              "      <td>0</td>\n",
              "      <td>27.0</td>\n",
              "      <td>0</td>\n",
              "      <td>0</td>\n",
              "      <td>13.000</td>\n",
              "    </tr>\n",
              "    <tr>\n",
              "      <th>881</th>\n",
              "      <td>3</td>\n",
              "      <td>1</td>\n",
              "      <td>39.0</td>\n",
              "      <td>0</td>\n",
              "      <td>5</td>\n",
              "      <td>29.125</td>\n",
              "    </tr>\n",
              "  </tbody>\n",
              "</table>\n",
              "</div>"
            ],
            "text/plain": [
              "     Pclass  Sex  ...  Parents/Children Aboard    Fare\n",
              "882       2    0  ...                        0  13.000\n",
              "881       3    1  ...                        5  29.125\n",
              "\n",
              "[2 rows x 6 columns]"
            ]
          },
          "metadata": {},
          "execution_count": 26
        }
      ]
    },
    {
      "cell_type": "code",
      "metadata": {
        "colab": {
          "base_uri": "https://localhost:8080/"
        },
        "id": "5L1eqY4j7imX",
        "outputId": "4add6630-6cdc-4251-8862-bbd25a4e5a2c"
      },
      "source": [
        "prediction3 = model.predict_proba(result)\n",
        "prediction4 = prediction3[:, 1]\n",
        "prediction4"
      ],
      "execution_count": null,
      "outputs": [
        {
          "output_type": "execute_result",
          "data": {
            "text/plain": [
              "array([0.27810826, 0.44467988])"
            ]
          },
          "metadata": {},
          "execution_count": 27
        }
      ]
    },
    {
      "cell_type": "code",
      "metadata": {
        "colab": {
          "base_uri": "https://localhost:8080/",
          "height": 110
        },
        "id": "WdZkCXF39lIR",
        "outputId": "4adbda99-605b-4fbe-fd89-5872b2d709c6"
      },
      "source": [
        "result['prediction'] = prediction4\n",
        "result"
      ],
      "execution_count": null,
      "outputs": [
        {
          "output_type": "execute_result",
          "data": {
            "text/html": [
              "<div>\n",
              "<style scoped>\n",
              "    .dataframe tbody tr th:only-of-type {\n",
              "        vertical-align: middle;\n",
              "    }\n",
              "\n",
              "    .dataframe tbody tr th {\n",
              "        vertical-align: top;\n",
              "    }\n",
              "\n",
              "    .dataframe thead th {\n",
              "        text-align: right;\n",
              "    }\n",
              "</style>\n",
              "<table border=\"1\" class=\"dataframe\">\n",
              "  <thead>\n",
              "    <tr style=\"text-align: right;\">\n",
              "      <th></th>\n",
              "      <th>Pclass</th>\n",
              "      <th>Sex</th>\n",
              "      <th>Age</th>\n",
              "      <th>Siblings/Spouses Aboard</th>\n",
              "      <th>Parents/Children Aboard</th>\n",
              "      <th>Fare</th>\n",
              "      <th>prediction</th>\n",
              "    </tr>\n",
              "  </thead>\n",
              "  <tbody>\n",
              "    <tr>\n",
              "      <th>882</th>\n",
              "      <td>2</td>\n",
              "      <td>0</td>\n",
              "      <td>27.0</td>\n",
              "      <td>0</td>\n",
              "      <td>0</td>\n",
              "      <td>13.000</td>\n",
              "      <td>0.278108</td>\n",
              "    </tr>\n",
              "    <tr>\n",
              "      <th>881</th>\n",
              "      <td>3</td>\n",
              "      <td>1</td>\n",
              "      <td>39.0</td>\n",
              "      <td>0</td>\n",
              "      <td>5</td>\n",
              "      <td>29.125</td>\n",
              "      <td>0.444680</td>\n",
              "    </tr>\n",
              "  </tbody>\n",
              "</table>\n",
              "</div>"
            ],
            "text/plain": [
              "     Pclass  Sex   Age  ...  Parents/Children Aboard    Fare  prediction\n",
              "882       2    0  27.0  ...                        0  13.000    0.278108\n",
              "881       3    1  39.0  ...                        5  29.125    0.444680\n",
              "\n",
              "[2 rows x 7 columns]"
            ]
          },
          "metadata": {},
          "execution_count": 28
        }
      ]
    },
    {
      "cell_type": "code",
      "metadata": {
        "colab": {
          "base_uri": "https://localhost:8080/",
          "height": 110
        },
        "id": "mhRyJ90k_ImS",
        "outputId": "19a67889-f5b1-45e4-971f-9a172b7a8ead"
      },
      "source": [
        "df_titanic.iloc[-6:-4:]"
      ],
      "execution_count": null,
      "outputs": [
        {
          "output_type": "execute_result",
          "data": {
            "text/html": [
              "<div>\n",
              "<style scoped>\n",
              "    .dataframe tbody tr th:only-of-type {\n",
              "        vertical-align: middle;\n",
              "    }\n",
              "\n",
              "    .dataframe tbody tr th {\n",
              "        vertical-align: top;\n",
              "    }\n",
              "\n",
              "    .dataframe thead th {\n",
              "        text-align: right;\n",
              "    }\n",
              "</style>\n",
              "<table border=\"1\" class=\"dataframe\">\n",
              "  <thead>\n",
              "    <tr style=\"text-align: right;\">\n",
              "      <th></th>\n",
              "      <th>Survived</th>\n",
              "      <th>Pclass</th>\n",
              "      <th>Name</th>\n",
              "      <th>Sex</th>\n",
              "      <th>Age</th>\n",
              "      <th>Siblings/Spouses Aboard</th>\n",
              "      <th>Parents/Children Aboard</th>\n",
              "      <th>Fare</th>\n",
              "    </tr>\n",
              "  </thead>\n",
              "  <tbody>\n",
              "    <tr>\n",
              "      <th>881</th>\n",
              "      <td>Dead</td>\n",
              "      <td>3</td>\n",
              "      <td>Mrs. William (Margaret Norton) Rice</td>\n",
              "      <td>1</td>\n",
              "      <td>39.0</td>\n",
              "      <td>0</td>\n",
              "      <td>5</td>\n",
              "      <td>29.125</td>\n",
              "    </tr>\n",
              "    <tr>\n",
              "      <th>882</th>\n",
              "      <td>Dead</td>\n",
              "      <td>2</td>\n",
              "      <td>Rev. Juozas Montvila</td>\n",
              "      <td>0</td>\n",
              "      <td>27.0</td>\n",
              "      <td>0</td>\n",
              "      <td>0</td>\n",
              "      <td>13.000</td>\n",
              "    </tr>\n",
              "  </tbody>\n",
              "</table>\n",
              "</div>"
            ],
            "text/plain": [
              "    Survived  Pclass  ... Parents/Children Aboard    Fare\n",
              "881     Dead       3  ...                       5  29.125\n",
              "882     Dead       2  ...                       0  13.000\n",
              "\n",
              "[2 rows x 8 columns]"
            ]
          },
          "metadata": {},
          "execution_count": 29
        }
      ]
    },
    {
      "cell_type": "code",
      "metadata": {
        "id": "CBVyApJ8_Ssv"
      },
      "source": [
        "#based on index, Mrs. William (Margaret Norton) Rice had a better chance of survival but they both died"
      ],
      "execution_count": null,
      "outputs": []
    }
  ]
}