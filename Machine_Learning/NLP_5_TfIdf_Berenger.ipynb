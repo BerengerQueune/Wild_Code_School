{
  "nbformat": 4,
  "nbformat_minor": 0,
  "metadata": {
    "colab": {
      "name": "NLP 5 : TfIdf - Berenger.ipynb",
      "provenance": [],
      "collapsed_sections": []
    },
    "kernelspec": {
      "name": "python3",
      "display_name": "Python 3"
    },
    "language_info": {
      "name": "python"
    }
  },
  "cells": [
    {
      "cell_type": "code",
      "metadata": {
        "id": "4nNLeCn7R0b7"
      },
      "source": [
        "import numpy as np\n",
        "import pandas as pd\n",
        "import matplotlib.pyplot as plt\n",
        "import seaborn as sns\n",
        "import plotly.express as px\n",
        "from sklearn.model_selection import train_test_split\n",
        "from sklearn.feature_extraction.text import CountVectorizer\n"
      ],
      "execution_count": null,
      "outputs": []
    },
    {
      "cell_type": "code",
      "metadata": {
        "colab": {
          "base_uri": "https://localhost:8080/"
        },
        "id": "NH2nz3uOSLqr",
        "outputId": "7187e553-9679-4934-f1d2-d6dbd7e1b828"
      },
      "source": [
        "df = pd.read_csv(\"https://raw.githubusercontent.com/BerengerQueune/wild_notebooks/main/Dataset/train.csv\")\n",
        "df.shape"
      ],
      "execution_count": null,
      "outputs": [
        {
          "output_type": "execute_result",
          "data": {
            "text/plain": [
              "(27481, 4)"
            ]
          },
          "metadata": {},
          "execution_count": 10
        }
      ]
    },
    {
      "cell_type": "markdown",
      "metadata": {
        "id": "Xc3epbzTSV25"
      },
      "source": [
        "Keep only positive and negative tweets (so you exclude neutral). What is the percentage of positive/negative tweets?"
      ]
    },
    {
      "cell_type": "code",
      "metadata": {
        "colab": {
          "base_uri": "https://localhost:8080/"
        },
        "id": "d1Q6rm1bSXqL",
        "outputId": "c64c3ed0-2697-4cbf-d125-c0d5a1dfe307"
      },
      "source": [
        "df_positive_negative = df.loc[df[\"sentiment\"].isin([\"negative\", \"positive\"])]\n",
        "\n",
        "df_positive_negative[\"sentiment\"].value_counts(normalize=True)*100"
      ],
      "execution_count": null,
      "outputs": [
        {
          "output_type": "execute_result",
          "data": {
            "text/plain": [
              "positive    52.447595\n",
              "negative    47.552405\n",
              "Name: sentiment, dtype: float64"
            ]
          },
          "metadata": {},
          "execution_count": 11
        }
      ]
    },
    {
      "cell_type": "markdown",
      "metadata": {
        "id": "hVTHVQ9kTbeX"
      },
      "source": [
        "<b><font color='orange'>The percentage of positive tweets is 52,44% and negative tweets is 47,55%.</font></b>"
      ]
    },
    {
      "cell_type": "code",
      "metadata": {
        "id": "_RkPjaBRcXgn"
      },
      "source": [
        "df_positive_negative.reset_index(drop=True,inplace=True)"
      ],
      "execution_count": null,
      "outputs": []
    },
    {
      "cell_type": "markdown",
      "metadata": {
        "id": "SrKKDy0XTx9e"
      },
      "source": [
        "Copy the text column into a Series X, and the sentiment column into a Series y. Apply a train test split with the random_state = 32."
      ]
    },
    {
      "cell_type": "code",
      "metadata": {
        "id": "LWCwz_qvSwgC"
      },
      "source": [
        "X = df_positive_negative[\"text\"]\n",
        "y = df_positive_negative['sentiment']\n",
        "\n",
        "X_train, X_test, y_train, y_test = train_test_split(X, y, random_state = 32, train_size = 0.75)"
      ],
      "execution_count": null,
      "outputs": []
    },
    {
      "cell_type": "markdown",
      "metadata": {
        "id": "XMwRt1L6UYpc"
      },
      "source": [
        "Create a vectorizer model with scikit-learn using the Countvectorizer method. Train your model on X_train, then create a matrix of features X_train_CV. Create the X_test_CV matrix without re-training the model. The format of the X_test_CV matrix should be 4091x15806 with 44633 stored elements."
      ]
    },
    {
      "cell_type": "code",
      "metadata": {
        "colab": {
          "base_uri": "https://localhost:8080/"
        },
        "id": "_lEvnN6GUZLA",
        "outputId": "590ecb2b-18b8-477a-b927-51ef6bb3aa66"
      },
      "source": [
        "from sklearn.feature_extraction.text import TfidfVectorizer\n",
        "tfidf = TfidfVectorizer()\n",
        "tfidf.fit(X_train)"
      ],
      "execution_count": null,
      "outputs": [
        {
          "output_type": "execute_result",
          "data": {
            "text/plain": [
              "TfidfVectorizer()"
            ]
          },
          "metadata": {},
          "execution_count": 14
        }
      ]
    },
    {
      "cell_type": "code",
      "metadata": {
        "id": "kSXwxqqxUpdj"
      },
      "source": [
        "X_train_CV = tfidf.transform(X_train)"
      ],
      "execution_count": null,
      "outputs": []
    },
    {
      "cell_type": "code",
      "metadata": {
        "id": "DAop0kbTU6EB"
      },
      "source": [
        "X_test_CV = tfidf.transform(X_test)"
      ],
      "execution_count": null,
      "outputs": []
    },
    {
      "cell_type": "code",
      "metadata": {
        "id": "h4C099rUVCAe",
        "colab": {
          "base_uri": "https://localhost:8080/"
        },
        "outputId": "d37a4183-e729-48f0-a6aa-c1aea15118fe"
      },
      "source": [
        "X_test_CV"
      ],
      "execution_count": null,
      "outputs": [
        {
          "output_type": "execute_result",
          "data": {
            "text/plain": [
              "<4091x15806 sparse matrix of type '<class 'numpy.float64'>'\n",
              "\twith 44633 stored elements in Compressed Sparse Row format>"
            ]
          },
          "metadata": {},
          "execution_count": 17
        }
      ]
    },
    {
      "cell_type": "markdown",
      "metadata": {
        "id": "ExrACJghVFwX"
      },
      "source": [
        "Now train a logistic regression with default parameters. You should get these scores: 0.966 for the train test, and 0.877 for the test set."
      ]
    },
    {
      "cell_type": "code",
      "metadata": {
        "colab": {
          "base_uri": "https://localhost:8080/"
        },
        "id": "5cqOF8WBVJCC",
        "outputId": "b9dd7e31-32f9-4813-c8c7-da97deb9d0fc"
      },
      "source": [
        "from sklearn.linear_model import LogisticRegression\n",
        "\n",
        "model = LogisticRegression().fit(X_train_CV,y_train)\n",
        "\n",
        "print(\"accuracy score on train set:\",model.score(X_train_CV, y_train))\n",
        "print(\"accuracy score on test set:\",model.score(X_test_CV, y_test))"
      ],
      "execution_count": null,
      "outputs": [
        {
          "output_type": "stream",
          "name": "stdout",
          "text": [
            "accuracy score on train set: 0.9321219035202086\n",
            "accuracy score on test set: 0.8731361525299438\n"
          ]
        }
      ]
    }
  ]
}