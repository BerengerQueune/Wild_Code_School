{
  "nbformat": 4,
  "nbformat_minor": 0,
  "metadata": {
    "colab": {
      "name": "2.3 ML Classifications - Decision Tree Bérenger.ipynb",
      "provenance": [],
      "collapsed_sections": []
    },
    "kernelspec": {
      "name": "python3",
      "display_name": "Python 3"
    }
  },
  "cells": [
    {
      "cell_type": "markdown",
      "metadata": {
        "id": "JnwN3axz4pE4"
      },
      "source": [
        "# Decision Trees\n",
        "Within this challenge, we're going to use decision trees in both a classification sense and a regression sense and visualize each of these representations. In this challenge, we will be using the `mpg` dataset."
      ]
    },
    {
      "cell_type": "markdown",
      "metadata": {
        "id": "K7nAqbRN-FFe"
      },
      "source": [
        "## Regression Trees"
      ]
    },
    {
      "cell_type": "code",
      "metadata": {
        "id": "fv9xluj24jzc",
        "colab": {
          "base_uri": "https://localhost:8080/",
          "height": 510
        },
        "outputId": "60a55b8a-0a35-4c56-e46c-2f7c396624e7"
      },
      "source": [
        "# Load in the necessary libraries and the dataset\n",
        "import pandas as pd\n",
        "import numpy as np\n",
        "import seaborn as sns\n",
        "from sklearn.model_selection import train_test_split\n",
        "from sklearn import tree\n",
        "from sklearn.metrics import accuracy_score, r2_score\n",
        "import matplotlib.pyplot as plt\n",
        "\n",
        "data = sns.load_dataset(\"mpg\")\n",
        "\n",
        "# Drop the rows with missing values\n",
        "# Drop the \"name\" column\n",
        "# Transform the \"origin\" column to represent the following:\n",
        "#   USA = 0, Japan = 1, Europe = 2\n",
        "\n",
        "# INSERT CODE HERE\n",
        "\n",
        "data2 = data.dropna()\n",
        "data2.drop('name', axis=1, inplace=True)\n",
        "data2['origin'] = data2['origin'].factorize()[0]\n",
        "print (data[\"origin\"].value_counts())\n",
        "print (data2[\"origin\"].value_counts())\n",
        "data2.head()"
      ],
      "execution_count": null,
      "outputs": [
        {
          "output_type": "stream",
          "name": "stdout",
          "text": [
            "usa       249\n",
            "japan      79\n",
            "europe     70\n",
            "Name: origin, dtype: int64\n",
            "0    245\n",
            "1     79\n",
            "2     68\n",
            "Name: origin, dtype: int64\n"
          ]
        },
        {
          "output_type": "stream",
          "name": "stderr",
          "text": [
            "/usr/local/lib/python3.7/dist-packages/pandas/core/frame.py:4174: SettingWithCopyWarning: \n",
            "A value is trying to be set on a copy of a slice from a DataFrame\n",
            "\n",
            "See the caveats in the documentation: https://pandas.pydata.org/pandas-docs/stable/user_guide/indexing.html#returning-a-view-versus-a-copy\n",
            "  errors=errors,\n",
            "/usr/local/lib/python3.7/dist-packages/ipykernel_launcher.py:21: SettingWithCopyWarning: \n",
            "A value is trying to be set on a copy of a slice from a DataFrame.\n",
            "Try using .loc[row_indexer,col_indexer] = value instead\n",
            "\n",
            "See the caveats in the documentation: https://pandas.pydata.org/pandas-docs/stable/user_guide/indexing.html#returning-a-view-versus-a-copy\n"
          ]
        },
        {
          "output_type": "execute_result",
          "data": {
            "text/html": [
              "<div>\n",
              "<style scoped>\n",
              "    .dataframe tbody tr th:only-of-type {\n",
              "        vertical-align: middle;\n",
              "    }\n",
              "\n",
              "    .dataframe tbody tr th {\n",
              "        vertical-align: top;\n",
              "    }\n",
              "\n",
              "    .dataframe thead th {\n",
              "        text-align: right;\n",
              "    }\n",
              "</style>\n",
              "<table border=\"1\" class=\"dataframe\">\n",
              "  <thead>\n",
              "    <tr style=\"text-align: right;\">\n",
              "      <th></th>\n",
              "      <th>mpg</th>\n",
              "      <th>cylinders</th>\n",
              "      <th>displacement</th>\n",
              "      <th>horsepower</th>\n",
              "      <th>weight</th>\n",
              "      <th>acceleration</th>\n",
              "      <th>model_year</th>\n",
              "      <th>origin</th>\n",
              "    </tr>\n",
              "  </thead>\n",
              "  <tbody>\n",
              "    <tr>\n",
              "      <th>0</th>\n",
              "      <td>18.0</td>\n",
              "      <td>8</td>\n",
              "      <td>307.0</td>\n",
              "      <td>130.0</td>\n",
              "      <td>3504</td>\n",
              "      <td>12.0</td>\n",
              "      <td>70</td>\n",
              "      <td>0</td>\n",
              "    </tr>\n",
              "    <tr>\n",
              "      <th>1</th>\n",
              "      <td>15.0</td>\n",
              "      <td>8</td>\n",
              "      <td>350.0</td>\n",
              "      <td>165.0</td>\n",
              "      <td>3693</td>\n",
              "      <td>11.5</td>\n",
              "      <td>70</td>\n",
              "      <td>0</td>\n",
              "    </tr>\n",
              "    <tr>\n",
              "      <th>2</th>\n",
              "      <td>18.0</td>\n",
              "      <td>8</td>\n",
              "      <td>318.0</td>\n",
              "      <td>150.0</td>\n",
              "      <td>3436</td>\n",
              "      <td>11.0</td>\n",
              "      <td>70</td>\n",
              "      <td>0</td>\n",
              "    </tr>\n",
              "    <tr>\n",
              "      <th>3</th>\n",
              "      <td>16.0</td>\n",
              "      <td>8</td>\n",
              "      <td>304.0</td>\n",
              "      <td>150.0</td>\n",
              "      <td>3433</td>\n",
              "      <td>12.0</td>\n",
              "      <td>70</td>\n",
              "      <td>0</td>\n",
              "    </tr>\n",
              "    <tr>\n",
              "      <th>4</th>\n",
              "      <td>17.0</td>\n",
              "      <td>8</td>\n",
              "      <td>302.0</td>\n",
              "      <td>140.0</td>\n",
              "      <td>3449</td>\n",
              "      <td>10.5</td>\n",
              "      <td>70</td>\n",
              "      <td>0</td>\n",
              "    </tr>\n",
              "  </tbody>\n",
              "</table>\n",
              "</div>"
            ],
            "text/plain": [
              "    mpg  cylinders  displacement  ...  acceleration  model_year  origin\n",
              "0  18.0          8         307.0  ...          12.0          70       0\n",
              "1  15.0          8         350.0  ...          11.5          70       0\n",
              "2  18.0          8         318.0  ...          11.0          70       0\n",
              "3  16.0          8         304.0  ...          12.0          70       0\n",
              "4  17.0          8         302.0  ...          10.5          70       0\n",
              "\n",
              "[5 rows x 8 columns]"
            ]
          },
          "metadata": {},
          "execution_count": 1
        }
      ]
    },
    {
      "cell_type": "code",
      "metadata": {
        "id": "rZ43TkkL4mqv"
      },
      "source": [
        "# Split into train and test splits using the \"mpg\" column as target, random state of 42 and a test size of 20%\n",
        "# INSERT CODE HERE\n",
        "\n",
        "X = data2[[\"cylinders\", \"displacement\", \"horsepower\", \"weight\", \"acceleration\", \"model_year\", \"origin\"]]\n",
        "y = data2[\"mpg\"]\n",
        "\n",
        "X_train, X_test, y_train, y_test = train_test_split(X, y, train_size = 0.8, random_state = 42)\n"
      ],
      "execution_count": null,
      "outputs": []
    },
    {
      "cell_type": "code",
      "metadata": {
        "id": "OuXrepbF5uca",
        "colab": {
          "base_uri": "https://localhost:8080/"
        },
        "outputId": "44f6f9bf-ceda-4ce9-b4e7-06066aa852f9"
      },
      "source": [
        "# Fit a decision tree\n",
        "# INSERT CODE HERE\n",
        "\n",
        "\n",
        "from sklearn.tree import DecisionTreeRegressor\n",
        "modelDTR = DecisionTreeRegressor()\n",
        "modelDTR.fit(X_train, y_train)"
      ],
      "execution_count": null,
      "outputs": [
        {
          "output_type": "execute_result",
          "data": {
            "text/plain": [
              "DecisionTreeRegressor(ccp_alpha=0.0, criterion='mse', max_depth=None,\n",
              "                      max_features=None, max_leaf_nodes=None,\n",
              "                      min_impurity_decrease=0.0, min_impurity_split=None,\n",
              "                      min_samples_leaf=1, min_samples_split=2,\n",
              "                      min_weight_fraction_leaf=0.0, presort='deprecated',\n",
              "                      random_state=None, splitter='best')"
            ]
          },
          "metadata": {},
          "execution_count": 3
        }
      ]
    },
    {
      "cell_type": "code",
      "metadata": {
        "id": "9iDodpFq6TLD",
        "colab": {
          "base_uri": "https://localhost:8080/"
        },
        "outputId": "0c66618b-d8cb-4065-d407-19eb1a227fa5"
      },
      "source": [
        "# Predict on the xtest set\n",
        "# INSERT CODE HERE\n",
        "\n",
        "modelDTR.predict(X_test)"
      ],
      "execution_count": null,
      "outputs": [
        {
          "output_type": "execute_result",
          "data": {
            "text/plain": [
              "array([25. , 19. , 37.2, 33. , 27. , 27. , 12. , 31.5, 18. , 31. , 15. ,\n",
              "       16.5, 17.5, 28. , 16.5, 27. , 18. , 32.4, 36.4, 37. , 20.3, 36. ,\n",
              "       35.1, 17. , 31. , 28. , 18. , 18. , 26. , 25. , 16. , 20.2, 23. ,\n",
              "       28. , 14. , 31. ,  9. , 25. , 14. , 12. , 14. , 28. , 34. , 26. ,\n",
              "       16. , 11. , 18. , 46.6, 25. , 33. , 14. , 21. , 21. , 37. , 38. ,\n",
              "       16. , 22. , 19. , 24. , 23. , 11. , 20. , 28.8, 23.8, 24. , 26. ,\n",
              "       24.5, 33. , 23. , 14. , 25. , 13. , 20.3, 19. , 20.5, 24. , 13. ,\n",
              "       17. , 24. ])"
            ]
          },
          "metadata": {},
          "execution_count": 4
        }
      ]
    },
    {
      "cell_type": "code",
      "metadata": {
        "id": "b_tMkB6d6kxo",
        "colab": {
          "base_uri": "https://localhost:8080/"
        },
        "outputId": "3094a6ac-5222-42ad-c16a-e94cce8d8e65"
      },
      "source": [
        "# Print out the R2 score.\n",
        "# INSERT CODE HERE\n",
        "\n",
        "print(\"\\nScore for the Train dataset :\", modelDTR.score(X_train, y_train))\n",
        "print(\"Score for the Test dataset :\", modelDTR.score(X_test, y_test))"
      ],
      "execution_count": null,
      "outputs": [
        {
          "output_type": "stream",
          "name": "stdout",
          "text": [
            "\n",
            "Score for the Train dataset : 1.0\n",
            "Score for the Test dataset : 0.7532591387294727\n"
          ]
        }
      ]
    },
    {
      "cell_type": "code",
      "metadata": {
        "id": "4BEgnReTNC0a",
        "colab": {
          "base_uri": "https://localhost:8080/"
        },
        "outputId": "03a44cf4-73b1-4cd1-c5f4-11dc9d24e9a7"
      },
      "source": [
        "# Print each feature with importance %\n",
        "# INSERT CODE HERE\n",
        "modelDTR.feature_importances_"
      ],
      "execution_count": null,
      "outputs": [
        {
          "output_type": "execute_result",
          "data": {
            "text/plain": [
              "array([0.00614516, 0.62797024, 0.1733152 , 0.06231011, 0.02162947,\n",
              "       0.1047651 , 0.00386472])"
            ]
          },
          "metadata": {},
          "execution_count": 6
        }
      ]
    },
    {
      "cell_type": "code",
      "metadata": {
        "id": "HDnykI_M65hZ",
        "colab": {
          "base_uri": "https://localhost:8080/",
          "height": 609
        },
        "outputId": "45c308c3-85df-478d-bed5-12d4989d39f3"
      },
      "source": [
        "# Plot the results\n",
        "# Use column names as feature names and a max_depth of only 2\n",
        "# INSERT CODE HERE\n",
        "\n",
        "modelDTR = DecisionTreeRegressor(max_depth = 2)\n",
        "modelDTR.fit(X_train, y_train)\n",
        "\n",
        "from sklearn.tree import plot_tree\n",
        "import matplotlib.pyplot as plt\n",
        "\n",
        "plt.figure(figsize = (10,10))\n",
        "plot_tree(modelDTR, filled = True,  \n",
        "          class_names = modelDTR.classes_, \n",
        "          feature_names=X_train.columns )\n",
        "plt.show()"
      ],
      "execution_count": null,
      "outputs": [
        {
          "output_type": "stream",
          "name": "stderr",
          "text": [
            "/usr/local/lib/python3.7/dist-packages/sklearn/tree/_classes.py:1233: FutureWarning: the classes_ attribute is to be deprecated from version 0.22 and will be removed in 0.24.\n",
            "  warnings.warn(msg, FutureWarning)\n"
          ]
        },
        {
          "output_type": "display_data",
          "data": {
            "image/png": "[encoded data removed]",
            "text/plain": [
              "<Figure size 720x720 with 1 Axes>"
            ]
          },
          "metadata": {
            "needs_background": "light"
          }
        }
      ]
    },
    {
      "cell_type": "markdown",
      "metadata": {
        "id": "RGU1DS3h-OKm"
      },
      "source": [
        "## Classification Trees"
      ]
    },
    {
      "cell_type": "code",
      "metadata": {
        "id": "Z0aZESh28zlI",
        "colab": {
          "base_uri": "https://localhost:8080/",
          "height": 623
        },
        "outputId": "95f2b1e1-4a5f-4e15-8127-ac8f0b5dfdf8"
      },
      "source": [
        "# Load in the Penguins dataset\n",
        "data = sns.load_dataset('penguins')\n",
        "\n",
        "# Drop rows with missing values\n",
        "# Turn the species column into numeric\n",
        "# Specifically, Adelie = 0, Chinstrap = 1, and Gentoo = 2\n",
        "\n",
        "# Turn the island column into numeric\n",
        "# Specifically, Torgersen = 0, Biscoe = 1, Dream = 2\n",
        "\n",
        "# INSERT CODE HERE\n",
        "\n",
        "\n",
        "data2 = data.dropna()\n",
        "data2['species'] = data2['species'].factorize()[0]\n",
        "data2['island'] = data2['island'].factorize()[0]\n",
        "data2"
      ],
      "execution_count": null,
      "outputs": [
        {
          "output_type": "stream",
          "name": "stderr",
          "text": [
            "/usr/local/lib/python3.7/dist-packages/ipykernel_launcher.py:15: SettingWithCopyWarning: \n",
            "A value is trying to be set on a copy of a slice from a DataFrame.\n",
            "Try using .loc[row_indexer,col_indexer] = value instead\n",
            "\n",
            "See the caveats in the documentation: https://pandas.pydata.org/pandas-docs/stable/user_guide/indexing.html#returning-a-view-versus-a-copy\n",
            "  from ipykernel import kernelapp as app\n",
            "/usr/local/lib/python3.7/dist-packages/ipykernel_launcher.py:16: SettingWithCopyWarning: \n",
            "A value is trying to be set on a copy of a slice from a DataFrame.\n",
            "Try using .loc[row_indexer,col_indexer] = value instead\n",
            "\n",
            "See the caveats in the documentation: https://pandas.pydata.org/pandas-docs/stable/user_guide/indexing.html#returning-a-view-versus-a-copy\n",
            "  app.launch_new_instance()\n"
          ]
        },
        {
          "output_type": "execute_result",
          "data": {
            "text/html": [
              "<div>\n",
              "<style scoped>\n",
              "    .dataframe tbody tr th:only-of-type {\n",
              "        vertical-align: middle;\n",
              "    }\n",
              "\n",
              "    .dataframe tbody tr th {\n",
              "        vertical-align: top;\n",
              "    }\n",
              "\n",
              "    .dataframe thead th {\n",
              "        text-align: right;\n",
              "    }\n",
              "</style>\n",
              "<table border=\"1\" class=\"dataframe\">\n",
              "  <thead>\n",
              "    <tr style=\"text-align: right;\">\n",
              "      <th></th>\n",
              "      <th>species</th>\n",
              "      <th>island</th>\n",
              "      <th>bill_length_mm</th>\n",
              "      <th>bill_depth_mm</th>\n",
              "      <th>flipper_length_mm</th>\n",
              "      <th>body_mass_g</th>\n",
              "      <th>sex</th>\n",
              "    </tr>\n",
              "  </thead>\n",
              "  <tbody>\n",
              "    <tr>\n",
              "      <th>0</th>\n",
              "      <td>0</td>\n",
              "      <td>0</td>\n",
              "      <td>39.1</td>\n",
              "      <td>18.7</td>\n",
              "      <td>181.0</td>\n",
              "      <td>3750.0</td>\n",
              "      <td>Male</td>\n",
              "    </tr>\n",
              "    <tr>\n",
              "      <th>1</th>\n",
              "      <td>0</td>\n",
              "      <td>0</td>\n",
              "      <td>39.5</td>\n",
              "      <td>17.4</td>\n",
              "      <td>186.0</td>\n",
              "      <td>3800.0</td>\n",
              "      <td>Female</td>\n",
              "    </tr>\n",
              "    <tr>\n",
              "      <th>2</th>\n",
              "      <td>0</td>\n",
              "      <td>0</td>\n",
              "      <td>40.3</td>\n",
              "      <td>18.0</td>\n",
              "      <td>195.0</td>\n",
              "      <td>3250.0</td>\n",
              "      <td>Female</td>\n",
              "    </tr>\n",
              "    <tr>\n",
              "      <th>4</th>\n",
              "      <td>0</td>\n",
              "      <td>0</td>\n",
              "      <td>36.7</td>\n",
              "      <td>19.3</td>\n",
              "      <td>193.0</td>\n",
              "      <td>3450.0</td>\n",
              "      <td>Female</td>\n",
              "    </tr>\n",
              "    <tr>\n",
              "      <th>5</th>\n",
              "      <td>0</td>\n",
              "      <td>0</td>\n",
              "      <td>39.3</td>\n",
              "      <td>20.6</td>\n",
              "      <td>190.0</td>\n",
              "      <td>3650.0</td>\n",
              "      <td>Male</td>\n",
              "    </tr>\n",
              "    <tr>\n",
              "      <th>...</th>\n",
              "      <td>...</td>\n",
              "      <td>...</td>\n",
              "      <td>...</td>\n",
              "      <td>...</td>\n",
              "      <td>...</td>\n",
              "      <td>...</td>\n",
              "      <td>...</td>\n",
              "    </tr>\n",
              "    <tr>\n",
              "      <th>338</th>\n",
              "      <td>2</td>\n",
              "      <td>1</td>\n",
              "      <td>47.2</td>\n",
              "      <td>13.7</td>\n",
              "      <td>214.0</td>\n",
              "      <td>4925.0</td>\n",
              "      <td>Female</td>\n",
              "    </tr>\n",
              "    <tr>\n",
              "      <th>340</th>\n",
              "      <td>2</td>\n",
              "      <td>1</td>\n",
              "      <td>46.8</td>\n",
              "      <td>14.3</td>\n",
              "      <td>215.0</td>\n",
              "      <td>4850.0</td>\n",
              "      <td>Female</td>\n",
              "    </tr>\n",
              "    <tr>\n",
              "      <th>341</th>\n",
              "      <td>2</td>\n",
              "      <td>1</td>\n",
              "      <td>50.4</td>\n",
              "      <td>15.7</td>\n",
              "      <td>222.0</td>\n",
              "      <td>5750.0</td>\n",
              "      <td>Male</td>\n",
              "    </tr>\n",
              "    <tr>\n",
              "      <th>342</th>\n",
              "      <td>2</td>\n",
              "      <td>1</td>\n",
              "      <td>45.2</td>\n",
              "      <td>14.8</td>\n",
              "      <td>212.0</td>\n",
              "      <td>5200.0</td>\n",
              "      <td>Female</td>\n",
              "    </tr>\n",
              "    <tr>\n",
              "      <th>343</th>\n",
              "      <td>2</td>\n",
              "      <td>1</td>\n",
              "      <td>49.9</td>\n",
              "      <td>16.1</td>\n",
              "      <td>213.0</td>\n",
              "      <td>5400.0</td>\n",
              "      <td>Male</td>\n",
              "    </tr>\n",
              "  </tbody>\n",
              "</table>\n",
              "<p>333 rows × 7 columns</p>\n",
              "</div>"
            ],
            "text/plain": [
              "     species  island  bill_length_mm  ...  flipper_length_mm  body_mass_g     sex\n",
              "0          0       0            39.1  ...              181.0       3750.0    Male\n",
              "1          0       0            39.5  ...              186.0       3800.0  Female\n",
              "2          0       0            40.3  ...              195.0       3250.0  Female\n",
              "4          0       0            36.7  ...              193.0       3450.0  Female\n",
              "5          0       0            39.3  ...              190.0       3650.0    Male\n",
              "..       ...     ...             ...  ...                ...          ...     ...\n",
              "338        2       1            47.2  ...              214.0       4925.0  Female\n",
              "340        2       1            46.8  ...              215.0       4850.0  Female\n",
              "341        2       1            50.4  ...              222.0       5750.0    Male\n",
              "342        2       1            45.2  ...              212.0       5200.0  Female\n",
              "343        2       1            49.9  ...              213.0       5400.0    Male\n",
              "\n",
              "[333 rows x 7 columns]"
            ]
          },
          "metadata": {},
          "execution_count": 8
        }
      ]
    },
    {
      "cell_type": "code",
      "metadata": {
        "id": "aWLsB2cu-i-F"
      },
      "source": [
        "# Using a random state of 42 and a test size of 0.20, as well as \"sex\" as the output, split in training and testing sets\n",
        "# INSERT CODE HERE\n",
        "\n",
        "X = data2[[\"species\", \"island\", \"bill_length_mm\", \"bill_depth_mm\", \"flipper_length_mm\", \"body_mass_g\"]]\n",
        "y = data2[\"sex\"]\n",
        "\n",
        "X_train, X_test, y_train, y_test = train_test_split(X, y, train_size = 0.8, random_state = 42)"
      ],
      "execution_count": null,
      "outputs": []
    },
    {
      "cell_type": "code",
      "metadata": {
        "id": "YmGmYzoP-pQa",
        "colab": {
          "base_uri": "https://localhost:8080/"
        },
        "outputId": "0e09fbc0-d226-41c9-c89a-59e3237b09ee"
      },
      "source": [
        "# Using a random state of 42, fit the classification tree.\n",
        "# INSERT CODE HERE\n",
        "\n",
        "from sklearn.tree import DecisionTreeClassifier\n",
        "modelDTC = DecisionTreeClassifier()\n",
        "modelDTC.fit(X_train, y_train)"
      ],
      "execution_count": null,
      "outputs": [
        {
          "output_type": "execute_result",
          "data": {
            "text/plain": [
              "DecisionTreeClassifier(ccp_alpha=0.0, class_weight=None, criterion='gini',\n",
              "                       max_depth=None, max_features=None, max_leaf_nodes=None,\n",
              "                       min_impurity_decrease=0.0, min_impurity_split=None,\n",
              "                       min_samples_leaf=1, min_samples_split=2,\n",
              "                       min_weight_fraction_leaf=0.0, presort='deprecated',\n",
              "                       random_state=None, splitter='best')"
            ]
          },
          "metadata": {},
          "execution_count": 10
        }
      ]
    },
    {
      "cell_type": "code",
      "metadata": {
        "id": "uXSdrpxN-3vL",
        "colab": {
          "base_uri": "https://localhost:8080/"
        },
        "outputId": "b07ef20b-1e63-4f82-f7f5-5a75fa79fc6a"
      },
      "source": [
        "# Print the predictions on the test set\n",
        "# INSERT CODE HERE\n",
        "\n",
        "modelDTC.predict(X_test)"
      ],
      "execution_count": null,
      "outputs": [
        {
          "output_type": "execute_result",
          "data": {
            "text/plain": [
              "array(['Female', 'Female', 'Male', 'Male', 'Male', 'Female', 'Male',\n",
              "       'Female', 'Male', 'Male', 'Male', 'Female', 'Female', 'Female',\n",
              "       'Female', 'Female', 'Female', 'Female', 'Male', 'Female', 'Male',\n",
              "       'Female', 'Male', 'Male', 'Female', 'Female', 'Female', 'Female',\n",
              "       'Female', 'Male', 'Female', 'Male', 'Male', 'Female', 'Male',\n",
              "       'Female', 'Male', 'Female', 'Female', 'Female', 'Female', 'Female',\n",
              "       'Female', 'Male', 'Female', 'Female', 'Male', 'Male', 'Male',\n",
              "       'Female', 'Female', 'Male', 'Female', 'Female', 'Male', 'Male',\n",
              "       'Female', 'Male', 'Male', 'Male', 'Male', 'Male', 'Female',\n",
              "       'Female', 'Female', 'Male', 'Female'], dtype=object)"
            ]
          },
          "metadata": {},
          "execution_count": 11
        }
      ]
    },
    {
      "cell_type": "code",
      "metadata": {
        "id": "atjtKZc2--lb",
        "colab": {
          "base_uri": "https://localhost:8080/"
        },
        "outputId": "031fb317-9f12-4774-83d5-cad5e237a69c"
      },
      "source": [
        "# Print the accuracy score for the predictions\n",
        "# INSERT CODE HERE\n",
        "print(\"accuracy score on train set:\",modelDTC.score(X_train, y_train))\n",
        "print(\"accuracy score on test set:\",modelDTC.score(X_test, y_test))"
      ],
      "execution_count": null,
      "outputs": [
        {
          "output_type": "stream",
          "name": "stdout",
          "text": [
            "accuracy score on train set: 1.0\n",
            "accuracy score on test set: 0.835820895522388\n"
          ]
        }
      ]
    },
    {
      "cell_type": "code",
      "metadata": {
        "id": "WSZkduulNPmS",
        "colab": {
          "base_uri": "https://localhost:8080/"
        },
        "outputId": "bdc48d06-32f3-4aa4-f51e-e9b0dcf19698"
      },
      "source": [
        "# Print each feature with importance %\n",
        "# INSERT CODE HERE\n",
        "\n",
        "modelDTC.feature_importances_"
      ],
      "execution_count": null,
      "outputs": [
        {
          "output_type": "execute_result",
          "data": {
            "text/plain": [
              "array([0.        , 0.01003925, 0.06177237, 0.50042099, 0.02979506,\n",
              "       0.39797233])"
            ]
          },
          "metadata": {},
          "execution_count": 13
        }
      ]
    },
    {
      "cell_type": "code",
      "metadata": {
        "id": "joRDKtn-_ENF",
        "colab": {
          "base_uri": "https://localhost:8080/",
          "height": 575
        },
        "outputId": "87ae530e-3e61-461b-97ca-1f2b2ffe0607"
      },
      "source": [
        "# Plot the results\n",
        "# Use column names as feature names and a max_depth of only 2\n",
        "# INSERT CODE HERE\n",
        "\n",
        "modelDTC = DecisionTreeClassifier(max_depth = 2)\n",
        "modelDTC.fit(X_train, y_train)\n",
        "\n",
        "plt.figure(figsize = (10,10))\n",
        "plot_tree(modelDTC, filled = True,  \n",
        "          class_names = modelDTC.classes_, \n",
        "          feature_names=X_train.columns )\n",
        "plt.show()"
      ],
      "execution_count": null,
      "outputs": [
        {
          "output_type": "display_data",
          "data": {
            "image/png": "[encoded data removed]",
            "text/plain": [
              "<Figure size 720x720 with 1 Axes>"
            ]
          },
          "metadata": {
            "needs_background": "light"
          }
        }
      ]
    },
    {
      "cell_type": "markdown",
      "metadata": {
        "id": "-MwQJOzMBOZq"
      },
      "source": [
        "# Effects of Changing the Maximum Depth\n",
        "In this section, we're going to see how changing the max_depth, which is one of the most important hyperparameters when it comes to decision trees, plays a part in the prediction accuracy.\n",
        "\n",
        "*** This exercise is only done for you to see how big of an impact choosing the correct max_depth is!*** Choosing the correct max_depth (or any other hyperparameter for that matter) is typically done using cross validation or a more advanced technique (Grid Search, Random Search, Bayesian Optimization).\n"
      ]
    },
    {
      "cell_type": "markdown",
      "metadata": {
        "id": "LyOwrYUuCLnX"
      },
      "source": [
        "Using the above dataset, fit and predict the train and test sets using a max_depth from 1 to 10. For example, within the first iteration, you would fit the xtrain and ytrain datasets using max_depth=1, predict the xtest using this model, and then record the accuracy. On the next iteration, the max_depth would then be 2, etc."
      ]
    },
    {
      "cell_type": "code",
      "metadata": {
        "id": "aTMJDwLJB9rS",
        "colab": {
          "base_uri": "https://localhost:8080/"
        },
        "outputId": "838b5feb-1979-4f96-bfa7-5546bdc971be"
      },
      "source": [
        "# Using a random state of 42, fit multiple decision trees with various max depths.\n",
        "# Record these accuracies in a list (i.e. list_of_accuracies.append(accuracy))\n",
        "list_of_accuracies = []\n",
        "for i in range(1, 11):\n",
        "  modelDTC = DecisionTreeClassifier(max_depth = i)\n",
        "  modelDTC.fit(X_train, y_train)\n",
        "  list_of_accuracies.append(modelDTC.score(X_train, y_train))\n",
        "\n",
        "list_of_accuracies"
      ],
      "execution_count": null,
      "outputs": [
        {
          "output_type": "execute_result",
          "data": {
            "text/plain": [
              "[0.7293233082706767,\n",
              " 0.8947368421052632,\n",
              " 0.9285714285714286,\n",
              " 0.9360902255639098,\n",
              " 0.9586466165413534,\n",
              " 0.9736842105263158,\n",
              " 0.9887218045112782,\n",
              " 0.9924812030075187,\n",
              " 0.9962406015037594,\n",
              " 0.9962406015037594]"
            ]
          },
          "metadata": {},
          "execution_count": 15
        }
      ]
    },
    {
      "cell_type": "code",
      "metadata": {
        "id": "pVMDMl9fC5ZO",
        "colab": {
          "base_uri": "https://localhost:8080/",
          "height": 265
        },
        "outputId": "dbec22ad-22f1-41c2-85fd-8edfdf4573d5"
      },
      "source": [
        "# Plot these accuracies using matplotlib with the accuracies on the y-axis and the max_depth on the x-axis.\n",
        "# INSERT CODE HERE\n",
        "\n",
        "X = [1, 2, 3, 4, 5, 6, 7, 8, 9, 10]\n",
        "\n",
        "\n",
        "\n",
        "plt.bar(X, list_of_accuracies)\n",
        "plt.xticks(ticks = range(1,11))\n",
        "plt.show()"
      ],
      "execution_count": null,
      "outputs": [
        {
          "output_type": "display_data",
          "data": {
            "image/png": "[encoded data removed]",
            "text/plain": [
              "<Figure size 432x288 with 1 Axes>"
            ]
          },
          "metadata": {
            "needs_background": "light"
          }
        }
      ]
    }
  ]
}