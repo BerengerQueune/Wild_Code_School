{
  "cells": [
    {
      "cell_type": "markdown",
      "metadata": {
        "id": "7RZbCjBZBNKL"
      },
      "source": [
        "# Execute the code below"
      ]
    },
    {
      "cell_type": "code",
      "execution_count": 1,
      "metadata": {
        "id": "ih5VsCSsAGWK"
      },
      "outputs": [],
      "source": [
        "import matplotlib.pyplot as plt\n",
        "import pandas as pd\n",
        "import numpy as np\n",
        "import seaborn as sns\n",
        "import plotly.express as px\n",
        "import plotly.graph_objects as go\n",
        "from plotly.subplots import make_subplots\n",
        "link = \"https://raw.githubusercontent.com/murpi/wilddata/master/quests/weather2019.csv\"\n",
        "df_weather = pd.read_csv(link)\n",
        "df_weather = df_weather.iloc[:,[0,1,2, -4]]"
      ]
    },
    {
      "cell_type": "markdown",
      "metadata": {
        "id": "HDfmi_gNBRd3"
      },
      "source": [
        "# Univariate linear regression with Scikit-Learn"
      ]
    },
    {
      "cell_type": "markdown",
      "metadata": {
        "id": "QhC4gFT2BVh1"
      },
      "source": [
        "Scikit-Learn is the greatest Machine Learning library for Python. Do you remember that you can do Linear regression with NumPy ? You can do the same with Scikit-Learn. And many other things!\n",
        "Let's start with univariate Linear regression, to learn the syntax."
      ]
    },
    {
      "cell_type": "markdown",
      "metadata": {
        "id": "sqL95QpaCTtI"
      },
      "source": [
        "## Print a regplot with seaborn to show a linear regression between Sunhours (on the X-axis) and MAX temperature (on the Y-axis)."
      ]
    },
    {
      "cell_type": "code",
      "execution_count": 2,
      "metadata": {
        "colab": {
          "base_uri": "https://localhost:8080/",
          "height": 369
        },
        "id": "rGg7wuwaBUGl",
        "outputId": "7443f33f-3edb-4918-8299-3a031050bc20"
      },
      "outputs": [
        {
          "data": {
            "image/png": "[encoded data removed]",
            "text/plain": [
              "<Figure size 360x360 with 1 Axes>"
            ]
          },
          "metadata": {
            "needs_background": "light"
          },
          "output_type": "display_data"
        }
      ],
      "source": [
        "# Your code here :\n",
        "sns.lmplot(x=\"SUNHOUR\", y=\"MAX_TEMPERATURE_C\", data=df_weather);"
      ]
    },
    {
      "cell_type": "markdown",
      "metadata": {
        "id": "7Qnmc8HJEgSh"
      },
      "source": [
        "## Train the model\n",
        "You just have to read and execute the code below"
      ]
    },
    {
      "cell_type": "code",
      "execution_count": 3,
      "metadata": {
        "id": "txQAv7N7C-rv"
      },
      "outputs": [],
      "source": [
        "# Scikit-Learn can find the coefficients of the linear regression\n",
        "from sklearn.linear_model import LinearRegression\n",
        "\n",
        "# First of all, you have to define 2 series :\n",
        "# X-axis : the correlated column, here it is Sunhours\n",
        "X = df_weather[['SUNHOUR']] \n",
        "\n",
        "# Y-axis : the column to predict, so MAX Temperature here\n",
        "y = df_weather['MAX_TEMPERATURE_C'] \n",
        "\n",
        "# Hey, why is \"X\" in uppercase and \"y\" in lowercase ? That's a good point, we'll see that in the next quest. Now, you just have to use this.\n",
        "\n",
        "# To train a machine learning model (here, it will find the equation of the linear regression), you just have launch the \".fit\" method.\n",
        "modelLR = LinearRegression().fit(X, y)"
      ]
    },
    {
      "cell_type": "markdown",
      "metadata": {
        "id": "yGHuorx4EiWD"
      },
      "source": [
        "## Explore the model"
      ]
    },
    {
      "cell_type": "code",
      "execution_count": 4,
      "metadata": {
        "colab": {
          "base_uri": "https://localhost:8080/"
        },
        "id": "dIWLEntIDjp4",
        "outputId": "0ee2a690-c933-43db-8212-c9f0ece0a58a"
      },
      "outputs": [
        {
          "name": "stdout",
          "output_type": "stream",
          "text": [
            "coefficient : [1.28422116]\n",
            "intercept : 4.8472953557195435\n"
          ]
        }
      ],
      "source": [
        "# Your model is trained, it has now some attributes.\n",
        "# Coefficient, it's the \"a\" in your equation \"aX + b\"\n",
        "print(\"coefficient :\",modelLR.coef_)\n",
        "\n",
        "# Interception, it's the \"b\" in your equation \"aX + b\"\n",
        "print(\"intercept :\", modelLR.intercept_)\n"
      ]
    },
    {
      "cell_type": "markdown",
      "metadata": {
        "id": "EY3uNopEGtOQ"
      },
      "source": [
        "## Prediction for 1 value"
      ]
    },
    {
      "cell_type": "code",
      "execution_count": 5,
      "metadata": {
        "colab": {
          "base_uri": "https://localhost:8080/"
        },
        "id": "gzNPxyTNFKAb",
        "outputId": "b3a6d557-2103-4fcf-ac6b-9778fbad0996"
      },
      "outputs": [
        {
          "name": "stdout",
          "output_type": "stream",
          "text": [
            "By hand : [17.68950691]\n",
            "Scikit-Learn :   [17.68950691]\n"
          ]
        }
      ],
      "source": [
        "# You can \"predict\" the Max Temperature from the Sunhours\n",
        "# For example, let's try if Sunhours is 10 :\n",
        "\n",
        "# Hand calculation :\n",
        "print(\"By hand :\", modelLR.coef_ * 10 + modelLR.intercept_ )\n",
        "\n",
        "# With a Scikit-Learn function :\n",
        "print(\"Scikit-Learn :  \", modelLR.predict([[10]])  )"
      ]
    },
    {
      "cell_type": "markdown",
      "metadata": {
        "id": "bXvhV9DPH9iH"
      },
      "source": [
        "## Predictions for multiple values (a Serie)\n",
        "Let's predict MAX temperature for the Sunhour column of your DataFrame.\n",
        "\n",
        "Note : You'll have to precise your column with double \"[\", like that  : df[['your_column]] \n",
        "\n",
        "*Why ? We'll see that in the next quest.*"
      ]
    },
    {
      "cell_type": "code",
      "execution_count": 6,
      "metadata": {
        "id": "4J79U7rcHwpz"
      },
      "outputs": [],
      "source": [
        "# Find a way to store the result of the prediction in a new column 'predict\" of the dataframe\n",
        "df_weather[\"predict\"] = modelLR.predict(df_weather[['SUNHOUR']])"
      ]
    },
    {
      "cell_type": "markdown",
      "metadata": {
        "id": "0Ursrji1KgLk"
      },
      "source": [
        "## Visualisations\n",
        "You can predict the Max temperature from any value of Sunhour. Your prediction is now stored in a column, you can now visualize it. \n",
        "\n",
        "It's to you now :\n",
        "Create on the same scatterplot chart :\n",
        "- X-axis : Sunhours\n",
        "- Y-axis : MAX temperatures in blue dots and 'predict' in red dots."
      ]
    },
    {
      "cell_type": "code",
      "execution_count": 7,
      "metadata": {
        "colab": {
          "base_uri": "https://localhost:8080/",
          "height": 617
        },
        "id": "ZgbZRRwmI93Q",
        "outputId": "82d9b4c4-6e3a-4623-f04b-f2089c36a7c1"
      },
      "outputs": [
        {
          "data": {
            "application/vnd.plotly.v1+json": {
              "config": {
                "plotlyServerURL": "https://plot.ly"
              },
              "data": [
                {
                  "mode": "markers",
                  "name": "Température maximum relevée",
                  "type": "scatter",
                  "x": [
                    5.1,
                    8.7,
                    8.7,
                    5.1,
                    8.7,
                    3.3,
                    5.1,
                    3.3,
                    3.3,
                    8.7,
                    5.1,
                    6.9,
                    3.3,
                    3.3,
                    8.7,
                    3.4,
                    8.7,
                    8.7,
                    3.4,
                    5.2,
                    8.7,
                    3.4,
                    5.2,
                    5.2,
                    3.4,
                    3.5,
                    8.2,
                    6.5,
                    4.8,
                    6.5,
                    4.9,
                    4.9,
                    9.8,
                    9.8,
                    4.9,
                    4.9,
                    5,
                    6.6,
                    5,
                    6.6,
                    8.3,
                    8.3,
                    10.1,
                    10.1,
                    10.2,
                    10.2,
                    8.4,
                    10.2,
                    6.8,
                    5.2,
                    10,
                    10.4,
                    10.4,
                    10.8,
                    8.5,
                    10.9,
                    10.9,
                    11,
                    5.5,
                    10.1,
                    10.1,
                    5.6,
                    8.6,
                    10.1,
                    5.6,
                    8.7,
                    10.2,
                    5.9,
                    7.3,
                    10.2,
                    7.3,
                    11.6,
                    5.9,
                    6,
                    6,
                    11.6,
                    8.8,
                    7.4,
                    7.4,
                    11.6,
                    11.6,
                    11.6,
                    10.2,
                    8.9,
                    11.6,
                    11.6,
                    10.3,
                    9,
                    10.3,
                    10.3,
                    9,
                    6.5,
                    7.8,
                    7.8,
                    6.5,
                    6.5,
                    7.8,
                    9.1,
                    10.3,
                    7.9,
                    11.6,
                    11.6,
                    11.6,
                    7.9,
                    9.1,
                    11.6,
                    10.4,
                    11.6,
                    11.6,
                    9.3,
                    9.3,
                    9.3,
                    8.2,
                    7,
                    9.3,
                    13.4,
                    10.2,
                    9.1,
                    10.2,
                    14.5,
                    12.4,
                    12.4,
                    11.3,
                    11.3,
                    13.4,
                    11.4,
                    10.3,
                    11.4,
                    9.3,
                    9.3,
                    11.4,
                    14.5,
                    14.5,
                    14.5,
                    14.5,
                    10.4,
                    11.5,
                    9.5,
                    10.5,
                    9.5,
                    12.5,
                    11.5,
                    13.5,
                    13.5,
                    11.5,
                    9.6,
                    12.5,
                    11.5,
                    10.6,
                    11.6,
                    14.5,
                    14.5,
                    13.5,
                    12.6,
                    9.7,
                    9.7,
                    11.6,
                    9.7,
                    13.7,
                    13.8,
                    14.7,
                    13.8,
                    12.9,
                    14.7,
                    15.9,
                    13.8,
                    14.7,
                    16,
                    16,
                    12.9,
                    16,
                    14.7,
                    16,
                    16,
                    12.9,
                    16,
                    16,
                    15.9,
                    15.9,
                    15.9,
                    15.6,
                    15.9,
                    15.9,
                    15.9,
                    15.9,
                    15.9,
                    14.6,
                    15.9,
                    15.8,
                    15.8,
                    15.8,
                    15.8,
                    13.7,
                    15.8,
                    14.5,
                    14.5,
                    13.5,
                    14.5,
                    10.5,
                    13.5,
                    11.5,
                    14.5,
                    14.5,
                    14.5,
                    14.5,
                    13.5,
                    9.4,
                    10.4,
                    14.5,
                    13.5,
                    10.4,
                    13.5,
                    14.5,
                    14.5,
                    14.5,
                    14.5,
                    11.4,
                    9.3,
                    12.4,
                    14.5,
                    11.3,
                    11.3,
                    12.4,
                    9.2,
                    13.4,
                    7.1,
                    9.3,
                    11.6,
                    7.1,
                    9.3,
                    10.5,
                    11.6,
                    9.3,
                    11.6,
                    11.6,
                    10.4,
                    11.6,
                    10.4,
                    10.4,
                    9.1,
                    9.1,
                    10.4,
                    11.6,
                    11.6,
                    11.6,
                    11.6,
                    7.8,
                    9.1,
                    11.6,
                    10.3,
                    11.6,
                    7.8,
                    11.6,
                    11.6,
                    10.3,
                    11.6,
                    11.6,
                    11.6,
                    11.6,
                    11.6,
                    11.6,
                    11.6,
                    11.6,
                    10.3,
                    7.6,
                    6.2,
                    7.6,
                    6,
                    6,
                    8.8,
                    5.8,
                    7.2,
                    5.7,
                    5.7,
                    5.7,
                    11.4,
                    7.1,
                    5.6,
                    11.3,
                    5.6,
                    7.1,
                    7.1,
                    8.6,
                    10.1,
                    11.1,
                    8.6,
                    7,
                    8.5,
                    5.5,
                    7,
                    8.5,
                    5.4,
                    5.4,
                    10,
                    10.7,
                    5.3,
                    5.3,
                    6.9,
                    10.6,
                    3.8,
                    3.8,
                    3.8,
                    5.4,
                    3.8,
                    3.8,
                    3.7,
                    3.7,
                    5.4,
                    3.7,
                    7,
                    3.7,
                    7,
                    3.5,
                    5.2,
                    5.2,
                    5.2,
                    5.2,
                    7,
                    7,
                    3.5,
                    8.7,
                    8.7,
                    6.9,
                    5.2,
                    3.4,
                    3.4,
                    6.9,
                    5.2,
                    3.4,
                    3.4,
                    3.4,
                    3.3,
                    6.9,
                    3.3,
                    3.3,
                    8.7,
                    8.7,
                    6.9,
                    8.7,
                    3.3,
                    3.3,
                    3.3,
                    5.1,
                    3.3,
                    8.7,
                    3.3,
                    3.3,
                    3.3,
                    6.9,
                    3.3,
                    3.3,
                    5.1,
                    3.3,
                    5.1,
                    6.9,
                    5.1,
                    6.9,
                    8.7,
                    8.7,
                    5.1,
                    8.7,
                    6.9,
                    8.7,
                    8.7,
                    8.7
                  ],
                  "y": [
                    9,
                    8,
                    6,
                    5,
                    6,
                    5,
                    10,
                    10,
                    7,
                    7,
                    10,
                    9,
                    10,
                    10,
                    9,
                    8,
                    9,
                    7,
                    11,
                    7,
                    7,
                    8,
                    7,
                    7,
                    11,
                    10,
                    8,
                    8,
                    9,
                    7,
                    8,
                    9,
                    7,
                    8,
                    7,
                    10,
                    12,
                    11,
                    11,
                    12,
                    11,
                    10,
                    12,
                    10,
                    13,
                    15,
                    14,
                    15,
                    12,
                    12,
                    13,
                    17,
                    17,
                    18,
                    14,
                    15,
                    19,
                    20,
                    13,
                    14,
                    13,
                    14,
                    11,
                    13,
                    12,
                    11,
                    12,
                    13,
                    12,
                    11,
                    11,
                    10,
                    11,
                    13,
                    11,
                    11,
                    11,
                    12,
                    13,
                    15,
                    18,
                    17,
                    13,
                    12,
                    12,
                    13,
                    14,
                    16,
                    17,
                    19,
                    18,
                    12,
                    10,
                    10,
                    10,
                    10,
                    14,
                    12,
                    16,
                    14,
                    14,
                    14,
                    12,
                    9,
                    14,
                    15,
                    19,
                    21,
                    24,
                    21,
                    21,
                    19,
                    18,
                    14,
                    13,
                    14,
                    13,
                    12,
                    16,
                    18,
                    17,
                    15,
                    15,
                    11,
                    12,
                    15,
                    14,
                    15,
                    15,
                    15,
                    16,
                    16,
                    16,
                    18,
                    18,
                    17,
                    17,
                    14,
                    17,
                    18,
                    20,
                    21,
                    21,
                    20,
                    19,
                    17,
                    19,
                    15,
                    15,
                    20,
                    25,
                    29,
                    23,
                    20,
                    19,
                    16,
                    18,
                    15,
                    18,
                    16,
                    17,
                    15,
                    16,
                    18,
                    19,
                    18,
                    19,
                    25,
                    28,
                    20,
                    20,
                    20,
                    23,
                    27,
                    23,
                    26,
                    31,
                    34,
                    34,
                    32,
                    26,
                    24,
                    25,
                    26,
                    28,
                    30,
                    31,
                    28,
                    27,
                    25,
                    28,
                    26,
                    26,
                    27,
                    26,
                    26,
                    29,
                    27,
                    22,
                    26,
                    25,
                    26,
                    33,
                    39,
                    33,
                    32,
                    22,
                    23,
                    23,
                    24,
                    21,
                    23,
                    27,
                    29,
                    29,
                    26,
                    25,
                    23,
                    25,
                    28,
                    23,
                    23,
                    23,
                    22,
                    22,
                    20,
                    22,
                    22,
                    19,
                    21,
                    21,
                    23,
                    26,
                    28,
                    30,
                    33,
                    30,
                    33,
                    29,
                    24,
                    25,
                    30,
                    23,
                    23,
                    24,
                    26,
                    20,
                    19,
                    23,
                    22,
                    21,
                    17,
                    22,
                    22,
                    24,
                    28,
                    29,
                    31,
                    21,
                    27,
                    23,
                    23,
                    27,
                    28,
                    21,
                    20,
                    20,
                    17,
                    19,
                    19,
                    19,
                    20,
                    21,
                    19,
                    19,
                    19,
                    17,
                    18,
                    18,
                    14,
                    18,
                    16,
                    18,
                    20,
                    21,
                    20,
                    20,
                    16,
                    16,
                    17,
                    16,
                    16,
                    15,
                    16,
                    16,
                    15,
                    14,
                    18,
                    19,
                    15,
                    12,
                    14,
                    17,
                    16,
                    17,
                    14,
                    14,
                    13,
                    12,
                    13,
                    11,
                    11,
                    10,
                    11,
                    11,
                    11,
                    9,
                    11,
                    8,
                    9,
                    8,
                    10,
                    9,
                    7,
                    11,
                    10,
                    12,
                    12,
                    13,
                    14,
                    13,
                    13,
                    13,
                    9,
                    7,
                    7,
                    7,
                    8,
                    7,
                    11,
                    13,
                    13,
                    11,
                    11,
                    9,
                    12,
                    10,
                    12,
                    10,
                    11,
                    12,
                    12,
                    13,
                    12,
                    11,
                    10,
                    10,
                    14,
                    11,
                    12,
                    13,
                    11,
                    9,
                    12,
                    10
                  ]
                },
                {
                  "marker": {
                    "color": "rgb(254,92,92)"
                  },
                  "mode": "markers",
                  "name": "Prédiction",
                  "type": "scatter",
                  "x": [
                    5.1,
                    8.7,
                    8.7,
                    5.1,
                    8.7,
                    3.3,
                    5.1,
                    3.3,
                    3.3,
                    8.7,
                    5.1,
                    6.9,
                    3.3,
                    3.3,
                    8.7,
                    3.4,
                    8.7,
                    8.7,
                    3.4,
                    5.2,
                    8.7,
                    3.4,
                    5.2,
                    5.2,
                    3.4,
                    3.5,
                    8.2,
                    6.5,
                    4.8,
                    6.5,
                    4.9,
                    4.9,
                    9.8,
                    9.8,
                    4.9,
                    4.9,
                    5,
                    6.6,
                    5,
                    6.6,
                    8.3,
                    8.3,
                    10.1,
                    10.1,
                    10.2,
                    10.2,
                    8.4,
                    10.2,
                    6.8,
                    5.2,
                    10,
                    10.4,
                    10.4,
                    10.8,
                    8.5,
                    10.9,
                    10.9,
                    11,
                    5.5,
                    10.1,
                    10.1,
                    5.6,
                    8.6,
                    10.1,
                    5.6,
                    8.7,
                    10.2,
                    5.9,
                    7.3,
                    10.2,
                    7.3,
                    11.6,
                    5.9,
                    6,
                    6,
                    11.6,
                    8.8,
                    7.4,
                    7.4,
                    11.6,
                    11.6,
                    11.6,
                    10.2,
                    8.9,
                    11.6,
                    11.6,
                    10.3,
                    9,
                    10.3,
                    10.3,
                    9,
                    6.5,
                    7.8,
                    7.8,
                    6.5,
                    6.5,
                    7.8,
                    9.1,
                    10.3,
                    7.9,
                    11.6,
                    11.6,
                    11.6,
                    7.9,
                    9.1,
                    11.6,
                    10.4,
                    11.6,
                    11.6,
                    9.3,
                    9.3,
                    9.3,
                    8.2,
                    7,
                    9.3,
                    13.4,
                    10.2,
                    9.1,
                    10.2,
                    14.5,
                    12.4,
                    12.4,
                    11.3,
                    11.3,
                    13.4,
                    11.4,
                    10.3,
                    11.4,
                    9.3,
                    9.3,
                    11.4,
                    14.5,
                    14.5,
                    14.5,
                    14.5,
                    10.4,
                    11.5,
                    9.5,
                    10.5,
                    9.5,
                    12.5,
                    11.5,
                    13.5,
                    13.5,
                    11.5,
                    9.6,
                    12.5,
                    11.5,
                    10.6,
                    11.6,
                    14.5,
                    14.5,
                    13.5,
                    12.6,
                    9.7,
                    9.7,
                    11.6,
                    9.7,
                    13.7,
                    13.8,
                    14.7,
                    13.8,
                    12.9,
                    14.7,
                    15.9,
                    13.8,
                    14.7,
                    16,
                    16,
                    12.9,
                    16,
                    14.7,
                    16,
                    16,
                    12.9,
                    16,
                    16,
                    15.9,
                    15.9,
                    15.9,
                    15.6,
                    15.9,
                    15.9,
                    15.9,
                    15.9,
                    15.9,
                    14.6,
                    15.9,
                    15.8,
                    15.8,
                    15.8,
                    15.8,
                    13.7,
                    15.8,
                    14.5,
                    14.5,
                    13.5,
                    14.5,
                    10.5,
                    13.5,
                    11.5,
                    14.5,
                    14.5,
                    14.5,
                    14.5,
                    13.5,
                    9.4,
                    10.4,
                    14.5,
                    13.5,
                    10.4,
                    13.5,
                    14.5,
                    14.5,
                    14.5,
                    14.5,
                    11.4,
                    9.3,
                    12.4,
                    14.5,
                    11.3,
                    11.3,
                    12.4,
                    9.2,
                    13.4,
                    7.1,
                    9.3,
                    11.6,
                    7.1,
                    9.3,
                    10.5,
                    11.6,
                    9.3,
                    11.6,
                    11.6,
                    10.4,
                    11.6,
                    10.4,
                    10.4,
                    9.1,
                    9.1,
                    10.4,
                    11.6,
                    11.6,
                    11.6,
                    11.6,
                    7.8,
                    9.1,
                    11.6,
                    10.3,
                    11.6,
                    7.8,
                    11.6,
                    11.6,
                    10.3,
                    11.6,
                    11.6,
                    11.6,
                    11.6,
                    11.6,
                    11.6,
                    11.6,
                    11.6,
                    10.3,
                    7.6,
                    6.2,
                    7.6,
                    6,
                    6,
                    8.8,
                    5.8,
                    7.2,
                    5.7,
                    5.7,
                    5.7,
                    11.4,
                    7.1,
                    5.6,
                    11.3,
                    5.6,
                    7.1,
                    7.1,
                    8.6,
                    10.1,
                    11.1,
                    8.6,
                    7,
                    8.5,
                    5.5,
                    7,
                    8.5,
                    5.4,
                    5.4,
                    10,
                    10.7,
                    5.3,
                    5.3,
                    6.9,
                    10.6,
                    3.8,
                    3.8,
                    3.8,
                    5.4,
                    3.8,
                    3.8,
                    3.7,
                    3.7,
                    5.4,
                    3.7,
                    7,
                    3.7,
                    7,
                    3.5,
                    5.2,
                    5.2,
                    5.2,
                    5.2,
                    7,
                    7,
                    3.5,
                    8.7,
                    8.7,
                    6.9,
                    5.2,
                    3.4,
                    3.4,
                    6.9,
                    5.2,
                    3.4,
                    3.4,
                    3.4,
                    3.3,
                    6.9,
                    3.3,
                    3.3,
                    8.7,
                    8.7,
                    6.9,
                    8.7,
                    3.3,
                    3.3,
                    3.3,
                    5.1,
                    3.3,
                    8.7,
                    3.3,
                    3.3,
                    3.3,
                    6.9,
                    3.3,
                    3.3,
                    5.1,
                    3.3,
                    5.1,
                    6.9,
                    5.1,
                    6.9,
                    8.7,
                    8.7,
                    5.1,
                    8.7,
                    6.9,
                    8.7,
                    8.7,
                    8.7
                  ],
                  "xaxis": "x",
                  "y": [
                    11.396823248943104,
                    16.020019408865615,
                    16.020019408865615,
                    11.396823248943104,
                    16.020019408865615,
                    9.085225168981847,
                    11.396823248943104,
                    9.085225168981847,
                    9.085225168981847,
                    16.020019408865615,
                    11.396823248943104,
                    13.708421328904361,
                    9.085225168981847,
                    9.085225168981847,
                    16.020019408865615,
                    9.21364728453525,
                    16.020019408865615,
                    16.020019408865615,
                    9.21364728453525,
                    11.525245364496508,
                    16.020019408865615,
                    9.21364728453525,
                    11.525245364496508,
                    11.525245364496508,
                    9.21364728453525,
                    9.342069400088654,
                    15.377908831098601,
                    13.194732866690748,
                    11.011556902282894,
                    13.194732866690748,
                    11.139979017836298,
                    11.139979017836298,
                    17.432662679953054,
                    17.432662679953054,
                    11.139979017836298,
                    11.139979017836298,
                    11.268401133389702,
                    13.323154982244152,
                    11.268401133389702,
                    13.323154982244152,
                    15.506330946652005,
                    15.506330946652005,
                    17.81792902661326,
                    17.81792902661326,
                    17.946351142166662,
                    17.946351142166662,
                    15.634753062205409,
                    17.946351142166662,
                    13.579999213350957,
                    11.525245364496508,
                    17.68950691105986,
                    18.203195373273473,
                    18.203195373273473,
                    18.716883835487085,
                    15.76317517775881,
                    18.845305951040487,
                    18.845305951040487,
                    18.973728066593893,
                    11.910511711156717,
                    17.81792902661326,
                    17.81792902661326,
                    12.03893382671012,
                    15.891597293312214,
                    17.81792902661326,
                    12.03893382671012,
                    16.020019408865615,
                    17.946351142166662,
                    12.42420017337033,
                    14.222109791117973,
                    17.946351142166662,
                    14.222109791117973,
                    19.744260759914308,
                    12.42420017337033,
                    12.552622288923732,
                    12.552622288923732,
                    19.744260759914308,
                    16.14844152441902,
                    14.350531906671376,
                    14.350531906671376,
                    19.744260759914308,
                    19.744260759914308,
                    19.744260759914308,
                    17.946351142166662,
                    16.276863639972426,
                    19.744260759914308,
                    19.744260759914308,
                    18.074773257720068,
                    16.405285755525824,
                    18.074773257720068,
                    18.074773257720068,
                    16.405285755525824,
                    13.194732866690748,
                    14.86422036888499,
                    14.86422036888499,
                    13.194732866690748,
                    13.194732866690748,
                    14.86422036888499,
                    16.53370787107923,
                    18.074773257720068,
                    14.992642484438393,
                    19.744260759914308,
                    19.744260759914308,
                    19.744260759914308,
                    14.992642484438393,
                    16.53370787107923,
                    19.744260759914308,
                    18.203195373273473,
                    19.744260759914308,
                    19.744260759914308,
                    16.790552102186037,
                    16.790552102186037,
                    16.790552102186037,
                    15.377908831098601,
                    13.836843444457765,
                    16.790552102186037,
                    22.05585883987557,
                    17.946351142166662,
                    16.53370787107923,
                    17.946351142166662,
                    23.468502110963,
                    20.771637684341535,
                    20.771637684341535,
                    19.358994413254102,
                    19.358994413254102,
                    22.05585883987557,
                    19.4874165288075,
                    18.074773257720068,
                    19.4874165288075,
                    16.790552102186037,
                    16.790552102186037,
                    19.4874165288075,
                    23.468502110963,
                    23.468502110963,
                    23.468502110963,
                    23.468502110963,
                    18.203195373273473,
                    19.615838644360906,
                    17.047396333292845,
                    18.331617488826872,
                    17.047396333292845,
                    20.90005979989494,
                    19.615838644360906,
                    22.184280955428967,
                    22.184280955428967,
                    19.615838644360906,
                    17.175818448846243,
                    20.90005979989494,
                    19.615838644360906,
                    18.460039604380277,
                    19.744260759914308,
                    23.468502110963,
                    23.468502110963,
                    22.184280955428967,
                    21.02848191544834,
                    17.30424056439965,
                    17.30424056439965,
                    19.744260759914308,
                    17.30424056439965,
                    22.44112518653577,
                    22.569547302089177,
                    23.725346342069805,
                    22.569547302089177,
                    21.413748262108548,
                    23.725346342069805,
                    25.266411728710644,
                    22.569547302089177,
                    23.725346342069805,
                    25.39483384426405,
                    25.39483384426405,
                    21.413748262108548,
                    25.39483384426405,
                    23.725346342069805,
                    25.39483384426405,
                    25.39483384426405,
                    21.413748262108548,
                    25.39483384426405,
                    25.39483384426405,
                    25.266411728710644,
                    25.266411728710644,
                    25.266411728710644,
                    24.881145382050434,
                    25.266411728710644,
                    25.266411728710644,
                    25.266411728710644,
                    25.266411728710644,
                    25.266411728710644,
                    23.5969242265164,
                    25.266411728710644,
                    25.137989613157245,
                    25.137989613157245,
                    25.137989613157245,
                    25.137989613157245,
                    22.44112518653577,
                    25.137989613157245,
                    23.468502110963,
                    23.468502110963,
                    22.184280955428967,
                    23.468502110963,
                    18.331617488826872,
                    22.184280955428967,
                    19.615838644360906,
                    23.468502110963,
                    23.468502110963,
                    23.468502110963,
                    23.468502110963,
                    22.184280955428967,
                    16.91897421773944,
                    18.203195373273473,
                    23.468502110963,
                    22.184280955428967,
                    18.203195373273473,
                    22.184280955428967,
                    23.468502110963,
                    23.468502110963,
                    23.468502110963,
                    23.468502110963,
                    19.4874165288075,
                    16.790552102186037,
                    20.771637684341535,
                    23.468502110963,
                    19.358994413254102,
                    19.358994413254102,
                    20.771637684341535,
                    16.662129986632632,
                    22.05585883987557,
                    13.965265560011167,
                    16.790552102186037,
                    19.744260759914308,
                    13.965265560011167,
                    16.790552102186037,
                    18.331617488826872,
                    19.744260759914308,
                    16.790552102186037,
                    19.744260759914308,
                    19.744260759914308,
                    18.203195373273473,
                    19.744260759914308,
                    18.203195373273473,
                    18.203195373273473,
                    16.53370787107923,
                    16.53370787107923,
                    18.203195373273473,
                    19.744260759914308,
                    19.744260759914308,
                    19.744260759914308,
                    19.744260759914308,
                    14.86422036888499,
                    16.53370787107923,
                    19.744260759914308,
                    18.074773257720068,
                    19.744260759914308,
                    14.86422036888499,
                    19.744260759914308,
                    19.744260759914308,
                    18.074773257720068,
                    19.744260759914308,
                    19.744260759914308,
                    19.744260759914308,
                    19.744260759914308,
                    19.744260759914308,
                    19.744260759914308,
                    19.744260759914308,
                    19.744260759914308,
                    18.074773257720068,
                    14.607376137778182,
                    12.80946652003054,
                    14.607376137778182,
                    12.552622288923732,
                    12.552622288923732,
                    16.14844152441902,
                    12.295778057816925,
                    14.09368767556457,
                    12.167355942263523,
                    12.167355942263523,
                    12.167355942263523,
                    19.4874165288075,
                    13.965265560011167,
                    12.03893382671012,
                    19.358994413254102,
                    12.03893382671012,
                    13.965265560011167,
                    13.965265560011167,
                    15.891597293312214,
                    17.81792902661326,
                    19.10215018214729,
                    15.891597293312214,
                    13.836843444457765,
                    15.76317517775881,
                    11.910511711156717,
                    13.836843444457765,
                    15.76317517775881,
                    11.782089595603313,
                    11.782089595603313,
                    17.68950691105986,
                    18.58846171993368,
                    11.653667480049911,
                    11.653667480049911,
                    13.708421328904361,
                    18.460039604380277,
                    9.727335746748864,
                    9.727335746748864,
                    9.727335746748864,
                    11.782089595603313,
                    9.727335746748864,
                    9.727335746748864,
                    9.59891363119546,
                    9.59891363119546,
                    11.782089595603313,
                    9.59891363119546,
                    13.836843444457765,
                    9.59891363119546,
                    13.836843444457765,
                    9.342069400088654,
                    11.525245364496508,
                    11.525245364496508,
                    11.525245364496508,
                    11.525245364496508,
                    13.836843444457765,
                    13.836843444457765,
                    9.342069400088654,
                    16.020019408865615,
                    16.020019408865615,
                    13.708421328904361,
                    11.525245364496508,
                    9.21364728453525,
                    9.21364728453525,
                    13.708421328904361,
                    11.525245364496508,
                    9.21364728453525,
                    9.21364728453525,
                    9.21364728453525,
                    9.085225168981847,
                    13.708421328904361,
                    9.085225168981847,
                    9.085225168981847,
                    16.020019408865615,
                    16.020019408865615,
                    13.708421328904361,
                    16.020019408865615,
                    9.085225168981847,
                    9.085225168981847,
                    9.085225168981847,
                    11.396823248943104,
                    9.085225168981847,
                    16.020019408865615,
                    9.085225168981847,
                    9.085225168981847,
                    9.085225168981847,
                    13.708421328904361,
                    9.085225168981847,
                    9.085225168981847,
                    11.396823248943104,
                    9.085225168981847,
                    11.396823248943104,
                    13.708421328904361,
                    11.396823248943104,
                    13.708421328904361,
                    16.020019408865615,
                    16.020019408865615,
                    11.396823248943104,
                    16.020019408865615,
                    13.708421328904361,
                    16.020019408865615,
                    16.020019408865615,
                    16.020019408865615
                  ],
                  "yaxis": "y2"
                }
              ],
              "layout": {
                "height": 600,
                "template": {
                  "data": {
                    "bar": [
                      {
                        "error_x": {
                          "color": "#2a3f5f"
                        },
                        "error_y": {
                          "color": "#2a3f5f"
                        },
                        "marker": {
                          "line": {
                            "color": "#E5ECF6",
                            "width": 0.5
                          },
                          "pattern": {
                            "fillmode": "overlay",
                            "size": 10,
                            "solidity": 0.2
                          }
                        },
                        "type": "bar"
                      }
                    ],
                    "barpolar": [
                      {
                        "marker": {
                          "line": {
                            "color": "#E5ECF6",
                            "width": 0.5
                          },
                          "pattern": {
                            "fillmode": "overlay",
                            "size": 10,
                            "solidity": 0.2
                          }
                        },
                        "type": "barpolar"
                      }
                    ],
                    "carpet": [
                      {
                        "aaxis": {
                          "endlinecolor": "#2a3f5f",
                          "gridcolor": "white",
                          "linecolor": "white",
                          "minorgridcolor": "white",
                          "startlinecolor": "#2a3f5f"
                        },
                        "baxis": {
                          "endlinecolor": "#2a3f5f",
                          "gridcolor": "white",
                          "linecolor": "white",
                          "minorgridcolor": "white",
                          "startlinecolor": "#2a3f5f"
                        },
                        "type": "carpet"
                      }
                    ],
                    "choropleth": [
                      {
                        "colorbar": {
                          "outlinewidth": 0,
                          "ticks": ""
                        },
                        "type": "choropleth"
                      }
                    ],
                    "contour": [
                      {
                        "colorbar": {
                          "outlinewidth": 0,
                          "ticks": ""
                        },
                        "colorscale": [
                          [
                            0,
                            "#0d0887"
                          ],
                          [
                            0.1111111111111111,
                            "#46039f"
                          ],
                          [
                            0.2222222222222222,
                            "#7201a8"
                          ],
                          [
                            0.3333333333333333,
                            "#9c179e"
                          ],
                          [
                            0.4444444444444444,
                            "#bd3786"
                          ],
                          [
                            0.5555555555555556,
                            "#d8576b"
                          ],
                          [
                            0.6666666666666666,
                            "#ed7953"
                          ],
                          [
                            0.7777777777777778,
                            "#fb9f3a"
                          ],
                          [
                            0.8888888888888888,
                            "#fdca26"
                          ],
                          [
                            1,
                            "#f0f921"
                          ]
                        ],
                        "type": "contour"
                      }
                    ],
                    "contourcarpet": [
                      {
                        "colorbar": {
                          "outlinewidth": 0,
                          "ticks": ""
                        },
                        "type": "contourcarpet"
                      }
                    ],
                    "heatmap": [
                      {
                        "colorbar": {
                          "outlinewidth": 0,
                          "ticks": ""
                        },
                        "colorscale": [
                          [
                            0,
                            "#0d0887"
                          ],
                          [
                            0.1111111111111111,
                            "#46039f"
                          ],
                          [
                            0.2222222222222222,
                            "#7201a8"
                          ],
                          [
                            0.3333333333333333,
                            "#9c179e"
                          ],
                          [
                            0.4444444444444444,
                            "#bd3786"
                          ],
                          [
                            0.5555555555555556,
                            "#d8576b"
                          ],
                          [
                            0.6666666666666666,
                            "#ed7953"
                          ],
                          [
                            0.7777777777777778,
                            "#fb9f3a"
                          ],
                          [
                            0.8888888888888888,
                            "#fdca26"
                          ],
                          [
                            1,
                            "#f0f921"
                          ]
                        ],
                        "type": "heatmap"
                      }
                    ],
                    "heatmapgl": [
                      {
                        "colorbar": {
                          "outlinewidth": 0,
                          "ticks": ""
                        },
                        "colorscale": [
                          [
                            0,
                            "#0d0887"
                          ],
                          [
                            0.1111111111111111,
                            "#46039f"
                          ],
                          [
                            0.2222222222222222,
                            "#7201a8"
                          ],
                          [
                            0.3333333333333333,
                            "#9c179e"
                          ],
                          [
                            0.4444444444444444,
                            "#bd3786"
                          ],
                          [
                            0.5555555555555556,
                            "#d8576b"
                          ],
                          [
                            0.6666666666666666,
                            "#ed7953"
                          ],
                          [
                            0.7777777777777778,
                            "#fb9f3a"
                          ],
                          [
                            0.8888888888888888,
                            "#fdca26"
                          ],
                          [
                            1,
                            "#f0f921"
                          ]
                        ],
                        "type": "heatmapgl"
                      }
                    ],
                    "histogram": [
                      {
                        "marker": {
                          "pattern": {
                            "fillmode": "overlay",
                            "size": 10,
                            "solidity": 0.2
                          }
                        },
                        "type": "histogram"
                      }
                    ],
                    "histogram2d": [
                      {
                        "colorbar": {
                          "outlinewidth": 0,
                          "ticks": ""
                        },
                        "colorscale": [
                          [
                            0,
                            "#0d0887"
                          ],
                          [
                            0.1111111111111111,
                            "#46039f"
                          ],
                          [
                            0.2222222222222222,
                            "#7201a8"
                          ],
                          [
                            0.3333333333333333,
                            "#9c179e"
                          ],
                          [
                            0.4444444444444444,
                            "#bd3786"
                          ],
                          [
                            0.5555555555555556,
                            "#d8576b"
                          ],
                          [
                            0.6666666666666666,
                            "#ed7953"
                          ],
                          [
                            0.7777777777777778,
                            "#fb9f3a"
                          ],
                          [
                            0.8888888888888888,
                            "#fdca26"
                          ],
                          [
                            1,
                            "#f0f921"
                          ]
                        ],
                        "type": "histogram2d"
                      }
                    ],
                    "histogram2dcontour": [
                      {
                        "colorbar": {
                          "outlinewidth": 0,
                          "ticks": ""
                        },
                        "colorscale": [
                          [
                            0,
                            "#0d0887"
                          ],
                          [
                            0.1111111111111111,
                            "#46039f"
                          ],
                          [
                            0.2222222222222222,
                            "#7201a8"
                          ],
                          [
                            0.3333333333333333,
                            "#9c179e"
                          ],
                          [
                            0.4444444444444444,
                            "#bd3786"
                          ],
                          [
                            0.5555555555555556,
                            "#d8576b"
                          ],
                          [
                            0.6666666666666666,
                            "#ed7953"
                          ],
                          [
                            0.7777777777777778,
                            "#fb9f3a"
                          ],
                          [
                            0.8888888888888888,
                            "#fdca26"
                          ],
                          [
                            1,
                            "#f0f921"
                          ]
                        ],
                        "type": "histogram2dcontour"
                      }
                    ],
                    "mesh3d": [
                      {
                        "colorbar": {
                          "outlinewidth": 0,
                          "ticks": ""
                        },
                        "type": "mesh3d"
                      }
                    ],
                    "parcoords": [
                      {
                        "line": {
                          "colorbar": {
                            "outlinewidth": 0,
                            "ticks": ""
                          }
                        },
                        "type": "parcoords"
                      }
                    ],
                    "pie": [
                      {
                        "automargin": true,
                        "type": "pie"
                      }
                    ],
                    "scatter": [
                      {
                        "marker": {
                          "colorbar": {
                            "outlinewidth": 0,
                            "ticks": ""
                          }
                        },
                        "type": "scatter"
                      }
                    ],
                    "scatter3d": [
                      {
                        "line": {
                          "colorbar": {
                            "outlinewidth": 0,
                            "ticks": ""
                          }
                        },
                        "marker": {
                          "colorbar": {
                            "outlinewidth": 0,
                            "ticks": ""
                          }
                        },
                        "type": "scatter3d"
                      }
                    ],
                    "scattercarpet": [
                      {
                        "marker": {
                          "colorbar": {
                            "outlinewidth": 0,
                            "ticks": ""
                          }
                        },
                        "type": "scattercarpet"
                      }
                    ],
                    "scattergeo": [
                      {
                        "marker": {
                          "colorbar": {
                            "outlinewidth": 0,
                            "ticks": ""
                          }
                        },
                        "type": "scattergeo"
                      }
                    ],
                    "scattergl": [
                      {
                        "marker": {
                          "colorbar": {
                            "outlinewidth": 0,
                            "ticks": ""
                          }
                        },
                        "type": "scattergl"
                      }
                    ],
                    "scattermapbox": [
                      {
                        "marker": {
                          "colorbar": {
                            "outlinewidth": 0,
                            "ticks": ""
                          }
                        },
                        "type": "scattermapbox"
                      }
                    ],
                    "scatterpolar": [
                      {
                        "marker": {
                          "colorbar": {
                            "outlinewidth": 0,
                            "ticks": ""
                          }
                        },
                        "type": "scatterpolar"
                      }
                    ],
                    "scatterpolargl": [
                      {
                        "marker": {
                          "colorbar": {
                            "outlinewidth": 0,
                            "ticks": ""
                          }
                        },
                        "type": "scatterpolargl"
                      }
                    ],
                    "scatterternary": [
                      {
                        "marker": {
                          "colorbar": {
                            "outlinewidth": 0,
                            "ticks": ""
                          }
                        },
                        "type": "scatterternary"
                      }
                    ],
                    "surface": [
                      {
                        "colorbar": {
                          "outlinewidth": 0,
                          "ticks": ""
                        },
                        "colorscale": [
                          [
                            0,
                            "#0d0887"
                          ],
                          [
                            0.1111111111111111,
                            "#46039f"
                          ],
                          [
                            0.2222222222222222,
                            "#7201a8"
                          ],
                          [
                            0.3333333333333333,
                            "#9c179e"
                          ],
                          [
                            0.4444444444444444,
                            "#bd3786"
                          ],
                          [
                            0.5555555555555556,
                            "#d8576b"
                          ],
                          [
                            0.6666666666666666,
                            "#ed7953"
                          ],
                          [
                            0.7777777777777778,
                            "#fb9f3a"
                          ],
                          [
                            0.8888888888888888,
                            "#fdca26"
                          ],
                          [
                            1,
                            "#f0f921"
                          ]
                        ],
                        "type": "surface"
                      }
                    ],
                    "table": [
                      {
                        "cells": {
                          "fill": {
                            "color": "#EBF0F8"
                          },
                          "line": {
                            "color": "white"
                          }
                        },
                        "header": {
                          "fill": {
                            "color": "#C8D4E3"
                          },
                          "line": {
                            "color": "white"
                          }
                        },
                        "type": "table"
                      }
                    ]
                  },
                  "layout": {
                    "annotationdefaults": {
                      "arrowcolor": "#2a3f5f",
                      "arrowhead": 0,
                      "arrowwidth": 1
                    },
                    "autotypenumbers": "strict",
                    "coloraxis": {
                      "colorbar": {
                        "outlinewidth": 0,
                        "ticks": ""
                      }
                    },
                    "colorscale": {
                      "diverging": [
                        [
                          0,
                          "#8e0152"
                        ],
                        [
                          0.1,
                          "#c51b7d"
                        ],
                        [
                          0.2,
                          "#de77ae"
                        ],
                        [
                          0.3,
                          "#f1b6da"
                        ],
                        [
                          0.4,
                          "#fde0ef"
                        ],
                        [
                          0.5,
                          "#f7f7f7"
                        ],
                        [
                          0.6,
                          "#e6f5d0"
                        ],
                        [
                          0.7,
                          "#b8e186"
                        ],
                        [
                          0.8,
                          "#7fbc41"
                        ],
                        [
                          0.9,
                          "#4d9221"
                        ],
                        [
                          1,
                          "#276419"
                        ]
                      ],
                      "sequential": [
                        [
                          0,
                          "#0d0887"
                        ],
                        [
                          0.1111111111111111,
                          "#46039f"
                        ],
                        [
                          0.2222222222222222,
                          "#7201a8"
                        ],
                        [
                          0.3333333333333333,
                          "#9c179e"
                        ],
                        [
                          0.4444444444444444,
                          "#bd3786"
                        ],
                        [
                          0.5555555555555556,
                          "#d8576b"
                        ],
                        [
                          0.6666666666666666,
                          "#ed7953"
                        ],
                        [
                          0.7777777777777778,
                          "#fb9f3a"
                        ],
                        [
                          0.8888888888888888,
                          "#fdca26"
                        ],
                        [
                          1,
                          "#f0f921"
                        ]
                      ],
                      "sequentialminus": [
                        [
                          0,
                          "#0d0887"
                        ],
                        [
                          0.1111111111111111,
                          "#46039f"
                        ],
                        [
                          0.2222222222222222,
                          "#7201a8"
                        ],
                        [
                          0.3333333333333333,
                          "#9c179e"
                        ],
                        [
                          0.4444444444444444,
                          "#bd3786"
                        ],
                        [
                          0.5555555555555556,
                          "#d8576b"
                        ],
                        [
                          0.6666666666666666,
                          "#ed7953"
                        ],
                        [
                          0.7777777777777778,
                          "#fb9f3a"
                        ],
                        [
                          0.8888888888888888,
                          "#fdca26"
                        ],
                        [
                          1,
                          "#f0f921"
                        ]
                      ]
                    },
                    "colorway": [
                      "#636efa",
                      "#EF553B",
                      "#00cc96",
                      "#ab63fa",
                      "#FFA15A",
                      "#19d3f3",
                      "#FF6692",
                      "#B6E880",
                      "#FF97FF",
                      "#FECB52"
                    ],
                    "font": {
                      "color": "#2a3f5f"
                    },
                    "geo": {
                      "bgcolor": "white",
                      "lakecolor": "white",
                      "landcolor": "#E5ECF6",
                      "showlakes": true,
                      "showland": true,
                      "subunitcolor": "white"
                    },
                    "hoverlabel": {
                      "align": "left"
                    },
                    "hovermode": "closest",
                    "mapbox": {
                      "style": "light"
                    },
                    "paper_bgcolor": "white",
                    "plot_bgcolor": "#E5ECF6",
                    "polar": {
                      "angularaxis": {
                        "gridcolor": "white",
                        "linecolor": "white",
                        "ticks": ""
                      },
                      "bgcolor": "#E5ECF6",
                      "radialaxis": {
                        "gridcolor": "white",
                        "linecolor": "white",
                        "ticks": ""
                      }
                    },
                    "scene": {
                      "xaxis": {
                        "backgroundcolor": "#E5ECF6",
                        "gridcolor": "white",
                        "gridwidth": 2,
                        "linecolor": "white",
                        "showbackground": true,
                        "ticks": "",
                        "zerolinecolor": "white"
                      },
                      "yaxis": {
                        "backgroundcolor": "#E5ECF6",
                        "gridcolor": "white",
                        "gridwidth": 2,
                        "linecolor": "white",
                        "showbackground": true,
                        "ticks": "",
                        "zerolinecolor": "white"
                      },
                      "zaxis": {
                        "backgroundcolor": "#E5ECF6",
                        "gridcolor": "white",
                        "gridwidth": 2,
                        "linecolor": "white",
                        "showbackground": true,
                        "ticks": "",
                        "zerolinecolor": "white"
                      }
                    },
                    "shapedefaults": {
                      "line": {
                        "color": "#2a3f5f"
                      }
                    },
                    "ternary": {
                      "aaxis": {
                        "gridcolor": "white",
                        "linecolor": "white",
                        "ticks": ""
                      },
                      "baxis": {
                        "gridcolor": "white",
                        "linecolor": "white",
                        "ticks": ""
                      },
                      "bgcolor": "#E5ECF6",
                      "caxis": {
                        "gridcolor": "white",
                        "linecolor": "white",
                        "ticks": ""
                      }
                    },
                    "title": {
                      "x": 0.05
                    },
                    "xaxis": {
                      "automargin": true,
                      "gridcolor": "white",
                      "linecolor": "white",
                      "ticks": "",
                      "title": {
                        "standoff": 15
                      },
                      "zerolinecolor": "white",
                      "zerolinewidth": 2
                    },
                    "yaxis": {
                      "automargin": true,
                      "gridcolor": "white",
                      "linecolor": "white",
                      "ticks": "",
                      "title": {
                        "standoff": 15
                      },
                      "zerolinecolor": "white",
                      "zerolinewidth": 2
                    }
                  }
                },
                "title": {
                  "text": "Température maximum et prédiction",
                  "x": 0.2
                },
                "width": 800,
                "xaxis": {
                  "anchor": "y",
                  "domain": [
                    0,
                    0.94
                  ],
                  "title": {
                    "text": "Heures ensoleillées"
                  }
                },
                "yaxis": {
                  "anchor": "x",
                  "domain": [
                    0,
                    1
                  ],
                  "range": [
                    0,
                    40
                  ],
                  "side": "left",
                  "title": {
                    "text": "Température en °C"
                  }
                },
                "yaxis2": {
                  "anchor": "x",
                  "overlaying": "y",
                  "range": [
                    0,
                    40
                  ],
                  "side": "left",
                  "title": {
                    "text": "Température en °C"
                  }
                }
              }
            }
          },
          "metadata": {},
          "output_type": "display_data"
        }
      ],
      "source": [
        "# Your code here :\n",
        "trace1 = go.Scatter(\n",
        "    \n",
        "    x=df_weather[\"SUNHOUR\"],\n",
        "    y=df_weather[\"MAX_TEMPERATURE_C\"],\n",
        "        mode='markers',\n",
        "        name = \"Température maximum relevée\"\n",
        ")\n",
        "trace2 = go.Scatter(\n",
        "    x=df_weather[\"SUNHOUR\"],\n",
        "    y=df_weather[\"predict\"],\n",
        "    mode='markers',\n",
        "    marker=dict(color='rgb(254,92,92)'),\n",
        "    name = \"Prédiction\"\n",
        "\n",
        ")\n",
        "\n",
        "fig = make_subplots(specs=[[{\"secondary_y\": True}]])\n",
        "fig.add_trace(trace1)\n",
        "fig.add_trace(trace2,secondary_y=True)\n",
        "\n",
        "\n",
        "fig.update_layout(height = 600, width = 800, title = \"Température maximum et prédiction\", title_x=0.2)\n",
        "fig.update_yaxes(range=[0, 40], title=\"Température en °C\", side=\"left\")\n",
        "fig.update_xaxes(title=\"Heures ensoleillées\")\n",
        "fig.show()"
      ]
    },
    {
      "cell_type": "markdown",
      "metadata": {
        "id": "T1rmKjRPLVVq"
      },
      "source": [
        "Your prediction is stored in a DataFrame. **So, you can visualize your prediction without the \"source\" column.** Let's try it.\n",
        "Create on the same scatterplot chart :\n",
        "- X-axis : DATE\n",
        "- Y-axis : MAX temperatures in blue dots and 'predict' in red dots."
      ]
    },
    {
      "cell_type": "code",
      "execution_count": 8,
      "metadata": {
        "colab": {
          "base_uri": "https://localhost:8080/",
          "height": 617
        },
        "id": "87LCCYitLYZ7",
        "outputId": "b9caa12f-324b-4634-de32-451c2ae01a1c"
      },
      "outputs": [
        {
          "data": {
            "application/vnd.plotly.v1+json": {
              "config": {
                "plotlyServerURL": "https://plot.ly"
              },
              "data": [
                {
                  "mode": "markers",
                  "name": "Température maximum relevée",
                  "type": "scatter",
                  "x": [
                    "2019-01-01",
                    "2019-01-02",
                    "2019-01-03",
                    "2019-01-04",
                    "2019-01-05",
                    "2019-01-06",
                    "2019-01-07",
                    "2019-01-08",
                    "2019-01-09",
                    "2019-01-10",
                    "2019-01-11",
                    "2019-01-12",
                    "2019-01-13",
                    "2019-01-14",
                    "2019-01-15",
                    "2019-01-16",
                    "2019-01-17",
                    "2019-01-18",
                    "2019-01-19",
                    "2019-01-20",
                    "2019-01-21",
                    "2019-01-22",
                    "2019-01-23",
                    "2019-01-24",
                    "2019-01-25",
                    "2019-01-26",
                    "2019-01-27",
                    "2019-01-28",
                    "2019-01-29",
                    "2019-01-30",
                    "2019-01-31",
                    "2019-02-01",
                    "2019-02-02",
                    "2019-02-03",
                    "2019-02-04",
                    "2019-02-05",
                    "2019-02-06",
                    "2019-02-07",
                    "2019-02-08",
                    "2019-02-09",
                    "2019-02-10",
                    "2019-02-11",
                    "2019-02-12",
                    "2019-02-13",
                    "2019-02-14",
                    "2019-02-15",
                    "2019-02-16",
                    "2019-02-17",
                    "2019-02-18",
                    "2019-02-19",
                    "2019-02-20",
                    "2019-02-21",
                    "2019-02-22",
                    "2019-02-23",
                    "2019-02-24",
                    "2019-02-25",
                    "2019-02-26",
                    "2019-02-27",
                    "2019-02-28",
                    "2019-03-01",
                    "2019-03-02",
                    "2019-03-03",
                    "2019-03-04",
                    "2019-03-05",
                    "2019-03-06",
                    "2019-03-07",
                    "2019-03-08",
                    "2019-03-09",
                    "2019-03-10",
                    "2019-03-11",
                    "2019-03-12",
                    "2019-03-13",
                    "2019-03-14",
                    "2019-03-15",
                    "2019-03-16",
                    "2019-03-17",
                    "2019-03-18",
                    "2019-03-19",
                    "2019-03-20",
                    "2019-03-21",
                    "2019-03-22",
                    "2019-03-23",
                    "2019-03-24",
                    "2019-03-25",
                    "2019-03-26",
                    "2019-03-27",
                    "2019-03-28",
                    "2019-03-29",
                    "2019-03-30",
                    "2019-03-31",
                    "2019-04-01",
                    "2019-04-02",
                    "2019-04-03",
                    "2019-04-04",
                    "2019-04-05",
                    "2019-04-06",
                    "2019-04-07",
                    "2019-04-08",
                    "2019-04-09",
                    "2019-04-10",
                    "2019-04-11",
                    "2019-04-12",
                    "2019-04-13",
                    "2019-04-14",
                    "2019-04-15",
                    "2019-04-16",
                    "2019-04-17",
                    "2019-04-18",
                    "2019-04-19",
                    "2019-04-20",
                    "2019-04-21",
                    "2019-04-22",
                    "2019-04-23",
                    "2019-04-24",
                    "2019-04-25",
                    "2019-04-26",
                    "2019-04-27",
                    "2019-04-28",
                    "2019-04-29",
                    "2019-04-30",
                    "2019-05-01",
                    "2019-05-02",
                    "2019-05-03",
                    "2019-05-04",
                    "2019-05-05",
                    "2019-05-06",
                    "2019-05-07",
                    "2019-05-08",
                    "2019-05-09",
                    "2019-05-10",
                    "2019-05-11",
                    "2019-05-12",
                    "2019-05-13",
                    "2019-05-14",
                    "2019-05-15",
                    "2019-05-16",
                    "2019-05-17",
                    "2019-05-18",
                    "2019-05-19",
                    "2019-05-20",
                    "2019-05-21",
                    "2019-05-22",
                    "2019-05-23",
                    "2019-05-24",
                    "2019-05-25",
                    "2019-05-26",
                    "2019-05-27",
                    "2019-05-28",
                    "2019-05-29",
                    "2019-05-30",
                    "2019-05-31",
                    "2019-06-01",
                    "2019-06-02",
                    "2019-06-03",
                    "2019-06-04",
                    "2019-06-05",
                    "2019-06-06",
                    "2019-06-07",
                    "2019-06-08",
                    "2019-06-09",
                    "2019-06-10",
                    "2019-06-11",
                    "2019-06-12",
                    "2019-06-13",
                    "2019-06-14",
                    "2019-06-15",
                    "2019-06-16",
                    "2019-06-17",
                    "2019-06-18",
                    "2019-06-19",
                    "2019-06-20",
                    "2019-06-21",
                    "2019-06-22",
                    "2019-06-23",
                    "2019-06-24",
                    "2019-06-25",
                    "2019-06-26",
                    "2019-06-27",
                    "2019-06-28",
                    "2019-06-29",
                    "2019-06-30",
                    "2019-07-01",
                    "2019-07-02",
                    "2019-07-03",
                    "2019-07-04",
                    "2019-07-05",
                    "2019-07-06",
                    "2019-07-07",
                    "2019-07-08",
                    "2019-07-09",
                    "2019-07-10",
                    "2019-07-11",
                    "2019-07-12",
                    "2019-07-13",
                    "2019-07-14",
                    "2019-07-15",
                    "2019-07-16",
                    "2019-07-17",
                    "2019-07-18",
                    "2019-07-19",
                    "2019-07-20",
                    "2019-07-21",
                    "2019-07-22",
                    "2019-07-23",
                    "2019-07-24",
                    "2019-07-25",
                    "2019-07-26",
                    "2019-07-27",
                    "2019-07-28",
                    "2019-07-29",
                    "2019-07-30",
                    "2019-07-31",
                    "2019-08-01",
                    "2019-08-02",
                    "2019-08-03",
                    "2019-08-04",
                    "2019-08-05",
                    "2019-08-06",
                    "2019-08-07",
                    "2019-08-08",
                    "2019-08-09",
                    "2019-08-10",
                    "2019-08-11",
                    "2019-08-12",
                    "2019-08-13",
                    "2019-08-14",
                    "2019-08-15",
                    "2019-08-16",
                    "2019-08-17",
                    "2019-08-18",
                    "2019-08-19",
                    "2019-08-20",
                    "2019-08-21",
                    "2019-08-22",
                    "2019-08-23",
                    "2019-08-24",
                    "2019-08-25",
                    "2019-08-26",
                    "2019-08-27",
                    "2019-08-28",
                    "2019-08-29",
                    "2019-08-30",
                    "2019-08-31",
                    "2019-09-01",
                    "2019-09-02",
                    "2019-09-03",
                    "2019-09-04",
                    "2019-09-05",
                    "2019-09-06",
                    "2019-09-07",
                    "2019-09-08",
                    "2019-09-09",
                    "2019-09-10",
                    "2019-09-11",
                    "2019-09-12",
                    "2019-09-13",
                    "2019-09-14",
                    "2019-09-15",
                    "2019-09-16",
                    "2019-09-17",
                    "2019-09-18",
                    "2019-09-19",
                    "2019-09-20",
                    "2019-09-21",
                    "2019-09-22",
                    "2019-09-23",
                    "2019-09-24",
                    "2019-09-25",
                    "2019-09-26",
                    "2019-09-27",
                    "2019-09-28",
                    "2019-09-29",
                    "2019-09-30",
                    "2019-10-01",
                    "2019-10-02",
                    "2019-10-03",
                    "2019-10-04",
                    "2019-10-05",
                    "2019-10-06",
                    "2019-10-07",
                    "2019-10-08",
                    "2019-10-09",
                    "2019-10-10",
                    "2019-10-11",
                    "2019-10-12",
                    "2019-10-13",
                    "2019-10-14",
                    "2019-10-15",
                    "2019-10-16",
                    "2019-10-17",
                    "2019-10-18",
                    "2019-10-19",
                    "2019-10-20",
                    "2019-10-21",
                    "2019-10-22",
                    "2019-10-23",
                    "2019-10-24",
                    "2019-10-25",
                    "2019-10-26",
                    "2019-10-27",
                    "2019-10-28",
                    "2019-10-29",
                    "2019-10-30",
                    "2019-10-31",
                    "2019-11-01",
                    "2019-11-02",
                    "2019-11-03",
                    "2019-11-04",
                    "2019-11-05",
                    "2019-11-06",
                    "2019-11-07",
                    "2019-11-08",
                    "2019-11-09",
                    "2019-11-10",
                    "2019-11-11",
                    "2019-11-12",
                    "2019-11-13",
                    "2019-11-14",
                    "2019-11-15",
                    "2019-11-16",
                    "2019-11-17",
                    "2019-11-18",
                    "2019-11-19",
                    "2019-11-20",
                    "2019-11-21",
                    "2019-11-22",
                    "2019-11-23",
                    "2019-11-24",
                    "2019-11-25",
                    "2019-11-26",
                    "2019-11-27",
                    "2019-11-28",
                    "2019-11-29",
                    "2019-11-30",
                    "2019-12-01",
                    "2019-12-02",
                    "2019-12-03",
                    "2019-12-04",
                    "2019-12-05",
                    "2019-12-06",
                    "2019-12-07",
                    "2019-12-08",
                    "2019-12-09",
                    "2019-12-10",
                    "2019-12-11",
                    "2019-12-12",
                    "2019-12-13",
                    "2019-12-14",
                    "2019-12-15",
                    "2019-12-16",
                    "2019-12-17",
                    "2019-12-18",
                    "2019-12-19",
                    "2019-12-20",
                    "2019-12-21",
                    "2019-12-22",
                    "2019-12-23",
                    "2019-12-24",
                    "2019-12-25",
                    "2019-12-26",
                    "2019-12-27",
                    "2019-12-28",
                    "2019-12-29",
                    "2019-12-30",
                    "2019-12-31"
                  ],
                  "y": [
                    9,
                    8,
                    6,
                    5,
                    6,
                    5,
                    10,
                    10,
                    7,
                    7,
                    10,
                    9,
                    10,
                    10,
                    9,
                    8,
                    9,
                    7,
                    11,
                    7,
                    7,
                    8,
                    7,
                    7,
                    11,
                    10,
                    8,
                    8,
                    9,
                    7,
                    8,
                    9,
                    7,
                    8,
                    7,
                    10,
                    12,
                    11,
                    11,
                    12,
                    11,
                    10,
                    12,
                    10,
                    13,
                    15,
                    14,
                    15,
                    12,
                    12,
                    13,
                    17,
                    17,
                    18,
                    14,
                    15,
                    19,
                    20,
                    13,
                    14,
                    13,
                    14,
                    11,
                    13,
                    12,
                    11,
                    12,
                    13,
                    12,
                    11,
                    11,
                    10,
                    11,
                    13,
                    11,
                    11,
                    11,
                    12,
                    13,
                    15,
                    18,
                    17,
                    13,
                    12,
                    12,
                    13,
                    14,
                    16,
                    17,
                    19,
                    18,
                    12,
                    10,
                    10,
                    10,
                    10,
                    14,
                    12,
                    16,
                    14,
                    14,
                    14,
                    12,
                    9,
                    14,
                    15,
                    19,
                    21,
                    24,
                    21,
                    21,
                    19,
                    18,
                    14,
                    13,
                    14,
                    13,
                    12,
                    16,
                    18,
                    17,
                    15,
                    15,
                    11,
                    12,
                    15,
                    14,
                    15,
                    15,
                    15,
                    16,
                    16,
                    16,
                    18,
                    18,
                    17,
                    17,
                    14,
                    17,
                    18,
                    20,
                    21,
                    21,
                    20,
                    19,
                    17,
                    19,
                    15,
                    15,
                    20,
                    25,
                    29,
                    23,
                    20,
                    19,
                    16,
                    18,
                    15,
                    18,
                    16,
                    17,
                    15,
                    16,
                    18,
                    19,
                    18,
                    19,
                    25,
                    28,
                    20,
                    20,
                    20,
                    23,
                    27,
                    23,
                    26,
                    31,
                    34,
                    34,
                    32,
                    26,
                    24,
                    25,
                    26,
                    28,
                    30,
                    31,
                    28,
                    27,
                    25,
                    28,
                    26,
                    26,
                    27,
                    26,
                    26,
                    29,
                    27,
                    22,
                    26,
                    25,
                    26,
                    33,
                    39,
                    33,
                    32,
                    22,
                    23,
                    23,
                    24,
                    21,
                    23,
                    27,
                    29,
                    29,
                    26,
                    25,
                    23,
                    25,
                    28,
                    23,
                    23,
                    23,
                    22,
                    22,
                    20,
                    22,
                    22,
                    19,
                    21,
                    21,
                    23,
                    26,
                    28,
                    30,
                    33,
                    30,
                    33,
                    29,
                    24,
                    25,
                    30,
                    23,
                    23,
                    24,
                    26,
                    20,
                    19,
                    23,
                    22,
                    21,
                    17,
                    22,
                    22,
                    24,
                    28,
                    29,
                    31,
                    21,
                    27,
                    23,
                    23,
                    27,
                    28,
                    21,
                    20,
                    20,
                    17,
                    19,
                    19,
                    19,
                    20,
                    21,
                    19,
                    19,
                    19,
                    17,
                    18,
                    18,
                    14,
                    18,
                    16,
                    18,
                    20,
                    21,
                    20,
                    20,
                    16,
                    16,
                    17,
                    16,
                    16,
                    15,
                    16,
                    16,
                    15,
                    14,
                    18,
                    19,
                    15,
                    12,
                    14,
                    17,
                    16,
                    17,
                    14,
                    14,
                    13,
                    12,
                    13,
                    11,
                    11,
                    10,
                    11,
                    11,
                    11,
                    9,
                    11,
                    8,
                    9,
                    8,
                    10,
                    9,
                    7,
                    11,
                    10,
                    12,
                    12,
                    13,
                    14,
                    13,
                    13,
                    13,
                    9,
                    7,
                    7,
                    7,
                    8,
                    7,
                    11,
                    13,
                    13,
                    11,
                    11,
                    9,
                    12,
                    10,
                    12,
                    10,
                    11,
                    12,
                    12,
                    13,
                    12,
                    11,
                    10,
                    10,
                    14,
                    11,
                    12,
                    13,
                    11,
                    9,
                    12,
                    10
                  ]
                },
                {
                  "marker": {
                    "color": "rgb(254,92,92)"
                  },
                  "mode": "markers",
                  "name": "Prédiction",
                  "type": "scatter",
                  "x": [
                    "2019-01-01",
                    "2019-01-02",
                    "2019-01-03",
                    "2019-01-04",
                    "2019-01-05",
                    "2019-01-06",
                    "2019-01-07",
                    "2019-01-08",
                    "2019-01-09",
                    "2019-01-10",
                    "2019-01-11",
                    "2019-01-12",
                    "2019-01-13",
                    "2019-01-14",
                    "2019-01-15",
                    "2019-01-16",
                    "2019-01-17",
                    "2019-01-18",
                    "2019-01-19",
                    "2019-01-20",
                    "2019-01-21",
                    "2019-01-22",
                    "2019-01-23",
                    "2019-01-24",
                    "2019-01-25",
                    "2019-01-26",
                    "2019-01-27",
                    "2019-01-28",
                    "2019-01-29",
                    "2019-01-30",
                    "2019-01-31",
                    "2019-02-01",
                    "2019-02-02",
                    "2019-02-03",
                    "2019-02-04",
                    "2019-02-05",
                    "2019-02-06",
                    "2019-02-07",
                    "2019-02-08",
                    "2019-02-09",
                    "2019-02-10",
                    "2019-02-11",
                    "2019-02-12",
                    "2019-02-13",
                    "2019-02-14",
                    "2019-02-15",
                    "2019-02-16",
                    "2019-02-17",
                    "2019-02-18",
                    "2019-02-19",
                    "2019-02-20",
                    "2019-02-21",
                    "2019-02-22",
                    "2019-02-23",
                    "2019-02-24",
                    "2019-02-25",
                    "2019-02-26",
                    "2019-02-27",
                    "2019-02-28",
                    "2019-03-01",
                    "2019-03-02",
                    "2019-03-03",
                    "2019-03-04",
                    "2019-03-05",
                    "2019-03-06",
                    "2019-03-07",
                    "2019-03-08",
                    "2019-03-09",
                    "2019-03-10",
                    "2019-03-11",
                    "2019-03-12",
                    "2019-03-13",
                    "2019-03-14",
                    "2019-03-15",
                    "2019-03-16",
                    "2019-03-17",
                    "2019-03-18",
                    "2019-03-19",
                    "2019-03-20",
                    "2019-03-21",
                    "2019-03-22",
                    "2019-03-23",
                    "2019-03-24",
                    "2019-03-25",
                    "2019-03-26",
                    "2019-03-27",
                    "2019-03-28",
                    "2019-03-29",
                    "2019-03-30",
                    "2019-03-31",
                    "2019-04-01",
                    "2019-04-02",
                    "2019-04-03",
                    "2019-04-04",
                    "2019-04-05",
                    "2019-04-06",
                    "2019-04-07",
                    "2019-04-08",
                    "2019-04-09",
                    "2019-04-10",
                    "2019-04-11",
                    "2019-04-12",
                    "2019-04-13",
                    "2019-04-14",
                    "2019-04-15",
                    "2019-04-16",
                    "2019-04-17",
                    "2019-04-18",
                    "2019-04-19",
                    "2019-04-20",
                    "2019-04-21",
                    "2019-04-22",
                    "2019-04-23",
                    "2019-04-24",
                    "2019-04-25",
                    "2019-04-26",
                    "2019-04-27",
                    "2019-04-28",
                    "2019-04-29",
                    "2019-04-30",
                    "2019-05-01",
                    "2019-05-02",
                    "2019-05-03",
                    "2019-05-04",
                    "2019-05-05",
                    "2019-05-06",
                    "2019-05-07",
                    "2019-05-08",
                    "2019-05-09",
                    "2019-05-10",
                    "2019-05-11",
                    "2019-05-12",
                    "2019-05-13",
                    "2019-05-14",
                    "2019-05-15",
                    "2019-05-16",
                    "2019-05-17",
                    "2019-05-18",
                    "2019-05-19",
                    "2019-05-20",
                    "2019-05-21",
                    "2019-05-22",
                    "2019-05-23",
                    "2019-05-24",
                    "2019-05-25",
                    "2019-05-26",
                    "2019-05-27",
                    "2019-05-28",
                    "2019-05-29",
                    "2019-05-30",
                    "2019-05-31",
                    "2019-06-01",
                    "2019-06-02",
                    "2019-06-03",
                    "2019-06-04",
                    "2019-06-05",
                    "2019-06-06",
                    "2019-06-07",
                    "2019-06-08",
                    "2019-06-09",
                    "2019-06-10",
                    "2019-06-11",
                    "2019-06-12",
                    "2019-06-13",
                    "2019-06-14",
                    "2019-06-15",
                    "2019-06-16",
                    "2019-06-17",
                    "2019-06-18",
                    "2019-06-19",
                    "2019-06-20",
                    "2019-06-21",
                    "2019-06-22",
                    "2019-06-23",
                    "2019-06-24",
                    "2019-06-25",
                    "2019-06-26",
                    "2019-06-27",
                    "2019-06-28",
                    "2019-06-29",
                    "2019-06-30",
                    "2019-07-01",
                    "2019-07-02",
                    "2019-07-03",
                    "2019-07-04",
                    "2019-07-05",
                    "2019-07-06",
                    "2019-07-07",
                    "2019-07-08",
                    "2019-07-09",
                    "2019-07-10",
                    "2019-07-11",
                    "2019-07-12",
                    "2019-07-13",
                    "2019-07-14",
                    "2019-07-15",
                    "2019-07-16",
                    "2019-07-17",
                    "2019-07-18",
                    "2019-07-19",
                    "2019-07-20",
                    "2019-07-21",
                    "2019-07-22",
                    "2019-07-23",
                    "2019-07-24",
                    "2019-07-25",
                    "2019-07-26",
                    "2019-07-27",
                    "2019-07-28",
                    "2019-07-29",
                    "2019-07-30",
                    "2019-07-31",
                    "2019-08-01",
                    "2019-08-02",
                    "2019-08-03",
                    "2019-08-04",
                    "2019-08-05",
                    "2019-08-06",
                    "2019-08-07",
                    "2019-08-08",
                    "2019-08-09",
                    "2019-08-10",
                    "2019-08-11",
                    "2019-08-12",
                    "2019-08-13",
                    "2019-08-14",
                    "2019-08-15",
                    "2019-08-16",
                    "2019-08-17",
                    "2019-08-18",
                    "2019-08-19",
                    "2019-08-20",
                    "2019-08-21",
                    "2019-08-22",
                    "2019-08-23",
                    "2019-08-24",
                    "2019-08-25",
                    "2019-08-26",
                    "2019-08-27",
                    "2019-08-28",
                    "2019-08-29",
                    "2019-08-30",
                    "2019-08-31",
                    "2019-09-01",
                    "2019-09-02",
                    "2019-09-03",
                    "2019-09-04",
                    "2019-09-05",
                    "2019-09-06",
                    "2019-09-07",
                    "2019-09-08",
                    "2019-09-09",
                    "2019-09-10",
                    "2019-09-11",
                    "2019-09-12",
                    "2019-09-13",
                    "2019-09-14",
                    "2019-09-15",
                    "2019-09-16",
                    "2019-09-17",
                    "2019-09-18",
                    "2019-09-19",
                    "2019-09-20",
                    "2019-09-21",
                    "2019-09-22",
                    "2019-09-23",
                    "2019-09-24",
                    "2019-09-25",
                    "2019-09-26",
                    "2019-09-27",
                    "2019-09-28",
                    "2019-09-29",
                    "2019-09-30",
                    "2019-10-01",
                    "2019-10-02",
                    "2019-10-03",
                    "2019-10-04",
                    "2019-10-05",
                    "2019-10-06",
                    "2019-10-07",
                    "2019-10-08",
                    "2019-10-09",
                    "2019-10-10",
                    "2019-10-11",
                    "2019-10-12",
                    "2019-10-13",
                    "2019-10-14",
                    "2019-10-15",
                    "2019-10-16",
                    "2019-10-17",
                    "2019-10-18",
                    "2019-10-19",
                    "2019-10-20",
                    "2019-10-21",
                    "2019-10-22",
                    "2019-10-23",
                    "2019-10-24",
                    "2019-10-25",
                    "2019-10-26",
                    "2019-10-27",
                    "2019-10-28",
                    "2019-10-29",
                    "2019-10-30",
                    "2019-10-31",
                    "2019-11-01",
                    "2019-11-02",
                    "2019-11-03",
                    "2019-11-04",
                    "2019-11-05",
                    "2019-11-06",
                    "2019-11-07",
                    "2019-11-08",
                    "2019-11-09",
                    "2019-11-10",
                    "2019-11-11",
                    "2019-11-12",
                    "2019-11-13",
                    "2019-11-14",
                    "2019-11-15",
                    "2019-11-16",
                    "2019-11-17",
                    "2019-11-18",
                    "2019-11-19",
                    "2019-11-20",
                    "2019-11-21",
                    "2019-11-22",
                    "2019-11-23",
                    "2019-11-24",
                    "2019-11-25",
                    "2019-11-26",
                    "2019-11-27",
                    "2019-11-28",
                    "2019-11-29",
                    "2019-11-30",
                    "2019-12-01",
                    "2019-12-02",
                    "2019-12-03",
                    "2019-12-04",
                    "2019-12-05",
                    "2019-12-06",
                    "2019-12-07",
                    "2019-12-08",
                    "2019-12-09",
                    "2019-12-10",
                    "2019-12-11",
                    "2019-12-12",
                    "2019-12-13",
                    "2019-12-14",
                    "2019-12-15",
                    "2019-12-16",
                    "2019-12-17",
                    "2019-12-18",
                    "2019-12-19",
                    "2019-12-20",
                    "2019-12-21",
                    "2019-12-22",
                    "2019-12-23",
                    "2019-12-24",
                    "2019-12-25",
                    "2019-12-26",
                    "2019-12-27",
                    "2019-12-28",
                    "2019-12-29",
                    "2019-12-30",
                    "2019-12-31"
                  ],
                  "xaxis": "x",
                  "y": [
                    11.396823248943104,
                    16.020019408865615,
                    16.020019408865615,
                    11.396823248943104,
                    16.020019408865615,
                    9.085225168981847,
                    11.396823248943104,
                    9.085225168981847,
                    9.085225168981847,
                    16.020019408865615,
                    11.396823248943104,
                    13.708421328904361,
                    9.085225168981847,
                    9.085225168981847,
                    16.020019408865615,
                    9.21364728453525,
                    16.020019408865615,
                    16.020019408865615,
                    9.21364728453525,
                    11.525245364496508,
                    16.020019408865615,
                    9.21364728453525,
                    11.525245364496508,
                    11.525245364496508,
                    9.21364728453525,
                    9.342069400088654,
                    15.377908831098601,
                    13.194732866690748,
                    11.011556902282894,
                    13.194732866690748,
                    11.139979017836298,
                    11.139979017836298,
                    17.432662679953054,
                    17.432662679953054,
                    11.139979017836298,
                    11.139979017836298,
                    11.268401133389702,
                    13.323154982244152,
                    11.268401133389702,
                    13.323154982244152,
                    15.506330946652005,
                    15.506330946652005,
                    17.81792902661326,
                    17.81792902661326,
                    17.946351142166662,
                    17.946351142166662,
                    15.634753062205409,
                    17.946351142166662,
                    13.579999213350957,
                    11.525245364496508,
                    17.68950691105986,
                    18.203195373273473,
                    18.203195373273473,
                    18.716883835487085,
                    15.76317517775881,
                    18.845305951040487,
                    18.845305951040487,
                    18.973728066593893,
                    11.910511711156717,
                    17.81792902661326,
                    17.81792902661326,
                    12.03893382671012,
                    15.891597293312214,
                    17.81792902661326,
                    12.03893382671012,
                    16.020019408865615,
                    17.946351142166662,
                    12.42420017337033,
                    14.222109791117973,
                    17.946351142166662,
                    14.222109791117973,
                    19.744260759914308,
                    12.42420017337033,
                    12.552622288923732,
                    12.552622288923732,
                    19.744260759914308,
                    16.14844152441902,
                    14.350531906671376,
                    14.350531906671376,
                    19.744260759914308,
                    19.744260759914308,
                    19.744260759914308,
                    17.946351142166662,
                    16.276863639972426,
                    19.744260759914308,
                    19.744260759914308,
                    18.074773257720068,
                    16.405285755525824,
                    18.074773257720068,
                    18.074773257720068,
                    16.405285755525824,
                    13.194732866690748,
                    14.86422036888499,
                    14.86422036888499,
                    13.194732866690748,
                    13.194732866690748,
                    14.86422036888499,
                    16.53370787107923,
                    18.074773257720068,
                    14.992642484438393,
                    19.744260759914308,
                    19.744260759914308,
                    19.744260759914308,
                    14.992642484438393,
                    16.53370787107923,
                    19.744260759914308,
                    18.203195373273473,
                    19.744260759914308,
                    19.744260759914308,
                    16.790552102186037,
                    16.790552102186037,
                    16.790552102186037,
                    15.377908831098601,
                    13.836843444457765,
                    16.790552102186037,
                    22.05585883987557,
                    17.946351142166662,
                    16.53370787107923,
                    17.946351142166662,
                    23.468502110963,
                    20.771637684341535,
                    20.771637684341535,
                    19.358994413254102,
                    19.358994413254102,
                    22.05585883987557,
                    19.4874165288075,
                    18.074773257720068,
                    19.4874165288075,
                    16.790552102186037,
                    16.790552102186037,
                    19.4874165288075,
                    23.468502110963,
                    23.468502110963,
                    23.468502110963,
                    23.468502110963,
                    18.203195373273473,
                    19.615838644360906,
                    17.047396333292845,
                    18.331617488826872,
                    17.047396333292845,
                    20.90005979989494,
                    19.615838644360906,
                    22.184280955428967,
                    22.184280955428967,
                    19.615838644360906,
                    17.175818448846243,
                    20.90005979989494,
                    19.615838644360906,
                    18.460039604380277,
                    19.744260759914308,
                    23.468502110963,
                    23.468502110963,
                    22.184280955428967,
                    21.02848191544834,
                    17.30424056439965,
                    17.30424056439965,
                    19.744260759914308,
                    17.30424056439965,
                    22.44112518653577,
                    22.569547302089177,
                    23.725346342069805,
                    22.569547302089177,
                    21.413748262108548,
                    23.725346342069805,
                    25.266411728710644,
                    22.569547302089177,
                    23.725346342069805,
                    25.39483384426405,
                    25.39483384426405,
                    21.413748262108548,
                    25.39483384426405,
                    23.725346342069805,
                    25.39483384426405,
                    25.39483384426405,
                    21.413748262108548,
                    25.39483384426405,
                    25.39483384426405,
                    25.266411728710644,
                    25.266411728710644,
                    25.266411728710644,
                    24.881145382050434,
                    25.266411728710644,
                    25.266411728710644,
                    25.266411728710644,
                    25.266411728710644,
                    25.266411728710644,
                    23.5969242265164,
                    25.266411728710644,
                    25.137989613157245,
                    25.137989613157245,
                    25.137989613157245,
                    25.137989613157245,
                    22.44112518653577,
                    25.137989613157245,
                    23.468502110963,
                    23.468502110963,
                    22.184280955428967,
                    23.468502110963,
                    18.331617488826872,
                    22.184280955428967,
                    19.615838644360906,
                    23.468502110963,
                    23.468502110963,
                    23.468502110963,
                    23.468502110963,
                    22.184280955428967,
                    16.91897421773944,
                    18.203195373273473,
                    23.468502110963,
                    22.184280955428967,
                    18.203195373273473,
                    22.184280955428967,
                    23.468502110963,
                    23.468502110963,
                    23.468502110963,
                    23.468502110963,
                    19.4874165288075,
                    16.790552102186037,
                    20.771637684341535,
                    23.468502110963,
                    19.358994413254102,
                    19.358994413254102,
                    20.771637684341535,
                    16.662129986632632,
                    22.05585883987557,
                    13.965265560011167,
                    16.790552102186037,
                    19.744260759914308,
                    13.965265560011167,
                    16.790552102186037,
                    18.331617488826872,
                    19.744260759914308,
                    16.790552102186037,
                    19.744260759914308,
                    19.744260759914308,
                    18.203195373273473,
                    19.744260759914308,
                    18.203195373273473,
                    18.203195373273473,
                    16.53370787107923,
                    16.53370787107923,
                    18.203195373273473,
                    19.744260759914308,
                    19.744260759914308,
                    19.744260759914308,
                    19.744260759914308,
                    14.86422036888499,
                    16.53370787107923,
                    19.744260759914308,
                    18.074773257720068,
                    19.744260759914308,
                    14.86422036888499,
                    19.744260759914308,
                    19.744260759914308,
                    18.074773257720068,
                    19.744260759914308,
                    19.744260759914308,
                    19.744260759914308,
                    19.744260759914308,
                    19.744260759914308,
                    19.744260759914308,
                    19.744260759914308,
                    19.744260759914308,
                    18.074773257720068,
                    14.607376137778182,
                    12.80946652003054,
                    14.607376137778182,
                    12.552622288923732,
                    12.552622288923732,
                    16.14844152441902,
                    12.295778057816925,
                    14.09368767556457,
                    12.167355942263523,
                    12.167355942263523,
                    12.167355942263523,
                    19.4874165288075,
                    13.965265560011167,
                    12.03893382671012,
                    19.358994413254102,
                    12.03893382671012,
                    13.965265560011167,
                    13.965265560011167,
                    15.891597293312214,
                    17.81792902661326,
                    19.10215018214729,
                    15.891597293312214,
                    13.836843444457765,
                    15.76317517775881,
                    11.910511711156717,
                    13.836843444457765,
                    15.76317517775881,
                    11.782089595603313,
                    11.782089595603313,
                    17.68950691105986,
                    18.58846171993368,
                    11.653667480049911,
                    11.653667480049911,
                    13.708421328904361,
                    18.460039604380277,
                    9.727335746748864,
                    9.727335746748864,
                    9.727335746748864,
                    11.782089595603313,
                    9.727335746748864,
                    9.727335746748864,
                    9.59891363119546,
                    9.59891363119546,
                    11.782089595603313,
                    9.59891363119546,
                    13.836843444457765,
                    9.59891363119546,
                    13.836843444457765,
                    9.342069400088654,
                    11.525245364496508,
                    11.525245364496508,
                    11.525245364496508,
                    11.525245364496508,
                    13.836843444457765,
                    13.836843444457765,
                    9.342069400088654,
                    16.020019408865615,
                    16.020019408865615,
                    13.708421328904361,
                    11.525245364496508,
                    9.21364728453525,
                    9.21364728453525,
                    13.708421328904361,
                    11.525245364496508,
                    9.21364728453525,
                    9.21364728453525,
                    9.21364728453525,
                    9.085225168981847,
                    13.708421328904361,
                    9.085225168981847,
                    9.085225168981847,
                    16.020019408865615,
                    16.020019408865615,
                    13.708421328904361,
                    16.020019408865615,
                    9.085225168981847,
                    9.085225168981847,
                    9.085225168981847,
                    11.396823248943104,
                    9.085225168981847,
                    16.020019408865615,
                    9.085225168981847,
                    9.085225168981847,
                    9.085225168981847,
                    13.708421328904361,
                    9.085225168981847,
                    9.085225168981847,
                    11.396823248943104,
                    9.085225168981847,
                    11.396823248943104,
                    13.708421328904361,
                    11.396823248943104,
                    13.708421328904361,
                    16.020019408865615,
                    16.020019408865615,
                    11.396823248943104,
                    16.020019408865615,
                    13.708421328904361,
                    16.020019408865615,
                    16.020019408865615,
                    16.020019408865615
                  ],
                  "yaxis": "y2"
                }
              ],
              "layout": {
                "height": 600,
                "template": {
                  "data": {
                    "bar": [
                      {
                        "error_x": {
                          "color": "#2a3f5f"
                        },
                        "error_y": {
                          "color": "#2a3f5f"
                        },
                        "marker": {
                          "line": {
                            "color": "#E5ECF6",
                            "width": 0.5
                          },
                          "pattern": {
                            "fillmode": "overlay",
                            "size": 10,
                            "solidity": 0.2
                          }
                        },
                        "type": "bar"
                      }
                    ],
                    "barpolar": [
                      {
                        "marker": {
                          "line": {
                            "color": "#E5ECF6",
                            "width": 0.5
                          },
                          "pattern": {
                            "fillmode": "overlay",
                            "size": 10,
                            "solidity": 0.2
                          }
                        },
                        "type": "barpolar"
                      }
                    ],
                    "carpet": [
                      {
                        "aaxis": {
                          "endlinecolor": "#2a3f5f",
                          "gridcolor": "white",
                          "linecolor": "white",
                          "minorgridcolor": "white",
                          "startlinecolor": "#2a3f5f"
                        },
                        "baxis": {
                          "endlinecolor": "#2a3f5f",
                          "gridcolor": "white",
                          "linecolor": "white",
                          "minorgridcolor": "white",
                          "startlinecolor": "#2a3f5f"
                        },
                        "type": "carpet"
                      }
                    ],
                    "choropleth": [
                      {
                        "colorbar": {
                          "outlinewidth": 0,
                          "ticks": ""
                        },
                        "type": "choropleth"
                      }
                    ],
                    "contour": [
                      {
                        "colorbar": {
                          "outlinewidth": 0,
                          "ticks": ""
                        },
                        "colorscale": [
                          [
                            0,
                            "#0d0887"
                          ],
                          [
                            0.1111111111111111,
                            "#46039f"
                          ],
                          [
                            0.2222222222222222,
                            "#7201a8"
                          ],
                          [
                            0.3333333333333333,
                            "#9c179e"
                          ],
                          [
                            0.4444444444444444,
                            "#bd3786"
                          ],
                          [
                            0.5555555555555556,
                            "#d8576b"
                          ],
                          [
                            0.6666666666666666,
                            "#ed7953"
                          ],
                          [
                            0.7777777777777778,
                            "#fb9f3a"
                          ],
                          [
                            0.8888888888888888,
                            "#fdca26"
                          ],
                          [
                            1,
                            "#f0f921"
                          ]
                        ],
                        "type": "contour"
                      }
                    ],
                    "contourcarpet": [
                      {
                        "colorbar": {
                          "outlinewidth": 0,
                          "ticks": ""
                        },
                        "type": "contourcarpet"
                      }
                    ],
                    "heatmap": [
                      {
                        "colorbar": {
                          "outlinewidth": 0,
                          "ticks": ""
                        },
                        "colorscale": [
                          [
                            0,
                            "#0d0887"
                          ],
                          [
                            0.1111111111111111,
                            "#46039f"
                          ],
                          [
                            0.2222222222222222,
                            "#7201a8"
                          ],
                          [
                            0.3333333333333333,
                            "#9c179e"
                          ],
                          [
                            0.4444444444444444,
                            "#bd3786"
                          ],
                          [
                            0.5555555555555556,
                            "#d8576b"
                          ],
                          [
                            0.6666666666666666,
                            "#ed7953"
                          ],
                          [
                            0.7777777777777778,
                            "#fb9f3a"
                          ],
                          [
                            0.8888888888888888,
                            "#fdca26"
                          ],
                          [
                            1,
                            "#f0f921"
                          ]
                        ],
                        "type": "heatmap"
                      }
                    ],
                    "heatmapgl": [
                      {
                        "colorbar": {
                          "outlinewidth": 0,
                          "ticks": ""
                        },
                        "colorscale": [
                          [
                            0,
                            "#0d0887"
                          ],
                          [
                            0.1111111111111111,
                            "#46039f"
                          ],
                          [
                            0.2222222222222222,
                            "#7201a8"
                          ],
                          [
                            0.3333333333333333,
                            "#9c179e"
                          ],
                          [
                            0.4444444444444444,
                            "#bd3786"
                          ],
                          [
                            0.5555555555555556,
                            "#d8576b"
                          ],
                          [
                            0.6666666666666666,
                            "#ed7953"
                          ],
                          [
                            0.7777777777777778,
                            "#fb9f3a"
                          ],
                          [
                            0.8888888888888888,
                            "#fdca26"
                          ],
                          [
                            1,
                            "#f0f921"
                          ]
                        ],
                        "type": "heatmapgl"
                      }
                    ],
                    "histogram": [
                      {
                        "marker": {
                          "pattern": {
                            "fillmode": "overlay",
                            "size": 10,
                            "solidity": 0.2
                          }
                        },
                        "type": "histogram"
                      }
                    ],
                    "histogram2d": [
                      {
                        "colorbar": {
                          "outlinewidth": 0,
                          "ticks": ""
                        },
                        "colorscale": [
                          [
                            0,
                            "#0d0887"
                          ],
                          [
                            0.1111111111111111,
                            "#46039f"
                          ],
                          [
                            0.2222222222222222,
                            "#7201a8"
                          ],
                          [
                            0.3333333333333333,
                            "#9c179e"
                          ],
                          [
                            0.4444444444444444,
                            "#bd3786"
                          ],
                          [
                            0.5555555555555556,
                            "#d8576b"
                          ],
                          [
                            0.6666666666666666,
                            "#ed7953"
                          ],
                          [
                            0.7777777777777778,
                            "#fb9f3a"
                          ],
                          [
                            0.8888888888888888,
                            "#fdca26"
                          ],
                          [
                            1,
                            "#f0f921"
                          ]
                        ],
                        "type": "histogram2d"
                      }
                    ],
                    "histogram2dcontour": [
                      {
                        "colorbar": {
                          "outlinewidth": 0,
                          "ticks": ""
                        },
                        "colorscale": [
                          [
                            0,
                            "#0d0887"
                          ],
                          [
                            0.1111111111111111,
                            "#46039f"
                          ],
                          [
                            0.2222222222222222,
                            "#7201a8"
                          ],
                          [
                            0.3333333333333333,
                            "#9c179e"
                          ],
                          [
                            0.4444444444444444,
                            "#bd3786"
                          ],
                          [
                            0.5555555555555556,
                            "#d8576b"
                          ],
                          [
                            0.6666666666666666,
                            "#ed7953"
                          ],
                          [
                            0.7777777777777778,
                            "#fb9f3a"
                          ],
                          [
                            0.8888888888888888,
                            "#fdca26"
                          ],
                          [
                            1,
                            "#f0f921"
                          ]
                        ],
                        "type": "histogram2dcontour"
                      }
                    ],
                    "mesh3d": [
                      {
                        "colorbar": {
                          "outlinewidth": 0,
                          "ticks": ""
                        },
                        "type": "mesh3d"
                      }
                    ],
                    "parcoords": [
                      {
                        "line": {
                          "colorbar": {
                            "outlinewidth": 0,
                            "ticks": ""
                          }
                        },
                        "type": "parcoords"
                      }
                    ],
                    "pie": [
                      {
                        "automargin": true,
                        "type": "pie"
                      }
                    ],
                    "scatter": [
                      {
                        "marker": {
                          "colorbar": {
                            "outlinewidth": 0,
                            "ticks": ""
                          }
                        },
                        "type": "scatter"
                      }
                    ],
                    "scatter3d": [
                      {
                        "line": {
                          "colorbar": {
                            "outlinewidth": 0,
                            "ticks": ""
                          }
                        },
                        "marker": {
                          "colorbar": {
                            "outlinewidth": 0,
                            "ticks": ""
                          }
                        },
                        "type": "scatter3d"
                      }
                    ],
                    "scattercarpet": [
                      {
                        "marker": {
                          "colorbar": {
                            "outlinewidth": 0,
                            "ticks": ""
                          }
                        },
                        "type": "scattercarpet"
                      }
                    ],
                    "scattergeo": [
                      {
                        "marker": {
                          "colorbar": {
                            "outlinewidth": 0,
                            "ticks": ""
                          }
                        },
                        "type": "scattergeo"
                      }
                    ],
                    "scattergl": [
                      {
                        "marker": {
                          "colorbar": {
                            "outlinewidth": 0,
                            "ticks": ""
                          }
                        },
                        "type": "scattergl"
                      }
                    ],
                    "scattermapbox": [
                      {
                        "marker": {
                          "colorbar": {
                            "outlinewidth": 0,
                            "ticks": ""
                          }
                        },
                        "type": "scattermapbox"
                      }
                    ],
                    "scatterpolar": [
                      {
                        "marker": {
                          "colorbar": {
                            "outlinewidth": 0,
                            "ticks": ""
                          }
                        },
                        "type": "scatterpolar"
                      }
                    ],
                    "scatterpolargl": [
                      {
                        "marker": {
                          "colorbar": {
                            "outlinewidth": 0,
                            "ticks": ""
                          }
                        },
                        "type": "scatterpolargl"
                      }
                    ],
                    "scatterternary": [
                      {
                        "marker": {
                          "colorbar": {
                            "outlinewidth": 0,
                            "ticks": ""
                          }
                        },
                        "type": "scatterternary"
                      }
                    ],
                    "surface": [
                      {
                        "colorbar": {
                          "outlinewidth": 0,
                          "ticks": ""
                        },
                        "colorscale": [
                          [
                            0,
                            "#0d0887"
                          ],
                          [
                            0.1111111111111111,
                            "#46039f"
                          ],
                          [
                            0.2222222222222222,
                            "#7201a8"
                          ],
                          [
                            0.3333333333333333,
                            "#9c179e"
                          ],
                          [
                            0.4444444444444444,
                            "#bd3786"
                          ],
                          [
                            0.5555555555555556,
                            "#d8576b"
                          ],
                          [
                            0.6666666666666666,
                            "#ed7953"
                          ],
                          [
                            0.7777777777777778,
                            "#fb9f3a"
                          ],
                          [
                            0.8888888888888888,
                            "#fdca26"
                          ],
                          [
                            1,
                            "#f0f921"
                          ]
                        ],
                        "type": "surface"
                      }
                    ],
                    "table": [
                      {
                        "cells": {
                          "fill": {
                            "color": "#EBF0F8"
                          },
                          "line": {
                            "color": "white"
                          }
                        },
                        "header": {
                          "fill": {
                            "color": "#C8D4E3"
                          },
                          "line": {
                            "color": "white"
                          }
                        },
                        "type": "table"
                      }
                    ]
                  },
                  "layout": {
                    "annotationdefaults": {
                      "arrowcolor": "#2a3f5f",
                      "arrowhead": 0,
                      "arrowwidth": 1
                    },
                    "autotypenumbers": "strict",
                    "coloraxis": {
                      "colorbar": {
                        "outlinewidth": 0,
                        "ticks": ""
                      }
                    },
                    "colorscale": {
                      "diverging": [
                        [
                          0,
                          "#8e0152"
                        ],
                        [
                          0.1,
                          "#c51b7d"
                        ],
                        [
                          0.2,
                          "#de77ae"
                        ],
                        [
                          0.3,
                          "#f1b6da"
                        ],
                        [
                          0.4,
                          "#fde0ef"
                        ],
                        [
                          0.5,
                          "#f7f7f7"
                        ],
                        [
                          0.6,
                          "#e6f5d0"
                        ],
                        [
                          0.7,
                          "#b8e186"
                        ],
                        [
                          0.8,
                          "#7fbc41"
                        ],
                        [
                          0.9,
                          "#4d9221"
                        ],
                        [
                          1,
                          "#276419"
                        ]
                      ],
                      "sequential": [
                        [
                          0,
                          "#0d0887"
                        ],
                        [
                          0.1111111111111111,
                          "#46039f"
                        ],
                        [
                          0.2222222222222222,
                          "#7201a8"
                        ],
                        [
                          0.3333333333333333,
                          "#9c179e"
                        ],
                        [
                          0.4444444444444444,
                          "#bd3786"
                        ],
                        [
                          0.5555555555555556,
                          "#d8576b"
                        ],
                        [
                          0.6666666666666666,
                          "#ed7953"
                        ],
                        [
                          0.7777777777777778,
                          "#fb9f3a"
                        ],
                        [
                          0.8888888888888888,
                          "#fdca26"
                        ],
                        [
                          1,
                          "#f0f921"
                        ]
                      ],
                      "sequentialminus": [
                        [
                          0,
                          "#0d0887"
                        ],
                        [
                          0.1111111111111111,
                          "#46039f"
                        ],
                        [
                          0.2222222222222222,
                          "#7201a8"
                        ],
                        [
                          0.3333333333333333,
                          "#9c179e"
                        ],
                        [
                          0.4444444444444444,
                          "#bd3786"
                        ],
                        [
                          0.5555555555555556,
                          "#d8576b"
                        ],
                        [
                          0.6666666666666666,
                          "#ed7953"
                        ],
                        [
                          0.7777777777777778,
                          "#fb9f3a"
                        ],
                        [
                          0.8888888888888888,
                          "#fdca26"
                        ],
                        [
                          1,
                          "#f0f921"
                        ]
                      ]
                    },
                    "colorway": [
                      "#636efa",
                      "#EF553B",
                      "#00cc96",
                      "#ab63fa",
                      "#FFA15A",
                      "#19d3f3",
                      "#FF6692",
                      "#B6E880",
                      "#FF97FF",
                      "#FECB52"
                    ],
                    "font": {
                      "color": "#2a3f5f"
                    },
                    "geo": {
                      "bgcolor": "white",
                      "lakecolor": "white",
                      "landcolor": "#E5ECF6",
                      "showlakes": true,
                      "showland": true,
                      "subunitcolor": "white"
                    },
                    "hoverlabel": {
                      "align": "left"
                    },
                    "hovermode": "closest",
                    "mapbox": {
                      "style": "light"
                    },
                    "paper_bgcolor": "white",
                    "plot_bgcolor": "#E5ECF6",
                    "polar": {
                      "angularaxis": {
                        "gridcolor": "white",
                        "linecolor": "white",
                        "ticks": ""
                      },
                      "bgcolor": "#E5ECF6",
                      "radialaxis": {
                        "gridcolor": "white",
                        "linecolor": "white",
                        "ticks": ""
                      }
                    },
                    "scene": {
                      "xaxis": {
                        "backgroundcolor": "#E5ECF6",
                        "gridcolor": "white",
                        "gridwidth": 2,
                        "linecolor": "white",
                        "showbackground": true,
                        "ticks": "",
                        "zerolinecolor": "white"
                      },
                      "yaxis": {
                        "backgroundcolor": "#E5ECF6",
                        "gridcolor": "white",
                        "gridwidth": 2,
                        "linecolor": "white",
                        "showbackground": true,
                        "ticks": "",
                        "zerolinecolor": "white"
                      },
                      "zaxis": {
                        "backgroundcolor": "#E5ECF6",
                        "gridcolor": "white",
                        "gridwidth": 2,
                        "linecolor": "white",
                        "showbackground": true,
                        "ticks": "",
                        "zerolinecolor": "white"
                      }
                    },
                    "shapedefaults": {
                      "line": {
                        "color": "#2a3f5f"
                      }
                    },
                    "ternary": {
                      "aaxis": {
                        "gridcolor": "white",
                        "linecolor": "white",
                        "ticks": ""
                      },
                      "baxis": {
                        "gridcolor": "white",
                        "linecolor": "white",
                        "ticks": ""
                      },
                      "bgcolor": "#E5ECF6",
                      "caxis": {
                        "gridcolor": "white",
                        "linecolor": "white",
                        "ticks": ""
                      }
                    },
                    "title": {
                      "x": 0.05
                    },
                    "xaxis": {
                      "automargin": true,
                      "gridcolor": "white",
                      "linecolor": "white",
                      "ticks": "",
                      "title": {
                        "standoff": 15
                      },
                      "zerolinecolor": "white",
                      "zerolinewidth": 2
                    },
                    "yaxis": {
                      "automargin": true,
                      "gridcolor": "white",
                      "linecolor": "white",
                      "ticks": "",
                      "title": {
                        "standoff": 15
                      },
                      "zerolinecolor": "white",
                      "zerolinewidth": 2
                    }
                  }
                },
                "title": {
                  "text": "Température maximum et prédiction",
                  "x": 0.2
                },
                "width": 800,
                "xaxis": {
                  "anchor": "y",
                  "domain": [
                    0,
                    0.94
                  ]
                },
                "yaxis": {
                  "anchor": "x",
                  "domain": [
                    0,
                    1
                  ],
                  "range": [
                    0,
                    40
                  ],
                  "side": "left",
                  "title": {
                    "text": "Température en °C"
                  }
                },
                "yaxis2": {
                  "anchor": "x",
                  "overlaying": "y",
                  "range": [
                    0,
                    40
                  ],
                  "side": "left",
                  "title": {
                    "text": "Température en °C"
                  }
                }
              }
            }
          },
          "metadata": {},
          "output_type": "display_data"
        }
      ],
      "source": [
        "# Your code here :\n",
        "trace1 = go.Scatter(\n",
        "    \n",
        "    x=df_weather[\"DATE\"],\n",
        "    y=df_weather[\"MAX_TEMPERATURE_C\"],\n",
        "        mode='markers',\n",
        "        name = \"Température maximum relevée\"\n",
        ")\n",
        "trace2 = go.Scatter(\n",
        "    x=df_weather[\"DATE\"],\n",
        "    y=df_weather[\"predict\"],\n",
        "    mode='markers',\n",
        "    marker=dict(color='rgb(254,92,92)'),\n",
        "    name = \"Prédiction\"\n",
        "\n",
        ")\n",
        "\n",
        "fig = make_subplots(specs=[[{\"secondary_y\": True}]])\n",
        "fig.add_trace(trace1)\n",
        "fig.add_trace(trace2,secondary_y=True)\n",
        "\n",
        "\n",
        "fig.update_layout(height = 600, width = 800, title = \"Température maximum et prédiction\", title_x=0.2)\n",
        "fig.update_yaxes(range=[0, 40], title=\"Température en °C\", side=\"left\")\n",
        "fig.show()"
      ]
    },
    {
      "cell_type": "markdown",
      "metadata": {
        "id": "uDopKt23LbYF"
      },
      "source": [
        "Hey, but it doesn't seem linear ! And yet it is..."
      ]
    },
    {
      "cell_type": "markdown",
      "metadata": {
        "id": "UcNA1qwJLlyU"
      },
      "source": [
        "# Predictions on a more correlated column\n",
        "Do the same steps to obtain a new colum \"predict2\". Your goal is to predict \"MAX temperature\" from the \"MIN temperature\" column."
      ]
    },
    {
      "cell_type": "code",
      "execution_count": 9,
      "metadata": {
        "id": "NlrSXUswL4Lq"
      },
      "outputs": [],
      "source": [
        "# Your code here :\n",
        "X = df_weather[['MIN_TEMPERATURE_C']] \n",
        "y = df_weather['MAX_TEMPERATURE_C'] \n",
        "\n",
        "minTempModel = LinearRegression().fit(X,y)\n",
        "\n",
        "df_weather[\"predict2\"] = minTempModel.predict(df_weather[['MIN_TEMPERATURE_C']])"
      ]
    },
    {
      "cell_type": "markdown",
      "metadata": {
        "id": "faAHUMseL3vY"
      },
      "source": [
        "## Scatterplot 1\n",
        "- X-axis : MIN temperature\n",
        "- Y-axis : MAX temperatures in blue dots and 'predict2' in red dots."
      ]
    },
    {
      "cell_type": "code",
      "execution_count": 10,
      "metadata": {
        "colab": {
          "base_uri": "https://localhost:8080/",
          "height": 617
        },
        "id": "KfQkWH_YMK9D",
        "outputId": "87ad7110-dc0c-4804-ccd0-c833371646d7"
      },
      "outputs": [
        {
          "data": {
            "application/vnd.plotly.v1+json": {
              "config": {
                "plotlyServerURL": "https://plot.ly"
              },
              "data": [
                {
                  "mode": "markers",
                  "name": "Température minimum relevée",
                  "type": "scatter",
                  "x": [
                    4,
                    5,
                    0,
                    -1,
                    -1,
                    2,
                    4,
                    6,
                    5,
                    1,
                    2,
                    3,
                    7,
                    8,
                    4,
                    1,
                    5,
                    1,
                    6,
                    4,
                    0,
                    5,
                    3,
                    0,
                    8,
                    8,
                    7,
                    4,
                    5,
                    3,
                    2,
                    6,
                    2,
                    0,
                    5,
                    4,
                    10,
                    9,
                    8,
                    9,
                    8,
                    5,
                    3,
                    2,
                    2,
                    6,
                    6,
                    7,
                    5,
                    5,
                    4,
                    6,
                    7,
                    8,
                    5,
                    5,
                    7,
                    9,
                    9,
                    7,
                    6,
                    9,
                    7,
                    7,
                    9,
                    6,
                    5,
                    8,
                    8,
                    5,
                    4,
                    6,
                    6,
                    10,
                    10,
                    5,
                    4,
                    3,
                    4,
                    5,
                    6,
                    7,
                    5,
                    3,
                    1,
                    2,
                    3,
                    4,
                    6,
                    7,
                    6,
                    6,
                    3,
                    1,
                    5,
                    4,
                    7,
                    5,
                    6,
                    5,
                    6,
                    2,
                    2,
                    4,
                    4,
                    8,
                    7,
                    9,
                    12,
                    11,
                    11,
                    10,
                    11,
                    9,
                    7,
                    6,
                    7,
                    6,
                    6,
                    6,
                    9,
                    7,
                    6,
                    5,
                    2,
                    3,
                    6,
                    9,
                    9,
                    8,
                    10,
                    7,
                    6,
                    8,
                    9,
                    8,
                    10,
                    10,
                    8,
                    8,
                    8,
                    11,
                    13,
                    10,
                    10,
                    11,
                    13,
                    9,
                    8,
                    11,
                    11,
                    16,
                    15,
                    14,
                    13,
                    10,
                    9,
                    13,
                    11,
                    10,
                    9,
                    7,
                    8,
                    10,
                    10,
                    10,
                    13,
                    10,
                    17,
                    14,
                    12,
                    10,
                    11,
                    15,
                    16,
                    15,
                    19,
                    23,
                    25,
                    18,
                    16,
                    15,
                    11,
                    15,
                    16,
                    17,
                    18,
                    16,
                    15,
                    14,
                    15,
                    18,
                    17,
                    13,
                    15,
                    13,
                    14,
                    15,
                    13,
                    14,
                    16,
                    15,
                    16,
                    21,
                    19,
                    23,
                    10,
                    14,
                    12,
                    13,
                    15,
                    14,
                    14,
                    15,
                    17,
                    16,
                    16,
                    17,
                    15,
                    15,
                    19,
                    15,
                    14,
                    13,
                    10,
                    13,
                    15,
                    14,
                    18,
                    14,
                    13,
                    12,
                    12,
                    14,
                    15,
                    18,
                    16,
                    17,
                    19,
                    16,
                    15,
                    14,
                    15,
                    13,
                    10,
                    11,
                    13,
                    10,
                    7,
                    12,
                    9,
                    10,
                    10,
                    11,
                    14,
                    14,
                    16,
                    16,
                    15,
                    13,
                    12,
                    11,
                    11,
                    17,
                    15,
                    13,
                    15,
                    14,
                    16,
                    14,
                    13,
                    13,
                    12,
                    14,
                    11,
                    9,
                    13,
                    13,
                    12,
                    5,
                    12,
                    12,
                    12,
                    12,
                    13,
                    15,
                    13,
                    10,
                    12,
                    10,
                    13,
                    12,
                    11,
                    8,
                    8,
                    12,
                    12,
                    11,
                    12,
                    9,
                    9,
                    9,
                    9,
                    13,
                    12,
                    11,
                    8,
                    8,
                    8,
                    7,
                    5,
                    5,
                    5,
                    5,
                    7,
                    6,
                    4,
                    5,
                    2,
                    5,
                    3,
                    3,
                    4,
                    2,
                    5,
                    5,
                    7,
                    3,
                    11,
                    10,
                    11,
                    6,
                    8,
                    7,
                    3,
                    1,
                    1,
                    0,
                    1,
                    3,
                    10,
                    10,
                    6,
                    4,
                    5,
                    5,
                    2,
                    7,
                    4,
                    4,
                    7,
                    7,
                    11,
                    7,
                    9,
                    4,
                    5,
                    9,
                    8,
                    5,
                    10,
                    5,
                    2,
                    4,
                    4
                  ],
                  "y": [
                    9,
                    8,
                    6,
                    5,
                    6,
                    5,
                    10,
                    10,
                    7,
                    7,
                    10,
                    9,
                    10,
                    10,
                    9,
                    8,
                    9,
                    7,
                    11,
                    7,
                    7,
                    8,
                    7,
                    7,
                    11,
                    10,
                    8,
                    8,
                    9,
                    7,
                    8,
                    9,
                    7,
                    8,
                    7,
                    10,
                    12,
                    11,
                    11,
                    12,
                    11,
                    10,
                    12,
                    10,
                    13,
                    15,
                    14,
                    15,
                    12,
                    12,
                    13,
                    17,
                    17,
                    18,
                    14,
                    15,
                    19,
                    20,
                    13,
                    14,
                    13,
                    14,
                    11,
                    13,
                    12,
                    11,
                    12,
                    13,
                    12,
                    11,
                    11,
                    10,
                    11,
                    13,
                    11,
                    11,
                    11,
                    12,
                    13,
                    15,
                    18,
                    17,
                    13,
                    12,
                    12,
                    13,
                    14,
                    16,
                    17,
                    19,
                    18,
                    12,
                    10,
                    10,
                    10,
                    10,
                    14,
                    12,
                    16,
                    14,
                    14,
                    14,
                    12,
                    9,
                    14,
                    15,
                    19,
                    21,
                    24,
                    21,
                    21,
                    19,
                    18,
                    14,
                    13,
                    14,
                    13,
                    12,
                    16,
                    18,
                    17,
                    15,
                    15,
                    11,
                    12,
                    15,
                    14,
                    15,
                    15,
                    15,
                    16,
                    16,
                    16,
                    18,
                    18,
                    17,
                    17,
                    14,
                    17,
                    18,
                    20,
                    21,
                    21,
                    20,
                    19,
                    17,
                    19,
                    15,
                    15,
                    20,
                    25,
                    29,
                    23,
                    20,
                    19,
                    16,
                    18,
                    15,
                    18,
                    16,
                    17,
                    15,
                    16,
                    18,
                    19,
                    18,
                    19,
                    25,
                    28,
                    20,
                    20,
                    20,
                    23,
                    27,
                    23,
                    26,
                    31,
                    34,
                    34,
                    32,
                    26,
                    24,
                    25,
                    26,
                    28,
                    30,
                    31,
                    28,
                    27,
                    25,
                    28,
                    26,
                    26,
                    27,
                    26,
                    26,
                    29,
                    27,
                    22,
                    26,
                    25,
                    26,
                    33,
                    39,
                    33,
                    32,
                    22,
                    23,
                    23,
                    24,
                    21,
                    23,
                    27,
                    29,
                    29,
                    26,
                    25,
                    23,
                    25,
                    28,
                    23,
                    23,
                    23,
                    22,
                    22,
                    20,
                    22,
                    22,
                    19,
                    21,
                    21,
                    23,
                    26,
                    28,
                    30,
                    33,
                    30,
                    33,
                    29,
                    24,
                    25,
                    30,
                    23,
                    23,
                    24,
                    26,
                    20,
                    19,
                    23,
                    22,
                    21,
                    17,
                    22,
                    22,
                    24,
                    28,
                    29,
                    31,
                    21,
                    27,
                    23,
                    23,
                    27,
                    28,
                    21,
                    20,
                    20,
                    17,
                    19,
                    19,
                    19,
                    20,
                    21,
                    19,
                    19,
                    19,
                    17,
                    18,
                    18,
                    14,
                    18,
                    16,
                    18,
                    20,
                    21,
                    20,
                    20,
                    16,
                    16,
                    17,
                    16,
                    16,
                    15,
                    16,
                    16,
                    15,
                    14,
                    18,
                    19,
                    15,
                    12,
                    14,
                    17,
                    16,
                    17,
                    14,
                    14,
                    13,
                    12,
                    13,
                    11,
                    11,
                    10,
                    11,
                    11,
                    11,
                    9,
                    11,
                    8,
                    9,
                    8,
                    10,
                    9,
                    7,
                    11,
                    10,
                    12,
                    12,
                    13,
                    14,
                    13,
                    13,
                    13,
                    9,
                    7,
                    7,
                    7,
                    8,
                    7,
                    11,
                    13,
                    13,
                    11,
                    11,
                    9,
                    12,
                    10,
                    12,
                    10,
                    11,
                    12,
                    12,
                    13,
                    12,
                    11,
                    10,
                    10,
                    14,
                    11,
                    12,
                    13,
                    11,
                    9,
                    12,
                    10
                  ]
                },
                {
                  "marker": {
                    "color": "rgb(254,92,92)"
                  },
                  "mode": "markers",
                  "name": "Prédiction",
                  "type": "scatter",
                  "x": [
                    4,
                    5,
                    0,
                    -1,
                    -1,
                    2,
                    4,
                    6,
                    5,
                    1,
                    2,
                    3,
                    7,
                    8,
                    4,
                    1,
                    5,
                    1,
                    6,
                    4,
                    0,
                    5,
                    3,
                    0,
                    8,
                    8,
                    7,
                    4,
                    5,
                    3,
                    2,
                    6,
                    2,
                    0,
                    5,
                    4,
                    10,
                    9,
                    8,
                    9,
                    8,
                    5,
                    3,
                    2,
                    2,
                    6,
                    6,
                    7,
                    5,
                    5,
                    4,
                    6,
                    7,
                    8,
                    5,
                    5,
                    7,
                    9,
                    9,
                    7,
                    6,
                    9,
                    7,
                    7,
                    9,
                    6,
                    5,
                    8,
                    8,
                    5,
                    4,
                    6,
                    6,
                    10,
                    10,
                    5,
                    4,
                    3,
                    4,
                    5,
                    6,
                    7,
                    5,
                    3,
                    1,
                    2,
                    3,
                    4,
                    6,
                    7,
                    6,
                    6,
                    3,
                    1,
                    5,
                    4,
                    7,
                    5,
                    6,
                    5,
                    6,
                    2,
                    2,
                    4,
                    4,
                    8,
                    7,
                    9,
                    12,
                    11,
                    11,
                    10,
                    11,
                    9,
                    7,
                    6,
                    7,
                    6,
                    6,
                    6,
                    9,
                    7,
                    6,
                    5,
                    2,
                    3,
                    6,
                    9,
                    9,
                    8,
                    10,
                    7,
                    6,
                    8,
                    9,
                    8,
                    10,
                    10,
                    8,
                    8,
                    8,
                    11,
                    13,
                    10,
                    10,
                    11,
                    13,
                    9,
                    8,
                    11,
                    11,
                    16,
                    15,
                    14,
                    13,
                    10,
                    9,
                    13,
                    11,
                    10,
                    9,
                    7,
                    8,
                    10,
                    10,
                    10,
                    13,
                    10,
                    17,
                    14,
                    12,
                    10,
                    11,
                    15,
                    16,
                    15,
                    19,
                    23,
                    25,
                    18,
                    16,
                    15,
                    11,
                    15,
                    16,
                    17,
                    18,
                    16,
                    15,
                    14,
                    15,
                    18,
                    17,
                    13,
                    15,
                    13,
                    14,
                    15,
                    13,
                    14,
                    16,
                    15,
                    16,
                    21,
                    19,
                    23,
                    10,
                    14,
                    12,
                    13,
                    15,
                    14,
                    14,
                    15,
                    17,
                    16,
                    16,
                    17,
                    15,
                    15,
                    19,
                    15,
                    14,
                    13,
                    10,
                    13,
                    15,
                    14,
                    18,
                    14,
                    13,
                    12,
                    12,
                    14,
                    15,
                    18,
                    16,
                    17,
                    19,
                    16,
                    15,
                    14,
                    15,
                    13,
                    10,
                    11,
                    13,
                    10,
                    7,
                    12,
                    9,
                    10,
                    10,
                    11,
                    14,
                    14,
                    16,
                    16,
                    15,
                    13,
                    12,
                    11,
                    11,
                    17,
                    15,
                    13,
                    15,
                    14,
                    16,
                    14,
                    13,
                    13,
                    12,
                    14,
                    11,
                    9,
                    13,
                    13,
                    12,
                    5,
                    12,
                    12,
                    12,
                    12,
                    13,
                    15,
                    13,
                    10,
                    12,
                    10,
                    13,
                    12,
                    11,
                    8,
                    8,
                    12,
                    12,
                    11,
                    12,
                    9,
                    9,
                    9,
                    9,
                    13,
                    12,
                    11,
                    8,
                    8,
                    8,
                    7,
                    5,
                    5,
                    5,
                    5,
                    7,
                    6,
                    4,
                    5,
                    2,
                    5,
                    3,
                    3,
                    4,
                    2,
                    5,
                    5,
                    7,
                    3,
                    11,
                    10,
                    11,
                    6,
                    8,
                    7,
                    3,
                    1,
                    1,
                    0,
                    1,
                    3,
                    10,
                    10,
                    6,
                    4,
                    5,
                    5,
                    2,
                    7,
                    4,
                    4,
                    7,
                    7,
                    11,
                    7,
                    9,
                    4,
                    5,
                    9,
                    8,
                    5,
                    10,
                    5,
                    2,
                    4,
                    4
                  ],
                  "xaxis": "x",
                  "y": [
                    10.579999415396511,
                    11.802741465600958,
                    5.689031214578717,
                    4.4662891643742695,
                    4.4662891643742695,
                    8.134515314987613,
                    10.579999415396511,
                    13.025483515805407,
                    11.802741465600958,
                    6.911773264783165,
                    8.134515314987613,
                    9.357257365192062,
                    14.248225566009854,
                    15.470967616214303,
                    10.579999415396511,
                    6.911773264783165,
                    11.802741465600958,
                    6.911773264783165,
                    13.025483515805407,
                    10.579999415396511,
                    5.689031214578717,
                    11.802741465600958,
                    9.357257365192062,
                    5.689031214578717,
                    15.470967616214303,
                    15.470967616214303,
                    14.248225566009854,
                    10.579999415396511,
                    11.802741465600958,
                    9.357257365192062,
                    8.134515314987613,
                    13.025483515805407,
                    8.134515314987613,
                    5.689031214578717,
                    11.802741465600958,
                    10.579999415396511,
                    17.9164517166232,
                    16.69370966641875,
                    15.470967616214303,
                    16.69370966641875,
                    15.470967616214303,
                    11.802741465600958,
                    9.357257365192062,
                    8.134515314987613,
                    8.134515314987613,
                    13.025483515805407,
                    13.025483515805407,
                    14.248225566009854,
                    11.802741465600958,
                    11.802741465600958,
                    10.579999415396511,
                    13.025483515805407,
                    14.248225566009854,
                    15.470967616214303,
                    11.802741465600958,
                    11.802741465600958,
                    14.248225566009854,
                    16.69370966641875,
                    16.69370966641875,
                    14.248225566009854,
                    13.025483515805407,
                    16.69370966641875,
                    14.248225566009854,
                    14.248225566009854,
                    16.69370966641875,
                    13.025483515805407,
                    11.802741465600958,
                    15.470967616214303,
                    15.470967616214303,
                    11.802741465600958,
                    10.579999415396511,
                    13.025483515805407,
                    13.025483515805407,
                    17.9164517166232,
                    17.9164517166232,
                    11.802741465600958,
                    10.579999415396511,
                    9.357257365192062,
                    10.579999415396511,
                    11.802741465600958,
                    13.025483515805407,
                    14.248225566009854,
                    11.802741465600958,
                    9.357257365192062,
                    6.911773264783165,
                    8.134515314987613,
                    9.357257365192062,
                    10.579999415396511,
                    13.025483515805407,
                    14.248225566009854,
                    13.025483515805407,
                    13.025483515805407,
                    9.357257365192062,
                    6.911773264783165,
                    11.802741465600958,
                    10.579999415396511,
                    14.248225566009854,
                    11.802741465600958,
                    13.025483515805407,
                    11.802741465600958,
                    13.025483515805407,
                    8.134515314987613,
                    8.134515314987613,
                    10.579999415396511,
                    10.579999415396511,
                    15.470967616214303,
                    14.248225566009854,
                    16.69370966641875,
                    20.361935817032098,
                    19.139193766827646,
                    19.139193766827646,
                    17.9164517166232,
                    19.139193766827646,
                    16.69370966641875,
                    14.248225566009854,
                    13.025483515805407,
                    14.248225566009854,
                    13.025483515805407,
                    13.025483515805407,
                    13.025483515805407,
                    16.69370966641875,
                    14.248225566009854,
                    13.025483515805407,
                    11.802741465600958,
                    8.134515314987613,
                    9.357257365192062,
                    13.025483515805407,
                    16.69370966641875,
                    16.69370966641875,
                    15.470967616214303,
                    17.9164517166232,
                    14.248225566009854,
                    13.025483515805407,
                    15.470967616214303,
                    16.69370966641875,
                    15.470967616214303,
                    17.9164517166232,
                    17.9164517166232,
                    15.470967616214303,
                    15.470967616214303,
                    15.470967616214303,
                    19.139193766827646,
                    21.584677867236543,
                    17.9164517166232,
                    17.9164517166232,
                    19.139193766827646,
                    21.584677867236543,
                    16.69370966641875,
                    15.470967616214303,
                    19.139193766827646,
                    19.139193766827646,
                    25.252904017849886,
                    24.03016196764544,
                    22.80741991744099,
                    21.584677867236543,
                    17.9164517166232,
                    16.69370966641875,
                    21.584677867236543,
                    19.139193766827646,
                    17.9164517166232,
                    16.69370966641875,
                    14.248225566009854,
                    15.470967616214303,
                    17.9164517166232,
                    17.9164517166232,
                    17.9164517166232,
                    21.584677867236543,
                    17.9164517166232,
                    26.47564606805434,
                    22.80741991744099,
                    20.361935817032098,
                    17.9164517166232,
                    19.139193766827646,
                    24.03016196764544,
                    25.252904017849886,
                    24.03016196764544,
                    28.92113016846323,
                    33.812098369281024,
                    36.25758246968992,
                    27.698388118258784,
                    25.252904017849886,
                    24.03016196764544,
                    19.139193766827646,
                    24.03016196764544,
                    25.252904017849886,
                    26.47564606805434,
                    27.698388118258784,
                    25.252904017849886,
                    24.03016196764544,
                    22.80741991744099,
                    24.03016196764544,
                    27.698388118258784,
                    26.47564606805434,
                    21.584677867236543,
                    24.03016196764544,
                    21.584677867236543,
                    22.80741991744099,
                    24.03016196764544,
                    21.584677867236543,
                    22.80741991744099,
                    25.252904017849886,
                    24.03016196764544,
                    25.252904017849886,
                    31.366614268872127,
                    28.92113016846323,
                    33.812098369281024,
                    17.9164517166232,
                    22.80741991744099,
                    20.361935817032098,
                    21.584677867236543,
                    24.03016196764544,
                    22.80741991744099,
                    22.80741991744099,
                    24.03016196764544,
                    26.47564606805434,
                    25.252904017849886,
                    25.252904017849886,
                    26.47564606805434,
                    24.03016196764544,
                    24.03016196764544,
                    28.92113016846323,
                    24.03016196764544,
                    22.80741991744099,
                    21.584677867236543,
                    17.9164517166232,
                    21.584677867236543,
                    24.03016196764544,
                    22.80741991744099,
                    27.698388118258784,
                    22.80741991744099,
                    21.584677867236543,
                    20.361935817032098,
                    20.361935817032098,
                    22.80741991744099,
                    24.03016196764544,
                    27.698388118258784,
                    25.252904017849886,
                    26.47564606805434,
                    28.92113016846323,
                    25.252904017849886,
                    24.03016196764544,
                    22.80741991744099,
                    24.03016196764544,
                    21.584677867236543,
                    17.9164517166232,
                    19.139193766827646,
                    21.584677867236543,
                    17.9164517166232,
                    14.248225566009854,
                    20.361935817032098,
                    16.69370966641875,
                    17.9164517166232,
                    17.9164517166232,
                    19.139193766827646,
                    22.80741991744099,
                    22.80741991744099,
                    25.252904017849886,
                    25.252904017849886,
                    24.03016196764544,
                    21.584677867236543,
                    20.361935817032098,
                    19.139193766827646,
                    19.139193766827646,
                    26.47564606805434,
                    24.03016196764544,
                    21.584677867236543,
                    24.03016196764544,
                    22.80741991744099,
                    25.252904017849886,
                    22.80741991744099,
                    21.584677867236543,
                    21.584677867236543,
                    20.361935817032098,
                    22.80741991744099,
                    19.139193766827646,
                    16.69370966641875,
                    21.584677867236543,
                    21.584677867236543,
                    20.361935817032098,
                    11.802741465600958,
                    20.361935817032098,
                    20.361935817032098,
                    20.361935817032098,
                    20.361935817032098,
                    21.584677867236543,
                    24.03016196764544,
                    21.584677867236543,
                    17.9164517166232,
                    20.361935817032098,
                    17.9164517166232,
                    21.584677867236543,
                    20.361935817032098,
                    19.139193766827646,
                    15.470967616214303,
                    15.470967616214303,
                    20.361935817032098,
                    20.361935817032098,
                    19.139193766827646,
                    20.361935817032098,
                    16.69370966641875,
                    16.69370966641875,
                    16.69370966641875,
                    16.69370966641875,
                    21.584677867236543,
                    20.361935817032098,
                    19.139193766827646,
                    15.470967616214303,
                    15.470967616214303,
                    15.470967616214303,
                    14.248225566009854,
                    11.802741465600958,
                    11.802741465600958,
                    11.802741465600958,
                    11.802741465600958,
                    14.248225566009854,
                    13.025483515805407,
                    10.579999415396511,
                    11.802741465600958,
                    8.134515314987613,
                    11.802741465600958,
                    9.357257365192062,
                    9.357257365192062,
                    10.579999415396511,
                    8.134515314987613,
                    11.802741465600958,
                    11.802741465600958,
                    14.248225566009854,
                    9.357257365192062,
                    19.139193766827646,
                    17.9164517166232,
                    19.139193766827646,
                    13.025483515805407,
                    15.470967616214303,
                    14.248225566009854,
                    9.357257365192062,
                    6.911773264783165,
                    6.911773264783165,
                    5.689031214578717,
                    6.911773264783165,
                    9.357257365192062,
                    17.9164517166232,
                    17.9164517166232,
                    13.025483515805407,
                    10.579999415396511,
                    11.802741465600958,
                    11.802741465600958,
                    8.134515314987613,
                    14.248225566009854,
                    10.579999415396511,
                    10.579999415396511,
                    14.248225566009854,
                    14.248225566009854,
                    19.139193766827646,
                    14.248225566009854,
                    16.69370966641875,
                    10.579999415396511,
                    11.802741465600958,
                    16.69370966641875,
                    15.470967616214303,
                    11.802741465600958,
                    17.9164517166232,
                    11.802741465600958,
                    8.134515314987613,
                    10.579999415396511,
                    10.579999415396511
                  ],
                  "yaxis": "y2"
                }
              ],
              "layout": {
                "height": 600,
                "template": {
                  "data": {
                    "bar": [
                      {
                        "error_x": {
                          "color": "#2a3f5f"
                        },
                        "error_y": {
                          "color": "#2a3f5f"
                        },
                        "marker": {
                          "line": {
                            "color": "#E5ECF6",
                            "width": 0.5
                          },
                          "pattern": {
                            "fillmode": "overlay",
                            "size": 10,
                            "solidity": 0.2
                          }
                        },
                        "type": "bar"
                      }
                    ],
                    "barpolar": [
                      {
                        "marker": {
                          "line": {
                            "color": "#E5ECF6",
                            "width": 0.5
                          },
                          "pattern": {
                            "fillmode": "overlay",
                            "size": 10,
                            "solidity": 0.2
                          }
                        },
                        "type": "barpolar"
                      }
                    ],
                    "carpet": [
                      {
                        "aaxis": {
                          "endlinecolor": "#2a3f5f",
                          "gridcolor": "white",
                          "linecolor": "white",
                          "minorgridcolor": "white",
                          "startlinecolor": "#2a3f5f"
                        },
                        "baxis": {
                          "endlinecolor": "#2a3f5f",
                          "gridcolor": "white",
                          "linecolor": "white",
                          "minorgridcolor": "white",
                          "startlinecolor": "#2a3f5f"
                        },
                        "type": "carpet"
                      }
                    ],
                    "choropleth": [
                      {
                        "colorbar": {
                          "outlinewidth": 0,
                          "ticks": ""
                        },
                        "type": "choropleth"
                      }
                    ],
                    "contour": [
                      {
                        "colorbar": {
                          "outlinewidth": 0,
                          "ticks": ""
                        },
                        "colorscale": [
                          [
                            0,
                            "#0d0887"
                          ],
                          [
                            0.1111111111111111,
                            "#46039f"
                          ],
                          [
                            0.2222222222222222,
                            "#7201a8"
                          ],
                          [
                            0.3333333333333333,
                            "#9c179e"
                          ],
                          [
                            0.4444444444444444,
                            "#bd3786"
                          ],
                          [
                            0.5555555555555556,
                            "#d8576b"
                          ],
                          [
                            0.6666666666666666,
                            "#ed7953"
                          ],
                          [
                            0.7777777777777778,
                            "#fb9f3a"
                          ],
                          [
                            0.8888888888888888,
                            "#fdca26"
                          ],
                          [
                            1,
                            "#f0f921"
                          ]
                        ],
                        "type": "contour"
                      }
                    ],
                    "contourcarpet": [
                      {
                        "colorbar": {
                          "outlinewidth": 0,
                          "ticks": ""
                        },
                        "type": "contourcarpet"
                      }
                    ],
                    "heatmap": [
                      {
                        "colorbar": {
                          "outlinewidth": 0,
                          "ticks": ""
                        },
                        "colorscale": [
                          [
                            0,
                            "#0d0887"
                          ],
                          [
                            0.1111111111111111,
                            "#46039f"
                          ],
                          [
                            0.2222222222222222,
                            "#7201a8"
                          ],
                          [
                            0.3333333333333333,
                            "#9c179e"
                          ],
                          [
                            0.4444444444444444,
                            "#bd3786"
                          ],
                          [
                            0.5555555555555556,
                            "#d8576b"
                          ],
                          [
                            0.6666666666666666,
                            "#ed7953"
                          ],
                          [
                            0.7777777777777778,
                            "#fb9f3a"
                          ],
                          [
                            0.8888888888888888,
                            "#fdca26"
                          ],
                          [
                            1,
                            "#f0f921"
                          ]
                        ],
                        "type": "heatmap"
                      }
                    ],
                    "heatmapgl": [
                      {
                        "colorbar": {
                          "outlinewidth": 0,
                          "ticks": ""
                        },
                        "colorscale": [
                          [
                            0,
                            "#0d0887"
                          ],
                          [
                            0.1111111111111111,
                            "#46039f"
                          ],
                          [
                            0.2222222222222222,
                            "#7201a8"
                          ],
                          [
                            0.3333333333333333,
                            "#9c179e"
                          ],
                          [
                            0.4444444444444444,
                            "#bd3786"
                          ],
                          [
                            0.5555555555555556,
                            "#d8576b"
                          ],
                          [
                            0.6666666666666666,
                            "#ed7953"
                          ],
                          [
                            0.7777777777777778,
                            "#fb9f3a"
                          ],
                          [
                            0.8888888888888888,
                            "#fdca26"
                          ],
                          [
                            1,
                            "#f0f921"
                          ]
                        ],
                        "type": "heatmapgl"
                      }
                    ],
                    "histogram": [
                      {
                        "marker": {
                          "pattern": {
                            "fillmode": "overlay",
                            "size": 10,
                            "solidity": 0.2
                          }
                        },
                        "type": "histogram"
                      }
                    ],
                    "histogram2d": [
                      {
                        "colorbar": {
                          "outlinewidth": 0,
                          "ticks": ""
                        },
                        "colorscale": [
                          [
                            0,
                            "#0d0887"
                          ],
                          [
                            0.1111111111111111,
                            "#46039f"
                          ],
                          [
                            0.2222222222222222,
                            "#7201a8"
                          ],
                          [
                            0.3333333333333333,
                            "#9c179e"
                          ],
                          [
                            0.4444444444444444,
                            "#bd3786"
                          ],
                          [
                            0.5555555555555556,
                            "#d8576b"
                          ],
                          [
                            0.6666666666666666,
                            "#ed7953"
                          ],
                          [
                            0.7777777777777778,
                            "#fb9f3a"
                          ],
                          [
                            0.8888888888888888,
                            "#fdca26"
                          ],
                          [
                            1,
                            "#f0f921"
                          ]
                        ],
                        "type": "histogram2d"
                      }
                    ],
                    "histogram2dcontour": [
                      {
                        "colorbar": {
                          "outlinewidth": 0,
                          "ticks": ""
                        },
                        "colorscale": [
                          [
                            0,
                            "#0d0887"
                          ],
                          [
                            0.1111111111111111,
                            "#46039f"
                          ],
                          [
                            0.2222222222222222,
                            "#7201a8"
                          ],
                          [
                            0.3333333333333333,
                            "#9c179e"
                          ],
                          [
                            0.4444444444444444,
                            "#bd3786"
                          ],
                          [
                            0.5555555555555556,
                            "#d8576b"
                          ],
                          [
                            0.6666666666666666,
                            "#ed7953"
                          ],
                          [
                            0.7777777777777778,
                            "#fb9f3a"
                          ],
                          [
                            0.8888888888888888,
                            "#fdca26"
                          ],
                          [
                            1,
                            "#f0f921"
                          ]
                        ],
                        "type": "histogram2dcontour"
                      }
                    ],
                    "mesh3d": [
                      {
                        "colorbar": {
                          "outlinewidth": 0,
                          "ticks": ""
                        },
                        "type": "mesh3d"
                      }
                    ],
                    "parcoords": [
                      {
                        "line": {
                          "colorbar": {
                            "outlinewidth": 0,
                            "ticks": ""
                          }
                        },
                        "type": "parcoords"
                      }
                    ],
                    "pie": [
                      {
                        "automargin": true,
                        "type": "pie"
                      }
                    ],
                    "scatter": [
                      {
                        "marker": {
                          "colorbar": {
                            "outlinewidth": 0,
                            "ticks": ""
                          }
                        },
                        "type": "scatter"
                      }
                    ],
                    "scatter3d": [
                      {
                        "line": {
                          "colorbar": {
                            "outlinewidth": 0,
                            "ticks": ""
                          }
                        },
                        "marker": {
                          "colorbar": {
                            "outlinewidth": 0,
                            "ticks": ""
                          }
                        },
                        "type": "scatter3d"
                      }
                    ],
                    "scattercarpet": [
                      {
                        "marker": {
                          "colorbar": {
                            "outlinewidth": 0,
                            "ticks": ""
                          }
                        },
                        "type": "scattercarpet"
                      }
                    ],
                    "scattergeo": [
                      {
                        "marker": {
                          "colorbar": {
                            "outlinewidth": 0,
                            "ticks": ""
                          }
                        },
                        "type": "scattergeo"
                      }
                    ],
                    "scattergl": [
                      {
                        "marker": {
                          "colorbar": {
                            "outlinewidth": 0,
                            "ticks": ""
                          }
                        },
                        "type": "scattergl"
                      }
                    ],
                    "scattermapbox": [
                      {
                        "marker": {
                          "colorbar": {
                            "outlinewidth": 0,
                            "ticks": ""
                          }
                        },
                        "type": "scattermapbox"
                      }
                    ],
                    "scatterpolar": [
                      {
                        "marker": {
                          "colorbar": {
                            "outlinewidth": 0,
                            "ticks": ""
                          }
                        },
                        "type": "scatterpolar"
                      }
                    ],
                    "scatterpolargl": [
                      {
                        "marker": {
                          "colorbar": {
                            "outlinewidth": 0,
                            "ticks": ""
                          }
                        },
                        "type": "scatterpolargl"
                      }
                    ],
                    "scatterternary": [
                      {
                        "marker": {
                          "colorbar": {
                            "outlinewidth": 0,
                            "ticks": ""
                          }
                        },
                        "type": "scatterternary"
                      }
                    ],
                    "surface": [
                      {
                        "colorbar": {
                          "outlinewidth": 0,
                          "ticks": ""
                        },
                        "colorscale": [
                          [
                            0,
                            "#0d0887"
                          ],
                          [
                            0.1111111111111111,
                            "#46039f"
                          ],
                          [
                            0.2222222222222222,
                            "#7201a8"
                          ],
                          [
                            0.3333333333333333,
                            "#9c179e"
                          ],
                          [
                            0.4444444444444444,
                            "#bd3786"
                          ],
                          [
                            0.5555555555555556,
                            "#d8576b"
                          ],
                          [
                            0.6666666666666666,
                            "#ed7953"
                          ],
                          [
                            0.7777777777777778,
                            "#fb9f3a"
                          ],
                          [
                            0.8888888888888888,
                            "#fdca26"
                          ],
                          [
                            1,
                            "#f0f921"
                          ]
                        ],
                        "type": "surface"
                      }
                    ],
                    "table": [
                      {
                        "cells": {
                          "fill": {
                            "color": "#EBF0F8"
                          },
                          "line": {
                            "color": "white"
                          }
                        },
                        "header": {
                          "fill": {
                            "color": "#C8D4E3"
                          },
                          "line": {
                            "color": "white"
                          }
                        },
                        "type": "table"
                      }
                    ]
                  },
                  "layout": {
                    "annotationdefaults": {
                      "arrowcolor": "#2a3f5f",
                      "arrowhead": 0,
                      "arrowwidth": 1
                    },
                    "autotypenumbers": "strict",
                    "coloraxis": {
                      "colorbar": {
                        "outlinewidth": 0,
                        "ticks": ""
                      }
                    },
                    "colorscale": {
                      "diverging": [
                        [
                          0,
                          "#8e0152"
                        ],
                        [
                          0.1,
                          "#c51b7d"
                        ],
                        [
                          0.2,
                          "#de77ae"
                        ],
                        [
                          0.3,
                          "#f1b6da"
                        ],
                        [
                          0.4,
                          "#fde0ef"
                        ],
                        [
                          0.5,
                          "#f7f7f7"
                        ],
                        [
                          0.6,
                          "#e6f5d0"
                        ],
                        [
                          0.7,
                          "#b8e186"
                        ],
                        [
                          0.8,
                          "#7fbc41"
                        ],
                        [
                          0.9,
                          "#4d9221"
                        ],
                        [
                          1,
                          "#276419"
                        ]
                      ],
                      "sequential": [
                        [
                          0,
                          "#0d0887"
                        ],
                        [
                          0.1111111111111111,
                          "#46039f"
                        ],
                        [
                          0.2222222222222222,
                          "#7201a8"
                        ],
                        [
                          0.3333333333333333,
                          "#9c179e"
                        ],
                        [
                          0.4444444444444444,
                          "#bd3786"
                        ],
                        [
                          0.5555555555555556,
                          "#d8576b"
                        ],
                        [
                          0.6666666666666666,
                          "#ed7953"
                        ],
                        [
                          0.7777777777777778,
                          "#fb9f3a"
                        ],
                        [
                          0.8888888888888888,
                          "#fdca26"
                        ],
                        [
                          1,
                          "#f0f921"
                        ]
                      ],
                      "sequentialminus": [
                        [
                          0,
                          "#0d0887"
                        ],
                        [
                          0.1111111111111111,
                          "#46039f"
                        ],
                        [
                          0.2222222222222222,
                          "#7201a8"
                        ],
                        [
                          0.3333333333333333,
                          "#9c179e"
                        ],
                        [
                          0.4444444444444444,
                          "#bd3786"
                        ],
                        [
                          0.5555555555555556,
                          "#d8576b"
                        ],
                        [
                          0.6666666666666666,
                          "#ed7953"
                        ],
                        [
                          0.7777777777777778,
                          "#fb9f3a"
                        ],
                        [
                          0.8888888888888888,
                          "#fdca26"
                        ],
                        [
                          1,
                          "#f0f921"
                        ]
                      ]
                    },
                    "colorway": [
                      "#636efa",
                      "#EF553B",
                      "#00cc96",
                      "#ab63fa",
                      "#FFA15A",
                      "#19d3f3",
                      "#FF6692",
                      "#B6E880",
                      "#FF97FF",
                      "#FECB52"
                    ],
                    "font": {
                      "color": "#2a3f5f"
                    },
                    "geo": {
                      "bgcolor": "white",
                      "lakecolor": "white",
                      "landcolor": "#E5ECF6",
                      "showlakes": true,
                      "showland": true,
                      "subunitcolor": "white"
                    },
                    "hoverlabel": {
                      "align": "left"
                    },
                    "hovermode": "closest",
                    "mapbox": {
                      "style": "light"
                    },
                    "paper_bgcolor": "white",
                    "plot_bgcolor": "#E5ECF6",
                    "polar": {
                      "angularaxis": {
                        "gridcolor": "white",
                        "linecolor": "white",
                        "ticks": ""
                      },
                      "bgcolor": "#E5ECF6",
                      "radialaxis": {
                        "gridcolor": "white",
                        "linecolor": "white",
                        "ticks": ""
                      }
                    },
                    "scene": {
                      "xaxis": {
                        "backgroundcolor": "#E5ECF6",
                        "gridcolor": "white",
                        "gridwidth": 2,
                        "linecolor": "white",
                        "showbackground": true,
                        "ticks": "",
                        "zerolinecolor": "white"
                      },
                      "yaxis": {
                        "backgroundcolor": "#E5ECF6",
                        "gridcolor": "white",
                        "gridwidth": 2,
                        "linecolor": "white",
                        "showbackground": true,
                        "ticks": "",
                        "zerolinecolor": "white"
                      },
                      "zaxis": {
                        "backgroundcolor": "#E5ECF6",
                        "gridcolor": "white",
                        "gridwidth": 2,
                        "linecolor": "white",
                        "showbackground": true,
                        "ticks": "",
                        "zerolinecolor": "white"
                      }
                    },
                    "shapedefaults": {
                      "line": {
                        "color": "#2a3f5f"
                      }
                    },
                    "ternary": {
                      "aaxis": {
                        "gridcolor": "white",
                        "linecolor": "white",
                        "ticks": ""
                      },
                      "baxis": {
                        "gridcolor": "white",
                        "linecolor": "white",
                        "ticks": ""
                      },
                      "bgcolor": "#E5ECF6",
                      "caxis": {
                        "gridcolor": "white",
                        "linecolor": "white",
                        "ticks": ""
                      }
                    },
                    "title": {
                      "x": 0.05
                    },
                    "xaxis": {
                      "automargin": true,
                      "gridcolor": "white",
                      "linecolor": "white",
                      "ticks": "",
                      "title": {
                        "standoff": 15
                      },
                      "zerolinecolor": "white",
                      "zerolinewidth": 2
                    },
                    "yaxis": {
                      "automargin": true,
                      "gridcolor": "white",
                      "linecolor": "white",
                      "ticks": "",
                      "title": {
                        "standoff": 15
                      },
                      "zerolinecolor": "white",
                      "zerolinewidth": 2
                    }
                  }
                },
                "title": {
                  "text": "Température minimum et prédiction de la température maximum"
                },
                "width": 800,
                "xaxis": {
                  "anchor": "y",
                  "domain": [
                    0,
                    0.94
                  ],
                  "title": {
                    "text": "Température minimimum en °C"
                  }
                },
                "yaxis": {
                  "anchor": "x",
                  "domain": [
                    0,
                    1
                  ],
                  "range": [
                    0,
                    40
                  ],
                  "side": "left",
                  "title": {
                    "text": "Température en °C"
                  }
                },
                "yaxis2": {
                  "anchor": "x",
                  "overlaying": "y",
                  "range": [
                    0,
                    40
                  ],
                  "side": "left",
                  "title": {
                    "text": "Température en °C"
                  }
                }
              }
            }
          },
          "metadata": {},
          "output_type": "display_data"
        }
      ],
      "source": [
        "#Your code here :\n",
        "trace1 = go.Scatter(\n",
        "    \n",
        "    x=df_weather[\"MIN_TEMPERATURE_C\"],\n",
        "    y=df_weather[\"MAX_TEMPERATURE_C\"],\n",
        "        mode='markers',\n",
        "        name = \"Température minimum relevée\"\n",
        ")\n",
        "trace2 = go.Scatter(\n",
        "    x=df_weather[\"MIN_TEMPERATURE_C\"],\n",
        "    y=df_weather[\"predict2\"],\n",
        "    mode='markers',\n",
        "    marker=dict(color='rgb(254,92,92)'),\n",
        "    name = \"Prédiction\"\n",
        "\n",
        ")\n",
        "\n",
        "fig = make_subplots(specs=[[{\"secondary_y\": True}]])\n",
        "fig.add_trace(trace1)\n",
        "fig.add_trace(trace2,secondary_y=True)\n",
        "\n",
        "\n",
        "fig.update_layout(height = 600, width = 800, title = \"Température minimum et prédiction de la température maximum\")\n",
        "fig.update_yaxes(range=[0, 40], title=\"Température en °C\", side=\"left\")\n",
        "fig.update_xaxes(title=\"Température minimimum en °C\")\n",
        "fig.show()"
      ]
    },
    {
      "cell_type": "markdown",
      "metadata": {
        "id": "A8P6S3RTMMo-"
      },
      "source": [
        "## Scatterplot 2\n",
        "- X-axis : DATE\n",
        "- Y-axis : MAX temperatures in blue dots and 'predict2' in red dots."
      ]
    },
    {
      "cell_type": "code",
      "execution_count": 11,
      "metadata": {
        "colab": {
          "base_uri": "https://localhost:8080/",
          "height": 617
        },
        "id": "U4HAg2nvMRZE",
        "outputId": "2854b7cd-d27b-4dcf-f4f4-67cfb30ec5c2"
      },
      "outputs": [
        {
          "data": {
            "application/vnd.plotly.v1+json": {
              "config": {
                "plotlyServerURL": "https://plot.ly"
              },
              "data": [
                {
                  "mode": "markers",
                  "name": "Température maximum relevée",
                  "type": "scatter",
                  "x": [
                    "2019-01-01",
                    "2019-01-02",
                    "2019-01-03",
                    "2019-01-04",
                    "2019-01-05",
                    "2019-01-06",
                    "2019-01-07",
                    "2019-01-08",
                    "2019-01-09",
                    "2019-01-10",
                    "2019-01-11",
                    "2019-01-12",
                    "2019-01-13",
                    "2019-01-14",
                    "2019-01-15",
                    "2019-01-16",
                    "2019-01-17",
                    "2019-01-18",
                    "2019-01-19",
                    "2019-01-20",
                    "2019-01-21",
                    "2019-01-22",
                    "2019-01-23",
                    "2019-01-24",
                    "2019-01-25",
                    "2019-01-26",
                    "2019-01-27",
                    "2019-01-28",
                    "2019-01-29",
                    "2019-01-30",
                    "2019-01-31",
                    "2019-02-01",
                    "2019-02-02",
                    "2019-02-03",
                    "2019-02-04",
                    "2019-02-05",
                    "2019-02-06",
                    "2019-02-07",
                    "2019-02-08",
                    "2019-02-09",
                    "2019-02-10",
                    "2019-02-11",
                    "2019-02-12",
                    "2019-02-13",
                    "2019-02-14",
                    "2019-02-15",
                    "2019-02-16",
                    "2019-02-17",
                    "2019-02-18",
                    "2019-02-19",
                    "2019-02-20",
                    "2019-02-21",
                    "2019-02-22",
                    "2019-02-23",
                    "2019-02-24",
                    "2019-02-25",
                    "2019-02-26",
                    "2019-02-27",
                    "2019-02-28",
                    "2019-03-01",
                    "2019-03-02",
                    "2019-03-03",
                    "2019-03-04",
                    "2019-03-05",
                    "2019-03-06",
                    "2019-03-07",
                    "2019-03-08",
                    "2019-03-09",
                    "2019-03-10",
                    "2019-03-11",
                    "2019-03-12",
                    "2019-03-13",
                    "2019-03-14",
                    "2019-03-15",
                    "2019-03-16",
                    "2019-03-17",
                    "2019-03-18",
                    "2019-03-19",
                    "2019-03-20",
                    "2019-03-21",
                    "2019-03-22",
                    "2019-03-23",
                    "2019-03-24",
                    "2019-03-25",
                    "2019-03-26",
                    "2019-03-27",
                    "2019-03-28",
                    "2019-03-29",
                    "2019-03-30",
                    "2019-03-31",
                    "2019-04-01",
                    "2019-04-02",
                    "2019-04-03",
                    "2019-04-04",
                    "2019-04-05",
                    "2019-04-06",
                    "2019-04-07",
                    "2019-04-08",
                    "2019-04-09",
                    "2019-04-10",
                    "2019-04-11",
                    "2019-04-12",
                    "2019-04-13",
                    "2019-04-14",
                    "2019-04-15",
                    "2019-04-16",
                    "2019-04-17",
                    "2019-04-18",
                    "2019-04-19",
                    "2019-04-20",
                    "2019-04-21",
                    "2019-04-22",
                    "2019-04-23",
                    "2019-04-24",
                    "2019-04-25",
                    "2019-04-26",
                    "2019-04-27",
                    "2019-04-28",
                    "2019-04-29",
                    "2019-04-30",
                    "2019-05-01",
                    "2019-05-02",
                    "2019-05-03",
                    "2019-05-04",
                    "2019-05-05",
                    "2019-05-06",
                    "2019-05-07",
                    "2019-05-08",
                    "2019-05-09",
                    "2019-05-10",
                    "2019-05-11",
                    "2019-05-12",
                    "2019-05-13",
                    "2019-05-14",
                    "2019-05-15",
                    "2019-05-16",
                    "2019-05-17",
                    "2019-05-18",
                    "2019-05-19",
                    "2019-05-20",
                    "2019-05-21",
                    "2019-05-22",
                    "2019-05-23",
                    "2019-05-24",
                    "2019-05-25",
                    "2019-05-26",
                    "2019-05-27",
                    "2019-05-28",
                    "2019-05-29",
                    "2019-05-30",
                    "2019-05-31",
                    "2019-06-01",
                    "2019-06-02",
                    "2019-06-03",
                    "2019-06-04",
                    "2019-06-05",
                    "2019-06-06",
                    "2019-06-07",
                    "2019-06-08",
                    "2019-06-09",
                    "2019-06-10",
                    "2019-06-11",
                    "2019-06-12",
                    "2019-06-13",
                    "2019-06-14",
                    "2019-06-15",
                    "2019-06-16",
                    "2019-06-17",
                    "2019-06-18",
                    "2019-06-19",
                    "2019-06-20",
                    "2019-06-21",
                    "2019-06-22",
                    "2019-06-23",
                    "2019-06-24",
                    "2019-06-25",
                    "2019-06-26",
                    "2019-06-27",
                    "2019-06-28",
                    "2019-06-29",
                    "2019-06-30",
                    "2019-07-01",
                    "2019-07-02",
                    "2019-07-03",
                    "2019-07-04",
                    "2019-07-05",
                    "2019-07-06",
                    "2019-07-07",
                    "2019-07-08",
                    "2019-07-09",
                    "2019-07-10",
                    "2019-07-11",
                    "2019-07-12",
                    "2019-07-13",
                    "2019-07-14",
                    "2019-07-15",
                    "2019-07-16",
                    "2019-07-17",
                    "2019-07-18",
                    "2019-07-19",
                    "2019-07-20",
                    "2019-07-21",
                    "2019-07-22",
                    "2019-07-23",
                    "2019-07-24",
                    "2019-07-25",
                    "2019-07-26",
                    "2019-07-27",
                    "2019-07-28",
                    "2019-07-29",
                    "2019-07-30",
                    "2019-07-31",
                    "2019-08-01",
                    "2019-08-02",
                    "2019-08-03",
                    "2019-08-04",
                    "2019-08-05",
                    "2019-08-06",
                    "2019-08-07",
                    "2019-08-08",
                    "2019-08-09",
                    "2019-08-10",
                    "2019-08-11",
                    "2019-08-12",
                    "2019-08-13",
                    "2019-08-14",
                    "2019-08-15",
                    "2019-08-16",
                    "2019-08-17",
                    "2019-08-18",
                    "2019-08-19",
                    "2019-08-20",
                    "2019-08-21",
                    "2019-08-22",
                    "2019-08-23",
                    "2019-08-24",
                    "2019-08-25",
                    "2019-08-26",
                    "2019-08-27",
                    "2019-08-28",
                    "2019-08-29",
                    "2019-08-30",
                    "2019-08-31",
                    "2019-09-01",
                    "2019-09-02",
                    "2019-09-03",
                    "2019-09-04",
                    "2019-09-05",
                    "2019-09-06",
                    "2019-09-07",
                    "2019-09-08",
                    "2019-09-09",
                    "2019-09-10",
                    "2019-09-11",
                    "2019-09-12",
                    "2019-09-13",
                    "2019-09-14",
                    "2019-09-15",
                    "2019-09-16",
                    "2019-09-17",
                    "2019-09-18",
                    "2019-09-19",
                    "2019-09-20",
                    "2019-09-21",
                    "2019-09-22",
                    "2019-09-23",
                    "2019-09-24",
                    "2019-09-25",
                    "2019-09-26",
                    "2019-09-27",
                    "2019-09-28",
                    "2019-09-29",
                    "2019-09-30",
                    "2019-10-01",
                    "2019-10-02",
                    "2019-10-03",
                    "2019-10-04",
                    "2019-10-05",
                    "2019-10-06",
                    "2019-10-07",
                    "2019-10-08",
                    "2019-10-09",
                    "2019-10-10",
                    "2019-10-11",
                    "2019-10-12",
                    "2019-10-13",
                    "2019-10-14",
                    "2019-10-15",
                    "2019-10-16",
                    "2019-10-17",
                    "2019-10-18",
                    "2019-10-19",
                    "2019-10-20",
                    "2019-10-21",
                    "2019-10-22",
                    "2019-10-23",
                    "2019-10-24",
                    "2019-10-25",
                    "2019-10-26",
                    "2019-10-27",
                    "2019-10-28",
                    "2019-10-29",
                    "2019-10-30",
                    "2019-10-31",
                    "2019-11-01",
                    "2019-11-02",
                    "2019-11-03",
                    "2019-11-04",
                    "2019-11-05",
                    "2019-11-06",
                    "2019-11-07",
                    "2019-11-08",
                    "2019-11-09",
                    "2019-11-10",
                    "2019-11-11",
                    "2019-11-12",
                    "2019-11-13",
                    "2019-11-14",
                    "2019-11-15",
                    "2019-11-16",
                    "2019-11-17",
                    "2019-11-18",
                    "2019-11-19",
                    "2019-11-20",
                    "2019-11-21",
                    "2019-11-22",
                    "2019-11-23",
                    "2019-11-24",
                    "2019-11-25",
                    "2019-11-26",
                    "2019-11-27",
                    "2019-11-28",
                    "2019-11-29",
                    "2019-11-30",
                    "2019-12-01",
                    "2019-12-02",
                    "2019-12-03",
                    "2019-12-04",
                    "2019-12-05",
                    "2019-12-06",
                    "2019-12-07",
                    "2019-12-08",
                    "2019-12-09",
                    "2019-12-10",
                    "2019-12-11",
                    "2019-12-12",
                    "2019-12-13",
                    "2019-12-14",
                    "2019-12-15",
                    "2019-12-16",
                    "2019-12-17",
                    "2019-12-18",
                    "2019-12-19",
                    "2019-12-20",
                    "2019-12-21",
                    "2019-12-22",
                    "2019-12-23",
                    "2019-12-24",
                    "2019-12-25",
                    "2019-12-26",
                    "2019-12-27",
                    "2019-12-28",
                    "2019-12-29",
                    "2019-12-30",
                    "2019-12-31"
                  ],
                  "y": [
                    9,
                    8,
                    6,
                    5,
                    6,
                    5,
                    10,
                    10,
                    7,
                    7,
                    10,
                    9,
                    10,
                    10,
                    9,
                    8,
                    9,
                    7,
                    11,
                    7,
                    7,
                    8,
                    7,
                    7,
                    11,
                    10,
                    8,
                    8,
                    9,
                    7,
                    8,
                    9,
                    7,
                    8,
                    7,
                    10,
                    12,
                    11,
                    11,
                    12,
                    11,
                    10,
                    12,
                    10,
                    13,
                    15,
                    14,
                    15,
                    12,
                    12,
                    13,
                    17,
                    17,
                    18,
                    14,
                    15,
                    19,
                    20,
                    13,
                    14,
                    13,
                    14,
                    11,
                    13,
                    12,
                    11,
                    12,
                    13,
                    12,
                    11,
                    11,
                    10,
                    11,
                    13,
                    11,
                    11,
                    11,
                    12,
                    13,
                    15,
                    18,
                    17,
                    13,
                    12,
                    12,
                    13,
                    14,
                    16,
                    17,
                    19,
                    18,
                    12,
                    10,
                    10,
                    10,
                    10,
                    14,
                    12,
                    16,
                    14,
                    14,
                    14,
                    12,
                    9,
                    14,
                    15,
                    19,
                    21,
                    24,
                    21,
                    21,
                    19,
                    18,
                    14,
                    13,
                    14,
                    13,
                    12,
                    16,
                    18,
                    17,
                    15,
                    15,
                    11,
                    12,
                    15,
                    14,
                    15,
                    15,
                    15,
                    16,
                    16,
                    16,
                    18,
                    18,
                    17,
                    17,
                    14,
                    17,
                    18,
                    20,
                    21,
                    21,
                    20,
                    19,
                    17,
                    19,
                    15,
                    15,
                    20,
                    25,
                    29,
                    23,
                    20,
                    19,
                    16,
                    18,
                    15,
                    18,
                    16,
                    17,
                    15,
                    16,
                    18,
                    19,
                    18,
                    19,
                    25,
                    28,
                    20,
                    20,
                    20,
                    23,
                    27,
                    23,
                    26,
                    31,
                    34,
                    34,
                    32,
                    26,
                    24,
                    25,
                    26,
                    28,
                    30,
                    31,
                    28,
                    27,
                    25,
                    28,
                    26,
                    26,
                    27,
                    26,
                    26,
                    29,
                    27,
                    22,
                    26,
                    25,
                    26,
                    33,
                    39,
                    33,
                    32,
                    22,
                    23,
                    23,
                    24,
                    21,
                    23,
                    27,
                    29,
                    29,
                    26,
                    25,
                    23,
                    25,
                    28,
                    23,
                    23,
                    23,
                    22,
                    22,
                    20,
                    22,
                    22,
                    19,
                    21,
                    21,
                    23,
                    26,
                    28,
                    30,
                    33,
                    30,
                    33,
                    29,
                    24,
                    25,
                    30,
                    23,
                    23,
                    24,
                    26,
                    20,
                    19,
                    23,
                    22,
                    21,
                    17,
                    22,
                    22,
                    24,
                    28,
                    29,
                    31,
                    21,
                    27,
                    23,
                    23,
                    27,
                    28,
                    21,
                    20,
                    20,
                    17,
                    19,
                    19,
                    19,
                    20,
                    21,
                    19,
                    19,
                    19,
                    17,
                    18,
                    18,
                    14,
                    18,
                    16,
                    18,
                    20,
                    21,
                    20,
                    20,
                    16,
                    16,
                    17,
                    16,
                    16,
                    15,
                    16,
                    16,
                    15,
                    14,
                    18,
                    19,
                    15,
                    12,
                    14,
                    17,
                    16,
                    17,
                    14,
                    14,
                    13,
                    12,
                    13,
                    11,
                    11,
                    10,
                    11,
                    11,
                    11,
                    9,
                    11,
                    8,
                    9,
                    8,
                    10,
                    9,
                    7,
                    11,
                    10,
                    12,
                    12,
                    13,
                    14,
                    13,
                    13,
                    13,
                    9,
                    7,
                    7,
                    7,
                    8,
                    7,
                    11,
                    13,
                    13,
                    11,
                    11,
                    9,
                    12,
                    10,
                    12,
                    10,
                    11,
                    12,
                    12,
                    13,
                    12,
                    11,
                    10,
                    10,
                    14,
                    11,
                    12,
                    13,
                    11,
                    9,
                    12,
                    10
                  ]
                },
                {
                  "marker": {
                    "color": "rgb(254,92,92)"
                  },
                  "mode": "markers",
                  "name": "Prédiction",
                  "type": "scatter",
                  "x": [
                    "2019-01-01",
                    "2019-01-02",
                    "2019-01-03",
                    "2019-01-04",
                    "2019-01-05",
                    "2019-01-06",
                    "2019-01-07",
                    "2019-01-08",
                    "2019-01-09",
                    "2019-01-10",
                    "2019-01-11",
                    "2019-01-12",
                    "2019-01-13",
                    "2019-01-14",
                    "2019-01-15",
                    "2019-01-16",
                    "2019-01-17",
                    "2019-01-18",
                    "2019-01-19",
                    "2019-01-20",
                    "2019-01-21",
                    "2019-01-22",
                    "2019-01-23",
                    "2019-01-24",
                    "2019-01-25",
                    "2019-01-26",
                    "2019-01-27",
                    "2019-01-28",
                    "2019-01-29",
                    "2019-01-30",
                    "2019-01-31",
                    "2019-02-01",
                    "2019-02-02",
                    "2019-02-03",
                    "2019-02-04",
                    "2019-02-05",
                    "2019-02-06",
                    "2019-02-07",
                    "2019-02-08",
                    "2019-02-09",
                    "2019-02-10",
                    "2019-02-11",
                    "2019-02-12",
                    "2019-02-13",
                    "2019-02-14",
                    "2019-02-15",
                    "2019-02-16",
                    "2019-02-17",
                    "2019-02-18",
                    "2019-02-19",
                    "2019-02-20",
                    "2019-02-21",
                    "2019-02-22",
                    "2019-02-23",
                    "2019-02-24",
                    "2019-02-25",
                    "2019-02-26",
                    "2019-02-27",
                    "2019-02-28",
                    "2019-03-01",
                    "2019-03-02",
                    "2019-03-03",
                    "2019-03-04",
                    "2019-03-05",
                    "2019-03-06",
                    "2019-03-07",
                    "2019-03-08",
                    "2019-03-09",
                    "2019-03-10",
                    "2019-03-11",
                    "2019-03-12",
                    "2019-03-13",
                    "2019-03-14",
                    "2019-03-15",
                    "2019-03-16",
                    "2019-03-17",
                    "2019-03-18",
                    "2019-03-19",
                    "2019-03-20",
                    "2019-03-21",
                    "2019-03-22",
                    "2019-03-23",
                    "2019-03-24",
                    "2019-03-25",
                    "2019-03-26",
                    "2019-03-27",
                    "2019-03-28",
                    "2019-03-29",
                    "2019-03-30",
                    "2019-03-31",
                    "2019-04-01",
                    "2019-04-02",
                    "2019-04-03",
                    "2019-04-04",
                    "2019-04-05",
                    "2019-04-06",
                    "2019-04-07",
                    "2019-04-08",
                    "2019-04-09",
                    "2019-04-10",
                    "2019-04-11",
                    "2019-04-12",
                    "2019-04-13",
                    "2019-04-14",
                    "2019-04-15",
                    "2019-04-16",
                    "2019-04-17",
                    "2019-04-18",
                    "2019-04-19",
                    "2019-04-20",
                    "2019-04-21",
                    "2019-04-22",
                    "2019-04-23",
                    "2019-04-24",
                    "2019-04-25",
                    "2019-04-26",
                    "2019-04-27",
                    "2019-04-28",
                    "2019-04-29",
                    "2019-04-30",
                    "2019-05-01",
                    "2019-05-02",
                    "2019-05-03",
                    "2019-05-04",
                    "2019-05-05",
                    "2019-05-06",
                    "2019-05-07",
                    "2019-05-08",
                    "2019-05-09",
                    "2019-05-10",
                    "2019-05-11",
                    "2019-05-12",
                    "2019-05-13",
                    "2019-05-14",
                    "2019-05-15",
                    "2019-05-16",
                    "2019-05-17",
                    "2019-05-18",
                    "2019-05-19",
                    "2019-05-20",
                    "2019-05-21",
                    "2019-05-22",
                    "2019-05-23",
                    "2019-05-24",
                    "2019-05-25",
                    "2019-05-26",
                    "2019-05-27",
                    "2019-05-28",
                    "2019-05-29",
                    "2019-05-30",
                    "2019-05-31",
                    "2019-06-01",
                    "2019-06-02",
                    "2019-06-03",
                    "2019-06-04",
                    "2019-06-05",
                    "2019-06-06",
                    "2019-06-07",
                    "2019-06-08",
                    "2019-06-09",
                    "2019-06-10",
                    "2019-06-11",
                    "2019-06-12",
                    "2019-06-13",
                    "2019-06-14",
                    "2019-06-15",
                    "2019-06-16",
                    "2019-06-17",
                    "2019-06-18",
                    "2019-06-19",
                    "2019-06-20",
                    "2019-06-21",
                    "2019-06-22",
                    "2019-06-23",
                    "2019-06-24",
                    "2019-06-25",
                    "2019-06-26",
                    "2019-06-27",
                    "2019-06-28",
                    "2019-06-29",
                    "2019-06-30",
                    "2019-07-01",
                    "2019-07-02",
                    "2019-07-03",
                    "2019-07-04",
                    "2019-07-05",
                    "2019-07-06",
                    "2019-07-07",
                    "2019-07-08",
                    "2019-07-09",
                    "2019-07-10",
                    "2019-07-11",
                    "2019-07-12",
                    "2019-07-13",
                    "2019-07-14",
                    "2019-07-15",
                    "2019-07-16",
                    "2019-07-17",
                    "2019-07-18",
                    "2019-07-19",
                    "2019-07-20",
                    "2019-07-21",
                    "2019-07-22",
                    "2019-07-23",
                    "2019-07-24",
                    "2019-07-25",
                    "2019-07-26",
                    "2019-07-27",
                    "2019-07-28",
                    "2019-07-29",
                    "2019-07-30",
                    "2019-07-31",
                    "2019-08-01",
                    "2019-08-02",
                    "2019-08-03",
                    "2019-08-04",
                    "2019-08-05",
                    "2019-08-06",
                    "2019-08-07",
                    "2019-08-08",
                    "2019-08-09",
                    "2019-08-10",
                    "2019-08-11",
                    "2019-08-12",
                    "2019-08-13",
                    "2019-08-14",
                    "2019-08-15",
                    "2019-08-16",
                    "2019-08-17",
                    "2019-08-18",
                    "2019-08-19",
                    "2019-08-20",
                    "2019-08-21",
                    "2019-08-22",
                    "2019-08-23",
                    "2019-08-24",
                    "2019-08-25",
                    "2019-08-26",
                    "2019-08-27",
                    "2019-08-28",
                    "2019-08-29",
                    "2019-08-30",
                    "2019-08-31",
                    "2019-09-01",
                    "2019-09-02",
                    "2019-09-03",
                    "2019-09-04",
                    "2019-09-05",
                    "2019-09-06",
                    "2019-09-07",
                    "2019-09-08",
                    "2019-09-09",
                    "2019-09-10",
                    "2019-09-11",
                    "2019-09-12",
                    "2019-09-13",
                    "2019-09-14",
                    "2019-09-15",
                    "2019-09-16",
                    "2019-09-17",
                    "2019-09-18",
                    "2019-09-19",
                    "2019-09-20",
                    "2019-09-21",
                    "2019-09-22",
                    "2019-09-23",
                    "2019-09-24",
                    "2019-09-25",
                    "2019-09-26",
                    "2019-09-27",
                    "2019-09-28",
                    "2019-09-29",
                    "2019-09-30",
                    "2019-10-01",
                    "2019-10-02",
                    "2019-10-03",
                    "2019-10-04",
                    "2019-10-05",
                    "2019-10-06",
                    "2019-10-07",
                    "2019-10-08",
                    "2019-10-09",
                    "2019-10-10",
                    "2019-10-11",
                    "2019-10-12",
                    "2019-10-13",
                    "2019-10-14",
                    "2019-10-15",
                    "2019-10-16",
                    "2019-10-17",
                    "2019-10-18",
                    "2019-10-19",
                    "2019-10-20",
                    "2019-10-21",
                    "2019-10-22",
                    "2019-10-23",
                    "2019-10-24",
                    "2019-10-25",
                    "2019-10-26",
                    "2019-10-27",
                    "2019-10-28",
                    "2019-10-29",
                    "2019-10-30",
                    "2019-10-31",
                    "2019-11-01",
                    "2019-11-02",
                    "2019-11-03",
                    "2019-11-04",
                    "2019-11-05",
                    "2019-11-06",
                    "2019-11-07",
                    "2019-11-08",
                    "2019-11-09",
                    "2019-11-10",
                    "2019-11-11",
                    "2019-11-12",
                    "2019-11-13",
                    "2019-11-14",
                    "2019-11-15",
                    "2019-11-16",
                    "2019-11-17",
                    "2019-11-18",
                    "2019-11-19",
                    "2019-11-20",
                    "2019-11-21",
                    "2019-11-22",
                    "2019-11-23",
                    "2019-11-24",
                    "2019-11-25",
                    "2019-11-26",
                    "2019-11-27",
                    "2019-11-28",
                    "2019-11-29",
                    "2019-11-30",
                    "2019-12-01",
                    "2019-12-02",
                    "2019-12-03",
                    "2019-12-04",
                    "2019-12-05",
                    "2019-12-06",
                    "2019-12-07",
                    "2019-12-08",
                    "2019-12-09",
                    "2019-12-10",
                    "2019-12-11",
                    "2019-12-12",
                    "2019-12-13",
                    "2019-12-14",
                    "2019-12-15",
                    "2019-12-16",
                    "2019-12-17",
                    "2019-12-18",
                    "2019-12-19",
                    "2019-12-20",
                    "2019-12-21",
                    "2019-12-22",
                    "2019-12-23",
                    "2019-12-24",
                    "2019-12-25",
                    "2019-12-26",
                    "2019-12-27",
                    "2019-12-28",
                    "2019-12-29",
                    "2019-12-30",
                    "2019-12-31"
                  ],
                  "xaxis": "x",
                  "y": [
                    10.579999415396511,
                    11.802741465600958,
                    5.689031214578717,
                    4.4662891643742695,
                    4.4662891643742695,
                    8.134515314987613,
                    10.579999415396511,
                    13.025483515805407,
                    11.802741465600958,
                    6.911773264783165,
                    8.134515314987613,
                    9.357257365192062,
                    14.248225566009854,
                    15.470967616214303,
                    10.579999415396511,
                    6.911773264783165,
                    11.802741465600958,
                    6.911773264783165,
                    13.025483515805407,
                    10.579999415396511,
                    5.689031214578717,
                    11.802741465600958,
                    9.357257365192062,
                    5.689031214578717,
                    15.470967616214303,
                    15.470967616214303,
                    14.248225566009854,
                    10.579999415396511,
                    11.802741465600958,
                    9.357257365192062,
                    8.134515314987613,
                    13.025483515805407,
                    8.134515314987613,
                    5.689031214578717,
                    11.802741465600958,
                    10.579999415396511,
                    17.9164517166232,
                    16.69370966641875,
                    15.470967616214303,
                    16.69370966641875,
                    15.470967616214303,
                    11.802741465600958,
                    9.357257365192062,
                    8.134515314987613,
                    8.134515314987613,
                    13.025483515805407,
                    13.025483515805407,
                    14.248225566009854,
                    11.802741465600958,
                    11.802741465600958,
                    10.579999415396511,
                    13.025483515805407,
                    14.248225566009854,
                    15.470967616214303,
                    11.802741465600958,
                    11.802741465600958,
                    14.248225566009854,
                    16.69370966641875,
                    16.69370966641875,
                    14.248225566009854,
                    13.025483515805407,
                    16.69370966641875,
                    14.248225566009854,
                    14.248225566009854,
                    16.69370966641875,
                    13.025483515805407,
                    11.802741465600958,
                    15.470967616214303,
                    15.470967616214303,
                    11.802741465600958,
                    10.579999415396511,
                    13.025483515805407,
                    13.025483515805407,
                    17.9164517166232,
                    17.9164517166232,
                    11.802741465600958,
                    10.579999415396511,
                    9.357257365192062,
                    10.579999415396511,
                    11.802741465600958,
                    13.025483515805407,
                    14.248225566009854,
                    11.802741465600958,
                    9.357257365192062,
                    6.911773264783165,
                    8.134515314987613,
                    9.357257365192062,
                    10.579999415396511,
                    13.025483515805407,
                    14.248225566009854,
                    13.025483515805407,
                    13.025483515805407,
                    9.357257365192062,
                    6.911773264783165,
                    11.802741465600958,
                    10.579999415396511,
                    14.248225566009854,
                    11.802741465600958,
                    13.025483515805407,
                    11.802741465600958,
                    13.025483515805407,
                    8.134515314987613,
                    8.134515314987613,
                    10.579999415396511,
                    10.579999415396511,
                    15.470967616214303,
                    14.248225566009854,
                    16.69370966641875,
                    20.361935817032098,
                    19.139193766827646,
                    19.139193766827646,
                    17.9164517166232,
                    19.139193766827646,
                    16.69370966641875,
                    14.248225566009854,
                    13.025483515805407,
                    14.248225566009854,
                    13.025483515805407,
                    13.025483515805407,
                    13.025483515805407,
                    16.69370966641875,
                    14.248225566009854,
                    13.025483515805407,
                    11.802741465600958,
                    8.134515314987613,
                    9.357257365192062,
                    13.025483515805407,
                    16.69370966641875,
                    16.69370966641875,
                    15.470967616214303,
                    17.9164517166232,
                    14.248225566009854,
                    13.025483515805407,
                    15.470967616214303,
                    16.69370966641875,
                    15.470967616214303,
                    17.9164517166232,
                    17.9164517166232,
                    15.470967616214303,
                    15.470967616214303,
                    15.470967616214303,
                    19.139193766827646,
                    21.584677867236543,
                    17.9164517166232,
                    17.9164517166232,
                    19.139193766827646,
                    21.584677867236543,
                    16.69370966641875,
                    15.470967616214303,
                    19.139193766827646,
                    19.139193766827646,
                    25.252904017849886,
                    24.03016196764544,
                    22.80741991744099,
                    21.584677867236543,
                    17.9164517166232,
                    16.69370966641875,
                    21.584677867236543,
                    19.139193766827646,
                    17.9164517166232,
                    16.69370966641875,
                    14.248225566009854,
                    15.470967616214303,
                    17.9164517166232,
                    17.9164517166232,
                    17.9164517166232,
                    21.584677867236543,
                    17.9164517166232,
                    26.47564606805434,
                    22.80741991744099,
                    20.361935817032098,
                    17.9164517166232,
                    19.139193766827646,
                    24.03016196764544,
                    25.252904017849886,
                    24.03016196764544,
                    28.92113016846323,
                    33.812098369281024,
                    36.25758246968992,
                    27.698388118258784,
                    25.252904017849886,
                    24.03016196764544,
                    19.139193766827646,
                    24.03016196764544,
                    25.252904017849886,
                    26.47564606805434,
                    27.698388118258784,
                    25.252904017849886,
                    24.03016196764544,
                    22.80741991744099,
                    24.03016196764544,
                    27.698388118258784,
                    26.47564606805434,
                    21.584677867236543,
                    24.03016196764544,
                    21.584677867236543,
                    22.80741991744099,
                    24.03016196764544,
                    21.584677867236543,
                    22.80741991744099,
                    25.252904017849886,
                    24.03016196764544,
                    25.252904017849886,
                    31.366614268872127,
                    28.92113016846323,
                    33.812098369281024,
                    17.9164517166232,
                    22.80741991744099,
                    20.361935817032098,
                    21.584677867236543,
                    24.03016196764544,
                    22.80741991744099,
                    22.80741991744099,
                    24.03016196764544,
                    26.47564606805434,
                    25.252904017849886,
                    25.252904017849886,
                    26.47564606805434,
                    24.03016196764544,
                    24.03016196764544,
                    28.92113016846323,
                    24.03016196764544,
                    22.80741991744099,
                    21.584677867236543,
                    17.9164517166232,
                    21.584677867236543,
                    24.03016196764544,
                    22.80741991744099,
                    27.698388118258784,
                    22.80741991744099,
                    21.584677867236543,
                    20.361935817032098,
                    20.361935817032098,
                    22.80741991744099,
                    24.03016196764544,
                    27.698388118258784,
                    25.252904017849886,
                    26.47564606805434,
                    28.92113016846323,
                    25.252904017849886,
                    24.03016196764544,
                    22.80741991744099,
                    24.03016196764544,
                    21.584677867236543,
                    17.9164517166232,
                    19.139193766827646,
                    21.584677867236543,
                    17.9164517166232,
                    14.248225566009854,
                    20.361935817032098,
                    16.69370966641875,
                    17.9164517166232,
                    17.9164517166232,
                    19.139193766827646,
                    22.80741991744099,
                    22.80741991744099,
                    25.252904017849886,
                    25.252904017849886,
                    24.03016196764544,
                    21.584677867236543,
                    20.361935817032098,
                    19.139193766827646,
                    19.139193766827646,
                    26.47564606805434,
                    24.03016196764544,
                    21.584677867236543,
                    24.03016196764544,
                    22.80741991744099,
                    25.252904017849886,
                    22.80741991744099,
                    21.584677867236543,
                    21.584677867236543,
                    20.361935817032098,
                    22.80741991744099,
                    19.139193766827646,
                    16.69370966641875,
                    21.584677867236543,
                    21.584677867236543,
                    20.361935817032098,
                    11.802741465600958,
                    20.361935817032098,
                    20.361935817032098,
                    20.361935817032098,
                    20.361935817032098,
                    21.584677867236543,
                    24.03016196764544,
                    21.584677867236543,
                    17.9164517166232,
                    20.361935817032098,
                    17.9164517166232,
                    21.584677867236543,
                    20.361935817032098,
                    19.139193766827646,
                    15.470967616214303,
                    15.470967616214303,
                    20.361935817032098,
                    20.361935817032098,
                    19.139193766827646,
                    20.361935817032098,
                    16.69370966641875,
                    16.69370966641875,
                    16.69370966641875,
                    16.69370966641875,
                    21.584677867236543,
                    20.361935817032098,
                    19.139193766827646,
                    15.470967616214303,
                    15.470967616214303,
                    15.470967616214303,
                    14.248225566009854,
                    11.802741465600958,
                    11.802741465600958,
                    11.802741465600958,
                    11.802741465600958,
                    14.248225566009854,
                    13.025483515805407,
                    10.579999415396511,
                    11.802741465600958,
                    8.134515314987613,
                    11.802741465600958,
                    9.357257365192062,
                    9.357257365192062,
                    10.579999415396511,
                    8.134515314987613,
                    11.802741465600958,
                    11.802741465600958,
                    14.248225566009854,
                    9.357257365192062,
                    19.139193766827646,
                    17.9164517166232,
                    19.139193766827646,
                    13.025483515805407,
                    15.470967616214303,
                    14.248225566009854,
                    9.357257365192062,
                    6.911773264783165,
                    6.911773264783165,
                    5.689031214578717,
                    6.911773264783165,
                    9.357257365192062,
                    17.9164517166232,
                    17.9164517166232,
                    13.025483515805407,
                    10.579999415396511,
                    11.802741465600958,
                    11.802741465600958,
                    8.134515314987613,
                    14.248225566009854,
                    10.579999415396511,
                    10.579999415396511,
                    14.248225566009854,
                    14.248225566009854,
                    19.139193766827646,
                    14.248225566009854,
                    16.69370966641875,
                    10.579999415396511,
                    11.802741465600958,
                    16.69370966641875,
                    15.470967616214303,
                    11.802741465600958,
                    17.9164517166232,
                    11.802741465600958,
                    8.134515314987613,
                    10.579999415396511,
                    10.579999415396511
                  ],
                  "yaxis": "y2"
                }
              ],
              "layout": {
                "height": 600,
                "template": {
                  "data": {
                    "bar": [
                      {
                        "error_x": {
                          "color": "#2a3f5f"
                        },
                        "error_y": {
                          "color": "#2a3f5f"
                        },
                        "marker": {
                          "line": {
                            "color": "#E5ECF6",
                            "width": 0.5
                          },
                          "pattern": {
                            "fillmode": "overlay",
                            "size": 10,
                            "solidity": 0.2
                          }
                        },
                        "type": "bar"
                      }
                    ],
                    "barpolar": [
                      {
                        "marker": {
                          "line": {
                            "color": "#E5ECF6",
                            "width": 0.5
                          },
                          "pattern": {
                            "fillmode": "overlay",
                            "size": 10,
                            "solidity": 0.2
                          }
                        },
                        "type": "barpolar"
                      }
                    ],
                    "carpet": [
                      {
                        "aaxis": {
                          "endlinecolor": "#2a3f5f",
                          "gridcolor": "white",
                          "linecolor": "white",
                          "minorgridcolor": "white",
                          "startlinecolor": "#2a3f5f"
                        },
                        "baxis": {
                          "endlinecolor": "#2a3f5f",
                          "gridcolor": "white",
                          "linecolor": "white",
                          "minorgridcolor": "white",
                          "startlinecolor": "#2a3f5f"
                        },
                        "type": "carpet"
                      }
                    ],
                    "choropleth": [
                      {
                        "colorbar": {
                          "outlinewidth": 0,
                          "ticks": ""
                        },
                        "type": "choropleth"
                      }
                    ],
                    "contour": [
                      {
                        "colorbar": {
                          "outlinewidth": 0,
                          "ticks": ""
                        },
                        "colorscale": [
                          [
                            0,
                            "#0d0887"
                          ],
                          [
                            0.1111111111111111,
                            "#46039f"
                          ],
                          [
                            0.2222222222222222,
                            "#7201a8"
                          ],
                          [
                            0.3333333333333333,
                            "#9c179e"
                          ],
                          [
                            0.4444444444444444,
                            "#bd3786"
                          ],
                          [
                            0.5555555555555556,
                            "#d8576b"
                          ],
                          [
                            0.6666666666666666,
                            "#ed7953"
                          ],
                          [
                            0.7777777777777778,
                            "#fb9f3a"
                          ],
                          [
                            0.8888888888888888,
                            "#fdca26"
                          ],
                          [
                            1,
                            "#f0f921"
                          ]
                        ],
                        "type": "contour"
                      }
                    ],
                    "contourcarpet": [
                      {
                        "colorbar": {
                          "outlinewidth": 0,
                          "ticks": ""
                        },
                        "type": "contourcarpet"
                      }
                    ],
                    "heatmap": [
                      {
                        "colorbar": {
                          "outlinewidth": 0,
                          "ticks": ""
                        },
                        "colorscale": [
                          [
                            0,
                            "#0d0887"
                          ],
                          [
                            0.1111111111111111,
                            "#46039f"
                          ],
                          [
                            0.2222222222222222,
                            "#7201a8"
                          ],
                          [
                            0.3333333333333333,
                            "#9c179e"
                          ],
                          [
                            0.4444444444444444,
                            "#bd3786"
                          ],
                          [
                            0.5555555555555556,
                            "#d8576b"
                          ],
                          [
                            0.6666666666666666,
                            "#ed7953"
                          ],
                          [
                            0.7777777777777778,
                            "#fb9f3a"
                          ],
                          [
                            0.8888888888888888,
                            "#fdca26"
                          ],
                          [
                            1,
                            "#f0f921"
                          ]
                        ],
                        "type": "heatmap"
                      }
                    ],
                    "heatmapgl": [
                      {
                        "colorbar": {
                          "outlinewidth": 0,
                          "ticks": ""
                        },
                        "colorscale": [
                          [
                            0,
                            "#0d0887"
                          ],
                          [
                            0.1111111111111111,
                            "#46039f"
                          ],
                          [
                            0.2222222222222222,
                            "#7201a8"
                          ],
                          [
                            0.3333333333333333,
                            "#9c179e"
                          ],
                          [
                            0.4444444444444444,
                            "#bd3786"
                          ],
                          [
                            0.5555555555555556,
                            "#d8576b"
                          ],
                          [
                            0.6666666666666666,
                            "#ed7953"
                          ],
                          [
                            0.7777777777777778,
                            "#fb9f3a"
                          ],
                          [
                            0.8888888888888888,
                            "#fdca26"
                          ],
                          [
                            1,
                            "#f0f921"
                          ]
                        ],
                        "type": "heatmapgl"
                      }
                    ],
                    "histogram": [
                      {
                        "marker": {
                          "pattern": {
                            "fillmode": "overlay",
                            "size": 10,
                            "solidity": 0.2
                          }
                        },
                        "type": "histogram"
                      }
                    ],
                    "histogram2d": [
                      {
                        "colorbar": {
                          "outlinewidth": 0,
                          "ticks": ""
                        },
                        "colorscale": [
                          [
                            0,
                            "#0d0887"
                          ],
                          [
                            0.1111111111111111,
                            "#46039f"
                          ],
                          [
                            0.2222222222222222,
                            "#7201a8"
                          ],
                          [
                            0.3333333333333333,
                            "#9c179e"
                          ],
                          [
                            0.4444444444444444,
                            "#bd3786"
                          ],
                          [
                            0.5555555555555556,
                            "#d8576b"
                          ],
                          [
                            0.6666666666666666,
                            "#ed7953"
                          ],
                          [
                            0.7777777777777778,
                            "#fb9f3a"
                          ],
                          [
                            0.8888888888888888,
                            "#fdca26"
                          ],
                          [
                            1,
                            "#f0f921"
                          ]
                        ],
                        "type": "histogram2d"
                      }
                    ],
                    "histogram2dcontour": [
                      {
                        "colorbar": {
                          "outlinewidth": 0,
                          "ticks": ""
                        },
                        "colorscale": [
                          [
                            0,
                            "#0d0887"
                          ],
                          [
                            0.1111111111111111,
                            "#46039f"
                          ],
                          [
                            0.2222222222222222,
                            "#7201a8"
                          ],
                          [
                            0.3333333333333333,
                            "#9c179e"
                          ],
                          [
                            0.4444444444444444,
                            "#bd3786"
                          ],
                          [
                            0.5555555555555556,
                            "#d8576b"
                          ],
                          [
                            0.6666666666666666,
                            "#ed7953"
                          ],
                          [
                            0.7777777777777778,
                            "#fb9f3a"
                          ],
                          [
                            0.8888888888888888,
                            "#fdca26"
                          ],
                          [
                            1,
                            "#f0f921"
                          ]
                        ],
                        "type": "histogram2dcontour"
                      }
                    ],
                    "mesh3d": [
                      {
                        "colorbar": {
                          "outlinewidth": 0,
                          "ticks": ""
                        },
                        "type": "mesh3d"
                      }
                    ],
                    "parcoords": [
                      {
                        "line": {
                          "colorbar": {
                            "outlinewidth": 0,
                            "ticks": ""
                          }
                        },
                        "type": "parcoords"
                      }
                    ],
                    "pie": [
                      {
                        "automargin": true,
                        "type": "pie"
                      }
                    ],
                    "scatter": [
                      {
                        "marker": {
                          "colorbar": {
                            "outlinewidth": 0,
                            "ticks": ""
                          }
                        },
                        "type": "scatter"
                      }
                    ],
                    "scatter3d": [
                      {
                        "line": {
                          "colorbar": {
                            "outlinewidth": 0,
                            "ticks": ""
                          }
                        },
                        "marker": {
                          "colorbar": {
                            "outlinewidth": 0,
                            "ticks": ""
                          }
                        },
                        "type": "scatter3d"
                      }
                    ],
                    "scattercarpet": [
                      {
                        "marker": {
                          "colorbar": {
                            "outlinewidth": 0,
                            "ticks": ""
                          }
                        },
                        "type": "scattercarpet"
                      }
                    ],
                    "scattergeo": [
                      {
                        "marker": {
                          "colorbar": {
                            "outlinewidth": 0,
                            "ticks": ""
                          }
                        },
                        "type": "scattergeo"
                      }
                    ],
                    "scattergl": [
                      {
                        "marker": {
                          "colorbar": {
                            "outlinewidth": 0,
                            "ticks": ""
                          }
                        },
                        "type": "scattergl"
                      }
                    ],
                    "scattermapbox": [
                      {
                        "marker": {
                          "colorbar": {
                            "outlinewidth": 0,
                            "ticks": ""
                          }
                        },
                        "type": "scattermapbox"
                      }
                    ],
                    "scatterpolar": [
                      {
                        "marker": {
                          "colorbar": {
                            "outlinewidth": 0,
                            "ticks": ""
                          }
                        },
                        "type": "scatterpolar"
                      }
                    ],
                    "scatterpolargl": [
                      {
                        "marker": {
                          "colorbar": {
                            "outlinewidth": 0,
                            "ticks": ""
                          }
                        },
                        "type": "scatterpolargl"
                      }
                    ],
                    "scatterternary": [
                      {
                        "marker": {
                          "colorbar": {
                            "outlinewidth": 0,
                            "ticks": ""
                          }
                        },
                        "type": "scatterternary"
                      }
                    ],
                    "surface": [
                      {
                        "colorbar": {
                          "outlinewidth": 0,
                          "ticks": ""
                        },
                        "colorscale": [
                          [
                            0,
                            "#0d0887"
                          ],
                          [
                            0.1111111111111111,
                            "#46039f"
                          ],
                          [
                            0.2222222222222222,
                            "#7201a8"
                          ],
                          [
                            0.3333333333333333,
                            "#9c179e"
                          ],
                          [
                            0.4444444444444444,
                            "#bd3786"
                          ],
                          [
                            0.5555555555555556,
                            "#d8576b"
                          ],
                          [
                            0.6666666666666666,
                            "#ed7953"
                          ],
                          [
                            0.7777777777777778,
                            "#fb9f3a"
                          ],
                          [
                            0.8888888888888888,
                            "#fdca26"
                          ],
                          [
                            1,
                            "#f0f921"
                          ]
                        ],
                        "type": "surface"
                      }
                    ],
                    "table": [
                      {
                        "cells": {
                          "fill": {
                            "color": "#EBF0F8"
                          },
                          "line": {
                            "color": "white"
                          }
                        },
                        "header": {
                          "fill": {
                            "color": "#C8D4E3"
                          },
                          "line": {
                            "color": "white"
                          }
                        },
                        "type": "table"
                      }
                    ]
                  },
                  "layout": {
                    "annotationdefaults": {
                      "arrowcolor": "#2a3f5f",
                      "arrowhead": 0,
                      "arrowwidth": 1
                    },
                    "autotypenumbers": "strict",
                    "coloraxis": {
                      "colorbar": {
                        "outlinewidth": 0,
                        "ticks": ""
                      }
                    },
                    "colorscale": {
                      "diverging": [
                        [
                          0,
                          "#8e0152"
                        ],
                        [
                          0.1,
                          "#c51b7d"
                        ],
                        [
                          0.2,
                          "#de77ae"
                        ],
                        [
                          0.3,
                          "#f1b6da"
                        ],
                        [
                          0.4,
                          "#fde0ef"
                        ],
                        [
                          0.5,
                          "#f7f7f7"
                        ],
                        [
                          0.6,
                          "#e6f5d0"
                        ],
                        [
                          0.7,
                          "#b8e186"
                        ],
                        [
                          0.8,
                          "#7fbc41"
                        ],
                        [
                          0.9,
                          "#4d9221"
                        ],
                        [
                          1,
                          "#276419"
                        ]
                      ],
                      "sequential": [
                        [
                          0,
                          "#0d0887"
                        ],
                        [
                          0.1111111111111111,
                          "#46039f"
                        ],
                        [
                          0.2222222222222222,
                          "#7201a8"
                        ],
                        [
                          0.3333333333333333,
                          "#9c179e"
                        ],
                        [
                          0.4444444444444444,
                          "#bd3786"
                        ],
                        [
                          0.5555555555555556,
                          "#d8576b"
                        ],
                        [
                          0.6666666666666666,
                          "#ed7953"
                        ],
                        [
                          0.7777777777777778,
                          "#fb9f3a"
                        ],
                        [
                          0.8888888888888888,
                          "#fdca26"
                        ],
                        [
                          1,
                          "#f0f921"
                        ]
                      ],
                      "sequentialminus": [
                        [
                          0,
                          "#0d0887"
                        ],
                        [
                          0.1111111111111111,
                          "#46039f"
                        ],
                        [
                          0.2222222222222222,
                          "#7201a8"
                        ],
                        [
                          0.3333333333333333,
                          "#9c179e"
                        ],
                        [
                          0.4444444444444444,
                          "#bd3786"
                        ],
                        [
                          0.5555555555555556,
                          "#d8576b"
                        ],
                        [
                          0.6666666666666666,
                          "#ed7953"
                        ],
                        [
                          0.7777777777777778,
                          "#fb9f3a"
                        ],
                        [
                          0.8888888888888888,
                          "#fdca26"
                        ],
                        [
                          1,
                          "#f0f921"
                        ]
                      ]
                    },
                    "colorway": [
                      "#636efa",
                      "#EF553B",
                      "#00cc96",
                      "#ab63fa",
                      "#FFA15A",
                      "#19d3f3",
                      "#FF6692",
                      "#B6E880",
                      "#FF97FF",
                      "#FECB52"
                    ],
                    "font": {
                      "color": "#2a3f5f"
                    },
                    "geo": {
                      "bgcolor": "white",
                      "lakecolor": "white",
                      "landcolor": "#E5ECF6",
                      "showlakes": true,
                      "showland": true,
                      "subunitcolor": "white"
                    },
                    "hoverlabel": {
                      "align": "left"
                    },
                    "hovermode": "closest",
                    "mapbox": {
                      "style": "light"
                    },
                    "paper_bgcolor": "white",
                    "plot_bgcolor": "#E5ECF6",
                    "polar": {
                      "angularaxis": {
                        "gridcolor": "white",
                        "linecolor": "white",
                        "ticks": ""
                      },
                      "bgcolor": "#E5ECF6",
                      "radialaxis": {
                        "gridcolor": "white",
                        "linecolor": "white",
                        "ticks": ""
                      }
                    },
                    "scene": {
                      "xaxis": {
                        "backgroundcolor": "#E5ECF6",
                        "gridcolor": "white",
                        "gridwidth": 2,
                        "linecolor": "white",
                        "showbackground": true,
                        "ticks": "",
                        "zerolinecolor": "white"
                      },
                      "yaxis": {
                        "backgroundcolor": "#E5ECF6",
                        "gridcolor": "white",
                        "gridwidth": 2,
                        "linecolor": "white",
                        "showbackground": true,
                        "ticks": "",
                        "zerolinecolor": "white"
                      },
                      "zaxis": {
                        "backgroundcolor": "#E5ECF6",
                        "gridcolor": "white",
                        "gridwidth": 2,
                        "linecolor": "white",
                        "showbackground": true,
                        "ticks": "",
                        "zerolinecolor": "white"
                      }
                    },
                    "shapedefaults": {
                      "line": {
                        "color": "#2a3f5f"
                      }
                    },
                    "ternary": {
                      "aaxis": {
                        "gridcolor": "white",
                        "linecolor": "white",
                        "ticks": ""
                      },
                      "baxis": {
                        "gridcolor": "white",
                        "linecolor": "white",
                        "ticks": ""
                      },
                      "bgcolor": "#E5ECF6",
                      "caxis": {
                        "gridcolor": "white",
                        "linecolor": "white",
                        "ticks": ""
                      }
                    },
                    "title": {
                      "x": 0.05
                    },
                    "xaxis": {
                      "automargin": true,
                      "gridcolor": "white",
                      "linecolor": "white",
                      "ticks": "",
                      "title": {
                        "standoff": 15
                      },
                      "zerolinecolor": "white",
                      "zerolinewidth": 2
                    },
                    "yaxis": {
                      "automargin": true,
                      "gridcolor": "white",
                      "linecolor": "white",
                      "ticks": "",
                      "title": {
                        "standoff": 15
                      },
                      "zerolinecolor": "white",
                      "zerolinewidth": 2
                    }
                  }
                },
                "title": {
                  "text": "Température maximum relevée et prédiction de la température maximum"
                },
                "width": 800,
                "xaxis": {
                  "anchor": "y",
                  "domain": [
                    0,
                    0.94
                  ]
                },
                "yaxis": {
                  "anchor": "x",
                  "domain": [
                    0,
                    1
                  ],
                  "range": [
                    0,
                    40
                  ],
                  "side": "left",
                  "title": {
                    "text": "Température en °C"
                  }
                },
                "yaxis2": {
                  "anchor": "x",
                  "overlaying": "y",
                  "range": [
                    0,
                    40
                  ],
                  "side": "left",
                  "title": {
                    "text": "Température en °C"
                  }
                }
              }
            }
          },
          "metadata": {},
          "output_type": "display_data"
        }
      ],
      "source": [
        "#Your code here :\n",
        "trace1 = go.Scatter(\n",
        "    \n",
        "    x=df_weather[\"DATE\"],\n",
        "    y=df_weather[\"MAX_TEMPERATURE_C\"],\n",
        "        mode='markers',\n",
        "        name = \"Température maximum relevée\"\n",
        ")\n",
        "trace2 = go.Scatter(\n",
        "    x=df_weather[\"DATE\"],\n",
        "    y=df_weather[\"predict2\"],\n",
        "    mode='markers',\n",
        "    marker=dict(color='rgb(254,92,92)'),\n",
        "    name = \"Prédiction\"\n",
        "\n",
        ")\n",
        "\n",
        "fig = make_subplots(specs=[[{\"secondary_y\": True}]])\n",
        "fig.add_trace(trace1)\n",
        "fig.add_trace(trace2,secondary_y=True)\n",
        "\n",
        "\n",
        "fig.update_layout(height = 600, width = 800, title = \"Température maximum relevée et prédiction de la température maximum\")\n",
        "fig.update_yaxes(range=[0, 40], title=\"Température en °C\", side=\"left\")\n",
        "fig.show()"
      ]
    }
  ],
  "metadata": {
    "colab": {
      "collapsed_sections": [],
      "name": "1.1 ML - Simple linear regression (univariate) Berenger.ipynb",
      "provenance": []
    },
    "kernelspec": {
      "display_name": "Python 3",
      "name": "python3"
    },
    "language_info": {
      "codemirror_mode": {
        "name": "ipython",
        "version": 3
      },
      "file_extension": ".py",
      "mimetype": "text/x-python",
      "name": "python",
      "nbconvert_exporter": "python",
      "pygments_lexer": "ipython3",
      "version": "3.8.12"
    }
  },
  "nbformat": 4,
  "nbformat_minor": 0
}
