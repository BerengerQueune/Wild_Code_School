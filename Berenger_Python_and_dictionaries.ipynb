{
  "nbformat": 4,
  "nbformat_minor": 0,
  "metadata": {
    "colab": {
      "name": "Berenger Python and dictionaries.ipynb",
      "provenance": [],
      "collapsed_sections": [],
      "include_colab_link": true
    },
    "kernelspec": {
      "name": "python3",
      "display_name": "Python 3"
    }
  },
  "cells": [
    {
      "cell_type": "markdown",
      "metadata": {
        "id": "view-in-github",
        "colab_type": "text"
      },
      "source": [
        "<a href=\"https://colab.research.google.com/github/BerengerQueune/wild_notebooks/blob/main/Berenger_Python_and_dictionaries.ipynb\" target=\"_parent\"><img src=\"https://colab.research.google.com/assets/colab-badge.svg\" alt=\"Open In Colab\"/></a>"
      ]
    },
    {
      "cell_type": "markdown",
      "metadata": {
        "id": "LoJw-LlCTnWF"
      },
      "source": [
        "# Mission 1\n",
        "\n",
        "Below is a dictionary containing the number of French campuses that offer each kind of Wild Code School course.\n",
        "\n",
        "wildcodeschool = {\n",
        "   \"data_analyst\": 4,\n",
        "   \"data_scientist\": 2,\n",
        "   \"dev_web\": \"13\" \n",
        "}\n",
        "\n",
        "Find a way to only display the keys that have int values."
      ]
    },
    {
      "cell_type": "code",
      "metadata": {
        "id": "C2Lk113KSPUO",
        "colab": {
          "base_uri": "https://localhost:8080/"
        },
        "outputId": "b6194253-6cb6-4c88-9cfa-63e05e0b7ea4"
      },
      "source": [
        "wildcodeschool =\t{\n",
        "  \"data_analyst\": 8,\n",
        "  \"data_scientist\": 2,\n",
        "  \"business intelligence analyst\": 5,\n",
        "  \"dev_web\": \"13\"\n",
        "}\n",
        "\n",
        "for i in wildcodeschool:\n",
        "\tif isinstance((wildcodeschool[i]), int):\n",
        "\t\tprint (i)"
      ],
      "execution_count": null,
      "outputs": [
        {
          "output_type": "stream",
          "name": "stdout",
          "text": [
            "data_analyst\n",
            "data_scientist\n",
            "business intelligence analyst\n"
          ]
        }
      ]
    },
    {
      "cell_type": "code",
      "metadata": {
        "id": "i1T9MV2V3j5I"
      },
      "source": [
        ""
      ],
      "execution_count": null,
      "outputs": []
    },
    {
      "cell_type": "markdown",
      "metadata": {
        "id": "J3bsGIvAT049"
      },
      "source": [
        "# Mission 2\n",
        "\n",
        "For the same dictionary, find a way to display all the values that have a key that contains the letter \"e\"."
      ]
    },
    {
      "cell_type": "code",
      "metadata": {
        "id": "Fy1OmPSUXNaP",
        "colab": {
          "base_uri": "https://localhost:8080/"
        },
        "outputId": "45ebcca1-966e-4196-deec-d0d0f08cda04"
      },
      "source": [
        "wildcodeschool =\t{\n",
        "  \"data_analyst\": 8,\n",
        "  \"data_scientist\": 2,\n",
        "  \"business intelligence analyst\": 5,\n",
        "  \"dev_web\": \"13\"\n",
        "}\n",
        "\n",
        "for key, value in wildcodeschool.items():\n",
        "\tif 'e' in key:\n",
        "\t\tprint (value)"
      ],
      "execution_count": null,
      "outputs": [
        {
          "output_type": "stream",
          "name": "stdout",
          "text": [
            "2\n",
            "5\n",
            "13\n"
          ]
        }
      ]
    },
    {
      "cell_type": "markdown",
      "metadata": {
        "id": "dVl36lvlWLdV"
      },
      "source": [
        "# Mission 3\n",
        "\n",
        "Within the same dictionary, change the type of the value of the \"dev_web\" key to be an int. Then add a new key-value pair which will be \"total_campus\" > 19, using a **dictionary method**."
      ]
    },
    {
      "cell_type": "code",
      "metadata": {
        "id": "pN3_mD4YSPfb",
        "colab": {
          "base_uri": "https://localhost:8080/"
        },
        "outputId": "e2a366c1-3857-44ea-8a79-b64a3103c1d4"
      },
      "source": [
        "wildcodeschool =\t{\n",
        "  \"data_analyst\": 8,\n",
        "  \"data_scientist\": 2,\n",
        "  \"business intelligence analyst\": 5,\n",
        "  \"dev_web\": \"13\"\n",
        "}\n",
        "\n",
        "wildcodeschool[\"dev_web\"] = int(wildcodeschool[\"dev_web\"])\n",
        "wildcodeschool.setdefault(\"total_campus\", 19)\n",
        "\n",
        "\n",
        "print (wildcodeschool)\n",
        "\n"
      ],
      "execution_count": null,
      "outputs": [
        {
          "output_type": "stream",
          "name": "stdout",
          "text": [
            "{'data_analyst': 8, 'data_scientist': 2, 'business intelligence analyst': 5, 'dev_web': 13, 'total_campus': 19}\n"
          ]
        }
      ]
    },
    {
      "cell_type": "markdown",
      "metadata": {
        "id": "GCvpkWzXXPTf"
      },
      "source": [
        "# Mission 4\n",
        "\n",
        "Take the dictionary generated from mission 3. Delete any key value pair randomly, except for total_campus."
      ]
    },
    {
      "cell_type": "code",
      "metadata": {
        "id": "QjLMjogySPk_",
        "colab": {
          "base_uri": "https://localhost:8080/"
        },
        "outputId": "fbf7d819-ca9b-4d2b-ecc1-c620fd0e8d05"
      },
      "source": [
        "from itertools import islice\n",
        "from random import randrange\n",
        "\n",
        "wildcodeschool =\t{\n",
        "  \"data_analyst\": 8,\n",
        "  \"data_scientist\": 2,\n",
        "  \"business intelligence analyst\": 5,\n",
        "  \"dev_web\": 13,\n",
        "  \"total_campus\": 19\n",
        "}\n",
        "\n",
        "del wildcodeschool[next(islice(wildcodeschool, randrange(4), None))]\n",
        "\n",
        "print (wildcodeschool)"
      ],
      "execution_count": null,
      "outputs": [
        {
          "output_type": "stream",
          "name": "stdout",
          "text": [
            "{'data_analyst': 8, 'data_scientist': 2, 'dev_web': 13, 'total_campus': 19}\n"
          ]
        }
      ]
    },
    {
      "cell_type": "code",
      "metadata": {
        "id": "hMh9_0V3gsbQ"
      },
      "source": [
        "wildcodeschool =\t{\n",
        "  \"data_analyst\": 8,\n",
        "  \"data_scientist\": 2,\n",
        "  \"business intelligence analyst\": 5,\n",
        "  \"dev_web\": 13,\n",
        "  \"total_campus\": 19\n",
        "}"
      ],
      "execution_count": null,
      "outputs": []
    },
    {
      "cell_type": "markdown",
      "metadata": {
        "id": "V8ZS3aECXvuZ"
      },
      "source": [
        "# Mission 5\n",
        "\n",
        "Still within the dictionary generated from Mission 3, find a way to display the dictionary keys in alphabetical order."
      ]
    },
    {
      "cell_type": "code",
      "metadata": {
        "id": "ph_j97PoSPmU",
        "colab": {
          "base_uri": "https://localhost:8080/"
        },
        "outputId": "36216da3-eca4-4b0f-86ed-55fedd13c4bc"
      },
      "source": [
        "wildcodeschool =\t{\n",
        "  \"data_analyst\": 8,\n",
        "  \"data_scientist\": 2,\n",
        "  \"business intelligence analyst\": 5,\n",
        "  \"dev_web\": 13,\n",
        "  \"total_campus\": 19\n",
        "}\n",
        "\n",
        "print (sorted(wildcodeschool))\n"
      ],
      "execution_count": null,
      "outputs": [
        {
          "output_type": "stream",
          "name": "stdout",
          "text": [
            "['business intelligence analyst', 'data_analyst', 'data_scientist', 'dev_web', 'total_campus']\n"
          ]
        }
      ]
    },
    {
      "cell_type": "markdown",
      "metadata": {
        "id": "geMLdrvAYHKx"
      },
      "source": [
        "# Mission 6\n",
        "\n",
        "Create a script that returns the same output as the **values()** method."
      ]
    },
    {
      "cell_type": "code",
      "metadata": {
        "id": "1-cenx3RSPpq",
        "colab": {
          "base_uri": "https://localhost:8080/"
        },
        "outputId": "799af96e-c9bb-4623-95e4-7e8cad180411"
      },
      "source": [
        "wildcodeschool =\t{\n",
        "  \"data_analyst\": 8,\n",
        "  \"data_scientist\": 2,\n",
        "  \"business intelligence analyst\": 5,\n",
        "  \"dev_web\": 13,\n",
        "  \"total_campus\": 19\n",
        "}\n",
        "\n",
        "print (sorted(wildcodeschool.values()))"
      ],
      "execution_count": null,
      "outputs": [
        {
          "output_type": "stream",
          "name": "stdout",
          "text": [
            "[2, 5, 8, 13, 19]\n"
          ]
        }
      ]
    }
  ]
}