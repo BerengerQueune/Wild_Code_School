{
  "nbformat": 4,
  "nbformat_minor": 0,
  "metadata": {
    "colab": {
      "name": "02. Mathematics review with Numpy - Berenger.ipynb",
      "provenance": [],
      "collapsed_sections": []
    },
    "kernelspec": {
      "name": "python3",
      "display_name": "Python 3"
    }
  },
  "cells": [
    {
      "cell_type": "markdown",
      "metadata": {
        "id": "K7HOMJUBt5cD"
      },
      "source": [
        "# Mission 1"
      ]
    },
    {
      "cell_type": "markdown",
      "metadata": {
        "id": "6IqfpiNQujlE"
      },
      "source": [
        "Find a way to calculate the following statistical indicators for any given one-dimensional array using NumPy functions, and use them on a array filled with 20 random floats.\n",
        "- mode\n",
        "- median\n",
        "- average\n",
        "- the range (the difference between max and min)\n",
        "- standard deviation\n",
        "- variance\n",
        "- the different quantiles\n",
        "\n",
        "Then, create another array with 20 random floats and calculate the Pearson coefficient between the two arrays."
      ]
    },
    {
      "cell_type": "code",
      "metadata": {
        "id": "lSzKwJ2PyWyz",
        "colab": {
          "base_uri": "https://localhost:8080/"
        },
        "outputId": "1e3a1600-5191-4ada-f99a-63ebf8fb5194"
      },
      "source": [
        "import numpy as np\n",
        "\n",
        "array22 = np.random.random(20)\n",
        "print (array22, \"\\n\")\n",
        "\n",
        "value, count = np.unique(array22, return_counts= True)\n",
        "\n",
        "print (f\"Mode: {value[np.argmax(count)]}\")\n",
        "print (f\"Median: {np.median(array22)}\")\n",
        "print (f\"Average: {np.mean(array22)}\")\n",
        "max1 = np.amax(array22)\n",
        "min1 = np.amin(array22)\n",
        "print (f\"Range: {max1 - min1}\")\n",
        "print (f\"Standard deviation: {np.std(array22)}\")\n",
        "print (f\"Variance: {np.var(array22)}\")\n",
        "print (f\"Quartile 1: {np.quantile(array22, 0.25)}\")\n",
        "print (f\"Quartile 2: {np.quantile(array22, 0.5)}\")\n",
        "print (f\"Quartile 3: {np.quantile(array22, 0.75)}\")\n",
        "print (f\"Quartile 4: {np.quantile(array22, 1)}\")\n",
        "print (\"\\n\")\n",
        "\n",
        "array23 = np.random.random(20)\n",
        "print (array23, \"\\n\")\n",
        "\n",
        "print (np.corrcoef(array22, array23))\n"
      ],
      "execution_count": null,
      "outputs": [
        {
          "output_type": "stream",
          "name": "stdout",
          "text": [
            "[0.18399424 0.35388538 0.58806667 0.43195806 0.54138354 0.66747497\n",
            " 0.15839055 0.54409682 0.5509797  0.83981729 0.72602379 0.27026418\n",
            " 0.65050654 0.95573477 0.62211292 0.3310368  0.49075093 0.64499082\n",
            " 0.753649   0.92068785] \n",
            "\n",
            "Mode: 0.15839055395066792\n",
            "Median: 0.5695231866064002\n",
            "Average: 0.5612902411198472\n",
            "Range: 0.7973442133768815\n",
            "Standard deviation: 0.2196630614556285\n",
            "Variance: 0.048251860568059225\n",
            "Quartile 1: 0.41243988992782044\n",
            "Quartile 2: 0.5695231866064002\n",
            "Quartile 3: 0.6821121781287699\n",
            "Quartile 4: 0.9557347673275495\n",
            "\n",
            "\n",
            "[0.28544268 0.87166043 0.19149719 0.25233414 0.35911506 0.57679836\n",
            " 0.43789493 0.83100605 0.38931486 0.95641946 0.53235428 0.78641541\n",
            " 0.67215462 0.65885826 0.29959929 0.23036427 0.1384071  0.30403969\n",
            " 0.26149006 0.22139494] \n",
            "\n",
            "[[1.         0.09113544]\n",
            " [0.09113544 1.        ]]\n"
          ]
        }
      ]
    },
    {
      "cell_type": "markdown",
      "metadata": {
        "id": "dSPGdxdsy5sg"
      },
      "source": [
        "## Mission 2\n",
        "\n",
        "Create a function using NumPy that indicates the values (integers only), from -100 to 100, where the remainder from performing Euclidean division by both 3 and 7 is equal."
      ]
    },
    {
      "cell_type": "code",
      "metadata": {
        "id": "_6S3mTjiy5jT",
        "colab": {
          "base_uri": "https://localhost:8080/"
        },
        "outputId": "cbd70ad6-7e99-4fa1-8d5b-e5bed4ad54ff"
      },
      "source": [
        "def myfunctionarr():\n",
        "  newList = []\n",
        "  for i in range (-100, 101, 1):\n",
        "    if np.remainder(i, 3) == np.remainder(i, 7):\n",
        "      newList.append(i)\n",
        "  return newList\n",
        "\n",
        "myfunctionarr()"
      ],
      "execution_count": null,
      "outputs": [
        {
          "output_type": "execute_result",
          "data": {
            "text/plain": [
              "[-84,\n",
              " -83,\n",
              " -82,\n",
              " -63,\n",
              " -62,\n",
              " -61,\n",
              " -42,\n",
              " -41,\n",
              " -40,\n",
              " -21,\n",
              " -20,\n",
              " -19,\n",
              " 0,\n",
              " 1,\n",
              " 2,\n",
              " 21,\n",
              " 22,\n",
              " 23,\n",
              " 42,\n",
              " 43,\n",
              " 44,\n",
              " 63,\n",
              " 64,\n",
              " 65,\n",
              " 84,\n",
              " 85,\n",
              " 86]"
            ]
          },
          "metadata": {},
          "execution_count": 3
        }
      ]
    },
    {
      "cell_type": "markdown",
      "metadata": {
        "id": "Tr3pka4-0az7"
      },
      "source": [
        "## Mission 3\n",
        "\n",
        "Create a function that returns the [inverse value (for `3`, return `1/3`)](https://en.wikipedia.org/wiki/Multiplicative_inverse) of a set of values contained in a NumPy array"
      ]
    },
    {
      "cell_type": "code",
      "metadata": {
        "id": "m4qgMMqH0hSl",
        "colab": {
          "base_uri": "https://localhost:8080/"
        },
        "outputId": "5611bb02-35bd-468a-d97b-0fc441bb66d7"
      },
      "source": [
        "array21 = np.random.randint(1, 10, size = 20)\n",
        "print (array21)\n",
        "\n",
        "def anotherNewFunction():\n",
        "  return 1/array21\n",
        "\n",
        "anotherNewFunction()\n"
      ],
      "execution_count": null,
      "outputs": [
        {
          "output_type": "stream",
          "name": "stdout",
          "text": [
            "[4 6 7 3 5 2 1 5 2 9 3 9 7 5 9 5 9 3 6 6]\n"
          ]
        },
        {
          "output_type": "execute_result",
          "data": {
            "text/plain": [
              "array([0.25      , 0.16666667, 0.14285714, 0.33333333, 0.2       ,\n",
              "       0.5       , 1.        , 0.2       , 0.5       , 0.11111111,\n",
              "       0.33333333, 0.11111111, 0.14285714, 0.2       , 0.11111111,\n",
              "       0.2       , 0.11111111, 0.33333333, 0.16666667, 0.16666667])"
            ]
          },
          "metadata": {},
          "execution_count": 10
        }
      ]
    }
  ]
}