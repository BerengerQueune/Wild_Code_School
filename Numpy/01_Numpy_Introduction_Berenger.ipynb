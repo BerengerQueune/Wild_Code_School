{
  "nbformat": 4,
  "nbformat_minor": 0,
  "metadata": {
    "colab": {
      "name": "01. Numpy: Introduction - Berenger.ipynb",
      "provenance": [],
      "collapsed_sections": []
    },
    "kernelspec": {
      "name": "python3",
      "display_name": "Python 3"
    }
  },
  "cells": [
    {
      "cell_type": "markdown",
      "metadata": {
        "id": "s6odsFbLpgIh"
      },
      "source": [
        "# NumPy : Introduction\n",
        "\n",
        "**NumPy allows you to manipulate data in the form of an array.**\n",
        "\n",
        "**Complete the missions below using NumPy.**"
      ]
    },
    {
      "cell_type": "code",
      "metadata": {
        "id": "sXzBVR4imVvO",
        "colab": {
          "base_uri": "https://localhost:8080/"
        },
        "outputId": "7d379a36-f322-459c-ab17-9f8579ac5804"
      },
      "source": [
        "\n",
        "import numpy as np # Here we rename numpy as np, it's shorter, and everybody does that\n",
        "\n",
        "# Mission 1 : Display the version of NumPy you are running\n",
        "\n",
        "print(np.__version__)\n"
      ],
      "execution_count": null,
      "outputs": [
        {
          "output_type": "stream",
          "name": "stdout",
          "text": [
            "1.19.5\n"
          ]
        }
      ]
    },
    {
      "cell_type": "code",
      "metadata": {
        "id": "vQGzQgU-phGc",
        "colab": {
          "base_uri": "https://localhost:8080/"
        },
        "outputId": "ee9aabc3-34d6-4cb8-b767-52912a328f4b"
      },
      "source": [
        "# Mission 2 : Create a NumPy array with a length of 3, that contains this 3 floats: 0.8, 0.6, 0.4\n",
        "# Expected result: array([0.8, 0.6, 0.4])\n",
        "\n",
        "array10 = np.array([0.8, 0.6, 0.4])\n",
        "array10\n"
      ],
      "execution_count": null,
      "outputs": [
        {
          "output_type": "execute_result",
          "data": {
            "text/plain": [
              "array([0.8, 0.6, 0.4])"
            ]
          },
          "metadata": {},
          "execution_count": 3
        }
      ]
    },
    {
      "cell_type": "code",
      "metadata": {
        "id": "66-o1bXYqPC_",
        "colab": {
          "base_uri": "https://localhost:8080/"
        },
        "outputId": "2ea4ea29-e00f-4181-9245-5fc1e5322e36"
      },
      "source": [
        "# Mission 3 : Create a function that uses the np.random.random() function to return an array with 10 random elements, \n",
        "# all of which must be greater than 0.25 and less than 1.0\n",
        "\n",
        "# Example of expected result: array([0.3897948 , 0.82850041, 0.5499838 , 0.81940137, 0.92175875, 0.89634373, 0.26821861, 0.72376496, 1.21098623, 0.28192741])\n",
        "\n",
        "def my_Function():\n",
        "  array1 = []\n",
        "  for i in range (10):\n",
        "    a = np.random.random()\n",
        "    while a < 0.25:\n",
        "      a = np.random.random()\n",
        "    array1.append(a)\n",
        "\n",
        "  return np.array(array1)\n",
        "\n",
        "my_Function()\n",
        "\n",
        "\n"
      ],
      "execution_count": null,
      "outputs": [
        {
          "output_type": "execute_result",
          "data": {
            "text/plain": [
              "array([0.94397848, 0.51152668, 0.87265096, 0.56655145, 0.78858836,\n",
              "       0.60260977, 0.80819691, 0.68201896, 0.88895304, 0.79517181])"
            ]
          },
          "metadata": {},
          "execution_count": 12
        }
      ]
    },
    {
      "cell_type": "code",
      "metadata": {
        "id": "hx8Ck-neqRZe",
        "colab": {
          "base_uri": "https://localhost:8080/"
        },
        "outputId": "822a28cf-d8de-4d1f-b049-097f45c43223"
      },
      "source": [
        "# Mission 4 : What does the np.empty() method do? Don't just copy the documentation, explain in your own words here\n",
        "\n",
        "#As seen bellow np.empty creates an array of the desired sized containing arbitrary values\n",
        "array11 = np.empty(10) \n",
        "print (array11)\n",
        "print (\"-----------------------------------\")\n",
        "#it can also be used to create an array of a specific shape and datatype\n",
        "array13 = np.empty(shape = [3, 5], dtype = str)\n",
        "array13\n",
        "\n",
        "#The \"empty\" part means that the value returned are empty of any meaning"
      ],
      "execution_count": null,
      "outputs": [
        {
          "output_type": "stream",
          "name": "stdout",
          "text": [
            "[4.6311521 4.6311521 4.6311521 4.6311521 4.6311521 4.6311521 4.6311521\n",
            " 4.6311521 4.6311521 4.6311521]\n",
            "-----------------------------------\n"
          ]
        },
        {
          "output_type": "execute_result",
          "data": {
            "text/plain": [
              "array([['', '', '', '', ''],\n",
              "       ['', '', '', '', ''],\n",
              "       ['', '', '', '', '']], dtype='<U1')"
            ]
          },
          "metadata": {},
          "execution_count": 254
        }
      ]
    },
    {
      "cell_type": "code",
      "metadata": {
        "id": "q_BJsGjwqTQp",
        "colab": {
          "base_uri": "https://localhost:8080/"
        },
        "outputId": "204db412-0b9c-4cfb-c29b-14fea0f79e60"
      },
      "source": [
        "# Mission 5 : Create an array filled with only zeros. You can chose the length of this array.\n",
        "array15 = np.zeros(10)\n",
        "array15"
      ],
      "execution_count": null,
      "outputs": [
        {
          "output_type": "execute_result",
          "data": {
            "text/plain": [
              "array([0., 0., 0., 0., 0., 0., 0., 0., 0., 0.])"
            ]
          },
          "metadata": {},
          "execution_count": 256
        }
      ]
    },
    {
      "cell_type": "code",
      "metadata": {
        "id": "KhQZPyHhqUql",
        "colab": {
          "base_uri": "https://localhost:8080/"
        },
        "outputId": "89c7467e-0b91-4bf4-b503-ae6fb1beba71"
      },
      "source": [
        "# Mission 6 : Create an array filled with 10 random integers.\n",
        "\n",
        "array16 = np.random.randint(10, size=10)\n",
        "array16\n"
      ],
      "execution_count": null,
      "outputs": [
        {
          "output_type": "execute_result",
          "data": {
            "text/plain": [
              "array([7, 4, 0, 2, 9, 8, 1, 7, 6, 7])"
            ]
          },
          "metadata": {},
          "execution_count": 257
        }
      ]
    },
    {
      "cell_type": "code",
      "metadata": {
        "id": "v3vqX26BqWTo",
        "colab": {
          "base_uri": "https://localhost:8080/"
        },
        "outputId": "76d92a52-2abe-4bd5-dc3b-721508ce0cb6"
      },
      "source": [
        "# Mission 7 : Create an array that contains 50 values randomly selected only from these numbers: 0, 1, 2, 3, 4, 5, 6, 7.\n",
        "\n",
        "array17 = np.random.randint(8, size=50)\n",
        "array17"
      ],
      "execution_count": null,
      "outputs": [
        {
          "output_type": "execute_result",
          "data": {
            "text/plain": [
              "array([2, 3, 2, 2, 7, 3, 7, 4, 7, 3, 7, 4, 4, 0, 5, 0, 4, 4, 5, 4, 2, 4,\n",
              "       1, 3, 1, 2, 0, 2, 0, 5, 2, 4, 0, 7, 0, 3, 0, 2, 5, 5, 3, 1, 4, 7,\n",
              "       3, 0, 5, 0, 7, 7])"
            ]
          },
          "metadata": {},
          "execution_count": 259
        }
      ]
    },
    {
      "cell_type": "code",
      "metadata": {
        "id": "Hii5gz9BqZf9",
        "colab": {
          "base_uri": "https://localhost:8080/"
        },
        "outputId": "20e4dfae-c708-468b-9c6d-dddd942d4499"
      },
      "source": [
        "# Mission 8 : Use the slicing operator to return the items between position 3 and 6 inclusive, from the array in mission 6\n",
        "\n",
        "array16[2:6:]"
      ],
      "execution_count": null,
      "outputs": [
        {
          "output_type": "execute_result",
          "data": {
            "text/plain": [
              "array([2, 9, 8, 1])"
            ]
          },
          "metadata": {},
          "execution_count": 455
        }
      ]
    },
    {
      "cell_type": "code",
      "metadata": {
        "id": "lv-cIYMMqc0s",
        "colab": {
          "base_uri": "https://localhost:8080/"
        },
        "outputId": "1df49bab-ee6b-44e4-ff39-2afed7436106"
      },
      "source": [
        "# Mission 9 : Use the `argmin()` method to return the index of the smallest element in the array from mission 6\n",
        "\n",
        "np.argmin(array16)"
      ],
      "execution_count": null,
      "outputs": [
        {
          "output_type": "execute_result",
          "data": {
            "text/plain": [
              "2"
            ]
          },
          "metadata": {},
          "execution_count": 262
        }
      ]
    },
    {
      "cell_type": "code",
      "metadata": {
        "id": "OnXTuji0t46s",
        "colab": {
          "base_uri": "https://localhost:8080/"
        },
        "outputId": "ae61a3d0-fd4a-4272-ab33-6c860ed311d0"
      },
      "source": [
        "# Mission 10 : Using the `where()` method, return the indices of all the values in the array from mission 6 that are greater than their median value.\n",
        "\n",
        "np.where(array16 > np.mean(array16))"
      ],
      "execution_count": null,
      "outputs": [
        {
          "output_type": "execute_result",
          "data": {
            "text/plain": [
              "(array([0, 4, 5, 7, 8, 9]),)"
            ]
          },
          "metadata": {},
          "execution_count": 266
        }
      ]
    },
    {
      "cell_type": "code",
      "metadata": {
        "id": "Ljy8t0yvqha5",
        "colab": {
          "base_uri": "https://localhost:8080/"
        },
        "outputId": "82ca7baa-9088-4df8-8c89-a204942ad466"
      },
      "source": [
        "# Mission 11: Create 3 arrays filled with 5 random integers each, and place them in another array.\n",
        "# You have now an array with (3, 5) shape. You can use the `shape` attribute to check it.\n",
        "# Display the elements, with each column appearing on a different line (so there will be 5 lines with 3 values each)\n",
        "\n",
        "array18 = np.random.randint(10, size = 5)\n",
        "array19 = np.random.randint(10, size = 5)\n",
        "array20 = np.random.randint(10, size = 5)\n",
        "\n",
        "array21 = np.vstack([array18, array19, array20])\n",
        "print (array21)\n",
        "\n",
        "print (\"--------------------------\")\n",
        "\n",
        "emptyarry = np.empty([5,3], int)\n",
        "\n",
        "print (array21.transpose())\n",
        "\n",
        "\n",
        "\n",
        "\n"
      ],
      "execution_count": null,
      "outputs": [
        {
          "output_type": "stream",
          "name": "stdout",
          "text": [
            "[[9 6 5 3 6]\n",
            " [1 6 1 1 3]\n",
            " [8 3 8 7 8]]\n",
            "--------------------------\n",
            "[[9 1 8]\n",
            " [6 6 3]\n",
            " [5 1 8]\n",
            " [3 1 7]\n",
            " [6 3 8]]\n"
          ]
        }
      ]
    },
    {
      "cell_type": "code",
      "metadata": {
        "id": "orKA-brYjdeU"
      },
      "source": [
        ""
      ],
      "execution_count": null,
      "outputs": []
    },
    {
      "cell_type": "code",
      "metadata": {
        "id": "I-Ecqv-Gqigx",
        "colab": {
          "base_uri": "https://localhost:8080/"
        },
        "outputId": "8ae45b47-dbe3-4f50-8cc5-c23786be2381"
      },
      "source": [
        "# Mission 12: Create an array and fill it with 20 random float values.\n",
        "# Create a function that returns the smallest and largest value it contains, with their indexes!\n",
        "# You are allowed to use `min()` and `max()` methods.\n",
        "# Example with a shorter array: [300, 500, 1000, 700, 100, 600] -> (4, 100), (2, 1000)\n",
        "# Example with a shorter array: [80, 50, 90, -20, 100, 10] -> (3, -20), (4, 100)\n",
        "\n",
        "array22 = np.random.random(20)\n",
        "minValue = min(array22)\n",
        "maxValue = max(array22)\n",
        "\n",
        "index_Min_Value = np.argmin(array22)\n",
        "index_Max_Value = np.argmax(array22)\n",
        "print (array22)\n",
        "print (minValue, index_Min_Value)\n",
        "print (maxValue, index_Max_Value)\n",
        "\n"
      ],
      "execution_count": null,
      "outputs": [
        {
          "output_type": "stream",
          "name": "stdout",
          "text": [
            "[0.93933253 0.24305042 0.96199141 0.66623894 0.2003977  0.23681814\n",
            " 0.12956292 0.1338984  0.75209644 0.90754864 0.62590662 0.73449262\n",
            " 0.860038   0.22522831 0.64912425 0.86725159 0.88278931 0.38801116\n",
            " 0.35696843 0.06390642]\n",
            "0.063906421762296 19\n",
            "0.9619914136678878 2\n"
          ]
        }
      ]
    },
    {
      "cell_type": "code",
      "metadata": {
        "id": "6Q31D-P0qk14",
        "colab": {
          "base_uri": "https://localhost:8080/"
        },
        "outputId": "2e1577ed-1c82-45fe-a1b2-c0c0dd308636"
      },
      "source": [
        "# Mission 13: Create 2 arrays, randomly fill them with 20 int values between 0 and 10.\n",
        "# Create a function that will go through each array using a for loop.\n",
        "# At each iteration of the loop the function should compare the values of the 2 arrays located at the same index position.\n",
        "# Return all indices where the values of the 2 arrays happen to be equal, in a list.\n",
        "# If no values are equal at the same indices across the 2 arrays, that list will be empty.\n",
        "# Example with shorter arrays: [1, 3, 5, 7] & [2, 3, 5, 8] -> [1, 2]\n",
        "# Example with shorter arrays: [1, 1, 1, 1] & [1, 2, 3, 4] -> [0]\n",
        "\n",
        "array23 = np.random.randint(10, size = 20)\n",
        "array24 = np.random.randint(10, size = 20)\n",
        "print (array23)\n",
        "print (array24)\n",
        "\n",
        "def new_my_function():\n",
        "  newList = []\n",
        "  for i in range (array23.shape[0]):\n",
        "    if array23[i] == array24[i]:\n",
        "      newList.append(i)\n",
        "  return newList\n",
        "\n",
        "new_my_function()\n",
        "\n"
      ],
      "execution_count": null,
      "outputs": [
        {
          "output_type": "stream",
          "name": "stdout",
          "text": [
            "[6 2 4 1 1 0 1 8 5 6 3 3 8 4 6 9 8 0 6 9]\n",
            "[4 4 9 3 0 0 4 6 9 3 4 4 9 0 3 7 1 3 1 6]\n"
          ]
        },
        {
          "output_type": "execute_result",
          "data": {
            "text/plain": [
              "[5]"
            ]
          },
          "metadata": {},
          "execution_count": 454
        }
      ]
    },
    {
      "cell_type": "code",
      "metadata": {
        "id": "ZXuj-bFN_lcZ",
        "colab": {
          "base_uri": "https://localhost:8080/"
        },
        "outputId": "358497ea-a3d1-4d80-9b82-0cc3607e0e92"
      },
      "source": [
        "# Mission 14: now, just compare both arrays of mission 13 with this command (change the name of arrays): array1 == array2\n",
        "\n",
        "array23 == array24"
      ],
      "execution_count": null,
      "outputs": [
        {
          "output_type": "execute_result",
          "data": {
            "text/plain": [
              "array([False, False, False, False, False,  True, False,  True, False,\n",
              "       False, False, False, False, False, False, False, False, False,\n",
              "       False, False])"
            ]
          },
          "metadata": {},
          "execution_count": 449
        }
      ]
    }
  ]
}