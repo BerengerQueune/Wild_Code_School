{
  "nbformat": 4,
  "nbformat_minor": 0,
  "metadata": {
    "colab": {
      "name": "03. Monty Hall - Berenger",
      "provenance": [],
      "collapsed_sections": []
    },
    "kernelspec": {
      "name": "python3",
      "display_name": "Python 3"
    }
  },
  "cells": [
    {
      "cell_type": "markdown",
      "metadata": {
        "id": "s6odsFbLpgIh"
      },
      "source": [
        "# Monty Hall\n",
        "\n",
        "**Below is an example of an implementation of the Monty Hall game using native Python. It contains no comments.**"
      ]
    },
    {
      "cell_type": "markdown",
      "metadata": {
        "id": "QAqgGziZPsIZ"
      },
      "source": [
        "## Mission 1\n",
        "\n",
        "After reviewing the code below, add both **unilinear** and **multilinear** comments to explain how it works to another developer."
      ]
    },
    {
      "cell_type": "code",
      "metadata": {
        "id": "0dL7B4XiO1ft",
        "colab": {
          "base_uri": "https://localhost:8080/",
          "height": 269
        },
        "outputId": "394243c5-8ad7-4d15-fe4e-609391bc2985"
      },
      "source": [
        "#Import matplotlib to display visualization\n",
        "import matplotlib.pyplot as plt\n",
        "#Import random to use choice() in order to select a random door each time\n",
        "from random import choice\n",
        "\n",
        "#Initiate a function that plays one game\n",
        "def play_one_game(strategy):\n",
        "#Create a doors variable containing 3 values\n",
        "  doors = ['A', 'B', 'C']\n",
        "#This make the correct door a random one between all the values within the variable \"doors\"\n",
        "  correct_door = choice(doors)\n",
        "#This make the first choice random as previously done for the correct door\n",
        "  first_choice = choice(doors)\n",
        "#This remove the door randomly picked as first choice from the variable doors\n",
        "  doors.remove(first_choice)\n",
        "\n",
        "#True is always true so this while loop will run forever until the break happens\n",
        "#This loop first choose the hint door randomly and removes the door in case it is not the correct door, then it breaks the loop\n",
        "  while True:\n",
        "    hint_door = choice(doors)\n",
        "    if hint_door != correct_door:\n",
        "      doors.remove(hint_door)\n",
        "      break\n",
        "\n",
        "#If the strategy is \"change\", it selects a new door randomly since the first choice has been removed from the list \n",
        "#and one of the other door as been removed as the hint door, there is only one door left so it changes the door\n",
        "\n",
        "#If the strategy is \"keep\", it does not select a new door, and if the strategy is something else, it raises an error stating the strategy is not recognized\n",
        "\n",
        "  if strategy.lower() == \"change\":\n",
        "      second_choice = choice(doors)\n",
        "  elif strategy.lower() == \"keep\":\n",
        "      second_choice = first_choice\n",
        "  else:\n",
        "      raise ValueError(\"Strategy not recognized!\")\n",
        "  \n",
        "  return second_choice == correct_door\n",
        "\n",
        "#This function is used to select a strategy and plays it as much as requested depending of the value of the arguments in position \"nb_turns\"\n",
        "def play_many_games(strategy, nb_turns):\n",
        "    return list(1 if play_one_game(strategy) else 0 for i in range(nb_turns))\n",
        "\n",
        "#This is the code used to display the visualization\n",
        "plot = plt.bar([1, 2],\n",
        "               [sum(play_many_games(\"change\", 10000)), sum(play_many_games(\"keep\", 10000))], \n",
        "               tick_label=[\"Change\", \"Keep\"])"
      ],
      "execution_count": null,
      "outputs": [
        {
          "output_type": "display_data",
          "data": {
            "image/png": "[encoded data removed]",
            "text/plain": [
              "<Figure size 432x288 with 1 Axes>"
            ]
          },
          "metadata": {
            "needs_background": "light"
          }
        }
      ]
    },
    {
      "cell_type": "markdown",
      "metadata": {
        "id": "s6tnYwdRsA8V"
      },
      "source": [
        "# Mission 2\n",
        "\n",
        "To make sure you understood the code, in a new cell, change up the code in mission 1 to add a third bar, corresponding to a new strategy called **Alternate**. \n",
        "\n",
        "A player following it will alternate **randomly** between \"Change\" and \"Keep\"."
      ]
    },
    {
      "cell_type": "code",
      "metadata": {
        "colab": {
          "base_uri": "https://localhost:8080/",
          "height": 268
        },
        "id": "JONzNFkssMZ-",
        "outputId": "6c742991-816d-44ef-fbcf-4ee16730d671"
      },
      "source": [
        "import matplotlib.pyplot as plt\n",
        "from random import choice\n",
        "\n",
        "\n",
        "def play_one_game(strategy):\n",
        "  var1 = 2\n",
        "  doors = ['A', 'B', 'C']\n",
        "  correct_door = choice(doors)\n",
        "  \n",
        "  first_choice = choice(doors)\n",
        "  doors.remove(first_choice)\n",
        "\n",
        "  while True:\n",
        "    hint_door = choice(doors)\n",
        "    if hint_door != correct_door:\n",
        "      doors.remove(hint_door)\n",
        "      break\n",
        "      \n",
        "  if strategy == \"alternate\":\n",
        "    strategy = choice([\"change\", \"keep\"])\n",
        "  if strategy == \"change\":\n",
        "      second_choice = choice(doors)\n",
        "  elif strategy == \"keep\":\n",
        "      second_choice = first_choice\n",
        "\n",
        "      \n",
        "  else:\n",
        "      raise ValueError(\"Strategy not recognized!\")\n",
        "  \n",
        "  return second_choice == correct_door\n",
        "\n",
        "\n",
        "def play_many_games(strategy, nb_turns):\n",
        "    return list(1 if play_one_game(strategy) else 0 for i in range(nb_turns))\n",
        "\n",
        "\n",
        "plot = plt.bar([1, 2, 3],\n",
        "               [sum(play_many_games(\"change\", 10000)), sum(play_many_games(\"keep\", 10000)), sum(play_many_games(\"alternate\", 10000))], \n",
        "               tick_label=[\"change\", \"keep\", \"alternate\"])"
      ],
      "execution_count": null,
      "outputs": [
        {
          "output_type": "display_data",
          "data": {
            "image/png": "[encoded data removed]",
            "text/plain": [
              "<Figure size 432x288 with 1 Axes>"
            ]
          },
          "metadata": {
            "needs_background": "light"
          }
        }
      ]
    },
    {
      "cell_type": "markdown",
      "metadata": {
        "id": "VPjKxsbQQbbx"
      },
      "source": [
        "# Mission 3\n",
        "\n",
        "Now, re-code the Monty Hall game using NumPy. **Do not use Python lists, the built-in `random` module, or any for or while loops in the code**. NumPy contains all the mechanisms you need to achieve the same result.\n",
        "\n",
        "Finally, combine the 2 functions, `play_one_game` and `play_many_games`. In other words, **your NumPy program should now contain only one function**. Obviously, **the visual should be the same as in mission 2**."
      ]
    },
    {
      "cell_type": "code",
      "metadata": {
        "colab": {
          "base_uri": "https://localhost:8080/",
          "height": 265
        },
        "id": "D2VqC8xKKKUr",
        "outputId": "77c941bd-45e1-4caf-9292-8bcf676ff3ba"
      },
      "source": [
        "import matplotlib.pyplot as plt\n",
        "import numpy as np\n",
        "\n",
        "def play_many_games(strategy, nb_turns):\n",
        "  \n",
        "  doors = np.array(['A', 'B', 'C'])\n",
        "\n",
        "  correct_door = np.random.choice(doors, nb_turns)\n",
        "  first_choice = np.random.choice(doors, nb_turns)\n",
        "#we don't need to mention the hint_door because it will always be revealed anyway\n",
        "#we win when we keep if we picked the correct door and we win when we change if we picked the wrong door\n",
        "\n",
        "  if strategy == \"alternate\":\n",
        "    var2 = np.random.choice([\"keep\",\"change\"], nb_turns)\n",
        "    #win variable check the variable var2: if \"change\" is found and the first_choice is not the correct_door, it adds 1 which is a win\n",
        "    #then if \"change\" is not found it checks if first_choice is the correct_door, if yes, it adds 1\n",
        "    win = np.sum(np.where(var2 == \"change\", first_choice != correct_door, first_choice == correct_door))\n",
        "  elif strategy == \"change\":\n",
        "      win = np.sum((correct_door != first_choice)) \n",
        "  elif strategy == \"keep\":\n",
        "      win = np.sum((correct_door == first_choice))\n",
        "\n",
        "\n",
        "\n",
        "  return win\n",
        "\n",
        "\n",
        "plot = plt.bar([1, 2, 3],\n",
        "               [play_many_games(\"change\", 10000), play_many_games(\"keep\", 10000), play_many_games(\"alternate\", 10000)], \n",
        "               tick_label=[\"change\", \"keep\", \"alternate\"])"
      ],
      "execution_count": null,
      "outputs": [
        {
          "output_type": "display_data",
          "data": {
            "image/png": "[encoded data removed]",
            "text/plain": [
              "<Figure size 432x288 with 1 Axes>"
            ]
          },
          "metadata": {
            "needs_background": "light"
          }
        }
      ]
    }
  ]
}